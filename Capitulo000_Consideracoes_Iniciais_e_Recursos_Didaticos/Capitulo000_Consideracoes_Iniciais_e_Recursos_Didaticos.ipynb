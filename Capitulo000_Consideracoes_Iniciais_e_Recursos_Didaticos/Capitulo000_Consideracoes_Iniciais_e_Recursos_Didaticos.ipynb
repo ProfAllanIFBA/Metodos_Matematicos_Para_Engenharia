{
 "cells": [
  {
   "cell_type": "markdown",
   "id": "d4ea28a8",
   "metadata": {
    "slideshow": {
     "slide_type": "slide"
    }
   },
   "source": [
    "<center> <img src=\"logo_ifba.jpg\" alt=\"jpg_python\" width=\"100\" height=\"200\"> </center>\n",
    "<br><br>\n",
    "<div align=\"center\"><span style=\"font-size: 26px;\"><strong>Métodos Matemáticos Para Engenharia <br></strong></span></div> <br>\n",
    "<center> <img src=\"python_gif.gif\" alt=\"gif_python\" width=\"80\"> </center>\n"
   ]
  },
  {
   "cell_type": "markdown",
   "id": "d76184a7",
   "metadata": {
    "slideshow": {
     "slide_type": "slide"
    }
   },
   "source": [
    "<div style=\"border: 2px solid black; padding: 10px; width: 95%; background-color: lightgray; display: flex; align-items: center;\">\n",
    "    <h1 style=\"color: red; text-align: center; margin: auto;\">\n",
    "        Considerações Iniciais e Recursos Didáticos\n",
    "    </h1>\n",
    "</div>\n",
    "\n",
    "<font color='red'></font>\n",
    "<a href=\"\"></a>"
   ]
  },
  {
   "cell_type": "markdown",
   "id": "09c297b8",
   "metadata": {
    "heading_collapsed": true
   },
   "source": [
    "#### Materiais da Disciplina"
   ]
  },
  {
   "cell_type": "markdown",
   "id": "7ade3c9e",
   "metadata": {
    "hidden": true
   },
   "source": [
    "[**Colab**: Métodos Matemáticos Para Engenharias](https://colab.research.google.com/github/ProfAllanIFBA/Metodos_Matematicos_Para_Engenharia)"
   ]
  },
  {
   "cell_type": "markdown",
   "id": "f9dd3ffd",
   "metadata": {
    "hidden": true
   },
   "source": [
    "[**GitHub**: Métodos Matemáticos Para Engenharias](https://github.com/ProfAllanIFBA/Metodos_Matematicos_Para_Engenharia)"
   ]
  },
  {
   "cell_type": "markdown",
   "id": "d4c961ce",
   "metadata": {
    "hidden": true
   },
   "source": [
    "[**YouTube**: Métodos Matemáticos Para Engeharias](https://youtube.com/playlist?list=PL8aWdrmfXHiKcBsOZx_IS-o6FnuMCmmCd&si=ZYxUPKsdqsb5GpFS)"
   ]
  },
  {
   "cell_type": "markdown",
   "id": "4688861f",
   "metadata": {
    "heading_collapsed": true
   },
   "source": [
    "#### Materiais de Suporte"
   ]
  },
  {
   "cell_type": "markdown",
   "id": "cfe74129",
   "metadata": {
    "hidden": true
   },
   "source": [
    "[**Colab**: Curso Python Com Jupyter Notebook](https://colab.research.google.com/github/ProfAllanIFBA/Curso_Python_Com_Jupyter_Notebook)"
   ]
  },
  {
   "cell_type": "markdown",
   "id": "1736b5bd",
   "metadata": {
    "hidden": true
   },
   "source": [
    "[**YouTube**: Curso Python Com Jupyter Notebook](https://youtube.com/playlist?list=PL8aWdrmfXHiJqBB9ABjRunAiPItBbd_FX&si=aRKEjSv-80SMYTNC)"
   ]
  }
 ],
 "metadata": {
  "kernelspec": {
   "display_name": "Python 3 (ipykernel)",
   "language": "python",
   "name": "python3"
  },
  "language_info": {
   "codemirror_mode": {
    "name": "ipython",
    "version": 3
   },
   "file_extension": ".py",
   "mimetype": "text/x-python",
   "name": "python",
   "nbconvert_exporter": "python",
   "pygments_lexer": "ipython3",
   "version": "3.11.5"
  },
  "varInspector": {
   "cols": {
    "lenName": 16,
    "lenType": 16,
    "lenVar": 40
   },
   "kernels_config": {
    "python": {
     "delete_cmd_postfix": "",
     "delete_cmd_prefix": "del ",
     "library": "var_list.py",
     "varRefreshCmd": "print(var_dic_list())"
    },
    "r": {
     "delete_cmd_postfix": ") ",
     "delete_cmd_prefix": "rm(",
     "library": "var_list.r",
     "varRefreshCmd": "cat(var_dic_list()) "
    }
   },
   "types_to_exclude": [
    "module",
    "function",
    "builtin_function_or_method",
    "instance",
    "_Feature"
   ],
   "window_display": false
  }
 },
 "nbformat": 4,
 "nbformat_minor": 5
}

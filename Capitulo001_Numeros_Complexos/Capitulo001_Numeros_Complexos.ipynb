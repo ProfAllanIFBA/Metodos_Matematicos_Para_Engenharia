{
 "cells": [
  {
   "cell_type": "markdown",
   "id": "d4ea28a8",
   "metadata": {
    "slideshow": {
     "slide_type": "slide"
    }
   },
   "source": [
    "<center> <img src=\"logo_ifba.jpg\" alt=\"jpg_python\" width=\"100\" height=\"200\"> </center>\n",
    "<br><br>\n",
    "<div align=\"center\"><span style=\"font-size: 26px;\"><strong>Métodos Matemáticos Para Engenharia <br></strong></span></div> <br>\n",
    "<center> <img src=\"python_gif.gif\" alt=\"gif_python\" width=\"80\"> </center>\n"
   ]
  },
  {
   "cell_type": "markdown",
   "id": "d76184a7",
   "metadata": {
    "slideshow": {
     "slide_type": "slide"
    }
   },
   "source": [
    "<div style=\"border: 2px solid black; padding: 10px; width: 95%; background-color: lightgray; display: flex; align-items: center;\">\n",
    "    <h1 style=\"color: red; text-align: center; margin: auto;\">\n",
    "        Capítulo 1: Números Complexos\n",
    "    </h1>\n",
    "</div>\n",
    "\n",
    "<font color='red'></font>\n",
    "<a href=\"\"></a>"
   ]
  },
  {
   "cell_type": "markdown",
   "id": "7142d16f",
   "metadata": {},
   "source": [
    "Este capítulo apresenta conceitos fundamentais sobre números complexos, concentrando-se em suas propriedades, representação e manipulações."
   ]
  },
  {
   "cell_type": "markdown",
   "id": "b07317db",
   "metadata": {},
   "source": [
    "# <div style=\"margin-top: -20px;\">\n",
    "<hr style=\"border: 2px solid black;\">\n",
    "\n",
    "<font color='black'><span style=\"font-size: 22px;\"><strong>1.1 Número Complexo e Representações</strong></span></font>\n",
    "\n",
    "<hr style=\"border: 2px solid black;\">\n",
    "</div>"
   ]
  },
  {
   "cell_type": "markdown",
   "id": "fe2d9da3",
   "metadata": {},
   "source": [
    "#### Raízes (Complexas) de Um Polinômio"
   ]
  },
  {
   "cell_type": "markdown",
   "id": "a93559a7",
   "metadata": {},
   "source": [
    "<a id=\"1\"></a> <a id=\"(1)\"></a> Considere a seguinte equação quadrática:\n",
    "\n",
    "$$z^{2} - 4z + 5 = 0 \\tag{1}$$\n",
    "\n",
    "Por tratar-se de uma equação polinomial de grau $2$ esta possui exatamente duas raízes, conforme o **Teorema 2** (Teorema Fundamental da Álgebra). Podemos, portanto, escrever $(1)$ como:\n",
    "\n",
    "$$(z-z_{1})(z-z_{2}) = 0 \\tag{2}$$\n",
    "\n",
    "em que $z_{1}$ e $z_{2}$ são suas soluções.\n",
    "\n",
    "Resolvendo $(1)$, temos:\n",
    "\n",
    "$$\\Delta = (-4)^{2} - 4 \\cdot 1 \\cdot 5 = - 4 \\Rightarrow z = \\frac{-(-4) \\pm \\sqrt{-4}}{2\\cdot1} \\Rightarrow$$\n",
    "$$\\Rightarrow z_{1} = 2 \\pm \\frac{\\sqrt{-4}}{2} = 2 \\pm \\frac{2\\sqrt{-1}}{2} = 2 \\pm \\sqrt{-1}\\tag{3} $$\n",
    "\n",
    "Por convenção $\\sqrt{-1} = i$ donde podemos reescrever as soluções obtidas em $(3)$ como $z_{1} = 2 - i \\ \\text{e} \\ z_{2} = 2 + i$.\n",
    "\n",
    "O fato de $(1)$ não ter solução real é facilmente vista no gráfico a seguir:<br><br>\n",
    "\n",
    "<center> <img src=\"fig1_1.png\" alt=\"png_python\" width=\"400\"> </center>"
   ]
  },
  {
   "cell_type": "markdown",
   "id": "0d538657",
   "metadata": {},
   "source": [
    "#### Representação Algébrica de Um Número Complexo"
   ]
  },
  {
   "cell_type": "markdown",
   "id": "b0517b17",
   "metadata": {},
   "source": [
    "A escolha do símbolo $z$ para a variável quadrática foi intencional. Normalmente, um número complexo é representado por $z$, que é definido como a soma de uma parte real $x$ com $i$ vezes uma parte imaginária $y$, isto é, \n",
    "\n",
    "<font color='red'>$$z = x + i y \\tag{4}$$</font>\n",
    "\n",
    "em que $i$ representa a raiz quadrada de $-1$. As partes real e imaginária são comumente indicadas por <font color='red'>Re $z$</font> e <font color='red'>Im $z$</font>, respectivamente.\n",
    "\n",
    "Em particular, para a equação $z^{2} - 4z + 5 = 0$, que tem solução $z_{1} = 2 - i$ e $z_{2} = 2 + i$, temos $x = 2$ e $y = \\pm 1$."
   ]
  },
  {
   "cell_type": "markdown",
   "id": "c23c1828",
   "metadata": {},
   "source": [
    "#### Representação Compacta de Um Número Complexo"
   ]
  },
  {
   "cell_type": "markdown",
   "id": "15dddb4b",
   "metadata": {},
   "source": [
    "Em certas situações podemos recorrer à forma compacta para representarmos um número complexo:\n",
    "\n",
    "<font color='red'>$$z = (x,y) \\tag{5}$$</font>\n",
    "\n",
    "Em particular, para a equação $z^{2} - 4z + 5 = 0$, temos que $z_{1} = (2,1)$ e $z_{2} = (2,-1)$ são suas soluções.\n",
    "\n",
    "No Python, podemos inserir um número complexo da seguinte forma:"
   ]
  },
  {
   "cell_type": "code",
   "execution_count": null,
   "id": "9da264a3",
   "metadata": {},
   "outputs": [],
   "source": [
    "# Número complexo\n",
    "z = complex(2,1)\n",
    "\n",
    "# Imprimindo z\n",
    "print(z)"
   ]
  },
  {
   "cell_type": "markdown",
   "id": "c5ad34a3",
   "metadata": {},
   "source": [
    "Observe que o Python usa a letra 'j' ao invés da letra 'i' para representar a parte imaginária de um número complexo. O uso da letra j ao invés da letra i é comum entre os físicos ao abordar números complexos."
   ]
  },
  {
   "cell_type": "code",
   "execution_count": null,
   "id": "c3e17325",
   "metadata": {},
   "outputs": [],
   "source": [
    "# Parte real de z\n",
    "print(z.real)\n",
    "\n",
    "# Parte imaginária de z\n",
    "print(z.imag)"
   ]
  },
  {
   "cell_type": "markdown",
   "id": "65ec9043",
   "metadata": {},
   "source": [
    "#### Representação Cartesiana de Um Número Complexo"
   ]
  },
  {
   "cell_type": "markdown",
   "id": "d0c8436d",
   "metadata": {},
   "source": [
    "Tomar um número complexo como $z = x + iy$ ou $z = (x,y)$ nos permite observar um número complexo em coordenadas cartesianas conforme a figura a seguir:<br><br>\n",
    "\n",
    "<center> <img src=\"fig1_2.png\" alt=\"png_python\" width=\"300\"> </center>\n",
    "\n",
    "Em particular, as soluções de $z^{2} - 4z + 5 = 0$, $z_{1} = (2,1)$ e $z_{2} = (2,-1)$ pertencem ao primeiro e quarto quadrantes respectivamente."
   ]
  },
  {
   "cell_type": "code",
   "execution_count": null,
   "id": "dda21954",
   "metadata": {},
   "outputs": [],
   "source": [
    "import matplotlib.pyplot as plt\n",
    "\n",
    "# Números complexos\n",
    "z1 = complex(2, 1)\n",
    "z2 = complex(2, -1)\n",
    "\n",
    "# Configurando o tamanho da figura\n",
    "plt.figure(figsize=(5, 5))\n",
    "\n",
    "# Eixos Real e Imaginário\n",
    "plt.axhline(0, color='k', linewidth=1)\n",
    "plt.axvline(0, color='k', linewidth=1)\n",
    "\n",
    "# Plotando z1 e z2\n",
    "plt.plot([z1.real, z2.real], [z1.imag, z2.imag], 'o', color='blue')\n",
    "\n",
    "# Definindo limites dos eixos\n",
    "plt.xlim(-4, 5)\n",
    "plt.ylim(-2, 2)\n",
    "\n",
    "# Mostrando o gráfico\n",
    "plt.show()"
   ]
  },
  {
   "cell_type": "markdown",
   "id": "ecedbb42",
   "metadata": {},
   "source": [
    "É possível incrementar nosso gráfico acrescentando legendas, eixos, grades, rótulos do eixos etc."
   ]
  },
  {
   "cell_type": "code",
   "execution_count": null,
   "id": "249c28ad",
   "metadata": {},
   "outputs": [],
   "source": [
    "import matplotlib.pyplot as plt\n",
    "\n",
    "# Números complexos\n",
    "z1 = complex(2, 1)\n",
    "z2 = complex(2, -1)\n",
    "\n",
    "# Inicializando a figura com um tamanho específico\n",
    "plt.figure(figsize=(5, 5))\n",
    "\n",
    "# Plotando z1 e z2\n",
    "plt.plot(z1.real, z1.imag, 'o', color='blue', label='$z_1 = 2 + i$')\n",
    "plt.plot(z2.real, z2.imag, 'o', color='red', label='$z_2 = 2 - i$')\n",
    "\n",
    "# Eixos Real e Imaginário\n",
    "plt.axhline(0, color='k', linewidth=1)\n",
    "plt.axvline(0, color='k', linewidth=1)\n",
    "\n",
    "# Grade\n",
    "plt.grid(color='gray', linestyle='--', linewidth=0.5)\n",
    "\n",
    "# Definindo limites dos eixos\n",
    "plt.xlim(-1, 5)\n",
    "plt.ylim(-2, 2)\n",
    "\n",
    "# Rótulos dos Eixos\n",
    "plt.xlabel('Re')\n",
    "plt.ylabel('Im')\n",
    "\n",
    "# Adicionando legenda\n",
    "plt.legend()\n",
    "\n",
    "# Mostrando o gráfico\n",
    "plt.show()"
   ]
  },
  {
   "cell_type": "markdown",
   "id": "73fa3076",
   "metadata": {},
   "source": [
    "# <div style=\"margin-top: -20px;\">\n",
    "<hr style=\"border: 2px solid black;\">\n",
    "\n",
    "<font color='black'><span style=\"font-size: 22px;\"><strong>1.2 Operações e Manipulações Com Números Complexos na Forma Cartesiana</strong></span></font>\n",
    "\n",
    "<hr style=\"border: 2px solid black;\">\n",
    "</div>"
   ]
  },
  {
   "cell_type": "markdown",
   "id": "8e35e6f1",
   "metadata": {},
   "source": [
    "Apresentaremos nesta seção algumas operações e manipulações envolvendo números complexos. Buscaremos, sempre que possível apresentar a interpretação geométrica."
   ]
  },
  {
   "cell_type": "markdown",
   "id": "7371a176",
   "metadata": {},
   "source": [
    "#### Soma e Subtração de Números Complexos"
   ]
  },
  {
   "cell_type": "markdown",
   "id": "f8b61878",
   "metadata": {},
   "source": [
    "A soma/subtação de dois números complexos $z_{1} = x_{1} + iy_{1}$ e $z_{2} = x_{2} + iy_{2}$ é dada por agrupamento da soma/subtração das partes real e imaginária:\n",
    "\n",
    "$$z_{1} \\pm z_{2} = (x_{1} + iy_{1}) \\pm (x_{2} + iy_{2}) = (x_{1} \\pm x_{2}) + i(y_{1} \\pm y_{2}).$$ </font>\n",
    "\n",
    "<font color='red'> $$z_{1} +z_{2} = (x_{1} + x_{2}) + i(y_{1} + y_{2}) \\ \\ \\text{e} \\ \\  z_{1} - z_{2} = (x_{1} - x_{2}) + i(y_{1} - y_{2})\\tag{6}$$ </font>\n",
    "\n",
    "Na forma compacta, temos:\n",
    "\n",
    "<font color='red'> $$z_{1} + z_{2} = (x_{1}+x_{2},y_{1}+y_{2}) \\ \\ \\text{e} \\ \\ z_{1} - z_{2} = (x_{1}-x_{2},y_{1}-y_{2}) \\tag{7}$$</font>\n",
    "\n",
    "A soma em sua forma compacta nos ajuda a entender a forma cartesiana para a soma de $z_{1}$ e $z_{2}$, conforme o gráfico a seguir:<br><br>\n",
    "\n",
    "<center> <img src=\"fig1_3.png\" alt=\"png_python\" width=\"250\"> </center>\n",
    "\n",
    "A soma de números complexos é comutativa e associativa:\n",
    "\n",
    "<font color='red'> $$z_{1} + z_{2} = z_{2} + z_{1} \\ \\text{e} \\ (z_{1} + z_{2}) + z_{3} = z_{1} + (z_{2} + z_{3}) \\tag{8}$$ </font>"
   ]
  },
  {
   "cell_type": "markdown",
   "id": "d3dcd23d",
   "metadata": {},
   "source": [
    "#### <font color='blue'> Exemplo 1 </font>"
   ]
  },
  {
   "cell_type": "markdown",
   "id": "8f2c0aa7",
   "metadata": {},
   "source": [
    "<font color='blue'> Dados os números complexos $z_{1} = 2 + 4i$, $z_{2} = 3 - i$ e $z_{3} = 2 + 2i$ determine:<br><br>\n",
    " a) a soma $z_{1} + z_{2} + z_{3}$ e sua representação cartesiana.<br><br>\n",
    " b) a subtração $z_{1} - z_{2}$."
   ]
  },
  {
   "cell_type": "markdown",
   "id": "006bea0e",
   "metadata": {},
   "source": [
    "##### <font color='blue'> Solução </font>"
   ]
  },
  {
   "cell_type": "markdown",
   "id": "77811b71",
   "metadata": {},
   "source": [
    "<font color='blue'> a) Temos que<br><Br>\n",
    " $$z_{1} + z_{2} + z_{3} = (z_{1} + z_{2}) + z_{3} = ((2,4) + (3,-1)) + (2,2) = (5,3) + (2,2) = (7,5)$$<br>\n",
    " A representação cartesiana desta soma é apresentada na figura a seguir:<br><br>\n",
    " <center> <img src=\"fig1_4.png\" alt=\"png_python\" width=\"350\"> </center><br>\n",
    " No Python:"
   ]
  },
  {
   "cell_type": "code",
   "execution_count": null,
   "id": "4692f2e6",
   "metadata": {},
   "outputs": [],
   "source": [
    "# Números complexos\n",
    "z1, z2, z3 = complex(2,4), complex(3,-1), complex(2,2)\n",
    "\n",
    "# Imprimindo a soma z1 + z2 + z3\n",
    "print(z1 + z2 + z3)"
   ]
  },
  {
   "cell_type": "markdown",
   "id": "ab55d8ac",
   "metadata": {},
   "source": [
    "<font color='blue'> b) Temos que<br><br>\n",
    " $$z_{1} - z_{2} = (2 + 4i) - (3 - i) = 2 + 4i - 3 + i = (2-3) + (4 + 1)i = -1 + 5i.$$<br>\n",
    " No Python:"
   ]
  },
  {
   "cell_type": "code",
   "execution_count": null,
   "id": "9786cb59",
   "metadata": {},
   "outputs": [],
   "source": [
    "# Imprimindo a subtração z1-z2\n",
    "print(z1-z2)"
   ]
  },
  {
   "cell_type": "markdown",
   "id": "7180dd10",
   "metadata": {},
   "source": [
    "#### Produto de Números Complexos"
   ]
  },
  {
   "cell_type": "markdown",
   "id": "837f16b0",
   "metadata": {},
   "source": [
    "O produto de dois números complexos $z_{1} = x_{1} + iy_{1}$ e $z_{2} = x_{2} + iy_{2}$ é dada por:\n",
    "\n",
    "$$z_{1}z_{2} = (x_{1} + iy_{1})(x_{2} + iy_{2}) = x_{1}x_{2} + x_{1}iy_{2} + iy_{1}x_{2} + iy_{1}iy_{2} =$$<br>\n",
    " $$ = x_{1}x_{2} + x_{1}y_{2}i + y_{1}x_{2}i -y_{1}y_{2} = (x_{1}x_{2} - y_{1}y_{2}) + i(x_{1}y_{2} + y_{1}x_{2}).$$ \n",
    " \n",
    " <font color='red'> $$z_{1}z_{2} = (x_{1}x_{2} - y_{1}y_{2}) + i(x_{1}y_{2} + y_{1}x_{2}) \\tag{9}$$ </font>\n"
   ]
  },
  {
   "cell_type": "markdown",
   "id": "4f59e018",
   "metadata": {},
   "source": [
    "#### <font color='blue'> Exemplo 2 </font>"
   ]
  },
  {
   "cell_type": "markdown",
   "id": "5be2c6c9",
   "metadata": {},
   "source": [
    "<font color='blue'> Apresente o produto dos números complexos $z_{1} = 2 + 3i$ e $z_{2} = 1 - 2i$."
   ]
  },
  {
   "cell_type": "markdown",
   "id": "25b89f78",
   "metadata": {},
   "source": [
    "##### <font color='blue'> Solução </font>"
   ]
  },
  {
   "cell_type": "markdown",
   "id": "432046c6",
   "metadata": {},
   "source": [
    "<font color='blue'> Temos que<br><br>\n",
    " $$z_{1}z_{2} = (2+3i)(1-2i) = 2\\cdot1 + 2\\cdot(-2i) + 3i\\cdot1 + 3i\\cdot(-2i) = 2 - 4i + 3i + 6 = 8 - i$$<br>\n",
    " ou<br><br>\n",
    " $$z_{1}z_{2} = (2\\cdot1 - 3\\cdot(-2)) + (2\\cdot(-2) + 3\\cdot1)i = (2 + 6) + (-4 + 3)i = 8 - i$$<br>\n",
    " No Python:"
   ]
  },
  {
   "cell_type": "code",
   "execution_count": null,
   "id": "531d18f0",
   "metadata": {},
   "outputs": [],
   "source": [
    "# Números complexos\n",
    "z1, z2 = complex(2,3), complex(1,-2)\n",
    "\n",
    "# Imprimindo o produto z1*z2\n",
    "print(z1*z2)"
   ]
  },
  {
   "cell_type": "markdown",
   "id": "455bab1d",
   "metadata": {},
   "source": [
    "O produto de números complexos é comutativo e associativo:\n",
    "\n",
    "<font color='red'> $$z_{1}z_{2} = z_{2}z_{1} \\ \\text{e} \\ (z_{1}z_{2})z_{3} = z_{1}(z_{2}z_{3}) \\tag{10}$$ </font>"
   ]
  },
  {
   "cell_type": "markdown",
   "id": "7e18351e",
   "metadata": {},
   "source": [
    "#### Divisão de Números Complexos"
   ]
  },
  {
   "cell_type": "markdown",
   "id": "077ed99b",
   "metadata": {},
   "source": [
    "<font color='red'>Dado um número complexo $z = x + iy$ definimos seu complexo conjugado como sendo $\\overline{z} = x - iy$.</font>\n",
    "\n",
    "*Alguns autores utilizam a notação $z^{*}$ ao invés de $\\overline{z}$ para representar o conjugado de um número complexo $z$.*"
   ]
  },
  {
   "cell_type": "markdown",
   "id": "d6e34fd8",
   "metadata": {},
   "source": [
    "Para a divisão de um número complexo $z_{1} = x_{1} + iy_{1}$ por um número complexo $z_{2} = x_{2} + iy_{2}$ necessitamos recorrer ao complexo conjugado. Pois bem, vejamos\n",
    "\n",
    "$$\\frac{z_{1}}{z_{2}} = \\frac{x_{1} + iy_{1}}{x_{2} + iy_{2}} = \\frac{x_{1} + iy_{1}}{x_{2} + iy_{2}}\\frac{x_{2} - iy_{2}}{x_{2} - iy_{2}} = \\frac{(x_{1}x_{2}+y_{1}y_{2}) + i(x_{2}y_{1} - x_{1}y_{2})}{x^{2} + y^{2}}  =$$<br>\n",
    " $$= \\frac{x_{1}x_{2}+y_{1}y_{2}}{x^{2} + y^{2}} + i\\frac{x_{2}y_{1} - x_{1}y_{2}}{x^{2} + y^{2}}$$\n",
    " \n",
    " <font color='red'> $$ \\frac{z_{1}}{z_{2}} =  \\frac{x_{1}x_{2}+y_{1}y_{2}}{x^{2} + y^{2}} + i\\frac{x_{2}y_{1} - x_{1}y_{2}}{x^{2} + y^{2}} \\tag{15}$$</font>"
   ]
  },
  {
   "cell_type": "markdown",
   "id": "82a51340",
   "metadata": {},
   "source": [
    "#### <font color='blue'> Exemplo 3 </font>"
   ]
  },
  {
   "cell_type": "markdown",
   "id": "eb41dd11",
   "metadata": {},
   "source": [
    "<font color='blue'> Escreva o número complexo $z = \\frac{3 + i}{2-2i}$ na forma algébrica."
   ]
  },
  {
   "cell_type": "markdown",
   "id": "f3ff3ebc",
   "metadata": {},
   "source": [
    "##### <font color='blue'> Solução </font>"
   ]
  },
  {
   "cell_type": "markdown",
   "id": "91231a6e",
   "metadata": {},
   "source": [
    "<font color='blue'> Temos que<br><br>\n",
    " $$z = \\frac{3+i}{2-2i} = \\frac{3+i}{2-2i}\\frac{2+2i}{2+2i} = \\frac{6 + 6i + 2i - 2}{2^{2} + 2^{2}} = \\frac{4+8i}{8} = \\frac{4}{8} + \\frac{8i}{8} = \\frac{1}{2} + i$$<br>\n",
    " No Python:"
   ]
  },
  {
   "cell_type": "code",
   "execution_count": null,
   "id": "2153c23d",
   "metadata": {},
   "outputs": [],
   "source": [
    "# Números complexos\n",
    "z1 = complex(3,1)\n",
    "z2 = complex(2,-2)\n",
    "\n",
    "# Imprimindo a divisão z1/z2\n",
    "print(z1/z2)"
   ]
  },
  {
   "cell_type": "markdown",
   "id": "b2aae0b2",
   "metadata": {},
   "source": [
    "#### Módulo e Argumento de Um Número Complexo"
   ]
  },
  {
   "cell_type": "markdown",
   "id": "f87013ea",
   "metadata": {},
   "source": [
    "<font color='red'> O módulo de um número complexo $z = x + iy$, denotado por $|z|$ é definido como<br><br>\n",
    " $$|z| = \\sqrt{x^{2} + y^{2}}. \\tag{11}$$</font>\n",
    "\n",
    "<font color='red'> O argumento de um número complexo $z = x + iy$, denotado por $arg(z)$, é definido como<br><br>\n",
    " $$arg(z) = tan^{-1}\\left(\\frac{y}{x}\\right). \\tag{12}$$</font><br><br>\n",
    " \n",
    "<center> <img src=\"fig1_5.png\" alt=\"png_python\" width=\"300\"> </center>"
   ]
  },
  {
   "cell_type": "markdown",
   "id": "1b52c3d6",
   "metadata": {},
   "source": [
    "#### <font color='blue'> Exemplo 4 </font>"
   ]
  },
  {
   "cell_type": "markdown",
   "id": "5d3eb64c",
   "metadata": {},
   "source": [
    "<font color='blue'> Determine o módulo e o argumento do número complexo $z = 2 + 3i$."
   ]
  },
  {
   "cell_type": "markdown",
   "id": "72b393f9",
   "metadata": {},
   "source": [
    "##### <font color='blue'> Solução </font>"
   ]
  },
  {
   "cell_type": "markdown",
   "id": "ccbec110",
   "metadata": {},
   "source": [
    "<font color='blue'> Temos que<br><br>\n",
    " $$|z| = |2 + 3i| = \\sqrt{2^{2} + 3^{2}} = \\sqrt{13} = 3.605551275463989.$$<br>\n",
    " $$arg(z) = tan^{-1}\\left(\\frac{3}{2}\\right) = 0.982793723247329 \\ rad = 56.309932474020215^{\\text{o}}$$<br>\n",
    " No Python:"
   ]
  },
  {
   "cell_type": "code",
   "execution_count": null,
   "id": "464a796c",
   "metadata": {},
   "outputs": [],
   "source": [
    "import numpy as np\n",
    "\n",
    "# Número complexo\n",
    "z = complex(2,3)\n",
    "\n",
    "# Módulo de z\n",
    "modulo_z = abs(z)\n",
    "print(f'Módulo: {round(modulo_z,4)}')"
   ]
  },
  {
   "cell_type": "code",
   "execution_count": null,
   "id": "0d39d4d7",
   "metadata": {},
   "outputs": [],
   "source": [
    "# Cálculo do argumento em radianos e graus\n",
    "arg_z_rad = np.arctan(z.imag/z.real)\n",
    "arg_z_graus = arg_z_rad*180/np.pi\n",
    "print(f'Argumento em radianos: {round(arg_z_rad,3)}')\n",
    "print(f'Argumento em graus: {round(arg_z_graus,2)}')"
   ]
  },
  {
   "cell_type": "markdown",
   "id": "8dd595c3",
   "metadata": {},
   "source": [
    "É possível mostrar que\n",
    "\n",
    "<font color='red'> $$|z_{1}z_{2}| = |z_{1}||z_{2}| \\tag{13}$$ </font> \n",
    "\n",
    "e \n",
    "\n",
    "<font color='red'> $$arg(z_{1}z_{2}) = arg(z_{1}) + arg(z_{2}). \\tag{14}$$ </font> \n",
    "\n",
    "(veja **[Produto de Números Complexos na Forma Polar](#Produto_de_Numeros_Complexos_na_Forma_Polar)**)"
   ]
  },
  {
   "cell_type": "markdown",
   "id": "dccc2249",
   "metadata": {},
   "source": [
    "# <div style=\"margin-top: -20px;\">\n",
    "<hr style=\"border: 2px solid black;\">\n",
    "\n",
    "<font color='black'><span style=\"font-size: 22px;\"><strong>1.3 Forma Polar de Um Número Complexo</strong></span></font>\n",
    "\n",
    "<hr style=\"border: 2px solid black;\">\n",
    "</div>\n",
    "\n",
    "<a id=\"Representacao_Polar_de_Um_Numero_Complexo\"></a>"
   ]
  },
  {
   "cell_type": "markdown",
   "id": "ab18e036",
   "metadata": {},
   "source": [
    "#### Série de Taylor Para Números Reais (Revisão)"
   ]
  },
  {
   "cell_type": "markdown",
   "id": "6c7846cb",
   "metadata": {},
   "source": [
    "Nas aulas de Cálculo vimos que a fórmula de Taylor ou Série de Taylor é uma expressão que permite o cálculo do valor de uma função por aproximação local através de uma função polinomial. Supondo $f$ infinitamente derivável num intervalo contendo um ponto $x_{0}$, temos $f(x)  = lim_{n\\rightarrow \\infty} T_{n}(x)$ em que:\n",
    "\n",
    " $$T_{n}(x)= f(x_{0})+f'(x_{0}) \\cdot (x-x_{0}) + \\frac{f''(x_{0}) \\cdot (x-x_{0})^{2}}{2} + \\frac{f'''(x_{0})\\cdot (x-x_{0})^{3}}{6}+ \\ldots + \\frac{f^{(n)}(x_{0})\\cdot (x-x_{0})^{n}}{n!}.$$\n",
    " \n",
    " Podemos ainda considerar que $f(x) = T_{n}(x) + R_{n}(x)$ com $$R_{n}(x) = \\frac{f^{(n+1)}(x_{0})\\cdot (x-x_{0})^{n+1}}{(n+1)!} + \\frac{f^{(n+2)}(x_{0})\\cdot (x-x_{0})^{n+2}}{(n+2)!} + \\ldots.$$\n",
    " \n",
    " É possível obter $\\xi_{x}=\\xi(x)$, $\\xi_{x} \\in [x,x_{0}]$ (ou $x \\in [x_{0},x]$) tal que\n",
    " \n",
    " $$R_{n}(x) = \\frac{f^{(n+1)}(\\xi_{x})\\cdot (x-x_{0})^{n+1}}{(n+1)!}.$$\n",
    " \n",
    " Para $n=1$, por exemplo:\n",
    " \n",
    " $$f(x) = f(x_{0}) + f'(x_{0}) \\cdot(x-x_{0}) + \\frac{f''(\\xi_{x})(x-x_{0})^{2}}{2!}.$$\n",
    " \n",
    "Algumas expansões bem conhecidas em séries de Taylor serão bastante úteis para deduzir, mais adiante, a fórmula de Euler:\n",
    "\n",
    "$e^{x} = 1 + x + \\frac{x^{2}}{2!} + \\frac{x^{3}}{3!} + \\ldots$\n",
    "\n",
    "$sen(x) = x - \\frac{x^{3}}{3!} + \\frac{x^{5}}{5!} - \\ldots$\n",
    "\n",
    "$cos(x) = 1 - \\frac{x^{2}}{2!} + \\frac{x^{4}}{4!} - \\ldots$\n",
    "\n",
    "*Recomendação de vídeo: [Revisão Rápida Sobre Série de Taylor (CNT)](https://www.youtube.com/watch?v=jmm1U1XYNdU&list=PL8aWdrmfXHiLm6mHduRN0AH5J3QoqdMkI&index=18)*\n",
    "\n",
    "*Material de Referência: [Metodo_de_Newton](https://colab.research.google.com/github/ProfAllanIFBA/Calculo_Numerico/blob/main/Capitulo004_Metodo_de_Newton/Capitulo004_Metodo_de_Newton.ipynb#scrollTo=ab18e036)*"
   ]
  },
  {
   "cell_type": "markdown",
   "id": "88cc7e41",
   "metadata": {},
   "source": [
    "#### Fórmula de Euler"
   ]
  },
  {
   "cell_type": "markdown",
   "id": "23c463e3",
   "metadata": {},
   "source": [
    "A expansão em série de Taylor da função $e^{z}$ em torno da origem é dada por:\n",
    "\n",
    "<font color='red'> $$e^{z} = 1 + z + \\frac{z^{2}}{2!} + \\frac{z^{3}}{3!} + \\ldots \\tag{16}$$ </font>\n",
    "\n",
    "Além disso, temos que $e^{z_{1}}e^{z_{2}} = e^{z_{1} + z_{2}}$ também vale para os números complexos.\n",
    "\n",
    "Considerando $z = i\\theta$, $\\theta$ real, temos que\n",
    "\n",
    "$$e^{i\\theta} = 1 + i\\theta + \\frac{(i\\theta)^{2}}{2!} + \\frac{(i\\theta)^{3}}{3!} + \\frac{(i\\theta)^{4}}{4!} + \\ldots = 1 + i\\theta - \\frac{\\theta^{2}}{2!} - \\frac{i\\theta^{3}}{3!} + \\frac{\\theta^{4}}{4!} - \\ldots = $$\n",
    "\n",
    "$$ = \\left(1 - \\frac{\\theta^{2}}{2!} + \\frac{\\theta^{4}}{4!} - \\ldots\\right) + i\\left(\\theta - \\frac{\\theta^{3}}{3!} + \\frac{\\theta^{5}}{5!} - \\ldots\\right) = cos(\\theta) + isen(\\theta)\\tag{17}$$\n",
    "\n",
    "<font color='red'> $$e^{i\\theta} = cos(\\theta) + isen(\\theta) \\tag{18}$$</font>"
   ]
  },
  {
   "cell_type": "markdown",
   "id": "aa3bde9c",
   "metadata": {},
   "source": [
    "#### <font color='blue'> Exemplo 5 </font>"
   ]
  },
  {
   "cell_type": "markdown",
   "id": "8d0615fd",
   "metadata": {},
   "source": [
    "<font color='blue'> Determine a forma algébrica do numero complexo $e^{i\\pi}$."
   ]
  },
  {
   "cell_type": "markdown",
   "id": "0e02d1eb",
   "metadata": {},
   "source": [
    "##### <font color='blue'> Solução </font>"
   ]
  },
  {
   "cell_type": "markdown",
   "id": "568e2b1c",
   "metadata": {},
   "source": [
    "<font color='blue'> Temos que<br><br>\n",
    " $$e^{i\\pi} = cos(\\pi) + isen(\\pi) = -1 + i\\cdot0 = -1$$<br>\n",
    " Portanto, $e^{i\\pi} = -1$."
   ]
  },
  {
   "cell_type": "markdown",
   "id": "92945265",
   "metadata": {},
   "source": [
    "#### Propriedades Básicas de Um Número Complexo na Forma Polar"
   ]
  },
  {
   "cell_type": "markdown",
   "id": "bc3c0d04",
   "metadata": {},
   "source": [
    "Considerando $|z| = r$, temos que\n",
    "\n",
    " $$re^{i\\theta} = r(cos(\\theta) + isen(\\theta)) =rcos(\\theta) + irsen(\\theta) = x + iy.$$\n",
    " \n",
    " <font color='red'>$$re^{i\\theta} = x + iy \\tag{19}$$</font>\n",
    "\n",
    "Pode-se, facilmente, mostrar que: \n",
    "\n",
    "<font color='red'>$$|e^{i\\theta}| = 1 \\tag{20},$$ </font> \n",
    "\n",
    "<font color='red'>$$e^{in\\theta} = cos(n\\theta) + isen(n\\theta) \\tag{21}$$ </font> \n",
    "\n",
    "e \n",
    "\n",
    "<font color='red'>$$re^{i\\theta} = re^{i(\\theta + 2n\\pi)} \\tag{22}.$$ </font> \n",
    "\n",
    "Vejamos a dedução de $(20)$:\n",
    "\n",
    "$$|e^{i\\theta}| = |cos(\\theta) + isen(\\theta)| = cos^{2}(\\theta) + sen^{2}(\\theta) = 1.$$\n",
    "\n",
    "Vejamos a dedução de $(21)$:\n",
    "\n",
    "$$e^{in\\theta} = 1 + in\\theta - \\frac{(n\\theta)^{2}}{2!} - \\frac{i(n\\theta)^{3}}{3!} + \\ldots = $$\n",
    "\n",
    "$$ = \\left(1 - \\frac{(n\\theta)^{2}}{2!} + \\frac{(n\\theta)^{4}}{4!} - \\ldots\\right) + i\\left(n\\theta - \\frac{(n\\theta)^{3}}{3!} + \\frac{(n\\theta)^{5}}{5!} - \\ldots\\right) = cos(n\\theta) + isen(n\\theta)$$\n",
    "\n",
    "Podemos identificar $r$ com $|z|$ e $\\theta$ com argumento de $z$. A simplicidade da representação do módulo e do argumento é uma das principais razões para a utilização da representação polar. O ângulo $\\theta$ está convencionalmente no intervalo $-\\pi < \\theta < \\pi$ mas, como a rotação por $\\theta$ é igual à rotação por $2n\\pi + \\theta$, onde $n$ é qualquer número inteiro, temos que\n",
    "\n",
    "<font color='red'>$$re^{i\\theta} ≡ re^{i(\\theta+2n\\pi)} \\tag{23}$$ </font>"
   ]
  },
  {
   "cell_type": "markdown",
   "id": "7846fd97",
   "metadata": {},
   "source": [
    "#### <font color='blue'> Exemplo 6 </font>"
   ]
  },
  {
   "cell_type": "markdown",
   "id": "0c0ac6b4",
   "metadata": {},
   "source": [
    "<font color='blue'> Escreve o número complexo $z = 1 + i$ na forma polar:"
   ]
  },
  {
   "cell_type": "markdown",
   "id": "4101f4c7",
   "metadata": {},
   "source": [
    "##### <font color='blue'> Solução </font>"
   ]
  },
  {
   "cell_type": "markdown",
   "id": "0c2459de",
   "metadata": {},
   "source": [
    "<font color='blue'> Temos que<br><br>\n",
    " $$r = \\sqrt{1^{2} + 1^{2}} = \\sqrt{2} \\ \\ \\text{e} \\ \\ \\theta = tan^{-1}\\left(\\frac{1}{1}\\right) = \\frac{\\pi}{4}$$<br>\n",
    " Assim,<br><br>\n",
    " $$z = re^{i\\theta} = \\sqrt{2}e^{i\\frac{\\pi}{4}} = \\sqrt{2}\\left(cos\\left(\\frac{\\pi}{4}\\right) + isen\\left(\\frac{\\pi}{4}\\right)\\right)$$"
   ]
  },
  {
   "cell_type": "markdown",
   "id": "60f56bde",
   "metadata": {},
   "source": [
    "#### Produto de Números Complexos na Forma Polar <a id=\"Produto_de_Numeros_Complexos_na_Forma_Polar\"></a>"
   ]
  },
  {
   "cell_type": "markdown",
   "id": "16695722",
   "metadata": {},
   "source": [
    "Sejam $z_{1} = r_{1}e^{i\\theta_{1}}$ e $z_{2} = r_{2}e^{i\\theta_{2}}$ dois números complexos. Temos que \n",
    "\n",
    "$$z_{1}z_{2} = r_{1}e^{i\\theta_{1}}r_{2}e^{i\\theta_{2}} = r_{1}r_{2}e^{i(\\theta_{1} + \\theta_{2})}$$\n",
    "\n",
    "<font color='red'>$$ z_{1}z_{2} = r_{1}r_{2}e^{i(\\theta_{1} + \\theta_{2})} \\tag{24}$$ </font>\n",
    "\n",
    "Além disso \n",
    "\n",
    "$$|z_{1}z_{2}| = \\left|r_{1}r_{2}e^{i(\\theta_{1}+\\theta_{2})}\\right| = |r_{1}r_{2}|\\left|e^{i(\\theta_{1}+\\theta_{2})}\\right| = |r_{1}r_{2}| = r_{1}r_{2}$$\n",
    "\n",
    "<font color='red'>$$|z_{1}z_{2}| = r_{1}r_{2} \\tag{25}$$ </font>\n",
    "\n",
    "Desta forma notamos que ao multiplicarmos dois números complexos $z_{1}$ e $z_{2}$ obtemos um número complexo cujo comprimento é igual ao produtos dos módulos de $z_{1}$ e $z_{2}$ e o argumento corresponde à soma dos argumentos dos respectivos números complexos."
   ]
  },
  {
   "cell_type": "markdown",
   "id": "4598df17",
   "metadata": {},
   "source": [
    "#### <font color='blue'> Exemplo 7 </font>"
   ]
  },
  {
   "cell_type": "markdown",
   "id": "45c2ac4b",
   "metadata": {},
   "source": [
    "<font color='blue'> Considere os números complexos $z_{1} = 1 + i$ e $z_{2} = 1 + i\\sqrt{3}$.<br><br>\n",
    " a) Calcule seus módulos e argumentos de $z_{1}$ e $z_{2}$.<br><br>\n",
    " b) Determine o módulo e o argumento (em graus) do número complexo $z = z_{1}z_{2}$.<br><br>\n",
    " c) Esquematize $z_{1}$, $z_{2}$ e $z$ no plano polar."
   ]
  },
  {
   "cell_type": "markdown",
   "id": "76c8c8de",
   "metadata": {},
   "source": [
    "##### <font color='blue'> Solução </font>"
   ]
  },
  {
   "cell_type": "markdown",
   "id": "1a1daf11",
   "metadata": {},
   "source": [
    "<font color='blue'> a) Temos que<br><br>\n",
    " $$|z_{1}| = \\sqrt{1^{2} + 1^{2}} = \\sqrt{2} \\ \\ \\ \\text{e} \\ \\ \\ |z_{2}| = \\sqrt{1^{2} + \\sqrt{3}^{2}} = \\sqrt{4} = 2.$$<br>\n",
    " $$arg{z_{1}} = tan^{-1}\\left(\\frac{1}{1}\\right) = \\frac{\\pi}{4} \\equiv 45^{\\text{o}} \\ \\ \\ e \\ \\ \\ arg{z_{2}} = tan^{-1}\\left(\\frac{\\sqrt{3}}{1}\\right) = \\frac{\\pi}{3} \\equiv 60^{\\text{o}}$$<br>\n",
    " b) Temos que<br><br>\n",
    " $$z = z_{1}z_{2} = (1 + i)(1 + i\\sqrt{3}) = (1-\\sqrt{3}) + i(1 + \\sqrt{3})$$<br>\n",
    " $$|z| = \\sqrt{\\left(1-\\sqrt{3}\\right)^{2} + \\left(1 + \\sqrt{3}\\right)^{2}} = \\sqrt{4 - 2\\sqrt{3} + 4 + 2\\sqrt{3}}= \\sqrt{8} \\ \\ \\left(= 2\\sqrt{2} = |z_{1}||z_{2}|\\right)$$<br>\n",
    " $$arg(z) = tan^{-1}\\left(\\frac{1 + \\sqrt{3}}{1-\\sqrt{3}} \\right) =  -1.3089969389957472 \\ rad \\equiv -75^{\\text{o}} \\equiv -75^{\\text{o}} + 180^{\\text{o}} = 105^{\\text{o}} ( = 45^{\\text{o}} + 60^{\\text{o}}).$$<br>\n",
    " A conversão final de $-75^{\\text{o}}$ para $105^{\\text{o}}$ se deve ao fato de $z$ pertencer ao segundo quadrante ($x < 0$ e $y > 0$).<br><br>\n",
    " c) Acompanhe os esquema geral na figura a seguir:<br><br>\n",
    " <center> <img src=\"fig1_6.png\" alt=\"png_python\" width=\"250\"> </center>    "
   ]
  },
  {
   "cell_type": "code",
   "execution_count": null,
   "id": "d7b8945d",
   "metadata": {},
   "outputs": [],
   "source": [
    "import numpy as np\n",
    "\n",
    "z1 = complex(1,1)\n",
    "z2 = complex(1,3**(1/2))\n",
    "z = z1*z2\n",
    "\n",
    "# Módulos\n",
    "modulo_z1 = round(abs(z1),4)\n",
    "modulo_z2 = round(abs(z2),4)\n",
    "modulo_z = round(abs(z),4)\n",
    "\n",
    "# Argumento\n",
    "arg_z1 = round(np.arctan(z1.imag/z1.real)*180/np.pi,2)\n",
    "arg_z2 = round(np.arctan(z2.imag/z2.real)*180/np.pi,2)\n",
    "arg_z = round(np.arctan(z.imag/z.real)*180/np.pi,2)\n",
    "\n",
    "# Imprimindo as respostas\n",
    "print(f'Módulos: |z1| = {modulo_z1}, |z2| = {modulo_z2} e |z| = {modulo_z}')\n",
    "print(f'Argumentos: arg(z1) = {arg_z1}, arg(z2) = {arg_z2} e arg(z) = {arg_z}')\n"
   ]
  },
  {
   "cell_type": "markdown",
   "id": "b893bff3",
   "metadata": {},
   "source": [
    "<font color='blue'> Aproveitando os dados anteriores temos o seguinte plot dos números $z_{1}$, $z_{2}$ e $z$ (considerando-os como vetores):"
   ]
  },
  {
   "cell_type": "code",
   "execution_count": null,
   "id": "0f14ff08",
   "metadata": {},
   "outputs": [],
   "source": [
    "import matplotlib.pyplot as plt\n",
    "\n",
    "# Vetores complexos\n",
    "vetores = [(z1, 'z1'), (z2, 'z2'), (z, 'z')]\n",
    "cores = ['r', 'g', 'b']\n",
    "\n",
    "# Plotando os vetores\n",
    "plt.figure(figsize=(5, 5))\n",
    "for (z, label), cor in zip(vetores, cores):\n",
    "    plt.quiver(0, 0, z.real, z.imag, angles='xy', scale_units='xy', scale=1, color='b')\n",
    "    plt.text(z.real, z.imag, label, fontsize=8, ha='right', color='b')\n",
    "\n",
    "# Ajustando o gráfico\n",
    "plt.xlim(-2, 2)\n",
    "plt.ylim(-1, 3)\n",
    "plt.axhline(0, color='k', linewidth=0.5)\n",
    "plt.axvline(0, color='k', linewidth=0.5)\n",
    "plt.grid(color='gray', linestyle='--', linewidth=0.5)\n",
    "plt.xlabel('Re')\n",
    "plt.ylabel('Im')\n",
    "plt.title('Números Complexos como Vetores')\n",
    "\n",
    "\n",
    "plt.show()\n"
   ]
  },
  {
   "cell_type": "markdown",
   "id": "149eec26",
   "metadata": {},
   "source": [
    "#### <font color='red'> Teorema 1 (Moivre)</font>"
   ]
  },
  {
   "cell_type": "markdown",
   "id": "2a3efe4a",
   "metadata": {},
   "source": [
    "<font color='red'> Se $z = re^{i\\theta}$ é um número complexo, $n$ um inteiro e $\\theta$ um número real, então vale a seguinte realção:<br><br>\n",
    " $$z^{n} = r^{n}(cos(n\\theta) + isen(n\\theta)) \\tag{27}$$"
   ]
  },
  {
   "cell_type": "markdown",
   "id": "2c8b585e",
   "metadata": {},
   "source": [
    "##### <font color='red'> Demonstração </font>"
   ]
  },
  {
   "cell_type": "markdown",
   "id": "1b1c8478",
   "metadata": {},
   "source": [
    "<font color='red'> *A demonstração em questão usa Indução Matemática. O leitor interessado por aprender sobre esta técnica pode assistir ao vídeo: [Demonstração Por Indução Matemática](https://youtu.be/29A0Yvaa9Pw?si=0uS774uDke8oCum1)*<br><br>\n",
    " Queremos provar que<br><br>\n",
    " $$z^n=(r(cos(\\theta) +isen(\\theta))^n=r^n \\left( \\cos(n\\theta)+isen(n\\theta) \\right), \\ \\forall \\theta \\in \\mathbb{R},  \\ n \\in \\mathbb{N}$$<br>\n",
    " em que $z$ é um número complexo.<br><br>\n",
    " Para $n = 1$ a identidade é verdadeira, pois tem-se<br><br>\n",
    " $$z = r(cos(\\theta) + i sen(\\theta)),$$<br>\n",
    " que é a representação de $z$ na forma polar.<br><br>\n",
    " Suponhamos agora que a propriedade se verifica para $n = k$ e provemos que também o é para $n=k+1$. Temos:<br><br>\n",
    " $$z^{k+1}=z z^k = r(cos(\\theta) + isen(\\theta))r^{k}(cos(k\\theta) + isen(k\\theta)) = $$<br>\n",
    " $$ = r^{k+1}(cos(\\theta)cos(k\\theta) + i cos(\\theta) sen(k\\theta) +  isen(\\theta) cos(k\\theta)) - sen(\\theta) sen(k\\theta)) =$$<br>\n",
    " $$ = r^{k+1}(cos(\\theta)cos(k\\theta) - sen(\\theta) sen(k\\theta)) + i (cos(\\theta) sen(k\\theta) +  sen(\\theta) cos(k\\theta)) $$<br>\n",
    " Por meio das fórmulas $cos(a + b) = cos(a)cos(b) - sen(a)sen(b)$ e $sen(a + b) = cos(a)sen(b) + sen(a)cos(b)$, temos:<br><br>\n",
    " $$z^{k+1}=|r|^{k+1}( cos((k+1)\\theta) + i sen((k+1)\\theta))$$<br>\n",
    " e, portanto, a indução é verdadeira.<br><br>\n",
    " Queremos agora generalizar para $n \\in \\mathbb{Z}$. Para $n=0$ a propriedade é imediata se convencionarmos $z^0 = 1$.<br><br>\n",
    " Consideremos $m = -n \\in \\mathbb{N}$, temos:<br><br>\n",
    " $$z^n = (z^{-1})^m = \\left(\\frac{1}{z}\\right)^{m} = \\left(\\frac{1}{r(cos(\\theta) + isen(\\theta)}\\right)^{m} = \\frac{1}{r^{m}}\\frac{1}{cos(\\theta) + isen(\\theta)}\\frac{cos(\\theta) - isen(\\theta)}{cos(\\theta) - isen(\\theta)} =$$<br>\n",
    " $$ = \\frac{1}{r^{m}}(cos(\\theta) - isen(\\theta)) = \\frac{1}{r^{m}}(cos(-\\theta) + isen(-\\theta))^{m}$$<br>\n",
    " em que aplicamos propriedades dos complexos relacionadas com a potenciação e quociente. Note que agora estamos considerando $-\\theta$ e não $\\theta$. Assim,<br><br>\n",
    " $$\\frac{1}{r^m}( cos(-\\theta) + i sen(-\\theta))^m = r^{-m} ( cos(-m\\theta) + i sen(-m\\theta))$$<br>\n",
    " Substituindo de volta por $n = -m$:<br><br>\n",
    " $$z^n = r^n ( cos(n\\theta) + i sen(n\\theta)), \\forall n \\in \\mathbb{Z}.$$"
   ]
  },
  {
   "cell_type": "markdown",
   "id": "95cb7278",
   "metadata": {},
   "source": [
    "#### <font color='blue'> Exemplo 8 </font>"
   ]
  },
  {
   "cell_type": "markdown",
   "id": "9d627cd6",
   "metadata": {},
   "source": [
    "<font color='blue'> Mostre que:<br><br>\n",
    " a) $cos(3\\theta) = 4cos^{3}(\\theta) - 3cos(\\theta)$<br><br>\n",
    " b) $z^{n} - \\frac{1}{z^{n}} = 2isen(n\\theta)$ em que $z = e^{i\\theta}$"
   ]
  },
  {
   "cell_type": "markdown",
   "id": "f0ad9ed4",
   "metadata": {},
   "source": [
    "##### <font color='blue'> Solução </font>"
   ]
  },
  {
   "cell_type": "markdown",
   "id": "f884d496",
   "metadata": {},
   "source": [
    "<font color='blue'> a) Temos que<br><br>\n",
    " $$cos(3\\theta) + isen(3\\theta) = (cos(\\theta) + isen(\\theta))^{3} =$$<br>\n",
    " $$= cos^{3}(\\theta) + 3cos^{2}(\\theta)isen(\\theta) + 3cos(\\theta)(isen(\\theta))^{2} + (isen(\\theta))^{3} =^{*} $$<br>\n",
    " $$= cos^{3}(\\theta) - 3cos(\\theta)sen^{2}(\\theta) + i(3cos^{2}(\\theta)sen(\\theta)-sen(\\theta))$$<br>\n",
    " Por igualdade, temos que $cos(3\\theta) = cos^{3}(\\theta) - 3cos(\\theta)sen^{2}(\\theta)$. Assim,<br><br>\n",
    " $$cos(3\\theta) = cos^{3}(\\theta) - 3cos(\\theta)sen^{2}(\\theta) =^{**} cos^{3}(\\theta) - 3cos(\\theta)(1-cos^{2}(\\theta)) =$$<br>\n",
    " $$= cos^{3}(\\theta)-3cos(\\theta) + 3cos^{3}(\\theta) = 4cos^{3}(\\theta) - 3cos(\\theta)$$<br>\n",
    " $^{*}$ $i^{3} = i^{2}i = -i$<br><br>\n",
    " $^{**}$ $sen^{2}(\\theta) = 1 - cos^{2}(\\theta)$<br><br>\n",
    " b) Temos que<br><br>\n",
    " $$z^{n} - \\frac{1}{z^{n}} = z^{n} - z^{-n} = (cos(\\theta) + isen(\\theta))^{n} - (cos(\\theta) + isen(\\theta))^{-n} = $$<br>\n",
    " $$= cos(n\\theta) + isen(n\\theta) - (cos(-n\\theta) + isen(-n\\theta)) =^{***}$$<br>\n",
    " $$= cos(n\\theta) + isen(n\\theta) - cos(n\\theta) + isen(n\\theta) = 2isen(n\\theta)$$<br>\n",
    " $^{***} cos(-\\theta) = cos(\\theta) \\ \\ \\text{e} \\ \\ sen(-\\theta) = -sen(\\theta)$\n",
    "    "
   ]
  },
  {
   "cell_type": "markdown",
   "id": "0c52c2e8",
   "metadata": {},
   "source": [
    "#### <font color='red'> Teorema 2 (Teorema Fundamental da Álgebra) </font>"
   ]
  },
  {
   "cell_type": "markdown",
   "id": "b650bb07",
   "metadata": {},
   "source": [
    "<font color='red'> Todo polinômio não constante com coeficientes complexos possui pelo menos uma raiz complexa."
   ]
  },
  {
   "cell_type": "markdown",
   "id": "6d2cfa84",
   "metadata": {},
   "source": [
    "#### Raízes da Unidade"
   ]
  },
  {
   "cell_type": "markdown",
   "id": "7d60273f",
   "metadata": {},
   "source": [
    "Como consequência do **Teorema 2** podemos afirmar que qualquer polinômio de grau $n$\n",
    "\n",
    "$$P(z) = a_{n}z^{n} + a_{n-1}z^{n-1} + \\ldots + a_{1}z + a_{0}, \\ \\ a_{n} \\neq 0$$ \n",
    "\n",
    "com coeficientes complexos pode ser fatorado como:\n",
    "\n",
    "$$P(z) = a_{n}(z-z_{1})(z-z_{2})\\ldots(z-z_{n})$$\n",
    "\n",
    "em que $a_{n}$ é o coeficiente do termo de maior grau (forma expandida) e $z_{1},z_{2},\\ldots z_{n}$ são as raízes complexas do polinômio (não necessariamente distintas).\n",
    "\n",
    "Por exemplo, $P_{1}(z) = z^{2} - 1$ pode ser fatorado como $P_{1}(z) = (z - 1)(z + 1)$ ao passo que $P_{2}(z) = z^{2} + 1$ pode ser fatorado como $P_{2}(z) = (z-i)(z+i)$. Agora, qual seria a forma fatorada de $z^{3} = 1$?\n",
    "\n",
    "Para responder à questão anterior considere equação $e^{i\\theta} = cos(\\theta) + isen(\\theta)$ na qual repassamos $\\theta$ para $2k\\pi$, $k \\in \\mathbb{Z}$, isto é,\n",
    "\n",
    "$$\\theta = 2k\\pi \\Rightarrow e^{2ik\\pi} = cos(2k\\pi) + isen(2k\\pi) = 1 + 0i = 1 \\Rightarrow e^{2ik\\pi} =1$$\n",
    "\n",
    "Desta forma,\n",
    "\n",
    "$$z^{n} = 1 \\Rightarrow z = 1^{\\frac{1}{n}} = (e^{2ik\\pi})^{\\frac{1}{n}} = e^{\\frac{2ik\\pi}{n}} \\tag{28}$$\n",
    "\n",
    "donde segue que as soluções de $z^{n} = 1$ são \n",
    "\n",
    "<font color='red'>$$\\large{e^{\\frac{0i\\pi}{n}} e^{\\frac{2i\\pi}{n}}, e^{\\frac{4i\\pi}{n}}, e^{\\frac{6i\\pi}{n}}, ..., e^{\\frac{2i(n-1)\\pi}{n}}}, \\tag{29}$$</font>\n",
    "\n",
    "isto é, fazendo $k$ em $(28)$ variar de $0$ até $n-1$. Dessa forma, as soluções de $z^{3} = 1$ são:\n",
    "\n",
    "$$z_{1} = e^{\\frac{0i\\pi}{3}} = 1, \\ z_{2} = e^{\\frac{2i\\pi}{3}} \\ \\text{e} \\ e^{\\frac{4i\\pi}{3}}.$$\n",
    "\n",
    "Note que\n",
    "\n",
    "$$\\left(e^{\\frac{2i\\pi}{3}}\\right)^{3} = \\left(cos\\left(\\frac{2\\pi}{3}\\right) + isen\\left(\\frac{2\\pi}{3}\\right)\\right)^{3} = \\left(-\\frac{1}{2} + i\\frac{\\sqrt{3}}{2}\\right)^{3} =$$\n",
    "\n",
    "$$= \\left(-\\frac{1}{2} + i\\frac{\\sqrt{3}}{2}\\right)^{2}\\left(-\\frac{1}{2} + i\\frac{\\sqrt{3}}{2}\\right) = \\left(-\\frac{1}{2} - i\\frac{\\sqrt{3}}{2}\\right)\\left(-\\frac{1}{2} + i\\frac{\\sqrt{3}}{2}\\right) = 1$$\n",
    "\n",
    "O mesmo é válido para $\\left(e^{\\frac{4i\\pi}{3}}\\right)^{3}$, isto é, $\\left(e^{\\frac{4i\\pi}{3}}\\right)^{3} = 1$.\n",
    "\n",
    "Acompanhe a figura a seguir:<br><br>\n",
    " <center> <img src=\"fig1_7.png\" alt=\"png_python\" width=\"250\"> </center>    \n",
    "\n",
    "Note que $\\frac{4\\pi}{3}$ e $-\\frac{2\\pi}{3}$ ocupam a mesma posição no ciclo trigonométrico.\n",
    "\n",
    "A solução de qualquer equação polinomial da forma $z^{n} = m$ segue um raciocínio semelhante multiplicando-se as raízes unitárias por $m^{\\frac{1}{n}}$."
   ]
  },
  {
   "cell_type": "markdown",
   "id": "bdbd3799",
   "metadata": {},
   "source": [
    "#### <font color='blue'> Exemplo 9 </font>"
   ]
  },
  {
   "cell_type": "markdown",
   "id": "6be5f5a3",
   "metadata": {},
   "source": [
    "<font color='blue'> Resolva a equação $z^{5} + 4z^{3} - 2z^{2} - 8 = 0$ que, em sua forma fatorada é dada por $(z^{3} - 2)(z^{2}+4) = 0$."
   ]
  },
  {
   "cell_type": "markdown",
   "id": "9fce6f2d",
   "metadata": {},
   "source": [
    "##### <font color='blue'> Solução </font>"
   ]
  },
  {
   "cell_type": "markdown",
   "id": "6bf4c995",
   "metadata": {},
   "source": [
    "<font color='blue'> Utilizemos a forma fatorada uma vez que as soluções de $z^{5} + 4z^{3} - 2z^{2} - 8 = 0$ é a união dos conjuntos soluções das equações $z^{3} - 2 = 0$ e $z^{2} + 4 = 0$. Pois bem,<br><br>\n",
    " i) Considerando $z^{3}-2 = 0$ temos $z^{3} = 2$ donde segue que:<br><br>\n",
    " $z_{1} = 2^{\\frac{1}{3}}e^{\\frac{0i\\pi}{3}} = 2^{\\frac{1}{3}}$<br><br>\n",
    " $z_{2} = 2^{\\frac{1}{3}}e^{\\frac{2i\\pi}{3}} = 2^{\\frac{1}{3}}\\left(cos\\left(\\frac{2\\pi}{3}\\right) + i\\left(sen\\left(\\frac{2\\pi}{3}\\right)\\right)\\right) = 2^{\\frac{1}{3}}\\left(-\\frac{1}{2} + i\\frac{\\sqrt{3}}{2}\\right)$<br><br>\n",
    " $z_{3} = 2^{\\frac{1}{3}}e^{\\frac{4i\\pi}{3}} = 2^{\\frac{1}{3}}\\left(cos\\left(\\frac{4\\pi}{3}\\right) + i\\left(sen\\left(\\frac{4\\pi}{3}\\right)\\right)\\right) = 2^{\\frac{1}{3}}\\left(-\\frac{1}{2} - i\\frac{\\sqrt{3}}{2}\\right)$<br><br>\n",
    " ii) Considerando $z^{2} + 4$ temos $z^{2} = -4$ donde segue que:<br><br>\n",
    " $z_{1} = (-4)^{\\frac{1}{2}}e^{\\frac{0i\\pi}{2}} = 2i$<br><br>\n",
    " $z_{2} = (-4)^{\\frac{1}{2}}e^{\\frac{2i\\pi}{2}} = 2ie^{i\\pi} = 2i(cos(\\pi) + isen(\\pi)) = 2i(-1+0) = -2i$<br><br>\n",
    " No Python, temos:"
   ]
  },
  {
   "cell_type": "code",
   "execution_count": null,
   "id": "e6144b35",
   "metadata": {},
   "outputs": [],
   "source": [
    "import numpy as np\n",
    "\n",
    "def raizes_complexas(z,n):\n",
    "    r = abs(z)\n",
    "    theta = np.angle(z)\n",
    "    roots = []\n",
    "    for k in range(n):\n",
    "        angle = (theta + 2 * np.pi * k) / n\n",
    "        root = np.round(r**(1/n) * (np.cos(angle) + 1j * np.sin(angle)),8)\n",
    "        roots.append(root)\n",
    "    return roots"
   ]
  },
  {
   "cell_type": "code",
   "execution_count": null,
   "id": "0c54de83",
   "metadata": {},
   "outputs": [],
   "source": [
    "z1 = complex(2,0)\n",
    "n1 = 3\n",
    "raizes_complexas(z1,n1)"
   ]
  },
  {
   "cell_type": "code",
   "execution_count": null,
   "id": "681b0af5",
   "metadata": {},
   "outputs": [],
   "source": [
    "z2 = complex(-4,0)\n",
    "n2 = 2\n",
    "raizes_complexas(z2,n2)"
   ]
  },
  {
   "cell_type": "markdown",
   "id": "cccf1b7c",
   "metadata": {},
   "source": [
    "#### Observação 3"
   ]
  },
  {
   "cell_type": "markdown",
   "id": "0c64c354",
   "metadata": {},
   "source": [
    "É também possível definirmos as raízes da unidade como\n",
    "\n",
    "<font color='red'>$$z^{n} = e^{-2ik\\pi}, \\ \\ k \\in \\mathbb{Z} \\tag{30}$$</font>\n",
    "\n",
    "Neste caso estaremos considerando uma volta no sentido horário.\n",
    "\n",
    "*Ao utilizamos diversas referências neste material é bem possível que tabalhemos, em alguns momentos futuros, com as raízes da unidade na forma $(30)$ ao invés da forma $(28)$. Contudo, as mudanças serão os aparecimentos dos complexos conjugados em posições trocadas o que não acarretará prejuízo algum. É como se as raízes de $(x-2)(x-3)$ fossem ditas serem $2$ e $3$ ao invés de $3$ e $2$!*"
   ]
  },
  {
   "cell_type": "markdown",
   "id": "2e5fc025",
   "metadata": {},
   "source": [
    "# <div style=\"margin-top: -20px;\">\n",
    "<hr style=\"border: 2px solid black;\">\n",
    "\n",
    "<font color='black'><span style=\"font-size: 22px;\"><strong>1.4 Funções Trigonométricas e Hiperbólicas </strong></span></font>\n",
    "\n",
    "<hr style=\"border: 2px solid black;\">\n",
    "</div>\n",
    "\n",
    "<a id=\"Representacao_Polar_de_Um_Numero_Complexo\"></a>"
   ]
  },
  {
   "cell_type": "markdown",
   "id": "924dcdfd",
   "metadata": {},
   "source": [
    "#### Funções Trigonométricas"
   ]
  },
  {
   "cell_type": "markdown",
   "id": "e01154ec",
   "metadata": {},
   "source": [
    "Dado um número complexo $z = x + iy$, definimos:\n",
    "\n",
    "<font color='red'> $$sen(z) = \\frac{e^{iz}-e^{-iz}}{2i} \\ \\ \\text{e} \\ \\ cos(z) = \\frac{e^{iz}+e^{-iz}}{2}. \\tag{31}$$</font>"
   ]
  },
  {
   "cell_type": "markdown",
   "id": "d89c57c3",
   "metadata": {},
   "source": [
    "#### <font color='blue'> Exemplo 10 </font>"
   ]
  },
  {
   "cell_type": "markdown",
   "id": "5792a480",
   "metadata": {},
   "source": [
    "<font color='blue'> Mostre que<br><br>\n",
    " $$\\frac{e^{\\frac{i\\pi}{6}}-e^{-\\frac{i\\pi}{6}}}{2i} = \\frac{1}{2}.$$"
   ]
  },
  {
   "cell_type": "markdown",
   "id": "85db0aa1",
   "metadata": {},
   "source": [
    "##### <font color='blue'> Solução </font>"
   ]
  },
  {
   "cell_type": "markdown",
   "id": "c4891ddc",
   "metadata": {},
   "source": [
    "<font color='blue'> Temos que:<br><br>\n",
    " $$\\frac{e^{i\\cdot\\frac{\\pi}{6}}-e^{-i\\cdot\\frac{\\pi}{6}}}{2i} = \\frac{cos\\left(\\frac{\\pi}{6} \\right) + isen\\left(\\frac{\\pi}{6} \\right) - \\left(cos\\left(-\\frac{\\pi}{6}\\right) + isen\\left(-\\frac{\\pi}{6}\\right) \\right)}{2i} =$$\n",
    " $$= \\frac{cos\\left(\\frac{\\pi}{6} \\right) + isen\\left(\\frac{\\pi}{6} \\right) - \\left(cos\\left(\\frac{\\pi}{6}\\right) - isen\\left(\\frac{\\pi}{6}\\right) \\right)}{2i} = $$<br>\n",
    " $$=\\frac{cos\\left(\\frac{\\pi}{6} \\right) + isen\\left(\\frac{\\pi}{6} \\right) - cos\\left(\\frac{\\pi}{6}\\right) + isen\\left(\\frac{\\pi}{6}\\right)}{2i} = \\frac{2isen\\left(\\frac{\\pi}{6}\\right)}{2i} = sen\\left(\\frac{\\pi}{6}\\right) = \\frac{1}{2}$$"
   ]
  },
  {
   "cell_type": "markdown",
   "id": "db2e82c6",
   "metadata": {},
   "source": [
    "#### <font color='blue'> Exemplo 11 </font>"
   ]
  },
  {
   "cell_type": "markdown",
   "id": "b54b9893",
   "metadata": {},
   "source": [
    "<font color='blue'> Mostre que $\\frac{d}{dz}\\left(sen(z)\\right) = cos(z)$."
   ]
  },
  {
   "cell_type": "markdown",
   "id": "f5474eea",
   "metadata": {},
   "source": [
    "##### <font color='blue'> Solução </font>"
   ]
  },
  {
   "cell_type": "markdown",
   "id": "f4c99fb8",
   "metadata": {},
   "source": [
    "<font color='blue'> Temos que<br><br>\n",
    " $$\\frac{d}{dz}\\left(sen(z)\\right) = \\frac{d}{dz}\\left(\\frac{e^{iz}-e^{-iz}}{2i}\\right) = \\frac{ie^{iz} - (-i)e^{-iz}}{2i} = \\frac{ie^{iz} + ie^{-iz}}{2i} =$$<br>\n",
    " $$ = i\\frac{e^{iz} + e^{-iz}}{2i} = \\frac{e^{iz} + e^{-iz}}{2} = cos(z).$$"
   ]
  },
  {
   "cell_type": "markdown",
   "id": "e444f135",
   "metadata": {},
   "source": [
    "#### Funções Hiperbólicas"
   ]
  },
  {
   "cell_type": "markdown",
   "id": "2c6571c8",
   "metadata": {},
   "source": [
    "Dado um número complexo $z = x + iy$, definimos:\n",
    "\n",
    "<font color='red'> $$senh(z) = \\frac{e^{z}-e^{-z}}{2} \\ \\ \\text{e} \\ \\ cosh(z) = \\frac{e^{z}+e^{-z}}{2}. \\tag{32}$$</font>"
   ]
  },
  {
   "cell_type": "markdown",
   "id": "2fb1bdfd",
   "metadata": {},
   "source": [
    "#### <font color='blue'> Exemplo 12 </font>"
   ]
  },
  {
   "cell_type": "markdown",
   "id": "1e62ef4d",
   "metadata": {},
   "source": [
    "<font color='blue'> Mostre que $\\frac{d}{dz}\\left(cosh(z)\\right) = senh(z)$."
   ]
  },
  {
   "cell_type": "markdown",
   "id": "93bf0902",
   "metadata": {},
   "source": [
    "##### <font color='blue'> Solução </font>"
   ]
  },
  {
   "cell_type": "markdown",
   "id": "c16e1fdd",
   "metadata": {},
   "source": [
    "<font color='blue'> Temos que<br><br>\n",
    " $$\\frac{d}{dz}\\left(cosh(z)\\right) = \\frac{d}{dz}\\left(\\frac{e^{z}+e^{-z}}{2}\\right) = \\frac{e^{z} - e^{-z}}{2} = senh(z).$$"
   ]
  },
  {
   "cell_type": "markdown",
   "id": "bbec5dbb",
   "metadata": {},
   "source": [
    "#### Derivação de Funções Trigonométricas"
   ]
  },
  {
   "cell_type": "markdown",
   "id": "40632b51",
   "metadata": {},
   "source": [
    "Podemos utilizar a forma exponencial de um número complexo juntamente com o **Teorema 1** para tratarmos a diferenciação de funções trigonométricas."
   ]
  },
  {
   "cell_type": "markdown",
   "id": "f6da48d0",
   "metadata": {},
   "source": [
    "#### <font color='blue'> Exemplo 13 </font>"
   ]
  },
  {
   "cell_type": "markdown",
   "id": "c54613f6",
   "metadata": {},
   "source": [
    "<font color='blue'> Exiba a derivada de $e^{2x}cos(3x)$ sem usar a regra do produto."
   ]
  },
  {
   "cell_type": "markdown",
   "id": "ad167e90",
   "metadata": {},
   "source": [
    "##### <font color='blue'> Solução </font>"
   ]
  },
  {
   "cell_type": "markdown",
   "id": "03f80331",
   "metadata": {},
   "source": [
    "<font color='blue'> Temos que<br><br>\n",
    " $$z = e^{2x}(cos(3x) + isen(3x)) = e^{2x}e^{3ix} = e^{(2 + 3i)x} \\Rightarrow$$<br><br>\n",
    " $$\\frac{dz}{dx} = (2+3i)e^{(2+3i)x} = (2+3i)e^{2x}(cos(3x) + isen(3x)) =$$<br>\n",
    " $$=e^{2x}(2cos(3x)-3sen(3x)) + e^{2x}(3cos(3x) + 2sen(3x))i$$<br>\n",
    " Assim, temos que<br><br>\n",
    " $$\\frac{d(e^{2x}cos(3x))}{dx} = e^{2x}(2cos(3x) - 3sen(3x))$$<br>\n",
    " Além disso,\n",
    " $$\\frac{d(e^{2x}sen(3x))}{dx} = e^{2x}(3cos(3x) + 2sen(3x)).$$"
   ]
  },
  {
   "cell_type": "markdown",
   "id": "aa90d20c",
   "metadata": {},
   "source": [
    "#### Derivação no Python"
   ]
  },
  {
   "cell_type": "markdown",
   "id": "f000d07a",
   "metadata": {},
   "source": [
    "O Python conta com o cálculo de derivadas implementado."
   ]
  },
  {
   "cell_type": "code",
   "execution_count": 1,
   "id": "121166e0",
   "metadata": {},
   "outputs": [],
   "source": [
    "import sympy as sp\n",
    "\n",
    "def derivada(f):\n",
    "    # Defina a variável simbólica\n",
    "    x = sp.symbols('x')\n",
    "\n",
    "    # Defina a função simbólica\n",
    "    F = eval(f)\n",
    "\n",
    "    # Calcule a derivada da função em relação a x\n",
    "    derivada = sp.diff(F, x)\n",
    "\n",
    "    # Imprima a derivada\n",
    "    return derivada"
   ]
  },
  {
   "cell_type": "code",
   "execution_count": 2,
   "id": "44602921",
   "metadata": {},
   "outputs": [
    {
     "data": {
      "text/latex": [
       "$\\displaystyle - 3 e^{2 x} \\sin{\\left(3 x \\right)} + 2 e^{2 x} \\cos{\\left(3 x \\right)}$"
      ],
      "text/plain": [
       "-3*exp(2*x)*sin(3*x) + 2*exp(2*x)*cos(3*x)"
      ]
     },
     "execution_count": 2,
     "metadata": {},
     "output_type": "execute_result"
    }
   ],
   "source": [
    "derivada('sp.exp(2*x)*sp.cos(3*x)')"
   ]
  },
  {
   "cell_type": "code",
   "execution_count": 3,
   "id": "f312a835",
   "metadata": {},
   "outputs": [
    {
     "data": {
      "text/latex": [
       "$\\displaystyle 2 e^{2 x} \\sin{\\left(3 x \\right)} + 3 e^{2 x} \\cos{\\left(3 x \\right)}$"
      ],
      "text/plain": [
       "2*exp(2*x)*sin(3*x) + 3*exp(2*x)*cos(3*x)"
      ]
     },
     "execution_count": 3,
     "metadata": {},
     "output_type": "execute_result"
    }
   ],
   "source": [
    "derivada('sp.exp(2*x)*sp.sin(3*x)')"
   ]
  },
  {
   "cell_type": "markdown",
   "id": "43e92b8c",
   "metadata": {},
   "source": [
    "#### Integração de Funções Trigonométricas"
   ]
  },
  {
   "cell_type": "markdown",
   "id": "d00c8e0a",
   "metadata": {},
   "source": [
    "Podemos utilizar a forma exponencial de um número complexo juntamente com o **Teorema 1** para tratarmos a integração de funções trigonométricas."
   ]
  },
  {
   "cell_type": "markdown",
   "id": "c6f4c03a",
   "metadata": {},
   "source": [
    "#### <font color='blue'> Exemplo 14 </font>"
   ]
  },
  {
   "cell_type": "markdown",
   "id": "2be478a0",
   "metadata": {},
   "source": [
    "<font color='blue'> Calcule a integral $\\int e^{ax}cos(bx) dx$ sem usar integração por partes."
   ]
  },
  {
   "cell_type": "markdown",
   "id": "35281aa7",
   "metadata": {},
   "source": [
    "##### <font color='blue'> Solução </font>"
   ]
  },
  {
   "cell_type": "markdown",
   "id": "19c3083a",
   "metadata": {},
   "source": [
    "<font color='blue'> Consideremos $\\int e^{ax}(cos(bx) + isen(bx)) dx$:<br><br>\n",
    " Temos que<br><br>\n",
    " $$\\int e^{ax}(cos(bx) + isen(bx)) dx = \\int e^{ax}e^{ibx} dx = \\int e^{(a + ib)x} dx.$$<br>\n",
    " Pois bem,\n",
    " $$\\int e^{(a + ib)x} dx = \\frac{e^{(a + ib)x}}{a + ib} + c = \\frac{(a-ib)e^{(a + ib)x}}{a^{2} + b^{2}} + c = $$<br>\n",
    " $$= \\frac{(a-ib)e^{ax}e^{ibx}}{a^{2} + b^{2}}  + c = \\frac{e^{ax}(ae^{ibx} - ibe^{ibx})}{a^{2} + b^{2}} + c = $$<br>\n",
    " $$= \\frac{e^{ax}}{a^{2} + b^{2}}(a(cos(bx) + isen(bx)) - ib(cos(bx) + isen(bx))) + c =  $$<br>\n",
    " $$= \\frac{e^{ax}}{a^{2}+b^{2}}((acos(bx)+bsen(bx)) + i(asen(bx)-bcos(bx))) + c$$<br>\n",
    " Assim,<br><br>\n",
    " $$\\int e^{ax} cos(bx) dx = \\frac{e^{ax}}{a^{2}+b^{2}}(acos(bx)+bsen(bx)) + c_{1}$$<br>\n",
    " Além disso,<br><br>\n",
    " $$\\int e^{ax} sen(bx) dx = \\frac{e^{ax}}{a^{2}+b^{2}}(asen(bx)-bcos(bx)) + c_{2}$$"
   ]
  },
  {
   "cell_type": "markdown",
   "id": "07438a4e",
   "metadata": {},
   "source": [
    "#### Integração no Python"
   ]
  },
  {
   "cell_type": "markdown",
   "id": "43418807",
   "metadata": {},
   "source": [
    "O Python também conta com o cálculo de integrais implementado."
   ]
  },
  {
   "cell_type": "code",
   "execution_count": 1,
   "id": "eb67ae1b",
   "metadata": {},
   "outputs": [],
   "source": [
    "import sympy as sp\n",
    "\n",
    "def integral_indefinida(f):\n",
    "    # Defina a variável simbólica\n",
    "    x = sp.symbols('x')\n",
    "\n",
    "    # Defina a função simbólica\n",
    "    F = eval(f)\n",
    "\n",
    "    # Calcule a integral indefinida da função em relação a x\n",
    "    integral = sp.integrate(F, x)\n",
    "\n",
    "    # Retorne a integral indefinida\n",
    "    return integral"
   ]
  },
  {
   "cell_type": "code",
   "execution_count": 2,
   "id": "1ba5c18b",
   "metadata": {},
   "outputs": [
    {
     "data": {
      "text/latex": [
       "$\\displaystyle \\frac{3 e^{2 x} \\sin{\\left(3 x \\right)}}{13} + \\frac{2 e^{2 x} \\cos{\\left(3 x \\right)}}{13}$"
      ],
      "text/plain": [
       "3*exp(2*x)*sin(3*x)/13 + 2*exp(2*x)*cos(3*x)/13"
      ]
     },
     "execution_count": 2,
     "metadata": {},
     "output_type": "execute_result"
    }
   ],
   "source": [
    "# Considere o Exemplo 10 para a = 2, b = 3\n",
    "f = 'sp.exp(2*x) * sp.cos(3*x)'\n",
    "integral_indefinida(f)"
   ]
  },
  {
   "cell_type": "markdown",
   "id": "1ef8fe8e",
   "metadata": {
    "heading_collapsed": true
   },
   "source": [
    "# <div style=\"margin-top: -20px;\">\n",
    "<hr style=\"border: 2px solid black;\">\n",
    "\n",
    "<font color='black'><span style=\"font-size: 22px;\"><strong>Exercícios</strong></span></font>\n",
    "\n",
    "<hr style=\"border: 2px solid black;\">\n",
    "</div>"
   ]
  },
  {
   "cell_type": "markdown",
   "id": "7e4ab253",
   "metadata": {
    "heading_collapsed": true,
    "hidden": true
   },
   "source": [
    "#### Exercício 1$^{[3]}$"
   ]
  },
  {
   "cell_type": "markdown",
   "id": "70dd49fb",
   "metadata": {
    "hidden": true
   },
   "source": [
    "Dados os números complexos $z$ e $w$ são dados por $z = 3 + 4i$ e $w = 2-i$, calcule:\n",
    "\n",
    "a) $z + w$\n",
    "\n",
    "b) $w-z$\n",
    "\n",
    "c) $wz$\n",
    "\n",
    "d) $z/w$\n",
    "\n",
    "e) $z^{*}w + w^{*}z$\n",
    "\n",
    "f) $w^{2}$\n",
    "\n",
    "g) $ln(z)$\n",
    "\n",
    "h) $(1 + z +  w)^{\\frac{1}{2}}$"
   ]
  },
  {
   "cell_type": "markdown",
   "id": "85895b82",
   "metadata": {
    "heading_collapsed": true,
    "hidden": true
   },
   "source": [
    "#### Exercício 2$^{[3]}$"
   ]
  },
  {
   "cell_type": "markdown",
   "id": "784623d9",
   "metadata": {
    "hidden": true
   },
   "source": [
    "Mostre que $Re(e^{2iz}) = e^{-2y}cos(2x)$."
   ]
  },
  {
   "cell_type": "markdown",
   "id": "9bb2684f",
   "metadata": {
    "heading_collapsed": true,
    "hidden": true
   },
   "source": [
    "#### Exercício 3"
   ]
  },
  {
   "cell_type": "markdown",
   "id": "f19c42dc",
   "metadata": {
    "hidden": true
   },
   "source": [
    "Use o **Teorema 1** para mostrar que $sen(2\\theta) = 2cos(\\theta)sen(\\theta)$."
   ]
  },
  {
   "cell_type": "markdown",
   "id": "b7e186fd",
   "metadata": {
    "heading_collapsed": true,
    "hidden": true
   },
   "source": [
    "#### Exercício 4$^{[3]}$"
   ]
  },
  {
   "cell_type": "markdown",
   "id": "85053615",
   "metadata": {
    "hidden": true
   },
   "source": [
    "Calcule \n",
    "\n",
    "a) $(-1 + i\\sqrt{3})^{\\frac{1}{2}}$\n",
    "\n",
    "b) $|e^{i^{1/2}}|$"
   ]
  },
  {
   "cell_type": "markdown",
   "id": "2c483e0b",
   "metadata": {
    "heading_collapsed": true,
    "hidden": true
   },
   "source": [
    "#### Exercício 5$^{[6]}$"
   ]
  },
  {
   "cell_type": "markdown",
   "id": "8e90d5ac",
   "metadata": {
    "hidden": true
   },
   "source": [
    "Determine o local dos pontos dados por:\n",
    "\n",
    "a) $|z-2| = 3$\n",
    "\n",
    "b) $|z-2| = |z+4|$\n",
    "\n",
    "c) $|z-3| + |z+3| = 10$\n",
    "\n",
    "d) $|z|<1$\n",
    "\n",
    "e) $1 \\leq |z + 2i| \\leq 2$\n",
    "\n",
    "f) $\\frac{\\pi}{3} \\leq \\arg(z) \\leq \\frac{\\pi}{2}$"
   ]
  },
  {
   "cell_type": "markdown",
   "id": "e7ffef4f",
   "metadata": {
    "heading_collapsed": true,
    "hidden": true
   },
   "source": [
    "#### Exercício 6$^{[6]}$"
   ]
  },
  {
   "cell_type": "markdown",
   "id": "c3d1d762",
   "metadata": {
    "hidden": true
   },
   "source": [
    "Expresse cada uma das funções a seguir na forma $u(x,y) + iv(x,y)$ em que $u$ e $v$ são reais:\n",
    "\n",
    "a) $z^{3}$\n",
    "\n",
    "b) $\\frac{1}{1-z}$\n",
    "\n",
    "c) $e^{3z}$\n",
    "\n",
    "d) $ln(z)$"
   ]
  },
  {
   "cell_type": "markdown",
   "id": "62622431",
   "metadata": {
    "heading_collapsed": true,
    "hidden": true
   },
   "source": [
    "#### Exercício 7"
   ]
  },
  {
   "cell_type": "markdown",
   "id": "c80343b0",
   "metadata": {
    "hidden": true
   },
   "source": [
    "Resolva a equação $z^{5} + 4z^{3} - 2z^{2} - 8 = 0$ que, em sua forma fatorada é dada por $(2z^{4} - 1)(z^{2}+i) = 0$."
   ]
  },
  {
   "cell_type": "markdown",
   "id": "0650bc92",
   "metadata": {
    "heading_collapsed": true,
    "hidden": true
   },
   "source": [
    "#### Exercício 8$^{[9]}$"
   ]
  },
  {
   "cell_type": "markdown",
   "id": "c6e24ba4",
   "metadata": {
    "hidden": true
   },
   "source": [
    "Mostre as seguintes identidades:\n",
    "\n",
    "a) $sen^{2}(z) + cos^{2}(z) = 1$\n",
    "\n",
    "b) $cosh^{2}(z) - senh^{2}(z) = 1$\n",
    "\n",
    "c) $senh(z) = senh(x)cos(y) + icosh(x)sen(y)$"
   ]
  },
  {
   "cell_type": "markdown",
   "id": "a561945f",
   "metadata": {
    "heading_collapsed": true
   },
   "source": [
    "# <div style=\"margin-top: -20px;\">\n",
    "<hr style=\"border: 2px solid black;\">\n",
    "\n",
    "<font color='black'><span style=\"font-size: 22px;\"><strong>Respostas dos Exercícios</strong></span></font>\n",
    "\n",
    "<hr style=\"border: 2px solid black;\">\n",
    "</div>"
   ]
  },
  {
   "cell_type": "markdown",
   "id": "8cb15daa",
   "metadata": {
    "hidden": true
   },
   "source": [
    "#### Resposta do Exercício 1"
   ]
  },
  {
   "cell_type": "markdown",
   "id": "b44a58a5",
   "metadata": {
    "hidden": true
   },
   "source": [
    "a) $5 + 3i$\n",
    "\n",
    "b) $-1-5i$\n",
    "\n",
    "c) $10 + 5i$\n",
    "\n",
    "d) $\\frac{2+11i}{5}$\n",
    "\n",
    "e) $4$\n",
    "\n",
    "f) $3-4i$\n",
    "\n",
    "g) $ln(5) + i\\left(tan^{-1}\\left(\\frac{4}{3} + 2n\\pi\\right)\\right)$\n",
    "\n",
    "h) $2.5207344100975186+0.5950646740058466i$"
   ]
  },
  {
   "cell_type": "markdown",
   "id": "48a07114",
   "metadata": {
    "hidden": true
   },
   "source": [
    "#### Resposta do Exercício 2"
   ]
  },
  {
   "cell_type": "markdown",
   "id": "6060009b",
   "metadata": {
    "hidden": true
   },
   "source": [
    "Considere $z = x + iy$. Em caso de dúvida, consulte o professor."
   ]
  },
  {
   "cell_type": "markdown",
   "id": "893bcedd",
   "metadata": {
    "hidden": true
   },
   "source": [
    "#### Resposta do Exercício 3"
   ]
  },
  {
   "cell_type": "markdown",
   "id": "dac748bd",
   "metadata": {
    "hidden": true
   },
   "source": [
    "Siga os passos do item \"a\" do **Exemplo 6**."
   ]
  },
  {
   "cell_type": "markdown",
   "id": "680390df",
   "metadata": {
    "hidden": true
   },
   "source": [
    "#### Resposta do Exercício 4"
   ]
  },
  {
   "cell_type": "markdown",
   "id": "da8a8843",
   "metadata": {
    "hidden": true
   },
   "source": [
    "a) $\\sqrt{2}e^{\\frac{\\pi i}{3}} \\ \\text{ou} \\ \\sqrt{2}e^{\\frac{4\\pi i}{3}}$\n",
    "\n",
    "b) $e^{\\frac{1}{\\sqrt{2}}} \\ \\text{ou} \\ e^{\\frac{-1}{\\sqrt{2}}}$"
   ]
  },
  {
   "cell_type": "markdown",
   "id": "90fb444c",
   "metadata": {
    "hidden": true
   },
   "source": [
    "#### Resposta do Exercício 5"
   ]
  },
  {
   "cell_type": "markdown",
   "id": "8cbc6623",
   "metadata": {
    "hidden": true
   },
   "source": [
    "a) círculo de centro $(2,0)$ e raio $3$ ou $(x-2)^{2} + y^{2} = 9$.\n",
    "\n",
    "b) $x = -1$\n",
    "\n",
    "c) $\\frac{x^{2}}{25} + \\frac{y^{2}}{16} = 1$\n",
    "\n",
    "d) interior do círculo de centro $(0,0)$ e raio $1$\n",
    "\n",
    "e) anel centrado em $(0,-2)$, raio interno $1$ e raio externo $2$\n",
    "\n",
    "f) região entre as retas $y = 1 = tan\\left(\\frac{\\pi}{2}\\right)$ e $y = tan\\left(\\frac{\\pi}{3}\\right)x$\n",
    "\n",
    "Confira as figuras a seguir:<br><br>\n",
    " <center> <img src=\"fig1_8.png\" alt=\"png_python\" width=\"800\"> </center>  "
   ]
  },
  {
   "cell_type": "markdown",
   "id": "a5fac912",
   "metadata": {
    "hidden": true
   },
   "source": [
    "#### Resposta do Exercício 6"
   ]
  },
  {
   "cell_type": "markdown",
   "id": "83dab38e",
   "metadata": {
    "hidden": true
   },
   "source": [
    "a) $x^{3} -3xy^{2} + i(3x^{2}y - y^{3}) \\rightarrow u(x,y) = x^{3} -3xy^{2} \\ \\text{e} \\ v(x,y) = 3x^{2}y - y^{3}$\n",
    "\n",
    "b) $u(x,y) = \\frac{1-x}{(1-x^{2})+y^{2}}$ e  $v(x,y) = \\frac{y}{(1-x^{2})+y^{2}}$\n",
    "\n",
    "c) $u(x,y) = e^{3x}cos(3y)$ e $v(x,y) = e^{3x}sen(y)$\n",
    "\n",
    "d) $u(x,y) = \\frac{1}{2}ln(x^{2} + y^{2})$ e $v(x,y) = tan^{-1}\\frac{y}{x}$"
   ]
  },
  {
   "cell_type": "markdown",
   "id": "5faa9a0c",
   "metadata": {
    "hidden": true
   },
   "source": [
    "#### Resposta do Exercício 7"
   ]
  },
  {
   "cell_type": "markdown",
   "id": "8d07c5c1",
   "metadata": {
    "hidden": true
   },
   "source": [
    "$z_{1} = \\sqrt[4]{\\frac{1}{2}}, \\ z_{2} = -\\sqrt[4]{\\frac{1}{2}}, \\ z_{3} = \\sqrt[4]{\\frac{1}{2}}i, \\ z_{4} = -\\sqrt[4]{\\frac{1}{2}}i, z_{5} = -\\frac{\\sqrt{2}}{2} + \\frac{\\sqrt{2}}{2}i \\ \\text{e} \\ z_{6}  = \\frac{\\sqrt{2}}{2} - \\frac{\\sqrt{2}}{2}i.$"
   ]
  },
  {
   "cell_type": "markdown",
   "id": "ed839291",
   "metadata": {
    "hidden": true
   },
   "source": [
    "#### Resposta do Exercício 8"
   ]
  },
  {
   "cell_type": "markdown",
   "id": "8518dfaf",
   "metadata": {
    "hidden": true
   },
   "source": [
    "Encontre em $[9]$."
   ]
  },
  {
   "cell_type": "markdown",
   "id": "bb844f24",
   "metadata": {
    "heading_collapsed": true
   },
   "source": [
    "# <div style=\"margin-top: -20px;\">\n",
    "<hr style=\"border: 2px solid black;\">\n",
    "\n",
    "<font color='black'><span style=\"font-size: 22px;\"><strong>Vídeo Aulas</strong></span></font>\n",
    "\n",
    "<hr style=\"border: 2px solid black;\">\n",
    "</div>"
   ]
  },
  {
   "cell_type": "markdown",
   "id": "4062851d",
   "metadata": {
    "hidden": true
   },
   "source": [
    "Clicando nos links a seguir você será redirecionado às aulas referentes a este capítulo:\n",
    "\n"
   ]
  },
  {
   "cell_type": "markdown",
   "id": "4bd351bd",
   "metadata": {},
   "source": [
    "# <div style=\"margin-top: -20px;\">\n",
    "<hr style=\"border: 2px solid black;\">\n",
    "\n",
    "<font color='black'><span style=\"font-size: 22px;\"><strong>Referências</strong></span></font>\n",
    "\n",
    "<hr style=\"border: 2px solid black;\">\n",
    "</div>"
   ]
  },
  {
   "cell_type": "markdown",
   "id": "e4c36f16",
   "metadata": {},
   "source": [
    "$[0]$ Bibliografia constante no Projeto Pedagógico do Curso de Engenharia Elétrica 2023.\n",
    "\n",
    "$[1]$ FERNANDEZ, C. de S.; BERNANDES JÚNIOR, N. Introdução às funções de uma variável complexa. Rio de Janeiro: SBM, 2016.\n",
    "\n",
    "$[2]$ BUTKOV, E. Física matemática. Rio de Janeiro: LTC, 1988.\n",
    "\n",
    "$[3]$ RILEY, K. F.; HOBSON, M. P.; BENCE, S. J. Mathematical methods for physics and engineering. 3rd ed. Cambridge: Cambridge University Press, 2006.\n",
    "\n",
    "$[4]$ SANTOS, R. J., Transformada de Fourier. Belo Horizonte: Universidade Federal de Minas Gerais, 2017.\n",
    "\n",
    "$[5]$ SOARES, A. Curso Python Com Jupyter Notebook. Instituto Federal da Bahia, Campus Vitória da Conquista, $2023$. Disponível em https://github.com/ProfAllanIFBA/Curso_Python_Com_Jupyter_Notebook\n",
    "\n",
    "$[6]$ SPIEGEL, M. R. Advanced mathematics for engineers and scientists. New York: McGraw-Hill, 1971.\n",
    "\n",
    "$[7]$ SPIEGEL, M. R. Cálculo Avançado. São Paulo: McGraw-Hill, 1971.\n",
    "\n",
    "$[8]$ ZILL, D. G.; CULLEN, M. R. Matemática avançada para engenharia, v.3: equações diferenciais parciais, métodos de Fourier e variáveis complexas. 3 ed. Porto Alegre: Bookman, 2009.\n",
    "\n",
    "$[9]$ ZILL, D. G., Advanced Engineering Mathematics. 6rd ed. Jones & Bartlett Learning 2017.\n",
    "\n",
    "$[10]$ ZILL, D. G., CULLEN, M. R. Equações Diferenciais. v1, 3 ed. São Paulo: Makron Books, 2001."
   ]
  }
 ],
 "metadata": {
  "kernelspec": {
   "display_name": "Python 3 (ipykernel)",
   "language": "python",
   "name": "python3"
  },
  "language_info": {
   "codemirror_mode": {
    "name": "ipython",
    "version": 3
   },
   "file_extension": ".py",
   "mimetype": "text/x-python",
   "name": "python",
   "nbconvert_exporter": "python",
   "pygments_lexer": "ipython3",
   "version": "3.11.5"
  },
  "varInspector": {
   "cols": {
    "lenName": 16,
    "lenType": 16,
    "lenVar": 40
   },
   "kernels_config": {
    "python": {
     "delete_cmd_postfix": "",
     "delete_cmd_prefix": "del ",
     "library": "var_list.py",
     "varRefreshCmd": "print(var_dic_list())"
    },
    "r": {
     "delete_cmd_postfix": ") ",
     "delete_cmd_prefix": "rm(",
     "library": "var_list.r",
     "varRefreshCmd": "cat(var_dic_list()) "
    }
   },
   "types_to_exclude": [
    "module",
    "function",
    "builtin_function_or_method",
    "instance",
    "_Feature"
   ],
   "window_display": false
  }
 },
 "nbformat": 4,
 "nbformat_minor": 5
}

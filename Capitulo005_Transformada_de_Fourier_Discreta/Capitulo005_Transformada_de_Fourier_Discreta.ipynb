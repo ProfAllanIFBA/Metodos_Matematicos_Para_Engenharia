{
 "cells": [
  {
   "cell_type": "markdown",
   "id": "d4ea28a8",
   "metadata": {
    "slideshow": {
     "slide_type": "slide"
    }
   },
   "source": [
    "<center> <img src=\"logo_ifba.jpg\" alt=\"jpg_python\" width=\"100\" height=\"200\"> </center>\n",
    "<br><br>\n",
    "<div align=\"center\"><span style=\"font-size: 26px;\"><strong>Métodos Matemáticos Para Engenharia <br></strong></span></div> <br>\n",
    "<center> <img src=\"python_gif.gif\" alt=\"gif_python\" width=\"80\"> </center>\n"
   ]
  },
  {
   "cell_type": "markdown",
   "id": "d76184a7",
   "metadata": {
    "slideshow": {
     "slide_type": "slide"
    }
   },
   "source": [
    "<div style=\"border: 2px solid black; padding: 10px; width: 95%; background-color: lightgray; display: flex; align-items: center;\">\n",
    "    <h1 style=\"color: red; text-align: center; margin: auto;\">\n",
    "        Capítulo 5: Transformada Fourier Discreta\n",
    "    </h1>\n",
    "</div>\n",
    "\n",
    "<font color='red'></font>\n",
    "<a href=\"\"></a>"
   ]
  },
  {
   "cell_type": "markdown",
   "id": "6c4c6d56",
   "metadata": {},
   "source": [
    "# <div style=\"margin-top: -20px;\">\n",
    "<hr style=\"border: 2px solid black;\">\n",
    "\n",
    "<font color='black'><span style=\"font-size: 22px;\"><strong>5.1 Transformada de Fourier Discreta</strong></span></font>\n",
    "\n",
    "<hr style=\"border: 2px solid black;\">\n",
    "</div>"
   ]
  },
  {
   "cell_type": "markdown",
   "id": "4e0ca171",
   "metadata": {},
   "source": [
    "Considere uma função $f$ definida e contínua no intervalo $[0, 2L]$. Se $x_{0}, x_{1}, \\ldots, x_{n}, \\dots$ são pontos igualmente espaçados no intervalo, então os valores de função correspondentes $f_{0} = f(x_{0}), f_{1} = f(x_{1}), \\ldots, f_{n} = f(x_{n})$ são considerados uma amostragem discreta da função $f$.\n",
    "\n",
    "Considere uma função f definida no intervalo $[0, 2L]$. Temos que $f$ pode ser escrita em uma série complexa de Fourier,\n",
    "\n",
    "$$f(x) = \\sum_{n = -\\infty}^{\\infty} c_{n}e^{in\\omega x} \\ \\ \\text{em que} \\ \\ c_{n} = \\frac{1}{2L}\\int_{0}^{2L}f(x)e^{-in\\omega x} dx, \\tag{1}$$\n",
    "\n",
    "onde $\\omega = \\frac{\\pi}{L}$ é a frequência angular fundamental e $2L$ é o período fundamental. No caso discreto, entretanto, a entrada é $f_{0}, f_{1}, \\ldots$ que são os valores da função $f$ em pontos igualmente espaçados $x = nT$, $n = 0, 1, 2, \\dots$. O número $T$ é chamado de taxa de amostragem ou comprimento do intervalo de amostragem. Se $f$ for contínua em $T$, então a amostra de $f$ em $T$ é definida como o produto $f(x)\\delta(x-T)$, em que $\\delta(x-T)$ é a função delta de Dirac. Podemos então representar esta versão discreta de $f$, ou sinal discreto, como a soma dos impulsos unitários agindo na função em $x = nT$:\n",
    "\n",
    "$$\\sum_{n=-\\infty}^{\\infty} f(x)\\delta(x - nT)\\tag{2}$$\n",
    "\n",
    "Se nós aplicarmos a transformada de Fourier ao sinal discreto $(2)$, nos teremos:\n",
    "\n",
    "$$\\int_{-\\infty}^{\\infty} \\sum_{n=-\\infty}^{\\infty} f(x)\\delta(x - nT)e^{i\\alpha x} dx =  \\sum_{n=-\\infty}^{\\infty} \\int_{-\\infty}^{\\infty}\\delta(x - nT)\\left[f(x)e^{i\\alpha x}\\right] dx \\tag{3}$$ \n",
    "\n",
    "Usando a propriedade da filtragem da função delta de Dirac\n",
    "\n",
    "$$\\int_{-\\infty}^{\\infty} \\delta(x-a)g(x) dx = g(a) \\tag{4}$$\n",
    "\n",
    "em $(3)$ temos que:\n",
    "\n",
    "$$ F(\\alpha) = \\sum_{n = -\\infty}^{\\infty} f(nT)e^{i\\alpha n T} \\tag{5}$$\n",
    "\n",
    "\n",
    "A expressão $F(\\alpha)$ em $(5)$ é chamada de transformada discreta de Fourier (DFT) da função $f$. Freqüentemente escrevemos os coeficientes $f(nT)$ em $(5)$ como $f(n)$ ou $f_{n}$. Note que $e^{i\\alpha x}$ é periódico em $\\alpha$ e \n",
    "\n",
    "$$e^{i\\alpha T} = e^{i(\\alpha T + 2\\pi)} = e^{i\\left(\\alpha + \\frac{2\\pi}{T}\\right)T}, \\tag{6}$$\n",
    "\n",
    "Desta forma só precisamos considerar a função para $\\alpha$ em $\\left[0, \\frac{2\\pi}{T}\\right]$. Seja $T = \\frac{2\\pi}{N}$. Isso coloca $x$ no intervalo $[0, 2L]$. Portanto, como amostramos durante um período, a soma em $(5)$ é na verdade finita.\n",
    "\n",
    "Agora consideremos a função $f(x)$ em $N$ pontos igualmente espaçados, $x = nT$, $n = 0,1,2, \\ldots, N-1$, no intervalo $[0,2\\pi]$, $f(x) = \\sum_{n=-\\infty}^{\\infty} c_{n}e^{inx}$ temos, para $N$ termos e $T = \\frac{2\\pi}{N}$ que a série de Fourier (finita) $f(x) = \\sum_{n = -\\infty}^{\\infty} c_{n}e^{inx}$ com $N$ termos é dada por:\n",
    "\n",
    "$$f_{0} = f(0) = \\sum_{n = 0}^{N-1} c_{n}e^{in\\cdot0} = c_{0}e^{i\\cdot0\\cdot0} + c_{1}e^{i\\cdot1\\cdot0} + c_{2}e^{i\\cdot2\\cdot0} + \\ldots + c_{N-1}e^{i\\cdot(N-1)\\cdot0}$$\n",
    "\n",
    "$$f_{1} = f(T) = \\sum_{n = 0}^{N-1} c_{n}e^{in\\cdot T} = \\sum_{n = 0}^{N-1} c_{n}e^{in\\cdot \\frac{2\\pi}{N}} = c_{0}e^{i\\cdot0\\cdot\\frac{2\\pi}{N}} + c_{1}e^{i\\cdot1\\cdot\\frac{2\\pi}{N}} + c_{2}e^{i\\cdot2\\cdot\\frac{2\\pi}{N}} + \\ldots + c_{N-1}e^{i\\cdot(N-1)\\cdot\\frac{2\\pi}{N}}$$\n",
    "\n",
    "$$f_{2} = f(2T) = \\sum_{n = 0}^{N-1} c_{n}e^{in\\cdot 2T} = \\sum_{n = 0}^{N-1} c_{n}e^{in\\cdot \\frac{4\\pi}{N}} = c_{0}e^{i\\cdot0\\cdot\\frac{4\\pi}{N}} + c_{1}e^{i\\cdot1\\cdot\\frac{4\\pi}{N}} + c_{2}e^{i\\cdot2\\cdot\\frac{4\\pi}{N}} + \\ldots + c_{N-1}e^{i\\cdot(N-1)\\cdot\\frac{4\\pi}{N}}$$\n",
    "\n",
    "$$\\vdots$$\n",
    "\n",
    "$$f_{N-1} = \\sum_{n = 0}^{N-1} c_{n}e^{in\\cdot (N-1)T} = \\sum_{n = 0}^{N-1} c_{n}e^{in\\cdot \\frac{(N-1)2\\pi}{N}} = c_{0}e^{i\\cdot0\\cdot\\frac{(N-1)2\\pi}{N}} + c_{1}e^{i\\cdot1\\cdot\\frac{(N-1)2\\pi}{N}} + c_{2}e^{i\\cdot2\\cdot\\frac{(N-1)2\\pi}{N}} + \\ldots + c_{N-1}e^{i\\cdot(N-1)\\cdot\\frac{(N-1)2\\pi}{N}}$$\n",
    "\n",
    "Se fizermos $\\omega_{N} = e^{\\frac{i2\\pi}{N}} = cos\\left(\\frac{2\\pi}{N}\\right) + isen\\left(\\frac{2\\pi}{N}\\right)$, temos que:\n",
    "\n",
    "$$e^{\\frac{ki2\\pi}{N}} = \\left(e^{\\frac{i2\\pi}{N}} \\right)^{k} = \\omega_{N}^{k}.$$\n",
    "\n",
    "Assim, podemos reescrever $f_{0}, f_{1}, f_{2}, \\ldots, f_{N-1}$ como:\n",
    "\n",
    "<font color='red'>$$\\begin{array}{}\n",
    "f_{0} & = & c_{0} & + & c_{1} & + & c_{2} & + & \\ldots & + & c_{N-1} \\\\\n",
    "f_{1} & = & c_{0} & + & c_{1}\\omega_{N} & + & c_{2}\\omega_{N}^{2} & + & \\ldots & + & c_{N-1}\\omega_{N}^{N-1} \\\\\n",
    "f_{2} & = & c_{0} & + & c_{1}\\omega_{N}^{2} & + & c_{2}\\omega_{N}^{4} & + & \\ldots & + & c_{N-1}\\omega_{N}^{2(N-1)} \\\\\n",
    "& & & & & \\vdots & & & & &\\\\\n",
    "f_{N-1} & = & c_{0} & + & c_{1}\\omega_{N}^{N-1} & + & c_{2}\\omega_{N}^{2(N-1)} & + & \\ldots & + & c_{N-1}\\omega_{N}^{(N-1)^{2}} \\\\\n",
    "\\end{array} \\tag{7}$$</font>\n",
    "\n",
    "Podemos usar matrizes para escrever $(7)$ como:\n",
    "\n",
    "<font color='red'>$$\\begin{bmatrix}{}\n",
    "f_{0} \\\\\n",
    "f_{1} \\\\\n",
    "f_{2} \\\\\n",
    "\\vdots \\\\\n",
    "f_{N-1} \\\\\n",
    "\\end{bmatrix} \n",
    "= \\begin{bmatrix}{}\n",
    "1 & 1 & 1 & \\ldots & 1 \\\\\n",
    "1 & \\omega_{N} & \\omega_{N}^{2} & \\ldots & \\omega_{N}^{N-1}\\\\\n",
    "1 & \\omega_{N}^{2} & \\omega_{N}^{4} & \\ldots & \\omega_{N}^{2(N-1)}\\\\\n",
    "\\vdots & & \\vdots & & \\vdots\\\\\n",
    "1 & \\omega_{N}^{N-1} & \\omega_{N}^{2(N-1)} & \\ldots & \\omega_{N}^{(N-1)^{2}}\\\\\n",
    "\\end{bmatrix}\n",
    "\\begin{bmatrix}{}\n",
    "c_{0} \\\\\n",
    "c_{1} \\\\\n",
    "c_{2} \\\\\n",
    "\\vdots \\\\\n",
    "c_{N-1} \\\\\n",
    "\\end{bmatrix} \\tag{8}$$</font>\n",
    "\n",
    "Denotemos a matriz $N \\times N$ dada em $(8)$ por $F_{N}$."
   ]
  },
  {
   "cell_type": "markdown",
   "id": "b24a2317",
   "metadata": {},
   "source": [
    "#### <font color='blue'> Exemplo 1 </font>"
   ]
  },
  {
   "cell_type": "markdown",
   "id": "80747828",
   "metadata": {},
   "source": [
    "<font color='blue'> Determine as matrizes $F_{3}$ e $F_{4}$:"
   ]
  },
  {
   "cell_type": "markdown",
   "id": "7761dd28",
   "metadata": {},
   "source": [
    "##### <font color='blue'> Solução </font>"
   ]
  },
  {
   "cell_type": "markdown",
   "id": "3a63df9b",
   "metadata": {},
   "source": [
    "<font color='blue'> *Determinando $F_{3}$*: Devemos obter $\\omega_{3}$ e algumas de suas pontências para obter:<br><br>\n",
    " $$F_{3} = \\begin{bmatrix}{}\n",
    " 1 & 1 & 1 \\\\\n",
    " 1 & \\omega_{3} & \\omega_{3}^{2}\\\\\n",
    " 1 & \\omega_{3}^{2} & \\omega_{3}^{4} \\\\\n",
    " \\end{bmatrix}\n",
    " $$\n",
    " Precisamos calcular os valores das potências de $\\omega_{3}$.<br><br>\n",
    " Sendo $\\omega_{3} = e^{\\frac{i2\\pi}{3}} = cos\\left(\\frac{2\\pi}{3}\\right) + icos\\left(\\frac{2\\pi}{3}\\right) = -\\frac{1}{2} + i\\frac{\\sqrt{3}}{2}$. Temos que<br><br>\n",
    " $\\omega_{3}^{2} = \\left(-\\frac{1}{2} + i\\frac{\\sqrt{3}}{2}\\right)^{2} = -\\frac{1}{2} - i\\frac{\\sqrt{3}}{2}$<br><br>\n",
    " $\\omega_{3}^{3} = \\omega_{3}\\omega_{3}^{2} = \\left(-\\frac{1}{2} + i\\frac{\\sqrt{3}}{2}\\right)\\left(-\\frac{1}{2} + i\\frac{\\sqrt{3}}{2}\\right)^{2} = \\left(-\\frac{1}{2} + i\\frac{\\sqrt{3}}{2}\\right)\\left(-\\frac{1}{2} - i\\frac{\\sqrt{3}}{2}\\right) = 1$ (óbvio)<br><br>\n",
    " $\\omega_{3}^{4} = \\omega_{3}\\omega_{3}^{3} = \\omega_{3} = -\\frac{1}{2} + i\\frac{\\sqrt{3}}{2}$<br><br>\n",
    " Assim,<br><br>\n",
    " $$F_{3} = \\begin{bmatrix}{}\n",
    " 1 & 1 & 1 \\\\\n",
    " 1 & \\omega_{3} & \\omega_{3}^{2}\\\\\n",
    " 1 & \\omega_{3}^{2} & \\omega_{3}^{4} \\\\\n",
    " \\end{bmatrix} =\n",
    " \\begin{bmatrix}\n",
    "1 & 1 & 1 \\\\\n",
    "1 & -\\frac{1}{2} + i \\frac{\\sqrt{3}}{2} & -\\frac{1}{2} - i \\frac{\\sqrt{3}}{2} \\\\\n",
    "1 & -\\frac{1}{2} - i \\frac{\\sqrt{3}}{2} & -\\frac{1}{2} + i \\frac{\\sqrt{3}}{2}\n",
    "\\end{bmatrix} $$<br>\n",
    " *Determinando $F_{4}$*: Analogamente, temos:<br><br>\n",
    " $$F_{4} = \\begin{bmatrix}{}\n",
    " 1 & 1 & 1 & 1\\\\\n",
    " 1 & \\omega_{4} & \\omega_{4}^{2} & \\omega_{4}^{3}\\\\\n",
    " 1 & \\omega_{4}^{2} & \\omega_{4}^{4} & \\omega_{4}^{6}\\\\\n",
    " 1 & \\omega_{4}^{3} & \\omega_{4}^{6} & \\omega_{4}^{9}\\\\\n",
    " \\end{bmatrix}\n",
    " $$\n",
    " Precisamos calcular os valores das potências de $\\omega_{4}$.<br><br>\n",
    " Sendo $\\omega_{4} = e^{\\frac{i2\\pi}{4}} = cos\\left(\\frac{\\pi}{2}\\right) + icos\\left(\\frac{\\pi}{2}\\right) = i$. Temos que<br><br>\n",
    " $\\omega_{4}^{2} = i^{2} = -1$<br><br>\n",
    " $\\omega_{4}^{3} = i^{3} = i^{2}i = -i$<br><br>\n",
    " $\\omega_{4}^{4} = i^{2}i^{2} = 1$ (óbvio)<br><br>\n",
    " $\\omega_{4}^{6} = i^{4}i^{2} = -1$<br><br>\n",
    " $\\omega_{4}^{9} = i^{4}i^{4}i = i$<br><br>\n",
    " Assim,<br><br>\n",
    " $$F_{4} = \\begin{bmatrix}{}\n",
    " 1 & 1 & 1 & 1\\\\\n",
    " 1 & \\omega_{4} & \\omega_{4}^{2} & \\omega_{4}^{3}\\\\\n",
    " 1 & \\omega_{4}^{2} & \\omega_{4}^{4} & \\omega_{4}^{6}\\\\\n",
    " 1 & \\omega_{4}^{3} & \\omega_{4}^{6} & \\omega_{4}^{9}\\\\\n",
    " \\end{bmatrix} =\n",
    " \\begin{bmatrix}{}\n",
    " 1 & 1 & 1 & 1\\\\\n",
    " 1 & i & -1 & -i\\\\\n",
    " 1 & -1 & 1 & -1\\\\\n",
    " 1 & -i & -1 & i\\\\\n",
    " \\end{bmatrix}$$<br>"
   ]
  },
  {
   "cell_type": "code",
   "execution_count": null,
   "id": "84fe44f3",
   "metadata": {},
   "outputs": [],
   "source": [
    "import numpy as np\n",
    "\n",
    "def gerar_FN(N):\n",
    "    \"\"\"Gera a matriz DFT para um dado N.\"\"\"\n",
    "    omega = np.exp(2j * np.pi / N)  # N-ésima raiz de unidade\n",
    "    F_N = np.array([[omega**(i*j) for j in range(N)] for i in range(N)])\n",
    "    return F_N"
   ]
  },
  {
   "cell_type": "code",
   "execution_count": null,
   "id": "523fcc69",
   "metadata": {},
   "outputs": [],
   "source": [
    "# Gerando F3\n",
    "np.round(gerar_FN(3),10)"
   ]
  },
  {
   "cell_type": "code",
   "execution_count": null,
   "id": "92be8976",
   "metadata": {},
   "outputs": [],
   "source": [
    "# Gerando F4\n",
    "np.round(gerar_FN(4),10)"
   ]
  },
  {
   "cell_type": "markdown",
   "id": "4830d554",
   "metadata": {},
   "source": [
    "Para uma melhor visualização podemos arredondar os valores de \"F_N\":"
   ]
  },
  {
   "cell_type": "code",
   "execution_count": null,
   "id": "eab65998",
   "metadata": {},
   "outputs": [],
   "source": [
    "# Gerando F4 arredondados\n",
    "np.round(gerar_FN(4),5)"
   ]
  },
  {
   "cell_type": "markdown",
   "id": "f690a895",
   "metadata": {},
   "source": [
    "Note que a obteção dos coeficientes de Fourier $c_{0},c_{1},c_{2},\\ldots,c_{N-1}$ em $(8)$ exige a solução de um sistema linear $N \\times N$. Felizmente, este sistema apresenta uma solução bastante simples. Sendo $\\overline{F}_{N}$ a matriz consistindo das entradas de $F_{N}$ e $I_{N}$ a matriz identidade de ordem $N$ é possível mostrar que\n",
    "\n",
    "<font color='red'>$$F_{N}\\overline{F}_{N} = \\overline{F}_{N}F_{N} = NI_{N} \\Rightarrow F_{N}^{-1} = \\frac{1}{N}\\overline{F}_{N} \\tag{9}$$</font>\n",
    "\n",
    "donde segue que:\n",
    "\n",
    "<font color='red'>$$\\begin{bmatrix}{}\n",
    "c_{0} \\\\\n",
    "c_{1} \\\\\n",
    "c_{2} \\\\\n",
    "\\vdots \\\\\n",
    "c_{N-1} \\\\\n",
    "\\end{bmatrix} = \n",
    "\\frac{1}{N}\\overline{F}_{N}\n",
    "\\begin{bmatrix}{}\n",
    "f_{0} \\\\\n",
    "f_{1} \\\\\n",
    "f_{2} \\\\\n",
    "\\vdots \\\\\n",
    "f_{N-1} \\\\\n",
    "\\end{bmatrix}. \\tag{10}$$</font>"
   ]
  },
  {
   "cell_type": "code",
   "execution_count": 22,
   "id": "4b83697a",
   "metadata": {},
   "outputs": [
    {
     "data": {
      "text/plain": [
       "array([[ 1.-0.j,  1.-0.j,  1.-0.j,  1.-0.j],\n",
       "       [ 1.-0.j,  0.-1.j, -1.-0.j, -0.+1.j],\n",
       "       [ 1.-0.j, -1.-0.j,  1.+0.j, -1.-0.j],\n",
       "       [ 1.-0.j, -0.+1.j, -1.-0.j,  0.-1.j]])"
      ]
     },
     "execution_count": 22,
     "metadata": {},
     "output_type": "execute_result"
    }
   ],
   "source": [
    "import numpy as np\n",
    "\n",
    "def gerar_FN_conjugada(N):\n",
    "    \"\"\"Gera a matriz DFT para um dado N.\"\"\"\n",
    "    omega = np.exp(2j * np.pi / N)  # N-ésima raiz de unidade\n",
    "    F_N = np.array([[omega**(i*j) for j in range(N)] for i in range(N)])\n",
    "    return F_N.conjugate()\n",
    "\n",
    "np.round(gerar_FN_conjugada(4),10)"
   ]
  },
  {
   "cell_type": "markdown",
   "id": "c99abff3",
   "metadata": {},
   "source": [
    "#### <font color='blue'> Exemplo 2 </font>"
   ]
  },
  {
   "cell_type": "markdown",
   "id": "c7f3d224",
   "metadata": {},
   "source": [
    "<font color='blue'> Verifique que $F_{4}\\overline{F}_{4} = 4I_{4}$."
   ]
  },
  {
   "cell_type": "markdown",
   "id": "a79f144a",
   "metadata": {},
   "source": [
    "##### <font color='blue'> Solução </font>"
   ]
  },
  {
   "cell_type": "markdown",
   "id": "e7d0bb5d",
   "metadata": {},
   "source": [
    "<font color='blue'> Aproveitando a matriz $F_{4}$ obtida no **Exemplo 1**, temos que<br><br>\n",
    " $$A = F_{4}\\overline{F}_{4} = \\begin{bmatrix}{}\n",
    " 1 & 1 & 1 & 1\\\\\n",
    " 1 & i & -1 & -i\\\\\n",
    " 1 & -1 & 1 & -1\\\\\n",
    " 1 & -i & -1 & i\\\\\n",
    " \\end{bmatrix}\\begin{bmatrix}{}\n",
    " 1 & 1 & 1 & 1\\\\\n",
    " 1 & -i & -1 & i\\\\\n",
    " 1 & -1 & 1 & -1\\\\\n",
    " 1 & i & -1 & -i\\\\\n",
    " \\end{bmatrix} =$$<br><br>\n",
    " Note que os elementos da primeira linha da matriz $F_{4}\\overline{F}_{4}$ são:<br><br>\n",
    " $a_{11} = 1\\cdot1 + 1\\cdot1 + 1\\cdot1 + 1\\cdot1 = 4$<br><br>\n",
    " $a_{12} = 1\\cdot1 + 1\\cdot(-i) + 1\\cdot(-1) + 1\\cdot i = 0$<br><br>\n",
    " $a_{13} = 1\\cdot1 + 1\\cdot(-1) + 1\\cdot1 + 1\\cdot(-1) = 0$<br><br>\n",
    " $a_{14} = 1\\cdot1 + 1\\cdot i + 1\\cdot(-1) + 1\\cdot (-i) = 0$<br><br>\n",
    " Calculando os demais elementos, obtemos:<br><br>\n",
    " $$F_{4}\\overline{F}_{4} = \\begin{bmatrix}{}\n",
    " 4 & 0 & 0 & 0\\\\\n",
    " 0 & 4 & 0 & 0\\\\\n",
    " 0 & 0 & 4 & 0\\\\\n",
    " 0 & 0 & 0 & 4\\\\\n",
    " \\end{bmatrix} = 4\\begin{bmatrix}{}\n",
    " 1 & 0 & 0 & 0\\\\\n",
    " 0 & 1 & 0 & 0\\\\\n",
    " 0 & 0 & 1 & 0\\\\\n",
    " 0 & 0 & 0 & 1\\\\\n",
    " \\end{bmatrix} = 4I_{4}$$"
   ]
  },
  {
   "cell_type": "markdown",
   "id": "9ef77067",
   "metadata": {},
   "source": [
    "#### <font color='blue'> Exemplo 3 </font>"
   ]
  },
  {
   "cell_type": "markdown",
   "id": "39c0547e",
   "metadata": {},
   "source": [
    "<font color='blue'> Consideremos uma função $f$ tal que $f(0) = 0$, $f\\left(\\frac{\\pi}{2}\\right) = 2$, $f(\\pi) = 4$ e $f\\left(\\frac{3\\pi}{2}\\right) = 6$.<br><br>\n",
    " a) Calcule $F(0), F(1), F(2)$ e $F(3)$ usando $F(\\alpha) = \\sum_{n=0}^{3}f(nT)e^{i\\alpha nT}$.<br><br>\n",
    " b) Determine os coeficientes da transformada discreta de Fourier usando matrizes.<br><br>\n",
    " c) Verifique que $|c_{k}| = \\frac{1}{4}|F(k)|$ para todo $k = 0,1,2,3$."
   ]
  },
  {
   "cell_type": "markdown",
   "id": "7fd4d7fb",
   "metadata": {},
   "source": [
    "##### <font color='blue'> Solução </font>"
   ]
  },
  {
   "cell_type": "markdown",
   "id": "aea83bcb",
   "metadata": {},
   "source": [
    "<font color='blue'> a) Temos que $F(\\alpha) = \\sum_{n=0}^{3}f(nT)e^{i\\alpha nT}$ com $T = \\frac{\\pi}{2}$. Assim,<br>\n",
    " $$F(0) = \\sum_{n=0}^{3}f(n\\frac{\\pi}{2})e^{i\\cdot0\\cdot n\\frac{\\pi}{2}} = 0 + 2 + 4 + 6 = 12$$<br>\n",
    " $$F(1) = \\sum_{n=0}^{3}f(n\\frac{\\pi}{2})e^{i\\cdot1\\cdot n\\frac{\\pi}{2}} = 0 + 2e^{i\\frac{\\pi}{2}} + 4e^{i\\pi} +6e^{i\\frac{3\\pi}{2}} =$$<br>\n",
    " $$=0 + 2\\left(cos\\left(\\frac{\\pi}{2}\\right) + isen\\left(\\frac{\\pi}{2}\\right)\\right) +  4(cos(\\pi) + isen(\\pi)) + 6\\left(cos\\left(\\frac{3\\pi}{2}\\right) + isen\\left(\\frac{3\\pi}{2}\\right)\\right) = $$<br>\n",
    " $$ = 0 + 2(0 + i) + 4(-1 + 0) + 6(0 - i) = 2i - 4 - 6i = -4 - 4i$$<br>\n",
    " $$F(2) = \\sum_{n=0}^{3}f(n\\frac{\\pi}{2})e^{i\\cdot2\\cdot n\\frac{\\pi}{2}} = 0 + 2e^{i\\frac{2\\pi}{2}} + 4e^{2i\\pi} +6e^{i\\frac{2\\cdot3\\pi}{2}} = 0 + 2e^{i\\pi} + 4e^{2i\\pi} +6e^{i3\\pi}$$<br>\n",
    " $$=0 + 2(cos(\\pi) + isen(\\pi)) +  4(cos(2\\pi) + isen(2\\pi)) + 6(cos(3\\pi) + isen(3\\pi)) = $$<br>\n",
    " $$ = 0 + 2(-1 + 0i) + 4(1 + 0i ) + 6(-1 + 0i) = -2 + 4 - 6 = -4$$<br>\n",
    " $$F(3) = \\sum_{n=0}^{3}f(n\\frac{\\pi}{2})e^{i\\cdot3\\cdot n\\frac{\\pi}{2}} = 0 + 2e^{i\\frac{3\\pi}{2}} + 4e^{3i\\pi} +6e^{i\\frac{3\\cdot3\\pi}{2}} = 0 + 2e^{i\\frac{3\\pi}{2}} + 4e^{3i\\pi} +6e^{i\\frac{9\\pi}{2}}$$<br>\n",
    " $$=0 + 2\\left(cos\\left(\\frac{3\\pi}{2}\\right) + isen\\left(\\frac{3\\pi}{2}\\right)\\right) +  4(cos(3\\pi) + isen(3\\pi)) + 6\\left(cos\\left(\\frac{9\\pi}{2}\\right) + isen\\left(\\frac{9\\pi}{2}\\right)\\right) =  $$<br>\n",
    " $$ = 0 + 2(0 - i) + 4(-1 + 0i) + 6(0 + i) = -2i -4 + 6i = -4 + 4i$$<br>\n",
    " b) Sabemos, conforme $(10)$, que os coeficientes de Fourier são dados por:<br><br>\n",
    " $$\\begin{bmatrix}{}\n",
    "c_{0} \\\\\n",
    "c_{1} \\\\\n",
    "c_{2} \\\\\n",
    "c_{3} \\\\\n",
    "\\end{bmatrix} = \n",
    "\\frac{1}{4}\\overline{F}_{4}\n",
    "\\begin{bmatrix}{}\n",
    "f_{0} \\\\\n",
    "f_{1} \\\\\n",
    "f_{2} \\\\\n",
    "f_{3} \\\\\n",
    "\\end{bmatrix}.$$<br>\n",
    " Assim,<br><br>\n",
    " $$\\begin{bmatrix}{}\n",
    "c_{0} \\\\\n",
    "c_{1} \\\\\n",
    "c_{2} \\\\\n",
    "c_{3} \\\\\n",
    "\\end{bmatrix} = \n",
    "\\frac{1}{4}\n",
    "\\begin{bmatrix}{}\n",
    " 1 & 1 & 1 & 1\\\\\n",
    " 1 & -i & -1 & i\\\\\n",
    " 1 & -1 & 1 & -1\\\\\n",
    " 1 & i & -1 & -i\\\\\n",
    " \\end{bmatrix}\\cdot \\begin{bmatrix}{}\n",
    "0 \\\\\n",
    "2 \\\\\n",
    "4 \\\\\n",
    "6 \\\\\n",
    "\\end{bmatrix} = \\frac{1}{4}\\begin{bmatrix}{}\n",
    "0 + 2 + 4 + 6 \\\\\n",
    "0 - 2i - 4 + 6i \\\\\n",
    "0 - 2 + 4 - 6 \\\\\n",
    "0 - 2i - 4 - 6i \\\\\n",
    "\\end{bmatrix} = \\begin{bmatrix}{}\n",
    "3 \\\\\n",
    "-1 + i \\\\\n",
    "-1 \\\\\n",
    "-1 - i \\\\\n",
    "\\end{bmatrix}$$<br>\n",
    " c) Note que<br><br>\n",
    " $|c_{0}| = |3| = 3$<br><br>\n",
    " $|c_{1}| = |-1 + i| = \\sqrt{(-1)^{2} + 1^{2}} = \\sqrt{2}$<br><br>\n",
    " $|c_{2}| = |-1| = 1$<br><br>\n",
    " $|c_{3}| = |-1 - i| = \\sqrt{(-1)^{2} + (-1)^{2}} = \\sqrt{2}$<br>\n",
    " $\\frac{1}{4}|F(0)| = \\frac{1}{4}|12| = 3 = |c_{0}|$<br><br>\n",
    " $\\frac{1}{4}|F(1)| = \\frac{1}{4}|-4 - 4i| = \\frac{1}{4}\\sqrt{(-4)^{2} + (-4)^{2}} = \\frac{1}{4}\\sqrt{32} = \\frac{1}{4}4\\sqrt{2} = \\sqrt{2} = |c_{1}|$<br><br>\n",
    " $\\frac{1}{4}|F(2)| = \\frac{1}{4}|-4| = 1$<br><br>\n",
    " $\\frac{1}{4}|F(3)| = \\frac{1}{4}|-4 + 4i| = \\frac{1}{4}\\sqrt{4^{2} + (-4)^{2}} = \\frac{1}{4}\\sqrt{32} = \\frac{1}{4}4\\sqrt{2} = \\sqrt{2} = |c_{3}|$<br><br>\n",
    " No Python, temos:"
   ]
  },
  {
   "cell_type": "code",
   "execution_count": 3,
   "id": "20c2e014",
   "metadata": {},
   "outputs": [
    {
     "name": "stdout",
     "output_type": "stream",
     "text": [
      "DFT: [12.+0.j -4.+4.j -4.-0.j -4.-4.j]\n"
     ]
    }
   ],
   "source": [
    "# Item \"a\"\n",
    "import numpy as np\n",
    "\n",
    "# Valores da função em nT, n = 0, 1, 2, 3\n",
    "f = np.array([0, 2, 4, 6])\n",
    "\n",
    "N = len(f)\n",
    "X = np.zeros(N, dtype=complex)\n",
    "\n",
    "for k in range(N):\n",
    "    for n in range(N):\n",
    "        X[k] += f[n] * (np.exp(1j * 2 * np.pi * k * n / N).conjugate())\n",
    "        \n",
    "print(\"DFT:\", np.round(X,10))"
   ]
  },
  {
   "cell_type": "code",
   "execution_count": 5,
   "id": "ca7a2f52",
   "metadata": {},
   "outputs": [
    {
     "name": "stdout",
     "output_type": "stream",
     "text": [
      "Coeficientes: [ 7.+0.j         -1.+2.41421356j -1.+1.j         -1.+0.41421356j\n",
      " -1.+0.j         -1.-0.41421356j -1.-1.j         -1.-2.41421356j]\n"
     ]
    }
   ],
   "source": [
    "# Item \"b\"\n",
    "def gerar_FN(N):\n",
    "    \"\"\"Gera a matriz DFT para um dado N.\"\"\"\n",
    "    omega = np.exp(2j * np.pi / N)  # N-ésima raiz de unidade\n",
    "    FN = np.array([[omega**(k*j) for j in range(N)] for k in range(N)])\n",
    "    return FN\n",
    "\n",
    "# Valores da função em nT, n = 0, 1, 2, 3\n",
    "f = np.array([0, 2, 4, 6])\n",
    "N = len(f)\n",
    "\n",
    "FN_conjugada = gerar_FN(4).conjugate()\n",
    "\n",
    "print(\"Coeficientes:\", np.round(FN_conjugada@f/N,10))"
   ]
  },
  {
   "cell_type": "code",
   "execution_count": 28,
   "id": "91f73c14",
   "metadata": {},
   "outputs": [
    {
     "name": "stdout",
     "output_type": "stream",
     "text": [
      "[ True  True  True  True]\n"
     ]
    }
   ],
   "source": [
    "# Item \"c\"\n",
    "verificacao = (np.round(FN_conjugada@f/N,10) == (1/N)*np.round(X,10))\n",
    "print(verificacao)"
   ]
  },
  {
   "cell_type": "markdown",
   "id": "f117c3a0",
   "metadata": {},
   "source": [
    "#### Par da Transformada de Fourier Discreta"
   ]
  },
  {
   "cell_type": "markdown",
   "id": "73517673",
   "metadata": {},
   "source": [
    "Valem as seguintes relações:\n",
    "\n",
    "<font color='red'> $$c = \\frac{1}{N}\\overline{F}_{N}f \\ \\ \\ \\ \\text{e} \\ \\ \\ \\ f = F_{N}c \\tag{11}$$</font>\n",
    "\n",
    "onde\n",
    "\n",
    "$$c = \\begin{bmatrix}{}\n",
    "c_{0} \\\\\n",
    "c_{1} \\\\\n",
    "c_{2} \\\\\n",
    "\\vdots \\\\\n",
    "c_{N-1} \\\\\n",
    "\\end{bmatrix} \\ \\ \\ \\ \\text{e} \\ \\ \\ \\ \n",
    "f = \\begin{bmatrix}{}\n",
    "f_{0} \\\\\n",
    "f_{1} \\\\\n",
    "f_{2} \\\\\n",
    "\\vdots \\\\\n",
    "f_{N-1} \\\\\n",
    "\\end{bmatrix}.$$"
   ]
  },
  {
   "cell_type": "markdown",
   "id": "d9a94c11",
   "metadata": {},
   "source": [
    "#### <font color='blue'> Exemplo 4 </font>"
   ]
  },
  {
   "cell_type": "markdown",
   "id": "7c7f3305",
   "metadata": {},
   "source": [
    "<font color='blue'> Verifique as relações $(11)$ com relação ao **Exemplo 3**:"
   ]
  },
  {
   "cell_type": "markdown",
   "id": "c03dbd73",
   "metadata": {},
   "source": [
    "##### <font color='blue'> Solução </font>"
   ]
  },
  {
   "cell_type": "markdown",
   "id": "05dc8d63",
   "metadata": {},
   "source": [
    "<font color='blue'> Temos que<br><br>\n",
    " $$c =\\begin{bmatrix}{}\n",
    "3 \\\\\n",
    "-1 + i \\\\\n",
    "-1 \\\\\n",
    "-1 - i \\\\\n",
    "\\end{bmatrix}, \\ \\ f =\\begin{bmatrix}{}\n",
    "0 \\\\\n",
    "2 \\\\\n",
    "4 \\\\\n",
    "6 \\\\\n",
    "\\end{bmatrix}, \\ \\ F_{4} = \\begin{bmatrix}{}\n",
    " 1 & 1 & 1 & 1\\\\\n",
    " 1 & i & -1 & -i\\\\\n",
    " 1 & -1 & 1 & -1\\\\\n",
    " 1 & -i & -1 & i\\\\\n",
    " \\end{bmatrix} \\ \\ e \\ \\ \\overline{F}_{4} = \\begin{bmatrix}{}\n",
    " 1 & 1 & 1 & 1\\\\\n",
    " 1 & -i & -1 & i\\\\\n",
    " 1 & -1 & 1 & -1\\\\\n",
    " 1 & i & -1 & -i\\\\\n",
    " \\end{bmatrix}$$<br>\n",
    " i) Verifiquemos que $c = \\frac{1}{4}\\overline{F}_{4}f$:<br><br>\n",
    " $$\\frac{1}{4}\\overline{F}_{4}f = \\frac{1}{4}\\begin{bmatrix}{}\n",
    " 1 & 1 & 1 & 1\\\\\n",
    " 1 & -i & -1 & i\\\\\n",
    " 1 & -1 & 1 & -1\\\\\n",
    " 1 & i & -1 & -i\\\\\n",
    " \\end{bmatrix} \\cdot  \n",
    " \\begin{bmatrix}{}\n",
    "0 \\\\\n",
    "2 \\\\\n",
    "4 \\\\\n",
    "6 \\\\\n",
    "\\end{bmatrix} = \\frac{1}{4}\\begin{bmatrix}{}\n",
    "0 + 2 + 4 + 6 \\\\\n",
    "0 - 2i - 4 + 6i \\\\\n",
    "0 - 2 + 4 - 6 \\\\\n",
    "0 + 2i - 4 -6i \\\\\n",
    "\\end{bmatrix} = \\frac{1}{4}\\begin{bmatrix}{}\n",
    "12 \\\\\n",
    "-4 + 4i \\\\\n",
    "-4 \\\\\n",
    "-4 - 4i \\\\\n",
    "\\end{bmatrix} = \\begin{bmatrix}{}\n",
    "3 \\\\\n",
    "-1 + i \\\\\n",
    "-1 \\\\\n",
    "-1 - i \\\\\n",
    "\\end{bmatrix} = c$$<br>\n",
    " ii) Verifiquemos que $f = F_{4}c$:<br><br>\n",
    " $$F_{4}c = \\begin{bmatrix}{}\n",
    " 1 & 1 & 1 & 1\\\\\n",
    " 1 & i & -1 & -i\\\\\n",
    " 1 & -1 & 1 & -1\\\\\n",
    " 1 & -i & -1 & i\\\\\n",
    " \\end{bmatrix} \\cdot\n",
    " \\begin{bmatrix}{}\n",
    "3 \\\\\n",
    "-1 + i \\\\\n",
    "-1 \\\\\n",
    "-1 - i \\\\\n",
    "\\end{bmatrix} = \\begin{bmatrix}{}\n",
    "3 - 1 + i - 1 - 1 -i \\\\\n",
    "3 - i - 1 + 1 + i - 1 \\\\\n",
    "3 + 1 - i - 1 + 1 + i \\\\\n",
    "3 + i + 1 + 1 - i + 1 \\\\\n",
    "\\end{bmatrix} = \\begin{bmatrix}{}\n",
    "0 \\\\\n",
    "2 \\\\\n",
    "4 \\\\\n",
    "6 \\\\\n",
    "\\end{bmatrix} = f$$"
   ]
  },
  {
   "cell_type": "markdown",
   "id": "cf2b6c12",
   "metadata": {},
   "source": [
    "# <div style=\"margin-top: -20px;\">\n",
    "<hr style=\"border: 2px solid black;\">\n",
    "\n",
    "<font color='black'><span style=\"font-size: 22px;\"><strong>5.2 Transformada Rápida de Fourier</strong></span></font>\n",
    "\n",
    "<hr style=\"border: 2px solid black;\">\n",
    "</div>\n",
    " "
   ]
  },
  {
   "cell_type": "markdown",
   "id": "d9f03c19",
   "metadata": {},
   "source": [
    "Nesta seção, veremos de forma suscinta, a Transformada Rápida de Fourier ($\\text{FFT}$), uma técnica que aprimora a eficiência da transformada discreta de Fourier, reduzindo sua complexidade computacional de $O(N^{2})$ para $O(Nlog(N))$. Utilizaremos o algoritmo de Cooley e Tukey, introduzido em $1965$, que foi um marco significativo na computação numérica, permitindo o processamento de grandes conjuntos de dados em tempo real.\n",
    "\n",
    "A velocidade deste algoritmo é explicada observando:\n",
    "\n",
    "**i) Uso de Simetria**: As propriedades simétricas e periódicas das raízes da unidade fazem com que muitos cálculos sejam repetitivos em uma $\\text{DFT}$. Por outro lado a $\\text{FFT}$ lança mão desta propriedades a fim de reduzir a computação desnecessária.\n",
    "\n",
    "**ii) Quantidade de Multiplicações**: Em uma $\\text{DFT}$ padrão, cada termo de saída é o resultado de $N$ multiplicações complexas. A $\\text{FFT}$ reduz essa quantidade drasticamente ao dividir o problema em parcelas menores, cada uma com menos multiplicações a realizar.\n",
    "\n",
    "Vejamos a seguir a aplicação do algoritmo de Cooley e Tukey para $N = 4$ e $N = 8$:"
   ]
  },
  {
   "cell_type": "markdown",
   "id": "06032d44",
   "metadata": {},
   "source": [
    "#### Exemplificando o Algoritmo de Cooley e Tukey (N = 4)"
   ]
  },
  {
   "cell_type": "markdown",
   "id": "2dbe1530",
   "metadata": {},
   "source": [
    "Consideremos uma função $f$ em quatro saídas associadas $f_0 = 0, f_1 = 2, f_2 = 4, f_3 = 6$.\n",
    "\n",
    "**Passo 1**: Dividir em Índices Pares e Ímpares\n",
    "\n",
    "- **Pares**: $f_0, f_2 = [0, 4]$\n",
    "\n",
    "- **Ímpares**: $f_1, f_3 = [2, 6]$\n",
    "\n",
    "**Passo 2**: Calcular a $\\text{FFT}$ dos subvetores\n",
    "\n",
    "- **$\\text{FFT}$ de $[0, 4]$**:\n",
    "\n",
    "  - $F_0 = 0 + 4 = 4$\n",
    "  \n",
    "  - $F_1 = 0 - 4 = -4$\n",
    "  \n",
    "\n",
    "- **$\\text{FFT}$ de $[2, 6]$**:\n",
    "\n",
    "  - $F_0 = 2 + 6 = 8$\n",
    "  \n",
    "  - $F_1 = 2 - 6 = -4$\n",
    "  \n",
    "\n",
    "**Passo 3**: Aplicar os fatores de giro\n",
    "\n",
    "Após calcular as $\\text{FFTs}$ dos subvetores, combinamos os resultados usando os fatores de giro. Para um vetor de tamanho $N$, os fatores de giro são dados por $\\omega_N^k = e^{-\\frac{2\\pi i k}{N}}$, onde $k$ varia de $0$ a $N - 1$.\n",
    "\n",
    "Para cada nível de recursão, as saídas das $\\text{FFTs}$ parciais são combinadas para formar a FFT do vetor original. A combinação é feita como segue para um vetor de tamanho $4$:\n",
    "\n",
    "Para $k = 0, 1$ (metade inferior do vetor de saída):\n",
    "\n",
    "- $F(k) = \\text{FFT}_{\\text{par}}(k) + \\omega_4^k \\times \\text{FFT}_{\\text{ímpar}}(k)$\n",
    "\n",
    "- $F(k+2) = \\text{FFT}_{\\text{par}}(k) - \\omega_4^k \\times \\text{FFT}_{\\text{ímpar}}(k)$\n",
    "\n",
    "  - $\\omega_4^0 = e^{-\\frac{2\\pi i \\cdot 0}{4}} = cos(0) + isen(0) = 1$\n",
    "  \n",
    "  - $\\omega_4^1 = e^{-\\frac{2\\pi i \\cdot 1}{4}} = cos\\left(-\\frac{\\pi}{2}\\right) + isen\\left(-\\frac{\\pi}{2}\\right) = -i$\n",
    "\n",
    "- **Combinação para $k = 0$**:\n",
    "\n",
    "  - $F(0) = 4 + 1 \\cdot 8 = 12$\n",
    "  \n",
    "  - $F(2) = 4 - 1 \\cdot 8 = -4$\n",
    "\n",
    "- **Combinação para $k = 1$**:\n",
    "\n",
    "  - $F(1) = -4 + (-i)(-4) = -4 + 4i$\n",
    "  \n",
    "  - $F(3) = -4 - (-i)(-4) = -4 - 4i$\n",
    "  \n",
    "\n",
    "**Resultado Final:**\n",
    "\n",
    "$F = (12, -4 + 4i, -4, -4 - 4i)$\n",
    "\n",
    "Temos o seguinte esquema que produz um resultado semelhante para $N = 4$:<br><br>\n",
    "\n",
    "<center> <img src=\"fig5_1.png\" alt=\"png_python\" width=\"550\"> </center>  "
   ]
  },
  {
   "cell_type": "markdown",
   "id": "4ed5176a",
   "metadata": {},
   "source": [
    "#### Exemplificando o Algoritmo de Cooley e Tukey (N = 8)"
   ]
  },
  {
   "cell_type": "markdown",
   "id": "6393a9d4",
   "metadata": {},
   "source": [
    "Consideremos uma função $f$ em oito saídas associadas $f_{0} = 0, f_{1} = 2, f_{2} = 4, f_{3} = 6, f_{4} = 8, f_{5} = 10, f_{6} = 12,$ $f_{7} = 14$. Neste caso, os fatores de giro serão efetivamente:\n",
    "\n",
    "- $\\omega_8^0 = e^{-\\frac{2\\pi i \\cdot 0}{8}} = cos(0) + isen(0)$\n",
    "\n",
    "- $\\omega_8^1 = e^{-\\frac{2\\pi i \\cdot 1}{8}} = cos\\left(-\\frac{\\pi}{4}\\right) + isen\\left(-\\frac{\\pi}{4}\\right) =\\frac{\\sqrt{2}}{2} - i\\frac{\\sqrt{2}}{2}$\n",
    "\n",
    "- $\\omega_8^2 = e^{-\\frac{2\\pi i \\cdot 2}{8}} = cos\\left(-\\frac{\\pi}{2}\\right) + isen\\left(-\\frac{\\pi}{2}\\right) = -i$\n",
    "  \n",
    "- $\\omega_8^3 = e^{-\\frac{2\\pi i \\cdot 3}{8}} = cos\\left(-\\frac{3\\pi}{4}\\right) + isen\\left(-\\frac{3\\pi}{4}\\right) = -\\frac{\\sqrt{2}}{2} - i\\frac{\\sqrt{2}}{2}$\n",
    "\n",
    "Temos o seguinte esquema para $N = 8$:<br><br>\n",
    "\n",
    "<center> <img src=\"fig5_2.png\" alt=\"png_python\" width=\"800\"> </center>\n",
    "\n",
    "**Resultado Final:**\n",
    "\n",
    "$F = (56, -8 + 8(1 + \\sqrt{2})i, -8 + 8i,-8 + 8(\\sqrt{2} - 1)i, -8, -8 + 8(1 - \\sqrt{2})i, -8 - 8i, -8 - 8(1 + \\sqrt{2})i)$\n",
    "\n",
    "ou mais aproximadamente (para fins de comparação - Python)\n",
    "\n",
    "$F \\approx (56, -8 + 19.3137085i, -8 + 8i,-8 + 3.3137085i, -8, -8 -3.3137085i, -8 - 8i, -8 - 19.3137085i)$"
   ]
  },
  {
   "cell_type": "markdown",
   "id": "40f9650d",
   "metadata": {},
   "source": [
    "O cálculo da FFT para $N = 8, 16,32,\\ldots$ segue implementado na célula de código a seguir:"
   ]
  },
  {
   "cell_type": "code",
   "execution_count": 2,
   "id": "60a3d352",
   "metadata": {},
   "outputs": [],
   "source": [
    "import numpy as np\n",
    "\n",
    "def fft(x):\n",
    "    N = len(x)\n",
    "    if N <= 1:\n",
    "        return x\n",
    "    even = fft(x[0::2])\n",
    "    odd = fft(x[1::2])\n",
    "    T = [np.exp(-2j * np.pi * k / N) * odd[k] for k in range(N // 2)]\n",
    "    # Combina resultados e retorna\n",
    "    return [even[k] + T[k] for k in range(N // 2)] + [even[k] - T[k] for k in range(N // 2)]"
   ]
  },
  {
   "cell_type": "code",
   "execution_count": 3,
   "id": "d8bc2a7c",
   "metadata": {},
   "outputs": [
    {
     "name": "stdout",
     "output_type": "stream",
     "text": [
      "FFT do vetor: [12.+0.j -4.+4.j -4.+0.j -4.-4.j]\n"
     ]
    }
   ],
   "source": [
    "# Cooley e Tukey N = 4\n",
    "x = np.array([0, 2, 4, 6])\n",
    "X = np.array(fft(x))  # divida X por len(x) para ter os coeficientes\n",
    "print(\"FFT do vetor:\", X)"
   ]
  },
  {
   "cell_type": "code",
   "execution_count": 4,
   "id": "7e5bea4b",
   "metadata": {},
   "outputs": [
    {
     "name": "stdout",
     "output_type": "stream",
     "text": [
      "FFT do vetor: [56. +0.j        -8.+19.3137085j -8. +8.j        -8. +3.3137085j\n",
      " -8. +0.j        -8. -3.3137085j -8. -8.j        -8.-19.3137085j]\n"
     ]
    }
   ],
   "source": [
    "# Cooley e Tukey N = 4\n",
    "x = np.array([0, 2, 4, 6, 8, 10, 12, 14])\n",
    "X = np.array(fft(x))  # divida X por len(x) para ter os coeficientes\n",
    "print(\"FFT do vetor:\", X)"
   ]
  },
  {
   "cell_type": "markdown",
   "id": "f7ece2d2",
   "metadata": {},
   "source": [
    "Se preferir, temos a função já implementada em Python para o cálculo dos coeficientes:"
   ]
  },
  {
   "cell_type": "code",
   "execution_count": 5,
   "id": "5f549890",
   "metadata": {},
   "outputs": [
    {
     "name": "stdout",
     "output_type": "stream",
     "text": [
      "Coeficientes da FFT (c_k):\n",
      "[12.+0.j -4.+4.j -4.+0.j -4.-4.j]\n"
     ]
    }
   ],
   "source": [
    "import numpy as np\n",
    "\n",
    "# Dados de exemplo N = 4\n",
    "f = np.array([0, 2, 4, 6])\n",
    "\n",
    "# Usando a FFT para calcular a Transformada de Fourier\n",
    "c_fft = np.fft.fft(f) # divida c_fft por len(f) para ter os coeficientes\n",
    "\n",
    "# Mostrando os coeficientes da FFT\n",
    "print(\"Coeficientes da FFT (c_k):\")\n",
    "print(c_fft)"
   ]
  },
  {
   "cell_type": "code",
   "execution_count": 8,
   "id": "95b1f37f",
   "metadata": {},
   "outputs": [
    {
     "name": "stdout",
     "output_type": "stream",
     "text": [
      "Coeficientes da FFT (c_k):\n",
      "[56. +0.j        -8.+19.3137085j -8. +8.j        -8. +3.3137085j\n",
      " -8. +0.j        -8. -3.3137085j -8. -8.j        -8.-19.3137085j]\n"
     ]
    }
   ],
   "source": [
    "import numpy as np\n",
    "\n",
    "# Dados de exemplo N = 8\n",
    "f = np.array([0, 2, 4, 6, 8, 10, 12, 14])\n",
    "\n",
    "# Usando a FFT para calcular a Transformada de Fourier\n",
    "c_fft = np.fft.fft(f) # divida c_fft por len(f) para ter os coeficientes\n",
    "\n",
    "# Mostrando os coeficientes da FFT\n",
    "print(\"Coeficientes da FFT (c_k):\")\n",
    "print(c_fft)"
   ]
  },
  {
   "cell_type": "markdown",
   "id": "d8068e56",
   "metadata": {},
   "source": [
    "A função Python já implementada \"np.fft.fft\" nos permite calcularmos a FFT para um vetor com quantidade de entradas não necessariamente da forma $2^{n}$."
   ]
  },
  {
   "cell_type": "code",
   "execution_count": 47,
   "id": "530f55ef",
   "metadata": {},
   "outputs": [
    {
     "name": "stdout",
     "output_type": "stream",
     "text": [
      "Coeficientes da FFT (c_k):\n",
      "[ 4.+0.j         -1.+1.37638192j -1.+0.3249197j  -1.-0.3249197j\n",
      " -1.-1.37638192j]\n"
     ]
    }
   ],
   "source": [
    "import numpy as np\n",
    "\n",
    "# Dados de exemplo N = 5\n",
    "f = np.array([0, 2, 4, 6, 8])\n",
    "\n",
    "# Usando a FFT para calcular a Transformada de Fourier\n",
    "c_fft = np.fft.fft(f) / len(f)\n",
    "\n",
    "# Mostrando os coeficientes da FFT\n",
    "print(\"Coeficientes da FFT (c_k):\")\n",
    "print(c_fft)"
   ]
  },
  {
   "cell_type": "markdown",
   "id": "1ef8fe8e",
   "metadata": {},
   "source": [
    "# <div style=\"margin-top: -20px;\">\n",
    "<hr style=\"border: 2px solid black;\">\n",
    "\n",
    "<font color='black'><span style=\"font-size: 22px;\"><strong>Exercícios</strong></span></font>\n",
    "\n",
    "<hr style=\"border: 2px solid black;\">\n",
    "</div>"
   ]
  },
  {
   "cell_type": "markdown",
   "id": "4c311399",
   "metadata": {},
   "source": [
    "#### Exercício 1"
   ]
  },
  {
   "cell_type": "markdown",
   "id": "bc3fa35f",
   "metadata": {},
   "source": [
    "Consideremos uma função $f$ tal que $f(0) = 0$, $f\\left(\\frac{\\pi}{2}\\right) = 1$, $f(\\pi) = 2$ e $f\\left(\\frac{3\\pi}{2}\\right) = 3$. Usando $DFT$:\n",
    "\n",
    "a) Calcule $F(0), F(1), F(2)$ e $F(3)$ usando $F(\\alpha) = \\sum_{n=0}^{3}f(nT)e^{i\\alpha nT}$.\n",
    " \n",
    "b) Determine os coeficientes da transformada discreta de Fourier.\n",
    " \n",
    "*Dica: Lembre-se que $f(0) = f_{0}, f\\left(\\frac{\\pi}{2}\\right) = f_{1}, f(\\pi) = f_{2}$ e $f\\left(\\frac{3\\pi}{2}\\right) = f_{3}$.*"
   ]
  },
  {
   "cell_type": "markdown",
   "id": "4ddaa7d8",
   "metadata": {},
   "source": [
    "#### Exercício 2"
   ]
  },
  {
   "cell_type": "markdown",
   "id": "dcf7ca68",
   "metadata": {},
   "source": [
    "Responda o **Exercício 1** usando $FFT$."
   ]
  },
  {
   "cell_type": "markdown",
   "id": "19399a6a",
   "metadata": {},
   "source": [
    "#### Exercício 3"
   ]
  },
  {
   "cell_type": "markdown",
   "id": "0ea141d3",
   "metadata": {},
   "source": [
    "Consideremos uma função $f$ tal que $f_{0} = 0$, $f_{1} = 1 $, $f_{2} = 1$, $f_{3} = 2$, $f_{4} = 2$, $f_{5} = 3$, $f_{6} = 3$ e $f_{7} = 4$. Usando $FFT$:\n",
    "\n",
    "a) Calcule $F(0), F(1), F(2), \\dots, F(7)$.\n",
    " \n",
    "b) Determine os coeficientes da transformada discreta de Fourier."
   ]
  },
  {
   "cell_type": "markdown",
   "id": "a561945f",
   "metadata": {},
   "source": [
    "# <div style=\"margin-top: -20px;\">\n",
    "<hr style=\"border: 2px solid black;\">\n",
    "\n",
    "<font color='black'><span style=\"font-size: 22px;\"><strong>Respostas dos Exercícios</strong></span></font>\n",
    "\n",
    "<hr style=\"border: 2px solid black;\">\n",
    "</div>"
   ]
  },
  {
   "cell_type": "markdown",
   "id": "8cb15daa",
   "metadata": {},
   "source": [
    "#### Resposta do Exercício 1"
   ]
  },
  {
   "cell_type": "markdown",
   "id": "8e2148c2",
   "metadata": {},
   "source": [
    "a) $F = (6, -2 + 2i, -2, -2-2i)$\n",
    "\n",
    "b) $c = \\left(\\frac{3}{2}, -\\frac{1}{2} + \\frac{1}{2}i, -\\frac{1}{2}, -\\frac{1}{2} - \\frac{1}{2}i \\right)$ (basta dividir a resposta dos item \"a\" por $4$)"
   ]
  },
  {
   "cell_type": "markdown",
   "id": "49053ce0",
   "metadata": {},
   "source": [
    "#### Resposta do Exercício 2"
   ]
  },
  {
   "cell_type": "markdown",
   "id": "2ea3ef80",
   "metadata": {},
   "source": [
    "Mesma do **Exercício 1**!"
   ]
  },
  {
   "cell_type": "markdown",
   "id": "f06ae65b",
   "metadata": {},
   "source": [
    "#### Resposta do Exercício 3"
   ]
  },
  {
   "cell_type": "markdown",
   "id": "f079eaaf",
   "metadata": {},
   "source": [
    "a) $F \\approx (16, -2+4.82842712i, -2+2i, -2+0.82842712i, -4, -2-0.82842712i, -2-2i, -2-4.82842712i)$\n",
    "\n",
    "b) $c \\approx (2, -0.25+0.60355339i, -0.25i + 0.25i, -0.25+0.10355339i, -0.5, -0.25-0.10355339i, -0.25-0.25i, -0.25-0.60355339i)$ (basta dividir a resposta do item \"a\" por $8$."
   ]
  },
  {
   "cell_type": "markdown",
   "id": "bb844f24",
   "metadata": {},
   "source": [
    "# <div style=\"margin-top: -20px;\">\n",
    "<hr style=\"border: 2px solid black;\">\n",
    "\n",
    "<font color='black'><span style=\"font-size: 22px;\"><strong>Vídeo Aulas</strong></span></font>\n",
    "\n",
    "<hr style=\"border: 2px solid black;\">\n",
    "</div>"
   ]
  },
  {
   "cell_type": "markdown",
   "id": "4062851d",
   "metadata": {},
   "source": [
    "Clicando nos links a seguir você será redirecionado às aulas referentes a este capítulo:\n",
    "\n"
   ]
  },
  {
   "cell_type": "markdown",
   "id": "4bd351bd",
   "metadata": {},
   "source": [
    "# <div style=\"margin-top: -20px;\">\n",
    "<hr style=\"border: 2px solid black;\">\n",
    "\n",
    "<font color='black'><span style=\"font-size: 22px;\"><strong>Referências</strong></span></font>\n",
    "\n",
    "<hr style=\"border: 2px solid black;\">\n",
    "</div>"
   ]
  },
  {
   "cell_type": "markdown",
   "id": "e4c36f16",
   "metadata": {},
   "source": [
    "$[1]$ FERNANDEZ, C. de S.; BERNANDES JÚNIOR, N. Introdução às funções de uma variável complexa. Rio de Janeiro: SBM, 2016.\n",
    "\n",
    "$[2]$ BUTKOV, E. Física matemática. Rio de Janeiro: LTC, 1988.\n",
    "\n",
    "$[3]$ RILEY, K. F.; HOBSON, M. P.; BENCE, S. J. Mathematical methods for physics and engineering. 3rd ed. Cambridge: Cambridge University Press, 2006.\n",
    "\n",
    "$[4]$ SANTOS, R. J., Transformada de Fourier. Belo Horizonte: Universidade Federal de Minas Gerais, 2017.\n",
    "\n",
    "$[5]$ SOARES, A. Curso Python Com Jupyter Notebook. Instituto Federal da Bahia, Campus Vitória da Conquista, $2023$. Disponível em https://github.com/ProfAllanIFBA/Curso_Python_Com_Jupyter_Notebook\n",
    "\n",
    "$[6]$ SPIEGEL, M. R. Advanced mathematics for engineers and scientists. New York: McGraw-Hill, 1971.\n",
    "\n",
    "$[7]$ SPIEGEL, M. R. Cálculo Avançado. São Paulo: McGraw-Hill, 1971.\n",
    "\n",
    "$[8]$ ZILL, D. G.; CULLEN, M. R. Matemática avançada para engenharia, v.3: equações diferenciais parciais, métodos de Fourier e variáveis complexas. 3 ed. Porto Alegre: Bookman, 2009.\n",
    "\n",
    "$[9]$ ZILL, D. G., Advanced Engineering Mathematics. 6rd ed. Jones & Bartlett Learning 2017.\n",
    "\n",
    "$[10]$ ZILL, D. G., CULLEN, M. R. Equações Diferenciais. v1, 3 ed. São Paulo: Makron Books, 2001."
   ]
  }
 ],
 "metadata": {
  "kernelspec": {
   "display_name": "Python 3 (ipykernel)",
   "language": "python",
   "name": "python3"
  },
  "language_info": {
   "codemirror_mode": {
    "name": "ipython",
    "version": 3
   },
   "file_extension": ".py",
   "mimetype": "text/x-python",
   "name": "python",
   "nbconvert_exporter": "python",
   "pygments_lexer": "ipython3",
   "version": "3.11.5"
  },
  "varInspector": {
   "cols": {
    "lenName": 16,
    "lenType": 16,
    "lenVar": 40
   },
   "kernels_config": {
    "python": {
     "delete_cmd_postfix": "",
     "delete_cmd_prefix": "del ",
     "library": "var_list.py",
     "varRefreshCmd": "print(var_dic_list())"
    },
    "r": {
     "delete_cmd_postfix": ") ",
     "delete_cmd_prefix": "rm(",
     "library": "var_list.r",
     "varRefreshCmd": "cat(var_dic_list()) "
    }
   },
   "types_to_exclude": [
    "module",
    "function",
    "builtin_function_or_method",
    "instance",
    "_Feature"
   ],
   "window_display": false
  }
 },
 "nbformat": 4,
 "nbformat_minor": 5
}

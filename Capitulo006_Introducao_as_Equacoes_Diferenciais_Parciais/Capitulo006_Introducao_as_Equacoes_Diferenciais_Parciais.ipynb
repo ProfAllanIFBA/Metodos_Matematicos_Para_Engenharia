{
 "cells": [
  {
   "cell_type": "markdown",
   "id": "d4ea28a8",
   "metadata": {
    "slideshow": {
     "slide_type": "slide"
    }
   },
   "source": [
    "<center> <img src=\"logo_ifba.jpg\" alt=\"jpg_python\" width=\"100\" height=\"200\"> </center>\n",
    "<br><br>\n",
    "<div align=\"center\"><span style=\"font-size: 26px;\"><strong>Métodos Matemáticos Para Engenharia <br></strong></span></div> <br>\n",
    "<center> <img src=\"python_gif.gif\" alt=\"gif_python\" width=\"80\"> </center>\n"
   ]
  },
  {
   "cell_type": "markdown",
   "id": "d76184a7",
   "metadata": {
    "slideshow": {
     "slide_type": "slide"
    }
   },
   "source": [
    "<div style=\"border: 2px solid black; padding: 10px; width: 95%; background-color: lightgray; display: flex; align-items: center;\">\n",
    "    <h1 style=\"color: red; text-align: center; margin: auto;\">\n",
    "        Capítulo 6: Introdução às Equações Diferenciais Parciais\n",
    "    </h1>\n",
    "</div>\n",
    "\n",
    "<font color='red'></font>\n",
    "<a href=\"\"></a>"
   ]
  },
  {
   "cell_type": "markdown",
   "id": "6c4c6d56",
   "metadata": {},
   "source": [
    "# <div style=\"margin-top: -20px;\">\n",
    "<hr style=\"border: 2px solid black;\">\n",
    "\n",
    "<font color='black'><span style=\"font-size: 22px;\"><strong>6.1 Introdução</strong></span></font>\n",
    "\n",
    "<hr style=\"border: 2px solid black;\">\n",
    "</div>"
   ]
  },
  {
   "cell_type": "markdown",
   "id": "421949d8",
   "metadata": {},
   "source": [
    "As equações diferenciais parciais (EDPs), assim como as equações diferenciais ordinárias (EDOs), podem ser classificadas como lineares ou não lineares. De forma análoga a uma EDO linear, em uma EDP linear, a variável dependente e suas derivadas parciais aparecem apenas elevadas à primeira potência. Neste capítulo, estamos preocupados apenas com equações diferenciais parciais lineares."
   ]
  },
  {
   "cell_type": "markdown",
   "id": "bf1740f4",
   "metadata": {},
   "source": [
    "#### <font color='red'> Definição 1"
   ]
  },
  {
   "cell_type": "markdown",
   "id": "fb27a7fb",
   "metadata": {},
   "source": [
    "<font color='red'> Seja $u$ uma variável dependente e $x$ e $y$ variáveis independentes. Uma equação diferencial parcial linear de segunda ordem é dada por:<br><br>\n",
    " $$A\\frac{\\partial^{2}u}{\\partial x^{2}} + B\\frac{\\partial^{2}u}{\\partial x \\partial y} + C\\frac{\\partial^{2}u}{\\partial y^{2}} + D\\frac{\\partial u}{\\partial x} + E\\frac{\\partial u}{\\partial y} + Fu = G, \\tag{1}$$<br>\n",
    " em que os coeficientes $A, B, C, \\ldots, G$ são constantes ou funções de $x$ e $y$. Quando $G(x,y) = 0$, a equação $(1)$ é dita homogênea. Do contrário, ela será não homogênea."
   ]
  },
  {
   "cell_type": "markdown",
   "id": "bf734b3c",
   "metadata": {},
   "source": [
    "#### <font color='blue'> Exemplo 1"
   ]
  },
  {
   "cell_type": "markdown",
   "id": "eba200cb",
   "metadata": {},
   "source": [
    "<font color='blue'> As equações<br><br>\n",
    " $$\\frac{\\partial^{2}u}{\\partial x^{2}} + \\frac{\\partial^{2}u}{\\partial y^{2}} = 0 \\ \\ \\text{e} \\ \\ \\frac{\\partial^{2}u}{\\partial x^{2}} - \\frac{\\partial^{2}u}{\\partial y} = xy$$<br>\n",
    " são exemplos de EDPs lineares de segunda ordem. A primeira é homogênea e a segunda é não homogênea."
   ]
  },
  {
   "cell_type": "markdown",
   "id": "e513494b",
   "metadata": {},
   "source": [
    "#### Solução de Uma Equação Diferencial"
   ]
  },
  {
   "cell_type": "markdown",
   "id": "55d30aa5",
   "metadata": {},
   "source": [
    "Uma solução de uma equação diferencial parcial linear $(1)$ é uma função $u(x, y)$ de duas variáveis independentes, que possui todas as derivadas parciais presentes na equação e que satisfaz a equação em alguma região do plano $xy$."
   ]
  },
  {
   "cell_type": "markdown",
   "id": "d56c8ab5",
   "metadata": {},
   "source": [
    "#### <font color='blue'> Exemplo 2"
   ]
  },
  {
   "cell_type": "markdown",
   "id": "2ab83cd6",
   "metadata": {},
   "source": [
    "<font color='blue'> Considere a equação diferencial:<br><br>\n",
    " $$x\\frac{\\partial^{2} u}{\\partial x^{2}} - y\\frac{\\partial^{2} u}{\\partial y^{2}} = 0.$$<br>\n",
    " Verifique se as função a seguir são soluções equação dada:<br><br>\n",
    " a) $u_{1}(x,y) = x + y$<br><br>\n",
    " b) $u_{2}(x,y) = xy^{2} + x^{2}y$<br><br>\n",
    " c) $u_{3}(x,y) = x^{2} + y^{2}$"
   ]
  },
  {
   "cell_type": "markdown",
   "id": "5bb153d6",
   "metadata": {},
   "source": [
    "##### <font color='blue'> Solução"
   ]
  },
  {
   "cell_type": "markdown",
   "id": "a3c97504",
   "metadata": {},
   "source": [
    "<font color='blue'> a) Considerando $u_{1}$, temos:<br><br>\n",
    " $$\\frac{\\partial u}{\\partial x} = 1, \\ \\frac{\\partial^{2} u}{\\partial x^{2}} = 0, \\  \\frac{\\partial u}{\\partial y} = 1, \\ \\frac{\\partial^{2} u}{\\partial y^{2}} = 0 \\Rightarrow$$<br>\n",
    " $$\\Rightarrow x\\frac{\\partial^{2} u}{\\partial x^{2}} - y\\frac{\\partial^{2} u}{\\partial y^{2}} = x \\cdot 0 - y\\cdot0 = 0.$$<br>\n",
    " Portanto, $u_{1}(x,y)$ é uma solução da EDP em questão.<br><br>\n",
    " b) Considerando $u_{2}$, temos:<br><br>\n",
    " $$\\frac{\\partial u}{\\partial x} = y^{2} + 2xy, \\ \\frac{\\partial^{2} u}{\\partial x^{2}} = 2y, \\  \\frac{\\partial u}{\\partial y} = 2xy + x^{2}, \\ \\frac{\\partial^{2} u}{\\partial y^{2}} = 2x \\Rightarrow$$<br>\n",
    " $$ \\Rightarrow x\\frac{\\partial^{2} u}{\\partial x^{2}} - y\\frac{\\partial^{2} u}{\\partial y^{2}} = x\\cdot 2y - y\\cdot2x = 0.$$<br>\n",
    " Portanto, $u_{2}(x,y)$ é uma solução da EDP em questão.<br><br>\n",
    " c) Considerando $u_{3}$, temos:<br><br>\n",
    " $$\\frac{\\partial u}{\\partial x} = 2x, \\ \\frac{\\partial^{2} u}{\\partial x^{2}} = 2, \\  \\frac{\\partial u}{\\partial y} = 2y, \\ \\frac{\\partial^{2} u}{\\partial y^{2}} = 2 \\Rightarrow$$<br>\n",
    " $$ \\Rightarrow x\\frac{\\partial^{2} u}{\\partial x^{2}} - y\\frac{\\partial^{2} u}{\\partial y^{2}} = x\\cdot 2 - y\\cdot2 \\neq 0.$$<br>\n",
    " Portanto, $u_{3}(x,y)$ não é uma solução da EDP em questão.<br><br>"
   ]
  },
  {
   "cell_type": "markdown",
   "id": "4b370ec2",
   "metadata": {},
   "source": [
    "#### Derivadas Parciais no Python"
   ]
  },
  {
   "cell_type": "markdown",
   "id": "a4e665d5",
   "metadata": {},
   "source": [
    "Vejamos como calcular derivadas parciais usando o Python. A título de exemplo exibiremos as derivadas parciais de \n",
    "\n",
    "$$u(x,y) = x^{2} + x*sin(y).$$"
   ]
  },
  {
   "cell_type": "code",
   "execution_count": 1,
   "id": "1b42ca0d",
   "metadata": {},
   "outputs": [
    {
     "name": "stdout",
     "output_type": "stream",
     "text": [
      "∂u/∂x = 2*x + sin(y)\n",
      "∂u/∂y = x*cos(y)\n",
      "∂²u/∂x² = 2\n",
      "∂²u/∂y² = -x*sin(y)\n",
      "∂²u/∂x∂y = cos(y)\n",
      "∂²u/∂y∂x = cos(y)\n"
     ]
    }
   ],
   "source": [
    "import sympy as sp\n",
    "\n",
    "# Definir as variáveis independentes e a função\n",
    "x, y = sp.symbols('x y')\n",
    "u = x**2 + x*sp.sin(y)\n",
    "\n",
    "# Calcular as derivadas parciais de primeira ordem\n",
    "u_x = sp.diff(u, x)\n",
    "u_y = sp.diff(u, y)\n",
    "\n",
    "# Calcular as derivadas parciais de segunda ordem\n",
    "u_xx = sp.diff(u, x, 2)\n",
    "u_yy = sp.diff(u, y, 2)\n",
    "u_xy = sp.diff(u, x, y)\n",
    "u_yx = sp.diff(u, y, x)\n",
    "\n",
    "# Exibir as derivadas parciais de primeira e segunda ordem\n",
    "print(f\"∂u/∂x = {u_x}\")\n",
    "print(f\"∂u/∂y = {u_y}\")\n",
    "print(f\"∂²u/∂x² = {u_xx}\")\n",
    "print(f\"∂²u/∂y² = {u_yy}\")\n",
    "print(f\"∂²u/∂x∂y = {u_xy}\")\n",
    "print(f\"∂²u/∂y∂x = {u_yx}\")\n"
   ]
  },
  {
   "cell_type": "markdown",
   "id": "bef30f28",
   "metadata": {},
   "source": [
    "O código a seguir apresenta a solução do item \"a\" do **Exemplo 2**:"
   ]
  },
  {
   "cell_type": "code",
   "execution_count": 2,
   "id": "f5fa41e2",
   "metadata": {},
   "outputs": [
    {
     "name": "stdout",
     "output_type": "stream",
     "text": [
      "x(∂²u/∂x²) - y(∂²u/∂y²) = 0\n",
      "A função u(x, y) = xy é uma solução da EDP.\n"
     ]
    }
   ],
   "source": [
    "import sympy as sp\n",
    "\n",
    "# Definir as variáveis independentes e a função\n",
    "x, y = sp.symbols('x y')\n",
    "u = x + y\n",
    "\n",
    "u_xx = sp.diff(u, x, 2)\n",
    "u_yy = sp.diff(u, y, 2)\n",
    "\n",
    "# Definir a equação diferencial parcial\n",
    "edp = sp.Eq(x*u_xx-y*u_yy, 0)\n",
    "\n",
    "# Exibir as derivadas parciais e verificar se a função satisfaz a EDP\n",
    "print(f\"x(∂²u/∂x²) - y(∂²u/∂y²) = {x*u_xx-y*u_yy}\")\n",
    "\n",
    "# Verificar se a equação diferencial parcial é satisfeita\n",
    "is_solution = edp.simplify()\n",
    "\n",
    "if is_solution == True:\n",
    "    print(f\"A função u(x, y) = xy é uma solução da EDP.\")\n",
    "else:\n",
    "    print(f\"A função u(x, y) = xy é não uma solução da EDP.\")\n"
   ]
  },
  {
   "cell_type": "markdown",
   "id": "e33a5cd1",
   "metadata": {},
   "source": [
    "Vejamos a solução o item \"b\":"
   ]
  },
  {
   "cell_type": "code",
   "execution_count": 3,
   "id": "06f2823a",
   "metadata": {},
   "outputs": [
    {
     "name": "stdout",
     "output_type": "stream",
     "text": [
      "x(∂²u/∂x²) - y(∂²u/∂y²) = 0\n",
      "A função u(x, y) = xy é uma solução da EDP.\n"
     ]
    }
   ],
   "source": [
    "import sympy as sp\n",
    "\n",
    "# Definir as variáveis independentes e a função\n",
    "x, y = sp.symbols('x y')\n",
    "u = x*y**2 + x**2*y\n",
    "\n",
    "u_xx = sp.diff(u, x, 2)\n",
    "u_yy = sp.diff(u, y, 2)\n",
    "\n",
    "# Definir a equação diferencial parcial\n",
    "edp = sp.Eq(x*u_xx-y*u_yy, 0)\n",
    "\n",
    "# Exibir as derivadas parciais e verificar se a função satisfaz a EDP\n",
    "print(f\"x(∂²u/∂x²) - y(∂²u/∂y²) = {x*u_xx-y*u_yy}\")\n",
    "\n",
    "# Verificar se a equação diferencial parcial é satisfeita\n",
    "is_solution = edp.simplify()\n",
    "\n",
    "if is_solution == True:\n",
    "    print(f\"A função u(x, y) = xy é uma solução da EDP.\")\n",
    "else:\n",
    "    print(f\"A função u(x, y) = xy é não uma solução da EDP.\")"
   ]
  },
  {
   "cell_type": "markdown",
   "id": "cb6b313e",
   "metadata": {},
   "source": [
    "Vejamos a solução o item \"c\":"
   ]
  },
  {
   "cell_type": "code",
   "execution_count": 4,
   "id": "6de74836",
   "metadata": {},
   "outputs": [
    {
     "name": "stdout",
     "output_type": "stream",
     "text": [
      "x(∂²u/∂x²) - y(∂²u/∂y²) = 2*x + 2*y\n",
      "A função u(x, y) = xy é não uma solução da EDP.\n"
     ]
    }
   ],
   "source": [
    "import sympy as sp\n",
    "\n",
    "# Definir as variáveis independentes e a função\n",
    "x, y = sp.symbols('x y')\n",
    "u = x**2-y**2\n",
    "\n",
    "u_xx = sp.diff(u, x, 2)\n",
    "u_yy = sp.diff(u, y, 2)\n",
    "\n",
    "# Definir a equação diferencial parcial\n",
    "edp = sp.Eq(x*u_xx-y*u_yy, 0)\n",
    "\n",
    "# Exibir as derivadas parciais e verificar se a função satisfaz a EDP\n",
    "print(f\"x(∂²u/∂x²) - y(∂²u/∂y²) = {x*u_xx-y*u_yy}\")\n",
    "\n",
    "# Verificar se a equação diferencial parcial é satisfeita\n",
    "is_solution = edp.simplify()\n",
    "\n",
    "if is_solution == True:\n",
    "    print(f\"A função u(x, y) = xy é uma solução da EDP.\")\n",
    "else:\n",
    "    print(f\"A função u(x, y) = xy é não uma solução da EDP.\")\n"
   ]
  },
  {
   "cell_type": "markdown",
   "id": "86d5e62b",
   "metadata": {},
   "source": [
    "# <div style=\"margin-top: -20px;\">\n",
    "<hr style=\"border: 2px solid black;\">\n",
    "\n",
    "<font color='black'><span style=\"font-size: 22px;\"><strong>6.2 Equações Diferenciais Parciais Separáveis</strong></span></font>\n",
    "\n",
    "<hr style=\"border: 2px solid black;\">\n",
    "</div>"
   ]
  },
  {
   "cell_type": "markdown",
   "id": "482d1e5c",
   "metadata": {},
   "source": [
    "Existem diversos métodos para se encontrar soluções particulares de EDPs lineares. Apresentaremos nesta seção um deles, o método de separação de variáveis. Neste método, ao buscar uma solução para uma EDP linear de segunda ordem com variáveis separáveis independentes $x$ e $y$, tentamos encontrar uma solução na forma de um produto $u(x,y) = X(x)Y(y)$. Com essa abordagem, é possível simplificar uma EDP linear de duas variáveis em duas equações diferenciais ordinárias (EDOs). Para tanto precisamos observar que:\n",
    "\n",
    "<font color='red'> $$\\frac{\\partial u}{\\partial x} = X'Y, \\ \\frac{\\partial u}{\\partial y} = XY', \\ \\frac{\\partial^{2} u}{\\partial x^{2}} = X''Y \\ \\text{e} \\ \\frac{\\partial^{2} u}{\\partial y^{2}} = XY'' \\tag{2}$$</font>\n",
    "\n",
    "onde $'$ e $''$ indicam a diferenciação ordinária."
   ]
  },
  {
   "cell_type": "markdown",
   "id": "0cd22e3b",
   "metadata": {},
   "source": [
    "#### <font color='blue'> Exemplo 3"
   ]
  },
  {
   "cell_type": "markdown",
   "id": "4bcaf4e9",
   "metadata": {},
   "source": [
    "<font color='blue'> Determine a solução produto da equação diferencial:<br><br>\n",
    " $$\\frac{\\partial^{2} u}{\\partial x^{2}} = 4\\frac{\\partial u}{\\partial y}.$$"
   ]
  },
  {
   "cell_type": "markdown",
   "id": "1d3614f9",
   "metadata": {},
   "source": [
    "##### <font color='blue'> Solução"
   ]
  },
  {
   "cell_type": "markdown",
   "id": "130cf97b",
   "metadata": {},
   "source": [
    "<font color='blue'> Substituindo $x(x,y) = X(x)y(y)$ na equação diferencial dada, temos:<br><br>\n",
    " $$\\frac{\\partial^{2} u}{\\partial x^{2}} = 4\\frac{\\partial u}{\\partial y} \\Rightarrow X''Y = 4XY' \\Rightarrow \\frac{X''}{4X} = \\frac{Y'}{Y}.$$<br>\n",
    " Podemos tomar uma solução particular considerando $\\frac{X''}{4X} = \\frac{Y'}{Y} = -\\lambda$ em que $\\lambda$ é uma constante (constante de separação). Assim, devemos resolver as seguinte equações:<br><br>\n",
    " $$\\frac{X''}{4X} = -\\lambda \\Rightarrow X'' + 4\\lambda X = 0 \\ \\ \\text{e} \\ \\ \\frac{Y'}{Y} = -\\lambda \\Rightarrow Y' + \\lambda Y = 0. \\tag{2}$$<br>\n",
    " Temos $3$ casos a considerar:<br><br>\n",
    " **Caso 1** ($\\lambda = 0$)<br><br>\n",
    " Substituindo $\\lambda = 0$ nas respectivas equações $(2)$, temos:<br><br>\n",
    " $$X'' = 0 \\Rightarrow X' = c_{1}x \\Rightarrow X = c_{1}x + c2 \\ \\ \\text{e} \\ \\ Y' = 0 \\Rightarrow Y = c_{3}$$<br>\n",
    " Assim,<br><br>\n",
    " $$u(x,y) = X(x)Y(y) = (c_{1}x + c2)c_{3} = A_{1}x + B_{1}$$<br>\n",
    " **Caso 2** ($\\lambda = -\\alpha^{2} < 0$)<br><br>\n",
    " A solução geral das equações são:<br><br>\n",
    " $$X = c_{4}cosh(2\\alpha x) + c_{5}senh(2\\alpha x) \\ \\ \\text{e} \\ \\ Y = c_{6}e^{\\alpha^{2}y}$$<br>\n",
    " Assim,<br><br>\n",
    " $$u(x,y) = X(x)Y(y) = (c_{4}cosh(2\\alpha x) + c_{5}senh(2\\alpha x))c_{6}e^{\\alpha^{2}y} = $$<br>\n",
    " $$= A_{2}e^{\\alpha^{2}y}cosh(2\\alpha x) + B_{2}e^{\\alpha^{2}y}senh(2\\alpha x)$$<br>\n",
    " **Caso 3** ($\\lambda = \\alpha^{2} > 0$)<br><br>\n",
    " A solução geral das equações são:<br>\n",
    " $$X = c_{7}cos(2\\alpha x) + c_{8}sen(2\\alpha x) \\ \\ \\text{e} \\ \\ Y = c_{9}e^{-\\alpha^{2}y}$$<br>\n",
    " Assim,<br><br>\n",
    " $$u(x,y) = X(x)Y(y) = (c_{7}cos(2\\alpha x) + c_{8}sen(2\\alpha x))c_{9}e^{-\\alpha^{2}y} = $$<br>\n",
    " $$= A_{3}e^{-\\alpha^{2}y}cos(2\\alpha x) + B_{3}e^{-\\alpha^{2}y}sen(2\\alpha x)$$"
   ]
  },
  {
   "cell_type": "markdown",
   "id": "76d42a26",
   "metadata": {},
   "source": [
    "#### Observação: Escrita em função de sen, cos, senh e cosh"
   ]
  },
  {
   "cell_type": "markdown",
   "id": "ba05d2cd",
   "metadata": {},
   "source": [
    "Note que a solução da equação $X'' - 4\\alpha^{2}X = 0$ é obtida resolvendo-se a equação polinomial de grau $2$ associada $m^{2} - 4\\alpha^{2} = 0$ cujas soluções são $m_{1} = 2\\alpha$ e $m_{2} = -2\\alpha$. Temos portanto as soluções $y_{1} = e^{2\\alpha x}$ e $y_{2} = e^{-2\\alpha x}$ donde segue a solução geral dada por $y = k_{1}e^{2\\alpha x} + k_{2}e^{-2\\alpha x}$. Em outra mão, temos que:\n",
    "\n",
    "$$cosh(a) = \\frac{e^{a} + e^{-a}}{2} \\ \\ \\text{e} \\ \\  senh(a) = \\frac{e^{a} - e^{-a}}{2}$$\n",
    "\n",
    "donde segue que \n",
    "\n",
    "$$cosh(2\\alpha x) = \\frac{e^{2\\alpha x} + e^{-2\\alpha x}}{2} \\ \\ \\text{e} \\ \\  senh(2\\alpha x) = \\frac{e^{2\\alpha x} - e^{-2\\alpha x}}{2}$$\n",
    "\n",
    "Assim,\n",
    "\n",
    "$$y = k_{1}e^{2\\alpha x} + k_{2}e^{-2\\alpha x} = k_{1}\\left(\\frac{cosh(2\\alpha x) + sinh(2\\alpha x)}{2}\\right) + k_{2}\\left(\\frac{cosh(2\\alpha x) - sinh(2\\alpha x)}{2}\\right)$$\n",
    "\n",
    "$$ = \\frac{k_{1}+k_{2}}{2}cosh(2\\alpha x) +  \\frac{k_{1} - k_{2}}{2}senh(2\\alpha x) = c_{1}cosh(2\\alpha x) +  c_{2}senh(2\\alpha x).$$\n",
    "\n",
    "Analogamente, a solução de $X'' + 4\\alpha^{2}X = 0$ é dada por $y = k_{3}e^{2i\\alpha x} + k_{4}e^{-2i\\alpha x}$. Considerando $cos(a) = \\frac{e^{ia} + e^{-ia}}{2}$ e $sen(a) = \\frac{e^{ia} - e^{-ia}}{2i}$ temos que:\n",
    "\n",
    "$$y = k_{3}e^{2i\\alpha x} + k_{4}e^{-2i\\alpha x} = (k_{3} + k_{4})\\frac{e^{2i\\alpha x} + e^{-2i\\alpha x}}{2} + (k_{3} - k_{4})\\frac{e^{2i\\alpha x} - e^{-2i\\alpha x}}{2} = $$\n",
    "\n",
    "$$ = (k_{3} + k_{4})\\frac{e^{2i\\alpha x} + e^{-2i\\alpha x}}{2} + i(k_{3} - k_{4})\\frac{e^{2i\\alpha x} - e^{-2i\\alpha x}}{2i} = c_{7}cos(2\\alpha x) + c_{8} sen(2\\alpha x)$$"
   ]
  },
  {
   "cell_type": "markdown",
   "id": "97f65a2f",
   "metadata": {},
   "source": [
    "#### <font color='red'> Teorema 1 (Teorema da Superposição)"
   ]
  },
  {
   "cell_type": "markdown",
   "id": "f5f03e24",
   "metadata": {},
   "source": [
    "<font color='red'> Se $u_{1},u_{2},\\ldots,u_{k}$ são soluções de uma equação diferencial parcial homogênea, então a combinação linear<br><br>\n",
    " $$u = c_{1}u_{1} + c_{2}u_{2} + \\ldots + c_{k}u_{k}, \\tag{3}$$<br>\n",
    " em que $c_{i}, i = 1,2,\\ldots,k$ são constantes, é também uma solução."
   ]
  },
  {
   "cell_type": "markdown",
   "id": "05d3ab92",
   "metadata": {},
   "source": [
    "#### <font color='blue'> Exemplo 4"
   ]
  },
  {
   "cell_type": "markdown",
   "id": "157a380c",
   "metadata": {},
   "source": [
    "<font color='blue'> O **Teorema 1** assegura que, no **Exemplo 4**, a combinação linear, $c_{1}u_{1} + c_{2}u_{2} + c_{3}u_{3}$, das soluções<br><br>\n",
    " $$u_{1} = A_{1}x + B_{1}, \\ u_{2} = A_{2}e^{\\alpha^{2}y}cosh(2\\alpha x) + B_{2}e^{\\alpha^{2}y}senh(2\\alpha x) \\ \\text{e} \\ u_{3} = A_{3}e^{-\\alpha^{2}y}cos(2\\alpha x) + B_{3}e^{-\\alpha^{2}y}sen(2\\alpha x)$$<br>\n",
    " é também uma solução da equação diferencial $\\frac{\\partial^{2} u}{\\partial x^{2}} = 4\\frac{\\partial u}{\\partial y}$."
   ]
  },
  {
   "cell_type": "markdown",
   "id": "d5ffeffb",
   "metadata": {},
   "source": [
    "# <div style=\"margin-top: -20px;\">\n",
    "<hr style=\"border: 2px solid black;\">\n",
    "\n",
    "<font color='black'><span style=\"font-size: 22px;\"><strong>6.3 Classificação de Uma Equação Diferencial Parcial Linear de Segunda Ordem com Coeficientes Constantes</strong></span></font>\n",
    "\n",
    "<hr style=\"border: 2px solid black;\">\n",
    "</div>\n",
    "\n",
    "\n"
   ]
  },
  {
   "cell_type": "markdown",
   "id": "adcaf88d",
   "metadata": {},
   "source": [
    "Uma equação diferencial parcial linear de segunda ordem com coeficientes constantes pode ser classificada em três tipos. Esta classificação depende do sinal de $A, B$ e $C$ em $(1)$."
   ]
  },
  {
   "cell_type": "markdown",
   "id": "32a4bc31",
   "metadata": {},
   "source": [
    "#### <font color='red'> Definição 2"
   ]
  },
  {
   "cell_type": "markdown",
   "id": "e6a0cb28",
   "metadata": {},
   "source": [
    "<font color='red'> A equação diferencial parcial<br><br>\n",
    " $$A\\frac{\\partial^{2}u}{\\partial x^{2}} + B\\frac{\\partial^{2}u}{\\partial x \\partial y} + C\\frac{\\partial^{2}u}{\\partial y^{2}} + D\\frac{\\partial u}{\\partial x} + E\\frac{\\partial u}{\\partial y} + Fu = G \\tag{4}$$<br>\n",
    " em que os coeficientes $A, B, C, \\ldots, G$ são constantes, é dita ser:<br><br>\n",
    " i) **hiperbólica** se $B^{2}-4AC > 0$,<br><br>\n",
    " ii) **parabólica** se $B^{2}-4AC = 0$,<br><br>\n",
    " iii) **elíptica** se $B^{2}-4AC < 0$"
   ]
  },
  {
   "cell_type": "markdown",
   "id": "0c8e1770",
   "metadata": {},
   "source": [
    "#### <font color='blue'> Exemplo 5"
   ]
  },
  {
   "cell_type": "markdown",
   "id": "e9191930",
   "metadata": {},
   "source": [
    "<font color='blue'> Classifique as seguinte equações em hiperbólica, parabólica ou elíptica<br><br>\n",
    " a) $2\\frac{\\partial^{2} u}{\\partial x} - \\frac{\\partial u}{\\partial y} = 0$<br><br>\n",
    " b) $\\frac{\\partial^{2} u}{\\partial x} = \\frac{\\partial^{2} u}{\\partial y^{2}} $<br><br>\n",
    " c) $\\frac{\\partial^{2} u}{\\partial x^{2}} + \\frac{\\partial^{2} u}{\\partial y^{2}} - 2\\frac{\\partial u}{\\partial x} + \\frac{\\partial u}{\\partial y} = u$"
   ]
  },
  {
   "cell_type": "markdown",
   "id": "78518b24",
   "metadata": {},
   "source": [
    "##### <font color='blue'> Solução"
   ]
  },
  {
   "cell_type": "markdown",
   "id": "74a62f0e",
   "metadata": {},
   "source": [
    "<font color='blue'> a) Note que<br><br>\n",
    " $$2\\frac{\\partial^{2} u}{\\partial x} - \\frac{\\partial u}{\\partial y} = 0 \\Rightarrow A = 2, \\ \\ B = 0 \\ \\ \\text{e} \\ \\ C = 0 \\Rightarrow B^{2} - 4AC = 0^{2} - 4\\cdot1\\cdot0 = 0$$<br>\n",
    " Portanto, e equação em questão é parabólica.<br><br>\n",
    " b) Note que<br><br>\n",
    " $$\\frac{\\partial^{2} u}{\\partial x} = \\frac{\\partial^{2} u}{\\partial y^{2}} \\Rightarrow \\frac{\\partial^{2} u}{\\partial x} - \\frac{\\partial^{2} u}{\\partial y^{2}} = 0 \\Rightarrow A = 1, \\ \\ B = 0 \\ \\ \\text{e} \\ \\ C = -1 \\Rightarrow B^{2} - 4AC = 0^{2} - 4\\cdot1\\cdot(-1) =  4 > 0$$<br>\n",
    " Portanto, a equação em questão é hiperbólica.<br><br>\n",
    " c) Note que<br><br>\n",
    " $$\\frac{\\partial^{2} u}{\\partial x^{2}} + \\frac{\\partial^{2} u}{\\partial y^{2}} - 2\\frac{\\partial u}{\\partial x} + \\frac{\\partial u}{\\partial y} = u \\Rightarrow \\frac{\\partial^{2} u}{\\partial x^{2}} + \\frac{\\partial^{2} u}{\\partial y^{2}} - 2\\frac{\\partial u}{\\partial x} + \\frac{\\partial u}{\\partial y} - u = 0 \\Rightarrow $$<br>\n",
    " $$\\Rightarrow A = 1, \\ \\ B = 0 \\ \\ \\text{e} \\ \\ C = 1 \\Rightarrow B^{2} - 4AC = 0^{2} - 4\\cdot1\\cdot1 = -4 < 0$$<br>\n",
    " Portanto, a equação em questão é elíptica."
   ]
  },
  {
   "cell_type": "markdown",
   "id": "1ef8fe8e",
   "metadata": {},
   "source": [
    "# <div style=\"margin-top: -20px;\">\n",
    "<hr style=\"border: 2px solid black;\">\n",
    "\n",
    "<font color='black'><span style=\"font-size: 22px;\"><strong>Exercícios</strong></span></font>\n",
    "\n",
    "<hr style=\"border: 2px solid black;\">\n",
    "</div>"
   ]
  },
  {
   "cell_type": "markdown",
   "id": "4c311399",
   "metadata": {},
   "source": [
    "#### Exercício 1$^{[9]}$"
   ]
  },
  {
   "cell_type": "markdown",
   "id": "3e2f7986",
   "metadata": {},
   "source": [
    "Use o método da separação de variáveis para exibir, se possível, soluções na forma produto para cada uma das equações diferenciais parciais dadas:\n",
    "\n",
    "a) $\\frac{\\partial u}{\\partial x} = \\frac{\\partial u}{\\partial y}$\n",
    "\n",
    "b) $\\frac{\\partial u}{\\partial x} + \\frac{\\partial u}{\\partial y} = u$\n",
    "\n",
    "c) $x\\frac{\\partial u}{\\partial x} = y\\frac{\\partial u}{\\partial y}$\n",
    "\n",
    "d) $\\frac{\\partial^{2} u}{\\partial x^{2}} + \\frac{\\partial^{2} u}{\\partial x \\partial y} + \\frac{\\partial^{2} u}{\\partial y^{2}} = 0$\n",
    "\n",
    "e) $k\\frac{\\partial^{2} u}{\\partial x^{2}} - u = \\frac{\\partial u}{\\partial t}, \\ k > 0$\n",
    "\n",
    "f) $a^{2}\\frac{\\partial^{2} u}{\\partial x^{2}} = \\frac{\\partial^{2} u}{\\partial t^{2}}$"
   ]
  },
  {
   "cell_type": "markdown",
   "id": "f9cdbbc9",
   "metadata": {},
   "source": [
    "#### Exercício 2$^{[9]}$"
   ]
  },
  {
   "cell_type": "markdown",
   "id": "6bda9bfa",
   "metadata": {},
   "source": [
    "Classifique cada uma das equações diferenciais parciais a seguir em hiperbólica, parabólica ou elíptica:\n",
    "\n",
    "a) $\\frac{\\partial^{2} u}{\\partial x^{2}} + \\frac{\\partial^{2} u}{\\partial x \\partial y} + \\frac{\\partial^{2} u}{\\partial y^{2}} = 0$\n",
    "\n",
    "b) $\\frac{\\partial^{2} u}{\\partial x^{2}} + 6\\frac{\\partial^{2} u}{\\partial x \\partial y} + 9\\frac{\\partial^{2} u}{\\partial y^{2}} = 0$\n",
    "\n",
    "c) $\\frac{\\partial^{2} u}{\\partial x^{2}} = 9\\frac{\\partial^{2} u}{\\partial x \\partial y}$\n",
    "\n",
    "d) $\\frac{\\partial^{2} u}{\\partial x^{2}} + 2\\frac{\\partial^{2} u}{\\partial x \\partial y} + \\frac{\\partial^{2} u}{\\partial y^{2}} + \\frac{\\partial u}{\\partial x} - 6\\frac{\\partial u}{\\partial x} = 0$\n",
    "\n",
    "e) $a^{2}\\frac{\\partial^{2} u}{\\partial x^{2}} = \\frac{\\partial^{2} u}{\\partial t^{2}}, \\ a \\in \\mathbb{R}$"
   ]
  },
  {
   "cell_type": "markdown",
   "id": "a561945f",
   "metadata": {},
   "source": [
    "# <div style=\"margin-top: -20px;\">\n",
    "<hr style=\"border: 2px solid black;\">\n",
    "\n",
    "<font color='black'><span style=\"font-size: 22px;\"><strong>Respostas dos Exercícios</strong></span></font>\n",
    "\n",
    "<hr style=\"border: 2px solid black;\">\n",
    "</div>"
   ]
  },
  {
   "cell_type": "markdown",
   "id": "8cb15daa",
   "metadata": {},
   "source": [
    "#### Resposta do Exercício 1"
   ]
  },
  {
   "cell_type": "markdown",
   "id": "17b0a132",
   "metadata": {},
   "source": [
    "a) $u = c_{1}e^{c_{2}(x+y)}$\n",
    "\n",
    "b) $u = c_{1}e^{y + c_{2}(x-y)}$\n",
    "\n",
    "c) $u = c_{1}(xy)^{c_{2}}$\n",
    "\n",
    "d) Não é separável\n",
    "\n",
    "e) $u_{1} = e^{-t}(A_{1}e^{k\\alpha^{2}t} cosh(\\alpha x) + B_{1}e^{k\\alpha^{2}t} senh(\\alpha x)), \\ \\frac{\\lambda - 1}{k} = 0$\n",
    "\n",
    "$u_{2} = e^{-t}(A_{2}e^{-k\\alpha^{2}t} cos(\\alpha x) + B_{2}e^{-k\\alpha^{2}t} sen(\\alpha x)), \\ \\frac{\\lambda - 1}{k} = -\\alpha^{2} < 0$\n",
    "\n",
    "$u_{3} = e^{-t}(A_{3}x + B_{3}), \\ \\frac{\\lambda - 1}{k} = \\alpha^{2} > 0$\n",
    "\n",
    "f) $u_{1} = (c_{1}cosh(\\alpha x) + c_{2}sinh(\\alpha x))(c_{3}cosh(a\\alpha x) + c_{4}sinh(a\\alpha x))$\n",
    "\n",
    "$u_{2} = (c_{5}cos(\\alpha x) + c_{6}sin(\\alpha x))(c_{7}cos(a\\alpha x) + c_{8}sin(a\\alpha x)$\n",
    "\n",
    "$u_{3} = (c_{9}x + c_{10})(c_{11}t + c_{12})$"
   ]
  },
  {
   "cell_type": "markdown",
   "id": "59b3f7fd",
   "metadata": {},
   "source": [
    "#### Resposta do Exercício 2"
   ]
  },
  {
   "cell_type": "markdown",
   "id": "40e99ba5",
   "metadata": {},
   "source": [
    "a) elíptica\n",
    "\n",
    "b) parabólica\n",
    "\n",
    "c) hiperbólica\n",
    "\n",
    "d) parabólica\n",
    "\n",
    "e) hiperbólica"
   ]
  },
  {
   "cell_type": "markdown",
   "id": "bb844f24",
   "metadata": {},
   "source": [
    "# <div style=\"margin-top: -20px;\">\n",
    "<hr style=\"border: 2px solid black;\">\n",
    "\n",
    "<font color='black'><span style=\"font-size: 22px;\"><strong>Vídeo Aulas</strong></span></font>\n",
    "\n",
    "<hr style=\"border: 2px solid black;\">\n",
    "</div>"
   ]
  },
  {
   "cell_type": "markdown",
   "id": "4062851d",
   "metadata": {},
   "source": [
    "Clicando nos links a seguir você será redirecionado às aulas referentes a este capítulo:\n",
    "\n"
   ]
  },
  {
   "cell_type": "markdown",
   "id": "4bd351bd",
   "metadata": {},
   "source": [
    "# <div style=\"margin-top: -20px;\">\n",
    "<hr style=\"border: 2px solid black;\">\n",
    "\n",
    "<font color='black'><span style=\"font-size: 22px;\"><strong>Referências</strong></span></font>\n",
    "\n",
    "<hr style=\"border: 2px solid black;\">\n",
    "</div>"
   ]
  },
  {
   "cell_type": "markdown",
   "id": "e4c36f16",
   "metadata": {},
   "source": [
    "$[1]$ FERNANDEZ, C. de S.; BERNANDES JÚNIOR, N. Introdução às funções de uma variável complexa. Rio de Janeiro: SBM, 2016.\n",
    "\n",
    "$[2]$ BUTKOV, E. Física matemática. Rio de Janeiro: LTC, 1988.\n",
    "\n",
    "$[3]$ RILEY, K. F.; HOBSON, M. P.; BENCE, S. J. Mathematical methods for physics and engineering. 3rd ed. Cambridge: Cambridge University Press, 2006.\n",
    "\n",
    "$[4]$ SANTOS, R. J., Transformada de Fourier. Belo Horizonte: Universidade Federal de Minas Gerais, 2017.\n",
    "\n",
    "$[5]$ SOARES, A. Curso Python Com Jupyter Notebook. Instituto Federal da Bahia, Campus Vitória da Conquista, $2023$. Disponível em https://github.com/ProfAllanIFBA/Curso_Python_Com_Jupyter_Notebook\n",
    "\n",
    "$[6]$ SPIEGEL, M. R. Advanced mathematics for engineers and scientists. New York: McGraw-Hill, 1971.\n",
    "\n",
    "$[7]$ SPIEGEL, M. R. Cálculo Avançado. São Paulo: McGraw-Hill, 1971.\n",
    "\n",
    "$[8]$ ZILL, D. G.; CULLEN, M. R. Matemática avançada para engenharia, v.3: equações diferenciais parciais, métodos de Fourier e variáveis complexas. 3 ed. Porto Alegre: Bookman, 2009.\n",
    "\n",
    "$[9]$ ZILL, D. G., Advanced Engineering Mathematics. 6rd ed. Jones & Bartlett Learning 2017.\n",
    "\n",
    "$[10]$ ZILL, D. G., CULLEN, M. R. Equações Diferenciais. v1, 3 ed. São Paulo: Makron Books, 2001."
   ]
  }
 ],
 "metadata": {
  "kernelspec": {
   "display_name": "Python 3 (ipykernel)",
   "language": "python",
   "name": "python3"
  },
  "language_info": {
   "codemirror_mode": {
    "name": "ipython",
    "version": 3
   },
   "file_extension": ".py",
   "mimetype": "text/x-python",
   "name": "python",
   "nbconvert_exporter": "python",
   "pygments_lexer": "ipython3",
   "version": "3.11.5"
  },
  "varInspector": {
   "cols": {
    "lenName": 16,
    "lenType": 16,
    "lenVar": 40
   },
   "kernels_config": {
    "python": {
     "delete_cmd_postfix": "",
     "delete_cmd_prefix": "del ",
     "library": "var_list.py",
     "varRefreshCmd": "print(var_dic_list())"
    },
    "r": {
     "delete_cmd_postfix": ") ",
     "delete_cmd_prefix": "rm(",
     "library": "var_list.r",
     "varRefreshCmd": "cat(var_dic_list()) "
    }
   },
   "types_to_exclude": [
    "module",
    "function",
    "builtin_function_or_method",
    "instance",
    "_Feature"
   ],
   "window_display": false
  }
 },
 "nbformat": 4,
 "nbformat_minor": 5
}

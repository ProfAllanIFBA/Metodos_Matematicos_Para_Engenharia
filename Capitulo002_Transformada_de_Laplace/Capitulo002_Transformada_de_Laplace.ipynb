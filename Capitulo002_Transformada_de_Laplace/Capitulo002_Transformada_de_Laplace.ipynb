{
 "cells": [
  {
   "cell_type": "markdown",
   "id": "d4ea28a8",
   "metadata": {
    "slideshow": {
     "slide_type": "slide"
    }
   },
   "source": [
    "<center> <img src=\"logo_ifba.jpg\" alt=\"jpg_python\" width=\"100\" height=\"200\"> </center>\n",
    "<br><br>\n",
    "<div align=\"center\"><span style=\"font-size: 26px;\"><strong>Métodos Matemáticos Para Engenharia <br></strong></span></div> <br>\n",
    "<center> <img src=\"python_gif.gif\" alt=\"gif_python\" width=\"80\"> </center>\n"
   ]
  },
  {
   "cell_type": "markdown",
   "id": "d76184a7",
   "metadata": {
    "slideshow": {
     "slide_type": "slide"
    }
   },
   "source": [
    "<div style=\"border: 2px solid black; padding: 10px; width: 95%; background-color: lightgray; display: flex; align-items: center;\">\n",
    "    <h1 style=\"color: red; text-align: center; margin: auto;\">\n",
    "        Capítulo 2: Transformada de Laplace\n",
    "    </h1>\n",
    "</div>\n",
    "\n",
    "<font color='red'></font>\n",
    "<a href=\"\"></a>"
   ]
  },
  {
   "cell_type": "markdown",
   "id": "6c4c6d56",
   "metadata": {},
   "source": [
    "# <div style=\"margin-top: -20px;\">\n",
    "<hr style=\"border: 2px solid black;\">\n",
    "\n",
    "<font color='black'><span style=\"font-size: 22px;\"><strong>2.1 Transformada de Laplace</strong></span></font>\n",
    "\n",
    "<hr style=\"border: 2px solid black;\">\n",
    "</div>"
   ]
  },
  {
   "cell_type": "markdown",
   "id": "7142d16f",
   "metadata": {},
   "source": [
    "A transformada de Laplace é uma ferramenta matemática poderosa utilizada amplamente em diversas áreas da ciência e engenharia, especialmente útil para resolver equações diferenciais e analisar sistemas lineares. Originada no trabalho do matemático francês Pierre-Simon Laplace, essa transformada converte funções de tempo, que geralmente são difíceis de manipular, em funções de uma variável complexa, simplificando consideravelmente o processo de análise e solução.\n",
    "\n",
    "A transformada de Laplace, $\\overline{f}(s)$ ou $\\mathscr{L}[f(t)]$, de $f(t)$,  é definida por:\n",
    "\n",
    "<font color='red'> $$\\overline{f}(s) = \\int_{0}^{\\infty} f(t)e^{-st} dt \\tag{1}$$</font>\n",
    "\n",
    "desde que a integral exista.\n",
    "\n",
    "Através de $(1)$ definimos uma transformação linear $\\mathscr{L}$ que converte funções da variável $t$ em funções de uma nova variável $s$:\n",
    "\n",
    "<font color='red'> $$\\mathscr{L}[af_{1}(t) + bf_{2}(t)] = a\\mathscr{L}[f_{1}(t)] + b\\mathscr{L}[f_{2}(t)] = a\\overline{f}_{1}(s) + b\\overline{f}_{2}(s). \\tag{2} $$</font>"
   ]
  },
  {
   "cell_type": "markdown",
   "id": "f0041b83",
   "metadata": {},
   "source": [
    "#### <font color='blue'> Exemplo 1 </font>"
   ]
  },
  {
   "cell_type": "markdown",
   "id": "e3b05e36",
   "metadata": {},
   "source": [
    "<font color='blue'> Exiba as transformadas de Fourier das funções:<br><br>\n",
    " a) $f(t) = 1$<br><br>\n",
    " b) $g(t) = e^{at}$<br><br>\n",
    " c) $h(t) = t^{n}$"
   ]
  },
  {
   "cell_type": "markdown",
   "id": "b750bcfc",
   "metadata": {},
   "source": [
    "##### <font color='blue'> Solução </font>"
   ]
  },
  {
   "cell_type": "markdown",
   "id": "f52a38e2",
   "metadata": {},
   "source": [
    "<font color='blue'> a) Temos que,<br><br>\n",
    " $$\\mathscr{L}[1] = \\int_{0}^{\\infty}1\\cdot e^{-st} dt = \\left.-\\frac{1}{s}e^{-st}\\right|_{0}^{\\infty} = -\\frac{1}{s}e^{-s\\cdot \\infty} - \\left(-\\frac{1}{s}e^{-s\\cdot0}\\right) = 0 + \\frac{1}{s} = \\frac{1}{s}.$$<br>\n",
    " b) Temos que,<br><br>\n",
    " $$\\mathscr{L}[e^{at}] = \\int_{0}^{\\infty}e^{at}e^{-st} dt = \\int_{0}^{\\infty}e^{at}e^{-st} dt = \\int_{0}^{\\infty} e^{(a-s)t}dt = \\left.\\frac{1}{a-s}\\right|_{0}^{\\infty} = $$<br>\n",
    " $$= \\frac{1}{a-s}e^{(a-s)\\infty} - \\frac{1}{a-s}e^{(a-s)0} = -\\frac{1}{a-s} = \\frac{1}{s-a}, s > a$$<br>\n",
    " c) Temos que,<br><br>\n",
    " $$\\mathscr{L}[t^{n}] = \\int_{0}^{\\infty} t^{n}e^{-st}dt =^{[pp]} -\\left.\\frac{t^{n}}{s}e^{-st}\\right|_{0}^{\\infty} - \\int_{0}^{\\infty} -nt^{n-1}\\frac{1}{s}e^{-st} dt = 0 + \\frac{n}{s}\\int_{0}^{\\infty}t^{n-1}e^{-st} dt = \\frac{n}{s}\\mathscr{L}[t^{n-1}], s > 0 \\Rightarrow$$<br>\n",
    " $$\\Rightarrow \\mathscr{L}[t^{n}] = \\frac{n}{s}\\mathscr{L}[t^{n-1}] = \\frac{n(n-1)}{s^{2}}\\mathscr{L}[t^{n-2}] = \\ldots = \\frac{n(n-1)\\ldots(n-(n-1))}{s^{n}}\\mathscr{L}[t^{0}] = \\frac{n!}{s^{n}}\\frac{1}{s} = \\frac{n!}{s^{n+1}}, s > 0.$$<br>\n",
    " Vejamos o cálculo das transformadas no Python:"
   ]
  },
  {
   "cell_type": "code",
   "execution_count": 1,
   "id": "8e315447",
   "metadata": {},
   "outputs": [],
   "source": [
    "import sympy as sp\n",
    "\n",
    "# Definindo as variáveis simbólicas\n",
    "t, s = sp.symbols('t s')\n",
    "a, b, k, n = sp.symbols('a b k n', real=True, positive=True)"
   ]
  },
  {
   "cell_type": "code",
   "execution_count": 2,
   "id": "dced561b",
   "metadata": {},
   "outputs": [
    {
     "data": {
      "text/latex": [
       "$\\displaystyle \\frac{1}{s}$"
      ],
      "text/plain": [
       "1/s"
      ]
     },
     "execution_count": 2,
     "metadata": {},
     "output_type": "execute_result"
    }
   ],
   "source": [
    "# Item \"a\" do Exemplo 1\n",
    "\n",
    "# Cálculo da transformada\n",
    "F_a = sp.laplace_transform(1, t, s, noconds=True)\n",
    "\n",
    "# Exibindo a Transformada\n",
    "F_a"
   ]
  },
  {
   "cell_type": "code",
   "execution_count": 3,
   "id": "dbc265da",
   "metadata": {},
   "outputs": [
    {
     "data": {
      "text/latex": [
       "$\\displaystyle \\frac{1}{- a + s}$"
      ],
      "text/plain": [
       "1/(-a + s)"
      ]
     },
     "execution_count": 3,
     "metadata": {},
     "output_type": "execute_result"
    }
   ],
   "source": [
    "# Item \"b\" do Exemplo 1\n",
    "\n",
    "# Cálculo da transformada\n",
    "F_b = sp.laplace_transform(sp.exp(a*t), t, s, noconds=True)\n",
    "\n",
    "# Exibindo a Transformada\n",
    "F_b"
   ]
  },
  {
   "cell_type": "code",
   "execution_count": 4,
   "id": "802dd577",
   "metadata": {},
   "outputs": [
    {
     "data": {
      "text/latex": [
       "$\\displaystyle s^{- n - 1} \\Gamma\\left(n + 1\\right)$"
      ],
      "text/plain": [
       "s**(-n - 1)*gamma(n + 1)"
      ]
     },
     "execution_count": 4,
     "metadata": {},
     "output_type": "execute_result"
    }
   ],
   "source": [
    "# Item \"c\" do Exemplo 1\n",
    "\n",
    "# Cálculo da transformada\n",
    "F_c = sp.laplace_transform(t**n, t, s, noconds=True)\n",
    "\n",
    "# Exibindo a Transformada\n",
    "F_c"
   ]
  },
  {
   "cell_type": "markdown",
   "id": "a3df6fb6",
   "metadata": {},
   "source": [
    "#### Tabela de Transformadas"
   ]
  },
  {
   "cell_type": "markdown",
   "id": "e0f37d01",
   "metadata": {},
   "source": [
    "Apresentamos a seguir algumas das transformdas mais utilizadas, algumas das quais trataremos ao longo deste capítulo:\n",
    "\n",
    "$$\\begin{array}{}\n",
    "\\hline \n",
    "f(t) & \\mathscr{L}[f(t)] = \\overline{f}(s) \\\\\n",
    "\\hline\n",
    "1) \\ 1 & \\frac{1}{s} \\\\\n",
    "2) \\ e^{at}f(t) & \\overline{f}(s-a) \\\\\n",
    "3) \\ U(t-a) & \\frac{e^{-as}}{s} \\\\\n",
    "4) \\ f(t-a)u(t-a) & e^{-as}\\overline{f}(s) \\\\\n",
    "5) \\ \\delta(t) & 1 \\\\\n",
    "6) \\ \\delta(t-t_0) & e^{-st_0} \\\\\n",
    "7) \\ t^n f(t) & (-1)^n \\frac{d^n}{ds^n} \\overline{f}(s) \\\\\n",
    "8) \\ f'(t) & s\\overline{f}(s) - f(0) \\\\\n",
    "9) \\ f^n(t) & s^n\\overline{f}(s) - s^{n-1}f(0) - \\cdots - f^{(n-1)}(0) \\\\\n",
    "10) \\ \\int_0^t f(x)g(t-x)dx & \\overline{f}(s)\\overline{g}(s) \\\\\n",
    "11) \\ t^n (n = 0, 1, 2, \\ldots) & \\frac{n!}{s^{n+1}} \\\\\n",
    "12) \\ t^x (x \\geq -1 \\in \\mathbb{R}) & \\frac{\\Gamma(x+1)}{s^{x+1}} \\\\\n",
    "13) \\ \\sin kt & \\frac{k}{s^2 + k^2} \\\\\n",
    "14) \\ \\cos kt & \\frac{s}{s^2 + k^2} \\\\\n",
    "15) \\ e^{at} & \\frac{1}{s-a} \\\\\n",
    "16) \\ \\sinh kt & \\frac{k}{s^2 - k^2} \\\\\n",
    "17) \\ \\cosh kt & \\frac{s}{s^2 - k^2} \\\\\n",
    "18) \\ \\frac{e^{at} - e^{bt}}{a-b} & \\frac{1}{(s-a)(s-b)} \\\\\n",
    "19) \\ \\frac{a e^{at} - b e^{bt}}{a-b} & \\frac{2}{(s-a)(s-b)} \\\\\n",
    "20) \\ t e^{at} & \\frac{1}{(s-a)^2} \\\\\n",
    "21) \\ t^n e^{at} & \\frac{n!}{(s-a)^{n+1}} \\\\\n",
    "22) \\ e^{at} \\sin kt & \\frac{k}{(s-a)^2 + k^2} \\\\\n",
    "23) \\ e^{at} \\cos kt & \\frac{s-a}{(s-a)^2 + k^2} \\\\\n",
    "24) \\ e^{at} \\sinh kt & \\frac{k}{(s-a)^2 - k^2} \\\\\n",
    "25) \\ e^{at} \\cosh kt & \\frac{s-a}{(s-a)^2 - k^2} \\\\\n",
    "26) \\ t \\sin kt & \\frac{2ks}{(s^2 + k^2)^2} \\\\\n",
    "27) \\ t \\cos kt & \\frac{s^2 - k^2}{(s^2 + k^2)^2} \\\\\n",
    "28) \\ t \\sinh kt & \\frac{2ks}{(s^2 - k^2)^2} \\\\\n",
    "29) \\ t \\cosh kt & \\frac{s^2 - k^2}{(s^2 - k^2)^2} \\\\\n",
    "30) \\ \\sin \\frac{at}{t} & \\arctan \\frac{a}{s} \\\\\n",
    "31) \\ \\frac{1}{\\sqrt{\\pi t}} e^{-\\frac{a^2}{4t}} & \\frac{e^{-a\\sqrt{s}}}{\\sqrt{s}} \\\\\n",
    "32) \\ \\frac{a}{2\\sqrt{\\pi t^3}} e^{-\\frac{a^2}{4t}} & e^{-a\\sqrt{s}} \\\\\n",
    "33) \\ \\text{erfc} \\left(\\frac{a}{2\\sqrt{t}}\\right) & \\frac{e^{-a\\sqrt{s}}}{s} \\\\\n",
    "\\hline\n",
    "\\end{array}$$"
   ]
  },
  {
   "cell_type": "markdown",
   "id": "6e3e74cf",
   "metadata": {},
   "source": [
    "#### Funções Importantes"
   ]
  },
  {
   "cell_type": "markdown",
   "id": "4ea25164",
   "metadata": {},
   "source": [
    "A seguir apresentamos algumas funções importantes no contexto das transformadas, algumas das quais aparecem na tabela anterior."
   ]
  },
  {
   "cell_type": "markdown",
   "id": "0569c3df",
   "metadata": {},
   "source": [
    "- A **função Heaviside**, também conhecida como função **degrau unitário**, é definida como zero para $t < a$ e $1$ para $t \\geq a$.\n",
    "\n",
    "<font color='red'>$$u(t-a) = \n",
    "\\left\\{ \\begin{array}{} \n",
    "0 & \\text{se} \\ t < a \\\\\n",
    "1 & \\text{se} \\ t \\geq a \\\\\n",
    "\\end{array}\\right. \\tag{3}$$</font>\n",
    "\n",
    "ou\n",
    "\n",
    "<font color='red'>$$\\theta(t) = \n",
    "\\left\\{ \\begin{array}{} \n",
    "0 & \\text{se} \\ t < 0 \\\\\n",
    "1 & \\text{se} \\ t \\geq 0 \\\\\n",
    "\\end{array}\\right. \\ \\ \\text{(Jupyter)}$$</font>\n"
   ]
  },
  {
   "cell_type": "code",
   "execution_count": 24,
   "id": "3f946a8a",
   "metadata": {},
   "outputs": [
    {
     "data": {
      "image/png": "[encoded data removed]",
      "text/plain": [
       "<Figure size 800x400 with 1 Axes>"
      ]
     },
     "metadata": {},
     "output_type": "display_data"
    }
   ],
   "source": [
    "import numpy as np\n",
    "import matplotlib.pyplot as plt\n",
    "\n",
    "# Parâmetro 'a' da função Heaviside\n",
    "a = 0\n",
    "\n",
    "# Vetor de tempo\n",
    "t = np.linspace(-10, 10, 400)\n",
    "# Função Heaviside\n",
    "heaviside = np.heaviside(t - a, 1)\n",
    "\n",
    "# Plot\n",
    "plt.figure(figsize=(8, 4))\n",
    "plt.plot(t, heaviside, color = 'black')\n",
    "plt.ylim(-0.1, 1.1)\n",
    "plt.xlabel(\"t\")\n",
    "plt.ylabel(\"u(t-a)\")\n",
    "plt.title(\"Função Heaviside\")\n",
    "plt.grid(True)\n",
    "plt.show()"
   ]
  },
  {
   "cell_type": "markdown",
   "id": "f78ae544",
   "metadata": {},
   "source": [
    "- A **função Delta de Dirac**, $\\delta(t-a)$, não é uma função no sentido tradicional, mas uma distribuição. Ela é definida de tal maneira que é zero para todos os valores de $t$ exceto em $t = 0$, e sua integral sobre todo o espaço é igual a $1$.\n",
    "\n",
    "<font color='red'>$$\\delta(t-a) = \n",
    "\\left\\{ \\begin{array}{} \n",
    "0 & \\text{para} \\ t \\neq a \\\\\n",
    "\\infty & \\text{para} \\ t = a \\\\\n",
    "\\end{array}\\right., \\ \\ \\int_{-\\infty}^{\\infty} \\delta(t-a) dt = 1 \\tag{4}$$</font>"
   ]
  },
  {
   "cell_type": "code",
   "execution_count": 36,
   "id": "6faac802",
   "metadata": {},
   "outputs": [
    {
     "data": {
      "image/png": "[encoded data removed]",
      "text/plain": [
       "<Figure size 800x400 with 1 Axes>"
      ]
     },
     "metadata": {},
     "output_type": "display_data"
    }
   ],
   "source": [
    "import numpy as np\n",
    "import matplotlib.pyplot as plt\n",
    "import scipy.signal\n",
    "\n",
    "# Parâmetro 'a' da função Delta\n",
    "a = 0\n",
    "\n",
    "# Vetor de tempo\n",
    "t = np.linspace(-1, 1, 200)\n",
    "# Encontrar o índice mais próximo do valor de 'a'\n",
    "idx = (np.abs(t - a)).argmin()\n",
    "# Função Delta de Dirac (aproximação)\n",
    "delta = scipy.signal.unit_impulse(len(t), idx=idx)\n",
    "\n",
    "# Plot\n",
    "plt.figure(figsize=(8, 4))\n",
    "plt.stem(t, delta, linefmt='k', markerfmt='k.', basefmt=\"k-\")\n",
    "plt.title(\"Função Delta de Dirac\")\n",
    "plt.xlabel(\"t\")\n",
    "plt.ylabel(\"$\\delta(t-a)$\")\n",
    "plt.grid(True)\n",
    "plt.show()"
   ]
  },
  {
   "cell_type": "markdown",
   "id": "329f7fe0",
   "metadata": {},
   "source": [
    "- A **função erro**, denotada como $\\text{erf}(x)$, é definida pela integral:\n",
    "\n",
    "<font color='red'>$$\\text{erf}(x) = \\frac{2}{\\sqrt{\\pi}} \\int_0^x e^{-t^2} dt \\tag{5}$$</font>"
   ]
  },
  {
   "cell_type": "code",
   "execution_count": 30,
   "id": "bd80f759",
   "metadata": {},
   "outputs": [
    {
     "data": {
      "image/png": "[encoded data removed]",
      "text/plain": [
       "<Figure size 800x400 with 1 Axes>"
      ]
     },
     "metadata": {},
     "output_type": "display_data"
    }
   ],
   "source": [
    "import numpy as np\n",
    "import matplotlib.pyplot as plt\n",
    "from scipy.special import erf\n",
    "\n",
    "# Vetor de x\n",
    "x = np.linspace(-3, 3, 400)\n",
    "# Função erro\n",
    "error_function = erf(x)\n",
    "\n",
    "# Plot\n",
    "plt.figure(figsize=(8, 4))\n",
    "plt.plot(x, error_function, color = 'black')\n",
    "plt.xlabel(\"x\")\n",
    "plt.ylabel(\"erf(x)\")\n",
    "plt.title(\"Fução Erro\")\n",
    "plt.grid(True)\n",
    "plt.show()"
   ]
  },
  {
   "cell_type": "markdown",
   "id": "9f63b64b",
   "metadata": {},
   "source": [
    "- A **função erro complementar** é definida como $erfc(x) = 1 - erf(x)$, onde $erf(x)$ é a função erro.\n",
    "\n",
    "<font color='red'>$$\\text{erfc}(x) = 1 - \\text{erf}(x) = \\frac{2}{\\sqrt{\\pi}} \\int_x^{\\infty} e^{-t^2} dt \\tag{6}$$</font>"
   ]
  },
  {
   "cell_type": "code",
   "execution_count": 31,
   "id": "5cc0a74b",
   "metadata": {},
   "outputs": [
    {
     "data": {
      "image/png": "[encoded data removed]",
      "text/plain": [
       "<Figure size 800x400 with 1 Axes>"
      ]
     },
     "metadata": {},
     "output_type": "display_data"
    }
   ],
   "source": [
    "import numpy as np\n",
    "import matplotlib.pyplot as plt\n",
    "from scipy.special import erfc\n",
    "\n",
    "# Vetor de x\n",
    "x = np.linspace(-3, 3, 400)\n",
    "# Função erro complementar\n",
    "complementary_error_function = erfc(x)\n",
    "\n",
    "# Plot\n",
    "plt.figure(figsize=(8, 4))\n",
    "plt.plot(x, complementary_error_function, color = 'black')\n",
    "plt.xlabel(\"x\")\n",
    "plt.ylabel(\"erfc(x)\")\n",
    "plt.title(\"Função Erro Complementar\")\n",
    "plt.grid(True)\n",
    "plt.show()"
   ]
  },
  {
   "cell_type": "markdown",
   "id": "608bcbcd",
   "metadata": {},
   "source": [
    "- A **função Gamma**, denotada por $\\Gamma(z)$, é definida para números complexos com parte real positiva pela integral:\n",
    "\n",
    "<font color='red'>$$\\Gamma(z) = \\int_0^\\infty t^{z-1} e^{-t} \\tag{7}dt$$</font>\n",
    "\n",
    "Caso $n$ seja um inteiro positivo, temos que <font color='red'>$\\Gamma(n+1) = n!$</font>.    "
   ]
  },
  {
   "cell_type": "code",
   "execution_count": 32,
   "id": "ae10217b",
   "metadata": {},
   "outputs": [
    {
     "data": {
      "image/png": "[encoded data removed]",
      "text/plain": [
       "<Figure size 800x400 with 1 Axes>"
      ]
     },
     "metadata": {},
     "output_type": "display_data"
    }
   ],
   "source": [
    "import numpy as np\n",
    "import matplotlib.pyplot as plt\n",
    "from scipy.special import gamma\n",
    "\n",
    "# Vetor de z\n",
    "z = np.linspace(0.1, 5, 400)\n",
    "# Função Gama\n",
    "gamma_function = gamma(z)\n",
    "\n",
    "# Plot\n",
    "plt.figure(figsize=(8, 4))\n",
    "plt.plot(z, gamma_function, color = 'black')\n",
    "plt.xlabel(\"z\")\n",
    "plt.ylabel(\"$\\Gamma(z)$\")\n",
    "plt.title(\"Função Gamma\")\n",
    "plt.grid(True)\n",
    "plt.show()"
   ]
  },
  {
   "cell_type": "markdown",
   "id": "fb81b987",
   "metadata": {},
   "source": [
    "# <div style=\"margin-top: -20px;\">\n",
    "<hr style=\"border: 2px solid black;\">\n",
    "\n",
    "<font color='black'><span style=\"font-size: 22px;\"><strong>2.2 Transformada de Laplace Inversa</strong></span></font>\n",
    "\n",
    "<hr style=\"border: 2px solid black;\">\n",
    "</div>"
   ]
  },
  {
   "cell_type": "markdown",
   "id": "58cbcef5",
   "metadata": {},
   "source": [
    "O cálculo da transformada de Laplace inversa pode ser feito, de forma geral, usando-se a fórmula: \n",
    "\n",
    "<font color='red'>$$f(t) = \\mathscr{L}^{-1}\\left\\{\\overline{f}(s)\\right\\} = \\frac{1}{2\\pi i} \\lim_{T \\to +\\infty} \\int_{c - i\\infty}^{c + i\\infty} e^{st}F(s) ds. \\tag{8}$$</font>\n",
    "\n",
    "Apesar da precisão matemática desta fórmula, a execução prática pode ser desafiadora. Isso ocorre devido à necessidade de identificar corretamente o valor de $c$ que deve ser maior que a parte real de qualquer singularidade de $F(s)$, além da complexidade inerente à avaliação de integrais no plano complexo. Em certos casos, podemos facilitar esse processo recorrendo ao fato de a transformada de Fourier ser uma transformação linear, permitindo obter a transformada inversa de Laplace diretamente de transformadas tabeladas ou conhecidas. Este método é particularmente útil quando a função original $f(t)$ ou sua transformada $\\overline{f}(s)$ se enquadram em formas padrão ou quando existem propriedades simétricas que podem ser exploradas para simplificar o cálculo. Para tanto, lançaremos mão da relação:\n",
    "\n",
    "<font color='red'> $$\\mathscr{L}^{-1}\\left[a\\overline{f_{1}}(s) + b\\overline{f_{2}}(s)\\right] = af_{1}(t) + bf_{2}(t) \\tag{9}$$ </font>"
   ]
  },
  {
   "cell_type": "markdown",
   "id": "13690828",
   "metadata": {},
   "source": [
    "#### <font color='blue'> Exemplo 2 </font>"
   ]
  },
  {
   "cell_type": "markdown",
   "id": "9435212c",
   "metadata": {},
   "source": [
    "<font color='blue'> Usando a **Tabela de Transformadas** determine a transformada inversa das seguintes funções:<br><br>\n",
    " a) $\\overline{f}(s) = \\frac{2s + 4}{s(s+1)}$<br><br>\n",
    " b) $\\overline{g}(s) = \\frac{8}{s+5} + \\frac{7}{s^{2}+3}$"
   ]
  },
  {
   "cell_type": "markdown",
   "id": "2729af14",
   "metadata": {},
   "source": [
    "##### <font color='blue'> Solução </font>"
   ]
  },
  {
   "cell_type": "markdown",
   "id": "08ecd1e2",
   "metadata": {},
   "source": [
    "<font color='blue'> a) Devemos escrever $\\frac{2s+4}{s(s+1)}$ na forma $\\frac{a}{s} + \\frac{b}{s+1}$. Pois bem,<br><br>\n",
    " $$\\frac{2s+4}{s(s+1)} = \\frac{a}{s} + \\frac{b}{s+1} \\Leftrightarrow \\frac{2s+4}{s(s+1)} = \\frac{a(s+1) + bs}{s(s+1)} \\Leftrightarrow \\frac{2s+4}{s(s+1)} = \\frac{(a+b)s + a}{s(s+1)} \\Leftrightarrow a = 4 \\ \\text{e} \\ b = -2$$<br>\n",
    " Assim, temos<br><br>\n",
    " $$\\mathscr{L}^{-1}\\left[\\overline{f}(s)\\right] = \\mathscr{L}^{-1}\\left[\\frac{s+4}{s(s+1)} \\right] = \\mathscr{L}^{-1}\\left[\\frac{4}{s} + \\frac{-2}{s+1}\\right] = \\mathscr{L}^{-1}\\left[\\frac{4}{s}\\right] + \\mathscr{L}^{-1}\\left[\\frac{-2}{s+1}\\right] =$$<br>\n",
    " $$=4\\mathscr{L}^{-1}\\left[\\frac{1}{s}\\right] - 2\\mathscr{L}^{-1}\\left[\\frac{1}{s-(-1)}\\right] = 4\\cdot1 - 2e^{-2t} = 2(2-e^{-2t}), s>0^{*}$$<br>\n",
    " $^{*}$ Note que as transformadas inversas de $\\frac{1}{s}$ e $\\frac{1}{s+1}$ são definidas para $s > 0$ e $s > -1$. Sendo assim, a soma das transformadas está definida em $( s>0 ) \\cap (s > -1) = (s > 0)$.<br><br>\n",
    " b) Temos que<br><br>\n",
    " $$\\mathscr{L}\\left[e^{at}\\right] = \\frac{1}{s-a} \\ \\text{e} \\ \\mathscr{L}\\left[sin(kt)\\right] = \\frac{k}{s^{2} + k^{2}}.$$<br>\n",
    " Tomando $a = -5$ e $k = \\sqrt{3}$, temos:<br><br>\n",
    " $$\\mathscr{L}^{-1}\\left[\\overline{g}(s)\\right] = \\mathscr{L}^{-1}\\left[\\frac{8}{s+5} + \\frac{7}{s^{2}+3}\\right] = 8\\mathscr{L}^{-1}\\left[\\frac{1}{s+5}\\right] + 7\\mathscr{L}^{-1}\\left[\\frac{1}{s^{2}+3}\\right] = $$<br>\n",
    " $$=8\\mathscr{L}^{-1}\\left[\\frac{1}{s+5}\\right] + 7\\mathscr{L}^{-1}\\left[\\frac{\\sqrt{3}}{\\sqrt{3}}\\frac{1}{s^{2}+3}\\right] = 8\\mathscr{L}^{-1}\\left[\\frac{1}{s+5}\\right] + \\frac{7}{\\sqrt{3}}\\mathscr{L}^{-1}\\left[\\frac{\\sqrt{3}}{s^{2}+3}\\right] = 8e^{-5t} + \\frac{7}{\\sqrt{3}}sen(\\sqrt{3}t)$$"
   ]
  },
  {
   "cell_type": "markdown",
   "id": "a9e35a07",
   "metadata": {},
   "source": [
    "#### Código para o cálculo de transformadas inversas"
   ]
  },
  {
   "cell_type": "code",
   "execution_count": 5,
   "id": "56831fb1",
   "metadata": {},
   "outputs": [],
   "source": [
    "import sympy as sp\n",
    "\n",
    "# Definindo as variáveis simbólicas\n",
    "t, s = sp.symbols('t s')\n",
    "a, b, k, n = sp.symbols('a b k n', real=True, positive=True)"
   ]
  },
  {
   "cell_type": "code",
   "execution_count": 6,
   "id": "ffe4736b",
   "metadata": {},
   "outputs": [
    {
     "name": "stdout",
     "output_type": "stream",
     "text": [
      "2*(2*exp(t) - 1)*exp(-t)*Heaviside(t)\n"
     ]
    }
   ],
   "source": [
    "# Item \"a\" do Exemplo 2\n",
    "\n",
    "# Função F na variável s\n",
    "F_a = (2*s+4)/(s*(s+1))\n",
    "\n",
    "# Transformada inversa de F\n",
    "f_a = sp.inverse_laplace_transform(F_a, s, t)\n",
    "\n",
    "# Imprimindo a transformada inversa de F\n",
    "print(f_a)"
   ]
  },
  {
   "cell_type": "code",
   "execution_count": 7,
   "id": "92e48c26",
   "metadata": {},
   "outputs": [
    {
     "data": {
      "text/latex": [
       "$\\displaystyle 2 \\cdot \\left(2 e^{t} - 1\\right) e^{- t} \\theta\\left(t\\right)$"
      ],
      "text/plain": [
       "2*(2*exp(t) - 1)*exp(-t)*Heaviside(t)"
      ]
     },
     "execution_count": 7,
     "metadata": {},
     "output_type": "execute_result"
    }
   ],
   "source": [
    "# Exibindo a transformada inversa de F (sem print)\n",
    "f_a"
   ]
  },
  {
   "cell_type": "code",
   "execution_count": 8,
   "id": "a67f73e7",
   "metadata": {},
   "outputs": [
    {
     "data": {
      "text/latex": [
       "$\\displaystyle \\frac{\\left(7 \\sqrt{3} e^{5 t} \\sin{\\left(\\sqrt{3} t \\right)} + 24\\right) e^{- 5 t} \\theta\\left(t\\right)}{3}$"
      ],
      "text/plain": [
       "(7*sqrt(3)*exp(5*t)*sin(sqrt(3)*t) + 24)*exp(-5*t)*Heaviside(t)/3"
      ]
     },
     "execution_count": 8,
     "metadata": {},
     "output_type": "execute_result"
    }
   ],
   "source": [
    "# Item \"a\" do Exemplo 2\n",
    "\n",
    "# Função G na variável s\n",
    "G_b = 8/(s+5) + 7/(s**2+3)\n",
    "\n",
    "# Transformada inversa de G\n",
    "g_b = sp.inverse_laplace_transform(G_b, s, t)\n",
    "\n",
    "# Exibindo a transformada inversa de G\n",
    "g_b"
   ]
  },
  {
   "cell_type": "markdown",
   "id": "de37ed22",
   "metadata": {},
   "source": [
    "# <div style=\"margin-top: -20px;\">\n",
    "<hr style=\"border: 2px solid black;\">\n",
    "\n",
    "<font color='black'><span style=\"font-size: 22px;\"><strong>2.3 Derivação e Integração de Transformadas de Laplace e Outras Propriedades</strong></span></font>\n",
    "\n",
    "<hr style=\"border: 2px solid black;\">\n",
    "</div>"
   ]
  },
  {
   "cell_type": "markdown",
   "id": "14baf58e",
   "metadata": {},
   "source": [
    "#### Derivada Primeira da Transformada de Laplace"
   ]
  },
  {
   "cell_type": "markdown",
   "id": "cdf125db",
   "metadata": {},
   "source": [
    "A transformada de Laplace da primeira derivada de $f(t)$ é dada por:\n",
    "\n",
    "$$\\mathscr{L}\\left[\\frac{df}{ds}\\right] = \\int_{0}^{\\infty} \\frac{df}{ds}e^{-st} dt =^{[pp]}\\left.\\left[f(t)e^{-st}\\right]\\right|_{0}^{\\infty} + s\\int_{0}^{\\infty}f(t)e^{-st} dt = $$\n",
    "\n",
    "$$= f(\\infty)e^{-s\\infty}\\left.^{*}\\right.  - f(0)e^{-s\\cdot0} + s\\overline{f}(s) = -f(0) + s\\overline{f}(s), \\ s>0.$$\n",
    "\n",
    "<font color='red'> $$\\mathscr{L}\\left[\\frac{df}{ds}\\right] = -f(0) + s\\overline{f}(s), \\ s>0. \\tag{10}$$\n",
    "\n",
    "$^{*}f(\\infty)e^{-s\\infty} = 0$ do contrário, a integral não convergirá $\\int_{0}^{\\infty}f(t)e^{-st}dt$ não convergirá."
   ]
  },
  {
   "cell_type": "markdown",
   "id": "8841a359",
   "metadata": {},
   "source": [
    "#### <font color='blue'> Exemplo 3</font>"
   ]
  },
  {
   "cell_type": "markdown",
   "id": "37b98717",
   "metadata": {},
   "source": [
    "<font color='blue'> Use a propriedade \"9\" (**Tabela de Transformadas**)<br><br>\n",
    " $$\\mathscr{L}\\left[f^n(t)\\right] =  s^n\\overline{f}(s) - s^{n-1}f(0) - \\cdots - f^{(n-1)}(0) $$<br>\n",
    " para calcular transformada de Laplace de $t\\frac{d^{2}f}{dt^{2}}$."
   ]
  },
  {
   "cell_type": "markdown",
   "id": "fec687ee",
   "metadata": {},
   "source": [
    "##### <font color='blue'> Solução </font>"
   ]
  },
  {
   "cell_type": "markdown",
   "id": "65e2bb51",
   "metadata": {},
   "source": [
    "<font color='blue'> Temos que<br><br>\n",
    " $$\\mathscr{L}\\left[t\\frac{d^{2}f}{dt^{2}}\\right] = \\int_{0}^{\\infty} e^{-st}t\\frac{d^{2}f}{dt^{2}}dt = -\\frac{d}{ds}\\left(\\int_{0}^{\\infty} e^{-st}\\frac{d^{2}f}{dt^{2}}dt\\right) =$$<br>\n",
    " $$= -\\frac{d}{ds}\\left(s^{2}\\overline{f}(s) - sf(0) - f'(0)\\right) = -s^{2}\\frac{d\\overline{f}}{ds} -2s\\overline{f} + f(0).$$"
   ]
  },
  {
   "cell_type": "markdown",
   "id": "c94e17df",
   "metadata": {},
   "source": [
    "#### Transformada de Laplace da Integral de $\\int_{0}^{t} f(u) du$ "
   ]
  },
  {
   "cell_type": "markdown",
   "id": "f6a3de23",
   "metadata": {},
   "source": [
    "Para o cálculo da transformada lançaremos mão do teorema a seguir:"
   ]
  },
  {
   "cell_type": "markdown",
   "id": "c32bf180",
   "metadata": {},
   "source": [
    "#### <font color='red'> Teorema 1 (Teorema de Fubini) </font>"
   ]
  },
  {
   "cell_type": "markdown",
   "id": "bb3f689e",
   "metadata": {},
   "source": [
    "<font color='red'> Se $f(x,y)$ é uma função absolutamente integrável sobre uma região produto $X \\times Y$ em $\\mathbb{R}^{2}$, então a integral de $f$ sobre $X \\times Y$ pode ser computada como a integral iterada de duas maneiras:<br><br>\n",
    " $$\\int_{X \\times Y} f(x,y)d(x,y) = \\int_{X}\\left(\\int_{Y} f(x,y) dy\\right) dx = \\int_{Y}\\left(\\int_{X} f(x,y) dx\\right) dy. \\tag{11}$$</font>\n",
    " \n",
    "O \"absolutamente integrável\" significa que a integral do valor absoluto de $f$,\n",
    " \n",
    "$$\\int_{X \\times Y} |f(x,y)|d(x,y)$$\n",
    "\n",
    "é finita."
   ]
  },
  {
   "cell_type": "markdown",
   "id": "70b24ec9",
   "metadata": {},
   "source": [
    "Considerando $t \\geq u$ e $u \\geq 0$ a transformada de Laplace da integral de $\\int_{0}^{t}$ de uma função $f$ é dada por:\n",
    "\n",
    "$$\\mathcal{L} \\left\\{ \\int_0^t f(u) du \\right\\} = \\int_0^\\infty e^{-st} \\left( \\int_0^t f(u) \\, du \\right) dt$$\n",
    "\n",
    "Podemos reescrever a integral interna aplicando o teorema de Fubini, o que nos permite trocar a ordem das integrações, assumindo que $f(u)$ é absolutamente integrável:\n",
    "\n",
    "$$\\mathcal{L} \\left\\{ \\int_0^t f(u) du \\right\\} = \\int_0^\\infty f(u) \\left( \\int_u^\\infty e^{-st} dt \\right) du = \\int_0^\\infty f(u) \\left( -\\frac{1}{s} e^{-st} \\bigg|_{u}^{\\infty} \\right) du =$$\n",
    "\n",
    "$$=\\int_0^\\infty f(u) \\left( -\\frac{1}{s} \\left(e^{-s\\infty} - e^{-su}\\right) \\right) du = \\int_0^\\infty f(u) \\left( -\\frac{1}{s} \\left(0 - e^{-su}\\right) \\right) du = \\frac{1}{s} \\int_0^\\infty e^{-su} f(u)  du = \\frac{1}{s} \\mathcal{L} \\{ f(u) \\}$$\n",
    "\n",
    "Portanto, a expressão completa fica:\n",
    "\n",
    "<font color='red'> $$\\mathcal{L} \\left[ \\int_0^t f(u) \\, du \\right] = \\frac{1}{s} \\mathcal{L} \\{ f(u) \\} \\tag{12}$$</font>"
   ]
  },
  {
   "cell_type": "markdown",
   "id": "549b7002",
   "metadata": {},
   "source": [
    "#### <font color='blue'> Exemplo 4</font>"
   ]
  },
  {
   "cell_type": "markdown",
   "id": "662c68ad",
   "metadata": {},
   "source": [
    "<font color='blue'> Determine a transformada de $\\int_{0}^{t} u du$. Em seguida, resolva a integral interna e calcule a transformada."
   ]
  },
  {
   "cell_type": "markdown",
   "id": "f8ae0788",
   "metadata": {},
   "source": [
    "##### <font color='blue'> Solução </font>"
   ]
  },
  {
   "cell_type": "markdown",
   "id": "2270e451",
   "metadata": {},
   "source": [
    "<font color='blue'> Note que<br><br>\n",
    " $$\\mathscr{L}\\left[\\int_{0}^{t}u du \\right] = \\frac{1}{s}\\mathscr{L}[u] = \\frac{1}{s}\\frac{1!}{s^{1+1}} = \\frac{1}{s^{3}}.$$<br>\n",
    " Por outro lado,<br><br>\n",
    " $$\\mathscr{L}\\left[\\int_{0}^{t}u du \\right] = \\mathscr{L}\\left[\\left.\\frac{u^{2}}{2}\\right|_{0}^{t} \\right] = \\frac{1}{2}\\mathscr{L}[t^{2}] = \\frac{1}{2}\\frac{2!}{s^{2+1}} = \\frac{1}{s^{3}}.$$"
   ]
  },
  {
   "cell_type": "markdown",
   "id": "e202985c",
   "metadata": {},
   "source": [
    "# <div style=\"margin-top: -20px;\">\n",
    "<hr style=\"border: 2px solid black;\">\n",
    "\n",
    "<font color='black'><span style=\"font-size: 22px;\"><strong>2.4 Convolução</strong></span></font>\n",
    "\n",
    "<hr style=\"border: 2px solid black;\">\n",
    "</div>"
   ]
  },
  {
   "cell_type": "markdown",
   "id": "6a055ae5",
   "metadata": {},
   "source": [
    "Se $f(t)$ e $g(t)$ são funções que possuem transformadas de laplace $\\overline{f}(s)$ e $\\overline{g}(s)$ respectivamente, então a convolução dessas funções, denotada por $(f*g)(t)$, é dada por:\n",
    "\n",
    "<font color='red'> $$f(t)*g(t) = \\int_{0}^{t}f(u)g(t-u)du \\tag{13}$$</font>\n",
    "\n",
    "A transformada de Laplace da convolução de $f$ e $g$ é igula ao produto das transformadas de Lapalce de cada função individualmente, isto é:\n",
    "\n",
    "<font color='red'> $$\\mathscr{L}\\left[f(t)*g(t)\\right] = \\overline{f}(s)\\overline{g}(s) \\tag{14}$$</font>\n",
    "\n",
    "Temos, portanto, a seguinte relação entre a convolução de $f$ e $g$ e suas transformadas de Laplace:\n",
    "\n",
    "<font color='red'> $$f(t)*g(t) = \\int_{0}^{t}f(u)g(t-u)du, \\ \\text{e} \\ \\mathscr{L}\\left[f(t)*g(t)\\right] = \\overline{f}(s)\\overline{g}(s) \\tag{15}$$</font>\n",
    "\n",
    "Além disso, sendo a transformada uma transformação linear, temos que:\n",
    "\n",
    "<font color='red'> $$\\mathscr{L}^{-1}\\left[ \\overline{f}(s)\\overline{g}(s)\\right] = \\int_{0}^{t}f(u)g(t-u)du = f(t)*g(t) \\tag{16}$$</font>"
   ]
  },
  {
   "cell_type": "markdown",
   "id": "6195d758",
   "metadata": {},
   "source": [
    "##### <font color='red'> Demonstração (Convolução) </font>"
   ]
  },
  {
   "cell_type": "markdown",
   "id": "83ce7ca7",
   "metadata": {},
   "source": [
    "<font color='red'> Mostremos que<br><br>\n",
    " $$\\overline{f}(s)\\overline{g}(s) = \\mathscr{L}\\left[\\int_{0}^{t}f(u)g(t-u)du\\right].$$<br>\n",
    " Temos que<br><br>\n",
    " $$\\overline{f}(s)\\overline{g}(s) = \\left(\\int_{0}^{\\infty}e^{-su}f(u)du\\right) \\left(\\int_{0}^{\\infty}e^{-sv}g(v)dv\\right) = \\int_{0}^{\\infty}\\int_{0}^{\\infty}e^{-su}e^{-sv}dudv =$$<br>\n",
    " $$= \\int_{0}^{\\infty}\\int_{0}^{\\infty}e^{-s(u+v)}f(u)g(v)dudv$$<br>\n",
    " Consideremos a mudança de variáveis $t = u + v$. Neste caso, $v = t - u$ com $u$ variando de $0$ a $t$. Além disso, considerando $v = t - u$ podemos considerar $u$ constante para fins de cálculo de diferenciais, isto é, $dv = dt$. Portanto,<br><br>\n",
    " $$\\overline{f}(s)\\overline{g}(s) =  \\int_{0}^{\\infty}\\int_{0}^{\\infty}e^{-s(u+v)}f(u)g(v)dudv = \\int_{0}^{\\infty}\\int_{0}^{t}e^{-st}f(u)g(t-u)dudt =$$<br>\n",
    " $$ = \\int_{0}^{\\infty} e^{-st}\\left(\\int_{0}^{t}f(u)g(t-u)du\\right)dt = \\mathscr{L}\\left[\\int_{0}^{t}f(u)g(t-u)du\\right].$$"
   ]
  },
  {
   "cell_type": "markdown",
   "id": "c7b6321f",
   "metadata": {},
   "source": [
    "#### <font color='blue'> Exemplo 5</font>"
   ]
  },
  {
   "cell_type": "markdown",
   "id": "8e089a1b",
   "metadata": {},
   "source": [
    "<font color='blue'> Exiba a convolução das funções $f(t) = e^{-t}$ e $g(t) = sen(t)$."
   ]
  },
  {
   "cell_type": "markdown",
   "id": "cb6f5bae",
   "metadata": {},
   "source": [
    "##### <font color='blue'> Solução </font>"
   ]
  },
  {
   "cell_type": "markdown",
   "id": "d6baca99",
   "metadata": {},
   "source": [
    "<font color='blue'> Temos que<br><br>\n",
    " $$f(t)*g(t) = \\int_{0}^{t}f(u)g(t-u)du = \\int_{0}^{t} e^{-u}sen(t-u) du = $$<br>\n",
    " Aplicando a integração por partes duas vezes, temos que:\n",
    " $$\\int_{0}^{t} e^{-u}sen(t-u) du = \\left.\\left(e^{-u}cos(t-u)\\right)\\right|_{0}^{t} - \\left.\\left(e^{-u}sen(t-u)\\right)\\right|_{0}^{t} - \\int_{0}^{t} e^{-u}sen(t-u) du$$<br>\n",
    " donde segue que<br><br>\n",
    " $$\\int_{0}^{t} e^{-u}sen(t-u) du = \\frac{1}{2}\\left(\\left.\\left(e^{-u}cos(t-u)\\right)\\right|_{0}^{t} - \\left.\\left(e^{-u}sen(t-u)\\right)\\right|_{0}^{t} \\right)  = $$<br>\n",
    " $$ = \\frac{1}{2}\\left((e^{-t}cos(0) - e^{-0}cos(t)) - (e^{-t}sen(0) - e^{-0}sen(t)) \\right) = \\frac{1}{2}(e^{-t}-cos(t)+sen(t))$$"
   ]
  },
  {
   "cell_type": "code",
   "execution_count": 9,
   "id": "52e8a918",
   "metadata": {},
   "outputs": [],
   "source": [
    "import sympy as sp\n",
    "\n",
    "# Definindo as variáveis\n",
    "t, u = sp.symbols('t u')\n",
    "\n",
    "# Definindo as funções f(t) e g(t)\n",
    "f_t = sp.exp(-u)  # Note que estamos substituindo u aqui, pois a integração é em relação a u\n",
    "g_t = sp.sin(t - u)\n",
    "\n",
    "# Definindo a convolução\n",
    "convolucao = sp.integrate(f_t * g_t, (u, 0, t))"
   ]
  },
  {
   "cell_type": "code",
   "execution_count": 10,
   "id": "1371f8f6",
   "metadata": {},
   "outputs": [
    {
     "data": {
      "text/latex": [
       "$\\displaystyle \\frac{\\sin{\\left(t \\right)}}{2} - \\frac{\\cos{\\left(t \\right)}}{2} + \\frac{e^{- t}}{2}$"
      ],
      "text/plain": [
       "sin(t)/2 - cos(t)/2 + exp(-t)/2"
      ]
     },
     "execution_count": 10,
     "metadata": {},
     "output_type": "execute_result"
    }
   ],
   "source": [
    "# Exibindo a convolução\n",
    "convolucao"
   ]
  },
  {
   "cell_type": "code",
   "execution_count": 11,
   "id": "24304e04",
   "metadata": {},
   "outputs": [
    {
     "data": {
      "text/latex": [
       "$\\displaystyle - \\frac{\\sqrt{2} \\cos{\\left(t + \\frac{\\pi}{4} \\right)}}{2} + \\frac{e^{- t}}{2}$"
      ],
      "text/plain": [
       "-sqrt(2)*cos(t + pi/4)/2 + exp(-t)/2"
      ]
     },
     "execution_count": 11,
     "metadata": {},
     "output_type": "execute_result"
    }
   ],
   "source": [
    "# Convolução simplificada\n",
    "sp.simplify(convolucao)"
   ]
  },
  {
   "cell_type": "markdown",
   "id": "fbca12c4",
   "metadata": {},
   "source": [
    "#### <font color='blue'> Exemplo 6</font>"
   ]
  },
  {
   "cell_type": "markdown",
   "id": "a4b643da",
   "metadata": {},
   "source": [
    "<font color='blue'> Determine $\\mathscr{L}[f(t)]$ onde $f(t) = \\int_{0}^{t}e^{-3(t-u)}cos(2u)du$."
   ]
  },
  {
   "cell_type": "markdown",
   "id": "fcea4645",
   "metadata": {},
   "source": [
    "##### <font color='blue'> Solução </font>"
   ]
  },
  {
   "cell_type": "markdown",
   "id": "c83e883b",
   "metadata": {},
   "source": [
    "<font color='blue'> Temos que<br><br>\n",
    " $$f(t) = g(t)*h(t), \\ \\ g(t) = cos(2t), \\ \\ h(t) = e^{-3t}.$$<br>\n",
    " Desde que $\\mathscr{L}[g(t)*h(t)] = \\overline{g}(s)\\overline{h}(s)$, então<br><br>\n",
    " $$\\overline{f}(s) = \\mathscr{L}\\left[\\int_{0}^{t}e^{-3(t-u)}cos(2u)du \\right] = \\mathscr{L}\\left[e^{-3t}\\right]\\mathscr{L}\\left[cos(2t)\\right] = \\frac{1}{s+3}\\frac{s}{s^{2}+4} = \\frac{s}{(s+3)(s^{2}+4)}.$$"
   ]
  },
  {
   "cell_type": "code",
   "execution_count": 12,
   "id": "259ece54",
   "metadata": {},
   "outputs": [
    {
     "data": {
      "text/latex": [
       "$\\displaystyle \\frac{s}{\\left(s + 3\\right) \\left(s^{2} + 4\\right)}$"
      ],
      "text/plain": [
       "s/((s + 3)*(s**2 + 4))"
      ]
     },
     "execution_count": 12,
     "metadata": {},
     "output_type": "execute_result"
    }
   ],
   "source": [
    "import sympy as sp\n",
    "\n",
    "# Definindo a variável de Laplace\n",
    "s, t = sp.symbols('s t')\n",
    "\n",
    "# Transformada de Laplace das funções\n",
    "F_s = sp.laplace_transform(sp.exp(-3*t), t, s)[0]\n",
    "G_s = sp.laplace_transform(sp.cos(2*t), t, s)[0]\n",
    "\n",
    "# Produto das transformadas de Laplace\n",
    "F_s * G_s"
   ]
  },
  {
   "cell_type": "markdown",
   "id": "4fef5731",
   "metadata": {},
   "source": [
    "#### <font color='blue'> Exemplo 7</font>"
   ]
  },
  {
   "cell_type": "markdown",
   "id": "5f5c6c67",
   "metadata": {},
   "source": [
    "<font color='blue'> Exiba $f(t) = \\mathscr{L}^{-1}\\left[\\frac{1}{(s-1)(s-2)}\\right].$"
   ]
  },
  {
   "cell_type": "markdown",
   "id": "298d7072",
   "metadata": {},
   "source": [
    "##### <font color='blue'> Solução</font>"
   ]
  },
  {
   "cell_type": "markdown",
   "id": "4e42d5f8",
   "metadata": {},
   "source": [
    "<font color='blue'> Temos que<br><br>\n",
    " $$\\frac{1}{(s-1)(s-2)} = \\frac{1}{s-1}\\frac{1}{s-2} = \\overline{f}(s)\\overline{g}(s)$$<br>\n",
    " Usando transformada inversa temos que $f(t) = e^{t}$ e $g(t) = e^{2t}$.<br><br>\n",
    " Usando convolução, temos que<br><br>\n",
    " $$f(t) = \\int_{0}^{t}f(u)g(t-u)du = \\int_{0}^{t}e^{u}e^{2(t-u)}du =$$<br>\n",
    " $$ = e^{2t}\\int_{0}^{t}e^{-u}du = e^{2t}(-e^{u}|_{0}^{t}) = e^{2t}(-e^{t}+1) = e^{2t}-e^{t}.$$"
   ]
  },
  {
   "cell_type": "code",
   "execution_count": 13,
   "id": "58b7a4c8",
   "metadata": {},
   "outputs": [
    {
     "data": {
      "text/latex": [
       "$\\displaystyle \\left(e^{t} - 1\\right) e^{t} \\theta\\left(t\\right)$"
      ],
      "text/plain": [
       "(exp(t) - 1)*exp(t)*Heaviside(t)"
      ]
     },
     "execution_count": 13,
     "metadata": {},
     "output_type": "execute_result"
    }
   ],
   "source": [
    "import sympy as sp\n",
    "\n",
    "# Definindo as variáveis de Laplace e tempo\n",
    "s, t = sp.symbols('s t')\n",
    "\n",
    "# Definindo a função F(s)\n",
    "F_s = 1 / ((s - 1) * (s - 2))\n",
    "\n",
    "# Calculando a transformada inversa de Laplace\n",
    "f_t = sp.inverse_laplace_transform(F_s, s, t)\n",
    "\n",
    "# Exibindo a transformada inversa de F\n",
    "f_t"
   ]
  },
  {
   "cell_type": "markdown",
   "id": "ae3964f2",
   "metadata": {},
   "source": [
    "# <div style=\"margin-top: -20px;\">\n",
    "<hr style=\"border: 2px solid black;\">\n",
    "\n",
    "<font color='black'><span style=\"font-size: 22px;\"><strong>2.5 Resolução de Equações Diferenciais Lineares Usando Transformada de Laplace</strong></span></font>\n",
    "\n",
    "<hr style=\"border: 2px solid black;\">\n",
    "</div>"
   ]
  },
  {
   "cell_type": "markdown",
   "id": "046ba379",
   "metadata": {},
   "source": [
    "Como $\\mathscr{L}\\left[y^{(n)}\\right], n > 1$ depende de $y(t)$ e de suas $n-1$ derivadas no ponto $t = 0$, a transformada de Laplace é apropriada para problemas de valor inicial envolvendo equações diferenciais lineares com coeficientes constantes. Esse tipo de equação diferencial pode ser reduzida a uma equação algébrica em função da transformada $Y(s)$. Para ver isto consideremos a equação diferencial linear de coeficientes constantes\n",
    "\n",
    "<font color='red'>$$a_{n}\\frac{d^{n}y}{dt^{n}} + a_{n-1}\\frac{d^{n-1}y}{dt^{n-1}} + \\ldots + a_{1}\\frac{dy}{dt} + a_{0} y = g(t) \\tag{17}$$</font>\n",
    "\n",
    "sujeita às condições inciais\n",
    "\n",
    "<font color='red'>$$y(0) = y_{0}, y'(0) = y'_{0}, \\ldots, y^{(n-1)}(0) =y^{(n-1)}_{0}.$$ </font>\n",
    "\n",
    "Devido à linearidade podemos escrever $(17)$ como:\n",
    "\n",
    "<font color='red'> $$a_{n}\\mathscr{L}\\left[\\frac{d^{n}y}{dt^{n}}\\right] + a_{n-1}\\mathscr{L}\\left[\\frac{d^{n-1}y}{dt^{n-1}}\\right] + \\ldots + a_{1}\\mathscr{L}\\left[\\frac{dy}{dt}\\right] + a_{0} \\mathscr{L}[y] = \\mathscr{L}[g(t)] \\tag{18}$$ </font>\n",
    "\n",
    "Aplicando-se a propriedade \"9\" (**Tabela de Transformadas**) à equação $(18)$, temos:\n",
    "\n",
    "<font color='red'> $$a_{n}\\left(s^{n}Y(s) - s^{n-1}y(0) - \\ldots - y^{(n-1)}(0)\\right) + a_{n-1}\\left(s^{n-1}Y(s) - \\ldots - y^{(n-2)}(0)\\right) + \\ldots + a_{0}Y(s) = G(s) \\tag{19}$$ </font>\n",
    "\n",
    "em que $Y(s) = \\mathscr{L}[y(t)]$ e $G(s) = \\mathscr{L}[g(t)]$.\n",
    "\n",
    "Explicitamos $Y(s)$ em $(19)$ e encontramos $y(t)$ usando transformada inversa:\n",
    "\n",
    "<font color='red'>$$y(t) = \\mathscr{L}^{-1}[Y(s)]. \\tag{20}$$</font>\n"
   ]
  },
  {
   "cell_type": "markdown",
   "id": "d8ce6357",
   "metadata": {},
   "source": [
    "#### <font color='blue'> Exemplo 8</font>"
   ]
  },
  {
   "cell_type": "markdown",
   "id": "fae17237",
   "metadata": {},
   "source": [
    "<font color='blue'> Resolva os seguinte PVI usando a transformada de Laplace inversa<br><br>\n",
    " $$\\frac{dy}{dt} - 3y = e^{2t}, \\ y(0) =1.$$"
   ]
  },
  {
   "cell_type": "markdown",
   "id": "ecb9e61f",
   "metadata": {},
   "source": [
    "##### <font color='blue'> Solução </font>"
   ]
  },
  {
   "cell_type": "markdown",
   "id": "42deff5d",
   "metadata": {},
   "source": [
    "<font color='blue'> Apliquemos a transformada de Laplace à equação diferencial<br><br>\n",
    " $$\\mathscr{L}\\left[\\frac{dy}{dt} - 3y\\right] = \\mathscr{L}\\left[e^{2t}\\right] \\Rightarrow \\mathscr{L}\\left[\\frac{dy}{dt}\\right] - 3\\mathscr{L}[y]= \\mathscr{L}\\left[e^{2t}\\right] \\Rightarrow $$<br>\n",
    " $$\\Rightarrow (sY(s) - y(0))-3Y(s) = \\frac{1}{s-2} \\Rightarrow sY(s) - 3Y(s) - 1 = \\frac{1}{s-2} \\Rightarrow $$<br>\n",
    " $$\\Rightarrow (s-3)Y(s) = 1 + \\frac{1}{s-2} \\Rightarrow Y(s) = \\frac{s-1}{(s-2)(s-3)}$$<br>\n",
    " Usando frações parciais, temos<br><br>\n",
    " $$Y(s) = \\frac{-1}{s-2} + \\frac{2}{s-3}$$<br>\n",
    " Por fim, usando transformada inversa, temos:<br><br>\n",
    " $$y(t) = \\mathscr{L}^{-1}\\left[\\frac{-1}{s-2}\\right] + \\mathscr{L}^{-1}\\left[\\frac{2}{s-3}\\right] = -\\mathscr{L}^{-1}\\left[\\frac{1}{s-2}\\right] + 2\\mathscr{L}^{-1}\\left[\\frac{1}{s-3}\\right] = -e^{2t} + 2e^{3t}.$$"
   ]
  },
  {
   "cell_type": "code",
   "execution_count": 14,
   "id": "1223577c",
   "metadata": {},
   "outputs": [],
   "source": [
    "import sympy as sp\n",
    "\n",
    "# Definindo a variável independente e a função desconhecida\n",
    "t = sp.symbols('t')\n",
    "y = sp.Function('y')(t)\n",
    "\n",
    "# Definindo a equação diferencial não homogênea\n",
    "equacao = sp.Eq(y.diff(t) - 3*y, sp.exp(2*t))"
   ]
  },
  {
   "cell_type": "code",
   "execution_count": 15,
   "id": "01fe3f04",
   "metadata": {},
   "outputs": [
    {
     "data": {
      "text/latex": [
       "$\\displaystyle y{\\left(t \\right)} = \\left(C_{1} e^{t} - 1\\right) e^{2 t}$"
      ],
      "text/plain": [
       "Eq(y(t), (C1*exp(t) - 1)*exp(2*t))"
      ]
     },
     "execution_count": 15,
     "metadata": {},
     "output_type": "execute_result"
    }
   ],
   "source": [
    "# Resolvendo a equação diferencial\n",
    "solucao = sp.dsolve(equacao, y)\n",
    "solucao"
   ]
  },
  {
   "cell_type": "code",
   "execution_count": 16,
   "id": "5ea01a08",
   "metadata": {},
   "outputs": [
    {
     "data": {
      "text/latex": [
       "$\\displaystyle y{\\left(t \\right)} = \\left(2 e^{t} - 1\\right) e^{2 t}$"
      ],
      "text/plain": [
       "Eq(y(t), (2*exp(t) - 1)*exp(2*t))"
      ]
     },
     "execution_count": 16,
     "metadata": {},
     "output_type": "execute_result"
    }
   ],
   "source": [
    "# Resolvendo a equação diferencial com condições iniciais\n",
    "condicoes_iniciais = {y.subs(t, 0): 1}\n",
    "pvi = sp.dsolve(equacao, y, ics=condicoes_iniciais)\n",
    "pvi"
   ]
  },
  {
   "cell_type": "markdown",
   "id": "f91f9ff2",
   "metadata": {},
   "source": [
    "#### <font color='blue'> Exemplo 9</font>"
   ]
  },
  {
   "cell_type": "markdown",
   "id": "c8912ee0",
   "metadata": {},
   "source": [
    "<font color='blue'> Resolva os seguinte PVI usando a transformada de Laplace inversa<br><br>\n",
    " $$y'' - 6y' + 9y = t^{2}e^{3t}, \\ \\ y(0) = 2, \\ \\ y'(0) = 6.$$"
   ]
  },
  {
   "cell_type": "markdown",
   "id": "b7791286",
   "metadata": {},
   "source": [
    "##### <font color='blue'> Solução </font>"
   ]
  },
  {
   "cell_type": "markdown",
   "id": "926396e2",
   "metadata": {},
   "source": [
    "<font color='blue'> Apliquemos a transformada de Laplace à equação diferencial<br><br>\n",
    " $$\\mathscr{L}\\left[y'' - 6y' + 9y\\right] = \\mathscr{L}\\left[t^{2}e^{3t}\\right] \\Rightarrow \\mathscr{L}\\left[y''\\right] - 6\\mathscr{L}\\left[y'\\right] + \\mathscr{L}\\left[9\\right] = \\mathscr{L}\\left[t^{2}e^{3t}\\right] \\Rightarrow $$<br>\n",
    " $$\\Rightarrow (s^{2}Y(s) - sy(0) - y'(0)) - 6(sY(s)-y(0)) + 9Y(s) = \\frac{2}{(s-3)^{3}} \\Rightarrow $$<br>\n",
    " $$\\Rightarrow (s^{2}Y(s) - 2s - 6) - 6(sY(s)-2) + 9Y(s) = \\frac{2}{(s-3)^{3}} \\Rightarrow $$<br>\n",
    " $$\\Rightarrow (s^{2} - 6s + 9)Y(s) - 2s - 6 + 12 = \\frac{2}{(s-3)^{3}} \\Rightarrow  $$<br>\n",
    " $$\\Rightarrow (s-3)^{2}Y(s) = 2(s-3) + \\frac{2}{(s-3)^{3}} \\Rightarrow Y(s) = \\frac{2}{s-3} + \\frac{2}{(s-3)^{5}}.$$<br>\n",
    " Por fim, usando transformada inversa, temos:<br><br>\n",
    " $$y(t) = \\mathscr{L}^{-1}\\left[\\frac{2}{s-3}\\right] + \\mathscr{L}^{-1}\\left[\\frac{2}{(s-3)^{5}}\\right] = 2\\mathscr{L}^{-1}\\left[\\frac{1}{s-3}\\right] + \\frac{2}{4!}\\mathscr{L}^{-1}\\left[\\frac{4!}{(s-3)^{5}}\\right] = 2e^{3t} + \\frac{1}{12}t^{4}e^{3t}.$$"
   ]
  },
  {
   "cell_type": "code",
   "execution_count": 17,
   "id": "9e81163d",
   "metadata": {},
   "outputs": [],
   "source": [
    "import sympy as sp\n",
    "\n",
    "# Definindo a variável independente e a função desconhecida\n",
    "t = sp.symbols('t')\n",
    "y = sp.Function('y')(t)\n",
    "\n",
    "# Definindo a equação diferencial\n",
    "equacao = sp.Eq(y.diff(t, t) - 6*y.diff(t) + 9*y, t**2*sp.exp(3*t))"
   ]
  },
  {
   "cell_type": "code",
   "execution_count": 18,
   "id": "dd14ad31",
   "metadata": {},
   "outputs": [
    {
     "data": {
      "text/latex": [
       "$\\displaystyle y{\\left(t \\right)} = \\left(C_{1} + t \\left(C_{2} + \\frac{t^{3}}{12}\\right)\\right) e^{3 t}$"
      ],
      "text/plain": [
       "Eq(y(t), (C1 + t*(C2 + t**3/12))*exp(3*t))"
      ]
     },
     "execution_count": 18,
     "metadata": {},
     "output_type": "execute_result"
    }
   ],
   "source": [
    "# Resolvendo a equação diferencial\n",
    "solucao = sp.dsolve(equacao, y)\n",
    "solucao"
   ]
  },
  {
   "cell_type": "code",
   "execution_count": 19,
   "id": "7a7fc8e8",
   "metadata": {},
   "outputs": [
    {
     "data": {
      "text/latex": [
       "$\\displaystyle y{\\left(t \\right)} = \\left(\\frac{t^{4}}{12} + 2\\right) e^{3 t}$"
      ],
      "text/plain": [
       "Eq(y(t), (t**4/12 + 2)*exp(3*t))"
      ]
     },
     "execution_count": 19,
     "metadata": {},
     "output_type": "execute_result"
    }
   ],
   "source": [
    "# Resolvendo a equação diferencial com condições iniciais\n",
    "condicoes_iniciais = {y.subs(t, 0): 2, y.diff(t).subs(t, 0): 6}\n",
    "solucao = sp.dsolve(equacao, y, ics=condicoes_iniciais)\n",
    "solucao"
   ]
  },
  {
   "cell_type": "markdown",
   "id": "1ef8fe8e",
   "metadata": {},
   "source": [
    "# <div style=\"margin-top: -20px;\">\n",
    "<hr style=\"border: 2px solid black;\">\n",
    "\n",
    "<font color='black'><span style=\"font-size: 22px;\"><strong>Exercícios</strong></span></font>\n",
    "\n",
    "<hr style=\"border: 2px solid black;\">\n",
    "</div>"
   ]
  },
  {
   "cell_type": "markdown",
   "id": "4c311399",
   "metadata": {},
   "source": [
    "#### Exercício 1$^{[10]}$"
   ]
  },
  {
   "cell_type": "markdown",
   "id": "78d6183a",
   "metadata": {},
   "source": [
    "Calcule as transformadas a seguir usando a **Tabela de Transformadas**:\n",
    "\n",
    "a) $\\mathscr{L}\\left[e^{-3t} \\right]$\n",
    "\n",
    "b) $\\mathscr{L}\\left[sen(2t) \\right]$\n",
    "\n",
    "c) $\\mathscr{L}\\left[3t - 5sen(2t)\\right]$\n",
    "\n",
    "d) $\\mathscr{L}\\left[te^{-2t}\\right]$\n",
    "\n",
    "e) $\\mathscr{L}\\left[t^{2}e^{-2t}\\right]$\n",
    "\n",
    "f) $\\mathscr{L}\\left[f(t)\\right]$, em que \n",
    "$f(t) = \\left\\{\\begin{array}{}\n",
    "0, & 0 \\leq t \\leq 3 \\\\\n",
    "2, & t \\geq 3 \\\\\n",
    "\\end{array}\\right.$\n",
    "\n",
    "g) $\\mathscr{L}\\left[sen^{2}(t)\\right]$"
   ]
  },
  {
   "cell_type": "markdown",
   "id": "8c18a371",
   "metadata": {},
   "source": [
    "#### Exercício 2$^{[10]}$"
   ]
  },
  {
   "cell_type": "markdown",
   "id": "f0e76906",
   "metadata": {},
   "source": [
    "Calcule as transformadas dos itens do **Exercício 1** por meio da definição:"
   ]
  },
  {
   "cell_type": "markdown",
   "id": "7e4ab253",
   "metadata": {},
   "source": [
    "#### Exercício 3$^{[3]}$"
   ]
  },
  {
   "cell_type": "markdown",
   "id": "8a731e6c",
   "metadata": {},
   "source": [
    "Demonstre as seguintes propriedades:\n",
    "\n",
    "a) $\\mathscr{L}\\left[e^{at}f(t)\\right] = \\overline{f}(s-a)$\n",
    "\n",
    "b) $\\mathscr{L}\\left[f(at)\\right] = \\frac{1}{a}\\overline{f}\\left(\\frac{s}{a}\\right)$"
   ]
  },
  {
   "cell_type": "markdown",
   "id": "2da9a01b",
   "metadata": {},
   "source": [
    "#### Exercício 4$^{[10]}$"
   ]
  },
  {
   "cell_type": "markdown",
   "id": "5494f28e",
   "metadata": {},
   "source": [
    "Calcule as transformadas inversas a seguir usando a **Tabela de Transformadas**:\n",
    "\n",
    "a) $\\mathscr{L}^{-1}\\left[\\frac{1}{s^{5}} \\right]$\n",
    "\n",
    "b) $\\mathscr{L}^{-1}\\left[\\frac{1}{s^{2} + 64} \\right]$\n",
    "\n",
    "c) $\\mathscr{L}^{-1}\\left[\\frac{3s + 5}{s^{2} + 7} \\right]$\n",
    "\n",
    "d) $\\mathscr{L}^{-1}\\left[\\frac{1}{(s-1)(s+2)(s+4)} \\right]$\n",
    "\n",
    "e) $\\mathscr{L}^{-1}\\left[\\frac{s+1}{s^{2}(s+2)^{3}} \\right]$\n",
    "\n",
    "*Dica: No item \"e\", encontre $A, B, C, D \\ \\text{e} \\ E$ tais que $\\frac{s+1}{s^{2}(s+2)^{3}} = \\frac{A}{s} + \\frac{B}{s^{2}} + \\frac{C}{s+2} + \\frac{D}{(s+2)^{2}} + \\frac{E}{(s+2)^{3}}$*\n"
   ]
  },
  {
   "cell_type": "markdown",
   "id": "804f2b18",
   "metadata": {},
   "source": [
    "#### Exercício 5"
   ]
  },
  {
   "cell_type": "markdown",
   "id": "e6c7ecc1",
   "metadata": {},
   "source": [
    "Determine a convolução das seguintes funções:\n",
    "\n",
    "a) $f(t) = e^{t}$ e $g(t) = t$, $t\\geq0$\n",
    "\n",
    "b) $f(t) = sen(\\omega t)$ e $g(t) = cos(\\omega t)$, $t \\geq 0$"
   ]
  },
  {
   "cell_type": "markdown",
   "id": "1f1d1a5b",
   "metadata": {},
   "source": [
    "#### Exercício 6$^{[10]}$"
   ]
  },
  {
   "cell_type": "markdown",
   "id": "0f3c973b",
   "metadata": {},
   "source": [
    "Use transformada de Laplace para resolver os seguintes problemas de valor inicial:\n",
    "\n",
    "a) $\\frac{dy}{dt} - y = 1, \\ y(0) = 0$\n",
    "\n",
    "b) $\\frac{dy}{dt} + 2y = t, \\ y(0) = -1$\n",
    "\n",
    "c) $y' + 4y = e^{-4t}, \\ y(0) = 2$\n",
    "\n",
    "d) $y' - y = sen(t), \\ y(0) = 0$\n",
    "\n",
    "e) $y'' + 5y' + 4y = 0, \\ y(0) = 1, \\ y'(0) = 0$\n",
    "\n",
    "f) $y'' - 6y' + 9y = t, \\ y(0) = 0, \\ y'(0) = 1$"
   ]
  },
  {
   "cell_type": "markdown",
   "id": "a561945f",
   "metadata": {},
   "source": [
    "# <div style=\"margin-top: -20px;\">\n",
    "<hr style=\"border: 2px solid black;\">\n",
    "\n",
    "<font color='black'><span style=\"font-size: 22px;\"><strong>Respostas dos Exercícios</strong></span></font>\n",
    "\n",
    "<hr style=\"border: 2px solid black;\">\n",
    "</div>"
   ]
  },
  {
   "cell_type": "markdown",
   "id": "8cb15daa",
   "metadata": {},
   "source": [
    "#### Resposta do Exercício 1"
   ]
  },
  {
   "cell_type": "markdown",
   "id": "7db36062",
   "metadata": {},
   "source": [
    "a) $\\frac{1}{s+3}, \\ s > -3$\n",
    "\n",
    "b) $\\frac{2}{s^{2} + 4}, \\ s > 0$\n",
    "\n",
    "c) $\\frac{-7s^{2}+12}{s^{2}(s^{2}+4)}, \\ s > 0$\n",
    "\n",
    "d) $\\frac{1}{(s+2)^{2}}, \\ s > -2$\n",
    "\n",
    "e) $\\frac{2}{(s+2)^{3}}, \\ s > -2$\n",
    "\n",
    "f) $\\frac{2e^{-3s}}{2}, \\ s > 0$\n",
    "\n",
    "g) $\\frac{2}{s(s^{2}+4)}, \\ s > 0$"
   ]
  },
  {
   "cell_type": "markdown",
   "id": "f0b548eb",
   "metadata": {},
   "source": [
    "#### Resposta do Exercício 2"
   ]
  },
  {
   "cell_type": "markdown",
   "id": "8cf0b01f",
   "metadata": {},
   "source": [
    "São as mesmas do **Exercício 1**."
   ]
  },
  {
   "cell_type": "markdown",
   "id": "e4ffb0cb",
   "metadata": {},
   "source": [
    "#### Resposta do Exercício 3"
   ]
  },
  {
   "cell_type": "markdown",
   "id": "8914ba10",
   "metadata": {},
   "source": [
    "Use as definições."
   ]
  },
  {
   "cell_type": "markdown",
   "id": "1349fae4",
   "metadata": {},
   "source": [
    "#### Resposta do Exercício 4"
   ]
  },
  {
   "cell_type": "markdown",
   "id": "1eb53f5d",
   "metadata": {},
   "source": [
    "a) $\\frac{1}{24}t^{4}$\n",
    "\n",
    "b) $\\frac{1}{8}sen(8t)$\n",
    "\n",
    "c) $3cos(\\sqrt{7}t) + \\frac{5}{\\sqrt{7}}sen(\\sqrt{7}t)$\n",
    "\n",
    "d) $\\frac{1}{15}e^{t} - \\frac{1}{6}e^{-2t} + \\frac{1}{10}e^{-4t}$\n",
    "\n",
    "e) $-\\frac{1}{16} + \\frac{1}{8}t + \\frac{1}{16}e^{-2t} - \\frac{1}{8}t^{2}e^{-2t}$"
   ]
  },
  {
   "cell_type": "markdown",
   "id": "60136a0d",
   "metadata": {},
   "source": [
    "#### Resposta do Exercício 5"
   ]
  },
  {
   "cell_type": "markdown",
   "id": "bad53e4f",
   "metadata": {},
   "source": [
    "a) $e^{t} - t - 1, \\ t > 0$\n",
    "\n",
    "b) $\\frac{t}{2}sen(\\omega t), \\ t > 0$"
   ]
  },
  {
   "cell_type": "markdown",
   "id": "34834d58",
   "metadata": {},
   "source": [
    "#### Resposta do Exercício 6"
   ]
  },
  {
   "cell_type": "markdown",
   "id": "206053d3",
   "metadata": {},
   "source": [
    "a) $y = -1 + e^{t}$\n",
    "\n",
    "b) $y = -\\frac{1}{4} + \\frac{1}{2}t-\\frac{3}{4}e^{-2t}$\n",
    "\n",
    "c) $y = te^{-4t} + 2e^{-4t}$\n",
    "\n",
    "d) $y = \\frac{1}{2}e^{t} - \\frac{1}{2}(cos(t) + sen(t))$\n",
    "\n",
    "e) $y = \\frac{4}{3}e^{-t} - \\frac{1}{3}e^{-4t}$\n",
    "\n",
    "f) $y = \\frac{2}{27} + \\frac{1}{9}t -\\frac{2}{27}e^{3t} + \\frac{10}{9}te^{3t}$"
   ]
  },
  {
   "cell_type": "markdown",
   "id": "bb844f24",
   "metadata": {},
   "source": [
    "# <div style=\"margin-top: -20px;\">\n",
    "<hr style=\"border: 2px solid black;\">\n",
    "\n",
    "<font color='black'><span style=\"font-size: 22px;\"><strong>Vídeo Aulas</strong></span></font>\n",
    "\n",
    "<hr style=\"border: 2px solid black;\">\n",
    "</div>"
   ]
  },
  {
   "cell_type": "markdown",
   "id": "4062851d",
   "metadata": {},
   "source": [
    "Clicando nos links a seguir você será redirecionado às aulas referentes a este capítulo:\n",
    "\n"
   ]
  },
  {
   "cell_type": "markdown",
   "id": "4bd351bd",
   "metadata": {},
   "source": [
    "# <div style=\"margin-top: -20px;\">\n",
    "<hr style=\"border: 2px solid black;\">\n",
    "\n",
    "<font color='black'><span style=\"font-size: 22px;\"><strong>Referências</strong></span></font>\n",
    "\n",
    "<hr style=\"border: 2px solid black;\">\n",
    "</div>"
   ]
  },
  {
   "cell_type": "markdown",
   "id": "e4c36f16",
   "metadata": {},
   "source": [
    "$[1]$ FERNANDEZ, C. de S.; BERNANDES JÚNIOR, N. Introdução às funções de uma variável complexa. Rio de Janeiro: SBM, 2016.\n",
    "\n",
    "$[2]$ BUTKOV, E. Física matemática. Rio de Janeiro: LTC, 1988.\n",
    "\n",
    "$[3]$ RILEY, K. F.; HOBSON, M. P.; BENCE, S. J. Mathematical methods for physics and engineering. 3rd ed. Cambridge: Cambridge University Press, 2006.\n",
    "\n",
    "$[4]$ SANTOS, R. J., Transformada de Fourier. Belo Horizonte: Universidade Federal de Minas Gerais, 2017.\n",
    "\n",
    "$[5]$ SOARES, A. Curso Python Com Jupyter Notebook. Instituto Federal da Bahia, Campus Vitória da Conquista, $2023$. Disponível em https://github.com/ProfAllanIFBA/Curso_Python_Com_Jupyter_Notebook\n",
    "\n",
    "$[6]$ SPIEGEL, M. R. Advanced mathematics for engineers and scientists. New York: McGraw-Hill, 1971.\n",
    "\n",
    "$[7]$ SPIEGEL, M. R. Cálculo Avançado. São Paulo: McGraw-Hill, 1971.\n",
    "\n",
    "$[8]$ ZILL, D. G.; CULLEN, M. R. Matemática avançada para engenharia, v.3: equações diferenciais parciais, métodos de Fourier e variáveis complexas. 3 ed. Porto Alegre: Bookman, 2009.\n",
    "\n",
    "$[9]$ ZILL, D. G., Advanced Engineering Mathematics. 6rd ed. Jones & Bartlett Learning 2017.\n",
    "\n",
    "$[10]$ ZILL, D. G., CULLEN, M. R. Equações Diferenciais. v1, 3 ed. São Paulo: Makron Books, 2001."
   ]
  }
 ],
 "metadata": {
  "kernelspec": {
   "display_name": "Python 3 (ipykernel)",
   "language": "python",
   "name": "python3"
  },
  "language_info": {
   "codemirror_mode": {
    "name": "ipython",
    "version": 3
   },
   "file_extension": ".py",
   "mimetype": "text/x-python",
   "name": "python",
   "nbconvert_exporter": "python",
   "pygments_lexer": "ipython3",
   "version": "3.11.5"
  },
  "varInspector": {
   "cols": {
    "lenName": 16,
    "lenType": 16,
    "lenVar": 40
   },
   "kernels_config": {
    "python": {
     "delete_cmd_postfix": "",
     "delete_cmd_prefix": "del ",
     "library": "var_list.py",
     "varRefreshCmd": "print(var_dic_list())"
    },
    "r": {
     "delete_cmd_postfix": ") ",
     "delete_cmd_prefix": "rm(",
     "library": "var_list.r",
     "varRefreshCmd": "cat(var_dic_list()) "
    }
   },
   "types_to_exclude": [
    "module",
    "function",
    "builtin_function_or_method",
    "instance",
    "_Feature"
   ],
   "window_display": false
  }
 },
 "nbformat": 4,
 "nbformat_minor": 5
}

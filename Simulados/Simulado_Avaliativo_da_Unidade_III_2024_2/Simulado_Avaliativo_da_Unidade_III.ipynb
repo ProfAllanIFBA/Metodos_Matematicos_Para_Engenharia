{
 "cells": [
  {
   "cell_type": "markdown",
   "id": "c40b460c",
   "metadata": {},
   "source": [
    "<center> <img src=\"logo_ifba.jpg\" alt=\"jpg_python\" width=\"100\" height=\"200\"> </center>\n",
    "<br><br>\n",
    "<div align=\"center\"><span style=\"font-size: 26px;\"><strong>Métodos Matemáticos Para Engenharia <br></strong></span></div> <br>\n",
    "<center> <img src=\"python_gif.gif\" alt=\"gif_python\" width=\"80\"> </center>"
   ]
  },
  {
   "cell_type": "markdown",
   "id": "ee9b4e32",
   "metadata": {},
   "source": [
    "# Simulado Avaliativo da Unidade III - 2024.2"
   ]
  },
  {
   "cell_type": "markdown",
   "id": "fc648edf",
   "metadata": {},
   "source": [
    "#### Questão 1"
   ]
  },
  {
   "cell_type": "markdown",
   "id": "eca05a73",
   "metadata": {},
   "source": [
    "Considere a função\n",
    "\n",
    "$$f(x) = \\left\\{ \\begin{array}{cc}\n",
    "0, &  x < 0 \\\\\n",
    "x^{3}-1, &  0\\leq x < 2 \\\\\n",
    "2x, & x \\geq 2\\end{array}\\right.$$\n",
    "\n",
    "Sendo $\\delta(x-a)$ a função Delta de Dirac. Nessas condições é correto afirmar que\n",
    "\n",
    "$$\\int_{-\\infty}^{\\infty}\\delta(x-1)f(x) dx$$\n",
    "\n",
    "vale:\n",
    "\n",
    "a) $0$\n",
    "\n",
    "b) $-1$\n",
    "\n",
    "c) $2$\n",
    "\n",
    "d) $\\nexists$\n",
    "\n",
    "e) Nenhuma das alternativas anteriores está correta."
   ]
  },
  {
   "cell_type": "markdown",
   "id": "0edee698",
   "metadata": {},
   "source": [
    "##### Solução Escrita"
   ]
  },
  {
   "cell_type": "markdown",
   "id": "6000734f",
   "metadata": {},
   "source": [
    "Usando o **Teorema da Filtragem**:\n",
    "\n",
    "$$\\int_{-\\infty}^{\\infty} \\delta(x-a)f(x)dx = f(a)$$\n",
    "\n",
    "temos:\n",
    "\n",
    "$$\\int_{-\\infty}^{\\infty} \\delta(x-1)f(x)dx = f(1) = 1^{3}-1 = 0$$\n",
    "\n",
    "Portanto, a alternativa correta é a 'a'."
   ]
  },
  {
   "cell_type": "markdown",
   "id": "7ca79609",
   "metadata": {},
   "source": [
    "##### Solução Computacional"
   ]
  },
  {
   "cell_type": "code",
   "execution_count": 1,
   "id": "96298abe",
   "metadata": {
    "ExecuteTime": {
     "end_time": "2024-12-13T13:56:24.602020Z",
     "start_time": "2024-12-13T13:56:23.542637Z"
    }
   },
   "outputs": [
    {
     "name": "stdout",
     "output_type": "stream",
     "text": [
      "Resultado da integral: 0\n"
     ]
    }
   ],
   "source": [
    "import sympy as sp\n",
    "\n",
    "# Definição das variáveis\n",
    "x = sp.symbols('x')\n",
    "delta = sp.DiracDelta(x - 1)\n",
    "\n",
    "# Definição da função por partes\n",
    "f = sp.Piecewise(\n",
    "    (0, x < 0),\n",
    "    (x**3 - 1, (x >= 0) & (x < 2)),\n",
    "    (2*x, x >= 2)\n",
    ")\n",
    "\n",
    "# Integral simbólica\n",
    "integral = sp.integrate(delta * f, (x, -sp.oo, sp.oo))\n",
    "print(f\"Resultado da integral: {integral}\")\n"
   ]
  },
  {
   "cell_type": "markdown",
   "id": "6db3edb4",
   "metadata": {},
   "source": [
    "#### Questão 2"
   ]
  },
  {
   "cell_type": "markdown",
   "id": "d613d68d",
   "metadata": {},
   "source": [
    "Considere a função $f$ tal que $f(0) = 0$, $f\\left(\\frac{\\pi}{3}\\right) = 1$, $f\\left(\\frac{2\\pi}{3}\\right) = -1$, $f(\\pi) = 1$, $f\\left(\\frac{4\\pi}{3}\\right) = -1$ e $f\\left(\\frac{5\\pi}{3}\\right) = 0$. Sobre a transformada de Fourier discreta, $F$, aplicada à função $f$ é correto afirmar que o coeficiente de Fourier, $c_{1}$ vale:\n",
    "\n",
    "a) $0$\n",
    "\n",
    "b) $\\frac{1}{2} - i\\frac{\\sqrt{3}}{12}$\n",
    "\n",
    "c) $\\frac{1}{12} + i\\frac{\\sqrt{3}}{12}$\n",
    "\n",
    "d) $\\frac{1}{12}$\n",
    "\n",
    "e) Nenhuma das alternativas anteriores está correta.\n",
    "\n",
    "*Observação: Estamos considerando os coeficientes $c_{0},c_{1},\\ldots,c_{5}$ conforme teoria apresentada.*"
   ]
  },
  {
   "cell_type": "markdown",
   "id": "ed7db9f1",
   "metadata": {},
   "source": [
    "##### Solução Escrita"
   ]
  },
  {
   "cell_type": "markdown",
   "id": "ef66c46b",
   "metadata": {},
   "source": [
    "Inicialmente devemos obter a Matriz de Transformação \n",
    "\n",
    "$$F_{6} = \\begin{bmatrix}{}\n",
    "1 & 1 & 1 & 1 & 1 & 1\\\\\n",
    "1 & \\omega_{6} & \\omega_{6}^{2} & \\omega_{6}^{3} & \\omega_{6}^{4} & \\omega_{6}^{5}\\\\\n",
    "1 & \\omega_{6}^{2} & \\omega_{6}^{4} & \\omega_{6}^{6} & \\omega_{6}^{8} & \\omega_{6}^{10}\\\\\n",
    "1 & \\omega_{6}^{3} & \\omega_{6}^{6} & \\omega_{6}^{9} & \\omega_{6}^{12} & \\omega_{6}^{15}\\\\\n",
    "1 & \\omega_{6}^{4} & \\omega_{6}^{8} & \\omega_{6}^{12} & \\omega_{6}^{16} & \\omega_{6}^{20}\\\\\n",
    "1 & \\omega_{6}^{5} & \\omega_{6}^{10} & \\omega_{6}^{15} & \\omega_{6}^{20} & \\omega_{6}^{25}\\\\\n",
    "\\end{bmatrix}$$\n",
    "\n",
    "Como necessitamos apenas de $F(1)$ basta calcularmos as potências de $\\omega_{6}$ referentes à segunda linha da matriz $F_{6}$:\n",
    "\n",
    "i) $\\omega_{6} = e^{-\\frac{i2\\pi}{6}} = e^{\\frac{-i\\pi}{3}} = cos\\left(\\frac{-\\pi}{3}\\right) + isen\\left(\\frac{-\\pi}{3}\\right) = \\frac{1}{2} - i\\frac{\\sqrt{3}}{2}$\n",
    "\n",
    "ii) $\\omega_{6}^{2} = \\left(\\frac{1}{2} - i\\frac{\\sqrt{3}}{2}\\right)^{2} = -\\frac{1}{2} - i\\frac{\\sqrt{3}}{2}$\n",
    "\n",
    "iii) $\\omega_{6}^{3} = \\left(\\frac{1}{2} - i\\frac{\\sqrt{3}}{2}\\right)^{3} = -1$\n",
    "\n",
    "iv) $\\omega_{6}^{4} = \\left(\\frac{1}{2} - i\\frac{\\sqrt{3}}{2}\\right)^{4} = -\\frac{1}{2} + i\\frac{\\sqrt{3}}{2}$\n",
    "\n",
    "v) $\\omega_{6}^{5} = \\left(\\frac{1}{2} - i\\frac{\\sqrt{3}}{2}\\right)^{5} = \\frac{1}{2} + i\\frac{\\sqrt{3}}{2}$\n",
    "\n",
    "vi) $\\omega_{6}^{6} = \\left(\\frac{1}{2} - i\\frac{\\sqrt{3}}{2}\\right)^{6} = 1$\n",
    "\n",
    "Note que\n",
    "\n",
    "$$\\begin{bmatrix}{}\n",
    "c_{0} \\\\\n",
    "c_{1} \\\\\n",
    "c_{2} \\\\\n",
    "\\vdots \\\\\n",
    "c_{N-1} \\\\\n",
    "\\end{bmatrix} = \n",
    "\\frac{1}{N}\\overline{F}_{N}\n",
    "\\begin{bmatrix}{}\n",
    "f_{0} \\\\\n",
    "f_{1} \\\\\n",
    "f_{2} \\\\\n",
    "\\vdots \\\\\n",
    "f_{N-1} \\\\\n",
    "\\end{bmatrix}$$\n",
    "\n",
    "donde segue que\n",
    "\n",
    "$$c_{1} = \\frac{1}{6}[\\overline{1}, \\overline{\\omega_{6}}, \\overline{\\omega_{6}^{2}}, \\overline{\\omega_{6}^{3}}, \\overline{\\omega_{6}^{4}}, \\overline{\\omega_{6}^{5}}]\\cdot[f_{0},f_{1},f_{2},f_{3},f_{4},f_{5}]^{T} = $$\n",
    "\n",
    "$$ = \\frac{1}{6}\\left[\\overline{1},\\overline{\\frac{1}{2} -i\\frac{\\sqrt{3}}{2}},\\overline{-\\frac{1}{2} -i\\frac{\\sqrt{3}}{2}},\\overline{-1},\\overline{-\\frac{1}{2} + i\\frac{\\sqrt{3}}{2}},\\overline{\\frac{1}{2} +i\\frac{\\sqrt{3}}{2}} \\right]\\cdot[0,1,-1,1,-1,0]^{T} = $$\n",
    "\n",
    "$$ = \\frac{1}{6}\\left[1,\\frac{1}{2} +i\\frac{\\sqrt{3}}{2},-\\frac{1}{2} +i\\frac{\\sqrt{3}}{2},-1,-\\frac{1}{2} - i\\frac{\\sqrt{3}}{2},\\frac{1}{2} -i\\frac{\\sqrt{3}}{2} \\right]\\cdot[0,1,-1,1,-1,0]^{T} = $$\n",
    "\n",
    "$$ = \\frac{1}{6}\\left(0\\cdot1 + 1\\left(\\frac{1}{2} +i\\frac{\\sqrt{3}}{2}\\right) -1\\left(-\\frac{1}{2} +i\\frac{\\sqrt{3}}{2}\\right) + 1(-1) -1\\left(-\\frac{1}{2} - i\\frac{\\sqrt{3}}{2}\\right) + 0\\left(\\frac{1}{2} - i\\frac{\\sqrt{3}}{2}\\right)\\right) = \\frac{1}{6}\\left(\\left(\\frac{1}{2} + \\frac{1}{2} -1 +\\frac{1}{2}\\right) + i\\left(\\frac{\\sqrt{3}}{2} - \\frac{\\sqrt{3}}{2} + \\frac{\\sqrt{3}}{2} \\right) \\right) = \\frac{1}{12} + i\\frac{\\sqrt{3}}{12} = 0.5+0.866025404i$$\n",
    "\n",
    "Portanto, a alternativa correta é a \"c\"."
   ]
  },
  {
   "cell_type": "markdown",
   "id": "530a1eba",
   "metadata": {},
   "source": [
    "##### Solução Computacional"
   ]
  },
  {
   "cell_type": "code",
   "execution_count": 9,
   "id": "57087589",
   "metadata": {
    "ExecuteTime": {
     "end_time": "2025-01-06T13:49:21.075910Z",
     "start_time": "2025-01-06T13:49:21.070651Z"
    },
    "code_folding": []
   },
   "outputs": [
    {
     "name": "stdout",
     "output_type": "stream",
     "text": [
      "Coeficientes: (0.0833333333+0.1443375673j)\n"
     ]
    }
   ],
   "source": [
    "import numpy as np\n",
    "\n",
    "def gerar_FN(N):\n",
    "    \"\"\"Gera a matriz DFT para um dado N.\"\"\"\n",
    "    omega = np.exp(-2j * np.pi / N)  # N-ésima raiz de unidade\n",
    "    FN = np.array([[omega**(k*j) for j in range(N)] for k in range(N)])\n",
    "    return FN\n",
    "\n",
    "# Valores da função em nT, n = 0, 1, 2, 3, 4, 5\n",
    "f = np.array([0, 1, -1, 1, -1, 0])\n",
    "N = len(f)\n",
    "n=1\n",
    "\n",
    "FN_conjugada = gerar_FN(6).conjugate()\n",
    "coef = FN_conjugada@f/N\n",
    "\n",
    "print(\"Coeficientes:\", np.round(coef[n],10))"
   ]
  },
  {
   "cell_type": "markdown",
   "id": "90409cd9",
   "metadata": {},
   "source": [
    "#### Questão 3"
   ]
  },
  {
   "cell_type": "markdown",
   "id": "87aa96fd",
   "metadata": {},
   "source": [
    "Consideremos uma função $f$ tal que $f(0) = 1$, $f\\left(\\frac{\\pi}{2}\\right) = 0$, $f(\\pi) = 1$ e $f\\left(\\frac{3\\pi}{2}\\right) = 0$. É correto afirmar que as saídas $F(0)$, $F(1)$, $F(2)$ e $F(3)$ correspondentes á transformada de Fourier são dadas, respectivamente, por:\n",
    "\n",
    "a) $0.5, 0, 0.5, 0$\n",
    "\n",
    "b) $2,0,2,0$\n",
    "\n",
    "c) $2,-1,2,1$\n",
    "\n",
    "d) $2,i,2,i$\n",
    "\n",
    "e) Nenhuma das alternativas anteriores está correta."
   ]
  },
  {
   "cell_type": "markdown",
   "id": "60e58d3a",
   "metadata": {},
   "source": [
    "##### Solução Escrita"
   ]
  },
  {
   "cell_type": "markdown",
   "id": "aec8ffe5",
   "metadata": {},
   "source": [
    "Temos o seguinte esquema, considerando o Algoritmo de Cooley e Tukey (N = 4):<br><br>\n",
    "\n",
    "<center> <img src=\"fig3.jpg\" alt=\"jpg_python\" width=\"500\" height=\"\"> </center>\n",
    "\n",
    "Portanto, a alternativa correta é a \"b\"."
   ]
  },
  {
   "cell_type": "markdown",
   "id": "3524f2a4",
   "metadata": {},
   "source": [
    "##### Solução Computacional"
   ]
  },
  {
   "cell_type": "code",
   "execution_count": 11,
   "id": "a0bc84b2",
   "metadata": {
    "ExecuteTime": {
     "end_time": "2025-01-06T21:29:24.146684Z",
     "start_time": "2025-01-06T21:29:24.140654Z"
    }
   },
   "outputs": [
    {
     "name": "stdout",
     "output_type": "stream",
     "text": [
      "FFT de f: [2.+0.j 0.+0.j 2.+0.j 0.+0.j] \n",
      "\n"
     ]
    }
   ],
   "source": [
    "import numpy as np\n",
    "\n",
    "# Dados\n",
    "f = np.array([1, 0, 1, 0])\n",
    "\n",
    "# Usando a FFT para calcular a Transformada de Fourier\n",
    "fft = np.fft.fft(f)\n",
    "\n",
    "# Mostrando a FFT\n",
    "print(f\"FFT de f: {fft} \\n\")"
   ]
  },
  {
   "cell_type": "markdown",
   "id": "476140da",
   "metadata": {},
   "source": [
    "#### Questão 4"
   ]
  },
  {
   "cell_type": "markdown",
   "id": "681f4554",
   "metadata": {},
   "source": [
    "Considere a equação diferencial\n",
    "\n",
    "$$\\frac{\\partial v}{\\partial x} + 3\\frac{\\partial v}{\\partial y} = 0 \\tag{1}$$\n",
    "\n",
    "Sobre $(1)$ são feitas as seguintes afirmações:\n",
    "\n",
    "i) $v = x^{2} + y^{2}$ é uma solução de $(1)$.\n",
    "\n",
    "ii) $v = F(y-3x)$ é uma solução de $(1)$ para qualquer função diferenciável $F$ arbitrária.\n",
    "\n",
    "iii) $v = sen(y-3x)e^{y-3x}$ é uma solução de $(1)$.\n",
    "\n",
    "Assinale a alternativa correta:\n",
    "\n",
    "a) Somente uma das afirmações apresentadas é correta.\n",
    "\n",
    "b) Todas afirmações apresentadas são falsas.\n",
    "\n",
    "c) A afirmação \"ii\" é verdadeira e decorre de \"iii\" que também é verdadeira.\n",
    "\n",
    "d) A afirmação \"iii\" é verdadeira e decorre de \"ii\" que também é verdadeira.\n",
    "\n",
    "e) Nenhuma das altenativas anteriores é verdadeira."
   ]
  },
  {
   "cell_type": "markdown",
   "id": "5726b8e6",
   "metadata": {},
   "source": [
    "##### Solução Escrita"
   ]
  },
  {
   "cell_type": "markdown",
   "id": "3523a7ae",
   "metadata": {},
   "source": [
    "Vejamos cada uma das afirmações:\n",
    "\n",
    "i) Temos que\n",
    "\n",
    "$$v = x^{2} + y^{2} \\Rightarrow \\frac{\\partial v}{\\partial x} = 2x \\ \\text{e} \\ \\frac{\\partial v}{\\partial y} = 2y \\Rightarrow \\frac{\\partial v}{\\partial x} + 3\\frac{\\partial v}{\\partial y} = 2x + 3\\cdot2y = 2x + 6y \\neq 0$$\n",
    "\n",
    "Assim, $v = x^{2} + y^{2}$ não é uma solução de $(1)$. Logo, a afirmação 'i' é falsa.\n",
    "\n",
    "ii) Considerando $v = F(u)$ com $u = y - 3x$, temos que\n",
    "\n",
    "$\\frac{\\partial v}{\\partial x} = \\frac{\\partial F}{\\partial u}\\frac{\\partial u}{\\partial x} = F'(u)(-3) = -3F'(u)$\n",
    "\n",
    "$\\frac{\\partial v}{\\partial y} = \\frac{\\partial F}{\\partial u}\\frac{\\partial u}{\\partial y} = F'(u)\\cdot1 = F'(u)$\n",
    "\n",
    "$$\\Rightarrow \\frac{\\partial v}{\\partial x} + 3\\frac{\\partial v}{\\partial y} = -3F'(u) + F'(u) = 0$$\n",
    "\n",
    "Assim, $v = F(y-3x)$ é uma solução de $(1)$ para uma função diferenciável $F$ arbitrária. Logo, a afirmação 'ii' é verdadeira.\n",
    "\n",
    "iii) Considerando $F(x,y) = sen(y-3x)e^{y-3x}$ temos que $F(u) = sen(u)e^(u)$, $u = y - 3x$ se enquadra em uma função particular dada em 'ii'. Dessa forma, $v = sen(y-3x)e^{y-3x}$ é uma solução de $(1)$. Portanto, a afirmação 'iii' é verdadeira. Além disso, a afirmação 'iii' decorre de 'ii'.\n",
    "\n",
    "Portanto, a alternativa correta é a \"d\"."
   ]
  },
  {
   "cell_type": "markdown",
   "id": "cabc966f",
   "metadata": {},
   "source": [
    "##### Solução Computacional"
   ]
  },
  {
   "cell_type": "code",
   "execution_count": 2,
   "id": "f75bad29",
   "metadata": {
    "ExecuteTime": {
     "end_time": "2025-01-13T14:45:28.113204Z",
     "start_time": "2025-01-13T14:45:28.092645Z"
    }
   },
   "outputs": [
    {
     "name": "stdout",
     "output_type": "stream",
     "text": [
      "Teste para a expressão i: x**2 + y**2\n",
      "∂v/∂x = 2*x\n",
      "∂v/∂y = 2*y\n",
      "Verificação: Não é solução de (1) pois 2*x + 6*y é não nula. \n",
      "\n",
      "Teste para a expressão ii: F(-3*x + y)\n",
      "∂v/∂x = -3*Subs(Derivative(F(_xi_1), _xi_1), _xi_1, -3*x + y)\n",
      "∂v/∂y = Subs(Derivative(F(_xi_1), _xi_1), _xi_1, -3*x + y)\n",
      "Verificação: É uma solução de (1).\n",
      "\n",
      "Teste para a expressão iii: -exp(-3*x + y)*sin(3*x - y)\n",
      "∂v/∂x = 3*exp(-3*x + y)*sin(3*x - y) - 3*exp(-3*x + y)*cos(3*x - y)\n",
      "∂v/∂y = -exp(-3*x + y)*sin(3*x - y) + exp(-3*x + y)*cos(3*x - y)\n",
      "Verificação: É uma solução de (1).\n",
      "\n"
     ]
    }
   ],
   "source": [
    "import sympy as sp\n",
    "\n",
    "# Definir as variáveis independentes e a função arbitrária\n",
    "x, y = sp.symbols('x y')\n",
    "\n",
    "# Testar as expressões fornecidas nas alternativas\n",
    "expressions = {\n",
    "    \"i\": x**2 + y**2,\n",
    "    \"ii\": sp.Function('F')(y - 3*x),\n",
    "    \"iii\": sp.sin(y - 3*x) * sp.exp(y - 3*x)\n",
    "}\n",
    "\n",
    "# Avaliar cada expressão\n",
    "for label, v in expressions.items():\n",
    "    # Calcular as derivadas parciais de primeira ordem\n",
    "    v_x = sp.diff(v, x)\n",
    "    v_y = sp.diff(v, y)\n",
    "    \n",
    "    # Substituir na equação diferencial ∂v/∂x + 3∂v/∂y = 0\n",
    "    eq = v_x + 3 * v_y\n",
    "    \n",
    "    # Simplificar a equação para maior clareza\n",
    "    eq_simplified = sp.simplify(eq)\n",
    "    \n",
    "    print(f\"Teste para a expressão {label}: {v}\")\n",
    "    print(f\"∂v/∂x = {v_x}\")\n",
    "    print(f\"∂v/∂y = {v_y}\")\n",
    "    print(f\"Verificação: {'É uma solução de (1).' if eq_simplified == 0 else f'Não é solução de (1) pois {eq_simplified} é não nula. '}\\n\")\n",
    "\n"
   ]
  },
  {
   "cell_type": "markdown",
   "id": "f2902dad",
   "metadata": {},
   "source": [
    "#### Questão 5"
   ]
  },
  {
   "cell_type": "markdown",
   "id": "1fac0316",
   "metadata": {},
   "source": [
    "Aplicando-se o método de separação de variáveis à EDP\n",
    "\n",
    "$$\\frac{\\partial u}{\\partial x} = 4\\frac{\\partial u}{\\partial y}$$\n",
    "\n",
    "sujeita à condição de contorno $u(0,y) = 8e^{-3y}$ somos conduzidos à solução:\n",
    "\n",
    "a) $u(x,y) = 8e^{-8x - 2y}$\n",
    "\n",
    "b) $u(x,y) = 8e^{4x - 3y}$\n",
    "\n",
    "c) $u(x,y) = 8e^{-12x - 3y}$\n",
    "\n",
    "d) $u(x,y) = e^{-12x - 3y}$\n",
    "\n",
    "e) Nenhuma das alternativas anteriores está correta."
   ]
  },
  {
   "cell_type": "markdown",
   "id": "f34660a4",
   "metadata": {},
   "source": [
    "##### Solução Escrita"
   ]
  },
  {
   "cell_type": "markdown",
   "id": "5cfe0e9f",
   "metadata": {},
   "source": [
    "Considerando a equação diferencial parcial separável\n",
    "\n",
    "$$\\frac{\\partial u}{\\partial x} = 4\\frac{\\partial u}{\\partial y}$$\n",
    "\n",
    "podemos recorrer à mudança de variável \n",
    "$$\\frac{\\partial u}{\\partial x} = X'Y \\ \\ \\text{e} \\ \\ \\frac{\\partial u}{\\partial y} = XY'$$\n",
    "\n",
    "Nesse caso,\n",
    "\n",
    "$$\\frac{\\partial u}{\\partial x} = 4\\frac{\\partial u}{\\partial y} \\Rightarrow \\frac{X'}{X} = 4\\frac{Y'}{Y} = \\lambda$$\n",
    "\n",
    "Pois bem,\n",
    "\n",
    "Vejamos $\\frac{X'}{X} = \\lambda$:\n",
    "\n",
    "$$\\frac{X'}{X} = \\lambda \\Rightarrow X' = \\lambda X \\Rightarrow \\frac{dX}{dx} = \\lambda X \\Rightarrow \\frac{dX}{X} = \\lambda dx \\Rightarrow ln|X| =$$\n",
    "\n",
    "$$=\\lambda x + k_{1} \\Rightarrow X = e^{\\lambda x + k_{1}} \\Rightarrow X = e^{\\lambda x}e^{k_{1}} = C_{1}e^{\\lambda x}$$\n",
    "\n",
    "Vejamos $\\frac{4Y'}{Y} = \\lambda$:\n",
    "\n",
    "$$\\frac{4Y'}{Y} = \\lambda \\Rightarrow 4Y' = \\lambda Y \\Rightarrow \\frac{4dY}{dy} = \\lambda Y \\Rightarrow \\frac{dY}{Y} = \\frac{\\lambda}{4} dy \\Rightarrow ln|Y| =$$\n",
    "\n",
    "$$ = \\frac{\\lambda}{4} y + k_{2} \\Rightarrow Y = e^{\\frac{\\lambda}{4} y + k_{2}} \\Rightarrow Y = e^{\\frac{\\lambda}{4} y}e^{k_{2}} = C_{2}e^{\\frac{\\lambda}{4}y}$$\n",
    "\n",
    "A solução é dada por:\n",
    "\n",
    "$$u(x,y) = X(x)Y(y) = C_{1}e^{\\lambda x}C_{2}e^{\\frac{\\lambda}{4} y} = C_{1}C_{2}e^{\\lambda\\left(x + \\frac{y}{4}\\right)} \\Rightarrow u(x,y) = Ke^{\\lambda\\left(x + \\frac{y}{4}\\right)}$$\n",
    "\n",
    "Utilizando a condição de contorno $u(0,y) = 8e^{-3y}$, temos:\n",
    "\n",
    "$$u(0,y) = 8e^{-3y} \\Rightarrow Ke^{\\lambda\\left(0 + \\frac{y}{4}\\right)} = 8e^{-3y} \\Rightarrow  Ke^{\\lambda \\frac{y}{4}} = 8e^{-3y} \\Rightarrow K = 8 \\ \\text{e} \\ \\frac{\\lambda}{4} = -3 \\Rightarrow K = 8 \\ \\text{e} \\ \\lambda = -12$$\n",
    "\n",
    "Por fim,\n",
    "\n",
    "$$u(x,y) = Ke^{\\lambda\\left(x + \\frac{y}{4}\\right)} \\Rightarrow u(x,y) = 8e^{-12\\left(x + \\frac{y}{4}\\right)} \\Rightarrow u(x,y) = 8e^{-12x - 3y}$$\n",
    "\n",
    "Portanto, a alternativa correta é \"c\"."
   ]
  },
  {
   "cell_type": "markdown",
   "id": "26f524e2",
   "metadata": {},
   "source": [
    "##### Solução Computacional"
   ]
  },
  {
   "cell_type": "markdown",
   "id": "95021e2d",
   "metadata": {},
   "source": [
    "Vejamos inicialmente a solução da parte genérica considerando o passo:\n",
    "\n",
    "$$\\frac{X'}{X} = 4\\frac{Y'}{Y} = \\lambda$$"
   ]
  },
  {
   "cell_type": "code",
   "execution_count": 4,
   "id": "fe764b3a",
   "metadata": {
    "ExecuteTime": {
     "end_time": "2025-01-13T15:13:28.294418Z",
     "start_time": "2025-01-13T15:13:28.157394Z"
    }
   },
   "outputs": [],
   "source": [
    "import sympy as sp\n",
    "\n",
    "# Definição das variáveis\n",
    "x, y, lambda_ = sp.symbols('x y lambda')\n",
    "X = sp.Function('X')(x)\n",
    "Y = sp.Function('Y')(y)\n",
    "\n",
    "# Equações diferenciais\n",
    "eq_X = sp.Eq(X.diff(x) / X, lambda_)\n",
    "eq_Y = sp.Eq(4*Y.diff(y) / Y, lambda_)\n",
    "\n",
    "# Solução das EDOs\n",
    "X_sol = sp.dsolve(eq_X).rhs  # Solução de X(x)\n",
    "Y_sol = sp.dsolve(eq_Y).rhs  # Solução de Y(y)\n",
    "\n",
    "# Renomear constantes de integração (evita usar C1 para os dois casos)\n",
    "C1, C2 = sp.symbols('C1 C2')\n",
    "X_sol = X_sol.subs(sp.Symbol('C1'), C1)  # Renomeia a constante de X(x)\n",
    "Y_sol = Y_sol.subs(sp.Symbol('C1'), C2)  # Renomeia a constante de Y(y)\n",
    "\n",
    "# Solução produto geral\n",
    "u_geral = sp.simplify(X_sol * Y_sol)"
   ]
  },
  {
   "cell_type": "markdown",
   "id": "73bfff44",
   "metadata": {},
   "source": [
    "Cada uma das partes é dada nas células a seguir:"
   ]
  },
  {
   "cell_type": "code",
   "execution_count": 5,
   "id": "3269eeee",
   "metadata": {
    "ExecuteTime": {
     "end_time": "2025-01-13T15:13:28.508653Z",
     "start_time": "2025-01-13T15:13:28.491208Z"
    }
   },
   "outputs": [
    {
     "data": {
      "text/latex": [
       "$\\displaystyle C_{1} e^{\\lambda x}$"
      ],
      "text/plain": [
       "C1*exp(lambda*x)"
      ]
     },
     "execution_count": 5,
     "metadata": {},
     "output_type": "execute_result"
    }
   ],
   "source": [
    "# Função X(x)\n",
    "X_sol"
   ]
  },
  {
   "cell_type": "code",
   "execution_count": 6,
   "id": "8a4c3d5d",
   "metadata": {
    "ExecuteTime": {
     "end_time": "2025-01-13T15:13:28.674005Z",
     "start_time": "2025-01-13T15:13:28.658892Z"
    }
   },
   "outputs": [
    {
     "data": {
      "text/latex": [
       "$\\displaystyle C_{2} e^{\\frac{\\lambda y}{4}}$"
      ],
      "text/plain": [
       "C2*exp(lambda*y/4)"
      ]
     },
     "execution_count": 6,
     "metadata": {},
     "output_type": "execute_result"
    }
   ],
   "source": [
    "# Função Y(y)\n",
    "Y_sol"
   ]
  },
  {
   "cell_type": "code",
   "execution_count": 8,
   "id": "827d4595",
   "metadata": {
    "ExecuteTime": {
     "end_time": "2025-01-13T15:23:47.470801Z",
     "start_time": "2025-01-13T15:23:47.463792Z"
    }
   },
   "outputs": [
    {
     "data": {
      "text/latex": [
       "$\\displaystyle C_{1} C_{2} e^{\\lambda \\left(x + \\frac{y}{4}\\right)}$"
      ],
      "text/plain": [
       "C1*C2*exp(lambda*(x + y/4))"
      ]
     },
     "execution_count": 8,
     "metadata": {},
     "output_type": "execute_result"
    }
   ],
   "source": [
    "# Solução na forma produto X(x)Y(y)\n",
    "u_geral"
   ]
  },
  {
   "cell_type": "markdown",
   "id": "1646fc3b",
   "metadata": {},
   "source": [
    "Por fim, pode-se aplicar as condições de contorno manualmente a esta última função repassando $C_{1}C_{2}$ para $K$."
   ]
  }
 ],
 "metadata": {
  "kernelspec": {
   "display_name": "Python 3 (ipykernel)",
   "language": "python",
   "name": "python3"
  },
  "language_info": {
   "codemirror_mode": {
    "name": "ipython",
    "version": 3
   },
   "file_extension": ".py",
   "mimetype": "text/x-python",
   "name": "python",
   "nbconvert_exporter": "python",
   "pygments_lexer": "ipython3",
   "version": "3.11.5"
  }
 },
 "nbformat": 4,
 "nbformat_minor": 5
}

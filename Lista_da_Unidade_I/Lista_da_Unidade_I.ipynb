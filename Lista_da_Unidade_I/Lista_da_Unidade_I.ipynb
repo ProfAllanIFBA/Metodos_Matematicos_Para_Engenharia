{
 "cells": [
  {
   "cell_type": "markdown",
   "id": "ebb6276c",
   "metadata": {},
   "source": [
    "<center> <img src=\"logo_ifba.jpg\" alt=\"jpg_python\" width=\"100\" height=\"200\"> </center>\n",
    "<br><br>\n",
    "<div align=\"center\"><span style=\"font-size: 26px;\"><strong>Métodos Matemáticos Para Engenharia <br></strong></span></div> <br>\n",
    "<center> <img src=\"python_gif.gif\" alt=\"gif_python\" width=\"80\"> </center>"
   ]
  },
  {
   "cell_type": "markdown",
   "id": "0a544720",
   "metadata": {},
   "source": [
    "# Lista da Unidade I"
   ]
  },
  {
   "cell_type": "markdown",
   "id": "f7ef017a",
   "metadata": {},
   "source": [
    "Seguem as soluções escritas e computacionais da Lista da Unidade I."
   ]
  },
  {
   "cell_type": "markdown",
   "id": "40b913b4",
   "metadata": {},
   "source": [
    "#### Questão 1 da Lista da Unidade I"
   ]
  },
  {
   "cell_type": "markdown",
   "id": "d25a8cc8",
   "metadata": {},
   "source": [
    "Determine o módulo e o argumento do número complexo $z^{5}$ em que $z = \\frac{8-i}{2-3i}$. Apresente o resultado como números decimais."
   ]
  },
  {
   "cell_type": "markdown",
   "id": "49b89adb",
   "metadata": {},
   "source": [
    "##### Solução Escrita"
   ]
  },
  {
   "cell_type": "markdown",
   "id": "c21728b9",
   "metadata": {},
   "source": [
    "Temos que\n",
    "\n",
    "$$z = \\frac{8-i}{2-3i} = \\frac{8-i}{2-3i}\\frac{2+3i}{2+3i} = \\frac{16 + 24i + 2i - 3}{2^{2} + 3^{2}} = \\frac{13 + 26i}{13} = 1 + 2i$$\n",
    "\n",
    "Pela fórmula de Moivre, temos que:\n",
    "\n",
    "$$z^{n} = |z|^{n}(cos(n\\theta) + isen(n\\theta)), \\ \\ \\theta = arg(z)$$\n",
    "\n",
    "donde segue que $|z^{n}| = |z|^{n}$ e $arg(z^{n}) = tan^{-1}\\left(\\frac{sen(n\\theta)}{cos(n\\theta)} \\right)$. Esta última afirmação decorre de:\n",
    "\n",
    "$$|z^{n}| = |z|^{n}(cos(n\\theta) + isen(n\\theta)) = |z|^{n}cos(n\\theta) + i|z|sen(n\\theta) \\Rightarrow Re(z^{n}) = |z|^{n}cos(5\\theta) \\ \\ \\text{e} \\ \\ Im(z^{n}) = |z|^{n}sen(n\\theta) \\Rightarrow$$\n",
    "\n",
    "$$\\Rightarrow arg(z^{n}) = tan^{-1}\\left(\\frac{Im(z^{n})}{Re(z^{n})} \\right) = tan^{-1}\\left(\\frac{|z|^{n}sen(n\\theta)}{|z|^{n}cos(n\\theta)} \\right) = tan^{-1}\\left(\\frac{sen(n\\theta)}{cos(n\\theta)} \\right)$$\n",
    "\n",
    "Note que \n",
    "\n",
    "$$|z| = \\sqrt{1^{2} + 2^{2}} = \\sqrt{5} \\ \\ \\text{e} \\ \\ \\theta = tan^{-1}\\left(\\frac{2}{1}\\right) = tan^{-1}(2) = 1.10714871779$$\n",
    "\n",
    "Portanto,\n",
    "\n",
    "$$|z^{5} = |z|^{5} = \\sqrt{5}^{5} = \\boxed{55.9016994375}$$\n",
    "\n",
    "$$arg{z^{5}} = tan^{-1}\\left(\\frac{sen\\left(5tan^{-1}(2)\\right)}{cos\\left(5tan^{-1}(2)\\right)}\\right) = tan^{-1}\\left(\\frac{sen(5\\cdot1.10714871779)}{cos(5\\cdot1.10714871779)} \\right) =$$\n",
    "\n",
    "$$= tan^{-1}\\left(\\frac{-0.679764665175}{0.733430296606}\\right) = tan^{-1}(-0.926829268331) = \\boxed{-0.74744171823}$$"
   ]
  },
  {
   "cell_type": "markdown",
   "id": "b45bbc7f",
   "metadata": {},
   "source": [
    "##### Solução Computacional"
   ]
  },
  {
   "cell_type": "code",
   "execution_count": 1,
   "id": "f7594453",
   "metadata": {},
   "outputs": [],
   "source": [
    "import numpy as np\n",
    "\n",
    "# Cálculos\n",
    "z = complex(1,2)\n",
    "z5=z**5\n",
    "modulo = abs(z5)\n",
    "argumento = np.arctan(z5.imag/z5.real)"
   ]
  },
  {
   "cell_type": "code",
   "execution_count": 2,
   "id": "211b41d7",
   "metadata": {},
   "outputs": [
    {
     "name": "stdout",
     "output_type": "stream",
     "text": [
      "Módulo de z^5: 55.90169943749474\n",
      "Argumento de z^5: -0.747441718209134\n"
     ]
    }
   ],
   "source": [
    "# Resultados\n",
    "print(f'Módulo de z^5: {modulo}')\n",
    "print(f'Argumento de z^5: {argumento}')"
   ]
  },
  {
   "cell_type": "markdown",
   "id": "eb0ccb4b",
   "metadata": {},
   "source": [
    "#### Questão 2 da Lista da Unidade I"
   ]
  },
  {
   "cell_type": "markdown",
   "id": "64ef8e72",
   "metadata": {},
   "source": [
    "Determine a soma de todas as soluções da equação $z^{3} + 5 = 0$.\n",
    "\n",
    "**Dica: Pense vetorialmente!*"
   ]
  },
  {
   "cell_type": "markdown",
   "id": "5c6d28d6",
   "metadata": {},
   "source": [
    "##### Solução Escrita"
   ]
  },
  {
   "cell_type": "markdown",
   "id": "3cb0b3ac",
   "metadata": {},
   "source": [
    "Temos que as soluções de uma equação da forma $z^{n} - m = 0$ é dada por:\n",
    "\n",
    "$$z_{k} = m^{1/n}e^{\\frac{(k-1)2i\\pi}{n}}, \\ \\ k \\in \\{1,2,3,\\ldots,n-1\\}$$\n",
    "\n",
    "Sendo esta uma equação de grau $3$ ela deve possuir exatamente três raízes:\n",
    "\n",
    "$z_{1} = (-5)^{\\frac{1}{3}}e^{\\frac{0\\cdot 2i\\pi}{3}} = -5^{\\frac{1}{3}}\\cdot1 = -5^{\\frac{1}{3}}$\n",
    "\n",
    "$z_{2} = (-5)^{\\frac{1}{3}}e^{\\frac{1\\cdot i2\\pi}{3}} = -5^{\\frac{1}{3}}\\left(cos\\left(\\frac{2\\pi}{3}\\right) + isen\\left(\\frac{2\\pi}{3}\\right) \\right) = -5^{\\frac{1}{3}}\\left(-\\frac{1}{2} + i\\frac{\\sqrt{3}}{2}\\right)$\n",
    "\n",
    "$z_{3} = (-5)^{\\frac{1}{3}}e^{\\frac{2\\cdot 2i\\pi}{3}} =  -5^{\\frac{1}{3}}\\left(cos\\left(\\frac{4\\pi}{3}\\right) + isen\\left(\\frac{4\\pi}{3}\\right) \\right) = -5^{\\frac{1}{3}}\\left(-\\frac{1}{2} - i\\frac{\\sqrt{3}}{2}\\right)$\n",
    "\n",
    "Assim,\n",
    "\n",
    "$$z_{1} + z_{2} + z_{3} = -5^{\\frac{1}{3}} + -5^{\\frac{1}{3}}\\left(-\\frac{1}{2} + i\\frac{\\sqrt{3}}{2}\\right) + -5^{\\frac{1}{3}}\\left(-\\frac{1}{2} - i\\frac{\\sqrt{3}}{2}\\right) =$$\n",
    "\n",
    "$$ = -5^{\\frac{1}{3}} + \\frac{-5^{\\frac{1}{3}}}{2} -i5^{\\frac{1}{3}}\\frac{\\sqrt{3}}{2} +\\frac{-5^{\\frac{1}{3}}}{2} +i5^{\\frac{1}{3}}\\frac{\\sqrt{3}}{2} = \\boxed{0}$$\n",
    "\n",
    "*Observe que os vetores correspondentes às soluções complexas de uma equação da forma $z^{n} = m, \\ n>1$ seccionam o plano em $n$ partes angularmente iguais. Da física sabemos que a soma de vetores nestas condições é igual a zero. Alguns exemplos para $n = 2, 3, 4$ e $5$ são dados a seguir:\n",
    "\n",
    "<center> <img src=\"fig2.jpg\" alt=\"jpg_python\" width=\"600\" height=\"\"> </center>"
   ]
  },
  {
   "cell_type": "markdown",
   "id": "b2de2fca",
   "metadata": {},
   "source": [
    "##### Solução Computacional"
   ]
  },
  {
   "cell_type": "code",
   "execution_count": 3,
   "id": "0a4605da",
   "metadata": {},
   "outputs": [],
   "source": [
    "import numpy as np\n",
    "\n",
    "def raizes_complexas(z,n):\n",
    "    r = abs(z)\n",
    "    theta = np.angle(z)\n",
    "    roots = []\n",
    "    for k in range(n):\n",
    "        angle = (theta + 2 * np.pi * k) / n\n",
    "        root = np.round(r**(1/n) * (np.cos(angle) + 1j * np.sin(angle)),8)\n",
    "        roots.append(root)\n",
    "    return roots"
   ]
  },
  {
   "cell_type": "code",
   "execution_count": 4,
   "id": "9f10a385",
   "metadata": {},
   "outputs": [],
   "source": [
    "z_k = complex(-5,0)\n",
    "n = 3\n",
    "raizes = raizes_complexas(z_k,n)"
   ]
  },
  {
   "cell_type": "code",
   "execution_count": 5,
   "id": "9c76da0b",
   "metadata": {},
   "outputs": [
    {
     "data": {
      "text/plain": [
       "[(0.85498797+1.48088261j), (-1.70997595+0j), (0.85498797-1.48088261j)]"
      ]
     },
     "execution_count": 5,
     "metadata": {},
     "output_type": "execute_result"
    }
   ],
   "source": [
    "# Raízes\n",
    "raizes"
   ]
  },
  {
   "cell_type": "code",
   "execution_count": 6,
   "id": "691aef5a",
   "metadata": {},
   "outputs": [
    {
     "data": {
      "text/plain": [
       "(-0+0j)"
      ]
     },
     "execution_count": 6,
     "metadata": {},
     "output_type": "execute_result"
    }
   ],
   "source": [
    "np.round(sum(raizes),2)"
   ]
  },
  {
   "cell_type": "markdown",
   "id": "910e5784",
   "metadata": {},
   "source": [
    "#### Questão 3 da Lista da Unidade I"
   ]
  },
  {
   "cell_type": "markdown",
   "id": "ef529d66",
   "metadata": {},
   "source": [
    "Mostre que $sen^{2}(\\theta) = \\frac{1-cos(2\\theta)}{2}$."
   ]
  },
  {
   "cell_type": "markdown",
   "id": "a0e061b0",
   "metadata": {},
   "source": [
    "##### Solução Escrita"
   ]
  },
  {
   "cell_type": "markdown",
   "id": "a3389ea0",
   "metadata": {},
   "source": [
    "Temos que \n",
    "\n",
    "$$sen(\\theta) = \\frac{e^{i\\theta}-e^{-i\\theta}}{2i} \\Rightarrow sen^{2}(\\theta)  = \\left(\\frac{e^{i\\theta}-e^{-i\\theta}}{2i}\\right)^{2} = \\frac{\\left(e^{i\\theta}-e^{-i\\theta}\\right)^{2}}{(2i)^2} = \\frac{e^{2i\\theta}-2e^{i\\theta}e^{-i\\theta} + e^{-2i\\theta}}{-4} = $$\n",
    "\n",
    "$$= \\frac{e^{2i\\theta}-2 + e^{-2i\\theta}}{-4} =  \\frac{2 - e^{2i\\theta} - e^{-2i\\theta}}{4} = \\frac{1}{2}\\left(1 - \\frac{e^{2i\\theta} + e^{-2i\\theta}}{2}\\right) = \\frac{1}{2}(1 - cos(2\\theta)) = \\boxed{\\frac{1-cos(2\\theta)}{2}}.$$"
   ]
  },
  {
   "cell_type": "markdown",
   "id": "8cc4b3d1",
   "metadata": {},
   "source": [
    "##### Solução Computacional"
   ]
  },
  {
   "cell_type": "code",
   "execution_count": null,
   "id": "579adf42",
   "metadata": {},
   "outputs": [],
   "source": [
    "import sympy as sp\n",
    "\n",
    "# Definindo a variável\n",
    "theta = sp.symbols('theta')\n",
    "\n",
    "# Definindo as expressões\n",
    "le = sp.sin(theta)**2  # Lado esquerdo da identidade\n",
    "ld = (1 - sp.cos(2 * theta)) / 2  # Lado direito da identidade\n",
    "\n",
    "# Verificando se os dois lados são iguais\n",
    "identidade = sp.simplify(le - ld)  # Simplificando a diferença entre os dois lados\n",
    "\n",
    "# Exibindo os resultados\n",
    "print(\"Lado esquerdo (sin^2(theta)):\", le)\n",
    "print(\"Lado direito ((1 - cos(2*theta)) / 2):\", ld)\n",
    "print(\"Simplificação da diferença entre os dois lados:\", identidade)\n"
   ]
  },
  {
   "cell_type": "markdown",
   "id": "afb24229",
   "metadata": {},
   "source": [
    "#### Questão 4 da Lista da Unidade I"
   ]
  },
  {
   "cell_type": "markdown",
   "id": "75dabcc1",
   "metadata": {},
   "source": [
    "Exiba a transformada de Laplace da função $s(t) = 3t^{2}$ usando a definição\n",
    "\n",
    "$$\\overline{f}(s) = \\int_{0}^{\\infty} f(t)e^{-st} dt$$"
   ]
  },
  {
   "cell_type": "markdown",
   "id": "b258108c",
   "metadata": {},
   "source": [
    "##### Solução Escrita"
   ]
  },
  {
   "cell_type": "markdown",
   "id": "8a84c844",
   "metadata": {},
   "source": [
    "Temos que\n",
    "\n",
    "$$\\overline{f}(s) = \\int_{0}^{\\infty}f(t)e^{-st}dt = \\int_{0}^{\\infty}3t^{2}e^{-st}dt = 3\\underbrace{\\int_{0}^{\\infty}t^{2}e^{-st}dt} = $$\n",
    "\n",
    "$\\underbrace{\\begin{array}{ccc}\n",
    "u = t^{2} & & dv = e^{-st}dt \\\\\n",
    "du = 2tdt & & v = -\\frac{e^{-st}}{s}\\\\\n",
    "\\end{array}}$\n",
    "\n",
    "$$ = 3\\left.\\left(-\\frac{t^{2}e^{-st}}{s} - \\int \\frac{-2te^{-st}}{s}dt \\right)\\right|_{0}^{\\infty} = 3\\left.\\left(-\\frac{t^{2}e^{-st}}{s} + \\frac{2}{s}\\underbrace{\\int te^{-st}dt} \\right)\\right|_{0}^{\\infty} = $$\n",
    "\n",
    "$\\underbrace{\\begin{array}{ccc}\n",
    "u = t & & dv = e^{-st}dt \\\\\n",
    "du = dt & & v = -\\frac{e^{-st}}{s}\\\\\n",
    "\\end{array}}$\n",
    "\n",
    "$$= 3\\left.\\left(-\\frac{t^{2}e^{-st}}{s} + \\frac{2}{s}\\left( -\\frac{te^{-st}}{s} - \\int\\frac{-e^{-st}}{s}dt\\right) \\right)\\right|_{0}^{\\infty} = 3\\left.\\left(-\\frac{t^{2}e^{-st}}{s} + \\frac{2}{s}\\left( -\\frac{te^{-st}}{s} + \\frac{2}{s}\\int e^{-st}dt\\right) \\right)\\right|_{0}^{\\infty} = $$\n",
    "\n",
    "$$ = 3\\left.\\left(-\\frac{t^{2}e^{-st}}{s} + \\frac{2}{s}\\left( -\\frac{te^{-st}}{s} + \\frac{2}{s}\\left(-\\frac{e^{-st}}{s}\\right)\\right)\\right)\\right|_{0}^{\\infty} = \\left.\\left(-\\frac{t^{2}e^{-st}}{s} - \\frac{2te^{-st}}{s^{2}} - \\frac{2e^{-st}}{s^{3}}\\right)\\right|_{0}^{\\infty} =$$\n",
    "\n",
    "$$ = 3\\left.\\left(-\\frac{t^{2}}{s} - \\frac{2t}{s^{2}} - \\frac{2}{s^{3}}\\right)e^{-st}\\right|_{0}^{\\infty} = 3\\left(\\left(-\\frac{\\infty^{2}}{s} - \\frac{2\\infty}{s^{2}} - \\frac{2}{s^{3}}\\right)e^{-s\\infty} - \\left(-\\frac{0^{2}}{s} - \\frac{2\\cdot0}{s^{2}} - \\frac{2}{s^{3}}\\right)e^{-s\\cdot0}\\right) =^{*}\\boxed{\\frac{6}{s^{3}}}$$\n",
    "\n",
    "$^{*}$Note que $lim_{t \\rightarrow \\infty}P(t)e^{-st} = 0$ para todo polinômio. Para ver isto basta aplicar L'Hôpital ao quociente $\\frac{P(t)}{e^{st}}$ $n+1$ vezes em que $n$ é o grau de $P(t)$. Portanto,\n",
    "\n",
    "$$lim_{t \\rightarrow \\infty} \\left(-\\frac{t^{2}}{s} - \\frac{2t}{s^{2}} - \\frac{2}{s^{3}}\\right)e^{-st} = 0.$$"
   ]
  },
  {
   "cell_type": "markdown",
   "id": "93636152",
   "metadata": {},
   "source": [
    "##### Solução Computacional"
   ]
  },
  {
   "cell_type": "code",
   "execution_count": null,
   "id": "93d5f841",
   "metadata": {},
   "outputs": [],
   "source": [
    "import sympy as sp\n",
    "\n",
    "# Definindo as variáveis simbólicas\n",
    "t, s = sp.symbols('t s')"
   ]
  },
  {
   "cell_type": "code",
   "execution_count": null,
   "id": "802dd577",
   "metadata": {},
   "outputs": [],
   "source": [
    "# Cálculo da transformada\n",
    "F = sp.laplace_transform(3*t**2, t, s, noconds=True)\n",
    "\n",
    "# Exibindo a Transformada\n",
    "F"
   ]
  },
  {
   "cell_type": "markdown",
   "id": "6fad52cf",
   "metadata": {},
   "source": [
    "#### Questão 5 da Lista da Unidade I"
   ]
  },
  {
   "cell_type": "markdown",
   "id": "b18f465f",
   "metadata": {},
   "source": [
    "Use a trabela de transformadas para calcular a transformada de Laplace de $f(t) = tsen(t) - t^{3}$."
   ]
  },
  {
   "cell_type": "markdown",
   "id": "e07c21b4",
   "metadata": {},
   "source": [
    "##### Solução Escrita"
   ]
  },
  {
   "cell_type": "markdown",
   "id": "4d3d8e4b",
   "metadata": {},
   "source": [
    "Temos que\n",
    "\n",
    "$$\\overline{f}(s) = \\mathscr{L}[f(t)] = \\mathscr{L}[tsen(t) - t^{3}] = \\underset{i}{\\underbrace{\\mathscr{L}[tsen(t)]}} - \\underset{i}{\\underbrace{\\mathscr{L}[t^{3}]}}$$\n",
    "\n",
    "i) $\\mathscr{L}[tsen(t)]$\n",
    "\n",
    "Temos que $\\mathscr{L}[t^{n}g(t)] = (-1)^{n}\\frac{d^{n}}{ds^{n}}\\left(\\mathscr{L}[g(t)] \\right)$ donde segue que:\n",
    "\n",
    "$$\\mathscr{L}[tsen(t)] = (-1)^{1}\\frac{d}{ds}\\left(\\mathscr{L}[sen(t)] \\right) = -\\frac{d}{ds}\\left(\\frac{1}{s^{2}+1^{2}}\\right) = -\\frac{d}{ds}\\left((s^{2}+1)^{-1}\\right) =(s^{2} + 1)^{-2}\\cdot2s = \\frac{2s}{(s^{2}+1)^{2}}$$\n",
    "\n",
    "ii) $\\mathscr{L}[t^{3}]$\n",
    "\n",
    "Temos que $\\mathscr{L}[t^{n}] = \\frac{n!}{s^{n+1}}$ donde segue que\n",
    "\n",
    "$$\\mathscr{L}[t^{3}] = \\frac{3!}{s^{3+1}} = \\frac{6}{s^{4}}$$\n",
    "\n",
    "Portanto,\n",
    "\n",
    "$$\\overline{f}(s) = \\boxed{\\frac{2s}{(s^{2}+1)^{2}} + \\frac{6}{s^{4}}}$$"
   ]
  },
  {
   "cell_type": "markdown",
   "id": "7fc623f4",
   "metadata": {},
   "source": [
    "##### Solução Computacional"
   ]
  },
  {
   "cell_type": "code",
   "execution_count": null,
   "id": "fec1a989",
   "metadata": {},
   "outputs": [],
   "source": [
    "import sympy as sp\n",
    "\n",
    "# Definindo as variáveis simbólicas\n",
    "t, s = sp.symbols('t s')"
   ]
  },
  {
   "cell_type": "code",
   "execution_count": null,
   "id": "11442ee2",
   "metadata": {},
   "outputs": [],
   "source": [
    "# Cálculo da transformadas de tsin(t) e t^3\n",
    "F_1 = sp.laplace_transform(t*sp.sin(t), t, s, noconds=True)\n",
    "F_2 = sp.laplace_transform(t**3, t, s, noconds=True)\n",
    "\n",
    "# Exibindo a Transformada\n",
    "F_1+F_2"
   ]
  },
  {
   "cell_type": "markdown",
   "id": "8ecb55d6",
   "metadata": {},
   "source": [
    "#### Questão 6 da Lista da Unidade I"
   ]
  },
  {
   "cell_type": "markdown",
   "id": "82211c03",
   "metadata": {},
   "source": [
    "Determine a transformada inversa de Laplace da função $F(s) = \\frac{3s^{2} + 2s + 7}{(s+2)(s^{2}+1)}$."
   ]
  },
  {
   "cell_type": "markdown",
   "id": "9a136abe",
   "metadata": {},
   "source": [
    "##### Solução Escrita"
   ]
  },
  {
   "cell_type": "markdown",
   "id": "226f1504",
   "metadata": {},
   "source": [
    "Uma vez que o denominador está fatorado o trabalho pode não ser, aparentemente, tão penoso. Podemos decompor $\\frac{3s^{2} + 2s + 7}{(s+2)(s^{2}+1)}$ em frações parciais. Pois bem,\n",
    "\n",
    "$$\\frac{3s^{2} + 2s + 7}{(s+2)(s^{2}+1)} = \\frac{A}{s+2} + \\frac{Bs+C}{s^{2}+1} = \\frac{A(s^{2}+1) + (Bs+c)(s+2)}{(s+2)(s^{2}+1)} = \\frac{As^{2} + A + Bs^{2} + 2Bs + Cs + 2C}{(s+2)(s^{2}+1)} = $$\n",
    "\n",
    "$$ = \\frac{(A+B)s^{2} + (2B + C)s + (A + 2C)}{(s+2)(s^{2}+1)} \\Leftrightarrow \n",
    "\\left\\{\\begin{array}{ccc}\n",
    "A + B & = & 3 \\\\\n",
    "2B + C & = & 2 \\\\\n",
    "A + 2C & = & 7\\end{array}\\right.$$\n",
    "\n",
    "Resolvendo o sistema, temos:\n",
    "\n",
    "$A = 3$, $B = 0$ e $C = 2$. Portanto, $F(s) = \\frac{3}{s+2} + \\frac{2}{s^{2}+1}$.\n",
    "\n",
    "Por fim,\n",
    "\n",
    "$$\\overline{f}(s) = \\mathscr{L}^{-1}\\left[\\frac{3}{s+2} + \\frac{2}{s^{2}+1}\\right] = 3\\mathscr{L}^{-1}\\left[\\frac{1}{s+2} \\right] + 3\\mathscr{L}^{-1}\\left[\\frac{1}{s^{2}+1}\\right] =$$\n",
    "\n",
    "$$= (3e^{-2t} + 2sin(t))u(t) = \\boxed{\\left\\{\\begin{array}{cc}\n",
    "3e^{-2t} + 2sen(t) & t \\geq 0 \\\\\n",
    "0 & t < 0 \\\\ \n",
    "\\end{array}\\right.}$$\n",
    "\n",
    "*Veja regras de decomposição em frações parciais no final deste material.*"
   ]
  },
  {
   "cell_type": "markdown",
   "id": "2aaeea3b",
   "metadata": {},
   "source": [
    "##### Solução Computacional"
   ]
  },
  {
   "cell_type": "code",
   "execution_count": 1,
   "id": "4e27b682",
   "metadata": {},
   "outputs": [],
   "source": [
    "import sympy as sp\n",
    "\n",
    "# Definindo as variáveis simbólicas\n",
    "t, s = sp.symbols('t s')"
   ]
  },
  {
   "cell_type": "code",
   "execution_count": 2,
   "id": "2112c3ce",
   "metadata": {},
   "outputs": [
    {
     "data": {
      "text/latex": [
       "$\\displaystyle \\left(2 e^{2 t} \\sin{\\left(t \\right)} + 3\\right) e^{- 2 t} \\theta\\left(t\\right)$"
      ],
      "text/plain": [
       "(2*exp(2*t)*sin(t) + 3)*exp(-2*t)*Heaviside(t)"
      ]
     },
     "execution_count": 2,
     "metadata": {},
     "output_type": "execute_result"
    }
   ],
   "source": [
    "# Função G na variável s\n",
    "F = (3*s**2 + 2*s + 7)/((s+2)*(s**2+1))\n",
    "\n",
    "# Transformada inversa de G\n",
    "f = sp.inverse_laplace_transform(F, s, t)\n",
    "\n",
    "# Exibindo a transformada inversa de G\n",
    "f"
   ]
  },
  {
   "cell_type": "markdown",
   "id": "cf690055",
   "metadata": {},
   "source": [
    "#### Questão 7 da Lista da Unidade I"
   ]
  },
  {
   "cell_type": "markdown",
   "id": "12fe7595",
   "metadata": {},
   "source": [
    "Calcule a convolução das funções $f(t) = t$ e $g(t) = sen(t)$."
   ]
  },
  {
   "cell_type": "markdown",
   "id": "1c61e8b6",
   "metadata": {},
   "source": [
    "##### Solução Escrita"
   ]
  },
  {
   "cell_type": "markdown",
   "id": "80a1ed5c",
   "metadata": {},
   "source": [
    "Temos que\n",
    "\n",
    "$$(f*g)(t) = \\int_{0}^{t}f(u)g(t-u)du = \\underbrace{\\int_{0}^{t}usen(t-u)du}$$\n",
    "\n",
    "$\\underbrace{\\begin{array}{ccc}\n",
    "k = u & & dv = sen(t-u)du \\\\\n",
    "dk = du & & v = -cos(t-u)\\cdot(-1) = cos(t-u)\\\\\n",
    "\\end{array}}$\n",
    "\n",
    "$$= \\left.\\left(ucos(t-u) - \\int cos(t-u)du\\right)\\right|_{0}^{t} = \\left.\\left(ucos(t-u)-sen(t-u)(-1) \\right)\\right|_{0}^{t} = \\left.\\left(ucos(t-u)+sen(t-u) \\right)\\right|_{0}^{t} =$$ \n",
    "\n",
    "$$ = \\left(tcos(t-t)+sen(t-t)\\right) - \\left(0\\cdot cos(t-0)+sen(t-0)\\right) = \\left(tcos(0) + sen(0)\\right) - (0\\cdot cos(t) + sen(t)) = \\boxed{t - sen(t)}$$"
   ]
  },
  {
   "cell_type": "markdown",
   "id": "f48deca8",
   "metadata": {},
   "source": [
    "##### Solução Computacional"
   ]
  },
  {
   "cell_type": "code",
   "execution_count": 5,
   "id": "c5344bad",
   "metadata": {},
   "outputs": [],
   "source": [
    "import sympy as sp\n",
    "\n",
    "# Definindo as variáveis\n",
    "t, u = sp.symbols('t u')\n",
    "\n",
    "# Definindo as funções f(t) e g(t)\n",
    "f_t = u  # Note que estamos substituindo u aqui, pois a integração é em relação a u\n",
    "g_t = sp.sin(t-u)\n",
    "\n",
    "# Definindo a convolução\n",
    "convolucao = sp.integrate(f_t * g_t, (u, 0, t))"
   ]
  },
  {
   "cell_type": "code",
   "execution_count": 6,
   "id": "4d081921",
   "metadata": {},
   "outputs": [
    {
     "data": {
      "text/latex": [
       "$\\displaystyle t - \\sin{\\left(t \\right)}$"
      ],
      "text/plain": [
       "t - sin(t)"
      ]
     },
     "execution_count": 6,
     "metadata": {},
     "output_type": "execute_result"
    }
   ],
   "source": [
    "# Exibindo a convolução\n",
    "convolucao"
   ]
  },
  {
   "cell_type": "markdown",
   "id": "33389418",
   "metadata": {},
   "source": [
    "#### Questão 8 da Lista da Unidade I"
   ]
  },
  {
   "cell_type": "markdown",
   "id": "20f31592",
   "metadata": {},
   "source": [
    "Use transformada de Laplace para resolver o PVI:\n",
    "\n",
    "$$\\frac{dy}{dt} + 3y = t^2, \\ \\ y(0) = 1.$$"
   ]
  },
  {
   "cell_type": "markdown",
   "id": "ef777ded",
   "metadata": {},
   "source": [
    "##### Solução Escrita"
   ]
  },
  {
   "cell_type": "markdown",
   "id": "c974a0f0",
   "metadata": {},
   "source": [
    "Temos que\n",
    "\n",
    "$$\\frac{dy}{dt} + 3y = t^{2} \\Rightarrow \\mathscr{L}\\left[\\frac{dy}{dt} + 3y \\right] = \\mathscr{L}[t^{2}] \\Rightarrow (sY(s) - y(0)) + 3Y(s) = \\frac{2!}{s^{2+1}} \\Rightarrow (s+3)Y(s) -1 = \\frac{2}{s^{3}} \\Rightarrow $$\n",
    "\n",
    "$$ \\Rightarrow (s+3)Y(s) = 1 + \\frac{2}{s^{3}} \\Rightarrow Y(s) = \\frac{1}{s+3} + \\frac{2}{s^{3}(s+3)} \\Rightarrow y(t) = \\mathscr{L}^{-1}\\left[\\frac{1}{s+3} + \\frac{2}{s^{3}(s+3)} \\right]$$\n",
    "\n",
    "Devemos decompor $\\frac{2}{s^{3}(s+3)}$ em frações parciais. Pois bem,\n",
    "\n",
    "$$\\frac{2}{s^{3}(s+3)} = \\frac{A}{s} + \\frac{B}{s^{2}} + \\frac{C}{s^{3}} + \\frac{C}{s+3} = \\frac{As^{2}(s+3) + Bs(s+3) + C(s+3) + Ds^{3}}{s^{3}(s+3)} =$$\n",
    "\n",
    "$$= \\frac{As^{3} + 3As^{2} + Bs^{2} + 3Bs + Cs + 3C + Ds^{3}}{s^{3}(s+3)} = \\frac{(A+D)s^{3} + (3A + B)s^{2} + (3B + C)s + 3C}{s^{3}(s+3)} \\Leftrightarrow $$\n",
    "\n",
    "$$\\Leftrightarrow \\left\\{\\begin{array}{ccc}\n",
    "A + D = 0 \\\\\n",
    "3A + B = 0 \\\\\n",
    "3B + C = 0 \\\\\n",
    "3C = 2 \\end{array} \\right.\\Rightarrow A = \\frac{2}{27}, \\ B = -\\frac{2}{9}, \\ C = \\frac{2}{3} \\ \\ \\text{e} \\ \\ D = -\\frac{2}{27}$$\n",
    "\n",
    "Assim,\n",
    "\n",
    "$$\\frac{1}{s+3} + \\frac{2}{s^{3}(s+3)} = \\frac{1}{s+3} + \\frac{2/27}{s} + \\frac{-2/9}{s^{2}} + \\frac{2/3}{s^{3}} + \\frac{-2/27}{s+3} = \\frac{25}{27}\\frac{1}{s+3} + \\frac{2}{27}\\frac{1}{s} -\\frac{2}{9}\\frac{1!}{s^{2}} + \\frac{1}{3}\\frac{2}{s^{2+1}}$$\n",
    "\n",
    "Portanto,\n",
    "\n",
    "$$y(t) = \\mathscr{L}^{-1}\\left[\\frac{25}{27}\\frac{1}{s+3} + \\frac{2}{27}\\frac{1}{s} -\\frac{2}{9}\\frac{1!}{s^{2}} + \\frac{1}{3}\\frac{2}{s^{2+1}}\\right] =$$\n",
    "\n",
    "$$=\\frac{25}{27}\\mathscr{L}^{-1}\\left[\\frac{1}{s+3}\\right] + \\frac{2}{27}\\mathscr{L}^{-1}\\left[\\frac{1}{s}\\right] -\\frac{2}{9}\\mathscr{L}^{-1}\\left[\\frac{1!}{s^{2}}\\right] + \\frac{1}{3}\\mathscr{L}^{-1}\\left[\\frac{2}{s^{2+1}}\\right] = $$\n",
    "\n",
    "$$ = \\boxed{\\frac{25}{27}e^{-3t} + \\frac{2}{27} - \\frac{2t}{9} + \\frac{t^{2}}{3}}$$"
   ]
  },
  {
   "cell_type": "markdown",
   "id": "5115b21b",
   "metadata": {},
   "source": [
    "##### Solução Computacional"
   ]
  },
  {
   "cell_type": "code",
   "execution_count": 1,
   "id": "d57eb507",
   "metadata": {},
   "outputs": [],
   "source": [
    "import sympy as sp\n",
    "\n",
    "# Definindo a variável independente e a função desconhecida\n",
    "t = sp.symbols('t')\n",
    "y = sp.Function('y')(t)\n",
    "\n",
    "# Definindo a equação diferencial não homogênea\n",
    "equacao = sp.Eq(y.diff(t) + 3*y, t**2)"
   ]
  },
  {
   "cell_type": "code",
   "execution_count": 2,
   "id": "eb901443",
   "metadata": {},
   "outputs": [
    {
     "data": {
      "text/latex": [
       "$\\displaystyle y{\\left(t \\right)} = \\frac{t^{2}}{3} - \\frac{2 t}{9} + \\frac{2}{27} + \\frac{25 e^{- 3 t}}{27}$"
      ],
      "text/plain": [
       "Eq(y(t), t**2/3 - 2*t/9 + 2/27 + 25*exp(-3*t)/27)"
      ]
     },
     "execution_count": 2,
     "metadata": {},
     "output_type": "execute_result"
    }
   ],
   "source": [
    "# Resolvendo a equação diferencial com condições iniciais\n",
    "condicoes_iniciais = {y.subs(t, 0): 1}\n",
    "pvi = sp.dsolve(equacao, y, ics=condicoes_iniciais)\n",
    "pvi"
   ]
  }
 ],
 "metadata": {
  "kernelspec": {
   "display_name": "Python 3 (ipykernel)",
   "language": "python",
   "name": "python3"
  },
  "language_info": {
   "codemirror_mode": {
    "name": "ipython",
    "version": 3
   },
   "file_extension": ".py",
   "mimetype": "text/x-python",
   "name": "python",
   "nbconvert_exporter": "python",
   "pygments_lexer": "ipython3",
   "version": "3.11.5"
  }
 },
 "nbformat": 4,
 "nbformat_minor": 5
}

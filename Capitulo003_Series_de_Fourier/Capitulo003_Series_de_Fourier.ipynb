{
 "cells": [
  {
   "cell_type": "markdown",
   "id": "d4ea28a8",
   "metadata": {
    "slideshow": {
     "slide_type": "slide"
    }
   },
   "source": [
    "<center> <img src=\"logo_ifba.jpg\" alt=\"jpg_python\" width=\"100\" height=\"200\"> </center>\n",
    "<br><br>\n",
    "<div align=\"center\"><span style=\"font-size: 26px;\"><strong>Métodos Matemáticos Para Engenharia <br></strong></span></div> <br>\n",
    "<center> <img src=\"python_gif.gif\" alt=\"gif_python\" width=\"80\"> </center>\n"
   ]
  },
  {
   "cell_type": "markdown",
   "id": "d76184a7",
   "metadata": {
    "slideshow": {
     "slide_type": "slide"
    }
   },
   "source": [
    "<div style=\"border: 2px solid black; padding: 10px; width: 95%; background-color: lightgray; display: flex; align-items: center;\">\n",
    "    <h1 style=\"color: red; text-align: center; margin: auto;\">\n",
    "        Capítulo 3: Séries de Fourier\n",
    "    </h1>\n",
    "</div>\n",
    "\n",
    "<font color='red'></font>\n",
    "<a href=\"\"></a>"
   ]
  },
  {
   "cell_type": "markdown",
   "id": "7142d16f",
   "metadata": {},
   "source": [
    "As séries de Fourier são representações de funções através da soma de termos de senos e cossenos. Essas séries são úteis especialmente porque podem descrever funções que não são contínuas ou diferenciáveis em todos os lugares. Os termos trigonométricos utilizados nas séries de Fourier são vantajosos por serem fáceis de diferenciar e integrar, possuírem módulos facilmente calculáveis e cada termo incluir apenas uma frequência característica. Isso é crucial, pois as séries de Fourier são frequentemente aplicadas para analisar a resposta de sistemas a entradas periódicas, com a resposta muitas vezes dependendo do conteúdo de frequência da entrada."
   ]
  },
  {
   "cell_type": "markdown",
   "id": "b07317db",
   "metadata": {},
   "source": [
    "# <div style=\"margin-top: -20px;\">\n",
    "<hr style=\"border: 2px solid black;\">\n",
    "\n",
    "<font color='black'><span style=\"font-size: 22px;\"><strong>3.1 Funções Periódicas</strong></span></font>\n",
    "\n",
    "<hr style=\"border: 2px solid black;\">\n",
    "</div>"
   ]
  },
  {
   "cell_type": "markdown",
   "id": "bef0a1fc",
   "metadata": {},
   "source": [
    "#### <font color='red'> Definição 1 (Função Periódica) </font>"
   ]
  },
  {
   "cell_type": "markdown",
   "id": "1c387cac",
   "metadata": {},
   "source": [
    "<font color='red'> Uma função $f(x)$ é dita ter período $T$ ou ser periódica com período $T$ se para todo $x$, $f(x+T) = f(x)$, em que $T$ é uma constante positiva. O menor valor de $T > 0$ é chamado de período mínimo ou simplesmente período de $f(x)$."
   ]
  },
  {
   "cell_type": "markdown",
   "id": "63f3728a",
   "metadata": {},
   "source": [
    "#### <font color='blue'> Exemplo 1 </font>"
   ]
  },
  {
   "cell_type": "markdown",
   "id": "2736b47b",
   "metadata": {},
   "source": [
    "<font color='blue'> Verifique quais das funções a seguir são periódicas em $\\mathbb{R}$:<br><br>\n",
    " a) $f(x) = sen(x)$<br><br>\n",
    " b) $g(x) = cos(3x)$<br><br>\n",
    " c) $h(x) = x^{2}$<br><br>\n",
    " d) $s(x) = 3$"
   ]
  },
  {
   "cell_type": "markdown",
   "id": "341ce8b9",
   "metadata": {},
   "source": [
    "##### <font color='blue'> Solução </font>"
   ]
  },
  {
   "cell_type": "markdown",
   "id": "6407f19f",
   "metadata": {},
   "source": [
    "<font color='blue'> a) Note que $sen(x + 2\\pi) = sen(x)$ para todo $x \\in \\mathbb{R}$. Assim, $f(x) = sen(x)$ é periódica com período $T = 2\\pi$.<br><br>\n",
    " b) Para que $g(x) = cos(3x)$ seja periódica devemos obter $T$ tal que $cos(3(x+T)) = cos(3x)$. Note que $cos(3(x+T)) = cos(3x + 3T)$ donde segue que $3T$ necessita ser múltiplo de $2\\pi$. Assim, $3T = 2\\pi \\Rightarrow T = \\frac{2\\pi}{3}$. Note que $cos\\left(3\\left(x + \\frac{2\\pi}{3}\\right)\\right) = cos(3x + 2\\pi) = cos(3x)$. Como $cos(x + 2\\pi) = cos(x)$ (análogamente ao $sen(x)$), temos que $cos(3x)$ é periódica.<br><br>\n",
    " c) Suponhamos que exista $T$ tal que $h(x + T) = h(x)$. Pois bem,<br><br>\n",
    " $$h(x+T) = h(x) \\Rightarrow (x+T)^{2} = x^{2} \\Rightarrow x^{2} + 2xT + T^{2} = x^{2} \\Rightarrow 2xT + T^{2} = 0 \\Rightarrow T = 0 \\ \\text{ou} \\ x = -\\frac{T}{2}$$<br><br>\n",
    " Note que esta equação deveria ser válida para $T > 0$ e todo $x$ e não somente $x = -\\frac{T}{2}$. Portanto, $h(x) = x^{2}$ não é periódica.<br><br>\n",
    " d) Note que $s(x) = 3$ é tal que $s(x + T) = s(x)$ para todo $T \\in \\mathbb{R}$. Portanto, $s(x)$ é periódica com período $T$ qualquer."
   ]
  },
  {
   "cell_type": "markdown",
   "id": "55b949e0",
   "metadata": {},
   "source": [
    "#### <font color='blue'> Exemplo 2</font>"
   ]
  },
  {
   "cell_type": "markdown",
   "id": "527913d5",
   "metadata": {},
   "source": [
    "<font color='blue'> Faça o gráfico de cada uma das seguintes funções:<br><br>\n",
    "a) $f(x) = \\left\\{ \\begin{array}{}\n",
    "3 &  \\ \\ \\ 0 < x < 5 \\\\\n",
    " 0 & -5 < x < 0 \\end{array}\\right. \\ \\ \\ T = 10$ <br><br>\n",
    " b) $g(x) = \\left\\{ \\begin{array}{}\n",
    "  sen(x) &  \\ \\ \\ 0 < x < \\pi \\\\ \n",
    "  \\ \\ \\ 0 & \\ \\ \\ \\pi < x < 2\\pi \\end{array}\\right. \\ \\ \\ T = 2\\pi$<br><br>\n",
    "    c) $h(x) = x^{2}, \\ 0\\leq x \\leq 2\\pi, \\ T = 2\\pi$<br><br>\n",
    "    d) $k(x) = x^{2}, \\ -\\pi \\leq x \\leq \\pi, \\ T = 2\\pi$<br><br>\n",
    "    e) $r(x) = x, \\ -\\pi \\leq x \\leq \\pi, \\ T = 2\\pi$<br><br>\n",
    "    f) $s(x) = |x|, \\ -\\pi \\leq x \\leq \\pi, \\ T = 2\\pi$"
   ]
  },
  {
   "cell_type": "markdown",
   "id": "53bab784",
   "metadata": {},
   "source": [
    "##### <font color='blue'> Solução </font>"
   ]
  },
  {
   "cell_type": "markdown",
   "id": "cd68a2a9",
   "metadata": {},
   "source": [
    "<font color='blue'> Optamos por apresentar os gráficos via código Python. Todos eles serão bastante importantes neste capítulo. Faça um esforço para entender cada código uma vez que tais gráficos são parte essencial dos exemplos que se seguirão.<br><br>\n",
    " <font color='blue'> Em princípio vamos definir cada uma das funções:"
   ]
  },
  {
   "cell_type": "code",
   "execution_count": null,
   "id": "b2abce67",
   "metadata": {},
   "outputs": [],
   "source": [
    "import numpy as np\n",
    "\n",
    "# Definindo f\n",
    "def f(x):\n",
    "    x = ((x + 5) % 10) - 5 # Normalizar x para o intervalo [-5, 5)\n",
    "    if -5 < x < 0:\n",
    "        return 0\n",
    "    elif 0 < x < 5:\n",
    "        return 3\n",
    "    else:\n",
    "        # Trata o caso das bordas onde x é exatamente -5 ou 5, que não deve acontecer após a normalização\n",
    "        return 1.5 # Escolhemos a média de 0 e 3\n",
    "    \n",
    "# Domínio e imagem de f (ajuste para ver o gráfico a seguir em mais ou menos pontos)    \n",
    "x_values_f = np.linspace(-15, 15, 400)\n",
    "y_values_f = [f(x) for x in x_values_f]\n",
    "\n",
    "\n",
    "# Definindo g\n",
    "def g(x):\n",
    "    x = x % (2 * np.pi)\n",
    "    if 0 < x < np.pi:\n",
    "        return np.sin(x)\n",
    "    else:\n",
    "        return 0\n",
    "    \n",
    "# Domínio e imagem de g     \n",
    "x_values_g = np.linspace(-4 * np.pi, 4 * np.pi, 400)\n",
    "y_values_g = [g(x) for x in x_values_g]\n",
    "\n",
    "\n",
    "# Definindo h    \n",
    "def h(x):\n",
    "    x = x % (2 * np.pi)\n",
    "    return x**2\n",
    "\n",
    "# Domínio e imagem de h\n",
    "x_values_h = np.linspace(-4 * np.pi, 4 * np.pi, 800)\n",
    "y_values_h = [h(x) for x in x_values_h]\n",
    "\n",
    "\n",
    "# Definindo k\n",
    "def k(x):\n",
    "    x = (x + np.pi) % (2 * np.pi) - np.pi\n",
    "    return x**2\n",
    "\n",
    "# Domínio e imagem de k\n",
    "x_values_k = np.linspace(-4 * np.pi, 4 * np.pi, 800)\n",
    "y_values_k = [k(x) for x in x_values_k]\n",
    "\n",
    "\n",
    "# Definindo r\n",
    "def r(x):\n",
    "    x = (x + np.pi) % (2 * np.pi) - np.pi\n",
    "    return x\n",
    "\n",
    "# Domínio e imagem de r\n",
    "x_values_r = np.linspace(-4 * np.pi, 4 * np.pi, 800)\n",
    "y_values_r = [r(x) for x in x_values_r]\n",
    "\n",
    "\n",
    "# Definindo s\n",
    "def s(x):\n",
    "    x = (x + np.pi) % (2 * np.pi) - np.pi\n",
    "    return abs(x)\n",
    "\n",
    "# Domínio e imagem de s\n",
    "x_values_s = np.linspace(-4 * np.pi, 4 * np.pi, 800)\n",
    "y_values_s = [s(x) for x in x_values_s]"
   ]
  },
  {
   "cell_type": "markdown",
   "id": "44c1548d",
   "metadata": {},
   "source": [
    "<font color='blue'> Agora vejamos os gráficos:"
   ]
  },
  {
   "cell_type": "code",
   "execution_count": null,
   "id": "4f2959e0",
   "metadata": {},
   "outputs": [],
   "source": [
    "# Gerar gráficos\n",
    "import matplotlib.pyplot as plt\n",
    "\n",
    "\n",
    "plt.figure(figsize=(18, 12))\n",
    "\n",
    "# plot de f\n",
    "plt.subplot(2, 4, 1)\n",
    "plt.plot(x_values_f, y_values_f)\n",
    "plt.title('f(x)')\n",
    "plt.axhline(0, color='black',linewidth=0.5)\n",
    "plt.axvline(0, color='black',linewidth=0.5)\n",
    "plt.grid(True)\n",
    "\n",
    "# plot de g\n",
    "plt.subplot(2, 4, 2)\n",
    "plt.plot(x_values_g, y_values_g)\n",
    "plt.title('g(x)')\n",
    "plt.axhline(0, color='black',linewidth=0.5)\n",
    "plt.axvline(0, color='black',linewidth=0.5)\n",
    "plt.grid(True)\n",
    "\n",
    "# plot de h\n",
    "plt.subplot(2, 4, 3)\n",
    "plt.plot(x_values_h, y_values_h)\n",
    "plt.title('h(x)')\n",
    "plt.axhline(0, color='black',linewidth=0.5)\n",
    "plt.axvline(0, color='black',linewidth=0.5)\n",
    "plt.grid(True)\n",
    "\n",
    "# plot de k\n",
    "plt.subplot(2, 4, 4)\n",
    "plt.plot(x_values_k, y_values_k)\n",
    "plt.title('k(x)')\n",
    "plt.axhline(0, color='black',linewidth=0.5)\n",
    "plt.axvline(0, color='black',linewidth=0.5)\n",
    "plt.grid(True)\n",
    "\n",
    "# plot de r\n",
    "plt.subplot(2, 4, 5)\n",
    "plt.plot(x_values_r, y_values_r)\n",
    "plt.title('r(x)')\n",
    "plt.axhline(0, color='black',linewidth=0.5)\n",
    "plt.axvline(0, color='black',linewidth=0.5)\n",
    "plt.grid(True)\n",
    "\n",
    "# plot de s\n",
    "plt.subplot(2, 4, 6)\n",
    "plt.plot(x_values_s, y_values_s)\n",
    "plt.title('s(x)')\n",
    "plt.axhline(0, color='black',linewidth=0.5)\n",
    "plt.axvline(0, color='black',linewidth=0.5)\n",
    "plt.grid(True)"
   ]
  },
  {
   "cell_type": "markdown",
   "id": "c4cd98b0",
   "metadata": {},
   "source": [
    "<font color='blue'> Sendo estes, gráficos simples, recomendados esboçá-los, também a mão."
   ]
  },
  {
   "cell_type": "markdown",
   "id": "5d275b61",
   "metadata": {},
   "source": [
    "# <div style=\"margin-top: -20px;\">\n",
    "<hr style=\"border: 2px solid black;\">\n",
    "\n",
    "<font color='black'><span style=\"font-size: 22px;\"><strong>3.2 Série de Fourier</strong></span></font>\n",
    "\n",
    "<hr style=\"border: 2px solid black;\">\n",
    "</div>"
   ]
  },
  {
   "cell_type": "markdown",
   "id": "677af377",
   "metadata": {},
   "source": [
    "#### A Série de Fourier"
   ]
  },
  {
   "cell_type": "markdown",
   "id": "ff62aaad",
   "metadata": {},
   "source": [
    "Seja $f$ uma função definida, no intervalo $(-L,L)$ e fora dele, por $f(x+2L) = f(x)$, isto é, adimitamos que $f(x)$ tem período $2L$. A série de Fourier correspondente a $f(x)$ é dada por:\n",
    "\n",
    "<font color='red'>$$\\frac{a_{0}}{2} + \\sum_{n=1}^{\\infty} \\left(a_{n}cos\\left(\\frac{n\\pi x}{L}\\right) + b_{n}sen\\left(\\frac{n\\pi x}{L}\\right) \\right) \\tag{1}$$</font>\n",
    "\n",
    "em que os coeficientes de Fourier $a_{n}$ e $b_{n}$ são:\n",
    "\n",
    "<font color='red'>$$\\left\\{ \\begin{array}{}\n",
    " a_{n}  =  \\frac{1}{L} \\int_{-L}^{L} f(x)cos\\left(\\frac{n\\pi x}{L}\\right) dx \\\\\n",
    " b_{n}  =  \\frac{1}{L} \\int_{-L}^{L} f(x)sen\\left(\\frac{n\\pi x}{L}\\right) dx \\end{array}\\right. \\ \\ \\ n = 0,1,2,... \\tag{2}$$</font>\n",
    " \n",
    "Se $f(x)$ tem período $2L$, podemos determinar os coeficientes $a_{n}$ e $b_{n}$, da seguinte forma:\n",
    "\n",
    "<font color='red'>$$\\left\\{ \\begin{array}{}\n",
    " a_{n}  =  \\frac{1}{L} \\int_{c}^{c+2L} f(x)cos\\left(\\frac{n\\pi x}{L}\\right) dx \\\\\n",
    " b_{n}  =  \\frac{1}{L} \\int_{c}^{c+2L} f(x)sen\\left(\\frac{n\\pi x}{L}\\right) dx \\end{array}\\right. \\ \\ \\ n = 0,1,2,... \\tag{3}$$</font>\n",
    " \n",
    "em que $c$ é um número real qualquer. Tomando $c = -L$ podemos mostrar que \n",
    "\n",
    "<font color='red'>$$a_{0} = \\frac{1}{L}\\int_{-L}^{L} f(x) dx \\tag{4}.$$\n",
    "\n",
    "Note que $\\frac{a_{0}}{2}$ é o valor médio de $f(x)$ durante um período.\n",
    "\n",
    "No próximo exemplo utizaremos a série de Fourier para aproximar a função:\n",
    "\n",
    "$$f(x) = \\left\\{ \\begin{array}{}\n",
    " 3 &  0 < x < 5 \\\\\n",
    " 0 & -5 < x < 0 \\end{array}\\right. \\ \\ \\ T = 10$$<br>\n",
    " \n",
    "<img src=\"fig1_9.png\" alt=\"jpg_python\" width=\"800\" height=\"\">"
   ]
  },
  {
   "cell_type": "markdown",
   "id": "55640c41",
   "metadata": {},
   "source": [
    "#### <font color='blue'> Exemplo 3 </font>"
   ]
  },
  {
   "cell_type": "markdown",
   "id": "82ccc76c",
   "metadata": {},
   "source": [
    "<font color='blue'> Considere a função<br><br>\n",
    " $$f(x) = \\left\\{ \\begin{array}{}\n",
    " 3 &  0 < x < 5 \\\\\n",
    " 0 & -5 < x < 0 \\end{array}\\right. \\ \\ \\ T = 10$$<br>\n",
    " a) Encontre os coeficientes de Fourier correspondente à função dada;<br><br>\n",
    " b) Escreva os primeiros termos da série de Fourier correspondente."
   ]
  },
  {
   "cell_type": "markdown",
   "id": "8a4d6dad",
   "metadata": {},
   "source": [
    "##### <font color='blue'> Solução </font>"
   ]
  },
  {
   "cell_type": "markdown",
   "id": "eb87ae80",
   "metadata": {},
   "source": [
    "<font color='blue'> a) Temos que $c = -5$ e $T = 2L = 10 \\Rightarrow L = 5$. Assim,<br><br>\n",
    " $$a_{n} = \\frac{1}{L} \\int_{c}^{c+2L} f(x) cos\\left(\\frac{n\\pi x}{L}\\right) dx = \\frac{1}{5}  \\int_{-5}^{-5+2\\cdot5} f(x)cos\\left(\\frac{n\\pi x}{5}\\right) dx = $$<br>\n",
    " $$= \\frac{1}{5}\\left(\\int_{-5}^{0}0\\cdot cos\\left(\\frac{n\\pi x}{5}\\right) dx + \\int_{0}^{5}3 cos\\left(\\frac{n\\pi x}{5}\\right)\\right) dx = $$<br>\n",
    " $$= \\frac{3}{5}\\int_{0}^{5} cos\\left(\\frac{n\\pi x}{5}\\right) dx = \\frac{3}{5}\\left(\\frac{5}{n\\pi}sen\\left(\\frac{n\\pi x}{5}\\right)\\right)_{0}^{5} = $$<br>\n",
    " $$\\frac{3}{n\\pi}\\left(sen\\left(\\frac{n\\pi5}{5}\\right) - sen\\left(\\frac{n\\pi0}{5}\\right)\\right) = \\frac{3}{n\\pi}\\left(sen(n\\pi) - sen(0)\\right) = 0, \\ \\ n\\neq 0 \\Rightarrow (0,0,0,\\ldots,0)$$<br>\n",
    " Se $n = 0$, temos que<br><br>\n",
    " $$a_{0} = \\frac{1}{5}\\int_{-5}^{5}f(x) dx = \\frac{1}{5} \\left(\\int_{-5}^{0} 0 dx + \\int_{0}^{5} 3 dx\\right) = \\frac{3}{5}\\int_{0}^{5} dx = \\frac{3}{5}x|_{0}^{5} = 3$$<br>\n",
    " $$b_{n} = \\frac{1}{L} \\int_{c}^{c+2L} f(x) sen\\left(\\frac{n\\pi x}{L}\\right) dx = \\frac{1}{5}  \\int_{-5}^{-5+2\\cdot5} f(x)sen\\left(\\frac{n\\pi x}{5}\\right) dx = $$<br>\n",
    " $$= \\frac{1}{5}\\left(\\int_{-5}^{0}0\\cdot sen\\left(\\frac{n\\pi x}{5}\\right) dx + \\int_{0}^{5}3 sen\\left(\\frac{n\\pi x}{5}\\right)\\right) dx = $$<br>\n",
    " $$= \\frac{3}{5}\\int_{0}^{5} sen\\left(\\frac{n\\pi x}{5}\\right) dx = \\frac{3}{5}\\left(-\\frac{5}{n\\pi}cos\\left(\\frac{n\\pi x}{5}\\right)\\right)_{0}^{5}=$$<br>\n",
    " $$= -\\frac{3}{n\\pi}\\left(cos\\left(\\frac{n\\pi5}{5}\\right) - cos\\left(\\frac{n\\pi0}{5}\\right) \\right) = -\\frac{3}{n\\pi}(cos(n\\pi)-cos(0)) = \\frac{3}{n\\pi}(1 - cos(n\\pi)) =$$<br>\n",
    " $$ = \\left(\\frac{3}{\\pi}(1-(-1)),\\frac{3}{2\\pi}(1-1),\\frac{3}{3\\pi}(1-(-1)), \\frac{3}{4\\pi}(1-1), \\frac{3}{5\\pi}(1-(-1)),...\\right) =$$<br>\n",
    " $$= \\left(\\frac{3}{\\pi}\\cdot2,\\frac{3}{2\\pi}\\cdot0,\\frac{3}{3\\pi}\\cdot2, \\frac{3}{4\\pi}\\cdot0, \\frac{3}{5\\pi}\\cdot2,...\\right) = \\frac{6}{\\pi}\\left(1,0,\\frac{1}{3},0,\\frac{1}{5},\\ldots\\right)$$<br>\n",
    " b) A série de Fourier correspondente é<br><br>\n",
    " $$\\frac{a_{0}}{2} + \\sum_{n=1}^{\\infty}\\left(a_{n}cos\\left(\\frac{n\\pi x}{L}\\right) + b_{n}sen\\left(\\frac{n\\pi x}{L}\\right) \\right) = \\frac{3}{2} + \\sum_{n=1}^{\\infty}\\frac{3}{n\\pi}(1 - cos(n\\pi))sen\\left(\\frac{n\\pi x}{5}\\right) = $$<br>\n",
    " $$= \\frac{3}{2} + \\frac{6}{\\pi}\\left(sen\\left(\\frac{\\pi x}{5}\\right) + \\frac{1}{3}sen\\left(\\frac{3\\pi x}{5}\\right) + \\frac{1}{5}sen\\left(\\frac{5\\pi x}{5}\\right) + \\ldots \\right)$$<br>\n",
    " Vejamos como obter os coeficientes no Python:"
   ]
  },
  {
   "cell_type": "code",
   "execution_count": null,
   "id": "e48788fc",
   "metadata": {},
   "outputs": [],
   "source": [
    "from sympy import fourier_series, pi, symbols, Piecewise\n",
    "\n",
    "# Definição dos símbolos\n",
    "x = symbols('x')\n",
    "\n",
    "# Definindo a função piecewise\n",
    "f = Piecewise((0, (x > -5) & (x < 0)), (3, (x >= 0) & (x < 5)), (0, True))\n",
    "\n",
    "# Calculando a série de Fourier da função com período T=10\n",
    "T = 10\n",
    "n = 5\n",
    "s = fourier_series(f, (x, -T/2, T/2)).truncate(n)\n",
    "s"
   ]
  },
  {
   "cell_type": "markdown",
   "id": "64f9416e",
   "metadata": {},
   "source": [
    "<font color='blue'> Vejamos alguns gráficos:"
   ]
  },
  {
   "cell_type": "code",
   "execution_count": null,
   "id": "f5154395",
   "metadata": {},
   "outputs": [],
   "source": [
    "import numpy as np\n",
    "import matplotlib.pyplot as plt\n",
    "from sympy.plotting import plot\n",
    "\n",
    "\n",
    "# Função periódica usando NumPy\n",
    "def f_np(x):\n",
    "    x = x % T  # Torna x periodicamente repetido com período T\n",
    "    return np.where((x >= 0) & (x < 5), 3, 0)\n",
    "\n",
    "# Domínio para o plot\n",
    "x_np = np.linspace(-10, 10, 400)\n",
    "\n",
    "# Cálculo da função e da série em NumPy\n",
    "y_np = f_np(x_np)\n",
    "y_fourier_np = np.array([s.subs(x, val).evalf() for val in x_np])  # Avaliação numérica da série de Fourier\n",
    "\n",
    "# Plotando a função original e as aproximações da série de Fourier\n",
    "plt.figure(figsize=(8, 6))\n",
    "\n",
    "y_fourier_np = np.array([s.subs(x, val).evalf() for val in x_np])  # Avaliação numérica da série de Fourier\n",
    "    \n",
    "plt.plot(x_np, y_np)\n",
    "plt.plot(x_np, y_fourier_np)\n",
    "plt.title(f\"Comparação do gráfico original com a série de Fourier (n={n})\")\n",
    "plt.xlabel(\"x\")\n",
    "plt.ylabel(\"f(x)\")\n",
    "plt.grid(True)\n",
    "\n",
    "plt.tight_layout()\n",
    "plt.show()"
   ]
  },
  {
   "cell_type": "markdown",
   "id": "63306466",
   "metadata": {},
   "source": [
    "As condições particulares que uma função $f(x)$ deve cumprir para que possa ser expandida como uma série de Fourier são conhecidas como condições de Dirichlet:"
   ]
  },
  {
   "cell_type": "markdown",
   "id": "29fc07b5",
   "metadata": {},
   "source": [
    "#### <font color='red'> Teorema 1 (Condições de Dirichlet) </font>"
   ]
  },
  {
   "cell_type": "markdown",
   "id": "90bbb403",
   "metadata": {},
   "source": [
    "<font color='red'>Suponha que<br><br>\n",
    " (i) $f(x)$ é definida e uniforme com possível excessão para um número finito de pontos em $(-L,L)$;<br><br>\n",
    " (ii) $f(x)$ é periódica, fora de $(-L,L)$ com período $2L$;<br><br>\n",
    " (iii) $f(x)$ e $f'(x)$ são seccionalmente contínuas em $(-L,L)$.<br><br>\n",
    " Então, a série $(1)$, com coeficientes $(2)$ e $(3)$, converge para<br><br>\n",
    " (a) $f(x)$ se $x$ é um ponto onde há continuidade;<br><br>\n",
    " (b) $\\frac{lim_{\\epsilon \\to 0^{+}} f(x+\\epsilon) + lim_{\\epsilon \\to 0^{-}} f(x+\\epsilon)}{2}$ se $x$ é um ponto onde há descontinuidade.</font>"
   ]
  },
  {
   "cell_type": "markdown",
   "id": "45201f0c",
   "metadata": {},
   "source": [
    "#### <font color='blue'> Exemplo 4 </font>"
   ]
  },
  {
   "cell_type": "markdown",
   "id": "7b5e5692",
   "metadata": {},
   "source": [
    "<font color='blue'> Considere a função dada no **Exemplo 3**:<br><br>\n",
    " $$f(x) = \\left\\{ \\begin{array}{}\n",
    " 0 &  -5 < x < 0 \\\\\n",
    " 3 & \\ \\ \\ 0 < x < 5 \\end{array}\\right. \\ \\ \\ T = 10$$<br>\n",
    " Como se definirá $f(x)$ para $x = -5$, $x = 0$ e $x = 5$, de modo que a série de Fourier venha a convergir para $f(x)$, com $-5 \\leq x \\leq 5$?"
   ]
  },
  {
   "cell_type": "markdown",
   "id": "60e58a22",
   "metadata": {},
   "source": [
    "##### <font color='blue'> Solução </font>"
   ]
  },
  {
   "cell_type": "markdown",
   "id": "c0bf9776",
   "metadata": {},
   "source": [
    "<font color='blue'>"
   ]
  },
  {
   "cell_type": "markdown",
   "id": "48a97f1e",
   "metadata": {},
   "source": [
    "<font color='blue'> Note que $f(x)$ satisfaz as condições de Dirichlet. Assim, podemos dizer que a série converge para $f(x)$ em todos os pontos de continuidade e para $\\frac{lim_{\\epsilon \\to 0^{+}} f(x+\\epsilon) + lim_{\\epsilon \\to 0^{-}} f(x+\\epsilon)}{2}$ nos pontos de descontinuidade. Para $x = -5, 0 \\ \\text{e} \\ 5$, que são pontos de descontinuidade, a série converge para $\\frac{3+0}{2} = \\frac{3}{2}$. Podemos apresentar uma nova definição de $f(x)$:<br><br>\n",
    " $$f(x) = \\left\\{ \\begin{array}{}\n",
    " \\frac{3}{2} & \\ \\ \\ x = -5 \\\\\n",
    " 0 &  -5 < x < 0 \\\\\n",
    " \\frac{3}{2} & \\ \\ \\ x = 0 \\\\\n",
    " 3 & \\ \\ \\ 0 < x < 5 \\\\\n",
    " \\frac{3}{2} & \\ \\ \\ x = 5 \\end{array}\\right. \\ \\ \\ T = 10$$"
   ]
  },
  {
   "cell_type": "markdown",
   "id": "9e986ef7",
   "metadata": {},
   "source": [
    "#### <font color='blue'> Exemplo 5 </font>"
   ]
  },
  {
   "cell_type": "markdown",
   "id": "f63e9810",
   "metadata": {},
   "source": [
    "<font color='blue'> Determine a série de Fourier de $f(x) = x^{2}$, $0 < x < 2\\pi$ ($T = 2\\pi$):"
   ]
  },
  {
   "cell_type": "markdown",
   "id": "20ce1355",
   "metadata": {},
   "source": [
    "##### <font color='blue'> Solução </font>"
   ]
  },
  {
   "cell_type": "markdown",
   "id": "eb68f0dc",
   "metadata": {},
   "source": [
    "<font color='blue'> Temos que $c = 0$ e $T = 2L = 2\\pi \\Rightarrow L = \\pi$. Assim,<br><br>\n",
    " $$a_{n} = \\frac{1}{L} \\int_{c}^{c+2L} f(x) cos\\left(\\frac{n\\pi x}{L}\\right) dx = \\frac{1}{\\pi}  \\int_{0}^{0+2\\pi} x^{2}cos(nx) dx = $$<br>\n",
    " $$= \\frac{1}{\\pi}\\int_{0}^{2\\pi} x^{2}cos(nx) dx =^{*} \\frac{1}{\\pi}\\left.\\left(x^{2}\\left(\\frac{sen(nx)}{n}\\right) - 2x\\left(\\frac{-cos(nx)}{n^{2}}\\right) + 2\\left(\\frac{-sen(nx)}{n^{3}}\\right)\\right)\\right|_{0}^{2\\pi} = \\frac{1}{\\pi}\\frac{4\\pi}{n^{2}} = \\frac{4}{n^{2}}$$<br>\n",
    " Se $n = 0$, temos que<br><br>\n",
    " $$a_{0} = \\frac{1}{\\pi}\\int_{0}^{2\\pi}x^{2} dx = \\frac{1}{\\pi}\\left.\\frac{x^{3}}{3}\\right|_{0}^{2\\pi} = \\frac{1}{\\pi}\\frac{8\\pi^{3}}{3} = \\frac{8\\pi^{2}}{3}$$<br>\n",
    " $$b_{n} = \\frac{1}{L} \\int_{c}^{c+2L} f(x) sen\\left(\\frac{n\\pi x}{L}\\right) dx = \\frac{1}{\\pi}  \\int_{0}^{0+2\\pi} x^{2}sen(nx) dx = $$<br>\n",
    " $$= \\frac{1}{\\pi}\\int_{0}^{2\\pi} x^{2}sen(nx) dx = \\frac{1}{\\pi}\\left.\\left(x^{2}\\left(\\frac{-cos(nx)}{n}\\right) - 2x\\left(\\frac{-sen(nx)}{n^{2}}\\right) + 2\\left(\\frac{cos(nx)}{n^{3}}\\right)\\right)\\right|_{0}^{2\\pi} = -\\frac{4\\pi}{n}^{**}$$<br>\n",
    " Assim,<br><br>\n",
    " $$f(x) = x^{2}_{([0,2\\pi],2\\pi)} = \\frac{4\\pi^{2}}{3} + \\sum_{n=1}^{\\infty}\\left(\\frac{4}{n^{2}}cos(nx) - \\frac{4\\pi}{n}sen(nx) \\right)$$<br>\n",
    " Caso $x = 0$ ou $x = 2\\pi$ a série converge para<br><br>\n",
    " $$\\frac{0^{2} + (2\\pi)^{2}}{2} = \\frac{4\\pi^{2}}{2} = 2\\pi^{2}.$$<br>\n",
    " $^{*}$ Vejamos o cálculo da integral $\\int x^{2}cos(nx)dx$ que se resolve por partes:<br>\n",
    " $$\\int x^{2}cos(nx) dx = \\underset{u_{1}=x^{2}, \\ v_{1} = cos(nx)}{\\underbrace{u_{1}v_{1} - \\int v_{1}du_{1}}} =  \\frac{x^{2}sen(nx)}{n} - \\int \\frac{2xsen(nx)}{n} dx =$$<br>\n",
    " $$\\frac{x^{2}sen(nx)}{n} - \\underset{u_{2}=2x, \\ v_{2} = \\frac{sen(nx)}{n}}{\\underbrace{u_{2}v_{2} - \\int_{0}^{2\\pi}v_{2}du_{2}}} dx = \\frac{x^{2}sen(nx)}{n} - \\left(2x\\frac{-cos(nx)}{n^{2}} - \\int\\frac{2(-cos(nx))}{n} dx \\right) = $$<br>\n",
    " $$= \\frac{x^{2}sen(nx)}{n} + \\frac{2xcos(nx)}{n^{2}} - \\frac{2sen(nx)}{n^{3}} \\Rightarrow \\left. \\frac{x^{2}sen(nx)}{n} + \\frac{2xcos(nx)}{n^{2}} - \\frac{2sen(nx)}{n^{3}}\\right|_{0}^{2\\pi} = $$<br>\n",
    " $$= \\left(\\frac{(2\\pi)^{2}sen(n\\cdot2\\pi)}{n} + \\frac{2\\cdot2\\pi cos(n\\cdot2\\pi)}{n^{2}} - \\frac{2sen(n\\cdot2\\pi)}{n^{3}}\\right) - \\left(\\frac{0^{2}sen(n\\cdot0)}{n} + \\frac{2\\cdot0cos(n\\cdot0)}{n^{2}} - \\frac{2sen(n\\cdot0)}{n^{3}}\\right) =$$<br>\n",
    " $$ = \\left(0 + \\frac{4\\pi}{n^{2}}- 0\\right) - (0 + 0 - 0) = \\frac{4\\pi}{n^{2}}.$$<br>\n",
    " O cálculo de $^{**} \\int_{0}^{2\\pi} x^{2} sen(nx) dx$ segue a mesma ideia usada anteriormente.<br><br>\n",
    " Vejamos o cálculo da série de Fourier no Python:"
   ]
  },
  {
   "cell_type": "code",
   "execution_count": null,
   "id": "c91a4e89",
   "metadata": {},
   "outputs": [],
   "source": [
    "from sympy import fourier_series, pi, symbols\n",
    "\n",
    "# Definição dos símbolos\n",
    "x = symbols('x')\n",
    "\n",
    "# Definindo a função x^2 para cálculo simbólico da série de Fourier\n",
    "f = x**2\n",
    "\n",
    "# Parâmetros da série de Fourier\n",
    "T = 2 * pi\n",
    "n = 10\n",
    "\n",
    "# Calculando a série de Fourier truncada para n termos\n",
    "s = fourier_series(f, (x, 0, 2 * pi)).truncate(n)\n",
    "s"
   ]
  },
  {
   "cell_type": "markdown",
   "id": "c4e1309d",
   "metadata": {},
   "source": [
    "<font color='blue'> Agora vejamos o gráfico:"
   ]
  },
  {
   "cell_type": "code",
   "execution_count": null,
   "id": "bd074486",
   "metadata": {},
   "outputs": [],
   "source": [
    "import numpy as np\n",
    "import matplotlib.pyplot as plt\n",
    "\n",
    "# Função periódica usando NumPy\n",
    "def f_np(x):\n",
    "    x = x % (2 * np.pi)  # Torna x periodicamente repetido com período 2pi\n",
    "    return x**2\n",
    "\n",
    "# Domínio para o plot\n",
    "x_np = np.linspace(-4 * np.pi, 4 * np.pi, 800)\n",
    "\n",
    "# Cálculo da função original em NumPy\n",
    "y_np = f_np(x_np)\n",
    "\n",
    "# Plotando a função original e as aproximações da série de Fourier\n",
    "plt.figure(figsize=(12, 6))\n",
    "y_fourier_np = np.array([s.subs(x, val).evalf() for val in x_np])  # Avaliação numérica da série de Fourier\n",
    "plt.plot(x_np, y_np, linestyle='dotted')\n",
    "plt.plot(x_np, y_fourier_np, color='red')\n",
    "plt.title(f\"Comparação do gráfico original com a série de Fourier (n={n})\")\n",
    "plt.xlabel(\"x\")\n",
    "plt.ylabel(\"f(x)\")\n",
    "plt.grid(True)\n",
    "\n",
    "plt.tight_layout()\n",
    "plt.show()\n"
   ]
  },
  {
   "cell_type": "markdown",
   "id": "32283de3",
   "metadata": {},
   "source": [
    "# <div style=\"margin-top: -20px;\">\n",
    "<hr style=\"border: 2px solid black;\">\n",
    "\n",
    "<font color='black'><span style=\"font-size: 22px;\"><strong>3.3 Casos Especiais</strong></span></font>\n",
    "\n",
    "<hr style=\"border: 2px solid black;\">\n",
    "</div>"
   ]
  },
  {
   "cell_type": "markdown",
   "id": "cd463890",
   "metadata": {},
   "source": [
    "#### Funções Pares e Funções Ímpares"
   ]
  },
  {
   "cell_type": "markdown",
   "id": "f8b5f14a",
   "metadata": {},
   "source": [
    "<font color='red'>i) Uma função $f(x)$ é dita par se $f(-x) = f(x)$ para todo $x$ pertencente ao domínio de $f$.<br><br>\n",
    " ii) Uma função $f(x)$ é ímpar se $f(-x) = -f(x)$ para todo $x$ pertencente ao domínio de $f$.</font>"
   ]
  },
  {
   "cell_type": "markdown",
   "id": "24a8708c",
   "metadata": {},
   "source": [
    "Note que:\n",
    "\n",
    "$$cos(-x) = cos(x) \\ \\ \\text{e} \\ \\ sen(-x) = -sen(x)$$\n",
    "\n",
    "Isto é, $cos(x)$ é uma função par e $sen(x)$ é uma função ímpar."
   ]
  },
  {
   "cell_type": "markdown",
   "id": "cac51937",
   "metadata": {},
   "source": [
    "#### <font color='blue'> Exemplo 6 </font>"
   ]
  },
  {
   "cell_type": "markdown",
   "id": "e1eb7028",
   "metadata": {},
   "source": [
    "<font color='blue'> Classifique cada uma das funções reais a seguir em par, ímpar ou nenhum dos casos:<br><br>\n",
    " a) $f(x) = x^{3}$<br><br>\n",
    " b) $g(x) = 2x^{4} + x^{2} -2$<br><br>\n",
    " c) $h(x) = x^{3} + 1$<br><br>\n",
    " d) $s(x) = tg(2x)$"
   ]
  },
  {
   "cell_type": "markdown",
   "id": "8b7f2f3d",
   "metadata": {},
   "source": [
    "##### <font color='blue'> Solução </font>"
   ]
  },
  {
   "cell_type": "markdown",
   "id": "efeb74bb",
   "metadata": {},
   "source": [
    "<font color='blue'> a) Temos que<br><br>\n",
    " $$f(-x) = (-x)^{3} = -x^{3} = -f(x)$$<br>\n",
    " Portanto, $f(x) = x^{3}$ é uma função ímpar.<br><br>\n",
    " b) Temos que<br><br>\n",
    " $$g(-x) = 2(-x)^{4} + (-x)^{2} - 2 = 2x^{4} + x^{2} - 2 = g(x)$$<br>\n",
    " Portanto, $g(x) = 2x^{4} + x^{2} - 2$ é uma função par.<br><br>\n",
    " c) Temos que<br><br>\n",
    " $$h(-x) = (-x)^{3} + 1 = -x^{3} + 1 \\neq h(x) \\ \\text{e} \\ h(-x)$$<br>\n",
    " Portanto, $h(x)$ não é nem par nem ímpar.<br><br>\n",
    " Uma outra forma de ver isto é testar dois valores simétricos e ver que os resultados nem se mantém os mesmos (função par) nem se alternam os sinais (função ímpar). Por exemplo, $h(2) = 2^{3} + 1 = 9$ e $h(-2) = (-2)^{3} + 1 = -7$.<br><br>\n",
    " d) Temos que<br><br>\n",
    " $$s(-x) = tg(2(-x)) = \\frac{sen(-2x)}{cos(-2x)} = \\frac{-sen(2x)}{cos(2x)} = -\\frac{sen(2x)}{cos(2x)} = -tg(2x)$$<br><br>\n",
    " Portanto, $s(x) = tg(2x)$ é uma função ímpar."
   ]
  },
  {
   "cell_type": "markdown",
   "id": "9c064c87",
   "metadata": {},
   "source": [
    "#### <font color='red'> Teorema 1 </font>"
   ]
  },
  {
   "cell_type": "markdown",
   "id": "36672c11",
   "metadata": {},
   "source": [
    "<font color='red'> i) O produto de funções de mesma paridade (ambas pares ou ambas ímpares) resulta em uma função par.<br><br>\n",
    " ii) O produto de duas funções de paridades diferentes (uma par e outra ímpar) resulta em uma função ímpar."
   ]
  },
  {
   "cell_type": "markdown",
   "id": "83bd8c12",
   "metadata": {
    "heading_collapsed": true
   },
   "source": [
    "##### <font color='red'> Demonstração </font>"
   ]
  },
  {
   "cell_type": "markdown",
   "id": "9f9586bc",
   "metadata": {
    "hidden": true
   },
   "source": [
    "<font color='red'> i) Sejam $f(x)$ e $g(x)$ duas funções pares. Temos que $h(x) = f(x)g(x)$ é tal que<br><br>\n",
    " $$h(-x) = f(-x)g(-x) = f(x)g(x) = h(x).$$<br>\n",
    " Portanto, $h(x)$ é uma função par.<br><br>\n",
    " Caso $f(x)$ e $g(x)$ sejam ambas funções ímpares, temos que:<br><br>\n",
    " $$h(-x) = f(-x)g(-x) = (-f(x))(-g(x)) = f(x)g(x) = h(x).$$<br>\n",
    " Da mesma forma, $h(x)$ é uma função par.<br><br>\n",
    " ii) Sejam $f(x)$ e $g(x)$ funções de paridades distintas, digamos $f(x)$ ímpar e $g(x)$ par. Neste caso,<br><br>\n",
    " $$h(-x) = f(-x)g(-x) = (-f(x))g(x) = -f(x)g(x) = -h(x).$$\n",
    " Portanto, $h(x)$ é uma função ímpar."
   ]
  },
  {
   "cell_type": "markdown",
   "id": "9cf47787",
   "metadata": {},
   "source": [
    "#### <font color='red'> Teorema 2 </font>"
   ]
  },
  {
   "cell_type": "markdown",
   "id": "e240ddb0",
   "metadata": {},
   "source": [
    "<font color='red'> i) Uma função par não pode apresentar termos de seno, no seu desenvolvimento de Fourier.<br><br>\n",
    " ii) Uma função ímpar não pode apresentar termos de cosseno, no seu desenvolvimento de Fourier."
   ]
  },
  {
   "cell_type": "markdown",
   "id": "4043478e",
   "metadata": {
    "heading_collapsed": true
   },
   "source": [
    "##### <font color='red'> Demonstração </font>"
   ]
  },
  {
   "cell_type": "markdown",
   "id": "e68d9534",
   "metadata": {
    "hidden": true
   },
   "source": [
    "<font color='red'> i) Suponhamos que<br><br>\n",
    " $$f(x) = \\frac{a_{0}}{2} + \\sum_{n=1}^{\\infty} \\left(a_{n}cos\\left(\\frac{n\\pi x}{L}\\right) + b_{n}sen\\left(\\frac{n\\pi x}{L}\\right) \\right)$$<br>\n",
    " Assim,<br><br>\n",
    " $$f(-x) = \\frac{a_{0}}{2} + \\sum_{n=1}^{\\infty} \\left(a_{n}cos\\left(\\frac{n\\pi (-x)}{L}\\right) + b_{n}sen\\left(\\frac{n\\pi (-x)}{L}\\right) \\right) = \\frac{a_{0}}{2} + \\sum_{n=1}^{\\infty} \\left(a_{n}cos\\left(\\frac{n\\pi x}{L}\\right) - b_{n}sen\\left(\\frac{n\\pi x}{L}\\right) \\right)$$<br>\n",
    " Se $f(x) = f(-x)$, então<br><br>\n",
    " $$\\frac{a_{0}}{2} + \\sum_{n=1}^{\\infty} \\left(a_{n}cos\\left(\\frac{n\\pi x}{L}\\right) + b_{n}sen\\left(\\frac{n\\pi x}{L}\\right) \\right) = \\frac{a_{0}}{2} + \\sum_{n=1}^{\\infty} \\left(a_{n}cos\\left(\\frac{n\\pi x}{L}\\right) - b_{n}sen\\left(\\frac{n\\pi x}{L}\\right) \\right)$$<br>\n",
    " o que implica que $\\sum_{n=1}^{\\infty} b_{n} sen\\left(\\frac{n\\pi x}{L}\\right) = 0$. Portanto,\n",
    " $$f(x) = \\frac{a_{0}}{2} + \\sum_{n=1}^{\\infty} a_{n}cos\\left(\\frac{n\\pi x}{L}\\right). \\tag{5}$$<br>\n",
    " Analogamente demonstra-se o item \"ii\". Além disso, considerando-se uma função ímpar, temos que<br><br>\n",
    " $$f(x) = \\sum_{n=1}^{\\infty} b_{n}sen\\left(\\frac{n\\pi x}{L}\\right) \\tag{6}$$<br>\n",
    " Em particular, neste caso, $a_{0} = 0$."
   ]
  },
  {
   "cell_type": "markdown",
   "id": "92f7d8c5",
   "metadata": {},
   "source": [
    "#### <font color='red'> Teorema 3 </font>"
   ]
  },
  {
   "cell_type": "markdown",
   "id": "ee0e714d",
   "metadata": {},
   "source": [
    "<font color='red'> i) Se $f(x)$ é uma função par então,<br><br>\n",
    " $$a_{0} = \\frac{2}{L}\\int_{0}^{L}f(x)dx, \\ a_{n} = \\frac{2}{L}\\int_{0}^{L}f(x)cos\\left(\\frac{n\\pi x}{L}\\right) dx \\ \\text{e} \\ b_{n} = 0 \\tag{7}$$<br>\n",
    " ii) Se $f(x)$ é uma função ímpar então,<br><br>\n",
    " $$a_{0} = 0, \\ \\ a_{n} = 0 \\ \\text{e} \\ b_{n} = \\frac{2}{L}\\int_{0}^{L}f(x)sen\\left(\\frac{n\\pi x}{L}\\right) dx \\tag{8}$$<br>"
   ]
  },
  {
   "cell_type": "markdown",
   "id": "45b265ae",
   "metadata": {
    "heading_collapsed": true
   },
   "source": [
    "##### <font color='red'> Demonstração </font>"
   ]
  },
  {
   "cell_type": "markdown",
   "id": "fde9fd34",
   "metadata": {
    "hidden": true
   },
   "source": [
    "<font color='red'> i) Sendo $f$ e $cos$ pares e $sen$ ímpar, temos:<br><br>\n",
    " $$a_{n} = \\frac{1}{L}\\int_{-L}^{L}f(x)cos\\left(\\frac{n\\pi x}{L}\\right) dx =  \\frac{1}{L}\\int_{-L}^{0}f(x)cos\\left(\\frac{n\\pi x}{L}\\right) dx + \\frac{1}{L}\\int_{0}^{L}f(x)cos\\left(\\frac{n\\pi x}{L}\\right) dx$$<br>\n",
    " Fazendo $x = -u$, temos que:<br><br>\n",
    " $$1) \\ dx = -du, \\ 2) \\ x = 0 \\Rightarrow u = 0, \\ 3) \\ x = -L \\Rightarrow u = L^{*}$$<br>\n",
    " $$a_{n}= \\frac{1}{L}\\int_{L}^{0}f(-u)cos\\left(\\frac{n\\pi(-u)}{L}\\right)(-du) + \\frac{1}{L}\\int_{0}^{L}f(x)cos\\left(\\frac{n\\pi x}{L}\\right) dx = $$<br>\n",
    " $$ = -\\frac{1}{L}\\int_{L}^{0}f(u)cos\\left(\\frac{n\\pi u}{L}\\right)du + \\frac{1}{L}\\int_{0}^{L}f(x)cos\\left(\\frac{n\\pi x}{L}\\right) dx =^{**}$$<br>\n",
    " $$ = \\frac{1}{L}\\int_{0}^{L}f(u)cos\\left(\\frac{n\\pi u}{L}\\right)du + \\frac{1}{L}\\int_{0}^{L}f(x)cos\\left(\\frac{n\\pi x}{L}\\right) dx = \\frac{2}{L}\\int_{0}^{L}f(x)cos\\left(\\frac{n\\pi x}{L}\\right) dx$$<br>\n",
    " Da mesma forma,<br><br>\n",
    " $$a_{0} = \\frac{1}{L}\\int_{-L}^{L}f(x)dx = \\frac{1}{L}\\int_{-L}^{0}f(x)dx + \\frac{1}{L}\\int_{0}^{L}f(x) dx = $$<br>\n",
    " $$ = \\frac{1}{L}\\int_{L}^{0}f(-u)(-du) + \\frac{1}{L}\\int_{0}^{L}f(x) dx = -\\frac{1}{L}\\int_{L}^{0}f(u)du + \\frac{1}{L}\\int_{0}^{L}f(x) dx =$$<br>\n",
    " $$ = \\frac{1}{L}\\int_{0}^{L}f(u)du + \\frac{1}{L}\\int_{0}^{L}f(x) dx = \\frac{2}{L}\\int_{0}^{L}f(x) dx$$<br>\n",
    " De maneira análoga,<br><br>\n",
    " $$b_{n} = \\frac{1}{L}\\int_{-L}^{L}f(x)sen\\left(\\frac{n\\pi x}{L}\\right) dx =  \\frac{1}{L}\\int_{-L}^{0}f(x)sen\\left(\\frac{n\\pi x}{L}\\right) dx + \\frac{1}{L}\\int_{0}^{L}f(x)sen\\left(\\frac{n\\pi x}{L}\\right) dx = $$<br>\n",
    " $$ = \\frac{1}{L}\\int_{L}^{0}f(-u)sen\\left(\\frac{n\\pi(-u)}{L}\\right)(-du) + \\frac{1}{L}\\int_{0}^{L}f(x)sen\\left(\\frac{n\\pi x}{L}\\right) dx = $$<br>\n",
    " $$ = \\frac{1}{L}\\int_{L}^{0}f(u)\\left(-sen\\left(\\frac{n\\pi u}{L}\\right)\\right)(-du) + \\frac{1}{L}\\int_{0}^{L}f(x)sen\\left(\\frac{n\\pi x}{L}\\right) dx =$$<br>\n",
    " $$ = \\frac{1}{L}\\int_{L}^{0}f(u)sen\\left(\\frac{n\\pi u}{L}\\right)du + \\frac{1}{L}\\int_{0}^{L}f(x)sen\\left(\\frac{n\\pi x}{L}\\right) dx =^{**}$$<br>\n",
    " $$ = -\\frac{1}{L}\\int_{0}^{L}f(u)sen\\left(\\frac{n\\pi u}{L}\\right) du + \\frac{1}{L}\\int_{0}^{L}f(x)sen\\left(\\frac{n\\pi x}{L}\\right) dx = 0$$<br>\n",
    " $^{*}$ Usamos neste caso o fato de $x = -u$ termos $\\int_{x=a}^{x=b}g(x)dx = \\int_{u=-a}^{u=-b}g(-u)(-du)$<br><br>\n",
    " $^{**}$ Usamos neste ponto o fato de $\\int_{a}^{b}g(x)dx = -\\int_{b}^{a}g(x)dx.$<br><br>\n",
    " ii) Sendo $f$ e $sen$ ímpares e $cos$ par, temos:<br><br>\n",
    " $$a_{0} = \\frac{1}{L}\\int_{-L}^{L} f(x) dx = \\frac{1}{L}\\int_{-L}^{0} f(x)dx + \\frac{1}{L}\\int_{0}^{L}f(x) dx$$<br>\n",
    " Fazendo $x = -u$, temos:\n",
    " $$a_{0} = \\frac{1}{L}\\int_{-L}^{L} f(x) dx = \\frac{1}{L}\\int_{L}^{0} f(-u)(-du) + \\frac{1}{L}\\int_{0}^{L}f(x) dx =$$<br>\n",
    " $$ = \\frac{1}{L}\\int_{L}^{0} f(u)du + \\frac{1}{L}\\int_{0}^{L}f(x) dx =^{**} -\\frac{1}{L}\\int_{0}^{L} f(u)du + \\frac{1}{L}\\int_{0}^{L}f(x) dx = 0$$<br>\n",
    " Considerando $a_{n}$, temos:<br><br>\n",
    " $$a_{n} = \\frac{1}{L}\\int_{-L}^{L}f(x)cos\\left(\\frac{n\\pi x}{L}\\right) dx =  \\frac{1}{L}\\int_{-L}^{0}f(x)cos\\left(\\frac{n\\pi x}{L}\\right) dx + \\frac{1}{L}\\int_{0}^{L}f(x)cos\\left(\\frac{n\\pi x}{L}\\right) dx = $$<br>\n",
    " $$= \\frac{1}{L}\\int_{L}^{0}f(-u)cos\\left(\\frac{n\\pi(-u)}{L}\\right)(-du) + \\frac{1}{L}\\int_{0}^{L}f(x)cos\\left(\\frac{n\\pi x}{L}\\right) dx = $$<br>\n",
    " $$ = \\frac{1}{L}\\int_{L}^{0}f(u)cos\\left(\\frac{n\\pi u}{L}\\right)du + \\frac{1}{L}\\int_{0}^{L}f(x)cos\\left(\\frac{n\\pi x}{L}\\right) dx =^{**}$$<br>\n",
    " $$ = -\\frac{1}{L}\\int_{0}^{L}f(u)cos\\left(\\frac{n\\pi u}{L}\\right)du + \\frac{1}{L}\\int_{0}^{L}f(x)cos\\left(\\frac{n\\pi x}{L}\\right) dx = 0$$<br>\n",
    " Por outro lado,<br><br>\n",
    " $$b_{n} = \\frac{1}{L}\\int_{-L}^{L}f(x)sen\\left(\\frac{n\\pi x}{L}\\right) dx =  \\frac{1}{L}\\int_{-L}^{0}f(x)sen\\left(\\frac{n\\pi x}{L}\\right) dx + \\frac{1}{L}\\int_{0}^{L}f(x)sen\\left(\\frac{n\\pi x}{L}\\right) dx$$<br>\n",
    " De maneira análoga,<br><br>\n",
    " $$b_{n}= \\frac{1}{L}\\int_{L}^{0}f(-u)sen\\left(\\frac{n\\pi(-u)}{L}\\right)(-du) + \\frac{1}{L}\\int_{0}^{L}f(x)sen\\left(\\frac{n\\pi x}{L}\\right) dx = $$<br>\n",
    " $$ = \\frac{1}{L}\\int_{L}^{0}(-f(u))\\left(-sen\\left(\\frac{n\\pi u}{L}\\right)\\right)(-du) + \\frac{1}{L}\\int_{0}^{L}f(x)sen\\left(\\frac{n\\pi x}{L}\\right) dx =$$<br>\n",
    " $$ = -\\frac{1}{L}\\int_{L}^{0}f(u)sen\\left(\\frac{n\\pi u}{L}\\right)du + \\frac{1}{L}\\int_{0}^{L}f(x)sen\\left(\\frac{n\\pi x}{L}\\right) dx =^{**}$$<br>\n",
    " $$ = \\frac{1}{L}\\int_{0}^{L}f(u)sen\\left(\\frac{n\\pi u}{L}\\right) du + \\frac{1}{L}\\int_{0}^{L}f(x)sen\\left(\\frac{n\\pi x}{L}\\right) dx = \\frac{2}{L}\\int_{0}^{L}f(x)sen\\left(\\frac{n\\pi x}{L}\\right) dx$$"
   ]
  },
  {
   "cell_type": "markdown",
   "id": "a4a396a3",
   "metadata": {},
   "source": [
    "##### Exemplificando com uma função par:"
   ]
  },
  {
   "cell_type": "markdown",
   "id": "85532b09",
   "metadata": {},
   "source": [
    "O código a seguir apresenta os $5$ primeiros coeficientes da série de Fourier da função par $f(x) = x^{2}$, $-\\pi \\leq x \\leq \\pi$ com $T = 2\\pi$."
   ]
  },
  {
   "cell_type": "code",
   "execution_count": null,
   "id": "151ade22",
   "metadata": {},
   "outputs": [],
   "source": [
    "from sympy import fourier_series, pi, symbols\n",
    "# Definição dos símbolos\n",
    "x = symbols('x')\n",
    "\n",
    "# Definindo a função x para cálculo simbólico da série de Fourier\n",
    "f = x**2\n",
    "\n",
    "# Parâmetros da série de Fourier\n",
    "T = 2 * pi\n",
    "n = 5\n",
    "\n",
    "# Calculando a série de Fourier truncada para n termos\n",
    "s = fourier_series(f, (x, -pi, pi)).truncate(n)\n",
    "s"
   ]
  },
  {
   "cell_type": "markdown",
   "id": "b737a6d2",
   "metadata": {},
   "source": [
    "Vejamos o gráfico:"
   ]
  },
  {
   "cell_type": "code",
   "execution_count": null,
   "id": "6128af50",
   "metadata": {},
   "outputs": [],
   "source": [
    "import numpy as np\n",
    "import matplotlib.pyplot as plt\n",
    "\n",
    "# Função periódica usando NumPy\n",
    "def f_np(x):\n",
    "    # Ajusta x para estar no intervalo [-pi, pi]\n",
    "    x = (x + np.pi) % (2 * np.pi) - np.pi\n",
    "    return x**2\n",
    "\n",
    "# Domínio para o plot\n",
    "x_np = np.linspace(-4 * np.pi, 4 * np.pi, 800)\n",
    "\n",
    "# Cálculo da função original em NumPy\n",
    "y_np = f_np(x_np)\n",
    "\n",
    "# Plotando a função original e as aproximações da série de Fourier\n",
    "plt.figure(figsize=(12, 6))\n",
    "\n",
    "y_fourier_np = np.array([s.subs(x, val).evalf() for val in x_np])  # Avaliação numérica da série de Fourier\n",
    "\n",
    "plt.plot(x_np, y_np, linestyle='dotted')\n",
    "plt.plot(x_np, y_fourier_np, color='red')\n",
    "plt.title(f\"Comparação do gráfico original com a série de Fourier (n={n})\")\n",
    "plt.xlabel(\"x\")\n",
    "plt.ylabel(\"f(x)\")\n",
    "plt.grid(True)\n",
    "\n",
    "plt.tight_layout()\n",
    "plt.show()"
   ]
  },
  {
   "cell_type": "markdown",
   "id": "efe4bbc7",
   "metadata": {},
   "source": [
    "##### Exemplificando com uma função ímpar:"
   ]
  },
  {
   "cell_type": "markdown",
   "id": "d3d4af1c",
   "metadata": {},
   "source": [
    "O código a seguir apresenta os $5$ primeiros coeficientes da série de Fourier da função par $f(x) = x$, $-\\pi \\leq x \\leq \\pi$ com $T = 2\\pi$."
   ]
  },
  {
   "cell_type": "code",
   "execution_count": null,
   "id": "963d395a",
   "metadata": {},
   "outputs": [],
   "source": [
    "from sympy import fourier_series, pi, symbols\n",
    "# Definição dos símbolos\n",
    "x = symbols('x')\n",
    "\n",
    "# Definindo a função x para cálculo simbólico da série de Fourier\n",
    "f = x\n",
    "\n",
    "# Parâmetros da série de Fourier\n",
    "T = 2 * pi\n",
    "n = 5\n",
    "\n",
    "# Calculando a série de Fourier truncada para n termos\n",
    "s = fourier_series(f, (x, -pi, pi)).truncate(n)\n",
    "s"
   ]
  },
  {
   "cell_type": "markdown",
   "id": "59088e0b",
   "metadata": {},
   "source": [
    "Vejamos o gráfico:"
   ]
  },
  {
   "cell_type": "code",
   "execution_count": null,
   "id": "eaca561d",
   "metadata": {},
   "outputs": [],
   "source": [
    "import numpy as np\n",
    "import matplotlib.pyplot as plt\n",
    "\n",
    "# Função periódica usando NumPy\n",
    "def f_np(x):\n",
    "    # Ajusta x para estar no intervalo [-pi, pi]\n",
    "    x = (x + np.pi) % (2 * np.pi) - np.pi\n",
    "    return x\n",
    "\n",
    "# Domínio para o plot\n",
    "x_np = np.linspace(-4 * np.pi, 4 * np.pi, 800)\n",
    "\n",
    "# Cálculo da função original em NumPy\n",
    "y_np = f_np(x_np)\n",
    "\n",
    "# Plotando a função original e as aproximações da série de Fourier\n",
    "plt.figure(figsize=(12, 6))\n",
    "\n",
    "y_fourier_np = np.array([s.subs(x, val).evalf() for val in x_np])  # Avaliação numérica da série de Fourier\n",
    "    \n",
    "plt.plot(x_np, y_np, linestyle='dotted')\n",
    "plt.plot(x_np, y_fourier_np, color='red')\n",
    "plt.title(f\"Comparação do gráfico original com a série de Fourier (n={n})\")\n",
    "plt.xlabel(\"x\")\n",
    "plt.ylabel(\"f(x)\")\n",
    "plt.grid(True)\n",
    "\n",
    "plt.tight_layout()\n",
    "plt.show()"
   ]
  },
  {
   "cell_type": "markdown",
   "id": "96ab4e8f",
   "metadata": {},
   "source": [
    "#### Séries de Fourier de Senos ou de Cossenos"
   ]
  },
  {
   "cell_type": "markdown",
   "id": "1a5c4164",
   "metadata": {},
   "source": [
    "Uma série de Fourier de senos ou de cossenos é uma série na qual aparecem apenas termos de senos ou de cossenos. Para se ter uma série deste tipo, correspondendo a uma função dada, esta é, geralmente definida no intervalo $(0,L)$ (metade do intervalo $(-L,L)$) e classifica-se a função como ímpar ou par, de modo que a função seja claramente definida na outra metade do intervalo, isto é, em $(-L,0)$. Neste caso, temos\n",
    "\n",
    "<font color='red'>$$\\left\\{ \\begin{array}{}\n",
    " a_{n} = 0, \\ \\ b_{n}  =  \\frac{2}{L} \\int_{0}^{L} f(x)sen\\left(\\frac{n\\pi x}{L}\\right) dx, & \\text{série de senos}\\\\\n",
    " b_{n} = 0, \\ \\ a_{n}  =  \\frac{2}{L} \\int_{0}^{L} f(x)cos\\left(\\frac{n\\pi x}{L}\\right) dx, & \\text{série de cossenos}\\end{array}\\right. \\ \\ \\ n = 0,1,2,... \\tag{9} $$</font>"
   ]
  },
  {
   "cell_type": "markdown",
   "id": "f7b8c6be",
   "metadata": {},
   "source": [
    "A extensão par de uma função, $f(x), \\ 0 < x < L$ é a função $f(x)$ tal que $f(-x) = f(x), \\ -L < x < 0$. Por outro lado, a extensão ímpar de uma função $f(x), \\ 0 < x < L$ é a função $f(x)$ tal que $f(-x) = - f(x), \\ -L < x < 0$."
   ]
  },
  {
   "cell_type": "markdown",
   "id": "250355a4",
   "metadata": {},
   "source": [
    "#### <font color='blue'> Exemplo 7 </font>"
   ]
  },
  {
   "cell_type": "markdown",
   "id": "d7184738",
   "metadata": {},
   "source": [
    "<font color='blue'> Desenvolver $f(x) = x, \\ 0 < x < 2$, em uma série de Fourier de senos considerando sua extensão ímpar."
   ]
  },
  {
   "cell_type": "markdown",
   "id": "a5938876",
   "metadata": {},
   "source": [
    "##### <font color='blue'> Solução </font>"
   ]
  },
  {
   "cell_type": "markdown",
   "id": "77070052",
   "metadata": {},
   "source": [
    "<font color='blue'> A extemsão ímpar de $f(x)$ é dada por $g(x) = x, \\ -2 < x < 2$ cujo período é $4$. Assim, $2L = 4 \\Rightarrow L = 2$.Temos que $a_{n} = 0$ e<br><br>\n",
    " $$b_{n} = \\frac{2}{L}\\int_{0}^{L} f(x) sen\\left(\\frac{n\\pi x}{L}\\right) dx = \\frac{2}{2}\\int_{0}^{2} xsen\\left(\\frac{n\\pi x}{2}\\right) = \\left.\\left(-\\frac{2x}{n\\pi}cos\\left(\\frac{n\\pi x}{2}\\right) + \\frac{4}{n^{2}\\pi^{2}}sen\\left(\\frac{n\\pi x}{2}\\right) \\right)\\right|_{0}^{2} =  $$<br>\n",
    " $$= \\left(-\\frac{2\\cdot2}{n\\pi}cos\\left(\\frac{n\\pi\\cdot 2}{2}\\right) + \\frac{4}{n^{2}\\pi^{2}}sen\\left(\\frac{n\\pi\\cdot2}{2}\\right)\\right) - \\left(-\\frac{2\\cdot0}{n\\pi}cos\\left(\\frac{n\\pi\\cdot 0}{2}\\right) + \\frac{4}{n^{2}\\pi^{2}}sen\\left(\\frac{n\\pi\\cdot0}{2}\\right)\\right) =$$<br>\n",
    " $$ = \\left(-\\frac{4}{n\\pi}cos(n\\pi) + 0\\right) - (-0 + 0) = -\\frac{4}{n\\pi}cos(n\\pi)$$<br>\n",
    " Portanto,<br><br>\n",
    " $$g(x) = \\sum_{n=1}^{\\infty} -\\frac{4}{n\\pi}cos(n\\pi)sen\\left(\\frac{n\\pi x}{2}\\right) =$$<br>\n",
    " $$= \\frac{4}{\\pi}\\left(sen\\left(\\frac{\\pi x}{2}\\right) - \\frac{1}{2}sen\\left(\\frac{2\\pi x}{2}\\right) + \\frac{1}{3}sen\\left(\\frac{3\\pi x}{2}\\right) - \\ldots\\right)$$"
   ]
  },
  {
   "cell_type": "code",
   "execution_count": null,
   "id": "f07bdea6",
   "metadata": {},
   "outputs": [],
   "source": [
    "from sympy import fourier_series, symbols, integrate, sin, pi\n",
    "\n",
    "# Definição dos símbolos\n",
    "x = symbols('x')\n",
    "\n",
    "# Parâmetros da série de Fourier\n",
    "L = 2\n",
    "n = 5\n",
    "\n",
    "# Definindo a função estendida para ser ímpar\n",
    "# Função ímpar terá apenas termos de seno na série de Fourier\n",
    "f_impar = x\n",
    "\n",
    "# Calculando a série de Fourier truncada para n termos (apenas senos)\n",
    "s_senos = fourier_series(f_impar, (x, -L, L)).truncate(n)\n",
    "s_senos"
   ]
  },
  {
   "cell_type": "code",
   "execution_count": null,
   "id": "b91b2d2b",
   "metadata": {},
   "outputs": [],
   "source": [
    "import numpy as np\n",
    "import matplotlib.pyplot as plt\n",
    "\n",
    "# Função periódica usando NumPy\n",
    "def f_np(x):\n",
    "    x = (x + L) % (2 * L) - L  # Ajusta x para estar no intervalo [-L, L]\n",
    "    return x\n",
    "\n",
    "# Domínio para o plot\n",
    "x_np = np.linspace(-4 * L, 4 * L, 800)\n",
    "\n",
    "# Cálculo da função original em NumPy\n",
    "y_np = f_np(x_np)\n",
    "\n",
    "# Plotando a função original e as aproximações da série de Fourier\n",
    "plt.figure(figsize=(12, 6))\n",
    "\n",
    "y_fourier_np = np.array([s_senos.subs(x, val).evalf() for val in x_np])  # Avaliação numérica da série de Fourier\n",
    "    \n",
    "plt.plot(x_np, y_np, linestyle='dotted')\n",
    "plt.plot(x_np, y_fourier_np, color='red')\n",
    "plt.title(f\"Comparação do gráfico original com a série de Fourier (n={n})\")\n",
    "plt.xlabel(\"x\")\n",
    "plt.ylabel(\"f(x)\")\n",
    "plt.grid(True)\n",
    "\n",
    "plt.tight_layout()\n",
    "plt.show()"
   ]
  },
  {
   "cell_type": "markdown",
   "id": "21e8a4c7",
   "metadata": {},
   "source": [
    "#### <font color='blue'> Exemplo 8 </font>"
   ]
  },
  {
   "cell_type": "markdown",
   "id": "d77ecdce",
   "metadata": {},
   "source": [
    "<font color='blue'> Desenvolver $f(x) = x, \\ 0 < x < 2$, em uma série de Fourier de cossenos considerando sua extensão par.<br><br>"
   ]
  },
  {
   "cell_type": "markdown",
   "id": "e592b5a4",
   "metadata": {},
   "source": [
    "##### <font color='blue'> Solução </font>"
   ]
  },
  {
   "cell_type": "markdown",
   "id": "d1535ba2",
   "metadata": {},
   "source": [
    "<font color='blue'> A extemsão par de $f(x)$ é dada por $g(x) = |x|, \\ -2 < x < 2$ cujo período é $4$. Assim, $2L = 4 \\Rightarrow L = 2$. Temos que $b_{n} = 0$ e<br><br>\n",
    " $$a_{0} = \\frac{2}{L}\\int_{0}^{L} f(x) dx = \\frac{2}{2}\\int_{0}^{2} x dx = \\frac{x^{2}}{2}|_{0}^{2} = 2$$<br>\n",
    " $$a_{n} = \\frac{2}{L}\\int_{0}^{L} f(x) cos\\left(\\frac{n\\pi x}{L}\\right) dx = \\frac{2}{2}\\int_{0}^{2} xcos\\left(\\frac{n\\pi x}{2}\\right) = \\left.\\left(\\frac{2x}{n\\pi}sen\\left(\\frac{n\\pi x}{2}\\right) + \\frac{4}{n^{2}\\pi^{2}}cos\\left(\\frac{n\\pi x}{2}\\right) \\right)\\right|_{0}^{2} =  $$<br>\n",
    " $$= \\left(\\frac{2\\cdot2}{n\\pi}sen\\left(\\frac{n\\pi\\cdot 2}{2}\\right) + \\frac{4}{n^{2}\\pi^{2}}cos\\left(\\frac{n\\pi\\cdot2}{2}\\right)\\right) - \\left(\\frac{2\\cdot0}{n\\pi}sen\\left(\\frac{n\\pi\\cdot 0}{2}\\right) + \\frac{4}{n^{2}\\pi^{2}}cos\\left(\\frac{n\\pi\\cdot0}{2}\\right)\\right) =$$<br>\n",
    " $$\\left(0 + \\frac{4}{n^{2}\\pi^{2}}cos(n\\pi)\\right) - \\left(0 + \\frac{4}{n^{2}\\pi^{2}}\\right) = -\\frac{4}{n\\pi}cos(n\\pi) = \\frac{4}{n^{2}\\pi^{2}}(cos(n\\pi)-1), \\ n \\neq 0$$<br>\n",
    " Portanto,<br><br>\n",
    " $$g(x) = 1 + \\sum_{n=1}^{\\infty} \\frac{4}{n^{2}\\pi^{2}}(cos(n\\pi)-1)cos\\left(\\frac{n\\pi x}{2}\\right) =$$<br><br>\n",
    " $$= 1 - \\frac{8}{\\pi^{2}}\\left(cos\\left(\\frac{\\pi x}{2}\\right) + \\frac{1}{3^{2}}cos\\left(\\frac{3\\pi x}{2}\\right) + \\frac{1}{5^{2}}cos\\left(\\frac{5\\pi x}{2}\\right) + \\ldots\\right)$$"
   ]
  },
  {
   "cell_type": "code",
   "execution_count": null,
   "id": "528a2839",
   "metadata": {},
   "outputs": [],
   "source": [
    "from sympy import fourier_series, symbols, integrate, cos, pi\n",
    "\n",
    "# Definição dos símbolos\n",
    "x = symbols('x')\n",
    "\n",
    "# Parâmetros da série de Fourier\n",
    "L = 2\n",
    "n = 5\n",
    "\n",
    "# Definindo a função estendida para ser par\n",
    "# Função par terá apenas termos de cosseno na série de Fourier\n",
    "f_par = abs(x)\n",
    "\n",
    "# Calculando a série de Fourier truncada para n termos (apenas cossenos)\n",
    "s_cossenos = fourier_series(f_par, (x, -L, L)).truncate(n)\n",
    "s_cossenos\n"
   ]
  },
  {
   "cell_type": "code",
   "execution_count": null,
   "id": "dd8605f3",
   "metadata": {},
   "outputs": [],
   "source": [
    "import numpy as np\n",
    "import matplotlib.pyplot as plt\n",
    "\n",
    "# Função periódica usando NumPy\n",
    "def f_np(x):\n",
    "    x = (x + L) % (2 * L) - L  # Ajusta x para estar no intervalo [-L, L]\n",
    "    return abs(x)\n",
    "\n",
    "# Domínio para o plot\n",
    "x_np = np.linspace(-4 * L, 4 * L, 800)\n",
    "\n",
    "# Cálculo da função original em NumPy\n",
    "y_np = f_np(x_np)\n",
    "\n",
    "# Plotando a função original e as aproximações da série de Fourier\n",
    "plt.figure(figsize=(12, 6))\n",
    "\n",
    "y_fourier_np = np.array([s_cossenos.subs(x, val).evalf() for val in x_np])  # Avaliação numérica da série de Fourier\n",
    "    \n",
    "plt.plot(x_np, y_np, linestyle='dotted')\n",
    "plt.plot(x_np, y_fourier_np, color='red')\n",
    "plt.title(f\"Comparação do gráfico original com a série de Fourier (n={n})\")\n",
    "plt.xlabel(\"x\")\n",
    "plt.ylabel(\"f(x)\")\n",
    "plt.grid(True)\n",
    "\n",
    "plt.tight_layout()\n",
    "plt.show()"
   ]
  },
  {
   "cell_type": "markdown",
   "id": "121cbe50",
   "metadata": {},
   "source": [
    "#### Funções Simétricas"
   ]
  },
  {
   "cell_type": "markdown",
   "id": "9aec1d2d",
   "metadata": {},
   "source": [
    "<font color='red'>Uma função $f(x)$ é considerada simétrica em relação a um eixo $x = s$ quando satisfaz a condição $f(s-x) = f(s+x)$."
   ]
  },
  {
   "cell_type": "markdown",
   "id": "122d2274",
   "metadata": {},
   "source": [
    "#### <font color='blue'> Exemplo 9 </font>"
   ]
  },
  {
   "cell_type": "markdown",
   "id": "5c1443b1",
   "metadata": {},
   "source": [
    "<font color='blue'> Mostre que a função $f(x) = x(\\pi-x)$, $0 \\leq x \\leq \\pi$, é simétrica em relação a $\\frac{\\pi}{2}$."
   ]
  },
  {
   "cell_type": "markdown",
   "id": "23d9c208",
   "metadata": {},
   "source": [
    "##### <font color='blue'> Solução </font>"
   ]
  },
  {
   "cell_type": "markdown",
   "id": "b5c6e458",
   "metadata": {},
   "source": [
    "<font color='blue'> Note que<br><br>\n",
    "$$f\\left(\\frac{\\pi}{2}-x\\right) = \\left(\\frac{\\pi}{2} - x\\right)\\left(\\pi - \\left(\\frac{\\pi}{2}-x\\right) \\right) = \\left(\\frac{\\pi}{2} - x\\right)\\left(\\frac{\\pi}{2} + x\\right)$$<br>\n",
    " $$f\\left(\\frac{\\pi}{2}+x\\right) = \\left(\\frac{\\pi}{2} + x\\right)\\left(\\pi - \\left(\\frac{\\pi}{2}+x\\right) \\right) = \\left(\\frac{\\pi}{2} + x\\right)\\left(\\frac{\\pi}{2} - x\\right) = f\\left(\\frac{\\pi}{2}-x\\right)$$<br>\n",
    " Portanto, $f(x)$ é simétrica em relação a $\\frac{\\pi}{2}$."
   ]
  },
  {
   "cell_type": "markdown",
   "id": "5e73fb9f",
   "metadata": {},
   "source": [
    "##### Consequências da Simetria"
   ]
  },
  {
   "cell_type": "markdown",
   "id": "6c7a49eb",
   "metadata": {},
   "source": [
    "O fato de termos uma função simétrica implica que esta reflete-se sobre o eixo vertical passando por $s$, de modo que os valores da função em pontos equidistantes de $s$ em direções opostas são iguais.\n",
    "\n",
    "Particularmente, uma função par definida no intervalo $0<x<L$ e que possui seu eixo de simetria dentro de seu domínio, especificamente em $x =\\frac{L}{2}$, apresenta um caso especial de simetria. Em tais funções, a simetria central torna-se evidente quando observamos que a função assume valores idênticos em $\\frac{L}{2}-x$ e $\\frac{L}{2} + x$ para qualquer $x$ dentro do intervalo permitido.\n",
    "\n",
    "*Necessitamos considerar uma mudança específica nos índices dos termos da série de Fourier, tomando $n = 2k$ onde $k$ é um inteiro. Esta escolha não é arbitrária, mas uma consequência direta da posição do eixo de simetria em $\\frac{L}{2}$. Os termos de cosseno $cos\\left(\\frac{n\\pi x}{L} \\right)$ serão repassados para $cos\\left(\\frac{2k\\pi x}{L} \\right)$.*"
   ]
  },
  {
   "cell_type": "markdown",
   "id": "be0e4c8f",
   "metadata": {},
   "source": [
    "#### <font color='blue'> Exemplo 10 </font>"
   ]
  },
  {
   "cell_type": "markdown",
   "id": "ff775d74",
   "metadata": {},
   "source": [
    "<font color='blue'> Use a mudança de variável $n = 2k$ para determinar a expansão em séride de Fourier da função $f(x) = x(\\pi-x)$, $0 \\leq x \\leq \\pi$."
   ]
  },
  {
   "cell_type": "markdown",
   "id": "7f280231",
   "metadata": {},
   "source": [
    "##### <font color='blue'> Solução </font>"
   ]
  },
  {
   "cell_type": "markdown",
   "id": "65da168d",
   "metadata": {},
   "source": [
    "<font color='blue'> Note que $f(x)$ é uma função par e portanto sua expansão é séries de Fourier conterá somente termos em cosseno. Neste caso, $L = \\pi$ e $b_{n} = 0$.<br><br>\n",
    " $$a_{0} = \\frac{2}{L}\\int_{0}^{L} f(x) dx = \\frac{2}{\\pi} \\int_{0}^{\\pi}x(\\pi-x)dx = \\frac{2}{\\pi} \\int_{0}^{\\pi}\\pi x - x^{2}dx = \\frac{2}{\\pi}\\left.\\left(\\pi\\frac{x^{2}}{2} - \\frac{x^{3}}{3} \\right)\\right|_{0}^{\\pi} = $$<br>\n",
    " $$= \\frac{2}{\\pi}\\left(\\left(\\pi\\frac{\\pi^{2}}{2} - \\frac{\\pi^{3}}{3} \\right) - \\left(\\pi\\frac{0^{2}}{2} - \\frac{0^{3}}{3} \\right)\\right) = \\frac{2}{\\pi}\\left(\\frac{\\pi^{3}}{6} - 0 \\right) = \\frac{\\pi^{2}}{3}.$$<br>\n",
    " Para o cálculo de $a_{n}, \\ n \\neq 0$, marcaremos com (i) $^{nul}$ todas as partes que resultarão em valor nulo uma vez que $sen(n\\pi x) = 0$ se $x = 0$ ou $x = \\pi$ como ocorrerá com frequência; (ii) e com $^{[pp]}$ todas as vezes que usarmos integração por partes ($u$ sendo o polinômio de $dv$ a função trigonométrica). Pois bem, utilizando a mudança $n = 2k$, temos<br><br>\n",
    " $$a_{2k} = \\frac{2}{L} \\int_{0}^{L}f(x)cos\\left(\\frac{2k\\pi x}{L} \\right)dx = \\frac{2}{\\pi}\\int_{0}^{\\pi}x(\\pi-x)cos\\left(\\frac{2k\\pi x}{\\pi} \\right) dx =$$<br>\n",
    " $$= \\frac{2}{\\pi}\\int_{0}^{\\pi}(x\\pi-x^{2})cos\\left(\\frac{2k\\pi x}{\\pi} \\right) dx ^{[pp]} = \\frac{2}{\\pi}\\left(\\underset{nul}{\\underbrace{(x\\pi-x^{2})\\left.\\frac{sen(2kx)}{2k}\\right|_{0}^{\\pi}}} - \\int_{0}^{\\pi} (\\pi - 2x)\\frac{sen(2kx)}{2k} dx\\right) = $$<br>\n",
    " $$= -\\frac{1}{\\pi}\\int_{0}^{\\pi} (\\pi - 2x)\\frac{sen(2kx)}{k} dx = ^{[pp]} -\\frac{1}{\\pi}\\left(-(\\pi-2x)\\left.\\frac{cos(2kx)}{2k^{2}}\\right|_{0}^{\\pi} - \\underset{nul}{\\underbrace{\\int_{0}^{\\pi} \\frac{cos(2kx)}{2k^{2}} dx}} \\right) =  $$<br>\n",
    " $$= \\frac{1}{\\pi}(\\pi-2x)\\left.\\frac{cos(2kx)}{2k^{2}}\\right|_{0}^{\\pi} = \\frac{1}{\\pi}(\\pi-2\\pi)\\frac{cos(2kx)}{2k^{2}} - \\frac{1}{\\pi}(\\pi-2\\cdot0)\\frac{cos(2k\\cdot 0)}{2k^{2}} = $$<br>\n",
    " $$= -\\frac{1}{2k^{2}} - \\frac{1}{2k^{2}} = -\\frac{1}{k^{2}} \\Rightarrow a_{2k} =   \\left(-1,-\\frac{1}{2^{2}},-\\frac{1}{3^{2}},-\\frac{1}{4^{2}}, \\ldots \\right)$$<br>\n",
    " Por fim, temos:<br><br>\n",
    " $$f(x) = \\frac{a_{0}}{2} + \\sum_{k=1}^{\\infty} a_{2k}cos\\left(\\frac{2k\\pi x}{L} \\right) =$$<br>\n",
    " $$= \\frac{\\pi^{2}/3}{2} - \\frac{cos(2 x)}{1^{2}} - \\frac{cos(4 x)}{2^{2}} - \\frac{cos(6 x)}{3^{2}} - \\ldots = $$<br>\n",
    " $$= \\frac{\\pi^{2}}{6} - \\left(\\frac{cos(2 x)}{1^{2}} + \\frac{cos(4 x)}{2^{2}} + \\frac{cos(6 x)}{3^{2}} + \\ldots\\right)$$<br>"
   ]
  },
  {
   "cell_type": "code",
   "execution_count": null,
   "id": "b4aa4230",
   "metadata": {},
   "outputs": [],
   "source": [
    "from sympy import fourier_series, symbols, integrate, cos, pi\n",
    "\n",
    "# Definição dos símbolos\n",
    "x = symbols('x')\n",
    "\n",
    "# Parâmetros da série de Fourier\n",
    "L = pi\n",
    "n = 5\n",
    "\n",
    "# Definindo a função estendida para ser par\n",
    "# Função par terá apenas termos de cosseno na série de Fourier\n",
    "f = x*(pi-x)\n",
    "\n",
    "# Calculando a série de Fourier truncada para n termos (apenas cossenos)\n",
    "s = fourier_series(f, (x, 0, L)).truncate(n)\n",
    "s"
   ]
  },
  {
   "cell_type": "markdown",
   "id": "0f7fc8bc",
   "metadata": {},
   "source": [
    "<font color='blue'> Vejamos o gráfico:"
   ]
  },
  {
   "cell_type": "code",
   "execution_count": null,
   "id": "2d679733",
   "metadata": {},
   "outputs": [],
   "source": [
    "import numpy as np\n",
    "import matplotlib.pyplot as plt\n",
    "\n",
    "# Função periódica usando NumPy\n",
    "def f_np(x):\n",
    "    x = (x + L) % L\n",
    "    return x*(pi-x)\n",
    "\n",
    "# Domínio para o plot\n",
    "x_np = np.linspace(-4*np.pi, 4*np.pi, 800)\n",
    "\n",
    "# Cálculo da função original em NumPy\n",
    "y_np = f_np(x_np)\n",
    "\n",
    "# Plotando a função original e as aproximações da série de Fourier\n",
    "plt.figure(figsize=(12, 6))\n",
    "\n",
    "y_fourier_np = np.array([s.subs(x, val).evalf() for val in x_np])  # Avaliação numérica da série de Fourier\n",
    "    \n",
    "plt.plot(x_np, y_np, linestyle='dotted')\n",
    "plt.plot(x_np, y_fourier_np, color='red')\n",
    "plt.title(f\"Comparação do gráfico original com a série de Fourier (n={n})\")\n",
    "plt.xlabel(\"x\")\n",
    "plt.ylabel(\"f(x)\")\n",
    "plt.grid(True)\n",
    "\n",
    "plt.tight_layout()\n",
    "plt.show()"
   ]
  },
  {
   "cell_type": "markdown",
   "id": "0ed7a286",
   "metadata": {},
   "source": [
    "#### <font color='blue'> Exemplo 11 </font>"
   ]
  },
  {
   "cell_type": "markdown",
   "id": "005a1f37",
   "metadata": {},
   "source": [
    "<font color='blue'> Use o **Exemplo 10** para mostrar que $\\sum_{n=1}^{\\infty} \\frac{1}{n^{2}} = \\frac{\\pi^{2}}{6}$."
   ]
  },
  {
   "cell_type": "markdown",
   "id": "a3df95a3",
   "metadata": {},
   "source": [
    "##### <font color='blue'> Solução </font>"
   ]
  },
  {
   "cell_type": "markdown",
   "id": "b67142cd",
   "metadata": {},
   "source": [
    "<font color='blue'> Substituindo $x = 0$ em<br><br>\n",
    " $$f(x) = \\frac{\\pi^{2}}{6} - \\left(\\frac{cos(2\\pi x)}{1^{2}} + \\frac{cos(4\\pi x)}{2^{2}} + \\frac{cos(6\\pi x)}{3^{2}} + \\ldots\\right)$$<br>\n",
    " temos:\n",
    " $$f(0) = \\frac{\\pi^{2}}{6} - \\left(\\frac{cos(2\\pi \\cdot0)}{1^{2}} + \\frac{cos(4\\pi \\cdot0)}{2^{2}} + \\frac{cos(6\\pi \\cdot0)}{3^{2}} + \\ldots\\right) \\Rightarrow$$<br>\n",
    " $$\\Rightarrow 0(\\pi-0) = \\frac{\\pi^{2}}{6} - \\left(\\frac{1}{1^{2}} + \\frac{1}{2^{2}} + \\frac{1}{3^{2}} + \\ldots\\right) \\Rightarrow \\frac{1}{1^{2}} + \\frac{1}{2^{2}} + \\frac{1}{3^{2}} + \\ldots = \\frac{\\pi^{2}}{6} \\Rightarrow \\sum_{n=1}^{\\infty} \\frac{1}{n^{2}} = \\frac{\\pi^{2}}{6}.$$"
   ]
  },
  {
   "cell_type": "markdown",
   "id": "45ef3a32",
   "metadata": {},
   "source": [
    "# <div style=\"margin-top: -20px;\">\n",
    "<hr style=\"border: 2px solid black;\">\n",
    "\n",
    "<font color='black'><span style=\"font-size: 22px;\"><strong>3.4 Teorema de Parseval</strong></span></font>\n",
    "\n",
    "<hr style=\"border: 2px solid black;\">\n",
    "</div>"
   ]
  },
  {
   "cell_type": "markdown",
   "id": "1274d076",
   "metadata": {},
   "source": [
    "#### Teorema de Parseval"
   ]
  },
  {
   "cell_type": "markdown",
   "id": "074720de",
   "metadata": {},
   "source": [
    "O teorema de Parseval fornece uma maneira útil de relacionar os coeficientes de Fourier com a função que eles descrevem. Ele é essencialmente uma lei de conservação que afirma:\n",
    "\n",
    "<font color='red'>$$\\frac{1}{L}\\int_{-L}^{L} (f(x))^{2} dx = \\frac{a_{0}^{2}}{2} + \\sum_{n=1}^{\\infty} (a_{n}^{2} + b_{n}^{2}) \\tag{10}$$"
   ]
  },
  {
   "cell_type": "markdown",
   "id": "2c3f03d6",
   "metadata": {},
   "source": [
    "#### <font color='blue'> Exemplo 12 </font>"
   ]
  },
  {
   "cell_type": "markdown",
   "id": "d1e184d9",
   "metadata": {},
   "source": [
    "<font color='blue'> Considere a série de Fourier da função $f(x) = x, \\ 0 < x < 2$ (**Exemplo 8**):<br><br>\n",
    " $$f(x) = 1 + \\sum_{n=1}^{\\infty} \\frac{4}{n^{2}\\pi^{2}}(cos(n\\pi)-1)cos\\left(\\frac{n\\pi x}{2}\\right)$$<br>\n",
    " Utilize a identidade de Parseval para determinar a soma da série:<br><br>\n",
    " $$\\frac{1}{1^{4}} + \\frac{1}{3^{4}} + \\frac{1}{5^{4}} + \\ldots + \\frac{1}{(2n-1)^{4}} + \\ldots$$"
   ]
  },
  {
   "cell_type": "markdown",
   "id": "cfe1d625",
   "metadata": {},
   "source": [
    "##### <font color='blue'> Solução </font>"
   ]
  },
  {
   "cell_type": "markdown",
   "id": "70f2904d",
   "metadata": {},
   "source": [
    "<font color='blue'> Temos que $L = 2$, $a_{0} = 2$, $a_{n} = \\frac{4}{n^{2}\\pi^{2}}(cos(n\\pi)-1)$ e $b_{n} = 0$. Neste caso, a identidade de Parseval é dada pela igualdade:<br><br>\n",
    " $$\\frac{1}{L}\\int_{-L}^{L} (f(x))^{2} dx = \\frac{a_{0}^{2}}{2} + \\sum_{n=1}^{\\infty} (a_{n}^{2} + b_{n}^{2}) \\Rightarrow \\frac{1}{2}\\int_{-2}^{2} x^{2} dx = \\frac{2^{2}}{2} + \\sum_{n=1}^{\\infty} \\left(\\left(\\frac{4}{n^{2}\\pi^{2}}(cos(n\\pi)-1)\\right)^{2} + 0^{2}\\right)\\Rightarrow$$<br>\n",
    " $$\\frac{1}{2}\\int_{-2}^{2} x^{2} dx = \\frac{2^{2}}{2} + \\sum_{n=1}^{\\infty} \\left(\\left(\\frac{4}{n^{2}\\pi^{2}}(cos(n\\pi)-1)\\right)^{2} + 0^{2}\\right) \\Rightarrow \\frac{1}{2}\\left.\\frac{x^{3}}{3}\\right|_{-2}^{2} = 2 + \\sum_{n=1}^{\\infty}\\frac{16}{n^{4}\\pi^{4}}(cos(n\\pi)-1)^{2} \\Rightarrow$$<br><br>\n",
    " $$\\frac{1}{2}\\left(\\frac{2^{3}}{3}-\\frac{(-2)^{3}}{3}\\right) = 2 + \\left(\\frac{16}{1^{4}\\pi^{4}}(-1 -1)^{2} + \\frac{16}{2^{4}\\pi^{4}}(1 -1)^{2} + \\frac{16}{3^{4}\\pi^{4}}(-1 -1)^{2} + \\frac{16}{4^{4}\\pi^{4}}(1 -1)^{2} + \\ldots\\right) \\Rightarrow$$<br>\n",
    " $$\\Rightarrow \\frac{8}{3} = 2 + \\left(\\frac{16}{1^{4}\\pi^{4}}\\cdot4 + \\frac{16}{2^{4}\\pi^{4}}\\cdot0 + \\frac{16}{3^{4}\\pi^{4}}\\cdot4 + \\frac{16}{4^{4}\\pi^{4}}\\cdot0 + \\ldots\\right) \\Rightarrow $$<br>\n",
    " $$\\Rightarrow \\frac{2}{3} = \\frac{64}{\\pi^{4}}\\left(\\frac{1}{1^{4}} + \\frac{1}{3^{4}} + \\frac{1}{5^{4}} + \\ldots \\right) \\Rightarrow \\frac{1}{1^{4}} + \\frac{1}{3^{4}} + \\frac{1}{5^{4}} + \\ldots = \\frac{\\pi^{4}}{96}$$"
   ]
  },
  {
   "cell_type": "markdown",
   "id": "bb087e77",
   "metadata": {},
   "source": [
    "#### <font color='blue'> Exemplo 13 </font>"
   ]
  },
  {
   "cell_type": "markdown",
   "id": "5a4ca695",
   "metadata": {},
   "source": [
    "<font color='blue'> Use o **Exemplo 12** para obter a soma da série $\\frac{1}{1^{4}} + \\frac{1}{2^{4}} + \\frac{1}{3^{4}} + \\ldots + \\frac{1}{n^{4}} + \\ldots$"
   ]
  },
  {
   "cell_type": "markdown",
   "id": "24dad1f1",
   "metadata": {},
   "source": [
    "##### <font color='blue'> Solução </font>"
   ]
  },
  {
   "cell_type": "markdown",
   "id": "2acea346",
   "metadata": {},
   "source": [
    "<font color='blue'> De acordo o **Exemplo 12** temos que:<br><br>\n",
    " $$\\frac{1}{1^{4}} + \\frac{1}{3^{4}} + \\frac{1}{5^{4}} + \\ldots = \\frac{\\pi^{4}}{96}$$<br>\n",
    " Assim,<br><br>\n",
    " $$S = \\frac{1}{1^{4}} + \\frac{1}{2^{4}} + \\frac{1}{3^{4}} + \\frac{1}{4^{4}} + \\ldots = \\left(\\frac{1}{1^{4}} + \\frac{1}{3^{4}} + \\frac{1}{5^{4}} + \\ldots \\right) + \\left( \\frac{1}{2^{4}} + \\frac{1}{4^{4}} + \\frac{1}{6^{4}} + \\ldots\\right) = $$<br>\n",
    " $$= \\left(\\frac{1}{1^{4}} + \\frac{1}{3^{4}} + \\frac{1}{5^{4}} + \\ldots \\right) + \\frac{1}{2^{4}}\\left(\\frac{1}{1^{4}} + \\frac{1}{2^{4}} + \\frac{1}{3^{4}} + \\frac{1}{4^{4}} + \\ldots\\right) \\Rightarrow$$<br>\n",
    " $$\\Rightarrow S = \\frac{\\pi^{4}}{96} + \\frac{S}{16} \\Rightarrow S - \\frac{S}{16} = \\frac{\\pi^{4}}{96} \\Rightarrow \\frac{15S}{16} = \\frac{\\pi^{4}}{96} \\Rightarrow S = \\frac{\\pi^{4}}{90}$$\n",
    "    \n",
    " "
   ]
  },
  {
   "cell_type": "markdown",
   "id": "989b600e",
   "metadata": {},
   "source": [
    "<font color='blue'> "
   ]
  },
  {
   "cell_type": "markdown",
   "id": "0b768286",
   "metadata": {},
   "source": [
    "# <div style=\"margin-top: -20px;\">\n",
    "<hr style=\"border: 2px solid black;\">\n",
    "\n",
    "<font color='black'><span style=\"font-size: 22px;\"><strong>3.5 Notação Complexa Para Séries de Fourier</strong></span></font>\n",
    "\n",
    "<hr style=\"border: 2px solid black;\">\n",
    "</div>"
   ]
  },
  {
   "cell_type": "markdown",
   "id": "521760a7",
   "metadata": {},
   "source": [
    "#### Forma Complexa de Uma Série de Fourier"
   ]
  },
  {
   "cell_type": "markdown",
   "id": "1913470f",
   "metadata": {},
   "source": [
    "A forma complexa da série de Fourier de uma função $f(x)$ é dada por:\n",
    "\n",
    "<font color='red'>$$f(x) = \\sum_{n = -\\infty}^{\\infty} c_{n}e^{\\frac{in\\pi x}{L}} \\tag{11}$$</font>\n",
    "\n",
    "em que\n",
    "\n",
    "<font color='red'>$$c_{n} = \\frac{1}{2L}\\int_{-L}^{L} f(x)e^{\\frac{-in\\pi x}{L}} dx \\tag{12}$$</font>\n",
    "\n",
    "<font color='red'>$$c_{0} = \\frac{1}{2L}\\int_{-L}^{L} f(x)dx \\tag{13}$$</font>"
   ]
  },
  {
   "cell_type": "markdown",
   "id": "f607b8df",
   "metadata": {},
   "source": [
    "#### <font color='blue'> Exemplo 14 </font>"
   ]
  },
  {
   "cell_type": "markdown",
   "id": "c76195b4",
   "metadata": {},
   "source": [
    "<font color='blue'> Exiba a série de Fourier complexa da função $f(x) = x, \\ -2<x<2$."
   ]
  },
  {
   "cell_type": "markdown",
   "id": "c8ff6443",
   "metadata": {},
   "source": [
    "##### <font color='blue'> Solução </font>"
   ]
  },
  {
   "cell_type": "markdown",
   "id": "106daff0",
   "metadata": {},
   "source": [
    "<font color='blue'> Temos que<br><br>\n",
    " $$c_{n} = \\frac{1}{2L}\\int_{-L}^{L} f(x) e^{-\\frac{in\\pi x}{L}} dx = \\frac{1}{2\\cdot2} \\int_{-2}^{2} x e^{-\\frac{in\\pi x}{2}} dx = ^{[pp]} \\frac{1}{4}\\left(\\left.\\frac{2ix}{n\\pi}e^{-\\frac{in\\pi x}{2}}\\right|_{-2}^{2} -\\int_{-2}^{2}\\frac{2}{-in\\pi}e^{-\\frac{in\\pi x}{2}} dx\\right) =$$<br>\n",
    " $$=\\frac{1}{4}\\left(\\left.\\frac{2ix}{n\\pi}e^{-\\frac{in\\pi x}{2}}\\right|_{-2}^{2} - \\left.\\frac{2i}{n\\pi}\\frac{2}{-in\\pi}e^{-\\frac{in\\pi x}{2}}\\right|_{-2}^{2} \\right) = \\left.\\frac{ix}{2n\\pi}e^{-\\frac{in\\pi x}{2}}\\right|_{-2}^{2} - \\left.\\frac{1}{n^{2}\\pi^{2}}e^{-\\frac{in\\pi x}{2}}\\right|_{-2}^{2}=$$<br>\n",
    " $$= \\frac{2i}{2n\\pi}e^{-\\frac{in\\pi\\cdot2}{2}} - \\frac{-2i}{2n\\pi}e^{-\\frac{in\\pi\\cdot(-2)}{2}} + \\frac{1}{n^{2}\\pi^{2}}e^{-\\frac{in\\pi\\cdot2}{2}}-\\frac{1}{n^{2}\\pi^{2}}e^{-\\frac{in\\pi\\cdot(-2)}{2}} = $$<br>\n",
    " $$= \\left(\\frac{i}{n\\pi} + \\frac{1}{n^{2}\\pi^{2}} \\right)e^{-in\\pi} + \\left(\\frac{i}{n\\pi} - \\frac{1}{n^{2}\\pi^{2}} \\right)e^{in\\pi} =$$<br>\n",
    " $$= \\left(\\frac{i}{n\\pi} + \\frac{1}{n^{2}\\pi^{2}} \\right)(cos(n\\pi)-isen(n\\pi)) + \\left(\\frac{i}{n\\pi} - \\frac{1}{n^{2}\\pi^{2}} \\right)(cos(n\\pi) + isen(n\\pi)) =$$<br>\n",
    " $$= (Ai+B)(C-iS) + (Ai-B)(C+iS) = ACi + AS + BC -BSi + ACi-AS-BC-BSi = $$<br>\n",
    " $$= 2ACi - 2BSi = \\frac{2i}{n\\pi}cos(n\\pi) -\\frac{2i}{n^{2}\\pi^{2}}sen(n\\pi)$$<br>\n",
    " Considerando $n = 1, 2,...$ temos que $sen(n\\pi) = 0$ e $cos(n\\pi) = (-1)^{n}$ donde segue que:<br><br>\n",
    " $$= c_{n} = \\frac{2i}{n\\pi}(-1)^{n}$$<br>\n",
    " Para finalizar vejamos o cálculo de $c_{0}$:<br><br>\n",
    " $$c_{0} = \\frac{1}{2L}\\int_{-L}^{L} x dx = \\frac{1}{2\\cdot2}\\int_{-2}^{2} x dx = \\left.\\frac{1}{4}\\frac{x^{2}}{2}\\right|_{-2}^{2} = 0$$<br>\n",
    " Finalmente,<br><br>\n",
    " $$f(x) = \\sum_{n = -\\infty, \\neq 0}^{\\infty} \\frac{2i(-1)^{n}}{n\\pi}e^{\\frac{in\\pi x}{2}}.$$<br>\n",
    " Embora não tenhamos um código completo para o cálculo da série de Fourier complexa em sua forma algébrica, podemos calcular seus coeficientes da seguinte forma:"
   ]
  },
  {
   "cell_type": "code",
   "execution_count": 1,
   "id": "dc70e653",
   "metadata": {},
   "outputs": [
    {
     "name": "stdout",
     "output_type": "stream",
     "text": [
      "c_-10 = 0.e-23 - 0.0636619772367581*I\n",
      "c_-9 = 0.e-23 + 0.0707355302630646*I\n",
      "c_-8 = 0.e-23 - 0.0795774715459477*I\n",
      "c_-7 = 0.e-23 + 0.0909456817667973*I\n",
      "c_-6 = 0.e-23 - 0.106103295394597*I\n",
      "c_-5 = 0.e-22 + 0.127323954473516*I\n",
      "c_-4 = 0.e-22 - 0.159154943091895*I\n",
      "c_-3 = 0.e-22 + 0.212206590789194*I\n",
      "c_-2 = 0.e-22 - 0.318309886183791*I\n",
      "c_-1 = 0.e-21 + 0.636619772367581*I\n",
      "c_0 = 0\n",
      "c_1 = 0.e-21 - 0.636619772367581*I\n",
      "c_2 = 0.e-22 + 0.318309886183791*I\n",
      "c_3 = 0.e-22 - 0.212206590789194*I\n",
      "c_4 = 0.e-22 + 0.159154943091895*I\n",
      "c_5 = 0.e-22 - 0.127323954473516*I\n",
      "c_6 = 0.e-23 + 0.106103295394597*I\n",
      "c_7 = 0.e-23 - 0.0909456817667973*I\n",
      "c_8 = 0.e-23 + 0.0795774715459477*I\n",
      "c_9 = 0.e-23 - 0.0707355302630646*I\n",
      "c_10 = 0.e-23 + 0.0636619772367581*I\n"
     ]
    }
   ],
   "source": [
    "import sympy as sp\n",
    "\n",
    "# Definindo as variáveis\n",
    "x, n = sp.symbols('x n', real=True)\n",
    "\n",
    "# Definindo a função\n",
    "f = x\n",
    "\n",
    "# Período da função\n",
    "L = 2\n",
    "\n",
    "# Fórmula do coeficiente da série de Fourier complexa\n",
    "c_n = (1/(2*L)) * sp.integrate(f * sp.exp(-sp.I * n * sp.pi  * x /L), (x, -2, 2))\n",
    "\n",
    "# Calcular os coeficientes para diferentes valores de n\n",
    "coeficientes = {ni: c_n.subs(n, ni).evalf() for ni in range(-10, 11)}\n",
    "\n",
    "for ni, coef in coeficientes.items():\n",
    "    print(f\"c_{ni} = {coef}\")\n"
   ]
  },
  {
   "cell_type": "markdown",
   "id": "1ef8fe8e",
   "metadata": {
    "heading_collapsed": true
   },
   "source": [
    "# <div style=\"margin-top: -20px;\">\n",
    "<hr style=\"border: 2px solid black;\">\n",
    "\n",
    "<font color='black'><span style=\"font-size: 22px;\"><strong>Exercícios</strong></span></font>\n",
    "\n",
    "<hr style=\"border: 2px solid black;\">\n",
    "</div>"
   ]
  },
  {
   "cell_type": "markdown",
   "id": "7e4ab253",
   "metadata": {
    "heading_collapsed": true,
    "hidden": true
   },
   "source": [
    "#### Exercício 1$^{[3]}$"
   ]
  },
  {
   "cell_type": "markdown",
   "id": "65286cb6",
   "metadata": {
    "hidden": true
   },
   "source": [
    "Considere a função *square-wave*\n",
    "\n",
    "$$f(x) = \\left\\{ \\begin{array}{}\n",
    "-1 &  -\\frac{T}{2} \\leq x < 0 \\\\\n",
    "+1 & \\ \\ \\ 0 \\leq x < \\frac{T}{2} \\end{array}\\right. \\ \\ \\ \\text{Período} = T$$\n",
    "\n",
    "Escreva a série de Fourier correspondente à função square-wave."
   ]
  },
  {
   "cell_type": "markdown",
   "id": "9725c05b",
   "metadata": {
    "heading_collapsed": true,
    "hidden": true
   },
   "source": [
    "#### Exercício 2$^{[3]}$"
   ]
  },
  {
   "cell_type": "markdown",
   "id": "7f24e533",
   "metadata": {
    "hidden": true
   },
   "source": [
    "Exiba a série de Fourier de $f(x) = x^{2}$ para $-2\\leq x \\leq 2$."
   ]
  },
  {
   "cell_type": "markdown",
   "id": "778f46cf",
   "metadata": {
    "heading_collapsed": true,
    "hidden": true
   },
   "source": [
    "#### Exercício 3$^{[3]}$"
   ]
  },
  {
   "cell_type": "markdown",
   "id": "dc3bc145",
   "metadata": {
    "hidden": true
   },
   "source": [
    "Pode-se mostrar que a diferenciação e integração de uma série de Fourier pode ser feita termo a termo. Considere a série de Fourier obtida no **Exercício 2**:\n",
    "\n",
    "$$f(x) = x^{2} = \\frac{4}{3} + 16\\sum_{n=1}^{\\infty} \\frac{(-1)^{n}}{n^{2}\\pi^{2}}cos\\left(\\frac{n\\pi x}{2}\\right)$$\n",
    "\n",
    "a) Derive a série de Fourier associada a $f(x)$.\n",
    "\n",
    "b) Integre a sérei de Fourier associada a $f(x)$.\n",
    "\n",
    "c) Manipule as respostas dos itens \"a\" e \"b\" para deduzir a série de Fourier associada à função $g(x) = x^{3}$."
   ]
  },
  {
   "cell_type": "markdown",
   "id": "a53ec706",
   "metadata": {
    "heading_collapsed": true,
    "hidden": true
   },
   "source": [
    "#### Exercício 4$^{[3]}$"
   ]
  },
  {
   "cell_type": "markdown",
   "id": "df37e04f",
   "metadata": {
    "hidden": true
   },
   "source": [
    "a) Exiba a série de Fourier da função $f(x) = x, \\ -\\pi < x \\leq \\pi$.\n",
    "\n",
    "b) Use o item \"a\" para mostar que\n",
    "\n",
    "$$1 - \\frac{1}{3} + \\frac{1}{5} - \\frac{1}{7} + \\ldots = \\frac{\\pi}{4}.$$"
   ]
  },
  {
   "cell_type": "markdown",
   "id": "759ed97d",
   "metadata": {
    "heading_collapsed": true,
    "hidden": true
   },
   "source": [
    "#### Exercício 5$^{[6]}$"
   ]
  },
  {
   "cell_type": "markdown",
   "id": "2342080f",
   "metadata": {
    "hidden": true
   },
   "source": [
    "Prove que\n",
    "\n",
    "a) $\\int_{-L}^{L} sen\\left(\\frac{n\\pi x}{L}\\right) dx = \\int_{-L}^{L} cos\\left(\\frac{n\\pi x}{L}\\right) dx \\ \\ \\text{se} \\ \\ n = 1,2,3, \\ldots$\n",
    "\n",
    "b) $\\int_{-L}^{L} cos\\left(\\frac{m\\pi x}{L}\\right)cos\\left(\\frac{n\\pi x}{L}\\right) dx = \\int_{-L}^{L} sen\\left(\\frac{m\\pi x}{L}\\right)sen\\left(\\frac{n\\pi x}{L}\\right) dx =\n",
    "\\left\\{\\begin{array}{}\n",
    "0 & m \\neq n \\\\\n",
    "L & m = n \\\\\n",
    "\\end{array}\\right. \\ \\ m,n \\in \\left\\{1,2,3,\\ldots \\right\\}$\n",
    "\n",
    "c) $\\int_{-L}^{L} sen\\left(\\frac{m\\pi x}{L}\\right)cos\\left(\\frac{n\\pi x}{L}\\right) dx = 0, \\ \\ m,n \\in \\left\\{1,2,3,\\ldots \\right\\}$"
   ]
  },
  {
   "cell_type": "markdown",
   "id": "a95fa9d8",
   "metadata": {
    "heading_collapsed": true,
    "hidden": true
   },
   "source": [
    "#### Exercício 6$^{[6]}$"
   ]
  },
  {
   "cell_type": "markdown",
   "id": "51978930",
   "metadata": {
    "hidden": true
   },
   "source": [
    "a) Desenvolva $f(x) = sen(x), \\ 0 < x < \\pi$, em série de Fourier de cossenos.\n",
    "\n",
    "b) Use o item \"a\" para mostrar que $\\sum_{n=1}^{\\infty} \\frac{1}{4n^{2}-1} = \\frac{1}{2}$."
   ]
  },
  {
   "cell_type": "markdown",
   "id": "a9e4ba57",
   "metadata": {
    "heading_collapsed": true,
    "hidden": true
   },
   "source": [
    "#### Exercício 7$^{[6]}$"
   ]
  },
  {
   "cell_type": "markdown",
   "id": "62e14d23",
   "metadata": {
    "hidden": true
   },
   "source": [
    "Considere as seguintes expansões da função $f(x) = x(\\pi-x), \\ 0 \\leq x \\leq \\pi$:\n",
    "\n",
    "i) $x(\\pi-x) = \\frac{\\pi^{2}}{6} - \\left(\\frac{cos(2x)}{1^{2}} + \\frac{cos(4x)}{2^{2}} + \\frac{cos(6x)}{3^{2}} + \\ldots \\right)$\n",
    "\n",
    "ii) $x(\\pi-x) = \\frac{8}{\\pi}\\left(\\frac{sen(x)}{1^{3}} + \\frac{sen(3x)}{3^{3}} + \\frac{sen(5x)}{5^{3}} \\right)$\n",
    "\n",
    "a) Utilize a série \"i\" para mostrar que $\\sum_{n=1}^{\\infty} \\frac{(-1)^{n-1}}{n^{2}} = \\frac{\\pi^{2}}{12}$.\n",
    "\n",
    "b) Utilize a série \"ii\" para mostrar que $\\sum_{n=1}^{\\infty} \\frac{(-1)^{n-1}}{(2n-1)^{3}} = \\frac{\\pi^{3}}{32}$."
   ]
  },
  {
   "cell_type": "markdown",
   "id": "a561945f",
   "metadata": {
    "heading_collapsed": true
   },
   "source": [
    "# <div style=\"margin-top: -20px;\">\n",
    "<hr style=\"border: 2px solid black;\">\n",
    "\n",
    "<font color='black'><span style=\"font-size: 22px;\"><strong>Respostas dos Exercícios</strong></span></font>\n",
    "\n",
    "<hr style=\"border: 2px solid black;\">\n",
    "</div>"
   ]
  },
  {
   "cell_type": "markdown",
   "id": "8cb15daa",
   "metadata": {
    "heading_collapsed": true,
    "hidden": true
   },
   "source": [
    "#### Resposta do Exercício 1"
   ]
  },
  {
   "cell_type": "markdown",
   "id": "2b19821c",
   "metadata": {
    "hidden": true
   },
   "source": [
    "$$f(x) = \\frac{4}{\\pi}\\left(sen\\left(\\frac{2\\pi x}{T}\\right) + \\frac{1}{3}sen\\left(\\frac{6\\pi x}{T}\\right) + \\frac{1}{5}sen\\left(\\frac{10\\pi x}{T}\\right) + \\ldots\\right)$$"
   ]
  },
  {
   "cell_type": "markdown",
   "id": "ebcf57a9",
   "metadata": {
    "heading_collapsed": true,
    "hidden": true
   },
   "source": [
    "#### Resposta do Exercício 2"
   ]
  },
  {
   "cell_type": "markdown",
   "id": "bfc0faef",
   "metadata": {
    "hidden": true
   },
   "source": [
    "$$x^{2} = \\frac{4}{3} + 16\\left(-\\frac{1}{\\pi^{2}}cos\\left(\\frac{\\pi x}{2} \\right) + \\frac{1}{4\\pi^{2}}cos\\left(\\frac{2\\pi x}{2} \\right) - \\frac{1}{9\\pi^{2}}cos\\left(\\frac{3\\pi x}{2}\\right) + \\ldots \\right) =$$\n",
    "$$ = \\frac{4}{3} + 16\\sum_{n=1}^{\\infty} \\frac{(-1)^{n}}{n^{2}\\pi^{2}}cos\\left(\\frac{n\\pi x}{2}\\right)$$"
   ]
  },
  {
   "cell_type": "markdown",
   "id": "a8cb67f1",
   "metadata": {
    "heading_collapsed": true,
    "hidden": true
   },
   "source": [
    "#### Resposta do Exercício 3"
   ]
  },
  {
   "cell_type": "markdown",
   "id": "26bff02f",
   "metadata": {
    "hidden": true
   },
   "source": [
    "a) $f'(x) = 2x = -8\\sum_{n=1}^{\\infty} \\frac{(-1)^{n}}{n^{2}\\pi^{2}} sen\\left(\\frac{n\\pi x}{2}\\right)$\n",
    "\n",
    "b) $\\int f(x) dx = \\frac{4}{3}x + 32\\sum_{n=1}^{\\infty} \\frac{(-1)^{n}}{n^{3}\\pi^{3}}sen\\left(\\frac{n\\pi x}{2} \\right) + c$ (Tome $c = 0$ pois $0^{3} = 0$).\n",
    "\n",
    "c) $g(x) = x^{3} = \\sum_{n=1}^{\\infty} (-1)^{n} \\left(\\frac{96}{n^{3}\\pi^{3}} -\\frac{16}{n\\pi} \\right)sen\\left(\\frac{n\\pi x}{2}\\right)$"
   ]
  },
  {
   "cell_type": "markdown",
   "id": "d1e245c2",
   "metadata": {
    "heading_collapsed": true,
    "hidden": true
   },
   "source": [
    "#### Resposta do Exercício 4"
   ]
  },
  {
   "cell_type": "markdown",
   "id": "58225ea1",
   "metadata": {
    "hidden": true
   },
   "source": [
    "a) $x = 2\\left(sen(x) - \\frac{sen(2x)}{2} + \\frac{sen(3x)}{3} - \\frac{sen(4x)}{4} + \\ldots \\right) = 2\\sum_{n=1}^{\\infty} \\frac{(-1)^{n+1}}{n}sen(nx)$\n",
    "\n",
    "b) Aplique $\\frac{pi}{2}$ aos dois membros da resposta obtida no item \"a\"."
   ]
  },
  {
   "cell_type": "markdown",
   "id": "9d96c911",
   "metadata": {
    "heading_collapsed": true,
    "hidden": true
   },
   "source": [
    "#### Resposta do Exercício 5"
   ]
  },
  {
   "cell_type": "markdown",
   "id": "bfee2f7c",
   "metadata": {
    "hidden": true
   },
   "source": [
    "Calcule as integrais."
   ]
  },
  {
   "cell_type": "markdown",
   "id": "30dabef9",
   "metadata": {
    "heading_collapsed": true,
    "hidden": true
   },
   "source": [
    "#### Resposta do Exercício 6"
   ]
  },
  {
   "cell_type": "markdown",
   "id": "31dc1706",
   "metadata": {
    "hidden": true
   },
   "source": [
    "a) $f(x) = \\frac{2}{\\pi} - \\frac{4}{\\pi}\\left(\\frac{cos(2x)}{2^{2}-1} + \\frac{cos(4x)}{4^{2}-1} + \\frac{cos(6x)}{6^{2}-1} + \\ldots \\right)$\n",
    "\n",
    "b) Aplique $0$ aos dois mebros da resposta obtida no item \"a\"."
   ]
  },
  {
   "cell_type": "markdown",
   "id": "7f92eaab",
   "metadata": {
    "heading_collapsed": true,
    "hidden": true
   },
   "source": [
    "#### Resposta do Exercício 7"
   ]
  },
  {
   "cell_type": "markdown",
   "id": "7fef3b4b",
   "metadata": {
    "hidden": true
   },
   "source": [
    "a) Aplique $\\frac{\\pi}{2}$ a ambos membros da série \"i\".\n",
    "\n",
    "b) Aplique $\\frac{\\pi}{2}$ a ambos membros da série \"ii\"."
   ]
  },
  {
   "cell_type": "markdown",
   "id": "bb844f24",
   "metadata": {
    "heading_collapsed": true
   },
   "source": [
    "# <div style=\"margin-top: -20px;\">\n",
    "<hr style=\"border: 2px solid black;\">\n",
    "\n",
    "<font color='black'><span style=\"font-size: 22px;\"><strong>Vídeo Aulas</strong></span></font>\n",
    "\n",
    "<hr style=\"border: 2px solid black;\">\n",
    "</div>"
   ]
  },
  {
   "cell_type": "markdown",
   "id": "4062851d",
   "metadata": {
    "hidden": true
   },
   "source": [
    "Clicando nos links a seguir você será redirecionado às aulas referentes a este capítulo:\n",
    "\n"
   ]
  },
  {
   "cell_type": "markdown",
   "id": "4bd351bd",
   "metadata": {
    "heading_collapsed": true
   },
   "source": [
    "# <div style=\"margin-top: -20px;\">\n",
    "<hr style=\"border: 2px solid black;\">\n",
    "\n",
    "<font color='black'><span style=\"font-size: 22px;\"><strong>Referências</strong></span></font>\n",
    "\n",
    "<hr style=\"border: 2px solid black;\">\n",
    "</div>"
   ]
  },
  {
   "cell_type": "markdown",
   "id": "e4c36f16",
   "metadata": {
    "hidden": true
   },
   "source": [
    "$[0]$ Bibliografia constante no Projeto Pedagógico do Curso de Engenharia Elétrica 2023.\n",
    "\n",
    "$[1]$ FERNANDEZ, C. de S.; BERNANDES JÚNIOR, N. Introdução às funções de uma variável complexa. Rio de Janeiro: SBM, 2016.\n",
    "\n",
    "$[2]$ BUTKOV, E. Física matemática. Rio de Janeiro: LTC, 1988.\n",
    "\n",
    "$[3]$ RILEY, K. F.; HOBSON, M. P.; BENCE, S. J. Mathematical methods for physics and engineering. 3rd ed. Cambridge: Cambridge University Press, 2006.\n",
    "\n",
    "$[4]$ SANTOS, R. J., Transformada de Fourier. Belo Horizonte: Universidade Federal de Minas Gerais, 2017.\n",
    "\n",
    "$[5]$ SOARES, A. Curso Python Com Jupyter Notebook. Instituto Federal da Bahia, Campus Vitória da Conquista, $2023$. Disponível em https://github.com/ProfAllanIFBA/Curso_Python_Com_Jupyter_Notebook\n",
    "\n",
    "$[6]$ SPIEGEL, M. R. Advanced mathematics for engineers and scientists. New York: McGraw-Hill, 1971.\n",
    "\n",
    "$[7]$ SPIEGEL, M. R. Cálculo Avançado. São Paulo: McGraw-Hill, 1971.\n",
    "\n",
    "$[8]$ ZILL, D. G.; CULLEN, M. R. Matemática avançada para engenharia, v.3: equações diferenciais parciais, métodos de Fourier e variáveis complexas. 3 ed. Porto Alegre: Bookman, 2009.\n",
    "\n",
    "$[9]$ ZILL, D. G., Advanced Engineering Mathematics. 6rd ed. Jones & Bartlett Learning 2017.\n",
    "\n",
    "$[10]$ ZILL, D. G., CULLEN, M. R. Equações Diferenciais. v1, 3 ed. São Paulo: Makron Books, 2001."
   ]
  }
 ],
 "metadata": {
  "kernelspec": {
   "display_name": "Python 3 (ipykernel)",
   "language": "python",
   "name": "python3"
  },
  "language_info": {
   "codemirror_mode": {
    "name": "ipython",
    "version": 3
   },
   "file_extension": ".py",
   "mimetype": "text/x-python",
   "name": "python",
   "nbconvert_exporter": "python",
   "pygments_lexer": "ipython3",
   "version": "3.11.5"
  },
  "varInspector": {
   "cols": {
    "lenName": 16,
    "lenType": 16,
    "lenVar": 40
   },
   "kernels_config": {
    "python": {
     "delete_cmd_postfix": "",
     "delete_cmd_prefix": "del ",
     "library": "var_list.py",
     "varRefreshCmd": "print(var_dic_list())"
    },
    "r": {
     "delete_cmd_postfix": ") ",
     "delete_cmd_prefix": "rm(",
     "library": "var_list.r",
     "varRefreshCmd": "cat(var_dic_list()) "
    }
   },
   "types_to_exclude": [
    "module",
    "function",
    "builtin_function_or_method",
    "instance",
    "_Feature"
   ],
   "window_display": false
  }
 },
 "nbformat": 4,
 "nbformat_minor": 5
}

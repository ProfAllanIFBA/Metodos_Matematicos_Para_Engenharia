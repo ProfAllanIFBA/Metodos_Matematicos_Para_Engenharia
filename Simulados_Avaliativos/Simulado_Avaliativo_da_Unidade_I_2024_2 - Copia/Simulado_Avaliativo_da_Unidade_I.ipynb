{
 "cells": [
  {
   "cell_type": "markdown",
   "id": "acd99fbb",
   "metadata": {},
   "source": [
    "<center> <img src=\"logo_ifba.jpg\" alt=\"jpg_python\" width=\"100\" height=\"200\"> </center>\n",
    "<br><br>\n",
    "<div align=\"center\"><span style=\"font-size: 26px;\"><strong>Métodos Matemáticos Para Engenharia <br></strong></span></div> <br>\n",
    "<center> <img src=\"python_gif.gif\" alt=\"gif_python\" width=\"80\"> </center>"
   ]
  },
  {
   "cell_type": "markdown",
   "id": "0e6c75b2",
   "metadata": {},
   "source": [
    "# Simulado Avaliativo\n",
    "da Unidade I - 2024.2"
   ]
  },
  {
   "cell_type": "markdown",
   "id": "08981f5b",
   "metadata": {},
   "source": [
    "#### Questão 1"
   ]
  },
  {
   "cell_type": "markdown",
   "id": "55b85839",
   "metadata": {},
   "source": [
    "Considerando o número complexo $w = cos(z^{6})$ em que $z = \\frac{1+3i}{2 + i}$ assinale a alternativa correta:\n",
    "\n",
    "a) $|w| = 0$ e $arg(w) = 0$\n",
    "\n",
    "b) $Re(w) = \\frac{e^{8}+e^{-8}}{2}$ e $arg(w) = \\frac{\\pi}{4}$\n",
    "\n",
    "c) $|w| \\leq 1$\n",
    "\n",
    "d) $Im(w) = 0$ e $arg(w) = 0$\n",
    "\n",
    "e) Nenhuma das alternativas anteriores está correta. "
   ]
  },
  {
   "cell_type": "markdown",
   "id": "46804d95",
   "metadata": {},
   "source": [
    "##### Solução Escrita"
   ]
  },
  {
   "cell_type": "markdown",
   "id": "0321147c",
   "metadata": {},
   "source": [
    "Temos que\n",
    "\n",
    "$$z = \\frac{1 + 3i}{2+i} = \\frac{1 + 3i}{2+i}\\frac{2-i}{2-i} = \\frac{2-i + 6i - 3i^{2}}{2^{2}+1^{2}} = \\frac{5 + 5i}{5} = 1 + i$$\n",
    "\n",
    "Para facilitar calculemos o módulo e o argumento de $z = 1 + i$ e utilizemos a fórmula de Moivre para calcular $z^{6}$. Pois bem,\n",
    "\n",
    "$$|z| = \\sqrt{1^{2} + 1^{2}} = \\sqrt{2}, \\ \\  \\theta = arg(z) = tan^{-1}\\left(\\frac{1}{1}\\right) = tan^{-1}(1) = \\frac{\\pi}{4}$$\n",
    "\n",
    "Continuando,\n",
    "\n",
    "$$w = z^{6} = |\\sqrt{2}|^{6}\\left(cos\\left(6\\cdot\\frac{\\pi}{4}\\right) + isen\\left(6\\cdot\\frac{\\pi}{4}\\right)\\right) = 8\\left(cos\\left(\\frac{3\\pi}{2}\\right) + isen\\left(\\frac{3\\pi}{4}\\right)\\right) = 8(0-i) = -8i$$\n",
    "\n",
    "Assim,\n",
    "\n",
    "i) $cos(w) = \\frac{e^{i(-8i)} + e^{-i(-8i)}}{2} = \\frac{e^{8} + e^{-8}}{2} = \\boxed{1490.47916125} \\Rightarrow Re(w) = \\boxed{1490.47916125} \\ \\ \\text{e} \\ \\ Im(cos(w)) = \\boxed{0}$\n",
    "\n",
    "ii) $arg(w) = tan^{-1}\\left(\\frac{0}{-8}\\right) = tan^{-1}(0) = \\boxed{0}$\n",
    "\n",
    "Portanto, a alternativa correta é a \"d\"."
   ]
  },
  {
   "cell_type": "markdown",
   "id": "7b43b860",
   "metadata": {},
   "source": [
    "##### Solução Computacional"
   ]
  },
  {
   "cell_type": "code",
   "execution_count": 1,
   "id": "a4f268d1",
   "metadata": {
    "ExecuteTime": {
     "end_time": "2024-10-29T20:54:56.648855Z",
     "start_time": "2024-10-29T20:54:56.508115Z"
    }
   },
   "outputs": [],
   "source": [
    "import numpy as np\n",
    "\n",
    "# Cálculos\n",
    "z_num = complex(1,3)\n",
    "z_den = complex(2,1)\n",
    "z = z_num/z_den\n",
    "w = np.cos(z**6)\n",
    "parte_real = w.real\n",
    "parte_imaginaria = w.imag\n",
    "modulo = abs(w)\n",
    "argumento = np.arctan(w.imag/w.real)"
   ]
  },
  {
   "cell_type": "code",
   "execution_count": 2,
   "id": "ce915dee",
   "metadata": {
    "ExecuteTime": {
     "end_time": "2024-10-29T20:54:56.656024Z",
     "start_time": "2024-10-29T20:54:56.650872Z"
    }
   },
   "outputs": [
    {
     "name": "stdout",
     "output_type": "stream",
     "text": [
      "Parte real de w: 1490.479161252178\n",
      "Parte imaginaria de w: -0.0\n",
      "Módulo de w: 1490.479161252178\n",
      "Argumento de w: -0.0\n"
     ]
    }
   ],
   "source": [
    "# Resultados\n",
    "print(f'Parte real de w: {parte_real}')\n",
    "print(f'Parte imaginaria de w: {parte_imaginaria}')\n",
    "print(f'Módulo de w: {modulo}')\n",
    "print(f'Argumento de w: {argumento}')"
   ]
  },
  {
   "cell_type": "markdown",
   "id": "93797931",
   "metadata": {},
   "source": [
    "#### Questão 2"
   ]
  },
  {
   "cell_type": "markdown",
   "id": "716270ad",
   "metadata": {},
   "source": [
    "Sobre o polinômio de coeficientes reais\n",
    "\n",
    "$$P(z) = z^{3} - 4z^{2} + bz -4$$\n",
    "\n",
    "sabe-se:\n",
    "\n",
    "i) $b$ é uma constante real\n",
    "\n",
    "ii) $2$ e $1 - i$ são raízes deste polinômio.\n",
    "\n",
    "Nessas condições é correto afirmar que a soma $z_{1}z_{2} + z_{1}z_{3} + z_{2}z_{3}$ vale:\n",
    "\n",
    "a) $0$\n",
    "\n",
    "b) $-1$\n",
    "\n",
    "c) $-4$\n",
    "\n",
    "d) $-6$\n",
    "\n",
    "e) Nenhuma das alternativas anteriores apresenta a resposta correta."
   ]
  },
  {
   "cell_type": "markdown",
   "id": "eb4bcf29",
   "metadata": {},
   "source": [
    "##### Solução Escrita"
   ]
  },
  {
   "cell_type": "markdown",
   "id": "98d26c9c",
   "metadata": {},
   "source": [
    "<u>Forma 1</u>: Sendo $a \\in \\mathbb{R}$ temos que a terceira raiz de $P(z)$ é $1+i$ (raíz complexa conjugada de $1 - i$). Podemos admitir que $z_{1} = 2$, $z_{2} = 1 - i$ e $z_{3} = 1 + i$. Assim,\n",
    "\n",
    "$$p = z_{1}z_{2} + z_{1}z_{3} + z_{2}z_{3} = 2(1-i) + 2(1+i) + (1-i)(1+i) = 2 - 2i + 2 + 2i + 1^{2} + 1^{2} = 6.$$\n",
    "\n",
    "Portanto, a alternativa correta é a \"e\":\n",
    "\n",
    "<u>Forma 2</u>: Como $2$ é raiz de $P(z)$, temos que $P(z)$, temos que $P(2) = 0$. Assim,\n",
    "\n",
    "$$P(2) = 0 \\Rightarrow 2^{3} - 4\\cdot2^{2} + b\\cdot2 - 4 = 0 \\Rightarrow 8 - 16 + 2b - 4 = 0 \\Rightarrow b = 6 \\Rightarrow P(z) =  z^{3} - 4z^{2} + 6z -4$$\n",
    "\n",
    "Sabemos que $P(z) = z^{3} - 4z^{2} + 6z -4$ pode ser escrito como $P(z) = (z-z_{1})(z - z_{2})(z-z_{3})$. Observe que\n",
    "\n",
    "$$P(z) = z^{3} + (z_{1} + z_{2} + z_{3})z^{2} + (z_{1}z_{2} + z_{1}z_{3} + z_{2}z_{3})z + z_{1}z_{2}z_{3}.$$\n",
    "\n",
    "Por igualdade de polinômios, temos que $z_{1}z_{2} + z_{1}z_{3} + z_{2}z_{3} = 6$.\n",
    "\n",
    "De modo geral, um polinômio mônico ($a_{n} = 1$),\n",
    "\n",
    "$$P(z) = z^{n} + a_{n-1}z^{n-1} + \\ldots + a_{1}z + a_{0}$$\n",
    "\n",
    "com raízes $z_{1}, z_{2}, \\ldots, z_{n}$ é tal que\n",
    "\n",
    "i) $a_{n} = z_{1} + z_{2} + \\ldots + z_{n}$ (soma das raízes)\n",
    "\n",
    "ii) $a_{n-1} = z_{1}z_{2} + z_{1}z_{3} + \\ldots + z_{k}z_{r} + \\ldots z_{n-1}z_{n}$ (soma dos produtos de duas raízes)\n",
    "\n",
    "iii) $a_{n-k} = z_{1}z_{2}\\ldots z_{k+1} + z_{1}z_{2}\\ldots z_{k+2} + \\ldots + z_{n-k+1} \\ldots z_{n-1}z_{n} $ (soma dos produtos de $k$ raízes)\n",
    "\n",
    "iv) $a_{0} =  z_{1}z_{2}\\ldots z_{n}$ (produto de todas as raízes)\n",
    "\n",
    "Portanto, a alternativa correta é a \"e\".\n",
    "\n",
    "Embora a Forma $2$ pareça mais complicada ela fornece importantes relações entre as raízes de uma polinômio mônico de grau $n$."
   ]
  },
  {
   "cell_type": "markdown",
   "id": "46f70bf6",
   "metadata": {},
   "source": [
    "##### Solução Computacional"
   ]
  },
  {
   "cell_type": "markdown",
   "id": "6576fc16",
   "metadata": {},
   "source": [
    "Considerando a Forma 1, temos:"
   ]
  },
  {
   "cell_type": "code",
   "execution_count": 3,
   "id": "005268b1",
   "metadata": {
    "ExecuteTime": {
     "end_time": "2024-10-29T20:54:56.663256Z",
     "start_time": "2024-10-29T20:54:56.657024Z"
    }
   },
   "outputs": [],
   "source": [
    "# Números Complexos\n",
    "z1 = complex(2,0)\n",
    "z2 = complex(1,-1)\n",
    "z3 = complex(1,1) # Raíz complexa conjugada\n",
    "produto = z1*z2 + z1*z3 + z2*z3"
   ]
  },
  {
   "cell_type": "code",
   "execution_count": 4,
   "id": "62ddc0e2",
   "metadata": {
    "ExecuteTime": {
     "end_time": "2024-10-29T20:54:56.674923Z",
     "start_time": "2024-10-29T20:54:56.665256Z"
    }
   },
   "outputs": [
    {
     "data": {
      "text/plain": [
       "(6+0j)"
      ]
     },
     "execution_count": 4,
     "metadata": {},
     "output_type": "execute_result"
    }
   ],
   "source": [
    "# Resposta\n",
    "produto"
   ]
  },
  {
   "cell_type": "markdown",
   "id": "f08e15c8",
   "metadata": {},
   "source": [
    "Esta é uma questão conceitual e, portanto, a solução, depende em parte de raciocínio humano."
   ]
  },
  {
   "cell_type": "markdown",
   "id": "66e128af",
   "metadata": {},
   "source": [
    "#### Questão 3"
   ]
  },
  {
   "cell_type": "markdown",
   "id": "21f322b1",
   "metadata": {},
   "source": [
    "Considere a equação \n",
    "\n",
    "$$eq: \\ (z^{3}-1)(z^{3}-8i) = 0.$$\n",
    "\n",
    "Assinale a alternativa correta:\n",
    "\n",
    "a) A equação dada possui exatamente $6$ raízes complexas.\n",
    "\n",
    "b) A equação em questão possui duas raízes reais e outras quatro complexas ocorrendo aos pares.\n",
    "\n",
    "c) Apenas duas das seis raízes da equação são conjugadas uma da outra.\n",
    "\n",
    "d) Todas as soluções apresentam parte real negativa.\n",
    "\n",
    "e) Nenhuma das alternativas anteriores está correta."
   ]
  },
  {
   "cell_type": "markdown",
   "id": "5cae4226",
   "metadata": {},
   "source": [
    "##### Solução Escrita"
   ]
  },
  {
   "cell_type": "markdown",
   "id": "a482e6d5",
   "metadata": {},
   "source": [
    "Sabe-se que as raízes dessa equação produto é o conjunto formado pelas raízes das equações\n",
    "\n",
    "$$eq_{1}: \\ z^{3}-1 = 0 \\ \\ \\text{e} \\ \\ eq_{2}: \\ z^{3} - 8i = 0.$$\n",
    "\n",
    "Vejamos as soluções de cada uma das equações $eq_{1}$ e $eq_{2}$. Para tanto usaremos o fato de as soluções de uma equação da forma $z^{n} - m = 0$ serem dadas por:\n",
    "\n",
    "$$z_{k} = m^{1/n}e^{\\frac{(k-1)2i\\pi}{n}}, \\ \\ k \\in \\{1,2,3,\\ldots,n-1\\}$$\n",
    "\n",
    "$\\bullet \\ eq_{1}: \\ z^{3} - 1 = 0$ Temos que $m = 1$ donde segue que\n",
    "\n",
    "$z_{1} = 1^{\\frac{1}{3}}e^{\\frac{0\\cdot2i\\pi}{3}} = 1(cos(0) + isen(0)) = 1$\n",
    "\n",
    "$z_{2} = 1^{\\frac{1}{3}}e^{\\frac{1\\cdot2i\\pi}{3}} = 1\\left(cos\\left(\\frac{2i\\pi}{3}\\right) + isen\\left(\\frac{2i\\pi}{3}\\right)\\right) = -\\frac{1}{2} + i\\frac{\\sqrt{3}}{2}$\n",
    "\n",
    "$z_{3} = 1^{\\frac{1}{3}}e^{\\frac{2\\cdot2i\\pi}{3}} = 1\\left(cos\\left(\\frac{4i\\pi}{3}\\right) + isen\\left(\\frac{4i\\pi}{3}\\right)\\right) = -\\frac{1}{2} - i\\frac{\\sqrt{3}}{2}$\n",
    "\n",
    "$\\bullet \\ eq_{2}: \\ z^{3} - 8i = 0$ Por outro lado, para resolvermos a equação $z^{3} - 8i = 0$ precisamos obter $m = (8i)^{\\frac{1}{3}}$. Sabemos que $8i = 8e^{\\frac{i\\pi}{2}}$. Assim,\n",
    "\n",
    "$$m^{\\frac{1}{3}} = (8i)^{\\frac{1}{3}} =  \\left(8e^{\\frac{i\\pi}{2}}\\right)^{\\frac{1}{3}} = 8^{\\frac{1}{3}}\\left(e^{\\frac{i\\pi}{2}}\\right)^{\\frac{1}{3}} = 2e^{\\frac{i\\pi}{6}} = 2\\left(cos\\left(\\frac{\\pi}{6}\\right) +  isen\\left(\\frac{\\pi}{6}\\right)\\right) = 2\\left(\\frac{\\sqrt{3}}{2} + i\\frac{1}{2} \\right) = \\sqrt{3} + i$$\n",
    "\n",
    "Continuando, temos:\n",
    "\n",
    "$z_{4} = (8i)^{\\frac{1}{3}}e^{\\frac{0\\cdot2i\\pi}{3}} = (\\sqrt{3} + i)(cos(0) + isen(0)) = \\sqrt{3} + i$\n",
    "\n",
    "$z_{5} = (8i)^{\\frac{1}{3}}e^{\\frac{1\\cdot2i\\pi}{3}} = (\\sqrt{3} + i)\\left(cos\\left(\\frac{2i\\pi}{3}\\right) + isen\\left(\\frac{2i\\pi}{3}\\right)\\right) = (\\sqrt{3} + i)\\left(-\\frac{1}{2} + i\\frac{\\sqrt{3}}{2} \\right) = -\\sqrt{3} + i$\n",
    "\n",
    "$z_{6} = (8i)^{\\frac{1}{3}}e^{\\frac{2\\cdot2i\\pi}{3}} = (\\sqrt{3} + i)\\left(cos\\left(\\frac{4i\\pi}{3}\\right) + isen\\left(\\frac{4i\\pi}{3}\\right)\\right) = (\\sqrt{3} + i)\\left(-\\frac{1}{2} - i\\frac{\\sqrt{3}}{2} \\right) = -2i$\n",
    "\n",
    "Note que a alternativa \"a\" é falsa uma vez que uma das raízes ($z_{1} = 1$) é real. A alternativa \"a\" também é falsa pois existe somente uma raiz real e, além disso, somente duas delas são conjugadas uma da outra $\\left(z_{2} = -\\frac{1}{2} + i\\frac{\\sqrt{3}}{2} \\ \\text{e} \\ z_{3} = -\\frac{1}{2} - i\\frac{\\sqrt{3}}{2}\\right)$. <u>A alternativa \"c\" está correta</u>. A alternativa \"e\" é falsa pois $z_{1} = 1$. A alternativa \"e\" é, obviamente, incorreta."
   ]
  },
  {
   "cell_type": "markdown",
   "id": "d1b22b73",
   "metadata": {},
   "source": [
    "##### Solução Computacional"
   ]
  },
  {
   "cell_type": "code",
   "execution_count": 5,
   "id": "75261a6a",
   "metadata": {
    "ExecuteTime": {
     "end_time": "2024-10-29T20:54:56.683674Z",
     "start_time": "2024-10-29T20:54:56.676051Z"
    }
   },
   "outputs": [],
   "source": [
    "import numpy as np\n",
    "\n",
    "def raizes_complexas(z,n):\n",
    "    r = abs(z)\n",
    "    theta = np.angle(z)\n",
    "    roots = []\n",
    "    for k in range(n):\n",
    "        angle = (theta + 2 * np.pi * k) / n\n",
    "        root = np.round(r**(1/n) * (np.cos(angle) + 1j * np.sin(angle)),8)\n",
    "        roots.append(root)\n",
    "    return roots"
   ]
  },
  {
   "cell_type": "code",
   "execution_count": 6,
   "id": "457c241c",
   "metadata": {
    "ExecuteTime": {
     "end_time": "2024-10-29T20:54:56.692928Z",
     "start_time": "2024-10-29T20:54:56.684675Z"
    }
   },
   "outputs": [],
   "source": [
    "# Equações\n",
    "n = 3\n",
    "z_eq1 = complex(1,0)\n",
    "z_eq2 = complex(0,8)\n",
    "raizes_eq1 = raizes_complexas(z_eq1,n)\n",
    "raizes_eq2 = raizes_complexas(z_eq2,n)"
   ]
  },
  {
   "cell_type": "code",
   "execution_count": 7,
   "id": "90e787fb",
   "metadata": {
    "ExecuteTime": {
     "end_time": "2024-10-29T20:54:56.702096Z",
     "start_time": "2024-10-29T20:54:56.693948Z"
    }
   },
   "outputs": [
    {
     "name": "stdout",
     "output_type": "stream",
     "text": [
      "[(1+0j), (-0.5+0.8660254j), (-0.5-0.8660254j)]\n",
      "[(1.73205081+1j), (-1.73205081+1j), (-0-2j)]\n"
     ]
    }
   ],
   "source": [
    "# Raízes\n",
    "print(raizes_eq1)\n",
    "print(raizes_eq2)"
   ]
  },
  {
   "cell_type": "markdown",
   "id": "9af668fa",
   "metadata": {},
   "source": [
    "#### Questão 4"
   ]
  },
  {
   "cell_type": "markdown",
   "id": "e5e1805e",
   "metadata": {},
   "source": [
    "Considere a seguinte definição:\n",
    "\n",
    "**Um polo de uma função racional é um valor de $s$ tal que o denominador da função se anula, e a função apresenta um comportamento singular (tende ao infinito) nas proximidades desse valor.**\n",
    "\n",
    "*Por exemplo, a função $F(s) = \\frac{1}{s-3}$ tem um polo em $s = 3$.*\n",
    "\n",
    "Considere a transformada de Laplace de $\\overline{f}(s)$ da função $f(t) = (t^{2}-sen(t))e^{-t} + cos(2t), \\ t \\geq 0$. Assinale a alternativa correta:\n",
    "\n",
    "a) $s = \\pm 2i$ são polos de $\\overline{f}(s)$.\n",
    "\n",
    "b) $\\overline{f}(s)$ possui somente polos reais.\n",
    "\n",
    "c) $\\overline{f}(s)$ possui somente polos complexos.\n",
    "\n",
    "d) $\\overline{f}(s)$ não possui polos reais ou complexos.\n",
    "\n",
    "e) Nenhuma das alternativas anteriores está correta."
   ]
  },
  {
   "cell_type": "markdown",
   "id": "dd774e9d",
   "metadata": {},
   "source": [
    "##### Solução Escrita"
   ]
  },
  {
   "cell_type": "markdown",
   "id": "a3144722",
   "metadata": {},
   "source": [
    "Temos que\n",
    "\n",
    "$$\\overline{f}(s) = \\mathscr{L}[(t^{2}-sen(t))e^{-t} + 3cos(2t)] = \\mathscr{L}[t^{2}e^{-t}-sen(t)e^{-t} + 3cos(2t)] = $$\n",
    "\n",
    "$$ = \\mathscr{L}[t^{2}e^{-t}] -\\mathscr{L}[sen(t)e^{-t}] + 3\\mathscr{L}[cos(2t)] = \\frac{2!}{(s-(-1))^{2+1}} - \\frac{1}{(s-(-1))^{2} + 1^{2}} + 2\\frac{s}{s^{2} + 2^{2}} = $$\n",
    "\n",
    "$$ = \\frac{2}{(s+1)^{3}} - \\frac{1}{(s+1)^{2}+1} + \\frac{2s}{s^{2}+4}$$\n",
    "\n",
    "Note que os polos de $\\overline{f}(s)$ são as soluções de $(s+1)^{3} = 0$, $(s+1)^{2} + 1 = 0$ e $s^{2} + 4 = 0$. Vejamos quais são este polos:\n",
    "\n",
    "$(s+1)^{3} = 0 \\Rightarrow s+1 = 0 \\Rightarrow s = -1$\n",
    "\n",
    "$(s+1)^{2} + 1 = 0 \\Rightarrow s^{2} + 2s + 2 = 0 \\Rightarrow s = -1 \\pm i$\n",
    "\n",
    "$s^{2} + 4 = 0 \\Rightarrow s^{2} = -4 \\Rightarrow s = \\pm 2i$\n",
    "\n",
    "Note que \\underline{a alternativa \"a\" está correta}. A alternativa \"b\" é falsa pois apenas o polo $s = -1$ é real. A alternativa \"c\" é falsa pois o polo $s = -2$ não é complexo. A alternativa \"d\" é falsa pois existem polos. A alternativa \"e\" é, obviamente, falsa."
   ]
  },
  {
   "cell_type": "markdown",
   "id": "2680456d",
   "metadata": {},
   "source": [
    "##### Solução Computacional"
   ]
  },
  {
   "cell_type": "code",
   "execution_count": 8,
   "id": "36f167b8",
   "metadata": {
    "ExecuteTime": {
     "end_time": "2024-10-29T20:54:59.442660Z",
     "start_time": "2024-10-29T20:54:56.702096Z"
    }
   },
   "outputs": [],
   "source": [
    "import sympy as sp\n",
    "\n",
    "# Definir as variáveis simbólicas\n",
    "t, s = sp.symbols('t s')\n",
    "\n",
    "# Definir a função no tempo\n",
    "f_t = (t**2 - sp.sin(t)) * sp.exp(-t) + 2 * sp.cos(2*t)\n",
    "\n",
    "# Calcular a transformada de Laplace da função\n",
    "F = sp.laplace_transform(f_t, t, s, noconds=True)"
   ]
  },
  {
   "cell_type": "code",
   "execution_count": 9,
   "id": "c16276a6",
   "metadata": {
    "ExecuteTime": {
     "end_time": "2024-10-29T20:54:59.481252Z",
     "start_time": "2024-10-29T20:54:59.442660Z"
    }
   },
   "outputs": [],
   "source": [
    "# Separar os termos da transformada e encontrar os polos de cada denominador\n",
    "polos = []\n",
    "for termo in F.as_ordered_terms():\n",
    "    denominador = sp.denom(termo)\n",
    "    polos_termo = sp.solve(denominador, s)\n",
    "    polos.extend(polos_termo)"
   ]
  },
  {
   "cell_type": "code",
   "execution_count": 10,
   "id": "424f05d0",
   "metadata": {
    "ExecuteTime": {
     "end_time": "2024-10-29T20:54:59.491733Z",
     "start_time": "2024-10-29T20:54:59.483249Z"
    }
   },
   "outputs": [
    {
     "name": "stdout",
     "output_type": "stream",
     "text": [
      "Os polos de F(s) = 2*s/(s**2 + 4) - 1/((s + 1)**2 + 1) + 2/(s + 1)**3 são: \n",
      "[-2*I, 2*I, -1 - I, -1 + I, -1]\n"
     ]
    }
   ],
   "source": [
    "# Exibir os polos encontrados\n",
    "print(f\"Os polos de F(s) = {F} são: \\n{polos}\")"
   ]
  },
  {
   "cell_type": "markdown",
   "id": "aa661fe6",
   "metadata": {},
   "source": [
    "#### Questão 5"
   ]
  },
  {
   "cell_type": "markdown",
   "id": "22748b9b",
   "metadata": {},
   "source": [
    "Considere a convolução das funções $f(t) = t$ e $g(t) = t^{3} + 1$.\n",
    "\n",
    "Assinale a alternativa correta:\n",
    "\n",
    "a) $f(t)*g(t) = 0$\n",
    "\n",
    "b) $f(t)*g(t) = \\frac{t^{2}(t^{3}+10)}{20}$\n",
    "\n",
    "c) $f(t)*g(t) = \\frac{t^{2}(t^{3}+10)}{2}$\n",
    "\n",
    "d) $f(t)*g(t) = \\frac{s^{3}+6}{s^{6}}$\n",
    "\n",
    "e) Nenhuma das alternativas anteriores está correta."
   ]
  },
  {
   "cell_type": "markdown",
   "id": "b43a0353",
   "metadata": {},
   "source": [
    "##### Solução Escrita"
   ]
  },
  {
   "cell_type": "markdown",
   "id": "b1c7a698",
   "metadata": {},
   "source": [
    "Calculemos a convolução das das funções $f$ e $g$. Como $f(t)*g(t) = g(t)*f(t)$ optaremos pelo cálculo da convolução por meio da segunda forma (lado direito) uma vez que as contas ficarão mais simples. Assim,\n",
    "\n",
    "$$g(t)*f(t) = \\int_{0}^{t}g(u)f(t-u)du = \\int_{0}^{t}(u^{3}+1)(t-u) du =  \\int_{0}^{t} (u^{3}t - u^{4} + t - u) du =$$\n",
    "\n",
    "$$= \\left.\\left(\\frac{u^{4}}{4}t -\\frac{u^{5}}{5} + tu - \\frac{u^{2}}{2}\\right)\\right|_{0}^{t} = \\frac{t^{5}}{4} - \\frac{t^{5}}{5} + t^{2} - \\frac{t^{2}}{2} - 0 = \\frac{t^{5}}{20} + \\frac{t^{2}}{2} = \\frac{t^{5}+10t^{2}}{20} = \\frac{t^{2}(t^{3}+10)}{20}$$\n",
    "\n",
    "Portanto, a alternativa correta é a \"b\"."
   ]
  },
  {
   "cell_type": "markdown",
   "id": "ad0c39ba",
   "metadata": {},
   "source": [
    "##### Solução Computacional"
   ]
  },
  {
   "cell_type": "code",
   "execution_count": 11,
   "id": "30a12936",
   "metadata": {
    "ExecuteTime": {
     "end_time": "2024-10-29T20:54:59.523972Z",
     "start_time": "2024-10-29T20:54:59.492758Z"
    }
   },
   "outputs": [],
   "source": [
    "import sympy as sp\n",
    "\n",
    "# Definindo as variáveis\n",
    "t, u = sp.symbols('t u')\n",
    "\n",
    "# Definindo as funções f(t) e g(t)\n",
    "f_t = u**3+1  # Note que estamos substituindo u aqui, pois a integração é em relação a u\n",
    "g_t = t-u\n",
    "\n",
    "# Definindo a convolução\n",
    "convolucao = sp.integrate(g_t* f_t, (u, 0, t))"
   ]
  },
  {
   "cell_type": "code",
   "execution_count": 12,
   "id": "e6f6cf80",
   "metadata": {
    "ExecuteTime": {
     "end_time": "2024-10-29T20:54:59.554732Z",
     "start_time": "2024-10-29T20:54:59.524972Z"
    }
   },
   "outputs": [
    {
     "data": {
      "text/latex": [
       "$\\displaystyle \\frac{t^{2} \\left(t^{3} + 10\\right)}{20}$"
      ],
      "text/plain": [
       "t**2*(t**3 + 10)/20"
      ]
     },
     "execution_count": 12,
     "metadata": {},
     "output_type": "execute_result"
    }
   ],
   "source": [
    "sp.simplify(convolucao)"
   ]
  },
  {
   "cell_type": "markdown",
   "id": "13d161a5",
   "metadata": {},
   "source": [
    "#### Questão 6"
   ]
  },
  {
   "cell_type": "markdown",
   "id": "f4195826",
   "metadata": {},
   "source": [
    "Considere o seguinte $PVI$:\n",
    "$$y'-2y = 2x(1-x), \\ \\ y(0) = -1.$$\n",
    "Considerando a solução $y(x)$ assinale a alternativa correta:\n",
    "\n",
    "a) $y(1) = 1-e$\n",
    "\n",
    "b) $y\\left(\\frac{1}{2}\\right) = \\frac{1-4e}{4}$\n",
    "\n",
    "c) $y(x)$ é descontínua em ao menos um ponto de $\\mathbb{R}$.\n",
    "\n",
    "d) $y(x)$ é diferenciável em $\\mathbb{R}$ e tem imagem limitada.\n",
    "\n",
    "e) Nenhuma das alternativas anteriores está correta."
   ]
  },
  {
   "cell_type": "markdown",
   "id": "9d4555be",
   "metadata": {},
   "source": [
    "##### Solução Escrita"
   ]
  },
  {
   "cell_type": "markdown",
   "id": "c46e6e95",
   "metadata": {},
   "source": [
    "Apliquemos a transformada de Laplace aos dois membros da equação referente ao PVI:\n",
    "\n",
    "$$ \\mathscr{L}[y' - 2y] = \\mathscr{L}[2x(1-x)] \\Rightarrow  \\mathscr{L}[y'] - \\mathscr{L}[2y] = \\mathscr{L}[2x - 2x^{2}] \\Rightarrow sY(s) - y(0) - 2Y(s) = \\frac{2}{s^{2}} - \\frac{4}{s^{3}} \\Rightarrow $$\n",
    "\n",
    "$$ \\Rightarrow (s-2)Y(s) - (-1) = \\frac{2}{s^{2}} - \\frac{4}{s^{3}} \\Rightarrow Y(s) =  -\\frac{1}{s-2} + \\frac{2}{(s-2)s^{2}} - \\frac{4}{(s-2)s^{3}} \\Rightarrow$$\n",
    "\n",
    "$$Y(s) = \\frac{-s^{3} + 2s - 4}{(s-2)s^{3}} \\tag{1}$$\n",
    "\n",
    "A decomposição em frações parciais de $(1)$ tem a forma:\n",
    "\n",
    "$$\\frac{A}{s} + \\frac{B}{s} + \\frac{C}{s^{3}} + \\frac{D}{s-2}$$\n",
    "\n",
    "Pois bem,\n",
    "\n",
    "$$Y(s) = \\frac{A}{s} + \\frac{B}{s^{2}} + \\frac{C}{s^{3}} + \\frac{D}{s-2} = \\frac{As^{2}(s-2) + Bs(s-2) + C(s-2) + Ds^{3}}{s^{3}(s-2)} =$$\n",
    "\n",
    "$$ = \\frac{As^{3} - 2As^{2} + Bs^{2} - 2Bs + Cs - 2C + Ds^{3}}{s^{3}(s-2)} = \\frac{(A+D)s^{3} + (B-2A)s^{2} + (C-2B)s - 2C}{s^{3}(s-2)} \\Leftrightarrow$$\n",
    "\n",
    "$$ \\Leftrightarrow \\left\\{\\begin{array}{ccccc}\n",
    "A &+& D &=& -1 \\\\ \n",
    "B &-& 2A &=& 0 \\\\ \n",
    "C &-& 2B &=& 2 \\\\ \n",
    "  &-& 2C &=& -4 \n",
    "\\end{array}\\right. \\Leftrightarrow A = 0, B = 0, C = 2 \\ \\text{e} \\ D = -1$$\n",
    "\n",
    "Assim, $Y(s) = \\frac{2}{s^{3}} - \\frac{1}{s-2}$\n",
    "\n",
    "\n",
    "Aplicando a transformada de Laplace inversa a $Y(s)$, temos:\n",
    "\n",
    "$$y(t) = \\mathscr{L}^{-1}\\left[\\frac{2}{s^{3}} - \\frac{1}{s-2} \\right] = \\mathscr{L}^{-1}\\left[\\frac{2}{s^{3}}\\right] - \\mathscr{L}^{-1}\\left[\\frac{1}{s-2} \\right] = \\mathscr{L}^{-1}\\left[\\frac{2!}{s^{2+1}}\\right] - \\mathscr{L}^{-1}\\left[\\frac{1}{s-2} \\right] = \\boxed{x^{2} - e^{2x}}.$$"
   ]
  },
  {
   "cell_type": "markdown",
   "id": "bd57a56a",
   "metadata": {},
   "source": [
    "##### Solução Computacional"
   ]
  },
  {
   "cell_type": "code",
   "execution_count": 13,
   "id": "346f49d2",
   "metadata": {
    "ExecuteTime": {
     "end_time": "2024-10-29T20:54:59.568847Z",
     "start_time": "2024-10-29T20:54:59.554732Z"
    }
   },
   "outputs": [],
   "source": [
    "import sympy as sp\n",
    "\n",
    "# Definindo a variável independente e a função desconhecida\n",
    "x = sp.symbols('x')\n",
    "y = sp.Function('y')(x)\n",
    "\n",
    "# Definindo a equação diferencial não homogênea\n",
    "equacao = sp.Eq(y.diff(x) - 2*y, 2*x*(1-x))"
   ]
  },
  {
   "cell_type": "code",
   "execution_count": 14,
   "id": "f6cc9283",
   "metadata": {
    "ExecuteTime": {
     "end_time": "2024-10-29T20:54:59.726888Z",
     "start_time": "2024-10-29T20:54:59.569846Z"
    }
   },
   "outputs": [
    {
     "data": {
      "text/latex": [
       "$\\displaystyle y{\\left(x \\right)} = x^{2} - e^{2 x}$"
      ],
      "text/plain": [
       "Eq(y(x), x**2 - exp(2*x))"
      ]
     },
     "execution_count": 14,
     "metadata": {},
     "output_type": "execute_result"
    }
   ],
   "source": [
    "# Resolvendo a equação diferencial com condições iniciais\n",
    "condicoes_iniciais = {y.subs(x, 0): -1}\n",
    "pvi = sp.dsolve(equacao, y, ics=condicoes_iniciais)\n",
    "pvi"
   ]
  }
 ],
 "metadata": {
  "kernelspec": {
   "display_name": "Python 3 (ipykernel)",
   "language": "python",
   "name": "python3"
  },
  "language_info": {
   "codemirror_mode": {
    "name": "ipython",
    "version": 3
   },
   "file_extension": ".py",
   "mimetype": "text/x-python",
   "name": "python",
   "nbconvert_exporter": "python",
   "pygments_lexer": "ipython3",
   "version": "3.11.5"
  }
 },
 "nbformat": 4,
 "nbformat_minor": 5
}

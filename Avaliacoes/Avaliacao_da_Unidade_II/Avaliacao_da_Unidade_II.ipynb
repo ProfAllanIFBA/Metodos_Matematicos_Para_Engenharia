{
 "cells": [
  {
   "cell_type": "markdown",
   "id": "acd99fbb",
   "metadata": {},
   "source": [
    "<center> <img src=\"logo_ifba.jpg\" alt=\"jpg_python\" width=\"100\" height=\"200\"> </center>\n",
    "<br><br>\n",
    "<div align=\"center\"><span style=\"font-size: 26px;\"><strong>Métodos Matemáticos Para Engenharia <br></strong></span></div> <br>\n",
    "<center> <img src=\"python_gif.gif\" alt=\"gif_python\" width=\"80\"> </center>"
   ]
  },
  {
   "cell_type": "markdown",
   "id": "0e6c75b2",
   "metadata": {},
   "source": [
    "# Avaliação da Unidade II - 2024.2"
   ]
  },
  {
   "cell_type": "markdown",
   "id": "08981f5b",
   "metadata": {},
   "source": [
    "#### Questão 1"
   ]
  },
  {
   "cell_type": "markdown",
   "id": "55b85839",
   "metadata": {},
   "source": [
    "Considere a seguinte função periódica $f(x) = \\frac{x}{2}, \\ -1<x<1, \\ T = 2$:\n",
    "\n",
    "a) Determine os $5$ primeiros termos da série de Fourier de $f(x)$.\n",
    "\n",
    "b) Use o item \"a\" para mostrar que\n",
    "\n",
    "$$1 - \\frac{1}{3} + \\frac{1}{5} - \\frac{1}{7} + \\frac{1}{9} - \\ldots = \\frac{\\pi}{4}$$"
   ]
  },
  {
   "cell_type": "markdown",
   "id": "46804d95",
   "metadata": {},
   "source": [
    "##### Solução Escrita"
   ]
  },
  {
   "cell_type": "markdown",
   "id": "0321147c",
   "metadata": {},
   "source": [
    "a) Temos que $f(x)$ é uma função ímpar. De fato,\n",
    "\n",
    "$$f(-x) = -\\left(\\frac{-x}{2}\\right) = \\frac{x}{2} = -f(x).$$\n",
    "\n",
    "Assim, $f(x)$ apresentará somente termos em seno, isto é, $a_{0} = 0$ e $a_{n} = 0$. Temos que,\n",
    "\n",
    "$$b_{n} = \\frac{2}{L}\\int_{0}^{L}f(x)sen\\left(\\frac{n\\pi x}{L}\\right) dx = \\frac{2}\n",
    "{1}\\int_{0}^{1}\\frac{x}{2}sen\\left(\\frac{n\\pi x}{1}\\right) dx = \\int_{0}^{1}xsen(n\\pi x)dx =^{*} $$\n",
    "\n",
    "$$ = \\left.\\left(-\\frac{xcos(n\\pi x)}{n \\pi} -\\int-\\frac{cos(n\\pi x)}{n\\pi}dx \\right)\\right|_{0}^{1} = \\left.\\left(-\\frac{xcos(n\\pi x)}{n \\pi} +\\int\\frac{cos(n\\pi x)}{n\\pi}dx \\right)\\right|_{0}^{1} = \\left.\\left(-\\frac{xcos(n\\pi x)}{n \\pi} +\\frac{cos(n\\pi x)}{(n\\pi)^{2}} \\right)\\right|_{0}^{1} = $$\n",
    "\n",
    "$$ =  \\left(-\\frac{1cos(n\\pi \\cdot 1)}{n \\pi} +\\frac{sen(n\\pi \\cdot 1)}{(n\\pi)^{2}} \\right) - \\left(-\\frac{0cos(n\\pi \\cdot0)}{n \\pi} +\\frac{sen(n\\pi \\cdot0)}{(n\\pi)^{2}} \\right) = -\\frac{cos(n\\pi)}{n\\pi}$$\n",
    "\n",
    "Assim,\n",
    "\n",
    "$$f(x) = \\sum_{n=1}^{\\infty} b_{n}sen\\left(\\frac{n\\pi x}{L}\\right) = \\sum_{n=1}^{\\infty}-\\frac{cos(n\\pi)}{n\\pi}sen\\left(\\frac{n\\pi x}{1}\\right) = \\sum_{n=1}^{\\infty}-\\frac{cos(n\\pi)}{n\\pi}sen(n\\pi x)$$\n",
    "\n",
    "A série de Fourier de $4$ termos é:\n",
    "\n",
    "$$f(x) = -\\frac{cos(1\\pi)}{1\\pi}sen(1\\pi x) - \\frac{cos(2\\pi)}{2\\pi}sen(2\\pi x) - \\frac{cos(3\\pi)}{3\\pi}sen(3\\pi x) - \\frac{cos(4\\pi)}{4\\pi}sen(4\\pi x) - \\ldots$$\n",
    "\n",
    "$$= \\frac{1}{\\pi}sen(\\pi x) - \\frac{1}{2\\pi}sen(2\\pi x) + \\frac{1}{3\\pi}sen(3\\pi x) - \\frac{1}{4\\pi}sen(4\\pi x) + \\frac{1}{5\\pi}sen(5\\pi x) - \\ldots $$\n",
    "\n",
    "$^{*} (1) \\ u = x \\Rightarrow du = dx \\ \\ (2) \\ dv = sen(n\\pi x)dx \\Rightarrow v = -\\frac{1}{n\\pi}cos(n\\pi x)$\n",
    "\n",
    "b) Note que\n",
    "\n",
    "$$\\frac{x}{2} = \\frac{1}{\\pi}sen(\\pi x) - \\frac{1}{2\\pi}sen(2\\pi x) + \\frac{1}{3\\pi}sen(3\\pi x) - \\frac{1}{4\\pi}sen(4\\pi x) + \\frac{1}{5\\pi}sen(5\\pi x) - \\ldots = \\tag{1}$$\n",
    "\n",
    "Substituindo $x = \\frac{1}{2}$ nos dois membros de $(1)$, temos:\n",
    "\n",
    "$$\\frac{\\frac{1}{2}}{2} = \\frac{1}{\\pi}sen\\left(\\pi \\frac{1}{2}\\right) - \\frac{1}{2\\pi}sen\\left(2\\pi \\frac{1}{2}\\right) + \\frac{1}{3\\pi}sen\\left(3\\pi \\frac{1}{2}\\right) - \\frac{1}{4\\pi}sen\\left(4\\pi \\frac{1}{2}\\right) + \\frac{1}{5\\pi}sen\\left(5\\pi \\frac{1}{2}\\right) - \\ldots \\Leftrightarrow $$\n",
    "\n",
    "$$\\Leftrightarrow \\frac{1}{4} = \\frac{1}{\\pi}\\left(sen\\left( \\frac{\\pi}{2}\\right) - \\frac{1}{2}sen\\left(\\pi\\right) + \\frac{1}{3}sen\\left( \\frac{3\\pi}{2}\\right) - \\frac{1}{4}sen\\left(2\\pi\\right) + \\frac{1}{5}sen\\left(\\frac{5\\pi}{2}\\right) - \\ldots\\right) \\Leftrightarrow$$\n",
    "\n",
    "$$\\Leftrightarrow \\frac{1}{4} = \\frac{1}{\\pi}\\left(1 - \\frac{1}{3} + \\frac{1}{5} - \\frac{1}{7} + \\ldots \\right) \\Leftrightarrow \\frac{\\pi}{4} = 1 - \\frac{1}{3} + \\frac{1}{5} - \\frac{1}{7} + \\ldots $$"
   ]
  },
  {
   "cell_type": "markdown",
   "id": "7b43b860",
   "metadata": {},
   "source": [
    "##### Solução Computacional"
   ]
  },
  {
   "cell_type": "markdown",
   "id": "19b9585a",
   "metadata": {},
   "source": [
    "**Item \"a\"**:"
   ]
  },
  {
   "cell_type": "code",
   "execution_count": 1,
   "id": "a4f268d1",
   "metadata": {
    "ExecuteTime": {
     "end_time": "2024-10-22T14:17:04.840587Z",
     "start_time": "2024-10-22T14:17:03.520733Z"
    }
   },
   "outputs": [
    {
     "data": {
      "text/latex": [
       "$\\displaystyle \\frac{\\sin{\\left(\\pi x \\right)}}{\\pi} - \\frac{\\sin{\\left(2 \\pi x \\right)}}{2 \\pi} + \\frac{\\sin{\\left(3 \\pi x \\right)}}{3 \\pi} - \\frac{\\sin{\\left(4 \\pi x \\right)}}{4 \\pi} + \\frac{\\sin{\\left(5 \\pi x \\right)}}{5 \\pi}$"
      ],
      "text/plain": [
       "sin(pi*x)/pi - sin(2*pi*x)/(2*pi) + sin(3*pi*x)/(3*pi) - sin(4*pi*x)/(4*pi) + sin(5*pi*x)/(5*pi)"
      ]
     },
     "execution_count": 1,
     "metadata": {},
     "output_type": "execute_result"
    }
   ],
   "source": [
    "from sympy import fourier_series, pi, symbols\n",
    "# Definição dos símbolos\n",
    "x = symbols('x')\n",
    "\n",
    "# Definindo a função x para cálculo simbólico da série de Fourier\n",
    "f = x/2\n",
    "\n",
    "# Parâmetros da série de Fourier\n",
    "T = 2\n",
    "n = 5\n",
    "\n",
    "# Calculando a série de Fourier truncada para n termos\n",
    "s = fourier_series(f, (x, -1, 1)).truncate(n)\n",
    "s"
   ]
  },
  {
   "cell_type": "markdown",
   "id": "2d3017a7",
   "metadata": {},
   "source": [
    "**Item \"b\"**:"
   ]
  },
  {
   "cell_type": "code",
   "execution_count": 14,
   "id": "efd915d5",
   "metadata": {
    "ExecuteTime": {
     "end_time": "2024-10-22T14:25:24.719494Z",
     "start_time": "2024-10-22T14:25:24.622637Z"
    }
   },
   "outputs": [],
   "source": [
    "import sympy as sp\n",
    "\n",
    "# Definir a variável simbólica n\n",
    "n = sp.symbols('n')\n",
    "\n",
    "# Definir a série\n",
    "serie = sp.Sum((-1)**(n+1)*(1/(2*n-1)), (n, 1, sp.oo))\n",
    "\n",
    "# Avaliar a soma\n",
    "soma = serie.doit()"
   ]
  },
  {
   "cell_type": "code",
   "execution_count": 15,
   "id": "32034a84",
   "metadata": {
    "ExecuteTime": {
     "end_time": "2024-10-22T14:25:26.591503Z",
     "start_time": "2024-10-22T14:25:26.582736Z"
    }
   },
   "outputs": [
    {
     "data": {
      "text/latex": [
       "$\\displaystyle \\sum_{n=1}^{\\infty} \\frac{\\left(-1\\right)^{n + 1}}{2 n - 1}$"
      ],
      "text/plain": [
       "Sum((-1)**(n + 1)/(2*n - 1), (n, 1, oo))"
      ]
     },
     "execution_count": 15,
     "metadata": {},
     "output_type": "execute_result"
    }
   ],
   "source": [
    "# Conferindo a série digitada\n",
    "serie"
   ]
  },
  {
   "cell_type": "code",
   "execution_count": 16,
   "id": "31caca1d",
   "metadata": {
    "ExecuteTime": {
     "end_time": "2024-10-22T14:25:28.211573Z",
     "start_time": "2024-10-22T14:25:28.205492Z"
    }
   },
   "outputs": [
    {
     "data": {
      "text/latex": [
       "$\\displaystyle \\frac{\\pi}{4}$"
      ],
      "text/plain": [
       "pi/4"
      ]
     },
     "execution_count": 16,
     "metadata": {},
     "output_type": "execute_result"
    }
   ],
   "source": [
    "# Soma da série\n",
    "soma"
   ]
  },
  {
   "cell_type": "markdown",
   "id": "93797931",
   "metadata": {},
   "source": [
    "#### Questão 2"
   ]
  },
  {
   "cell_type": "markdown",
   "id": "716270ad",
   "metadata": {},
   "source": [
    "Considere a função:\t\n",
    "\n",
    "$$f(x) = \\left\\{ \\begin{array}{cc}\n",
    "1, &  0 \\leq x \\leq 1 \\\\\n",
    "0, &  -1 < x < 0 \\end{array}\\right.$$\n",
    "\n",
    "em que $f(x + 2) = f(x)$. É possível mostrar que os coeficientes da expansão em série de Fourier de $f$ são: $a_{0} = 1$, $a_{n} = 0$, e $b_{n} = \\frac{1}{n\\pi}(1-cos(n\\pi))$. Use a identidade de Parseval para mostrar que:\n",
    "\n",
    "$$\\frac{\\pi^{2}}{8} = \\frac{1}{1^{2}} + \\frac{1}{3^{2}} + \\frac{1}{5^{2}} + \\ldots + \\frac{1}{(2n-1)^{2}} + \\ldots$$"
   ]
  },
  {
   "cell_type": "markdown",
   "id": "eb4bcf29",
   "metadata": {},
   "source": [
    "##### Solução Escrita"
   ]
  },
  {
   "cell_type": "markdown",
   "id": "98d26c9c",
   "metadata": {},
   "source": [
    "A identidade de Parseval afirma que:\n",
    "\n",
    "$$\\frac{1}{L}\\int_{-L}^{L} (f(x))^{2} dx = \\frac{a_{0}^{2}}{2} + \\sum_{n=1}^{\\infty} (a_{n}^{2} + b_{n}^{2})$$\n",
    "\n",
    "Repassando para os dados fornecidos, temos:\n",
    "\n",
    "$$\\frac{1}{1}\\left(\\int_{-1}^{0} 0^{2} dx + \\int_{0}^{1} 1^{2} dx\\right) = \\frac{1^{2}}{2} + \\sum_{n=1}^{\\infty} \\left(0^{2} + \\left(\\frac{1}{n\\pi}(1-cos(n\\pi))\\right)^{2}\\right) \\Leftrightarrow$$\n",
    "\n",
    "$$\\Leftrightarrow  \\int_{0}^{1} dx = \\frac{1}{2} +  \\sum_{n=1}^{\\infty} \\frac{1}{n^{2}\\pi^{2}}(1-cos(n\\pi))^{2} \\Leftrightarrow 1 = \\frac{1}{2} + \\frac{1}{\\pi^{2}} \\sum_{n=1}^{\\infty} \\frac{1}{n^{2}}(1-cos(n\\pi))^{2} \\Leftrightarrow $$\n",
    "\n",
    "$$\\Leftrightarrow \\frac{1}{\\pi^{2}}\\left(\\frac{1}{1^{2}}2^{2} + \\frac{1}{2^{2}}0^{2} + \\frac{1}{3^{2}}2^{2} + \\frac{1}{4^{2}}0^{2} + \\frac{1}{5^{2}}2^{2} + \\ldots\\right) = \\frac{1}{2} \\Leftrightarrow $$\n",
    "\n",
    "$$\\Leftrightarrow 4\\left(\\frac{1}{1^{2}} + \\frac{1}{3^{2}} + \\frac{1}{5^{2}} + \\ldots \\right) = \\frac{\\pi^{2}}{2} \\Leftrightarrow \\frac{1}{1^{2}} + \\frac{1}{3^{2}} + \\frac{1}{5^{2}} + \\ldots = \\frac{\\pi^{2}}{8}$$"
   ]
  },
  {
   "cell_type": "markdown",
   "id": "46f70bf6",
   "metadata": {},
   "source": [
    "##### Solução Computacional"
   ]
  },
  {
   "cell_type": "code",
   "execution_count": 30,
   "id": "055f0bd9",
   "metadata": {
    "ExecuteTime": {
     "end_time": "2024-10-22T14:42:40.326543Z",
     "start_time": "2024-10-22T14:42:39.824512Z"
    }
   },
   "outputs": [],
   "source": [
    "import sympy as sp\n",
    "\n",
    "# Definir a variável simbólica n\n",
    "n = sp.symbols('n')\n",
    "\n",
    "# Definir a série\n",
    "serie = sp.Sum(1/((2*n-1)**2), (n, 1, sp.oo))\n",
    "\n",
    "# Avaliar a soma\n",
    "soma = serie.doit()"
   ]
  },
  {
   "cell_type": "code",
   "execution_count": 31,
   "id": "ffa64c36",
   "metadata": {
    "ExecuteTime": {
     "end_time": "2024-10-22T14:43:02.551003Z",
     "start_time": "2024-10-22T14:43:02.544271Z"
    }
   },
   "outputs": [
    {
     "data": {
      "text/latex": [
       "$\\displaystyle \\sum_{n=1}^{\\infty} \\frac{1}{\\left(2 n - 1\\right)^{2}}$"
      ],
      "text/plain": [
       "Sum((2*n - 1)**(-2), (n, 1, oo))"
      ]
     },
     "execution_count": 31,
     "metadata": {},
     "output_type": "execute_result"
    }
   ],
   "source": [
    "# Conferindo a série digitada\n",
    "serie"
   ]
  },
  {
   "cell_type": "code",
   "execution_count": 32,
   "id": "5cddf0f8",
   "metadata": {
    "ExecuteTime": {
     "end_time": "2024-10-22T14:43:07.677664Z",
     "start_time": "2024-10-22T14:43:07.671352Z"
    }
   },
   "outputs": [
    {
     "data": {
      "text/latex": [
       "$\\displaystyle \\frac{\\pi^{2}}{8}$"
      ],
      "text/plain": [
       "pi**2/8"
      ]
     },
     "execution_count": 32,
     "metadata": {},
     "output_type": "execute_result"
    }
   ],
   "source": [
    "# Soma da série\n",
    "soma"
   ]
  },
  {
   "cell_type": "markdown",
   "id": "5803bd06",
   "metadata": {},
   "source": [
    "#### Questão 3"
   ]
  },
  {
   "cell_type": "markdown",
   "id": "8c435247",
   "metadata": {},
   "source": [
    "Use a definição para calcular a transformada de Fourier de \n",
    "\n",
    "$$f(x) = \\left\\{\\begin{array}{}\n",
    " \\sqrt{2\\pi}x, & 0 < x < 1\\\\\n",
    " 0, & \\text{do contrário} \\end{array}\\right.$$"
   ]
  },
  {
   "cell_type": "markdown",
   "id": "e16cf430",
   "metadata": {},
   "source": [
    "##### Solução Escrita"
   ]
  },
  {
   "cell_type": "markdown",
   "id": "06e8676f",
   "metadata": {},
   "source": [
    "Temos que\n",
    "\n",
    "$$F(\\omega) = \\frac{1}{\\sqrt{2\\pi}}\\int_{-\\infty}^{\\infty}f(x)e^{-i\\omega x} dx = \\frac{1}{\\sqrt{2\\pi}}\\int_{-\\infty}^{\\infty}\\sqrt{2\\pi}xe^{-i\\omega x} dx = \\int_{-\\infty}^{\\infty}xe^{-i\\omega x} dx =^{[pp]}$$\n",
    "\n",
    "$$ = \\left.\\left(-\\frac{xe^{-i\\omega x}}{i\\omega} - \\int \\frac{-1}{i\\omega}e^{-i\\omega x} dx\\right)\\right|_{0}^{1} = \\left.\\left(-\\frac{xe^{-i\\omega x}}{i\\omega} + \\frac{1}{i\\omega}\\int e^{-i\\omega x} dx\\right)\\right|_{0}^{1} = $$\n",
    "\n",
    "$$ = \\left.\\left(i\\frac{xe^{-i\\omega x}}{\\omega} + \\frac{-1}{(i\\omega)^{2}}e^{-i\\omega x}\\right)\\right|_{0}^{1} = \\left.\\left(i\\frac{xe^{-i\\omega x}}{\\omega} + \\frac{1}{\\omega^{2}}e^{-i\\omega x}\\right)\\right|_{0}^{1} =$$\n",
    "$$=\\left(i\\frac{1\\cdot e^{-i\\omega\\cdot  1}}{\\omega} + \\frac{1}{\\omega^{2}}e^{-i\\omega\\cdot  1}\\right) - \\left(i\\frac{0\\cdot e^{-i\\omega\\cdot  0}}{\\omega} + \\frac{1}{\\omega^{2}}e^{-i\\omega\\cdot  0}\\right) = $$\n",
    "\n",
    "$$ = \\left(\\frac{i}{\\omega} + \\frac{1}{\\omega^{2}}\\right)e^{-i\\omega} - \\frac{1}{\\omega^{2}} = \\left(\\frac{i\\omega + 1 - e^{i\\omega}}{\\omega^{2}} \\right)e^{-i\\omega}$$\n",
    "\n",
    "Para $\\omega  = 0$ temos que\n",
    "\n",
    "$$F(0) = lim_{\\omega \\to 0} \\left(\\frac{i\\omega + 1 - e^{i\\omega}}{\\omega^{2}} \\right)e^{-i\\omega} = lim_{\\omega \\to 0} \\frac{i\\omega e^{-i\\omega} + e^{-i\\omega} - 1}{\\omega^{2}} = $$\n",
    "\n",
    "$$= lim_{\\omega \\to 0} \\frac{(i\\omega e^{-i\\omega} + e^{-i\\omega} - 1)'}{(\\omega^{2})'} = lim_{\\omega \\to 0} \\frac{i\\omega(-ie^{-i\\omega}) + ie^{-i\\omega}-ie^{-i\\omega}-0}{2\\omega} = $$\n",
    "\n",
    "$$= lim_{x \\to 0} \\frac{\\omega e^{-i\\omega}}{2\\omega} = lim_{x \\to 0} \\frac{ e^{-i\\omega}}{2} = \\frac{ e^{-i\\cdot0}}{2} = \\frac{1}{2}$$\n",
    "\n",
    "Portanto,\n",
    "\n",
    "$$F(\\omega) = \\left\\{\\begin{array}{}\n",
    " \\left(\\frac{i\\omega + 1 - e^{i\\omega}}{\\omega^{2}} \\right)e^{-i\\omega}, & \\omega \\neq 0\\\\\n",
    " \\frac{1}{2}, & \\omega = 0 \\end{array}\\right.$$"
   ]
  },
  {
   "cell_type": "markdown",
   "id": "d8eaf995",
   "metadata": {
    "ExecuteTime": {
     "end_time": "2024-10-28T13:27:32.829939Z",
     "start_time": "2024-10-28T13:27:32.825001Z"
    }
   },
   "source": [
    "##### Solução Computacional"
   ]
  },
  {
   "cell_type": "code",
   "execution_count": 10,
   "id": "9df26224",
   "metadata": {
    "ExecuteTime": {
     "end_time": "2024-10-28T13:51:36.028736Z",
     "start_time": "2024-10-28T13:51:35.849111Z"
    }
   },
   "outputs": [
    {
     "data": {
      "text/latex": [
       "$\\displaystyle \\begin{cases} \\frac{\\left(i \\omega - e^{i \\omega} + 1\\right) e^{- i \\omega}}{\\omega^{2}} & \\text{for}\\: \\left(\\omega > -\\infty \\vee \\omega > 0\\right) \\wedge \\left(\\omega > -\\infty \\vee \\omega < \\infty\\right) \\wedge \\left(\\omega > 0 \\vee \\omega < 0\\right) \\wedge \\left(\\omega < 0 \\vee \\omega < \\infty\\right) \\\\\\frac{1}{2} & \\text{otherwise} \\end{cases}$"
      ],
      "text/plain": [
       "Piecewise(((I*omega - exp(I*omega) + 1)*exp(-I*omega)/omega**2, ((omega > -oo) | (omega > 0)) & ((omega > -oo) | (omega < oo)) & ((omega > 0) | (omega < 0)) & ((omega < 0) | (omega < oo))), (1/2, True))"
      ]
     },
     "execution_count": 10,
     "metadata": {},
     "output_type": "execute_result"
    }
   ],
   "source": [
    "import sympy as sp\n",
    "\n",
    "# Definindo as variáveis\n",
    "x, omega = sp.symbols('x omega')\n",
    "\n",
    "# Definindo a função f(x) com uma representação simétrica clara\n",
    "f = sp.Piecewise((sp.sqrt(2*sp.pi)*x, (x > 0) & (x < 1)), (0, True))\n",
    "\n",
    "# Fator de normalização\n",
    "norm = 2*sp.pi\n",
    "\n",
    "# Calculando a Transformada de Fourier\n",
    "F_omega = sp.fourier_transform(sp.sqrt(1/norm)*f, x, omega/(norm))\n",
    "\n",
    "F_omega"
   ]
  },
  {
   "cell_type": "markdown",
   "id": "66e128af",
   "metadata": {},
   "source": [
    "#### Questão  4"
   ]
  },
  {
   "cell_type": "markdown",
   "id": "21f322b1",
   "metadata": {},
   "source": [
    "Determine a função $f(x)$ tal que sua transformada de Fourier é $F(\\omega) = \\frac{1}{(1 + i\\omega)(4 + 2i\\omega)}$."
   ]
  },
  {
   "cell_type": "markdown",
   "id": "5cae4226",
   "metadata": {},
   "source": [
    "##### Solução Escrita"
   ]
  },
  {
   "cell_type": "markdown",
   "id": "a482e6d5",
   "metadata": {},
   "source": [
    "Vejamos a decomposição em frações parciais de $\\frac{1}{(1+i\\omega)(4+2i\\omega)}$. Pois bem,\n",
    "\n",
    "$$\\frac{1}{(1+i\\omega)(4+2i\\omega)} = \\frac{A}{1+i\\omega} + \\frac{B}{4+2i\\omega} = \\frac{A(4+2i\\omega) + B(1 + i\\omega)}{(1+i\\omega)(4+2i\\omega)} = \\frac{4A + 2Ai\\omega + B + Bi\\omega}{(1+i\\omega)(4+2i\\omega)} = $$\n",
    "\n",
    "$$ = \\frac{(2A + B)i\\omega + (4A + B)}{(1+i\\omega)(4+2i\\omega)} \\Leftrightarrow \\left\\{\\begin{array}{ccccc}\n",
    "\t2A & + & B & = & 0\\\\\n",
    "\t4A & + & B & = & 1\\\\ \\end{array}\\right. \\Leftrightarrow A = \\frac{1}{2} \\ \\text \\ B = -1$$\n",
    "    \n",
    "Assim,\n",
    "\n",
    "$$f(x) = \\mathscr{F}^{-1}\\left[\\frac{1}{(1+i\\omega)(4+2i\\omega)} \\right] = \\mathscr{F}^{-1}\\left[\\frac{1/2}{1+i\\omega} + \\frac{-1}{4+2i\\omega} \\right] = \\frac{1}{2}\\mathscr{F}^{-1}\\left[\\frac{\\sqrt{2\\pi}}{\\sqrt{2\\pi}}\\frac{1}{1+i\\omega}\\right] + \\mathscr{F}^{-1}\\left[\\frac{\\sqrt{2\\pi}}{\\sqrt{2\\pi}}\\frac{1}{2}\\frac{-1}{2+i\\omega} \\right] =$$\n",
    "\n",
    "$$ = \\frac{\\sqrt{2\\pi}}{2}\\mathscr{F}^{-1}\\left[\\frac{1}{\\sqrt{2\\pi}}\\frac{1}{1+i\\omega}\\right] - \\frac{\\sqrt{2\\pi}}{2}\\mathscr{F}^{-1}\\left[\\frac{1}{\\sqrt{2\\pi}}\\frac{1}{2+i\\omega} \\right] = \\left\\{\\begin{array}{cc}\n",
    "\t\\frac{\\sqrt{2\\pi}}{2}(e^{-x} - e^{-2x}), & x \\geq 0\\\\\n",
    "\t0, & x < 0\\\\ \\end{array}\\right.$$"
   ]
  },
  {
   "cell_type": "markdown",
   "id": "d1b22b73",
   "metadata": {},
   "source": [
    "##### Solução Computacional"
   ]
  },
  {
   "cell_type": "markdown",
   "id": "00a524e6",
   "metadata": {},
   "source": [
    "*Devido à dificulades de calcularmos a transformada inversa vejamos o cálculo reverso, isto é, da transformada de*\n",
    "\n",
    "$$\\left\\{\\begin{array}{cc}\n",
    "\t\\frac{\\sqrt{2\\pi}}{2}(e^{-x} - e^{-2x}), & x \\geq 0\\\\\n",
    "\t0, & x < 0\\\\ \\end{array}\\right.$$"
   ]
  },
  {
   "cell_type": "code",
   "execution_count": 25,
   "id": "01f3aa11",
   "metadata": {
    "ExecuteTime": {
     "end_time": "2024-10-28T15:36:52.043678Z",
     "start_time": "2024-10-28T15:36:51.737736Z"
    }
   },
   "outputs": [
    {
     "data": {
      "text/latex": [
       "$\\displaystyle \\frac{1}{2 \\left(i \\omega + 1\\right) \\left(i \\omega + 2\\right)}$"
      ],
      "text/plain": [
       "1/(2*(I*omega + 1)*(I*omega + 2))"
      ]
     },
     "execution_count": 25,
     "metadata": {},
     "output_type": "execute_result"
    }
   ],
   "source": [
    "import sympy as sp\n",
    "\n",
    "# Definir as variáveis simbólicas\n",
    "x, w = sp.symbols('x w', real=True)\n",
    "\n",
    "# Definindo f\n",
    "f= (sp.sqrt(2*sp.pi)/2)*(sp.exp(-x) - sp.exp(-2*x))* sp.Heaviside(x)\n",
    "\n",
    "# Fator de normalização\n",
    "norm = 2*sp.pi\n",
    "\n",
    "# Calculando a Transformada de Fourier\n",
    "F_omega = sp.fourier_transform(sp.sqrt(1/norm)*f, x, omega/(norm))\n",
    "\n",
    "F_omega"
   ]
  },
  {
   "cell_type": "markdown",
   "id": "19c1d33b",
   "metadata": {},
   "source": [
    "Note que \n",
    "\n",
    "$$\\frac{1}{2(i\\omega + 1)(i\\omega + 2)} = \\frac{1}{(1 + i\\omega)(2(2 + i\\omega))} = \\frac{1}{(1 + i\\omega)(4 + 2i\\omega)}$$"
   ]
  },
  {
   "cell_type": "markdown",
   "id": "9af668fa",
   "metadata": {},
   "source": [
    "#### Questão 5"
   ]
  },
  {
   "cell_type": "markdown",
   "id": "e5e1805e",
   "metadata": {},
   "source": [
    "Calcule a convolução $(f*g)(x)$ das funções\n",
    "\n",
    "$$f(x) = \\left\\{\\begin{array}{cc}\n",
    "\t\t1-x, & 0 < x < 1 \\\\\n",
    "\t\t0, & \\text{caso contrário}\\\\\n",
    "\t\\end{array}\\right. \\ \\ \\ \\text{e} \\ \\ \\ g(x) = \\left\\{\\begin{array}{cc}\n",
    "\t\t1, & 0 < x < 1\\\\\n",
    "\t\t0, & \\text{caso contrário}\\\\\n",
    "\t\\end{array}\\right.$$"
   ]
  },
  {
   "cell_type": "markdown",
   "id": "dd774e9d",
   "metadata": {},
   "source": [
    "##### Solução Escrita"
   ]
  },
  {
   "cell_type": "markdown",
   "id": "a3144722",
   "metadata": {},
   "source": [
    "Primeiro precisamos escolher os limites de integração. Temos que:\n",
    "\n",
    " i) $f(x) = 1-x$ se $0 \\leq x \\leq 1$\n",
    " \n",
    " ii) $g(x-u) = 1$ se $0 \\leq x - u \\leq 1$\n",
    " \n",
    " Neste último caso, temos:\n",
    " \n",
    " $$0 \\leq x - u \\leq 1\\Rightarrow -1 \\leq u - x \\leq 0 \\Rightarrow x-1 \\leq u \\leq x $$\n",
    " \n",
    " Para que $f(u)g(x-u)$ seja $(1-u)\\cdot1$ temos que $u$ deve pertencer a $[0,1]$. Assim, os limites efetivos são:\n",
    " \n",
    " $$Max(0,x-1) \\leq u \\leq Min(1,x)$$\n",
    " \n",
    " Pois bem, vejamos cada intervalo:\n",
    " \n",
    " $\\bullet$ Quando $x \\leq 0$ temos que $(f*g)(x) = 0$.\n",
    " \n",
    " $\\bullet$ Quando $0 \\leq x \\leq 1$, o intervalo de $u$ que satisfaz ambas condições é de $0$ a $x$. Portanto,\n",
    " \n",
    " $$(f*g)(x) = \\int_{0}^{x} (1-u)\\cdot1 du = \\int_{0}^{x} (1-u) du =$$\n",
    " \n",
    " $$ = \\left.\\left(u-\\frac{u^{2}}{2}\\right)\\right|_{0}^{x} = x - \\frac{x^{2}}{2};$$\n",
    " \n",
    " $\\bullet$ Quando $1 < x \\leq 2$, o intervalo de $u$ que satisfaz ambas condições é de $x-1$ a $1$. Portanto,\n",
    " \n",
    " $$(f*g)(x) = \\int_{x-1}^{1} (1-u)\\cdot1 du = \\int_{x-1}^{1} (1-u) du =$$\n",
    " \n",
    " $$ = \\left.\\left(u -\\frac{u^{2}}{2} \\right)\\right|_{x-1}^{1} = \\left(1 - \\frac{1^{2}}{2}\\right) - \\left(x-1 -\\left(\\frac{(x-1)^{2}}{2}\\right) \\right) = \\frac{1}{2} - x + 1 + \\frac{x^{2}-2x+1}{2} = 2 - 2x + \\frac{x^{2}}{2};$$\n",
    " \n",
    " Temos, em fim,\n",
    " \n",
    " $$(f*g)(x) = \\left\\{\\begin{array}{}\n",
    " 0, & x < 0 \\\\\n",
    " x - \\frac{x^{2}}{2}, & 0 \\leq x \\leq 1  \\\\\n",
    " 2-2x+\\frac{x^{2}}{2}, & 1<x\\leq 2 \\\\\n",
    " 0, & x >2 \\\\\n",
    " \\end{array}\\right.$$"
   ]
  },
  {
   "cell_type": "markdown",
   "id": "2680456d",
   "metadata": {},
   "source": [
    "##### Solução Computacional"
   ]
  },
  {
   "cell_type": "markdown",
   "id": "1253e359",
   "metadata": {},
   "source": [
    "Embora não tenhamos a implementação da resposta algébrica podemos comparar os gráficos obtidos via GeoGebra (da função obtida) e o gráfico da convolução conforme o material [link](https://www.geogebra.org/graphing/et23bvmr):"
   ]
  },
  {
   "cell_type": "markdown",
   "id": "4e7e189f",
   "metadata": {},
   "source": [
    "**GeoGebra**:"
   ]
  },
  {
   "cell_type": "markdown",
   "id": "22f220d8",
   "metadata": {},
   "source": [
    "<center> <img src=\"fig1.jpg\" alt=\"jpg_python\" width=\"800\" height=\"\"> </center>"
   ]
  },
  {
   "cell_type": "markdown",
   "id": "7cc9e09f",
   "metadata": {},
   "source": [
    "**Python**:"
   ]
  },
  {
   "cell_type": "code",
   "execution_count": 79,
   "id": "133a52cf",
   "metadata": {
    "ExecuteTime": {
     "end_time": "2024-10-28T21:49:14.016693Z",
     "start_time": "2024-10-28T21:49:13.811386Z"
    }
   },
   "outputs": [
    {
     "data": {
      "image/png": "[encoded data removed]",
      "text/plain": [
       "<Figure size 1000x300 with 1 Axes>"
      ]
     },
     "metadata": {},
     "output_type": "display_data"
    }
   ],
   "source": [
    "import numpy as np\n",
    "import matplotlib.pyplot as plt\n",
    "\n",
    "# Define os intervalos e a discretização\n",
    "x = np.linspace(-1, 3, 1000)  # Cobrindo todo o intervalo de interesse de ambas as funções\n",
    "dx = x[1] - x[0]  # Espaçamento entre os pontos\n",
    "\n",
    "# Definindo as funções\n",
    "f = np.where((x >= 0) & (x <= 1), 1-x, 0)\n",
    "g = np.where((x >= 0) & (x <= 1), 1, 0)\n",
    "\n",
    "# Calculando a convolução usando numpy.convolve\n",
    "convolution = np.convolve(f, g, mode='full') * dx  # O produto dx é necessário para escalar corretamente a convolução\n",
    "\n",
    "# Ajustando o array de tempo para o resultado da convolução\n",
    "t = np.linspace(2*x[0], 2*x[-1], len(convolution))\n",
    "\n",
    "# Plotando os resultados\n",
    "plt.figure(figsize=(10, 3))\n",
    "plt.plot(t, convolution, 'b', label='Convolução f*g')\n",
    "plt.title('Convolução f e g')\n",
    "plt.xlabel('t')\n",
    "plt.plot(1.5,0.125,'o',color='r',label='$P_{teste}$') # Ponto de teste\n",
    "plt.ylabel('(f * g)(x)')\n",
    "plt.legend()\n",
    "plt.grid(True)\n",
    "plt.show()\n"
   ]
  },
  {
   "cell_type": "markdown",
   "id": "4006268b",
   "metadata": {},
   "source": [
    "Note que $P_{teste} = (1.5,f*g(1.5)) = (1.5,0.125)$ nos fornece uma indicação de respostas coincidentes!"
   ]
  }
 ],
 "metadata": {
  "kernelspec": {
   "display_name": "Python 3 (ipykernel)",
   "language": "python",
   "name": "python3"
  },
  "language_info": {
   "codemirror_mode": {
    "name": "ipython",
    "version": 3
   },
   "file_extension": ".py",
   "mimetype": "text/x-python",
   "name": "python",
   "nbconvert_exporter": "python",
   "pygments_lexer": "ipython3",
   "version": "3.11.5"
  }
 },
 "nbformat": 4,
 "nbformat_minor": 5
}

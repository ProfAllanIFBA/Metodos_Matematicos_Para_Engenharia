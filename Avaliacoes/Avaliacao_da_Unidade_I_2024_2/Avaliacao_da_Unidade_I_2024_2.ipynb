{
 "cells": [
  {
   "cell_type": "markdown",
   "id": "acd99fbb",
   "metadata": {},
   "source": [
    "<center> <img src=\"logo_ifba.jpg\" alt=\"jpg_python\" width=\"100\" height=\"200\"> </center>\n",
    "<br><br>\n",
    "<div align=\"center\"><span style=\"font-size: 26px;\"><strong>Métodos Matemáticos Para Engenharia <br></strong></span></div> <br>\n",
    "<center> <img src=\"python_gif.gif\" alt=\"gif_python\" width=\"80\"> </center>"
   ]
  },
  {
   "cell_type": "markdown",
   "id": "0e6c75b2",
   "metadata": {},
   "source": [
    "# Avaliação da Unidade I - 2024.2"
   ]
  },
  {
   "cell_type": "markdown",
   "id": "08981f5b",
   "metadata": {},
   "source": [
    "#### Questão 1"
   ]
  },
  {
   "cell_type": "markdown",
   "id": "55b85839",
   "metadata": {},
   "source": [
    "Determine a parte real e o argumento do número complexo $z^{4}$ em que $z = \\frac{4+2i}{1+i}$."
   ]
  },
  {
   "cell_type": "markdown",
   "id": "46804d95",
   "metadata": {},
   "source": [
    "##### Solução Escrita"
   ]
  },
  {
   "cell_type": "markdown",
   "id": "0321147c",
   "metadata": {},
   "source": [
    "Temos que\n",
    "\n",
    "$$z = \\frac{4+2i}{1+i} = \\frac{4+2i}{1+i}\\frac{1-i}{1-i} = \\frac{4 - 4i + 2i - 2i^{2}}{1^{2}+1^{2}} = \\frac{4-2i+2}{2} = \\frac{6-2i}{2} = 3 - i$$\n",
    "\n",
    "Note que\n",
    "\n",
    "$$|z| = \\sqrt{3^{2} + 1^{2}} = \\sqrt{10} \\ \\ \\text{e} \\ \\ \\theta =  arg(z) = tan^{-1}\\left(\\frac{-1}{3}\\right) \\approx -0.321750554396 \\ rad$$\n",
    "\n",
    "Usando a fórmula de Moivre, temos que:\n",
    "\n",
    "$$z^{n} = |z|^{n}(cos(n\\theta) + isen(n\\theta)) = |\\sqrt{10}|^{4}\\left(cos\\left(4\\cdot tan^{-1}\\left(\\frac{-1}{3}\\right)\\right) + isen\\left(4\\cdot tan^{-1}\\left(\\frac{-1}{3}\\right)\\right)\\right) = $$\n",
    "\n",
    "$$= |\\sqrt{10}|^{4}\\left(cos\\left(4\\cdot(-0.321750554396)\\right) + isen\\left(4\\cdot(-0.321750554396)\\right)\\right)$$\n",
    "\n",
    "Portanto,\n",
    "\n",
    "$$Re(z^{4}) = |\\sqrt{10}|^{4}cos(4\\cdot(-0.321750554396)) = \\boxed{28} \\ \\ \\text{e} \\ \\ arg(z) = \\boxed{-1.28700221758 \\ rad}$$"
   ]
  },
  {
   "cell_type": "markdown",
   "id": "7b43b860",
   "metadata": {},
   "source": [
    "##### Solução Computacional"
   ]
  },
  {
   "cell_type": "code",
   "execution_count": 1,
   "id": "a4f268d1",
   "metadata": {},
   "outputs": [],
   "source": [
    "import numpy as np\n",
    "\n",
    "# Cálculos\n",
    "z_num = complex(4,2)\n",
    "z_den = complex(1,1)\n",
    "z = z_num/z_den\n",
    "z4=z**4\n",
    "parte_real = z4.real\n",
    "argumento = np.arctan(z4.imag/z4.real)"
   ]
  },
  {
   "cell_type": "code",
   "execution_count": 2,
   "id": "ce915dee",
   "metadata": {},
   "outputs": [
    {
     "name": "stdout",
     "output_type": "stream",
     "text": [
      "Parte Real de z^4: 28.0\n",
      "Argumento de z^4: -1.2870022175865687\n"
     ]
    }
   ],
   "source": [
    "# Resultados\n",
    "print(f'Parte Real de z^4: {parte_real}')\n",
    "print(f'Argumento de z^4: {argumento}')"
   ]
  },
  {
   "cell_type": "markdown",
   "id": "93797931",
   "metadata": {},
   "source": [
    "#### Questão 2"
   ]
  },
  {
   "cell_type": "markdown",
   "id": "716270ad",
   "metadata": {},
   "source": [
    "Determine todas as soluções da equação $z^{4} - 1 = 0$"
   ]
  },
  {
   "cell_type": "markdown",
   "id": "eb4bcf29",
   "metadata": {},
   "source": [
    "##### Solução Escrita"
   ]
  },
  {
   "cell_type": "markdown",
   "id": "98d26c9c",
   "metadata": {},
   "source": [
    "Temos que as soluções de uma equação da forma $z^{n} - m = 0$ são dadas por:\n",
    "\n",
    "$$z_{k} = m^{1/n}e^{\\frac{(k-1)2i\\pi}{n}}, \\ \\ k \\in \\{1,2,3,\\ldots,n-1\\}$$\n",
    "\n",
    "Sendo esta uma equação de grau $4$ ela deve possuir exatamente quatro raízes:\n",
    "\n",
    "$z_{1} = 2^{\\frac{1}{4}}e^{\\frac{0\\cdot 2i\\pi}{4}} = 2^{\\frac{1}{4}}\\cdot1 = \\boxed{\\sqrt[4]{2}}$\n",
    "\n",
    "$z_{2} = 2^{\\frac{1}{4}}e^{\\frac{1\\cdot i2\\pi}{4}} = 2^{\\frac{1}{4}}\\left(cos\\left(\\frac{2\\pi}{4}\\right) + isen\\left(\\frac{2\\pi}{4}\\right) \\right) = 2^{\\frac{1}{4}}\\left(0 + i\\cdot1\\right) = \\boxed{\\sqrt[4]{2}i}$\n",
    "\n",
    "$z_{3} = 2^{\\frac{1}{4}}e^{\\frac{2\\cdot 2i\\pi}{4}} =  2^{\\frac{1}{4}}\\left(cos\\left(\\frac{4\\pi}{4}\\right) + isen\\left(\\frac{4\\pi}{4}\\right) \\right) = 2^{\\frac{1}{4}}\\left(-1 - i\\cdot0\\right) = \\boxed{-\\sqrt[4]{2}}$\n",
    "\n",
    "$z_{4} = 2^{\\frac{1}{4}}e^{\\frac{3\\cdot 2i\\pi}{4}} =  2^{\\frac{1}{4}}\\left(cos\\left(\\frac{3\\pi}{2}\\right) + isen\\left(\\frac{3\\pi}{2}\\right) \\right) = 2^{\\frac{1}{4}}\\left(0 +i\\cdot(-1)\\right) = \\boxed{-\\sqrt[4]{2}i}$"
   ]
  },
  {
   "cell_type": "markdown",
   "id": "46f70bf6",
   "metadata": {},
   "source": [
    "##### Solução Computacional"
   ]
  },
  {
   "cell_type": "code",
   "execution_count": 3,
   "id": "005268b1",
   "metadata": {},
   "outputs": [],
   "source": [
    "import numpy as np\n",
    "\n",
    "def raizes_complexas(z,n):\n",
    "    r = abs(z)\n",
    "    theta = np.angle(z)\n",
    "    roots = []\n",
    "    for k in range(n):\n",
    "        angle = (theta + 2 * np.pi * k) / n\n",
    "        root = np.round(r**(1/n) * (np.cos(angle) + 1j * np.sin(angle)),8)\n",
    "        roots.append(root)\n",
    "    return roots"
   ]
  },
  {
   "cell_type": "code",
   "execution_count": 4,
   "id": "337c7b01",
   "metadata": {},
   "outputs": [],
   "source": [
    "z_k = complex(2,0)\n",
    "n = 4\n",
    "raizes = raizes_complexas(z_k,n)"
   ]
  },
  {
   "cell_type": "code",
   "execution_count": 5,
   "id": "96b05f65",
   "metadata": {},
   "outputs": [
    {
     "data": {
      "text/plain": [
       "[(1.18920712+0j), 1.18920712j, (-1.18920712+0j), (-0-1.18920712j)]"
      ]
     },
     "execution_count": 5,
     "metadata": {},
     "output_type": "execute_result"
    }
   ],
   "source": [
    "# Raízes\n",
    "raizes"
   ]
  },
  {
   "cell_type": "markdown",
   "id": "66e128af",
   "metadata": {},
   "source": [
    "#### Questão 3"
   ]
  },
  {
   "cell_type": "markdown",
   "id": "21f322b1",
   "metadata": {},
   "source": [
    "Calcule a parte real e a parte imaginária de $sen(i) - sen(i + \\pi)$."
   ]
  },
  {
   "cell_type": "markdown",
   "id": "5cae4226",
   "metadata": {},
   "source": [
    "##### Solução Escrita"
   ]
  },
  {
   "cell_type": "markdown",
   "id": "a482e6d5",
   "metadata": {},
   "source": [
    "Temos que\n",
    "\n",
    "$$sen(i) = \\frac{e^{i\\cdot i} - e^{-i\\cdot i}}{2i} = \\frac{e^{-1} - e^{1}}{2i} = \\frac{i}{i}\\frac{e^{-1} - e}{2i} = i\\frac{e - e^{-1}}{2}$$\n",
    "\n",
    "$$sen(i+\\pi) = -sen(i) = -i\\frac{e - e^{-1}}{2}$$\n",
    "\n",
    "Pois bem,\n",
    "\n",
    "$$sen(i) - sen(i + \\pi) = sen(i) - (-sen(i)) = 2sen(i) = 2i\\frac{e - e^{-1}}{2} = i(e-e^{-1})$$\n",
    "\n",
    "Portanto,\n",
    "\n",
    "$$Re(sen(i) - sen(i + \\pi)) = \\boxed{0} \\ \\ \\text{e} \\ \\ Img(sen(i) - sen(i + \\pi)) = \\boxed{e-e^{-1}} \\approx 2.35040238729.$$"
   ]
  },
  {
   "cell_type": "markdown",
   "id": "d1b22b73",
   "metadata": {},
   "source": [
    "##### Solução Computacional"
   ]
  },
  {
   "cell_type": "code",
   "execution_count": 6,
   "id": "75261a6a",
   "metadata": {},
   "outputs": [],
   "source": [
    "import sympy as sp\n",
    "\n",
    "z = complex(sp.sin(sp.I) - sp.sin(sp.I + sp.pi))"
   ]
  },
  {
   "cell_type": "code",
   "execution_count": 7,
   "id": "98a044c8",
   "metadata": {},
   "outputs": [
    {
     "name": "stdout",
     "output_type": "stream",
     "text": [
      "A parte real da expressão dada é: 0.0\n",
      "A parte imaginária da expressão dada é: 2.3504023872876028\n"
     ]
    }
   ],
   "source": [
    "# Respostas\n",
    "print(f'A parte real da expressão dada é: {z.real}')\n",
    "print(f'A parte imaginária da expressão dada é: {z.imag}')"
   ]
  },
  {
   "cell_type": "markdown",
   "id": "9af668fa",
   "metadata": {},
   "source": [
    "#### Questão 4"
   ]
  },
  {
   "cell_type": "markdown",
   "id": "e5e1805e",
   "metadata": {},
   "source": [
    "Determine a transformada de laplace de $f(t) = (t+1)e^{-t}, t \\geq 0$"
   ]
  },
  {
   "cell_type": "markdown",
   "id": "dd774e9d",
   "metadata": {},
   "source": [
    "##### Solução Escrita"
   ]
  },
  {
   "cell_type": "markdown",
   "id": "a3144722",
   "metadata": {},
   "source": [
    "Temos que\n",
    "\n",
    "$$f(t) = (t+1)e^{-t} = te^{-t} + e^{-t} \\tag{1}$$\n",
    "\n",
    "Podemos aplicar em $(1)$ as seguintes regras para determinar a transformada $\\mathscr{L}[f(t)]$:\n",
    "\n",
    "$$\\mathscr{L}[e^{at}] = \\frac{1}{s-a}  \\ \\ \\text{e} \\ \\ \\mathscr{L}[t^n f(t)] = (-1)^n \\frac{d^n}{ds^n} \\overline{f}(s)$$\n",
    "\n",
    "Pois bem,\n",
    "\n",
    "$$\\mathscr{L}[f(t)] = \\mathscr{L}[te^{-t} + e^{-t}] = \\mathscr{L}[te^{-t}] + \\mathscr{L}[e^{-t}] = (-1)^{1}\\frac{d}{ds}\\left(\\mathscr{L}[e^{-t}] \\right) + \\mathscr{L}[e^{-t}] = $$\n",
    "\n",
    "$$ = -\\frac{d}{ds}\\left(\\frac{1}{s-(-1)}\\right) + \\frac{1}{s-(-1)} =  -\\frac{d}{ds}\\left(\\frac{1}{s+1}\\right) + \\frac{1}{s+1} =$$\n",
    "\n",
    "$$ = \\boxed{\\frac{1}{(s+1)^{2}} + \\frac{1}{s+1}} = \\frac{1 + s+1}{s^{2} + 2s + 1} = \\boxed{\\frac{s+2}{s^{2} + 2s + 1}}_{py}$$"
   ]
  },
  {
   "cell_type": "markdown",
   "id": "2680456d",
   "metadata": {},
   "source": [
    "##### Solução Computacional"
   ]
  },
  {
   "cell_type": "code",
   "execution_count": 8,
   "id": "133a52cf",
   "metadata": {},
   "outputs": [],
   "source": [
    "import sympy as sp\n",
    "\n",
    "# Definindo as variáveis simbólicas\n",
    "t, s, n = sp.symbols('t s n')\n",
    "\n",
    "# Cálculo da transformada\n",
    "F = sp.laplace_transform((t+1)*sp.exp(-t), t, s, noconds=True)"
   ]
  },
  {
   "cell_type": "code",
   "execution_count": 9,
   "id": "d3c4ec21",
   "metadata": {},
   "outputs": [
    {
     "data": {
      "text/latex": [
       "$\\displaystyle \\frac{s + 2}{s^{2} + 2 s + 1}$"
      ],
      "text/plain": [
       "(s + 2)/(s**2 + 2*s + 1)"
      ]
     },
     "execution_count": 9,
     "metadata": {},
     "output_type": "execute_result"
    }
   ],
   "source": [
    "# Resposta\n",
    "F"
   ]
  },
  {
   "cell_type": "markdown",
   "id": "aa661fe6",
   "metadata": {},
   "source": [
    "#### Questão 5"
   ]
  },
  {
   "cell_type": "markdown",
   "id": "22748b9b",
   "metadata": {},
   "source": [
    "Calcule a convolução das funções $f(t) = t+1$ e $g(t) = t^{2}$."
   ]
  },
  {
   "cell_type": "markdown",
   "id": "b43a0353",
   "metadata": {},
   "source": [
    "##### Solução Escrita"
   ]
  },
  {
   "cell_type": "markdown",
   "id": "b1c7a698",
   "metadata": {},
   "source": [
    "Temos que\n",
    "\n",
    "$$f(t)*g(t) = \\int_{0}^{t}f(u)g(t-u)du$$\n",
    "\n",
    "Contudo, para facilitar as contas utilizemos o fato de $f(t)*g(t) = g(t)*f(t)$ donde segue:\n",
    "\n",
    "$$g(t)*f(t) = \\int_{0}^{t}g(u)f(t-u)du = \\int_{0}^{\\infty}u^{2}(t-u+1)du = $$\n",
    "\n",
    "$$ = \\int_{0}^{\\infty}u^{2}t - u^{3} + u^{2}du = \\left.\\left[\\frac{u^{3}}{3}t - \\frac{u^{4}}{4} + \\frac{u^{3}}{3} \\right]\\right|_{0}^{t} = \\frac{t^{4}}{3} - \\frac{t^{4}}{4} + \\frac{t^{3}}{3} - 0 = \\boxed{\\frac{t^{4}}{12} + \\frac{t^{3}}{3}} = \\frac{t^{4} + 4t^{3}}{12} = \\boxed{\\frac{t^{3}(t+4)}{12}}_{py}$$\n",
    "\n",
    "*Siga pelo caminho $f(t)*g(t) = \\int_{0}^{t}f(u)g(t-u)du$.*"
   ]
  },
  {
   "cell_type": "markdown",
   "id": "ad0c39ba",
   "metadata": {},
   "source": [
    "##### Solução Computacional"
   ]
  },
  {
   "cell_type": "markdown",
   "id": "40a9435f",
   "metadata": {},
   "source": [
    "Considerando \n",
    "\n",
    "$$f(t)*g(t) = \\int_{0}^{t}f(u)g(t-u)du,$$\n",
    "\n",
    "temos"
   ]
  },
  {
   "cell_type": "code",
   "execution_count": 10,
   "id": "30a12936",
   "metadata": {},
   "outputs": [],
   "source": [
    "import sympy as sp\n",
    "\n",
    "# Definindo as variáveis\n",
    "t, u = sp.symbols('t u')\n",
    "\n",
    "# Definindo as funções f(t) e g(t) (FORMA 1)\n",
    "f_t = u+1  # Note que estamos substituindo u aqui, pois a integração é em relação a u\n",
    "g_t = (t-u)**2\n",
    "\n",
    "# Definindo a convolução\n",
    "convolucao = sp.integrate(f_t * g_t, (u, 0, t))"
   ]
  },
  {
   "cell_type": "code",
   "execution_count": 11,
   "id": "ca28fd31",
   "metadata": {},
   "outputs": [
    {
     "data": {
      "text/latex": [
       "$\\displaystyle \\frac{t^{3} \\left(t + 4\\right)}{12}$"
      ],
      "text/plain": [
       "t**3*(t + 4)/12"
      ]
     },
     "execution_count": 11,
     "metadata": {},
     "output_type": "execute_result"
    }
   ],
   "source": [
    "# Resposta\n",
    "sp.simplify(convolucao)"
   ]
  },
  {
   "cell_type": "markdown",
   "id": "c9cb36e5",
   "metadata": {},
   "source": [
    "Considerando \n",
    "\n",
    "$$g(t)*f(t) = \\int_{0}^{t}g(u)f(t-u)du,$$\n",
    "\n",
    "temos"
   ]
  },
  {
   "cell_type": "code",
   "execution_count": 12,
   "id": "206eacac",
   "metadata": {},
   "outputs": [],
   "source": [
    "import sympy as sp\n",
    "\n",
    "# Definindo as variáveis\n",
    "t, u = sp.symbols('t u')\n",
    "\n",
    "# Definindo as funções f(t) e g(t) (FORMA 1)\n",
    "f_t = u**2  # Note que estamos substituindo u aqui, pois a integração é em relação a u\n",
    "g_t = t-u+1\n",
    "\n",
    "# Definindo a convolução\n",
    "convolucao = sp.integrate(f_t * g_t, (u, 0, t))"
   ]
  },
  {
   "cell_type": "code",
   "execution_count": 13,
   "id": "d2d8c541",
   "metadata": {},
   "outputs": [
    {
     "data": {
      "text/latex": [
       "$\\displaystyle \\frac{t^{3} \\left(t + 4\\right)}{12}$"
      ],
      "text/plain": [
       "t**3*(t + 4)/12"
      ]
     },
     "execution_count": 13,
     "metadata": {},
     "output_type": "execute_result"
    }
   ],
   "source": [
    "# Resposta\n",
    "sp.simplify(convolucao)"
   ]
  },
  {
   "cell_type": "markdown",
   "id": "13d161a5",
   "metadata": {},
   "source": [
    "#### Questão 6"
   ]
  },
  {
   "cell_type": "markdown",
   "id": "f4195826",
   "metadata": {},
   "source": [
    "Use transformada de Laplace para resolver o seguinte PVI:\n",
    "$$y'-y = xe^{x}, \\ \\ y(0) = 0.$$"
   ]
  },
  {
   "cell_type": "markdown",
   "id": "9d4555be",
   "metadata": {},
   "source": [
    "##### Solução Escrita"
   ]
  },
  {
   "cell_type": "markdown",
   "id": "c46e6e95",
   "metadata": {},
   "source": [
    "Apliquemos a transformada de Laplace aos dois membros da equação referente ao PVI:\n",
    "\n",
    "$$ \\mathscr{L}[y' - y] = \\mathscr{L}[xe^{x}] \\Rightarrow  \\mathscr{L}[y'] - \\mathscr{L}[y] = \\mathscr{L}[xe^{x}] \\Rightarrow sY(s) - y(0) - Y(s) = \\frac{1}{(s-1)^{2}} \\Rightarrow $$\n",
    "\n",
    "$$ \\Rightarrow (s-1)Y(s) =  \\frac{1}{(s-1)^{2}} \\Rightarrow Y(s) = \\frac{1}{(s-1)^{3}}$$\n",
    "\n",
    "Aplicando a transformada de Laplace inversa a $Y(s)$, temos:\n",
    "\n",
    "$$y(t) = \\mathscr{L}^{-1}\\left[\\frac{1}{(s-1)^{3}} \\right] = \\mathscr{L}^{-1}\\left[\\frac{1}{2!}\\frac{2!}{(s-1)^{2+1}}\\right] = \\frac{1}{2!}\\mathscr{L}^{-1}\\left[\\frac{2!}{(s-1)^{2+1}}\\right] = \\boxed{\\frac{x^{2}e^{x}}{2}}$$"
   ]
  },
  {
   "cell_type": "markdown",
   "id": "bd57a56a",
   "metadata": {},
   "source": [
    "##### Solução Computacional"
   ]
  },
  {
   "cell_type": "code",
   "execution_count": 14,
   "id": "346f49d2",
   "metadata": {},
   "outputs": [],
   "source": [
    "import sympy as sp\n",
    "\n",
    "# Definindo a variável independente e a função desconhecida\n",
    "x = sp.symbols('x')\n",
    "y = sp.Function('y')(x)\n",
    "\n",
    "# Definindo a equação diferencial não homogênea\n",
    "equacao = sp.Eq(y.diff(x) - y, x*sp.exp(x))"
   ]
  },
  {
   "cell_type": "code",
   "execution_count": 15,
   "id": "431e3bb2",
   "metadata": {},
   "outputs": [
    {
     "data": {
      "text/latex": [
       "$\\displaystyle y{\\left(x \\right)} = \\frac{x^{2} e^{x}}{2}$"
      ],
      "text/plain": [
       "Eq(y(x), x**2*exp(x)/2)"
      ]
     },
     "execution_count": 15,
     "metadata": {},
     "output_type": "execute_result"
    }
   ],
   "source": [
    "# Resolvendo a equação diferencial com condições iniciais\n",
    "condicoes_iniciais = {y.subs(x, 0): 0}\n",
    "pvi = sp.dsolve(equacao, y, ics=condicoes_iniciais)\n",
    "pvi"
   ]
  }
 ],
 "metadata": {
  "kernelspec": {
   "display_name": "Python 3 (ipykernel)",
   "language": "python",
   "name": "python3"
  },
  "language_info": {
   "codemirror_mode": {
    "name": "ipython",
    "version": 3
   },
   "file_extension": ".py",
   "mimetype": "text/x-python",
   "name": "python",
   "nbconvert_exporter": "python",
   "pygments_lexer": "ipython3",
   "version": "3.11.5"
  }
 },
 "nbformat": 4,
 "nbformat_minor": 5
}

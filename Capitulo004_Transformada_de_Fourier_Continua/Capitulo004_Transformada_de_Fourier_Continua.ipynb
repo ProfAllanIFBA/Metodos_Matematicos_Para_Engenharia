{
 "cells": [
  {
   "cell_type": "markdown",
   "id": "d4ea28a8",
   "metadata": {
    "slideshow": {
     "slide_type": "slide"
    }
   },
   "source": [
    "<center> <img src=\"logo_ifba.jpg\" alt=\"jpg_python\" width=\"100\" height=\"200\"> </center>\n",
    "<br><br>\n",
    "<div align=\"center\"><span style=\"font-size: 26px;\"><strong>Métodos Matemáticos Para Engenharia <br></strong></span></div> <br>\n",
    "<center> <img src=\"python_gif.gif\" alt=\"gif_python\" width=\"80\"> </center>\n"
   ]
  },
  {
   "cell_type": "markdown",
   "id": "d76184a7",
   "metadata": {
    "slideshow": {
     "slide_type": "slide"
    }
   },
   "source": [
    "<div style=\"border: 2px solid black; padding: 10px; width: 95%; background-color: lightgray; display: flex; align-items: center;\">\n",
    "    <h1 style=\"color: red; text-align: center; margin: auto;\">\n",
    "        Capítulo 4: Transformada de Fourier Contínua\n",
    "    </h1>\n",
    "</div>\n",
    "\n",
    "<font color='red'></font>\n",
    "<a href=\"\"></a>"
   ]
  },
  {
   "cell_type": "markdown",
   "id": "f11fb9f7",
   "metadata": {},
   "source": [
    "A Transformada de Fourier é uma ferramenta matemática fundamental que permite decompor uma função ou sinal no domínio do tempo em suas componentes de frequência. Ao converter um sinal para o domínio da frequência, a Transformada de Fourier facilita a análise das frequências presentes no sinal, proporcionando insights sobre suas características e comportamento. Essa transformação é amplamente utilizada em diversas áreas, como processamento de sinais, análise de imagens, engenharia elétrica, acústica e física, permitindo a filtragem, compressão e identificação de padrões de frequências em sinais complexos."
   ]
  },
  {
   "cell_type": "markdown",
   "id": "6c4c6d56",
   "metadata": {},
   "source": [
    "# <div style=\"margin-top: -20px;\">\n",
    "<hr style=\"border: 2px solid black;\">\n",
    "\n",
    "<font color='black'><span style=\"font-size: 22px;\"><strong>4.1 Intregral de Fourier</strong></span></font>\n",
    "\n",
    "<hr style=\"border: 2px solid black;\">\n",
    "</div>"
   ]
  },
  {
   "cell_type": "markdown",
   "id": "bf1740f4",
   "metadata": {},
   "source": [
    "#### <font color='red'> Teorema 1 (Teorema da Integral de Fourier)"
   ]
  },
  {
   "cell_type": "markdown",
   "id": "7896e3c4",
   "metadata": {},
   "source": [
    "<font color='red'> Admitamos as seguintes condições para $f(x)$:<br><br>\n",
    " (i) $f(x)$ satisfaz às condições de Dirichlet (**Capítulo 3**) em todo intervalo $(-L,L)$.<br><br>\n",
    " (ii) $\\int_{-\\infty}^{\\infty} |f(x)|dx$ converge, isto é, $f(x)$ é absolutamente integrável em $(-\\infty,\\infty)$. Então, o teorema da integral de Fourier estabelece que<br><br>\n",
    " $$f(x) = \\int_{0}^{\\infty} (A(\\omega)cos(\\omega x) + B(\\omega)sen(\\omega x)) d\\omega \\tag{1}$$<br>\n",
    " em que<br><br>\n",
    " $$\\left\\{\\begin{array}{}\n",
    "A(\\omega) = \\frac{1}{\\pi} \\int_{-\\infty}^{\\infty} f(x) cos(\\omega x) dx \\\\\n",
    "B(\\omega) = \\frac{1}{\\pi} \\int_{-\\infty}^{\\infty} f(x) sen(\\omega x) dx \\\\\n",
    "\\end{array}\\right. \\tag{2}$$<br>\n",
    " Caso $x$ seja um ponto de descontinuidade troca-se $f(x)$ por $\\frac{lim_{\\epsilon \\to 0^{+}} f(x+\\epsilon) + lim_{\\epsilon \\to 0^{-}} f(x+\\epsilon)}{2}$ de modo análogo ao feito para séries de Fourier.</font>\n",
    " \n",
    "Caso $f(x)$ seja uma função par, temos que:<br><br>\n",
    " <font color='red'>$$\\left\\{\\begin{array}{}\n",
    "A(\\omega) = \\frac{2}{\\pi} \\int_{0}^{\\infty} f(x) cos(\\omega x) dx \\\\\n",
    "B(\\omega) = 0 \\\\\n",
    "\\end{array}\\right. \\Rightarrow f(x) = \\int_{0}^{\\infty} A(\\omega)cos(\\omega x) d\\omega\\tag{3}$$<br>\n",
    " \n",
    "Da mesma forma, caso $f(x)$ seja uma função ímpar, temos que:<br><br>\n",
    " <font color='red'>$$\\left\\{\\begin{array}{}\n",
    "A(\\omega) = 0 \\\\\n",
    "B(\\omega) = \\frac{2}{\\pi} \\int_{0}^{\\infty} f(x) sen(\\omega x) dx \\\\\n",
    "\\end{array}\\right. \\Rightarrow f(x) = \\int_{0}^{\\infty} B(\\omega)sen(\\omega x) d\\omega \\tag{4}$$"
   ]
  },
  {
   "cell_type": "markdown",
   "id": "a6c83dfe",
   "metadata": {},
   "source": [
    "#### <font color='blue'> Exemplo 1 </font>"
   ]
  },
  {
   "cell_type": "markdown",
   "id": "9d2a97f8",
   "metadata": {},
   "source": [
    "<font color='blue'> Aplique o teorema da Integral de Fourier à função $f(x) = e^{-|x|}$."
   ]
  },
  {
   "cell_type": "markdown",
   "id": "9bf8e6e1",
   "metadata": {},
   "source": [
    "##### <font color='blue'> Solução </font>"
   ]
  },
  {
   "cell_type": "markdown",
   "id": "2f9f1e50",
   "metadata": {},
   "source": [
    "<font color='blue'> Temos que<br><br>\n",
    " $$A(\\omega) = \\frac{1}{\\pi}\\int_{-\\infty}^{\\infty}e^{-|x|}cos(\\omega x) dx$$<br>\n",
    " Como $e^{-|x|}$ é uma função par, temos que $B(\\omega) = 0$ e <br><br>\n",
    " $$A(\\omega) = \\frac{2}{\\pi}\\int_{0}^{\\infty}e^{-|x|}cos(\\omega x) dx$$<br>\n",
    " Desconsideremos, por ora, os limites de integração e a fração $\\frac{2}{\\pi}$:<br><br>\n",
    " $$\\int e^{-x} cos(\\omega x) dx =^{[pp]} \\frac{2}{\\pi}\\left(e^{-x}\\frac{sen(\\omega x)}{\\omega} + \\int e^{-x}\\frac{sen(\\omega x)}{\\omega} dx \\right) =$$<br>\n",
    " $$= \\left(e^{-x}\\frac{sen(\\omega x)}{\\omega} -e^{-x}\\frac{cos(\\omega x)}{\\omega^{2}}- \\frac{1}{\\omega^{2}}\\int e^{-x}cos(\\omega x) dx \\right) \\Rightarrow $$<br>\n",
    " $$\\Rightarrow \\int e^{-x}cos(\\omega x) dx + \\frac{1}{\\omega^{2}}\\int e^{-x}cos(\\omega x) dx = e^{-x}\\frac{\\omega sen(\\omega x) -cos(\\omega x)}{\\omega^{2}} \\Rightarrow $$<br>\n",
    " $$\\Rightarrow \\frac{\\omega^{2}+1}{\\omega^{2}}\\int e^{-x}cos(\\omega x) dx = e^{-x}\\frac{\\omega sen(\\omega x) -cos(\\omega x)}{\\omega^{2}} \\Rightarrow  $$<br>\n",
    " $$\\Rightarrow \\int e^{-x}cos(\\omega x) dx = \\frac{1}{\\omega^{2}+1}e^{-x}(\\omega sen(\\omega x) -cos(\\omega x)) $$<br>\n",
    " Assim,<br><br>\n",
    " $$A(\\omega) = \\frac{2}{\\pi}\\left.\\left(\\frac{1}{\\omega^{2}+1}e^{-x}(\\omega sen(\\omega x) -cos(\\omega x)) \\right)\\right|_{0}^{\\infty} =  $$<br>\n",
    " $$= \\frac{2}{\\pi}\\frac{1}{\\omega^{2}+1}\\left(\\left(e^{-\\infty}(\\omega sen(\\omega \\cdot \\infty) -cos(\\omega \\cdot \\infty)) \\right) - \\left(e^{-0}(\\omega sen(\\omega \\cdot 0) -cos(\\omega \\cdot 0)) \\right)\\right) =$$<br>\n",
    " $$=\\frac{2}{\\pi}\\frac{1}{\\omega^{2}+1}(0 - (-1)) = \\frac{2}{\\pi}\\frac{1}{\\omega^{2}+1}$$<br>\n",
    " Por fim,<br><br>\n",
    " $$f(x) = \\int_{0}^{\\infty}\\frac{2}{\\pi}\\frac{1}{\\omega^{2}+1} cos(\\omega x) d\\omega$$<br>\n",
    " Parece estranho, mas $e^{-|x|} = \\int_{0}^{\\infty}\\frac{2}{\\pi}\\frac{1}{\\omega^{2}+1} cos(\\omega x) d\\omega$. Podemos usar o WolframAlpha para verificar esta igualdade ([Link](https://www.wolframalpha.com/input?i=%5Cint_%7B0%7D%5E%7B%5Cinfty%7D%5Cfrac%7B2%7D%7B%5Cpi%7D%5Cfrac%7B1%7D%7B%5Comega%5E%7B2%7D%2B1%7D+cos%28%5Comega+x%29+d%5Comega)):<br><br>\n",
    " <center> <img src=\"fig1_1.png\" alt=\"jpg_python\" width=\"600\" height=\"\"> </center>\n",
    " \n",
    " "
   ]
  },
  {
   "cell_type": "markdown",
   "id": "64259be6",
   "metadata": {},
   "source": [
    "# <div style=\"margin-top: -20px;\">\n",
    "<hr style=\"border: 2px solid black;\">\n",
    "\n",
    "<font color='black'><span style=\"font-size: 22px;\"><strong>4.2 Transformada de Fourier</strong></span></font>\n",
    "\n",
    "<hr style=\"border: 2px solid black;\">\n",
    "</div>"
   ]
  },
  {
   "cell_type": "markdown",
   "id": "0d1da148",
   "metadata": {},
   "source": [
    "#### Transformada de Fourier"
   ]
  },
  {
   "cell_type": "markdown",
   "id": "564102e1",
   "metadata": {},
   "source": [
    "As transformadas de Fourier, direta $F(\\omega)$ (ou $\\mathscr{F}[f(x)]$) e inversa $f(x)$ (ou $\\mathscr{F}^{-1}[F(\\omega)]$) são dadas por:\n",
    "\n",
    "<font color='red'>$$F(\\omega) = \\frac{1}{\\sqrt{2\\pi}} \\int_{-\\infty}^{\\infty} f(x) e^{-i\\omega x} dx = \\frac{1}{\\sqrt{2\\pi}} \\int_{-\\infty}^{\\infty} f(x) (cos(\\omega x) - isen(\\omega x)) dx \\tag{5}$$<br>\n",
    " $$f(x) = \\frac{1}{\\sqrt{2\\pi}} \\int_{-\\infty}^{\\infty} F(\\omega) e^{i\\omega x} d\\omega = \\frac{1}{\\sqrt{2\\pi}} \\int_{-\\infty}^{\\infty} F(\\omega) (cos(\\omega x) + isen(\\omega x))d\\omega \\tag{6}$$</font>\n",
    "\n",
    "As constantes $\\frac{1}{\\sqrt{2\\pi}}$ fora da integral podem ter quaisquer valores diferentes de zero desde que seu produto seja $\\frac{1}{2\\pi}$."
   ]
  },
  {
   "cell_type": "markdown",
   "id": "e5b14d97",
   "metadata": {},
   "source": [
    "#### <font color='blue'> Exemplo 2 </font>"
   ]
  },
  {
   "cell_type": "markdown",
   "id": "7879125a",
   "metadata": {},
   "source": [
    "<font color='blue'> Encontre a transformada de Fourier de<br><br>\n",
    " $$f(x) = \\left\\{\\begin{array}{}\n",
    " 1, & |x| < a\\\\\n",
    " 0, & |x| > a\\end{array}\\right.$$"
   ]
  },
  {
   "cell_type": "markdown",
   "id": "a59845d7",
   "metadata": {},
   "source": [
    "##### <font color='blue'> Solução </font>"
   ]
  },
  {
   "cell_type": "markdown",
   "id": "9183e37b",
   "metadata": {},
   "source": [
    "<font color='blue'> Temos que<br><br>\n",
    " $$F(\\omega) = \\frac{1}{\\sqrt{2\\pi}}\\int_{-\\infty}^{\\infty} f(x)e^{-i\\omega x} dx = \\frac{1}{\\sqrt{2\\pi}}\\int_{-a}^{a} 1 e^{-i\\omega x} dx =$$<br>\n",
    " $$ = \\frac{1}{\\sqrt{2\\pi}}\\left.\\frac{e^{-i\\omega x}}{-i\\omega}\\right|_{-a}^{a} = \\frac{1}{-i\\omega\\sqrt{2\\pi}} \\left(e^{-i\\omega a} - e^{-i\\omega(-a)}\\right) = \\frac{i}{\\omega\\sqrt{2\\pi}}\\left(e^{-i\\omega a} - e^{i\\omega a}\\right) $$<br>\n",
    " $$ = \\frac{i}{\\omega\\sqrt{2\\pi}}\\left( (cos(\\omega a) - isen(\\omega a)) - (cos(\\omega a) + isen(\\omega a)) \\right) = $$<br>\n",
    " $$ = \\frac{i}{\\omega\\sqrt{2\\pi}}\\cdot (-2isen(\\omega a)) = \\frac{2}{\\sqrt{2\\pi}}\\frac{sen(\\omega a)}{\\omega} = \\sqrt{\\frac{2}{\\pi}}\\frac{sen(\\omega a)}{\\omega}, \\ \\omega \\neq 0.$$<br>\n",
    " Para $\\omega = 0$, temos<br><br>\n",
    " $$F(0) = lim_{\\omega \\to 0} \\sqrt{\\frac{2}{\\pi}}\\frac{sen(\\omega a)}{\\omega} = alim_{\\omega \\to 0} \\sqrt{\\frac{2}{\\pi}}\\frac{sen(\\omega a)}{a\\omega} = a\\sqrt{\\frac{2}{\\pi}}$$"
   ]
  },
  {
   "cell_type": "markdown",
   "id": "123994b7",
   "metadata": {},
   "source": [
    "A obtenção da transformada via código Python deve-se levar em conta o fator de normalização. A função Python \"help\" nos fornecerá a forma como a série de Fourier foi implementada."
   ]
  },
  {
   "cell_type": "code",
   "execution_count": null,
   "id": "c64ceed3",
   "metadata": {
    "ExecuteTime": {
     "end_time": "2024-11-25T23:58:40.231292Z",
     "start_time": "2024-11-25T23:58:39.630913Z"
    }
   },
   "outputs": [],
   "source": [
    "import sympy as sp\n",
    "help(sp.fourier_transform)"
   ]
  },
  {
   "cell_type": "markdown",
   "id": "4f18efc9",
   "metadata": {},
   "source": [
    "Note que ao invés de $\\int_{-\\infty}^\\infty f(x) e^{-i\\omega x} dx$ como estamos usando, usa-se $\\int_{-\\infty}^\\infty f(x) e^{-2\\pi i x k} dx$. Sendo assim, precisamos tomar $k = \\frac{\\omega}{2\\pi}$. Além do fator de normalização $\\frac{1}{\\sqrt{2\\pi}}$. **Fique atento a este fatores!!!**"
   ]
  },
  {
   "cell_type": "code",
   "execution_count": null,
   "id": "abb0bb27",
   "metadata": {
    "ExecuteTime": {
     "end_time": "2024-11-25T23:58:40.855320Z",
     "start_time": "2024-11-25T23:58:40.233290Z"
    }
   },
   "outputs": [],
   "source": [
    "import sympy as sp\n",
    "\n",
    "# Definindo as variáveis\n",
    "x, omega = sp.symbols('x omega')\n",
    "\n",
    "# Definindo a função f(x) com uma representação simétrica clara\n",
    "f = sp.Piecewise((1, sp.Abs(x) < 2), (0, True))\n",
    "\n",
    "# Fator de normalização\n",
    "norm = 2*sp.pi\n",
    "\n",
    "# Calculando a Transformada de Fourier\n",
    "F_omega = sp.fourier_transform(sp.sqrt(1/norm)*f, x, omega/(norm))\n",
    "\n",
    "F_omega"
   ]
  },
  {
   "cell_type": "code",
   "execution_count": null,
   "id": "fd5a77bf",
   "metadata": {
    "ExecuteTime": {
     "end_time": "2024-11-25T23:58:42.963644Z",
     "start_time": "2024-11-25T23:58:40.856321Z"
    }
   },
   "outputs": [],
   "source": [
    "import numpy as np\n",
    "import matplotlib.pyplot as plt\n",
    "\n",
    "# Plotando a função original f(x)\n",
    "x_vals = np.linspace(-5, 5, 400)\n",
    "f_vals = [f.subs(x, val).evalf() for val in x_vals]\n",
    "\n",
    "plt.figure(figsize=(10, 2))\n",
    "plt.plot(x_vals, f_vals, label='Rectangular Function', color = 'blue')\n",
    "plt.title('Rectangular Function f(x)')\n",
    "plt.xlabel('x')\n",
    "plt.ylabel('f(x)')\n",
    "plt.grid(True)\n",
    "plt.legend()\n",
    "plt.show()\n",
    "\n",
    "\n",
    "# Plotando a Transformada de Fourier\n",
    "omega_vals = np.linspace(-5, 5, 400)\n",
    "F_vals = [F_omega.subs(omega, val).evalf() for val in omega_vals]\n",
    "\n",
    "plt.figure(figsize=(10, 2))\n",
    "plt.plot(omega_vals, F_vals, label='Fourier Transform of f(x)', color = 'blue')\n",
    "plt.title('Fourier Transform of the Rectangular Function')\n",
    "plt.xlabel('Frequency (omega)')\n",
    "plt.ylabel('Amplitude')\n",
    "plt.grid(True)\n",
    "plt.legend()\n",
    "plt.show()\n"
   ]
  },
  {
   "cell_type": "markdown",
   "id": "1c04d573",
   "metadata": {},
   "source": [
    "Vejamos um exemplo, aparentemente semelhante ao caso anterior, mas com componentes real e complexa:"
   ]
  },
  {
   "cell_type": "markdown",
   "id": "93e54a38",
   "metadata": {},
   "source": [
    "#### <font color='blue'> Exemplo 3 </font>"
   ]
  },
  {
   "cell_type": "markdown",
   "id": "f706a33a",
   "metadata": {},
   "source": [
    "<font color='blue'> <font color='blue'> a) Encontre a transformada de Fourier de<br><br>\n",
    " $$f(x) = \\left\\{\\begin{array}{}\n",
    " 1, & 0 < x < a\\\\\n",
    " 0, & \\text{do contrário} \\end{array}\\right.$$<br>\n",
    " b) Exiba as partes real e imaginária da transformada $F(\\omega)$.<br><br>\n",
    " c) Exiba o gráfico de $f(x)$ e os gráficos da parte real e da parte imaginária de $F(\\omega)$ para $a = 2$ e $\\omega \\in \\mathbb{R}$."
   ]
  },
  {
   "cell_type": "markdown",
   "id": "405ea835",
   "metadata": {},
   "source": [
    "##### <font color='blue'> Solução </font>"
   ]
  },
  {
   "cell_type": "markdown",
   "id": "875ceccb",
   "metadata": {},
   "source": [
    "<font color='blue'> a) Temos que<br><br>\n",
    " $$F(\\omega) = \\frac{1}{\\sqrt{2\\pi}}\\int_{-\\infty}^{\\infty} f(x)e^{-i\\omega x} dx = \\frac{1}{\\sqrt{2\\pi}}\\int_{0}^{a} 1 e^{-i\\omega x} dx = \\frac{1}{\\sqrt{2\\pi}}\\left.\\frac{e^{-i\\omega x}}{-i\\omega}\\right|_{0}^{a} =$$<br>\n",
    " $$ = \\frac{1}{-i\\omega\\sqrt{2\\pi}}\\left(e^{-i\\omega a} - e^{-i\\omega \\cdot 0}\\right) =  \\frac{1}{i\\omega\\sqrt{2\\pi}}\\left(1-e^{-i\\omega a}\\right)$$<br>\n",
    " $$F(0) = lim_{\\omega \\rightarrow 0} \\frac{1}{i\\omega\\sqrt{2\\pi}}\\left(1-e^{-i\\omega a}\\right) = lim_{\\omega \\rightarrow 0} \\frac{1}{\\sqrt{2\\pi}}\\frac{\\left(e^{-i\\omega a} - 1\\right)}{-i\\omega} = \\frac{a}{\\sqrt{2\\pi}}$$<br>\n",
    " No Python, considerando $a = 2$, temos:"
   ]
  },
  {
   "cell_type": "code",
   "execution_count": null,
   "id": "e5cb99a2",
   "metadata": {
    "ExecuteTime": {
     "end_time": "2024-11-25T23:58:43.278231Z",
     "start_time": "2024-11-25T23:58:42.967469Z"
    },
    "scrolled": true
   },
   "outputs": [],
   "source": [
    "import sympy as sp\n",
    "\n",
    "# Definindo as variáveis\n",
    "x, omega = sp.symbols('x omega')\n",
    "\n",
    "# Definindo a função f(x) com uma representação simétrica clara\n",
    "f = sp.Piecewise((1, sp.And(0 < x, x < 2)), (0, True))\n",
    "\n",
    "# Fator de normalização\n",
    "norm = 2*sp.pi\n",
    "\n",
    "# Calculando a Transformada de Fourier\n",
    "F_omega = sp.fourier_transform(sp.sqrt(1/norm)*f, x, omega/(norm))\n",
    "\n",
    "F_omega"
   ]
  },
  {
   "cell_type": "markdown",
   "id": "7d260c0d",
   "metadata": {},
   "source": [
    "Note que, para $a = 2$ em $(*)$, temos:\n",
    "\n",
    "$$\\omega \\neq  0 \\Rightarrow F(\\omega) = \\frac{1}{i\\omega\\sqrt{2\\pi}}\\left(1 - e^{-2i\\omega}\\right) = \\frac{\\sqrt{2}i}{\\sqrt{2}i}\\frac{1}{i\\omega\\sqrt{2\\pi}}\\left(1 - e^{-2i\\omega}\\right) = \\frac{\\sqrt{2}i\\left(1 - e^{-2i\\omega}\\right)}{-2\\sqrt{\\pi}\\omega} =$$\n",
    "\n",
    "$$ = \\frac{\\sqrt{2}i\\left(e^{-2i\\omega} - 1\\right)}{2\\sqrt{\\pi}\\omega} = \\frac{\\sqrt{2}i\\left(1 - e^{2i\\omega}\\right)e^{-2i\\omega}}{2\\sqrt{\\pi}\\omega}$$\n",
    "\n",
    "$$\\omega = 0 \\Rightarrow F(\\omega) = \\frac{2}{\\sqrt{2\\pi}} = \\frac{\\sqrt{2}}{\\sqrt{2}}\\frac{2}{\\sqrt{2\\pi}} = \\frac{\\sqrt{2}}{\\sqrt{\\pi}}$$"
   ]
  },
  {
   "cell_type": "markdown",
   "id": "90a3a913",
   "metadata": {},
   "source": [
    "<font color='blue'> b) Temos que<br><br>\n",
    " $$F(\\omega) = \\frac{1}{i\\omega\\sqrt{2\\pi}}\\left(1 - e^{-i\\omega a}\\right) = \\frac{-i}{\\omega\\sqrt{2\\pi}}\\left(1 - (cos(\\omega a) - isen(\\omega a) )\\right) =$$<br>\n",
    " $$ = \\frac{sen(\\omega a)}{\\sqrt{2\\pi}\\omega} + i\\frac{cos(\\omega a) - 1}{\\sqrt{2\\pi}\\omega}, \\ \\omega \\neq 0$$<br>\n",
    " Para $\\omega = 0$, temos <br><br>\n",
    " $$F(\\omega) = lim_{\\omega \\to 0} \\left(\\frac{sen(\\omega a)}{\\omega\\sqrt{2\\pi}} + i\\frac{cos(\\omega a) - 1}{\\omega\\sqrt{2\\pi}}\\right) =$$<br>\n",
    " $$ = lim_{\\omega \\to 0} \\left(\\frac{a}{\\sqrt{2\\pi}}\\frac{sen(\\omega a)}{\\omega a} + i\\frac{a}{\\sqrt{2\\pi}}\\frac{1 -cos(\\omega a)}{\\omega a}\\right) = $$<br>\n",
    " $$ = \\frac{a}{\\sqrt{2\\pi}}\\cdot 1 + \\frac{a}{\\sqrt{2\\pi}} \\cdot 0 = \\frac{a}{\\sqrt{2\\pi}}$$\n",
    " c) Para $a = 2$, temos os seguintes gráficos:<br><br>"
   ]
  },
  {
   "cell_type": "code",
   "execution_count": null,
   "id": "82269865",
   "metadata": {
    "ExecuteTime": {
     "end_time": "2024-11-25T23:58:51.575057Z",
     "start_time": "2024-11-25T23:58:43.279231Z"
    }
   },
   "outputs": [],
   "source": [
    "import matplotlib.pyplot as plt\n",
    "import numpy as np\n",
    "\n",
    "# Preparando os valores para plotagem\n",
    "x_vals = np.linspace(-5, 5, 200)\n",
    "f_vals = [f.subs(x, val).evalf() for val in x_vals]\n",
    "\n",
    "omega_vals = np.linspace(-5, 5, 200)\n",
    "F_real_vals = [sp.re(F_omega.subs(omega, val)).evalf() for val in omega_vals]\n",
    "F_imag_vals = [sp.im(F_omega.subs(omega, val)).evalf() for val in omega_vals]\n",
    "\n",
    "# Plotando a função original f(x)\n",
    "plt.figure(figsize=(10, 3))\n",
    "plt.plot(x_vals, f_vals, color = 'blue')\n",
    "plt.title('Função Retangular')\n",
    "plt.xlabel('x')\n",
    "plt.ylabel('f(x)')\n",
    "plt.grid(True)\n",
    "plt.show()\n",
    "\n",
    "# Criando um subplot para a parte real e imaginária da Transformada de Fourier\n",
    "fig, axes = plt.subplots(1, 2, figsize=(12, 4))\n",
    "\n",
    "# Parte Real\n",
    "axes[0].plot(omega_vals, F_real_vals, color='blue')\n",
    "axes[0].set_title('Parte Real da Transformada de Fourier')\n",
    "axes[0].set_xlabel('Frequência (omega)')\n",
    "axes[0].set_ylabel('Amplitude')\n",
    "axes[0].grid(True)\n",
    "\n",
    "# Parte Imaginária\n",
    "axes[1].plot(omega_vals, F_imag_vals, color='blue')\n",
    "axes[1].set_title('Parte Imaginária da Transformada de Fourier')\n",
    "axes[1].set_xlabel('Frequência (omega)')\n",
    "axes[1].set_ylabel('Amplitude')\n",
    "axes[1].grid(True)\n",
    "\n",
    "plt.tight_layout()\n",
    "plt.show()"
   ]
  },
  {
   "cell_type": "markdown",
   "id": "9f1d700a",
   "metadata": {},
   "source": [
    "#### <font color='red'> Teorema 2 (Funções Pares e Funções Ímpares)</font>"
   ]
  },
  {
   "cell_type": "markdown",
   "id": "1ae5adfb",
   "metadata": {},
   "source": [
    "<font color='red'> (i) Se $f$ é uma função par, então<br><br>\n",
    " $$F(\\omega) = \\sqrt{\\frac{2}{\\pi}}\\int_{0}^{\\infty} f(x)cos(\\omega x) dx \\ \\ e \\ \\ f(x) = \\sqrt{\\frac{2}{\\pi}}\\int_{0}^{\\infty} F(\\omega)cos(\\omega x) d\\omega \\tag{7}$$<br>\n",
    " (ii) Se $f$ é uma função ímpar, então<br><br>\n",
    " $$F(\\omega) = -i\\sqrt{\\frac{2}{\\pi}}\\int_{0}^{\\infty} f(x)sen(\\omega x) dx \\ \\ e \\ \\ f(x) = i\\sqrt{\\frac{2}{\\pi}}\\int_{0}^{\\infty} F(\\omega)sen(\\omega x) d\\omega \\tag{8}$$<br>"
   ]
  },
  {
   "cell_type": "markdown",
   "id": "72a283ce",
   "metadata": {},
   "source": [
    "##### <font color='red'> Demonstração </font>"
   ]
  },
  {
   "cell_type": "markdown",
   "id": "9d39c5ca",
   "metadata": {},
   "source": [
    "<font color='red'> Façamos a demonstração de \"i\".<br><br>\n",
    " (i) Temos que<br><br>\n",
    " $$ F(\\omega) = \\frac{1}{\\sqrt{2\\pi}}\\int_{-\\infty}^{\\infty} f(x)e^{-i\\omega x} dx = \\frac{1}{\\sqrt{2\\pi}}\\int_{-\\infty}^{\\infty} f(x)cos(\\omega x) dx - \\frac{i}{\\sqrt{2\\pi}}\\int_{-\\infty}^{\\infty} f(x)sen(\\omega x) dx$$<br>\n",
    " Se $f(x)$ é par, $f(x)cos(\\omega x)$ é par e $f(x)sen(\\omega x)$ é ímpar. Neste caso,<br><br>\n",
    " $$ F(\\omega) =  \\frac{1}{\\sqrt{2\\pi}}\\int_{-\\infty}^{\\infty} f(x)cos(\\omega x) dx - \\frac{i}{\\sqrt{2\\pi}}\\cdot 0 = \\frac{2}{\\sqrt{2\\pi}}\\int_{0}^{\\infty} f(x)cos(\\omega x) dx = \\sqrt{\\frac{2}{\\pi}}\\int_{0}^{\\infty} f(x)cos(\\omega x) dx$$<br>\n",
    " Por outro lado,<br><br>\n",
    " $$F(-\\omega) = \\sqrt{\\frac{2}{\\pi}}\\int_{0}^{\\infty} f(x)cos(-\\omega x) dx = \\sqrt{\\frac{2}{\\pi}}\\int_{0}^{\\infty} f(x)cos(\\omega x) dx = F(\\omega)$$<br>\n",
    " Assim, $F(\\omega)$ é par. Portanto,<br><br>\n",
    " $$f(x) = \\frac{1}{\\sqrt{2\\pi}}\\int_{-\\infty}^{\\infty} F(\\omega)e^{i\\omega x} d\\omega = \\frac{1}{\\sqrt{2\\pi}}\\int_{-\\infty}^{\\infty} F(\\omega)cos(\\omega x) d\\omega + \\frac{i}{\\sqrt{2\\pi}}\\int_{-\\infty}^{\\infty} F(\\omega)sen(\\omega x) d\\omega$$<br>\n",
    " Se $F(\\omega)$ é par, $F(\\omega)cos(\\omega x)$ é par e $F(\\omega)sen(-\\omega x) = -F(\\omega x)sen(-\\omega x)$ é ímpar. Neste caso,<br><br>\n",
    " $$ f(x) =  \\frac{1}{\\sqrt{2\\pi}}\\int_{-\\infty}^{\\infty} F(\\omega)cos(\\omega x) d\\omega + \\frac{i}{\\sqrt{2\\pi}}\\cdot 0 = \\frac{2}{\\sqrt{2\\pi}}\\int_{0}^{\\infty} F(\\omega)cos(\\omega x) d\\omega = \\sqrt{\\frac{2}{\\pi}}\\int_{0}^{\\infty} F(\\omega)cos(\\omega x) d\\omega$$<br>\n",
    " (ii) Temos que<br><br>\n",
    " $$F(\\omega) = \\frac{1}{\\sqrt{2\\pi}}\\int_{-\\infty}^{\\infty} f(x)e^{-i\\omega x} \\, dx = \\frac{1}{\\sqrt{2\\pi}}\\int_{-\\infty}^{\\infty} f(x)\\cos(\\omega x) \\, dx - \\frac{i}{\\sqrt{2\\pi}}\\int_{-\\infty}^{\\infty} f(x)\\sin(\\omega x) \\ dx$$<br>\n",
    " Se $f(x)$ é ímpar, $f(x)\\cos(\\omega x)$ é ímpar e $f(x)\\sin(\\omega x)$ é par. Neste caso,<br><br>\n",
    " $$F(\\omega) = \\frac{1}{\\sqrt{2\\pi}} \\cdot 0 - \\frac{i}{\\sqrt{2\\pi}}\\int_{-\\infty}^{\\infty} f(x)\\sin(\\omega x) \\, dx = -i \\frac{2}{\\sqrt{2\\pi}}\\int_{0}^{\\infty} f(x)\\sin(\\omega x)  du =$$<br>\n",
    " $$ = -i\\sqrt{\\frac{2}{\\pi}}\\int_{0}^{\\infty} f(x)\\sin(\\omega x)  dx. $$\n",
    " Por outro lado,<br><br>\n",
    " $$F(-\\omega) = -i \\sqrt{\\frac{2}{\\pi}}\\int_{0}^{\\infty} f(x)\\sin(-\\omega x)  dx = i \\sqrt{\\frac{2}{\\pi}}\\int_{0}^{\\infty} f(x)(\\sin(\\omega x))  dx =$$<br>\n",
    " $$ = i \\sqrt{\\frac{2}{\\pi}}\\int_{0}^{\\infty} f(x)\\sin(\\omega x)  du = -F(\\omega)$$<br>\n",
    " Assim, $F(\\omega)$ é ímpar. Portanto,<br><br>\n",
    " $$f(x) = \\frac{1}{\\sqrt{2\\pi}}\\int_{-\\infty}^{\\infty} F(\\omega)e^{i\\omega x}  d\\omega =\\frac{1}{\\sqrt{2\\pi}}\\int_{-\\infty}^{\\infty} F(\\omega)cos(\\omega x) d\\omega + \\frac{i}{\\sqrt{2\\pi}}\\int_{-\\infty}^{\\infty} F(\\omega)sen(\\omega x) d\\omega $$<br>\n",
    " Se $F(\\omega)$ é ímpar, $F(\\omega)\\cos(\\omega x)$ é ímpar e $F(\\omega)\\sin(\\omega x)$ é par. Neste caso,<br><br>\n",
    " $$f(x) = \\frac{i}{\\sqrt{2\\pi}}\\int_{-\\infty}^{\\infty} F(\\omega)\\sin(\\omega x)  d\\omega = i \\sqrt{\\frac{2}{\\pi}}\\int_{0}^{\\infty} F(\\omega)\\sin(\\omega x) \\, d\\omega$$"
   ]
  },
  {
   "cell_type": "markdown",
   "id": "367fd697",
   "metadata": {},
   "source": [
    "#### <font color='blue'> Exemplo 4 </font>"
   ]
  },
  {
   "cell_type": "markdown",
   "id": "2826f9c6",
   "metadata": {},
   "source": [
    "<font color='blue'> Determine a transformada de Fourier de<br><br>\n",
    " $$f(x) = \\left\\{\\begin{array}{}\n",
    " 1-\\frac{x}{2}, & 0\\leq x \\leq 2 \\\\\n",
    " 1 + \\frac{x}{2}, & -2\\leq x \\leq 0\\\\\n",
    " 0, & |x| > 2\n",
    " \\end{array}\\right.$$<br>"
   ]
  },
  {
   "cell_type": "markdown",
   "id": "c6ae78a9",
   "metadata": {},
   "source": [
    "##### <font color='blue'> Solução </font>"
   ]
  },
  {
   "cell_type": "markdown",
   "id": "3a5ae125",
   "metadata": {},
   "source": [
    "<font color='blue'>"
   ]
  },
  {
   "cell_type": "markdown",
   "id": "ab848b3a",
   "metadata": {},
   "source": [
    "<font color='blue'> Note que $f(x)$ é par (facil ver graficamente). De fato,<br><br>\n",
    " i) $x \\in [0,2] \\Rightarrow -x \\in [-2,0]$<br><br>\n",
    " $$f(x) = 1 - \\frac{x}{2} \\ \\ \\ \\text{e} \\ \\ \\ f(-x) = 1 + \\frac{(-x)}{2} = 1 - \\frac{x}{2} \\Rightarrow f(x) = f(-x)$$<br>\n",
    " ii) $x \\in [-2,0] \\Rightarrow -x \\in [0,2]$<br><br>\n",
    " $$f(x) = 1 + \\frac{x}{2} \\ \\ \\ \\text{e} \\ \\ \\ f(-x) = 1 - \\frac{(-x)}{2} = 1 + \\frac{x}{2} \\Rightarrow f(x) = f(-x)$$<br>\n",
    " iii) $x \\in (-\\infty,-2) \\Leftrightarrow x \\in (2,\\infty) \\Rightarrow f(x) = 0 = f(-x)$<br><br>\n",
    " Em todo caso, $f(x) = f(-x)$ donde segue que $f(x)$ é par. Desta forma podemos aplicar o **Teorema 2**:<br><br>\n",
    " $$F(\\omega) = \\sqrt{\\frac{2}{\\pi}}\\int_{0}^{\\infty} f(x)cos(\\omega x) dx = \\sqrt{\\frac{2}{\\pi}}\\int_{0}^{2} \\left(1-\\frac{x}{2}\\right)cos(\\omega x) dx =$$<br>\n",
    " $$ = \\sqrt{\\frac{2}{\\pi}}\\left(\\int_{0}^{2} cos(\\omega x)  - \\frac{x}{2}cos(\\omega x)dx^{[pp]} \\right) =  \\left.-\\sqrt{\\frac{2}{\\pi}}\\frac{cos(\\omega x)}{\\omega^{2}}\\right|_{0}^{2} = $$<br>\n",
    " $$ = -\\sqrt{\\frac{2}{\\pi}}\\frac{1}{2\\omega^{2}}(cos(2\\omega)-1) = \\sqrt{\\frac{2}{\\pi}}\\frac{1-cos(2\\omega)}{2\\omega^{2}}$$<br>\n",
    " Para $\\omega = 0$, temos:<br>\n",
    " $$F(0) = lim_{\\omega \\rightarrow 0} \\sqrt{\\frac{2}{\\pi}}\\frac{1-cos(2\\omega)}{2\\omega^{2}} = lim_{\\omega \\rightarrow 0} \\sqrt{\\frac{2}{\\pi}}\\frac{2sen(2\\omega)}{4\\omega} =$$<br>\n",
    " $$ = \\sqrt{\\frac{2}{\\pi}}lim_{\\omega \\rightarrow 0} \\frac{sen(2\\omega)}{2\\omega}= \\sqrt{\\frac{2}{\\pi}}$$<br>\n",
    " No Python, temos:"
   ]
  },
  {
   "cell_type": "code",
   "execution_count": null,
   "id": "111c8709",
   "metadata": {
    "ExecuteTime": {
     "end_time": "2024-11-25T23:58:52.260596Z",
     "start_time": "2024-11-25T23:58:51.575057Z"
    }
   },
   "outputs": [],
   "source": [
    "import sympy as sp\n",
    "\n",
    "# Definindo as variáveis\n",
    "x, omega = sp.symbols('x omega')\n",
    "\n",
    "# Definindo a função por partes usando Piecewise\n",
    "f = sp.Piecewise(\n",
    "    (1 - x/2, (x >= 0) & (x <= 2)),\n",
    "    (1 + x/2, (x >= -2) & (x < 0)),\n",
    "    (0, True)\n",
    ")\n",
    "\n",
    "# Fator de normalização\n",
    "norm = 2*sp.pi\n",
    "\n",
    "# Calculando a Transformada de Fourier\n",
    "F_omega = sp.fourier_transform(sp.sqrt(1/norm)*f, x, omega/(norm))\n",
    "\n",
    "F_omega"
   ]
  },
  {
   "cell_type": "markdown",
   "id": "c9da08f6",
   "metadata": {},
   "source": [
    "<font color='blue'> Note que<br><br>\n",
    " $$\\frac{\\sqrt{2}(-e^{4i\\omega} + 2e^{2i\\omega} - 1)e^{-2i\\omega}}{4\\sqrt{\\pi}\\omega^{2}} = \\frac{1}{4\\omega^{2}}\\sqrt{\\frac{2}{\\pi}}(-e^{2i\\omega} + 2 -e^{-2i\\omega}) = $$<br>\n",
    " $$ = \\frac{1}{4\\omega^{2}}\\sqrt{\\frac{2}{\\pi}}(-(cos(2\\omega) + isen(2\\omega)) + 2 - (cos(2\\omega)-isen(2\\omega)) = $$<br>\n",
    " $$ = \\frac{1}{4\\omega^{2}}\\sqrt{\\frac{2}{\\pi}}(2 - 2cos(2\\omega)) = \\sqrt{\\frac{2}{\\pi}}\\frac{1-cos(2\\omega)}{2\\omega^{2}}$$<br>\n",
    " O que mostra a equivalência entre as soluções!<br><br>\n",
    " Poderíamos proceder diretamente com o cálculo da integral em termos de cosseno:"
   ]
  },
  {
   "cell_type": "code",
   "execution_count": null,
   "id": "fb686fb1",
   "metadata": {
    "ExecuteTime": {
     "end_time": "2024-11-25T23:58:52.605648Z",
     "start_time": "2024-11-25T23:58:52.262594Z"
    }
   },
   "outputs": [],
   "source": [
    "import sympy as sp\n",
    "\n",
    "# Definindo as variáveis\n",
    "x, omega = sp.symbols('x omega')\n",
    "\n",
    "# Definindo a função a ser integrada\n",
    "f = sp.sqrt(2/sp.pi) * (1 - x/2) * sp.cos(omega * x)\n",
    "\n",
    "# Calculando a integral\n",
    "integral_result = sp.integrate(f, (x, 0, 2))\n",
    "\n",
    "# Exibindo o resultado\n",
    "sp.simplify(integral_result)"
   ]
  },
  {
   "cell_type": "markdown",
   "id": "b941987c",
   "metadata": {},
   "source": [
    "<font color='blue'> Neste caso, basta observar que<br><br>\n",
    " $$sen^{2}(\\omega) = \\frac{1-cos(2\\omega)}{2} \\Rightarrow \\frac{\\sqrt{2}sen^{2}(\\omega)}{\\sqrt{\\pi}\\omega^{2}} = \\frac{\\sqrt{2}}{\\sqrt{\\pi}\\omega^{2}}\\frac{1-cos(2\\omega)}{2} = \\sqrt{\\frac{2}{\\pi}}\\frac{1-cos(2\\omega)}{2\\omega^{2}}$$"
   ]
  },
  {
   "cell_type": "markdown",
   "id": "ecb828bf",
   "metadata": {},
   "source": [
    "#### Transformada de Fourier Inversa"
   ]
  },
  {
   "cell_type": "markdown",
   "id": "367d8c1f",
   "metadata": {},
   "source": [
    "Note que a Transformada de Fourier é uma transformação linear, o que significa que a transformada de uma combinação linear de funções é igual à combinação linear das transformadas dessas funções:\n",
    "\n",
    "<font color='red'> $$\\mathscr{F}[af_{1}(x) + bf_{2}(x)] = a\\mathscr{F}[f_{1}(x)] + b\\mathscr{F}[f_{2}(x)] = aF_{1}(\\omega) + bF_{2}(\\omega). \\tag{9} $$</font>\n",
    "\n",
    "Essa propriedade de linearidade também se aplica à transformada inversa de Fourier, permitindo que possamos recuperar as funções originais de uma combinação linear de suas transformadas:\n",
    "\n",
    "<font color='red'> $$\\mathscr{F}^{-1}[aF_{1}(\\omega) + bF_{2}(\\omega)] = a\\mathscr{F}^{-1}[F_{1}(\\omega)] + b\\mathscr{F}^{-1}[F_{2}(\\omega)] = af_{1}(x) + bf_{2}(x). \\tag{10} $$</font>\n"
   ]
  },
  {
   "cell_type": "markdown",
   "id": "a3df6fb6",
   "metadata": {},
   "source": [
    "##### Tabela de Transformadas (atualizada)"
   ]
  },
  {
   "cell_type": "markdown",
   "id": "e0f37d01",
   "metadata": {},
   "source": [
    "Apresentamos a seguir algumas das transformdas mais utilizadas:\n",
    "\n",
    "$$\\begin{array}{}\n",
    "\\hline\n",
    "f(x) & \\mathscr{F}(f(x)) = F(\\omega)\\\\\n",
    "\\hline\n",
    "1) \\ \\chi_{[0,a)}(x) = \\begin{cases} 1, & 0 \\leq x < a \\\\ 0, & \\text{caso contrário} \\end{cases} & \\frac{1 - e^{-i\\omega a}}{\\sqrt{2\\pi} i\\omega}\\\\\n",
    "2) \\ e^{-a x} \\cdot u(x) = \\begin{cases} e^{-a x}, & x \\geq 0 \\\\ 0, & x < 0 \\end{cases} & \\frac{1}{\\sqrt{2\\pi}}\\frac{1}{(a + i\\omega)}, \\ a>0\\\\\n",
    "3) \\ xe^{-ax}u(x) & \\frac{1}{\\sqrt{2\\pi}} \\frac{1}{(a+i\\omega)^{2}} \\\\\n",
    "4) \\ x^{n}e^{-ax}u(x) & \\frac{1}{\\sqrt{2\\pi}} \\frac{n!}{(a+i\\omega)^{n+1}} \\\\\n",
    "5) \\ \\frac{1}{x^2 + a^2} & \\frac{\\sqrt{2\\pi}}{2a} e^{-a|\\omega|}\\\\\n",
    "6) \\ e^{-ax^2}, a > 0 & \\frac{1}{\\sqrt{2a}} e^{-\\frac{\\omega^2}{4a}}\\\\\n",
    "7) \\ f(ax), a \\neq 0 & \\frac{1}{|a|} F\\left(\\frac{\\omega}{a}\\right)\\\\\n",
    "8) \\ x f(x) & i \\frac{dF}{d\\omega}(\\omega) \\\\\n",
    "9) \\ f'(x) & i \\omega F(\\omega) \\\\\n",
    "10) \\ \\int_{0}^x f(y) \\, dy & \\frac{F(\\omega)}{i\\omega}\\\\\n",
    "11) \\ f(x-a) & e^{-i\\omega a} F(\\omega)\\\\\n",
    "12) \\ e^{iax} f(x) & F(\\omega - a)\\\\\n",
    "13) \\ F(x) & F(-\\omega)\\\\\n",
    "14) \\ (f * g)(x) = \\int_{-\\infty}^\\infty f(y)g(x-y) \\, dy & \\sqrt{2\\pi} F(\\omega) G(\\omega)\\\\\n",
    "\\hline\n",
    "\\end{array}$$"
   ]
  },
  {
   "cell_type": "markdown",
   "id": "c43aef03",
   "metadata": {},
   "source": [
    "#### <font color='blue'> Exemplo 5 </font>"
   ]
  },
  {
   "cell_type": "markdown",
   "id": "d63ba579",
   "metadata": {},
   "source": [
    "<font color='blue'> Determine a função cuja transformada de Fourier é $F(\\omega) = \\frac{2}{1+i\\omega}$."
   ]
  },
  {
   "cell_type": "markdown",
   "id": "f80c9b99",
   "metadata": {},
   "source": [
    "##### <font color='blue'> Solução </font>"
   ]
  },
  {
   "cell_type": "markdown",
   "id": "39df11e7",
   "metadata": {},
   "source": [
    "<font color='blue'> Temos que<br><br>\n",
    " $$f(x) = \\mathscr{F^{-1}}[F(\\omega)] = \\mathscr{F^{-1}}\\left[\\frac{2}{1 + i\\omega}\\right] = 2\\mathscr{F^{-1}}\\left[\\frac{1}{1 + i\\omega}\\right] = 2\\mathscr{F^{-1}}\\left[\\frac{\\sqrt{2\\pi}}{\\sqrt{2\\pi}}\\frac{1}{1 + i\\omega}\\right] = $$<br>\n",
    " $$=  2\\sqrt{2\\pi}\\mathscr{F^{-1}}\\left[\\frac{1}{\\sqrt{2\\pi}}\\frac{1}{1 + i\\omega}\\right]= 2e^{-x}u(x) = \\left\\{\\begin{array}{}\n",
    " 2\\sqrt{2\\pi}e^{-x}, & x \\geq 0 \\\\\n",
    " 0, & x < 0 \\\\\n",
    " \\end{array}\\right. $$<br>"
   ]
  },
  {
   "cell_type": "markdown",
   "id": "23465968",
   "metadata": {},
   "source": [
    "#### <font color='blue'> Exemplo 6 </font>"
   ]
  },
  {
   "cell_type": "markdown",
   "id": "6a653f47",
   "metadata": {},
   "source": [
    "<font color='blue'> Determine as funções cujas transformadas de Fourier são dadas a seguir:<br><br>\n",
    " a) $F(\\omega) = \\frac{1}{3 + i\\omega} - \\frac{3}{2 + i\\omega}$<br><br>\n",
    " b) $G(\\omega) = \\frac{1}{1+i+i\\omega}$<br><br>\n",
    " c) $H(\\omega) = \\frac{1}{(1 + i\\omega)(3 + i\\omega)}$<br><br>\n",
    " d) $K(\\omega) = \\frac{1}{(2+i\\omega)^{2}}$"
   ]
  },
  {
   "cell_type": "markdown",
   "id": "b66616f2",
   "metadata": {},
   "source": [
    "##### <font color='blue'> Solução </font>"
   ]
  },
  {
   "cell_type": "markdown",
   "id": "e53018a3",
   "metadata": {},
   "source": [
    "<font color='blue'> a) Temos que<br><br>\n",
    " $$f(x) = \\mathscr{F^{-1}}[F(\\omega)] = \\mathscr{F^{-1}}\\left[\\frac{1}{3 + i\\omega} - \\frac{3}{2 + i\\omega}\\right] = \\mathscr{F^{-1}}\\left[\\frac{1}{3 + i\\omega}\\right] - \\mathscr{F^{-1}}\\left[\\frac{3}{2 + i\\omega}\\right] = $$<br>\n",
    " $$\\sqrt{2\\pi}\\mathscr{F^{-1}}\\left[\\frac{1}{\\sqrt{2\\pi}}\\frac{1}{3 + i\\omega}\\right] - 3\\sqrt{2\\pi}\\mathscr{F^{-1}}\\left[\\frac{1}{\\sqrt{2\\pi}}\\frac{1}{2 + i\\omega}\\right] = \\sqrt{2\\pi}e^{-3x}u(x) - 3\\sqrt{2\\pi}e^{-2x}u(x) = $$<br><br>\n",
    " $$ = \\sqrt{2\\pi}(e^{-3x} - 3e^{-2x})u(x) = \\left\\{\\begin{array}{}\n",
    " \\sqrt{2\\pi}(e^{-3x} - 3e^{-2x}), & x \\geq 0 \\\\\n",
    " 0, & x < 0 \\\\\n",
    " \\end{array}\\right. $$<br>\n",
    " b) Temos que<br><br>\n",
    " $$\\frac{1}{1 + i + i\\omega} = \\frac{1}{A + i\\omega}, \\ \\ A = 1 + i$$<br>\n",
    " Assim, <br><br>\n",
    " $$g(x) = \\mathscr{F^{-1}}\\left[\\frac{1}{A + i\\omega}\\right] = \\frac{\\sqrt{2\\pi}}{\\sqrt{2\\pi}}\\mathscr{F^{-1}}\\left[\\frac{1}{A + i\\omega}\\right] =  \\sqrt{2\\pi}\\mathscr{F^{-1}}\\left[\\frac{1}{{\\sqrt{2\\pi}}}\\frac{1}{A + i\\omega}\\right] =$$<br>\n",
    " $$ = \\sqrt{2\\pi}  e^{-Ax}u(x) = \\sqrt{2\\pi}e^{-(1+i)x}u(x) = \\left\\{\\begin{array}{}\n",
    " \\sqrt{2\\pi}e^{-(1+i)x}, & x \\geq 0 \\\\\n",
    " 0, & \\text{caso contrário}\\\\\n",
    " \\end{array} \\right.$$<br>\n",
    " c) Para simplificar a transformada inversa, expandimos a expressão:<br><br>\n",
    " $$\\frac{1}{(1 + i\\omega)(3 + i\\omega)} = \\frac{A}{1 + i\\omega} + \\frac{B}{3 + i\\omega}$$<br>\n",
    " Resolvendo para $A$ e $B$ ao igualar os denominadores:<br><br>\n",
    " $$1 = A(3 + i\\omega) + B(1 + i\\omega) = (3A + B) + (A + B)i\\omega \\Rightarrow 3A + B = 1 \\ \\text{e} \\ A + B = 0 \\Rightarrow A = \\frac{1}{2} \\ \\text{e} \\ B = -\\frac{1}{2}$$<br>\n",
    " A expressão simplificada para a convolução no domínio do tempo é:<br><br>\n",
    " $$h(x) = \\mathscr{F}^{-1}\\left[\\frac{1/2}{1 + i\\omega} - \\frac{1/2}{3 + i\\omega}\\right] = \\frac{1}{2}\\sqrt{2\\pi}\\mathscr{F}^{-1}\\left[\\frac{1}{\\sqrt{2\\pi}}\\frac{1}{1 + i\\omega}\\right] - \\frac{1}{2}\\sqrt{2\\pi}\\mathscr{F}^{-1}\\left[\\frac{1}{\\sqrt{2\\pi}}\\frac{1}{3 + i\\omega}\\right] = $$<br>\n",
    " $$ = \\frac{\\sqrt{2\\pi}}{2}e^{-x}u(x) - \\frac{\\sqrt{2\\pi}}{2}e^{-3x}u(x) = \\frac{\\sqrt{2\\pi}}{2}(e^{-x}-e^{-3x})u(x) =  \\left\\{\\begin{array}{}\n",
    " \\frac{\\sqrt{2\\pi}}{2}(e^{-x} - e^{-3x}), & x \\geq 0 \\\\\n",
    " 0, & \\text{caso contrário}\\\\\n",
    " \\end{array} \\right.$$<br>\n",
    " d) Note que<br><br>\n",
    " $$i \\frac{dK_{1}}{d\\omega}(\\omega) = i \\frac{d}{d\\omega} \\left( \\frac{1}{2 + i\\omega} \\right) = i \\left(-\\frac{i}{(2 + i\\omega)^2}\\right) = \\frac{1}{(2 + i\\omega)^2}$$<br>\n",
    " Por outro lado,<br><br>\n",
    " $$K_{1}(\\omega) = \\frac{1}{2 + i\\omega} = \\frac{\\sqrt{2\\pi}}{\\sqrt{2\\pi}} \\frac{1}{2 + i\\omega} = \\sqrt{2\\pi} \\frac{1}{\\sqrt{2\\pi}} \\frac{1}{2 + i\\omega}$$<br>\n",
    " é tal que<br><br>\n",
    " $$k_{1}(x) = \\mathscr{F}^{-1}\\left[\\frac{1}{2 + i\\omega}\\right] = \\sqrt{2\\pi} \\mathscr{F}^{-1}\\left[\\frac{1}{\\sqrt{2\\pi}}\\frac{1}{2 + i\\omega}\\right] = \\sqrt{2\\pi}e^{-2x}u(x)$$<br>\n",
    " Assim,<br><br>\n",
    " $$k(x) = \\mathscr{F}^{-1}\\left(\\frac{1}{(2 + i\\omega)^2}\\right) = \\mathscr{F}^{-1}\\left(i\\frac{dK_{1}}{d\\omega}(\\omega)\\right) = xk_{1}(x) = x\\sqrt{2\\pi}e^{-2x}u(x)$$<br>\n",
    " pode ser expresso como<br><br>\n",
    " $$k(x) = \\begin{cases}\n",
    "\\sqrt{2\\pi} x e^{-2x}, & \\text{se } x \\geq 0 \\\\\n",
    "0, & \\text{caso contrário}\n",
    "\\end{cases}$$"
   ]
  },
  {
   "cell_type": "markdown",
   "id": "e2d7d9e0",
   "metadata": {},
   "source": [
    "#### <font color='blue'> Exemplo 7 </font>"
   ]
  },
  {
   "cell_type": "markdown",
   "id": "22c149e3",
   "metadata": {},
   "source": [
    "<font color='blue'> Obtenha $f(x)$ ao resolver a equação integral<br><br>\n",
    " $$\\int_{0}^{\\infty} f(x)cos(\\omega x) dx = \\left\\{\\begin{array}{}\n",
    " 1 - \\omega, & 0 \\leq \\omega \\leq 1 \\\\\n",
    " 0, & \\text{do contrário} \\\\\n",
    " \\end{array}\\right.$$"
   ]
  },
  {
   "cell_type": "markdown",
   "id": "687d7c25",
   "metadata": {},
   "source": [
    "##### <font color='blue'> Solução </font>"
   ]
  },
  {
   "cell_type": "markdown",
   "id": "70df726e",
   "metadata": {},
   "source": [
    "<font color='blue'> Seja<br><br>\n",
    " $$F(\\omega) = \\left\\{\\begin{array}{}\n",
    " \\sqrt{\\frac{2}{\\pi}}(1 - \\omega), & 0 \\leq \\omega \\leq 1 \\\\\n",
    " 0, & \\text{do contrário} \\\\\n",
    " \\end{array}\\right.$$<br>\n",
    " em que $F(\\omega)$ é uma transformada cosseno de $f(x)$, isto é:<br><br>\n",
    " $$F(\\omega) = \\sqrt{\\frac{2}{\\pi}}\\int_{0}^{\\infty}f(x)cos(\\omega x) dx$$<br>\n",
    " temos:\n",
    " $$f(x) = \\mathscr{F}^{-1}[F(\\omega)] = \\sqrt{\\frac{2}{\\pi}}\\int_{0}^{\\infty}F(\\omega) cos(\\omega x) d\\omega = \\sqrt{\\frac{2}{\\pi}} \\int_{0}^{1}\\sqrt{\\frac{2}{\\pi}}(1-\\omega)cos(\\omega x) d\\omega =$$<br>\n",
    " $$ = \\frac{2}{\\pi}\\int_{0}^{1}(1-\\omega)cos(\\omega x) d\\omega =^{[pp]} \\frac{2}{\\pi}\\left.\\left(\\frac{(1-\\omega)sen(\\omega x)}{x} - \\frac{cos(\\omega x)}{x^{2}} \\right)\\right|_{0}^{1} = $$<br>\n",
    " $$ = \\frac{2}{\\pi}\\left(\\left(\\frac{(1-1)sen(1\\cdot x)}{x} - \\frac{cos(1\\cdot x)}{x^{2}} \\right) - \\left(\\frac{(1-0)sen(0\\cdot x)}{x} - \\frac{cos(0 \\cdot x)}{x^{2}}\\right) \\right) = $$<br>\n",
    " $$ = \\frac{2}{\\pi}\\left(-\\frac{cos(x)}{x^{2}} + \\frac{cos(0)}{x^{2}} \\right) = \\frac{2}{\\pi}\\frac{(1-cos(x))}{x^{2}} $$<br>\n",
    " Para $x = 0$, temos:<br><br>\n",
    " $$f(0) = lim_{x \\to 0} \\frac{2}{\\pi}\\frac{1-cos(x)}{x^{2}} = lim_{x \\to 0} \\frac{2}{\\pi}\\frac{sen(x)}{2x^{2}} = \\frac{2}{\\pi}\\frac{1}{2} = \\frac{1}{\\pi}$$"
   ]
  },
  {
   "cell_type": "markdown",
   "id": "2f4117ce",
   "metadata": {},
   "source": [
    "#### <font color='blue'> Exemplo 8 </font>"
   ]
  },
  {
   "cell_type": "markdown",
   "id": "e5050f17",
   "metadata": {},
   "source": [
    "<font color='blue'> Use o **Exemplo 7** para mostrar que<br><br>\n",
    " $$\\int_{0}^{\\infty} \\frac{sen^{2}(x)}{x^{2}} dx = \\frac{\\pi}{2}.$$"
   ]
  },
  {
   "cell_type": "markdown",
   "id": "970059b6",
   "metadata": {},
   "source": [
    "##### <font color='blue'> Solução:"
   ]
  },
  {
   "cell_type": "markdown",
   "id": "a0095f67",
   "metadata": {},
   "source": [
    "<font color='blue'> Pelo **Exemplo 7**, temos que<br><br>\n",
    " $$\\int_{0}^{\\infty} \\frac{2}{\\pi}\\frac{1-cos(x)}{x^{2}} cos(\\omega x) dx = \\left\\{\\begin{array}{}\n",
    " 1 - \\omega, & 0 \\leq \\omega \\leq 1 \\\\\n",
    " 0, & \\text{do contrário} \\\\\n",
    " \\end{array}\\right.\\tag{*}$$<br>\n",
    " Tomando $lim_{\\omega \\to 0^{+}}$ nos dois membros de $(*)$, temos:<br><br>\n",
    " $$\\int_{0}^{\\infty} \\frac{2}{\\pi}\\frac{1-cos(x)}{x^{2}} cos(0 \\cdot x) dx = 1 \\Rightarrow \\int_{0}^{\\infty} \\frac{1-cos(x)}{x^{2}}dx = \\frac{\\pi}{2}$$<br>\n",
    " Por outro lado, <br><br>\n",
    " $$sen^{2}(a) = \\frac{1 - cos(2a)}{2} \\rightarrow 1-cos(2a) = 2sen^{2}(a)$$<br>\n",
    " Fazendo $x = 2u$, temos:<br><br>\n",
    " $$x = 2u \\Rightarrow dx = 2du \\Rightarrow \\frac{\\pi}{2} = \\int_{0}^{\\infty} \\frac{1-cos(2u)}{(2u)^{2}}2du = \\int_{0}^{\\infty} \\frac{2sen^{2}(u)}{4u^{2}}2du = \\int_{0}^{\\infty} \\frac{sen^{2}(u)}{u^{2}}du$$"
   ]
  },
  {
   "cell_type": "markdown",
   "id": "9d5cdede",
   "metadata": {},
   "source": [
    "# <div style=\"margin-top: -20px;\">\n",
    "<hr style=\"border: 2px solid black;\">\n",
    "\n",
    "<font color='black'><span style=\"font-size: 22px;\"><strong>4.3 Identidades de Parseval Para as Integrais de Fourier</strong></span></font>\n",
    "\n",
    "<hr style=\"border: 2px solid black;\">\n",
    "</div>"
   ]
  },
  {
   "cell_type": "markdown",
   "id": "713e9677",
   "metadata": {},
   "source": [
    "#### Identidades de Parseval"
   ]
  },
  {
   "cell_type": "markdown",
   "id": "ed82903f",
   "metadata": {},
   "source": [
    "Se $F_{s}(\\omega)$ e $G_{s}(\\omega)$ são as transformdas seno de Fourier de $f(x)$ e $g(x)$, respectivamente, então\n",
    "\n",
    "<font color='red'>$$\\int_{-\\infty}^{\\infty}F_{s}(\\omega)G_{s}(\\omega)d\\omega = \\int_{-\\infty}^{\\infty}f(x)g(x)dx \\tag{11}$$</font>\n",
    "\n",
    "Analogamente, se $F_{c}(\\omega)$ e $G_{c}(\\omega)$ são as transformdas cosseno de Fourier de $f(x)$ e $g(x)$, respectivamente, então\n",
    "\n",
    "<font color='red'>$$\\int_{-\\infty}^{\\infty}F_{c}(\\omega)G_{c}(\\omega)d\\omega = \\int_{-\\infty}^{\\infty}f(x)g(x)dx \\tag{12}$$</font>\n",
    "\n",
    "Para o caso em que $f(x) = g(x)$, temos as identidades de Parseval:\n",
    "\n",
    "<font color='red'>$$\\int_{-\\infty}^{\\infty}(F_{s}(\\omega))^{2}d\\omega = \\int_{-\\infty}^{\\infty}(f(x))^{2}dx \\ \\ \\ \\text{e} \\ \\ \\ \\int_{-\\infty}^{\\infty}(F_{c}(\\omega))^{2}d\\omega = \\int_{-\\infty}^{\\infty}(f(x))^{2}dx \\tag{13}$$</font>\n",
    "\n",
    "Além disso, pode-se mostar que:\n",
    "\n",
    "<font color='red'>$$\\int_{-\\infty}^{\\infty} F(\\omega)\\overline{G(\\omega)} d\\omega = \\int_{-\\infty}^{\\infty} f(x)\\overline{g(x)} dx \\tag{14}$$</font>\n",
    "\n",
    "em que a barra superior $^{-}$ representa a função imaginária conjugada obtida pela troca de sinal da parte imaginária."
   ]
  },
  {
   "cell_type": "markdown",
   "id": "abd70425",
   "metadata": {},
   "source": [
    "#### <font color='blue'> Exemplo 9 </font>"
   ]
  },
  {
   "cell_type": "markdown",
   "id": "4c2e331e",
   "metadata": {},
   "source": [
    "<font color='blue'> Use a identidade de Parseval<br><br>\n",
    " $$\\int_{-\\infty}^{\\infty}(F_{s}(\\omega))^{2}d\\omega = \\int_{-\\infty}^{\\infty}(f(x))^{2}dx$$<br>\n",
    " para calcular<br><br>\n",
    " $$ \\int_{-\\infty}^{\\infty} \\frac{sen^{2}(\\omega a)}{\\omega^{2}} d\\omega $$<br>\n",
    " em que as funções<br><br>\n",
    " $$f(x) = \\left\\{\\begin{array}{}\n",
    " 1, & |x| < a\\\\\n",
    " 0, & |x| > a\\end{array}\\right., \\ \\ \\text{e} \\ \\ F_{s}(\\omega) = \\sqrt{\\frac{2}{\\pi}}\\frac{sen(\\omega a)}{\\omega}$$<br>\n",
    " são as transformadas uma da outra conforme o **Exemplo 2**.\n",
    " "
   ]
  },
  {
   "cell_type": "markdown",
   "id": "e778c1a3",
   "metadata": {},
   "source": [
    "##### <font color='blue'> Solução </font>"
   ]
  },
  {
   "cell_type": "markdown",
   "id": "b6a36231",
   "metadata": {},
   "source": [
    "<font color='blue'> Temos que<br><br>\n",
    " $$\\int_{-\\infty}^{\\infty} (F_{s}(\\omega))^{2} d\\omega = \\int_{-\\infty}^{\\infty} (f(x))^{2} dx \\Rightarrow \\int_{-\\infty}^{\\infty} \\left(\\sqrt{\\frac{2}{\\pi}}\\frac{sen(\\omega a)}{\\omega} \\right)^{2} d\\omega = \\int_{-a}^{a} (1)^{2} dx \\Rightarrow $$<br>\n",
    " $$\\Rightarrow \\int_{-\\infty}^{\\infty} \\frac{2}{\\pi}\\frac{sen^{2}(\\omega a)}{\\omega^{2}} d\\omega = \\left.x\\right|_{-a}^{a} \\Rightarrow \\int_{-\\infty}^{\\infty} \\frac{sen^{2}(\\omega a)}{\\omega^{2}} d\\omega = \\frac{\\pi}{2}(a - (-a)) = \\frac{\\pi}{2}\\cdot2a = \\pi a.$$<br>\n",
    " No Python:"
   ]
  },
  {
   "cell_type": "code",
   "execution_count": null,
   "id": "c540776e",
   "metadata": {
    "ExecuteTime": {
     "end_time": "2024-11-25T23:58:52.985816Z",
     "start_time": "2024-11-25T23:58:52.605648Z"
    }
   },
   "outputs": [],
   "source": [
    "import sympy as sp\n",
    "\n",
    "# Definir as variáveis\n",
    "omega, a = sp.symbols('omega a', positive=True, real=True)\n",
    "\n",
    "# Definir a expressão da integral\n",
    "integral = sp.integrate((sp.sin(omega * a)**2) / (omega**2), (omega, -sp.oo, sp.oo))\n",
    "\n",
    "# Exibir o resultado\n",
    "integral"
   ]
  },
  {
   "cell_type": "markdown",
   "id": "4c9254d4",
   "metadata": {},
   "source": [
    "# <div style=\"margin-top: -20px;\">\n",
    "<hr style=\"border: 2px solid black;\">\n",
    "\n",
    "<font color='black'><span style=\"font-size: 22px;\"><strong>4.4 Teorema da Convolução</strong></span></font>\n",
    "\n",
    "<hr style=\"border: 2px solid black;\">\n",
    "</div>"
   ]
  },
  {
   "cell_type": "markdown",
   "id": "d86f3ce1",
   "metadata": {},
   "source": [
    "A convolução é uma operação matemática fundamental que descreve como um sinal é modificado por um sistema, interpretando-se como o \"espalhamento\" de uma função pela outra. No contexto das transformadas de Fourier, ela simplifica significativamente os cálculos ao converter a convolução no domínio do tempo em uma multiplicação no domínio da frequência, conforme expresso pelo Teorema da Convolução. Essa propriedade é crucial para análise de sistemas, filtragem de sinais, e outras aplicações em engenharia e processamento de sinais, permitindo manipulações eficientes e insights sobre o comportamento dos sinais em termos de frequência."
   ]
  },
  {
   "cell_type": "markdown",
   "id": "defb143f",
   "metadata": {},
   "source": [
    "#### Convolução de  Funções"
   ]
  },
  {
   "cell_type": "markdown",
   "id": "90efd09d",
   "metadata": {},
   "source": [
    "<font color='red'> A convolução de duas funções $f: \\mathbb{R} \\rightarrow \\mathbb{R}$ e $g: \\mathbb{R} \\rightarrow \\mathbb{R}$, seccionalmente contínuas, limitadas e tais que $\\int_{-\\infty}^{\\infty} |f(x)|dx < \\infty$ e $\\int_{-\\infty}^{\\infty} |g(x)|dx < \\infty$, é definida por<br><br>\n",
    " $$(f*g)(x) = \\int_{-\\infty}^{\\infty} f(u)g(x - u) du \\tag{15}$$</font>"
   ]
  },
  {
   "cell_type": "markdown",
   "id": "2caefe8a",
   "metadata": {},
   "source": [
    "#### <font color='blue'> Exemplo 10</font>"
   ]
  },
  {
   "cell_type": "markdown",
   "id": "ea69ef04",
   "metadata": {},
   "source": [
    "<font color='blue'> Determine a convolução $(f*f)(x)$ em que<br><br>\n",
    " $$f(x) = \\left\\{ \\begin{array}{}\n",
    " 1, & 0 \\leq x \\leq 1 \\\\\n",
    " 0, & \\text{do contrário}\n",
    " \\end{array}\\right.$$"
   ]
  },
  {
   "cell_type": "markdown",
   "id": "62806ef4",
   "metadata": {},
   "source": [
    "##### <font color='blue'> Solução </font> "
   ]
  },
  {
   "cell_type": "markdown",
   "id": "36af1847",
   "metadata": {},
   "source": [
    "<font color='blue'> Primeiro precisamos escolher os limites de integração. Temos que<br><br>\n",
    " i) $f(x) = 1$ se $0 \\leq x \\leq 1$ (contribuição somente neste intervalo)<br><br>\n",
    " ii) $f(x-u) = 1$ se $0\\leq x - u \\leq 1$ (contribuição somente neste intervalo)<br><br>\n",
    " Neste último caso, temos:<br><br>\n",
    " $$0 \\leq x - u \\leq 1 \\Rightarrow -1 \\leq u - x \\leq 0 \\Rightarrow x-1 \\leq u \\leq x$$<br>\n",
    " Para que $f(u)$ e $f(x-u)$ sejam $1$, temos que $u$ deve pertencer a $[0,1]$. Assim, os limites efetivos são<br><br>\n",
    " $$Max(0,x-1) \\leq u \\leq Min(1,x)$$<br>\n",
    " Pois bem, vejamos cada intervalo:<br><br>\n",
    " $\\bullet$ Quando $x < 0$ ou $x > 2$ temos que <br><br>\n",
    " $$(f*f)(x) = 0;$$<br>\n",
    " $\\bullet$ Quando $0 \\leq x \\leq 1$, o intervalo de $u$ que satisfaz ambas condições é de $0$ a $x$. Portanto,<br><br>\n",
    " $$(f*f)(x) = \\int_{0}^{x} 1 du = x;$$<br>\n",
    " $\\bullet$ Quando $1 < x \\leq 2$, o intervalo de $u$ que satisfaz ambas condições é de $x-1$ a $1$. Portanto,<br><br>\n",
    " $$(f*f)(x) = \\int_{x-1}^{1} 1 du = 2-x;$$<br>\n",
    " Temos, em fim,<br><br>\n",
    " $$(f*f)(x) = \\left\\{\\begin{array}{}\n",
    " x & 0 \\leq x \\leq 1 \\\\\n",
    " 2-x & 1 < x \\leq 2  \\\\\n",
    " 0 & \\text{caso contrário} \\\\\n",
    " \\end{array}\\right.$$   "
   ]
  },
  {
   "cell_type": "code",
   "execution_count": null,
   "id": "7dbf9d63",
   "metadata": {
    "ExecuteTime": {
     "end_time": "2024-11-25T23:58:53.300157Z",
     "start_time": "2024-11-25T23:58:52.985816Z"
    }
   },
   "outputs": [],
   "source": [
    "import numpy as np\n",
    "import matplotlib.pyplot as plt\n",
    "\n",
    "# Define o domínio\n",
    "x = np.linspace(-2, 4, 2000)  # Extende o domínio para cobrir a largura combinada das duas funções\n",
    "\n",
    "# Determina o passo entre cada ponto\n",
    "dx = x[1] - x[0]\n",
    "\n",
    "# Define a função f(x)\n",
    "f = np.where((x >= 0) & (x <= 1), 1, 0)\n",
    "\n",
    "# Calcula a convolução de f com f\n",
    "convolution = np.convolve(f, f, mode='full') * dx  # 'full' dá a convolução completa\n",
    "convolution_x = np.linspace(x[0] + x[0], x[-1] + x[-1], len(convolution))  # Ajusta o domínio para a convolução\n",
    "\n",
    "# Plotando o resultado\n",
    "plt.figure(figsize=(10, 5))\n",
    "plt.plot(convolution_x, convolution, label='Convolução $f * f$')\n",
    "plt.title('Autoconvolução de $f$')\n",
    "plt.xlabel('$x$')\n",
    "plt.ylabel('$(f * f)(x)$')\n",
    "plt.grid(True)\n",
    "plt.legend()\n",
    "plt.show()\n"
   ]
  },
  {
   "cell_type": "code",
   "execution_count": null,
   "id": "d6e70563",
   "metadata": {
    "ExecuteTime": {
     "end_time": "2024-11-25T23:58:54.750593Z",
     "start_time": "2024-11-25T23:58:53.300157Z"
    },
    "scrolled": false
   },
   "outputs": [],
   "source": [
    "import numpy as np\n",
    "import matplotlib.pyplot as plt\n",
    "\n",
    "# Definição da função original e suas transformações\n",
    "def f(x):\n",
    "    \"\"\" Define a função f(x) que é 1 em [0, 1] e 0 fora deste intervalo. \"\"\"\n",
    "    return (x >= 0) & (x <= 1)\n",
    "\n",
    "# Valores de x para o gráfico geral e para os pontos específicos\n",
    "x_specific = [-0.5, 0, 0.5, 1, 1.5, 2, 3]  # Pontos específicos de interesse\n",
    "x_general = np.linspace(-1, 3, 400)  # Gama de x para desenho da função\n",
    "\n",
    "# Criando uma figura para cada valor de x específico\n",
    "for x in x_specific:\n",
    "    plt.figure(figsize=(6, 4))\n",
    "    plt.plot(x_general, f(x_general), label='$f(x)$', drawstyle='steps-post', color='black')\n",
    "\n",
    "    # Definindo os limites de integração baseados em x\n",
    "    u_min = max(0, x-1)\n",
    "    u_max = min(1, x)\n",
    "    u_range = np.linspace(u_min, u_max, 100)\n",
    "    \n",
    "    # Área de sobreposição\n",
    "    overlap_area = max(0, u_max - u_min)\n",
    "    \n",
    "    # Desenhando a área de sobreposição\n",
    "    if overlap_area > 0:\n",
    "        plt.fill_between(u_range, 0, 1, color='red', alpha=0.5, label=f'Área = {overlap_area:.2f}')\n",
    "    else:\n",
    "        plt.text(x - 0.5, 0.5, 'Área = 0.00', fontsize=12, color='red')\n",
    "\n",
    "    # Marcando a linha vertical no ponto x\n",
    "    plt.axvline(x, color='gray', linestyle='--', label=f'x = {x}')\n",
    "    \n",
    "    # Configurações do gráfico\n",
    "    plt.ylim(0, 1.5)\n",
    "    plt.xlim(-1, 3)\n",
    "    plt.xlabel('x')\n",
    "    plt.ylabel('f(x) e f(x-u)')\n",
    "    plt.title(f'Sobreposição e Área em x = {x}')\n",
    "    plt.legend()\n",
    "    plt.grid(True)\n",
    "    plt.show()\n"
   ]
  },
  {
   "cell_type": "markdown",
   "id": "742cabb9",
   "metadata": {},
   "source": [
    "#### <font color='blue'> Exemplo 11 </font>"
   ]
  },
  {
   "cell_type": "markdown",
   "id": "f75af020",
   "metadata": {},
   "source": [
    "<font color='blue'> <font color='blue'> Determine a convolução das funções $f$ e $g$ dadas por:<br><br>\n",
    " $$f(x) = \\left\\{ \\begin{array}{}\n",
    " 1, & -1 \\leq x \\leq 1 \\\\\n",
    " 0, & \\text{caso contrário}\n",
    " \\end{array}\\right. \\ \\ \\text{e} \\ \\ g(x) = \\left\\{ \\begin{array}{}\n",
    " e^{-x}, & x \\geq 0 \\\\\n",
    " 0, & x < 0 \\\\\n",
    " \\end{array}\\right..$$"
   ]
  },
  {
   "cell_type": "markdown",
   "id": "e8b1ef55",
   "metadata": {},
   "source": [
    "##### <font color='blue'> Solução </font>"
   ]
  },
  {
   "cell_type": "markdown",
   "id": "759d9c9a",
   "metadata": {},
   "source": [
    "<font color='blue'> Primeiro precisamos escolher os limites de integração. Temos que:<br><br>\n",
    " i) $f(x) = 1$ se $-1 \\leq x \\leq 1$<br><br>\n",
    " ii) $g(x-u) = e^{-(x-u)}$ se $0 \\leq x - u < \\infty$<br><br>\n",
    " Neste último caso, temos:<br><br>\n",
    " $$0 \\leq x - u < \\infty\\Rightarrow u \\leq x \\Rightarrow -\\infty \\leq u \\leq x$$<br>\n",
    " Para que $f(u)g(x-u)$ seja $1\\cdot e^{-(x-u)}$ temos que $u$ deve pertencer a $[-1,1] \\cap [0,\\infty)$. Assim, os limites efetivos são:<br><br>\n",
    " $$Max(-\\infty,-1) \\leq u \\leq Min(1,x)$$<br>\n",
    " Pois bem, vejamos cada intervalo:<br><br>\n",
    " $\\bullet$ Quando $x \\leq -1$ temos que $(f*g)(x) = 0$.<br><br>\n",
    " $\\bullet$ Quando $-1 \\leq x \\leq 1$, o intervalo de $u$ que satisfaz ambas condições é de $-1$ a $x$. Portanto,<br><br>\n",
    " $$(f*g)(x) = \\int_{-1}^{x} 1\\cdot e^{-(x-u)} du = \\int_{-1}^{x} 1\\cdot e^{u-x} du =$$<br>\n",
    " $$ = \\left.e^{u-x}\\right|_{-1}^{x} = e^{x-x} - e^{-1-x} = 1-e^{-1-x} = e^{-x}(e^{x}-e^{-1});$$<br>\n",
    " $\\bullet$ Quando $x > 1$, o intervalo de $u$ que satisfaz ambas condições é de $-1$ a $1$. Portanto,<br><br>\n",
    " $$(f*g)(x) = \\int_{-1}^{1} 1\\cdot e^{-(x-u)} du = \\int_{-1}^{1} 1\\cdot e^{u-x} du =$$<br>\n",
    " $$ = \\left.e^{u-x}\\right|_{-1}^{1} = e^{1-x} - e^{-1-x} = e^{-x}(e-e^{-1});$$<br>\n",
    " Temos, em fim,<br><br>\n",
    " $$(f*g)(x) = \\left\\{\\begin{array}{}\n",
    " 0, & x < -1 \\\\\n",
    " e^{-x}(e^{x}-e^{-1}), & -1 \\leq x \\leq 1  \\\\\n",
    " e^{-x}(e-e^{-1}), & x > 1 \\\\\n",
    " \\end{array}\\right.$$"
   ]
  },
  {
   "cell_type": "code",
   "execution_count": null,
   "id": "7a582b55",
   "metadata": {
    "ExecuteTime": {
     "end_time": "2025-01-09T23:22:40.911215Z",
     "start_time": "2025-01-09T23:22:40.094516Z"
    }
   },
   "outputs": [],
   "source": [
    "import numpy as np\n",
    "import matplotlib.pyplot as plt\n",
    "\n",
    "# Define os intervalos e a discretização\n",
    "x = np.linspace(-1, 3, 1000)  # Cobrindo todo o intervalo de interesse de ambas as funções\n",
    "dx = x[1] - x[0]  # Espaçamento entre os pontos\n",
    "\n",
    "# Definindo as funções\n",
    "f = np.where((x >= -1) & (x <= 1), 1, 0)\n",
    "g = np.where(x>=0, np.exp(-x), 0)\n",
    "\n",
    "# Calculando a convolução usando numpy.convolve\n",
    "convolution = np.convolve(f, g, mode='full') * dx  # O produto dx é necessário para escalar corretamente a convolução\n",
    "\n",
    "# Ajustando o array de tempo para o resultado da convolução\n",
    "t = np.linspace(2*x[0], 2*x[-1], len(convolution))\n",
    "\n",
    "# Plotando os resultados\n",
    "plt.figure(figsize=(10, 5))\n",
    "plt.plot(t, convolution, label='Convolução f*g')\n",
    "plt.title('Convolução f e g')\n",
    "plt.xlabel('t')\n",
    "plt.ylabel('(f * g)(x)')\n",
    "plt.legend()\n",
    "plt.grid(True)\n",
    "plt.show()\n"
   ]
  },
  {
   "cell_type": "code",
   "execution_count": null,
   "id": "5e0c1fdd",
   "metadata": {
    "ExecuteTime": {
     "end_time": "2025-01-09T23:22:44.079957Z",
     "start_time": "2025-01-09T23:22:42.757040Z"
    }
   },
   "outputs": [],
   "source": [
    "import numpy as np\n",
    "import matplotlib.pyplot as plt\n",
    "\n",
    "# Define os intervalos e a discretização\n",
    "x = np.linspace(-3, 3, 1000)  # Cobrindo todo o intervalo de interesse de ambas as funções\n",
    "dx = x[1] - x[0]  # Espaçamento entre os pontos\n",
    "\n",
    "# Definindo as funções\n",
    "f = np.where((x >= -1) & (x <= 1), 1, 0)\n",
    "g = np.where(x >= 0, np.exp(-x), 0)\n",
    "\n",
    "# Pontos específicos para visualização da sobreposição\n",
    "x_specific = [-2, -1, 0.5, 1, 1.5, 2, 3]\n",
    "\n",
    "plt.figure(figsize=(12, 10))\n",
    "\n",
    "# Plotando a sobreposição para pontos específicos\n",
    "for i, x_val in enumerate(x_specific):\n",
    "    plt.subplot(len(x_specific), 1, i + 1)\n",
    "    # A função g deslocada corretamente para a esquerda\n",
    "    shifted_g = np.where(x >= -x_val, np.exp(-(x + x_val)), 0)\n",
    "    min_plot = np.minimum(f, shifted_g)\n",
    "    overlap_area = np.sum(min_plot * dx)  # Cálculo da área de sobreposição\n",
    "\n",
    "    # Plotando f(x) e g(x-u)\n",
    "    plt.plot(x, f, label='f(x)', linestyle='--', color='blue')\n",
    "    plt.plot(x, shifted_g, label=f'g(x+{x_val})', color='green')\n",
    "\n",
    "    # Preenchendo a área de sobreposição\n",
    "    plt.fill_between(x, 0, min_plot, color='red', alpha=0.5, label=f'Sobreposição em x={x_val}: Área = {overlap_area:.3f}')\n",
    "    plt.title(f'Sobreposição em x={x_val}')\n",
    "    plt.ylim(0, 1.5)\n",
    "    plt.legend()\n",
    "\n",
    "plt.xlabel('x')\n",
    "plt.tight_layout()\n",
    "plt.show()\n"
   ]
  },
  {
   "cell_type": "markdown",
   "id": "a09212f9",
   "metadata": {},
   "source": [
    "#### Dica (novo)"
   ]
  },
  {
   "cell_type": "markdown",
   "id": "1a72c6f8",
   "metadata": {},
   "source": [
    "Para se obter os intervalos de convolução, pode-se recorrer às somas: $a + c$, $a + d$, $b + c$ e $b + d$ e a fim de formar intervalos em ordem crescente. Duas situações são possíveis: \n",
    " \n",
    " i) $a + d = b + c$. \n",
    " \n",
    " Nesse caso, os intervalos de convolução são: $[a+c,b+c]$ e $[b+c,b+d]$\n",
    " \n",
    " ii) $a + d \\neq b + c$\n",
    " \n",
    " Nesse caso, os intervalos de convolução são: $[a+c,m]$, $[m,M]$ e $[M,b+d]$ em que $m = min\\{a + d,b + c\\}$ e $M = max\\{a + d,b + c\\}$\n",
    " \n",
    "Seguem alguns exemplos:\n",
    "\n",
    "**Exemplo 1:** $f_{[0,1]}, g_{[0,1]} \\Rightarrow [0,1], [1,2]$ ($a+d=b+c$)\n",
    "\n",
    "**Exemplo 2:** $f_{[0,3]}, g_{[4,5]} \\Rightarrow [4,5], [5,7], [7,8]$ $(a+d < b+c)$\n",
    "\n",
    "**Exemplo 3:** $f_{[0,1]}, g_{[2,5]} \\Rightarrow [2,3], [3,5], [5,6]$ $(a+d > b+c)$"
   ]
  },
  {
   "cell_type": "code",
   "execution_count": null,
   "id": "748c66d3",
   "metadata": {},
   "outputs": [],
   "source": [
    "def gerar_intervalos(a, b, c, d):\n",
    "    # Calculando as somas\n",
    "    somas = [a + c, a + d, b + c, b + d]\n",
    "    \n",
    "    # Ordenando as somas em ordem crescente\n",
    "    somas.sort()\n",
    "    \n",
    "    # Caso 1: Quando a + d = b + c\n",
    "    if a + d == b + c:\n",
    "        return [(somas[0], somas[1]), (somas[1], somas[3])]  # Dois intervalos: [a+c, b+c] e [b+c, b+d]\n",
    "\n",
    "    # Caso 2: Quando a + d != b + c\n",
    "    else:\n",
    "        m = min(a + d, b + c)\n",
    "        M = max(a + d, b + c)\n",
    "        \n",
    "        # Três intervalos: [a+c, m], [m, M], [M, b+d]\n",
    "        return [(somas[0], m), (m, M), (M, somas[3])]"
   ]
  },
  {
   "cell_type": "code",
   "execution_count": null,
   "id": "2b92731c",
   "metadata": {},
   "outputs": [],
   "source": [
    "# Exemplo 1\n",
    "a,b,c,d = -1,1,-1,1\n",
    "intervalos = gerar_intervalos(a,b,c,d)\n",
    "print(f'Intervalos da função de convolução: {intervalos}')"
   ]
  },
  {
   "cell_type": "markdown",
   "id": "2f9cb799",
   "metadata": {},
   "source": [
    "#### <font color='red'> Teorema 3 (Teorema da Convolução) </font>"
   ]
  },
  {
   "cell_type": "markdown",
   "id": "1a58d378",
   "metadata": {},
   "source": [
    "<font color='red'> Se $f: \\mathbb{R} \\rightarrow \\mathbb{R}$ e $g: \\mathbb{R} \\rightarrow \\mathbb{R}$ são funções seccionalmente contínuas, limitadas e tais que $\\int_{-\\infty}^{\\infty} |f(x)|dx < \\infty$ e $\\int_{-\\infty}^{\\infty} |g(x)|dx < \\infty$. Então<br><br>\n",
    " $$\\mathscr{F}[f*g](\\omega) = \\sqrt{2\\pi}F(\\omega)G(\\omega) \\tag{16}$$"
   ]
  },
  {
   "cell_type": "markdown",
   "id": "be694e6a",
   "metadata": {},
   "source": [
    "##### Observação 1"
   ]
  },
  {
   "cell_type": "markdown",
   "id": "f27398a6",
   "metadata": {},
   "source": [
    "Alguns autores (por exemplo, $[6]$, $[7]$) inserem o fator de normalização em $(17)$ ao invés de $(18)$, isto é:\n",
    "\n",
    "<font color='red'>$$(f*g)(x) = \\frac{1}{\\sqrt{2\\pi}}\\int_{-\\infty}^{\\infty} f(u)g(x-u) du, \\tag{17}$$<br>\n",
    " e<br><br>\n",
    " $$\\mathscr{F}(f*g)(\\omega) = F(\\omega)G(\\omega). \\tag{18}$$</font>"
   ]
  },
  {
   "cell_type": "markdown",
   "id": "aae52d8f",
   "metadata": {},
   "source": [
    "##### <font color='red'> Demonstração </font>"
   ]
  },
  {
   "cell_type": "markdown",
   "id": "a638a11c",
   "metadata": {},
   "source": [
    "<font color='red'> Pelas definições temos que<br><br>\n",
    " $$\\mathscr{F}(f * g)(\\omega) = \\frac{1}{\\sqrt{2\\pi}} \\int_{-\\infty}^\\infty \\left( \\int_{-\\infty}^\\infty f(u)g(x-u) du \\right)e^{-i\\omega x} dx.$$<br>\n",
    " Sob as hipóteses consideradas pode-se mostrar que podemos trocar a ordem de integração para obtermos<br><br>\n",
    " $$\\mathscr{F}(f * g)(\\omega) = \\frac{1}{\\sqrt{2\\pi}} \\int_{-\\infty}^\\infty f(u) \\left( \\int_{-\\infty}^\\infty  g(x-u)e^{-i\\omega x} dx \\right) du.$$<br>\n",
    " Fazendo-se a mudança de variáveis $x - u = z$ obtemos<br><br>\n",
    " $$\\mathscr{F}(f * g)(\\omega) = \\frac{1}{\\sqrt{2\\pi}} \\int_{-\\infty}^\\infty f(u) \\left( \\int_{-\\infty}^\\infty g(z)e^{-i\\omega (u+z)}  \\, dz \\right) du$$<br>\n",
    " $$= \\frac{1}{\\sqrt{2\\pi}} \\int_{-\\infty}^\\infty  f(u)e^{-i\\omega u} \\left( \\int_{-\\infty}^\\infty  g(z)e^{-i\\omega z} dz \\right) du = $$<br>\n",
    " $$= \\frac{1}{\\sqrt{2\\pi}} \\int_{-\\infty}^\\infty  f(u)e^{-i\\omega u}du \\int_{-\\infty}^\\infty  g(z)e^{-i\\omega z} dz =$$<br>\n",
    " $$= \\sqrt{2\\pi}\\frac{1}{\\sqrt{2\\pi}} \\int_{-\\infty}^\\infty  f(u)e^{-i\\omega u}du \\frac{1}{\\sqrt{2\\pi}}\\int_{-\\infty}^\\infty  g(z)e^{-i\\omega z} dz =\\sqrt{2\\pi}F(\\omega)G(\\omega)$$"
   ]
  },
  {
   "cell_type": "markdown",
   "id": "1b7f0175",
   "metadata": {},
   "source": [
    "#### Cálculo da Convolução Usando Transformada Inversa de Fourier"
   ]
  },
  {
   "cell_type": "markdown",
   "id": "6e767f33",
   "metadata": {},
   "source": [
    "Decorre de $(16)$ que:<br><br>\n",
    "\n",
    "<font color='red'>$$\\mathscr{F}[f*g](\\omega) = \\sqrt{2\\pi}F(\\omega)G(\\omega) \\Rightarrow \\mathscr{F}^{-1}\\left[\\mathscr{F}[f*g](\\omega)\\right] = \\mathscr{F}^{-1}\\left[\\sqrt{2\\pi}F(\\omega)G(\\omega)\\right] \\Rightarrow $$<br><br>\n",
    " $$ \\Rightarrow (f*g)(x) = \\sqrt{2\\pi}\\mathscr{F^{-1}}[F(\\omega)G(\\omega)] \\tag{19}$$"
   ]
  },
  {
   "cell_type": "markdown",
   "id": "7596b434",
   "metadata": {},
   "source": [
    "#### <font color='blue'> Exemplo 12 </font>"
   ]
  },
  {
   "cell_type": "markdown",
   "id": "36f8341e",
   "metadata": {},
   "source": [
    "<font color='blue'> Use a transformada inversa de Fourier para calcular a convolução das funções:<br><br>\n",
    " $$f(x) = \\left\\{\\begin{array}{}\n",
    " e^{-x}, & x \\geq 0 \\\\\n",
    " 0, & \\text{caso contrário}\\\\\n",
    " \\end{array} \\right. \\ \\ e \\ \\ g(x) = \\left\\{\\begin{array}{}\n",
    " e^{-2x}, & x \\geq 0 \\\\\n",
    " 0, & \\text{caso contrário}\\\\\n",
    " \\end{array} \\right.$$"
   ]
  },
  {
   "cell_type": "markdown",
   "id": "aea87c0f",
   "metadata": {},
   "source": [
    "##### <font color='blue'> Solução </font>"
   ]
  },
  {
   "cell_type": "markdown",
   "id": "bd7797e4",
   "metadata": {},
   "source": [
    "<font color='blue'> Primeiramente, calculamos as transformadas de Fourier das funções $f$ e $g$:<br><br>\n",
    " Para $f(x)$:<br><br>\n",
    " $$F(\\omega) = \\frac{1}{\\sqrt{2\\pi}}\\frac{1}{1 + i\\omega}$$<br>\n",
    " Para $g(x)$:<br><br>\n",
    " $$G(\\omega) = \\frac{1}{\\sqrt{2\\pi}}\\frac{1}{2 + i\\omega}$$<br>\n",
    " Utilizando a propriedade que a transformada da convolução de duas funções é o produto de suas transformadas, temos:<br><br>\n",
    " $$(f \\ast g)(x) = \\sqrt{2\\pi}\\mathcal{F}^{-1}[F(\\omega)G(\\omega)] = \\sqrt{2\\pi}\\mathcal{F}^{-1}\\left[\\frac{1}{\\sqrt{2\\pi}}\\frac{1}{1 + i\\omega} \\cdot \\frac{1}{\\sqrt{2\\pi}}\\frac{1}{2 + i\\omega}\\right] =$$<br>\n",
    " $$ = \\mathcal{F}^{-1}\\left[\\frac{1}{\\sqrt{2\\pi}}\\frac{1}{1 + i\\omega} \\cdot \\frac{1}{2 + i\\omega}\\right]$$<br>\n",
    " Para simplificar a transformada inversa, expandimos a expressão:<br><br>\n",
    " $$\\frac{1}{\\sqrt{2\\pi}}\\frac{1}{(1 + i\\omega)(2 + i\\omega)} = \\frac{1}{\\sqrt{2\\pi}}\\frac{A}{1 + i\\omega} + \\frac{1}{\\sqrt{2\\pi}}\\frac{B}{2 + i\\omega}$$<br>\n",
    " Resolvendo para $A$ e $B$ ao igualar os denominadores:<br><br>\n",
    " $$1 = A(2 + i\\omega) + B(1 + i\\omega) = (2A + B) + (A + B)i\\omega \\Rightarrow 2A + B = 1 \\ \\text{e} \\ A + B = 0 \\Rightarrow A = 1 \\ \\text{e} \\ B = -1$$<br>\n",
    " A expressão simplificada para a convolução no domínio do tempo é:<br><br>\n",
    " $$(f \\ast g)(x) = \\mathcal{F}^{-1}\\left[\\frac{1}{\\sqrt{2\\pi}}\\frac{1}{1 + i\\omega} - \\frac{1}{\\sqrt{2\\pi}}\\frac{1}{2 + i\\omega}\\right]$$<br>\n",
    " Aplicando as transformadas inversas conhecidas:<br><br>\n",
    " $$(f \\ast g)(x) = e^{-x}u(x) - e^{-2x}u(x) = \\left\\{\\begin{array}{}\n",
    " e^{-x} - e^{-2x}, & x \\geq 0 \\\\\n",
    " 0, & \\text{caso contrário}\\\\\n",
    " \\end{array} \\right.$$"
   ]
  },
  {
   "cell_type": "markdown",
   "id": "1ef8fe8e",
   "metadata": {},
   "source": [
    "# <div style=\"margin-top: -20px;\">\n",
    "<hr style=\"border: 2px solid black;\">\n",
    "\n",
    "<font color='black'><span style=\"font-size: 22px;\"><strong>Exercícios</strong></span></font>\n",
    "\n",
    "<hr style=\"border: 2px solid black;\">\n",
    "</div>"
   ]
  },
  {
   "cell_type": "markdown",
   "id": "4c311399",
   "metadata": {},
   "source": [
    "#### Exercício 1"
   ]
  },
  {
   "cell_type": "markdown",
   "id": "d0225aff",
   "metadata": {},
   "source": [
    "Determine, via definição, a transformada de Fourier das funções:\n",
    "\n",
    "a) $f(x) = \\left\\{\\begin{array}{}\n",
    " e^{-x}, & x \\geq 0 \\\\\n",
    " 0, & x < 0 \\\\\n",
    " \\end{array}\\right.$\n",
    " \n",
    "b) $g(x) = \\left\\{\\begin{array}{}\n",
    " e^{-2x}, & x \\geq 0 \\\\\n",
    " 0, & x < 0 \\\\\n",
    " \\end{array}\\right.$\n",
    "\n",
    "c) $h(x) = \\left\\{\\begin{array}{} \n",
    "cos(ax) & -b < x < b\\\\\n",
    "0 & \\text{caso contrário}\\\\\n",
    "\\end{array}\\right.$ $^{[9]}$\n",
    "\n",
    "d) $k(x) = e^{-a|x|} = \\left\\{\\begin{array}{} \n",
    "e^{ax} & x \\leq 0\\\\\n",
    "e^{-ax} & x\\geq 0\\\\\n",
    "\\end{array}\\right., \\ \\ a > 0.$ $^{[9]}$"
   ]
  },
  {
   "cell_type": "markdown",
   "id": "069211b1",
   "metadata": {},
   "source": [
    "#### Exercício 2"
   ]
  },
  {
   "cell_type": "markdown",
   "id": "0e753d5f",
   "metadata": {},
   "source": [
    "Use a resposta do item \"a\" do **Exercício 2** juntamente com a propriedade \n",
    "\n",
    "$$\\mathscr{F}[x f(x)] = i \\frac{dF}{d\\omega}(\\omega)$$\n",
    "\n",
    "para calcular a transformada de\n",
    "\n",
    "$$g(x) = \\left\\{\\begin{array}{}\n",
    " xe^{-x}, & x \\geq 0 \\\\\n",
    " 0, & x < 0 \\\\\n",
    " \\end{array}\\right..$$"
   ]
  },
  {
   "cell_type": "markdown",
   "id": "ef04a5f8",
   "metadata": {},
   "source": [
    "#### Exercício 3$^{[4]}$"
   ]
  },
  {
   "cell_type": "markdown",
   "id": "d5aaf332",
   "metadata": {},
   "source": [
    "Mostre que, se $\\mathscr{F}[f(x)] = F(\\omega)$, então $\\mathscr{F}[xf(x)] = i \\frac{dF}{d\\omega}(\\omega)$."
   ]
  },
  {
   "cell_type": "markdown",
   "id": "b06db036",
   "metadata": {},
   "source": [
    "#### Exercício 4$^{[4]}$"
   ]
  },
  {
   "cell_type": "markdown",
   "id": "ea9c97f9",
   "metadata": {},
   "source": [
    "Mostre que \n",
    "\n",
    "$$\\mathscr{F}[f(ax)] = \\frac{1}{|a|} F\\left(\\frac{\\omega}{a}\\right), a \\neq 0$$\n",
    "\n",
    "em que $F(\\omega) = \\mathscr{F}[f(x)]$."
   ]
  },
  {
   "cell_type": "markdown",
   "id": "1533cd2f",
   "metadata": {},
   "source": [
    "#### Exercício 5$^{[4]}$"
   ]
  },
  {
   "cell_type": "markdown",
   "id": "ceacf13e",
   "metadata": {},
   "source": [
    "Encontre a função cuja transformada inversa é dada em cada um dos itens a seguir:\n",
    "\n",
    "a) $F(\\omega) = \\frac{1}{1 + i\\omega} + \\frac{1}{2 + i\\omega}$\n",
    "\n",
    "b) $G(\\omega) = \\frac{3}{6 + 2i\\omega}$\n",
    "\n",
    "c) $H(\\omega) = \\frac{4}{i(1+\\omega)}$\n",
    "\n",
    "d) $K(\\omega) = \\frac{1}{(1 + i\\omega)(4 + 2i\\omega)}$\n",
    "\n",
    "e) $L(\\omega) = \\frac{i\\omega}{1+\\omega^{2}}$"
   ]
  },
  {
   "cell_type": "markdown",
   "id": "0c50f3d0",
   "metadata": {},
   "source": [
    "#### Exercício 6"
   ]
  },
  {
   "cell_type": "markdown",
   "id": "86fe7f80",
   "metadata": {},
   "source": [
    "Calcule a convolução $(f*f)(x)$ para cada uma das funções a seguir:\n",
    "\n",
    "a) $f(x) = \\left\\{\\begin{array}{}\n",
    "1, & -1 < x < 1 \\\\\n",
    "0, & \\text{caso contrário}\\\\\n",
    "\\end{array}\\right.$\n",
    "\n",
    "b) $f(x) = \\left\\{\\begin{array}{}\n",
    "e^{-x}, & x > 0 \\\\\n",
    "0, & \\text{caso contrário}\\\\\n",
    "\\end{array}\\right.$\n",
    "\n",
    "*Dica: item \"a\": Considere os intervalos $(-\\infty,-2),(-2,0),(0,2),(2,+\\infty)$.*"
   ]
  },
  {
   "cell_type": "markdown",
   "id": "9264177d",
   "metadata": {
    "heading_collapsed": true
   },
   "source": [
    "#### Exercício 7"
   ]
  },
  {
   "cell_type": "markdown",
   "id": "0a831d60",
   "metadata": {
    "hidden": true
   },
   "source": [
    "Calcule a convolução $(f*g)(x)$ para cada uma das funções a seguir:\n",
    "\n",
    "a) $f(x) = \\left\\{\\begin{array}{}\n",
    "1, & 0 < x < 1 \\\\\n",
    "0, & \\text{caso contrário}\\\\\n",
    "\\end{array}\\right. \\ \\ \\ \\text{e} \\ \\ \\ g(x) = \\left\\{\\begin{array}{}\n",
    "x, & 0 < x < 1\\\\\n",
    "0, & \\text{caso contrário}\\\\\n",
    "\\end{array}\\right.$\n",
    "\n",
    "b) $f(x) = \\left\\{\\begin{array}{}\n",
    "x, & 0 < x < 1 \\\\\n",
    "0, & \\text{caso contrário}\\\\\n",
    "\\end{array}\\right. \\ \\ \\ \\text{e} \\ \\ \\ g(x) = \\left\\{\\begin{array}{}\n",
    "e^{-x}, & x > 0\\\\\n",
    "0, & \\text{caso contrário}\\\\\n",
    "\\end{array}\\right.$\n",
    "\n",
    "*Dica: item \"a\": Considere os intervalos $(-\\infty,0),(0,1),(1,2),(2,+\\infty)$.*"
   ]
  },
  {
   "cell_type": "markdown",
   "id": "a561945f",
   "metadata": {},
   "source": [
    "# <div style=\"margin-top: -20px;\">\n",
    "<hr style=\"border: 2px solid black;\">\n",
    "\n",
    "<font color='black'><span style=\"font-size: 22px;\"><strong>Respostas dos Exercícios</strong></span></font>\n",
    "\n",
    "<hr style=\"border: 2px solid black;\">\n",
    "</div>"
   ]
  },
  {
   "cell_type": "markdown",
   "id": "8cb15daa",
   "metadata": {},
   "source": [
    "#### Resposta do Exercício 1"
   ]
  },
  {
   "cell_type": "markdown",
   "id": "1ce2a6f4",
   "metadata": {},
   "source": [
    "a) $\\frac{1}{\\sqrt{2\\pi}} \\frac{1}{1 + i\\omega}$\n",
    "\n",
    "b) $\\frac{1}{\\sqrt{2\\pi}}\\frac{1}{2 + i\\omega}$\n",
    "\n",
    "c) $\\frac{1}{\\sqrt{2\\pi}} \\left(\\frac{sen(b(\\omega-a))}{\\omega-a} + \\frac{sen(b(\\omega+a))}{\\omega+a} \\right) $\n",
    "\n",
    "d) $\\frac{1}{\\sqrt{2\\pi}}\\frac{2a}{\\omega^{2} + a^{2}}$"
   ]
  },
  {
   "cell_type": "markdown",
   "id": "65dc9bca",
   "metadata": {
    "heading_collapsed": true
   },
   "source": [
    "#### Resposta do Exercício 2"
   ]
  },
  {
   "cell_type": "markdown",
   "id": "f05f81a8",
   "metadata": {
    "hidden": true
   },
   "source": [
    "$\\frac{1}{\\sqrt{2\\pi}}\\frac{1}{(1 + i\\omega)^{2}}$"
   ]
  },
  {
   "cell_type": "markdown",
   "id": "3d047e9e",
   "metadata": {
    "heading_collapsed": true
   },
   "source": [
    "#### Resposta do Exercício 3"
   ]
  },
  {
   "cell_type": "markdown",
   "id": "778e0f2c",
   "metadata": {
    "hidden": true
   },
   "source": [
    "Encontre em $[4]$."
   ]
  },
  {
   "cell_type": "markdown",
   "id": "6515aed2",
   "metadata": {
    "heading_collapsed": true
   },
   "source": [
    "#### Resposta do Exercício 4"
   ]
  },
  {
   "cell_type": "markdown",
   "id": "65f7d788",
   "metadata": {
    "hidden": true
   },
   "source": [
    "Encontre em $[4]$."
   ]
  },
  {
   "cell_type": "markdown",
   "id": "1adad8c0",
   "metadata": {
    "heading_collapsed": true
   },
   "source": [
    "#### Resposta do Exercício 5"
   ]
  },
  {
   "cell_type": "markdown",
   "id": "88c4b00a",
   "metadata": {
    "hidden": true
   },
   "source": [
    "a) $f(x) = \\sqrt{2\\pi}(e^{-x} + e^{-2x})u(x)$\n",
    "\n",
    "b) $g(x) = \\frac{3\\sqrt{2\\pi}}{2}e^{-3x}(x)$\n",
    "\n",
    "c) $h(x) = 4\\sqrt{2\\pi}e^{-ix}u(x)$\n",
    "\n",
    "d) $k(x) = \\frac{\\sqrt{2\\pi}}{2}(e^{-x} - e^{-2x})u(x)$\n",
    "\n",
    "e) $l(x) = -\\frac{\\sqrt{2\\pi}}{2}\\frac{xe^{-|x|}}{|x|}$"
   ]
  },
  {
   "cell_type": "markdown",
   "id": "086a7357",
   "metadata": {
    "heading_collapsed": true
   },
   "source": [
    "#### Resposta do Exercício 6"
   ]
  },
  {
   "cell_type": "markdown",
   "id": "d61b7c11",
   "metadata": {
    "hidden": true
   },
   "source": [
    "a) $(f*f)(x) = \\left\\{\\begin{array}{}\n",
    "2 + x, & -2 < x \\leq 0 \\\\\n",
    "2 - x, & 0 < x < 2 \\\\\n",
    "0, & \\text{caso contrário}\\\\\n",
    "\\end{array} \\right. = \\left\\{\\begin{array}{}\n",
    "2 - |x|, & |x| < 2 \\\\\n",
    "0, & \\text{caso contrário}\\\\\n",
    "\\end{array} \\right.$\n",
    "\n",
    "b) $(f*f)(x) = \\left\\{\\begin{array}{}\n",
    "xe^{-x}, & x>0 \\\\\n",
    "0, & \\text{caso contrário}\\\\\n",
    "\\end{array} \\right.$"
   ]
  },
  {
   "cell_type": "markdown",
   "id": "f500a73f",
   "metadata": {
    "heading_collapsed": true
   },
   "source": [
    "#### Resposta do Exercício 7"
   ]
  },
  {
   "cell_type": "markdown",
   "id": "1c6d2569",
   "metadata": {
    "hidden": true
   },
   "source": [
    "a) $(f*g)(x) = \\left\\{\\begin{array}{}\n",
    "\\frac{x^{2}}{2}, & 0 < x < 1 \\\\\n",
    "x - \\frac{x^{2}}{2}, & 1 < x < 2\\\\\n",
    "0, & \\text{caso contrário} \\\\\n",
    "\\end{array} \\right.$\n",
    "\n",
    "b) $(f*g)(x) = \\left\\{\\begin{array}{}\n",
    "0, & x \\leq 0 \\\\\n",
    "x - 1 + e^{-x}, & 0 < x < 1 \\\\\n",
    "e^{-x}, & x \\geq 1\\\\\n",
    "\\end{array} \\right.$\n",
    "\n"
   ]
  },
  {
   "cell_type": "markdown",
   "id": "bb844f24",
   "metadata": {},
   "source": [
    "# <div style=\"margin-top: -20px;\">\n",
    "<hr style=\"border: 2px solid black;\">\n",
    "\n",
    "<font color='black'><span style=\"font-size: 22px;\"><strong>Vídeo Aulas</strong></span></font>\n",
    "\n",
    "<hr style=\"border: 2px solid black;\">\n",
    "</div>"
   ]
  },
  {
   "cell_type": "markdown",
   "id": "4062851d",
   "metadata": {},
   "source": [
    "Clicando nos links a seguir você será redirecionado às aulas referentes a este capítulo:\n",
    "\n",
    "[Teorema da Integral de Fourier](https://youtu.be/9pcwJ2euI7w)\n",
    "\n",
    "[Transformada de Fourier](https://youtu.be/pmuT9l3TDoA)\n",
    "\n",
    "[Exemplo Envolvendo Transformada de Fourier](https://youtu.be/vf_MMJUuHFI)\n",
    "\n",
    "[Teorema Sobre Transformada de Fourier e Funções Pares](https://youtu.be/kFvgeKl1Ihw)\n",
    "\n",
    "[Teorema Sobre Transformada de Fourier e Funções Impares](https://youtu.be/9p-XABuvxx4)\n",
    "\n",
    "[Calculando a Transformada de Fourier de Uma Função Par](https://youtu.be/OXJDS7ZS7V4)\n",
    "\n",
    "[Calculando a Transformada de Fourier Inversa de Uma Função 1](https://youtu.be/oYhuo4MXt00)\n",
    "\n",
    "[Calculando a Transformada de Fourier Inversa de Uma Função 2](https://youtu.be/0smUy5bWvJ8)\n",
    "\n",
    "[Calculando a Transformada de Fourier Inversa de Uma Função 3](https://youtu.be/yDDTYgTma4c)\n",
    "\n",
    "[Calculando a Transformada de Fourier Inversa de Uma Função 4](https://youtu.be/q7MRmtaZo_E)\n",
    "\n",
    "[Resolvendo Uma Equação Integral Usando Transformada de Fourier Inversa](https://youtu.be/z_FWAvGPssA)\n",
    "\n",
    "[Calculando o Valor de Uma Integral](https://youtu.be/8Nx58MqwW14)\n",
    "\n",
    "[Identidades de Parseval Para Integrais de Fourier](https://youtu.be/94tFLHBV0s8)\n",
    "\n",
    "[Convolução de Funções](https://youtu.be/au6tgzjZmq0)\n",
    "\n",
    "[Exemplo de Convolução de Funções](https://youtu.be/9V8x0gr0DcM)\n",
    "\n",
    "[Teorema da Convolução](https://youtu.be/GH42rQd2aFg)\n",
    "\n",
    "[Convolução Usando Transformada Inversa](https://youtu.be/6-ipJZgGkso)"
   ]
  },
  {
   "cell_type": "markdown",
   "id": "4bd351bd",
   "metadata": {},
   "source": [
    "# <div style=\"margin-top: -20px;\">\n",
    "<hr style=\"border: 2px solid black;\">\n",
    "\n",
    "<font color='black'><span style=\"font-size: 22px;\"><strong>Referências</strong></span></font>\n",
    "\n",
    "<hr style=\"border: 2px solid black;\">\n",
    "</div>"
   ]
  },
  {
   "cell_type": "markdown",
   "id": "e4c36f16",
   "metadata": {},
   "source": [
    "$[0]$ Bibliografia constante no Projeto Pedagógico do Curso de Engenharia Elétrica 2023.\n",
    "\n",
    "$[1]$ FERNANDEZ, C. de S.; BERNANDES JÚNIOR, N. Introdução às funções de uma variável complexa. Rio de Janeiro: SBM, 2016.\n",
    "\n",
    "$[2]$ BUTKOV, E. Física matemática. Rio de Janeiro: LTC, 1988.\n",
    "\n",
    "$[3]$ RILEY, K. F.; HOBSON, M. P.; BENCE, S. J. Mathematical methods for physics and engineering. 3rd ed. Cambridge: Cambridge University Press, 2006.\n",
    "\n",
    "$[4]$ SANTOS, R. J., Transformada de Fourier. Belo Horizonte: Universidade Federal de Minas Gerais, 2017.\n",
    "\n",
    "$[5]$ SAUTER, E., AZEVEDO, F. S., STRAUCH, I. M. F, Transformada de Laplace: Um Livro Colaborativo. UFRGS, 2022.\n",
    "\n",
    "$[6]$ SOARES, A. Curso Python Com Jupyter Notebook. Instituto Federal da Bahia, Campus Vitória da Conquista, $2023$. Disponível em https://github.com/ProfAllanIFBA/Curso_Python_Com_Jupyter_Notebook\n",
    "\n",
    "$[7]$ SPIEGEL, M. R. Advanced mathematics for engineers and scientists. New York: McGraw-Hill, 1971.\n",
    "\n",
    "$[8]$ SPIEGEL, M. R. Cálculo Avançado. São Paulo: McGraw-Hill, 1971.\n",
    "\n",
    "$[9]$ ZILL, D. G.; CULLEN, M. R. Matemática avançada para engenharia, v.3: equações diferenciais parciais, métodos de Fourier e variáveis complexas. 3 ed. Porto Alegre: Bookman, 2009.\n",
    "\n",
    "$[10]$ ZILL, D. G., Advanced Engineering Mathematics. 6rd ed. Jones & Bartlett Learning 2017.\n",
    "\n",
    "$[11]$ ZILL, D. G., CULLEN, M. R. Equações Diferenciais. v1, 3 ed. São Paulo: Makron Books, 2001."
   ]
  },
  {
   "cell_type": "markdown",
   "id": "ec14110d",
   "metadata": {},
   "source": [
    "# <div style=\"margin-top: -20px;\">\n",
    "<hr style=\"border: 2px solid black;\">\n",
    "\n",
    "<font color='black'><span style=\"font-size: 22px;\"><strong>Anexo $1$: Implementação da Convolução Algébrica (Experimental)</strong></span></font>\n",
    "\n",
    "<hr style=\"border: 2px solid black;\">\n",
    "</div>"
   ]
  },
  {
   "cell_type": "markdown",
   "id": "d152e412",
   "metadata": {},
   "source": [
    "Apresentamos a solução computacional por partes devido à inconsistências em um código completo que estamos desenvolvendo. Usaremos os dados do **Exemplo 11**:"
   ]
  },
  {
   "cell_type": "markdown",
   "id": "d65514c4",
   "metadata": {},
   "source": [
    "###### Parte 1: Determinação dos Intervalos de Convolução"
   ]
  },
  {
   "cell_type": "code",
   "execution_count": 1,
   "id": "646d2370",
   "metadata": {
    "ExecuteTime": {
     "end_time": "2025-01-10T14:09:52.977471Z",
     "start_time": "2025-01-10T14:09:52.402680Z"
    }
   },
   "outputs": [],
   "source": [
    "import sympy as sp"
   ]
  },
  {
   "cell_type": "code",
   "execution_count": 15,
   "id": "49c94115",
   "metadata": {
    "ExecuteTime": {
     "end_time": "2025-01-10T14:13:15.769500Z",
     "start_time": "2025-01-10T14:13:15.763322Z"
    }
   },
   "outputs": [],
   "source": [
    "# Função de determinação dos intervalos de convolução\n",
    "def gerar_intervalos(a, b, c, d):\n",
    "    # Calculando as somas\n",
    "    somas = [a + c, a + d, b + c, b + d]\n",
    "    \n",
    "    # Ordenando as somas em ordem crescente\n",
    "    somas.sort()\n",
    "    \n",
    "    # Caso 1: Quando a + d = b + c\n",
    "    if (a + d == b + c):\n",
    "        return [(somas[0], somas[1]), (somas[1], somas[3])]  # Dois intervalos: [a+c, b+c] e [b+c, b+d]\n",
    "    # Caso 2: Quando a + d != b + c\n",
    "    else:\n",
    "        m = min(a + d, b + c)\n",
    "        M = max(a + d, b + c)\n",
    "        \n",
    "        if (abs(a+d) == sp.oo) | (abs(b+c) == sp.oo):\n",
    "            return [(somas[0], somas[1]), (somas[1], somas[3])]\n",
    "        else:\n",
    "            # Três intervalos: [a+c, m], [m, M], [M, b+d]\n",
    "            return [(somas[0], m), (m, M), (M, somas[3])]"
   ]
  },
  {
   "cell_type": "code",
   "execution_count": 16,
   "id": "8f3f8e3f",
   "metadata": {
    "ExecuteTime": {
     "end_time": "2025-01-10T14:13:15.985041Z",
     "start_time": "2025-01-10T14:13:15.973574Z"
    }
   },
   "outputs": [
    {
     "name": "stdout",
     "output_type": "stream",
     "text": [
      "Intervalos da função de convolução: [(-1, 1), (1, oo)]\n"
     ]
    }
   ],
   "source": [
    "# Dados\n",
    "a,b,c,d = -1,1,0,sp.oo\n",
    "\n",
    "# Aplicando a função gerar_intervalos aos dados\n",
    "intervalos = gerar_intervalos(a,b,c,d)\n",
    "\n",
    "# Intervalos\n",
    "print(f'Intervalos da função de convolução: {intervalos}')"
   ]
  },
  {
   "cell_type": "markdown",
   "id": "c00afc5c",
   "metadata": {},
   "source": [
    "###### Parte 2: Escolha dos Limites de Integração"
   ]
  },
  {
   "cell_type": "markdown",
   "id": "ec9c5509",
   "metadata": {},
   "source": [
    "Considerando um caso genérico, temos:\n",
    "\n",
    "i) $a<x<b$\n",
    "\n",
    "ii) $c<x-u<d \\Rightarrow x-d < u < x - c$\n",
    "\n",
    "Necessitamos escolher algumas das combinações $Max(a,x-d) \\leq u \\leq Min(b,x-c)$:\n",
    "\n",
    "Podemos, para cada intervalo, escolher um ponto $x$ para representar a relação com os pontos do mesmo. Digamos $x = \\frac{e_{min}+e_{max}}{2}$ em que $e_{min}$ e $e_{max}$ são o menor e maior valores do intervalo. O código a seguir faz exatamente isso:"
   ]
  },
  {
   "cell_type": "code",
   "execution_count": 22,
   "id": "6b7c482f",
   "metadata": {
    "ExecuteTime": {
     "end_time": "2025-01-10T14:14:34.903535Z",
     "start_time": "2025-01-10T14:14:34.896124Z"
    }
   },
   "outputs": [
    {
     "name": "stdout",
     "output_type": "stream",
     "text": [
      "I_0 = [-1, x ]\n",
      "I_1 = [-1, 1]\n"
     ]
    }
   ],
   "source": [
    "n = 0\n",
    "for it in intervalos:\n",
    "    # Ajustando os limites conforme os intervalos\n",
    "    if it[0] + it[1] != sp.oo:\n",
    "        if a <= (it[0] + it[1]) / 2 - d:\n",
    "            l_inf = f'x - {d}'\n",
    "        else:\n",
    "            l_inf = str(a)\n",
    "    else:\n",
    "        l_inf = str(a)\n",
    "    \n",
    "    if it[0] + it[1] != sp.oo:\n",
    "        if b <= (it[0] + it[1]) / 2 - c:\n",
    "            l_sup = str(b)\n",
    "        else:\n",
    "            l_sup = f'x - {c}'\n",
    "    else:\n",
    "        l_sup = str(b)\n",
    "        \n",
    "    # Ajustando sinais de \"menos\" para \"mais\" e retirando os termos \"- 0\"\n",
    "    l_inf = l_inf.replace('- -', '+')\n",
    "    l_inf = l_inf.replace('- 0', '')\n",
    "    l_sup = l_sup.replace('- -', '+')\n",
    "    l_sup = l_sup.replace('- 0', '')\n",
    "\n",
    "    print(f'I_{n} = [{l_inf}, {l_sup}]')\n",
    "    n += 1"
   ]
  },
  {
   "cell_type": "markdown",
   "id": "2a523af4",
   "metadata": {},
   "source": [
    "###### Parte 3: Cálculo das Integrais Não Nulas"
   ]
  },
  {
   "cell_type": "code",
   "execution_count": null,
   "id": "d095525f",
   "metadata": {
    "ExecuteTime": {
     "end_time": "2025-01-10T14:05:51.610890Z",
     "start_time": "2025-01-10T14:05:51.504055Z"
    }
   },
   "outputs": [],
   "source": [
    "# Definindo as variáveis a serem usadas (necessita da biblioteca sympy)\n",
    "x, u = sp.symbols('x u')\n",
    "\n",
    "# Funções de convolução\n",
    "f_u = 1\n",
    "g_x_u = sp.exp(-(x-u))\n",
    "# Calculando as integrais\n",
    "integral_1 = sp.integrate(f_u*g_x_u, (u, -1, x))\n",
    "integral_2 = sp.integrate(f_u*g_x_u, (u, -1, 1))\n",
    "\n",
    "# Impressão das funções não nulas\n",
    "print(sp.simplify(integral_1))\n",
    "print(sp.simplify(integral_2))"
   ]
  },
  {
   "cell_type": "code",
   "execution_count": null,
   "id": "9c1c2c7d",
   "metadata": {},
   "outputs": [],
   "source": []
  }
 ],
 "metadata": {
  "kernelspec": {
   "display_name": "Python 3 (ipykernel)",
   "language": "python",
   "name": "python3"
  },
  "language_info": {
   "codemirror_mode": {
    "name": "ipython",
    "version": 3
   },
   "file_extension": ".py",
   "mimetype": "text/x-python",
   "name": "python",
   "nbconvert_exporter": "python",
   "pygments_lexer": "ipython3",
   "version": "3.11.5"
  },
  "varInspector": {
   "cols": {
    "lenName": 16,
    "lenType": 16,
    "lenVar": 40
   },
   "kernels_config": {
    "python": {
     "delete_cmd_postfix": "",
     "delete_cmd_prefix": "del ",
     "library": "var_list.py",
     "varRefreshCmd": "print(var_dic_list())"
    },
    "r": {
     "delete_cmd_postfix": ") ",
     "delete_cmd_prefix": "rm(",
     "library": "var_list.r",
     "varRefreshCmd": "cat(var_dic_list()) "
    }
   },
   "types_to_exclude": [
    "module",
    "function",
    "builtin_function_or_method",
    "instance",
    "_Feature"
   ],
   "window_display": false
  }
 },
 "nbformat": 4,
 "nbformat_minor": 5
}

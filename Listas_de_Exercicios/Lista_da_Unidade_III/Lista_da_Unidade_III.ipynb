{
 "cells": [
  {
   "cell_type": "markdown",
   "id": "c153e677",
   "metadata": {},
   "source": [
    "<center> <img src=\"logo_ifba.jpg\" alt=\"jpg_python\" width=\"100\" height=\"200\"> </center>\n",
    "<br><br>\n",
    "<div align=\"center\"><span style=\"font-size: 26px;\"><strong>Métodos Matemáticos Para Engenharia <br></strong></span></div> <br>\n",
    "<center> <img src=\"python_gif.gif\" alt=\"gif_python\" width=\"80\"> </center>"
   ]
  },
  {
   "cell_type": "markdown",
   "id": "6bb86954",
   "metadata": {},
   "source": [
    "# Lista da Unidade III"
   ]
  },
  {
   "cell_type": "markdown",
   "id": "eb36a548",
   "metadata": {},
   "source": [
    "Seguem as soluções escritas e computacionais da Lista da Unidade III."
   ]
  },
  {
   "cell_type": "markdown",
   "id": "d4ee7473",
   "metadata": {},
   "source": [
    "#### Questão 1"
   ]
  },
  {
   "cell_type": "markdown",
   "id": "ef3a4c3c",
   "metadata": {},
   "source": [
    "Considere as funções\n",
    "\n",
    "$$f(x) = \\left\\{ \\begin{array}{cc}\n",
    "\\frac{1}{x^{2}+1}, &  x < 0 \\\\\n",
    "2x, &  0\\leq x < 2 \\\\\n",
    "\\frac{8}{x}, & x \\geq 2\\end{array}\\right. \\ \\ \\ \\ \\text{e} \\ \\ \\ \\ \n",
    "g(x) = \\left\\{ \\begin{array}{cc}\n",
    "0, &  x < 0 \\\\\n",
    "e^{-x}, &  x \\geq 0 \\\\\n",
    "\\end{array}\\right.$$\n",
    "\n",
    "Sendo $\\delta(x-a)$ a função Delta de Dirac. Nessas condições determine:\n",
    "\n",
    "a) $\\int_{-\\infty}^{\\infty}\\delta(x-1)f(x) dx$\n",
    "\n",
    "b) $\\int_{-\\infty}^{\\infty}\\delta(x-3)f(x)g(x)dx$"
   ]
  },
  {
   "cell_type": "markdown",
   "id": "9f22ef96",
   "metadata": {},
   "source": [
    "##### Solução Escrita"
   ]
  },
  {
   "cell_type": "markdown",
   "id": "bd81c1fa",
   "metadata": {},
   "source": [
    "a) Usando o **Teorema da Filtragem**:\n",
    "\n",
    "$$\\int_{-\\infty}^{\\infty} \\delta(x-a)f(x)dx = f(a)$$\n",
    "\n",
    "temos:\n",
    "\n",
    "$$\\int_{-\\infty}^{\\infty} \\delta(x-1)f(x)dx = f(1) = 2\\cdot1 = \\boxed{2}$$\n",
    "\n",
    "b) Analogamente ao item \"a\", temos:\n",
    "\n",
    "$$\\int_{-\\infty}^{\\infty} \\delta(x-a)(f(x)g(x))dx = f(a)g(a)$$\n",
    "\n",
    "uma vez que $f(x)g(x)$ é uma função. Assim,\n",
    "\n",
    "$$\\int_{-\\infty}^{\\infty} \\delta(x-3)(f(x)g(x))dx = f(3)g(3) = \\frac{8}{3}e^{-3} = \\boxed{\\frac{8e^{-3}}{3}}$$"
   ]
  },
  {
   "cell_type": "markdown",
   "id": "36944630",
   "metadata": {},
   "source": [
    "##### Solução Computacional"
   ]
  },
  {
   "cell_type": "code",
   "execution_count": null,
   "id": "08de7098",
   "metadata": {
    "ExecuteTime": {
     "end_time": "2025-01-14T13:14:31.265749Z",
     "start_time": "2025-01-14T13:14:31.227151Z"
    }
   },
   "outputs": [],
   "source": [
    "# Item \"a\"\n",
    "import sympy as sp\n",
    "\n",
    "# Definição das variáveis\n",
    "x = sp.symbols('x')\n",
    "delta = sp.DiracDelta(x - 1)\n",
    "\n",
    "# Definição da função por partes\n",
    "f = sp.Piecewise(\n",
    "    (1/(x**2+1), x < 0),\n",
    "    (2*x, (x >= 0) & (x < 2)),\n",
    "    (8/x, x > 2)\n",
    ")\n",
    "\n",
    "# Integral simbólica\n",
    "integral = sp.integrate(delta * f, (x, -sp.oo, sp.oo))\n",
    "print(f\"Resultado da integral: {integral}\")"
   ]
  },
  {
   "cell_type": "code",
   "execution_count": null,
   "id": "58586630",
   "metadata": {
    "ExecuteTime": {
     "end_time": "2025-01-14T13:16:25.204132Z",
     "start_time": "2025-01-14T13:16:25.155177Z"
    }
   },
   "outputs": [],
   "source": [
    "# Item \"a\"\n",
    "import sympy as sp\n",
    "\n",
    "# Definição das variáveis\n",
    "x = sp.symbols('x')\n",
    "delta = sp.DiracDelta(x - 3)\n",
    "\n",
    "# Definição da função por partes\n",
    "f = sp.Piecewise(\n",
    "    (1/(x**2+1), x < 0),\n",
    "    (2*x, (x >= 0) & (x < 2)),\n",
    "    (8/x, x > 2)\n",
    ")\n",
    "\n",
    "g = sp.Piecewise(\n",
    "    (0, x < 0),\n",
    "    (sp.exp(-x), x>=0)\n",
    ")\n",
    "\n",
    "# Integral simbólica\n",
    "integral = sp.integrate(delta * f * g, (x, -sp.oo, sp.oo))\n",
    "print(f\"Resultado da integral: {integral}\")"
   ]
  },
  {
   "cell_type": "markdown",
   "id": "0674f37d",
   "metadata": {},
   "source": [
    "#### Questão 2"
   ]
  },
  {
   "cell_type": "markdown",
   "id": "24735913",
   "metadata": {},
   "source": [
    "Determine as matrizes $F_{6}$ e $F_{8}$ conforme apresentado no **Capítulo 5$**."
   ]
  },
  {
   "cell_type": "markdown",
   "id": "7139ad14",
   "metadata": {},
   "source": [
    "##### Solução Escrita"
   ]
  },
  {
   "cell_type": "markdown",
   "id": "91fe65ee",
   "metadata": {},
   "source": [
    "$F_{6}$: Temos que\n",
    "\n",
    "$$F_{6} = \\begin{bmatrix}{}\n",
    "1 & 1 & 1 & 1 & 1 & 1\\\\\n",
    "1 & \\omega_{6} & \\omega_{6}^{2} & \\omega_{6}^{3} & \\omega_{6}^{4} & \\omega_{6}^{5}\\\\\n",
    "1 & \\omega_{6}^{2} & \\omega_{6}^{4} & \\omega_{6}^{6} & \\omega_{6}^{8} & \\omega_{6}^{10}\\\\\n",
    "1 & \\omega_{6}^{3} & \\omega_{6}^{6} & \\omega_{6}^{9} & \\omega_{6}^{12} & \\omega_{6}^{15}\\\\\n",
    "1 & \\omega_{6}^{4} & \\omega_{6}^{8} & \\omega_{6}^{12} & \\omega_{6}^{16} & \\omega_{6}^{20}\\\\\n",
    "1 & \\omega_{6}^{5} & \\omega_{6}^{10} & \\omega_{6}^{15} & \\omega_{6}^{20} & \\omega_{6}^{25}\\\\\n",
    "\\end{bmatrix}$$\n",
    "\n",
    "em que $\\omega_{6}^{k} = e^{\\frac{-ki2\\pi}{6}}$. Necessitamos dos cálculos de $\\omega_{6}^{k}$ para $k = 1,2,3,4$ e $5$ uma vez que as demais potências de $\\omega_{6}$ são iguais a algumas delas. Pois bem,\n",
    "\n",
    "i) $\\omega_{6} = e^{-\\frac{i2\\pi}{6}} = e^{\\frac{-i\\pi}{3}} = cos\\left(\\frac{-\\pi}{3}\\right) + isen\\left(\\frac{-\\pi}{3}\\right) = \\frac{1}{2} - i\\frac{\\sqrt{3}}{2}$\n",
    "\n",
    "ii) $\\omega_{6}^{2} = e^{-\\frac{2i2\\pi}{6}} =e^{-\\frac{-2i\\pi}{3}} = -\\frac{1}{2} - i\\frac{\\sqrt{3}}{2}$\n",
    "\n",
    "iii) $\\omega_{6}^{3} = e^{-\\frac{3i2\\pi}{6}} =e^{-i\\pi} = -1$\n",
    "\n",
    "iv) $\\omega_{6}^{4} = e^{-\\frac{4i2\\pi}{6}} =e^{-\\frac{-4i\\pi}{3}} = -\\frac{1}{2} + i\\frac{\\sqrt{3}}{2}$\n",
    "\n",
    "v) $\\omega_{6}^{5} = e^{-\\frac{5i2\\pi}{6}} =e^{-\\frac{-5i\\pi}{3}} = \\frac{1}{2} + i\\frac{\\sqrt{3}}{2}$\n",
    "\n",
    "vi) $\\omega_{6}^{6} = e^{-\\frac{6i2\\pi}{6}} =e^{-2i\\pi} = 1$\n",
    "\n",
    "Note por exemplo que, $\\omega_{6}^{7} = \\omega_{6}^{6}\\omega_{6}^{1} = \\omega_{6}^{1}$ e $\\omega_{6}^{15} = \\omega_{6}^{12}\\omega_{6}^{3} = \\left(\\omega_{6}^{6}\\right)^{2}\\omega_{6}^{3} = \\omega_{6}^{3}$ etc.\n",
    "\n",
    "Assim, temos:\n",
    "\n",
    "$$F_{6} = \\left[\\begin{array}{cccccc}\n",
    "1 & 1 & 1 & 1 & 1 & 1 \\\\\n",
    "1 & \\frac{1}{2} - \\frac{\\sqrt{3}}{2} & -\\frac{1}{2} - \\frac{\\sqrt{3}}{2} & -1 & -\\frac{1}{2} + \\frac{\\sqrt{3}}{2} & \\frac{1}{2} + \\frac{\\sqrt{3}}{2} \\\\\n",
    "1 & -\\frac{1}{2} - \\frac{\\sqrt{3}}{2} & -\\frac{1}{2} + \\frac{\\sqrt{3}}{2} & 1 & -\\frac{1}{2} - \\frac{\\sqrt{3}}{2} & -\\frac{1}{2} + \\frac{\\sqrt{3}}{2} \\\\\n",
    "1 & -1 & 1 & -1 & 1 & -1 \\\\\n",
    "1 & -\\frac{1}{2} + \\frac{\\sqrt{3}}{2} & -\\frac{1}{2} - \\frac{\\sqrt{3}}{2} & 1 & -\\frac{1}{2} + \\frac{\\sqrt{3}}{2} & -\\frac{1}{2} - \\frac{\\sqrt{3}}{2} \\\\\n",
    "1 & \\frac{1}{2} + \\frac{\\sqrt{3}}{2} & -\\frac{1}{2} - \\frac{\\sqrt{3}}{2} & -1 & -\\frac{1}{2} - \\frac{\\sqrt{3}}{2} & \\frac{1}{2} - \\frac{\\sqrt{3}}{2} \\\\\n",
    "\\end{array}\\right]$$"
   ]
  },
  {
   "cell_type": "markdown",
   "id": "c5399ee2",
   "metadata": {},
   "source": [
    "$F_{8}$: Temos que\n",
    "\n",
    "$$F_{8} = \\begin{bmatrix}{}\n",
    "1 & 1 & 1 & 1 & 1 & 1 & 1 & 1\\\\\n",
    "1 & \\omega_{8} & \\omega_{8}^{2} & \\omega_{8}^{3} & \\omega_{8}^{4} & \\omega_{8}^{5} & \\omega_{8}^{6} & \\omega_{8}^{7}\\\\\n",
    "1 & \\omega_{8}^{2} & \\omega_{8}^{4} & \\omega_{8}^{6} & \\omega_{8}^{8} & \\omega_{8}^{10} & \\omega_{8}^{12} & \\omega_{8}^{14}\\\\\n",
    "1 & \\omega_{8}^{3} & \\omega_{8}^{6} & \\omega_{8}^{9} & \\omega_{8}^{12} & \\omega_{8}^{15} & \\omega_{8}^{18} & \\omega_{8}^{21}\\\\\n",
    "1 & \\omega_{8}^{4} & \\omega_{8}^{8} & \\omega_{8}^{12} & \\omega_{8}^{16} & \\omega_{8}^{20} & \\omega_{8}^{24} & \\omega_{8}^{28}\\\\\n",
    "1 & \\omega_{8}^{5} & \\omega_{8}^{10} & \\omega_{8}^{15} & \\omega_{8}^{20} & \\omega_{8}^{25} & \\omega_{8}^{30} & \\omega_{8}^{35}\\\\\n",
    "1 & \\omega_{8}^{6} & \\omega_{8}^{12} & \\omega_{8}^{18} & \\omega_{8}^{24} & \\omega_{8}^{30} & \\omega_{8}^{36} & \\omega_{8}^{42}\\\\\n",
    "1 & \\omega_{8}^{7} & \\omega_{8}^{14} & \\omega_{8}^{21} & \\omega_{8}^{28} & \\omega_{8}^{35} & \\omega_{8}^{42} & \\omega_{8}^{49}\\\\\n",
    "\\end{bmatrix}$$\n",
    "\n",
    "em que $\\omega_{8}^{k} = e^{\\frac{-ki2\\pi}{8}}$. Necessitamos dos cálculos de $\\omega_{8}^{k}$ para $k = 1,2,3,\\ldots,8$ uma vez que as demais potências de $\\omega_{8}$ são iguais a algumas delas. Pois bem,\n",
    "\n",
    "i) $\\omega_{8} = e^{-\\frac{i2\\pi}{8}} = e^{\\frac{-i\\pi}{4}} = cos\\left(\\frac{-\\pi}{4}\\right) + isen\\left(\\frac{-\\pi}{4}\\right) = \\frac{\\sqrt{2}}{2} - i\\frac{\\sqrt{2}}{2}$\n",
    "\n",
    "ii) $\\omega_{8}^{2} = e^{\\frac{-2i2\\pi}{8}} = e^{\\frac{-i\\pi}{2}} = -i$\n",
    "\n",
    "iii) $\\omega_{8}^{3} = e^{\\frac{-3i2\\pi}{8}} = e^{\\frac{-3i\\pi}{4}} = -\\frac{\\sqrt{2}}{2} - i\\frac{\\sqrt{2}}{2}$\n",
    "\n",
    "iv) $\\omega_{8}^{4} = e^{\\frac{-4i2\\pi}{8}} = e^{-i\\pi} = -1$\n",
    "\n",
    "v) $\\omega_{8}^{5} = e^{\\frac{-5i2\\pi}{8}} = e^{\\frac{-5i\\pi}{4}} = -\\frac{\\sqrt{2}}{2} + i\\frac{\\sqrt{2}}{2}$\n",
    "\n",
    "vi) $\\omega_{8}^{6} = e^{\\frac{-6i2\\pi}{8}} = e^{\\frac{-3i\\pi}{2}} = i$\n",
    "\n",
    "vii) $\\omega_{8}^{7} = e^{\\frac{-7i2\\pi}{8}} = e^{\\frac{-7i\\pi}{4}} = \\frac{\\sqrt{2}}{2} + i\\frac{\\sqrt{2}}{2}$\n",
    "\n",
    "viii) $\\omega_{8}^{8} = e^{\\frac{-8i2\\pi}{8}} = e^{-2i\\pi} = 1$\n",
    "\n",
    "Note por exemplo que, $\\omega_{8}^{9} = \\omega_{8}^{8}\\omega_{8}^{1} = \\omega_{8}^{1}$, $\\omega_{8}^{19} = \\omega_{8}^{16}\\omega_{8}^{3} = \\left(\\omega_{8}^{8}\\right)^{2}\\omega_{8}^{3} = \\omega_{8}^{3}$ etc.\n",
    "\n",
    "Assim, temos:\n",
    "\n",
    "$$F_{8} = \\left[\\begin{array}{cccccc}\n",
    "1 & 1 & 1 & 1 & 1 & 1 & 1 & 1\\\\\n",
    "1 & \\frac{\\sqrt{2}}{2} - i\\frac{\\sqrt{2}}{2} & -i & -\\frac{\\sqrt{2}}{2} - i\\frac{\\sqrt{2}}{2} & -1 & -\\frac{\\sqrt{2}}{2} + i\\frac{\\sqrt{2}}{2}& i & \\frac{\\sqrt{2}}{2} + i\\frac{\\sqrt{2}}{2}\\\\\n",
    "1 & -i & -1 & i & 1 & -i & -1 & i\\\\\n",
    "1 & -\\frac{\\sqrt{2}}{2} - i\\frac{\\sqrt{2}}{2} & i & \\frac{\\sqrt{2}}{2} - i\\frac{\\sqrt{2}}{2} & -1 & \\frac{\\sqrt{2}}{2} + i\\frac{\\sqrt{2}}{2} & -i & -\\frac{\\sqrt{2}}{2} + i\\frac{\\sqrt{2}}{2}\\\\\n",
    "1 & -1 & 1 & -1 & 1 & -1 & 1 & -1\\\\\n",
    "1 & -\\frac{\\sqrt{2}}{2} + i\\frac{\\sqrt{2}}{2} & -i & \\frac{\\sqrt{2}}{2} + i\\frac{\\sqrt{2}}{2} & -1 & \\frac{\\sqrt{2}}{2} - i\\frac{\\sqrt{2}}{2} & i & -\\frac{\\sqrt{2}}{2} - i\\frac{\\sqrt{2}}{2}\\\\\n",
    "1 & i & -1 & -i & 1 & i & -1 & -i\\\\\n",
    "1 & \\frac{\\sqrt{2}}{2} + i\\frac{\\sqrt{2}}{2} & i & -\\frac{\\sqrt{2}}{2} + i\\frac{\\sqrt{2}}{2} & -1 & -\\frac{\\sqrt{2}}{2} - i\\frac{\\sqrt{2}}{2} & -i & \\frac{\\sqrt{2}}{2} - i\\frac{\\sqrt{2}}{2}\\\\\n",
    "\\end{array}\\right]$$"
   ]
  },
  {
   "cell_type": "markdown",
   "id": "0cfc7a30",
   "metadata": {},
   "source": [
    "##### Solução Computacional"
   ]
  },
  {
   "cell_type": "code",
   "execution_count": null,
   "id": "c38dd1a1",
   "metadata": {
    "ExecuteTime": {
     "end_time": "2025-01-14T13:28:18.004910Z",
     "start_time": "2025-01-14T13:28:17.876283Z"
    }
   },
   "outputs": [],
   "source": [
    "import numpy as np\n",
    "\n",
    "def gerar_FN(N):\n",
    "    \"\"\"Gera a matriz DFT para um dado N.\"\"\"\n",
    "    omega = np.exp(-2j * np.pi / N)  # N-ésima raiz de unidade\n",
    "    F_N = np.array([[omega**(i*j) for j in range(N)] for i in range(N)])\n",
    "    return F_N"
   ]
  },
  {
   "cell_type": "code",
   "execution_count": null,
   "id": "b1db3c85",
   "metadata": {
    "ExecuteTime": {
     "end_time": "2025-01-14T13:50:22.286388Z",
     "start_time": "2025-01-14T13:50:22.279819Z"
    }
   },
   "outputs": [],
   "source": [
    "# F6\n",
    "np.round(gerar_FN(6),1)"
   ]
  },
  {
   "cell_type": "code",
   "execution_count": null,
   "id": "0f85152c",
   "metadata": {
    "ExecuteTime": {
     "end_time": "2025-01-14T14:06:27.704152Z",
     "start_time": "2025-01-14T14:06:27.697583Z"
    }
   },
   "outputs": [],
   "source": [
    "# F8\n",
    "np.round(gerar_FN(8),1)"
   ]
  },
  {
   "cell_type": "markdown",
   "id": "4f105725",
   "metadata": {},
   "source": [
    "#### Questão 3"
   ]
  },
  {
   "cell_type": "markdown",
   "id": "d495b355",
   "metadata": {},
   "source": [
    "Considere a função $f$ tal que $f(0) = 1$, $f\\left(\\frac{\\pi}{3}\\right) = 2$, $f\\left(\\frac{2\\pi}{3}\\right) = 2$ e $f(\\pi) = 1$.\n",
    "\n",
    "a) Determine o coeficiente de Fourier $c_{1}$ da transformada discreta.\n",
    "\n",
    "b) Determine a transformada de Fourier discreta usando a transformada rápida de Fourier."
   ]
  },
  {
   "cell_type": "markdown",
   "id": "ee7685be",
   "metadata": {},
   "source": [
    "##### Solução Escrita"
   ]
  },
  {
   "cell_type": "markdown",
   "id": "a406811a",
   "metadata": {},
   "source": [
    "a) Inicialmente devemos obter a Matriz de Transformação \n",
    "\n",
    "$$F_{4} = \\begin{bmatrix}{}\n",
    "1 & 1 & 1 & 1 \\\\\n",
    "1 & \\omega_{4} & \\omega_{4}^{2} & \\omega_{4}^{3} \\\\\n",
    "1 & \\omega_{4}^{2} & \\omega_{6}^{4} & \\omega_{6}^{6}\\\\\n",
    "1 & \\omega_{4}^{3} & \\omega_{6}^{6} & \\omega_{6}^{9}\\\\\n",
    "\\end{bmatrix}$$\n",
    "\n",
    "Como necessitamos apenas de $F(2)$ basta calcularmos as potências de $\\omega_{4}$ referentes à terceira linha da matriz $F_{4}$:\n",
    "\n",
    "i) $\\omega_{4} = e^{-\\frac{i2\\pi}{4}} = e^{\\frac{-i\\pi}{2}} = cos\\left(\\frac{-\\pi}{2}\\right) + isen\\left(\\frac{-\\pi}{2}\\right) = -i$\n",
    "\n",
    "ii) $\\omega_{4}^{2} = (-i)^{2} = i^{2} = -1$\n",
    "\n",
    "iii) $\\omega_{4}^{3} = (-i)^{3} = (-i)^{2}(-i) = i$\n",
    "\n",
    "Note que\n",
    "\n",
    "$$\\begin{bmatrix}{}\n",
    "c_{0} \\\\\n",
    "c_{1} \\\\\n",
    "c_{2} \\\\\n",
    "\\vdots \\\\\n",
    "c_{N-1} \\\\\n",
    "\\end{bmatrix} = \n",
    "\\frac{1}{N}\\overline{F}_{N}\n",
    "\\begin{bmatrix}{}\n",
    "f_{0} \\\\\n",
    "f_{1} \\\\\n",
    "f_{2} \\\\\n",
    "\\vdots \\\\\n",
    "f_{N-1} \\\\\n",
    "\\end{bmatrix}$$\n",
    "\n",
    "donde segue que\n",
    "\n",
    "$$c_{1} = \\frac{1}{4}[\\overline{1}, \\overline{\\omega_{4}}, \\overline{\\omega_{4}^{2}}, \\overline{\\omega_{4}^{3}}]\\cdot[f_{0},f_{1},f_{2},f_{3}]^{T} = $$\n",
    "\n",
    "$$ = \\frac{1}{4}\\left[\\overline{1},\\overline{-i},\\overline{-1},\\overline{i}\\right]\\cdot[1,2,2,1]^{T} = \\frac{1}{4}\\left[1,i,-1,-i\\right]\\cdot[1,2,2,1]^{T} =$$\n",
    "$$=\\frac{1}{4}\\left(1\\cdot 1 + i\\cdot 2 + (-1)\\cdot 2 + (-i)\\cdot 1 \\right) =\\frac{1}{4}(1+2i-2-i) = \\frac{1}{4}(-1 + i) = -\\frac{1}{4}+i\\frac{1}{4}$$"
   ]
  },
  {
   "cell_type": "markdown",
   "id": "eab4ac8f",
   "metadata": {},
   "source": [
    "b) Temos o seguinte esquema, considerando o Algoritmo de Cooley e Tukey ($N = 4$):<br><br>\n",
    "\n",
    "<center> <img src=\"fig1.jpg\" alt=\"jpg_python\" width=\"600\" height=\"\"> </center>"
   ]
  },
  {
   "cell_type": "markdown",
   "id": "5a7c993c",
   "metadata": {},
   "source": [
    "##### Solução Computacional"
   ]
  },
  {
   "cell_type": "code",
   "execution_count": null,
   "id": "84bd7870",
   "metadata": {
    "ExecuteTime": {
     "end_time": "2025-01-14T23:37:41.985500Z",
     "start_time": "2025-01-14T23:37:41.978826Z"
    }
   },
   "outputs": [],
   "source": [
    "# Item \"a\"\n",
    "\n",
    "import numpy as np\n",
    "\n",
    "def gerar_FN(N):\n",
    "    \"\"\"Gera a matriz DFT para um dado N.\"\"\"\n",
    "    omega = np.exp(-2j * np.pi / N)  # N-ésima raiz de unidade\n",
    "    FN = np.array([[omega**(k*j) for j in range(N)] for k in range(N)])\n",
    "    return FN\n",
    "\n",
    "# Valores da função em nT, n = 0, 1, 2, 3\n",
    "f = np.array([1, 2, 2, 1])\n",
    "N = len(f)\n",
    "n=1\n",
    "\n",
    "FN_conjugada = gerar_FN(4).conjugate()\n",
    "coef = FN_conjugada@f/N\n",
    "\n",
    "print(\"Coeficientes:\", np.round(coef[n],10))"
   ]
  },
  {
   "cell_type": "code",
   "execution_count": null,
   "id": "96f9739b",
   "metadata": {
    "ExecuteTime": {
     "end_time": "2025-01-14T23:46:13.409496Z",
     "start_time": "2025-01-14T23:46:13.402878Z"
    }
   },
   "outputs": [],
   "source": [
    "# Item b\n",
    "\n",
    "import numpy as np\n",
    "\n",
    "# Dados\n",
    "f = np.array([1, 2, 2, 1])\n",
    "\n",
    "# Usando a FFT para calcular a Transformada de Fourier\n",
    "fft = np.fft.fft(f)\n",
    "\n",
    "# Mostrando a FFT e os coeficientes normalizados\n",
    "print(f\"FFT de f: {fft} \\n\")"
   ]
  },
  {
   "cell_type": "markdown",
   "id": "0f3b4938",
   "metadata": {},
   "source": [
    "#### Questão 4"
   ]
  },
  {
   "cell_type": "markdown",
   "id": "8c145874",
   "metadata": {},
   "source": [
    "Calcule a transformada rápida de Fourier para uma função $f$ tal que $f_{0} = 0$, $f_{1} = 2$, $f_{2} = 4$, $f_{3} = 6$, $f_{4} = 8$, $f_{5} = 10$, $f_{6} = 12$, $f_{7} = 14$ em que $f_{i} = f\\left(i\\frac{\\pi}{4}\\right)$, $i = 0,1,2,\\ldots,7$."
   ]
  },
  {
   "cell_type": "markdown",
   "id": "a5d8b643",
   "metadata": {},
   "source": [
    "##### Solução Escrita"
   ]
  },
  {
   "cell_type": "markdown",
   "id": "505130cc",
   "metadata": {},
   "source": [
    "Temos que:\n",
    "\n",
    "- $\\omega_8^0 = e^{-\\frac{2\\pi i \\cdot 0}{8}} = cos(0) + isen(0)$\n",
    "\n",
    "- $\\omega_8^1 = e^{-\\frac{2\\pi i \\cdot 1}{8}} = cos\\left(-\\frac{\\pi}{4}\\right) + isen\\left(-\\frac{\\pi}{4}\\right) =\\frac{\\sqrt{2}}{2} - i\\frac{\\sqrt{2}}{2}$\n",
    "\n",
    "- $\\omega_8^2 = e^{-\\frac{2\\pi i \\cdot 2}{8}} = cos\\left(-\\frac{\\pi}{2}\\right) + isen\\left(-\\frac{\\pi}{2}\\right) = -i$\n",
    "  \n",
    "- $\\omega_8^3 = e^{-\\frac{2\\pi i \\cdot 3}{8}} = cos\\left(-\\frac{3\\pi}{4}\\right) + isen\\left(-\\frac{3\\pi}{4}\\right) = -\\frac{\\sqrt{2}}{2} - i\\frac{\\sqrt{2}}{2}$\n",
    "\n",
    " Temos o seguinte esquema, considerando o Algoritmo de Cooley e Tukey ($N = 8$):<br><br>\n",
    "\n",
    "<center> <img src=\"fig2.jpg\" alt=\"jpg_python\" width=\"800\" height=\"\"> </center>"
   ]
  },
  {
   "cell_type": "markdown",
   "id": "3df5ba5f",
   "metadata": {},
   "source": [
    "##### Solução Computacional"
   ]
  },
  {
   "cell_type": "code",
   "execution_count": null,
   "id": "bd55076c",
   "metadata": {
    "ExecuteTime": {
     "end_time": "2025-01-15T21:43:53.661634Z",
     "start_time": "2025-01-15T21:43:53.656088Z"
    }
   },
   "outputs": [],
   "source": [
    "import numpy as np\n",
    "\n",
    "# Dados\n",
    "f = np.array([-4,-3,-2,-1,1,2,3,4])\n",
    "\n",
    "# Usando a FFT para calcular a Transformada de Fourier\n",
    "fft = np.fft.fft(f)\n",
    "\n",
    "# Mostrando a FFT e os coeficientes normalizados\n",
    "print(f\"FFT de f: {np.round(fft,3)} \\n\")"
   ]
  },
  {
   "cell_type": "markdown",
   "id": "3df427a0",
   "metadata": {},
   "source": [
    "#### Questão 5"
   ]
  },
  {
   "cell_type": "markdown",
   "id": "73c4c955",
   "metadata": {},
   "source": [
    "Classifique as equações diferenciais em lineares, não lineares, determine a ordem e nomeie as variáveis dependentes e independentes.\n",
    "\n",
    "a) $\\frac{\\partial u}{\\partial t} = 4\\frac{\\partial^{2} u}{\\partial t^{2}}$\n",
    "\n",
    "b) $x^{2}\\frac{\\partial^{3} R}{\\partial y^{3}} = y^{3}\\frac{\\partial^{2} R}{\\partial x^{2}}$\n",
    "\n",
    "c) $W\\frac{\\partial^{2} W}{\\partial r^{2}} = rst$\n",
    "\n",
    "d) $\\frac{\\partial^{2} \\phi}{\\partial x^{2}} + \\frac{\\partial^{2} \\phi}{\\partial y^{2}} + \\frac{\\partial^{2} \\phi}{\\partial z^{2}} = 0$\n",
    "\n",
    "e) $\\left(\\frac{\\partial z}{\\partial u}\\right)^{2} + \\left(\\frac{\\partial z}{\\partial v}\\right)^{2} = 1$"
   ]
  },
  {
   "cell_type": "markdown",
   "id": "47cc129a",
   "metadata": {
    "ExecuteTime": {
     "end_time": "2025-01-15T14:12:18.421646Z",
     "start_time": "2025-01-15T14:12:18.417808Z"
    }
   },
   "source": [
    "##### Solução Escrita"
   ]
  },
  {
   "cell_type": "markdown",
   "id": "b72e7c22",
   "metadata": {},
   "source": [
    "a) linear; ordem $2$; variáveis dependentes: $u$, independentes: $x,t$\n",
    "\n",
    "b) linear; ordem $3$; variáveis dependentes: $R$, independentes: $x,y$\n",
    "\n",
    "c) não linear; ordem $2$; variáveis dependentes: $W$, independentes: $r,s,t$\n",
    "\n",
    "d) linear; ordem $2$; variáveis dependentes: $\\phi$, independentes: $x,y,z$\n",
    "\n",
    "e) não linear; ordem $1$; variáveis dependentes: $z$, independentes: $x,u$"
   ]
  },
  {
   "cell_type": "markdown",
   "id": "a4cc1ed5",
   "metadata": {},
   "source": [
    "##### Solução Computacional"
   ]
  },
  {
   "cell_type": "markdown",
   "id": "63becd2b",
   "metadata": {},
   "source": [
    "Não satisfatória para um problema tão simples. Assim que tivermos um código simples atualizaremos o material."
   ]
  },
  {
   "cell_type": "markdown",
   "id": "ae522056",
   "metadata": {},
   "source": [
    "#### Questão 6"
   ]
  },
  {
   "cell_type": "markdown",
   "id": "37911bc0",
   "metadata": {},
   "source": [
    "Classifique cada uma das seguintes equações em elíptica, hiperbólica ou parabólica.\n",
    "\n",
    "a) $\\frac{\\partial^{2} \\phi}{\\partial x^{2}} + \\frac{\\partial^{2} \\phi}{\\partial y^{2}} = 0$\n",
    "\n",
    "b) $\\frac{\\partial u}{\\partial t} = \\kappa\\frac{\\partial^{2} u}{\\partial x^{2}} $\n",
    "\n",
    "c) $\\frac{\\partial^{2} y}{\\partial t^{2}} = a^{2}\\frac{\\partial^{2} y}{\\partial x^{2}}$\n",
    "\n",
    "d) $\\frac{\\partial^{2} u}{\\partial x^{2}} + 3\\frac{\\partial^{2} u}{\\partial x \\partial y} + 4\\frac{\\partial^{2} u}{\\partial y^{2}} + 5\\frac{\\partial u}{\\partial x} - 2\\frac{\\partial u}{\\partial y} + 4u = 2x - 3y$\n",
    "\n",
    "e) $x\\frac{\\partial^{2} u}{\\partial x^{2}} + y\\frac{\\partial^{2} u}{\\partial y^{2}} + 3y^{2}\\frac{\\partial u}{\\partial x} = 0$"
   ]
  },
  {
   "cell_type": "markdown",
   "id": "358ea1ce",
   "metadata": {},
   "source": [
    "##### Solução Escrita"
   ]
  },
  {
   "cell_type": "markdown",
   "id": "ff14fa58",
   "metadata": {},
   "source": [
    "a) $A = 1, B = 0, C = 1 \\Rightarrow B^{2}-4AC = 0^{2} - 4\\cdot1\\cdot1 = -4 < 0 \\Rightarrow $ equação elíptica.\n",
    "\n",
    "b) $A = \\kappa, B = 0, C = 0 \\Rightarrow B^{2}-4AC = 0^{2} - 4\\cdot1\\cdot0 = 0 \\Rightarrow $ equação parabólica.\n",
    "\n",
    "c) $A = a^{2}, B = 0, C = -1 \\Rightarrow B^{2}-4AC = 0^{2} - 4\\cdot a^{2}\\cdot(-1) = 4a^{2} > 0 \\Rightarrow $ equação hiperbólica.\n",
    "\n",
    "d) $A = 1, B = 3, C = 4 \\Rightarrow B^{2}-4AC = 3^{2} - 4\\cdot 1\\cdot4 = 9- 16 = -7 < 0 \\Rightarrow $ equação elíptica.\n",
    "\n",
    "e) $A = x, B = 0, C = y \\Rightarrow B^{2}-4AC = 0^{2} - 4\\cdot x\\cdot y = -4xy$. Nesse caso, temos que, a equação será elíptica na região $xy>0$, será hiperbólica na região $xy<0$ e será parabólica caso $xy = 0$."
   ]
  },
  {
   "cell_type": "markdown",
   "id": "b8394f9c",
   "metadata": {},
   "source": [
    "##### Solução Computacional"
   ]
  },
  {
   "cell_type": "markdown",
   "id": "b6a4a1a1",
   "metadata": {},
   "source": [
    "Não satisfatória para um problema tão simples. Assim que tivermos um código simples atualizaremos o material."
   ]
  },
  {
   "cell_type": "markdown",
   "id": "1a73e6d8",
   "metadata": {},
   "source": [
    "#### Questão 7"
   ]
  },
  {
   "cell_type": "markdown",
   "id": "d298eadd",
   "metadata": {},
   "source": [
    "Considere a equação diferencial \n",
    "\n",
    "$$4\\frac{\\partial^{2} y}{\\partial t^{2}} = 25\\frac{\\partial^{2} y}{\\partial x^{2}}. \\tag{1}$$\n",
    "\n",
    "a) Mostre que $y(x,t) = F(2x + 5t) + G(2x-5t)$ é a solução geral de $(1)$.\n",
    "\n",
    "b) Mostre que $y(x,t) =  sen(2x)cos(5t)$ é uma solução de $(1)$."
   ]
  },
  {
   "cell_type": "markdown",
   "id": "8bd156d3",
   "metadata": {},
   "source": [
    "##### Solução Escrita"
   ]
  },
  {
   "cell_type": "markdown",
   "id": "4de13b7a",
   "metadata": {},
   "source": [
    "a) Seja $2x + 5t = u$, $2x-5t = v$. Dessa forma, temos que $y = F(u) + G(v)$. Assim,\n",
    "\n",
    "$$\\frac{\\partial y}{\\partial t} = \\frac{\\partial F}{\\partial u}\\frac{\\partial u}{\\partial t} + \\frac{\\partial G}{\\partial v}\\frac{\\partial v}{\\partial t} = F'(u)\\cdot5 + G'(v)\\cdot(-5) = 5F'(u)-5G'(v)$$\n",
    "\n",
    "$$\\frac{\\partial^{2} y}{\\partial t^{2}} = \\frac{\\partial }{\\partial t}(5F'(u) - 5G'(v)) = 5\\frac{\\partial F'}{\\partial u}\\frac{\\partial u}{\\partial t} - 5\\frac{\\partial G'}{\\partial u}\\frac{\\partial u}{\\partial t} = 25F''(u) + 25G''(v)$$\n",
    "\n",
    "$$\\frac{\\partial y}{\\partial x} = \\frac{\\partial F}{\\partial u}\\frac{\\partial u}{\\partial x} + \\frac{\\partial G}{\\partial v}\\frac{\\partial v}{\\partial x} = F'(u)\\cdot2 + G'(v)\\cdot2 = 2F'(u) + 2G'(v)$$\n",
    "\n",
    "$$\\frac{\\partial^{2} y}{\\partial x^{2}} = \\frac{\\partial }{\\partial t}(2F'(u) + 2G'(v)) = 2\\frac{\\partial F'}{\\partial u}\\frac{\\partial u}{\\partial x} + 2\\frac{\\partial G'}{\\partial u}\\frac{\\partial u}{\\partial x} = 4F''(u) + 4G''(v)$$\n",
    "\n",
    "Note que\n",
    "\n",
    "$$4\\frac{\\partial^{2} y}{\\partial t^{2}} - 25\\frac{\\partial^{2} y}{\\partial x^{2}} = 4(25F''(u) + 25G''(v)) - 25(4F''(u) + 4G''(v)) = 0$$\n",
    "\n",
    "Portanto, $y(x,t) = F(2x + 5t) + G(2x-5t)$ é a solução geral de $(1)$."
   ]
  },
  {
   "cell_type": "markdown",
   "id": "e9397873",
   "metadata": {},
   "source": [
    "b) Basta calcularmos as duas derivadas parciais de segunda ordem:\n",
    "\n",
    "$$\\frac{\\partial y}{\\partial t} = \\frac{\\partial(sen(2x)cos(5t))}{\\partial t} = -5sen(2x)sen(5t) \\Rightarrow  \\frac{\\partial^{2} y}{\\partial t^{2}} = -25sen(2x)cos(5t)$$\n",
    "\n",
    "$$\\frac{\\partial y}{\\partial x} = \\frac{\\partial(sen(2x)cos(5t))}{\\partial x} = 2cos(2x)cos(5t) \\Rightarrow  \\frac{\\partial^{2} y}{\\partial x^{2}}  = -4sen(2x)cos(5t)$$\n",
    "\n",
    "Assim, temos que\n",
    "\n",
    "$$4\\frac{\\partial^{2}y}{\\partial t^{2}} - 25 \\frac{\\partial^{2}y}{\\partial x^{2}} = 4(-25sen(2x)cos(5t)) - 25(-4sen(2x)cos(5t)) = -100sen(2x)cos(5t) + 100sen(2x)cos(5t) = 0$$\n",
    "\n",
    "Portanto, $y(x,t) = sen(2x)cos(5t)$ é uma solução particular da equação diferencial parcial $4\\frac{\\partial^{2}y}{\\partial t^{2}} = 25 \\frac{\\partial^{2}y}{\\partial x^{2}}$."
   ]
  },
  {
   "cell_type": "markdown",
   "id": "36864cc7",
   "metadata": {},
   "source": [
    "##### Solução Computacional"
   ]
  },
  {
   "cell_type": "code",
   "execution_count": null,
   "id": "10d9d78a",
   "metadata": {
    "ExecuteTime": {
     "end_time": "2025-01-15T22:39:36.714558Z",
     "start_time": "2025-01-15T22:39:36.692949Z"
    }
   },
   "outputs": [],
   "source": [
    "import sympy as sp\n",
    "\n",
    "# Definindo as variáveis independentes\n",
    "x, t = sp.symbols('x t')\n",
    "\n",
    "# Parte (a) - y(x,t) = F(2x + 5t) + G(2x - 5t)\n",
    "F = sp.Function('F')(2*x + 5*t)\n",
    "G = sp.Function('G')(2*x - 5*t)\n",
    "\n",
    "# Definindo y(x,t)\n",
    "y = F + G\n",
    "\n",
    "# Derivadas de y em relação a t e x\n",
    "y_t2 = sp.diff(y, t, 2)\n",
    "y_x2 = sp.diff(y, x, 2)\n",
    "\n",
    "\n",
    "# Equação dada: 4 ∂²y/∂t² = 25 ∂²y/∂x²\n",
    "eq_a = sp.Eq(4 * y_t2, 25 * y_x2)\n",
    "\n",
    "# Mostrar o resultado da verificação\n",
    "print(\"a) Verificação da solução geral:\")\n",
    "print(f\"y(x,t) = F(2x + 5t) + G(2x - 5t) => 4∂²y/∂t² = 25∂²y/∂x²\")\n",
    "print(f\"Resultado da verificação: {eq_a}\\n\")\n",
    "\n",
    "\n",
    "# Parte (b) - y(x,t) = sin(2x)cos(5t)\n",
    "y_b = sp.sin(2*x) * sp.cos(5*t)\n",
    "\n",
    "# Derivadas de y_b em relação a t e x\n",
    "y_b_t2 = sp.diff(y_b, t, 2)\n",
    "y_b_x2 = sp.diff(y_b, x, 2)\n",
    "\n",
    "# Equação dada: 4 ∂²y/∂t² = 25 ∂²y/∂x²\n",
    "eq_b = sp.Eq(4 * y_b_t2, 25 * y_b_x2)\n",
    "\n",
    "# Mostrar o resultado da verificação\n",
    "print(\"b) Verificação da solução particular y(x,t) = sin(2x)cos(5t):\")\n",
    "print(f\"y(x,t) = sin(2x)cos(5t) => 4∂²y/∂t² = 25∂²y/∂x²\")\n",
    "print(f\"Resultado da verificação: {eq_b}\\n\")\n"
   ]
  },
  {
   "cell_type": "markdown",
   "id": "33f5dec3",
   "metadata": {},
   "source": [
    "#### Questão 8"
   ]
  },
  {
   "cell_type": "markdown",
   "id": "cb107b68",
   "metadata": {},
   "source": [
    "Aplique o método de separação de variáveis às EDPs:\n",
    "\n",
    "a) $3\\frac{\\partial u}{\\partial x} + 2\\frac{\\partial u}{\\partial y} = 0$\n",
    "\n",
    "b) $\\frac{\\partial u}{\\partial x} - \\frac{\\partial u}{\\partial y} = 2u$\n",
    "\n",
    "c) $\\frac{\\partial u}{\\partial y} = 2\\frac{\\partial^{2} u}{\\partial x^{2}}$"
   ]
  },
  {
   "cell_type": "markdown",
   "id": "74885216",
   "metadata": {},
   "source": [
    "##### Solução Escrita"
   ]
  },
  {
   "cell_type": "markdown",
   "id": "ef320f38",
   "metadata": {},
   "source": [
    "a) Considerando a equação diferencial parcial separável\n",
    "\n",
    "$$3\\frac{\\partial u}{\\partial x} + 2\\frac{\\partial u}{\\partial y} = 0$$\n",
    "\n",
    "podemos recorrer à mudança de variável \n",
    "$$\\frac{\\partial u}{\\partial x} = X'Y \\ \\ \\text{e} \\ \\ \\frac{\\partial u}{\\partial y} = XY'$$\n",
    "\n",
    "Nesse caso,\n",
    "\n",
    "$$3\\frac{\\partial u}{\\partial x} + 2\\frac{\\partial u}{\\partial y} = 0 \\Rightarrow 3\\frac{X'}{X} + 2\\frac{Y'}{Y} = 0 \\Rightarrow 3\\frac{X'}{X} = -2\\frac{Y'}{Y} = \\lambda$$\n",
    "\n",
    "Pois bem,\n",
    "\n",
    "$$3\\frac{X'}{X} = \\lambda \\Rightarrow X' = \\frac{\\lambda}{3}X \\Rightarrow \\frac{dX}{dx} = \\frac{\\lambda}{3} X \\Rightarrow \\frac{dX}{X} = \\frac{\\lambda}{3} dx \\Rightarrow ln|X| =$$\n",
    "\n",
    "$$=\\frac{\\lambda}{3} x + k_{1} \\Rightarrow X = e^{\\frac{\\lambda}{3} x + k_{1}} \\Rightarrow X = e^{\\frac{\\lambda}{3} x}e^{k_{1}} = C_{1}e^{\\frac{\\lambda}{3} x}$$\n",
    "\n",
    "$$\\frac{-2Y'}{Y} = \\lambda \\Rightarrow -2Y' = \\lambda Y \\Rightarrow \\frac{dY}{dy} = -\\frac{\\lambda}{2} Y \\Rightarrow \\frac{dY}{Y} = -\\frac{\\lambda}{2} dy \\Rightarrow ln|Y| =$$\n",
    "\n",
    "$$=-\\frac{\\lambda}{2} y + k_{2} \\Rightarrow Y = e^{-\\frac{\\lambda}{2} y + k_{2}} \\Rightarrow Y = e^{-\\frac{\\lambda}{2} y}e^{k_{2}} = C_{2}e^{-\\frac{\\lambda}{2}y}$$\n",
    "\n",
    "A solução é dada por:\n",
    "\n",
    "$$u(x,y) = X(x)Y(y) = C_{1}e^{\\frac{\\lambda}{3} x}C_{2}e^{-\\frac{\\lambda}{2} y} = C_{1}C_{2}e^{\\lambda\\left(\\frac{x}{3} - \\frac{y}{2}\\right)} \\Rightarrow u(x,y) = \\boxed{Ke^{\\lambda\\left(\\frac{x}{3} - \\frac{y}{2}\\right)}}$$"
   ]
  },
  {
   "cell_type": "markdown",
   "id": "c565187a",
   "metadata": {},
   "source": [
    "b) Considerando a equação diferencial parcial separável\n",
    "\n",
    "$$\\frac{\\partial u}{\\partial x} - \\frac{\\partial u}{\\partial y} = 2u$$\n",
    "\n",
    "podemos recorrer à mudança de variável \n",
    "$$u = XY, \\ \\ \\frac{\\partial u}{\\partial x} = X'Y \\ \\ \\text{e} \\ \\ \\frac{\\partial u}{\\partial y} = XY'$$\n",
    "\n",
    "Nesse caso,\n",
    "\n",
    "$$X'Y - XY' = 2XY \\Rightarrow XY' - 2XY =  X'Y \\Rightarrow X(Y'-2Y) = X'Y \\Rightarrow \\frac{Y'-2Y}{Y} = \\frac{X'}{X} = \\lambda$$\n",
    "\n",
    "Pois bem, devemos resolver as equações diferenciais: $\\frac{X'}{X} = \\lambda$ e $\\frac{Y'-2Y}{Y} = \\lambda$:\n",
    "\n",
    "$$\\frac{X'}{X} = \\lambda \\Rightarrow ln(X) = \\lambda x + k_{1} \\Rightarrow X = e^{\\lambda x + k_{1}} = e^{\\lambda x}e^{k_{1}} = C_{1}e^{\\lambda x}$$\n",
    "\n",
    "$$\\frac{Y'-2Y}{Y} = \\lambda \\Rightarrow \\frac{Y'}{Y} - 2 = \\lambda \\Rightarrow \\frac{Y'}{Y} = 2 + \\lambda \\Rightarrow ln(Y) = (2 + \\lambda)y + k_{2} \\Rightarrow$$\n",
    "\n",
    "$$\\Rightarrow Y = e^{(2 + \\lambda)y + k_{2}} \\Rightarrow Y = e^{(2 + \\lambda)y}e^{k_{2}} = C_{2}e^{(2 + \\lambda)y}$$\n",
    "\n",
    "A solução é dada por:\n",
    "\n",
    "$$u(x,y) = X(x)Y(y) = C_{1}e^{\\lambda x}C_{2}e^{(2+\\lambda)y} = \\boxed{Ke^{\\lambda x +(2+\\lambda) y}}$$"
   ]
  },
  {
   "cell_type": "markdown",
   "id": "0edfa3e6",
   "metadata": {},
   "source": [
    "c) Considerando a equação diferencial parcial separável\n",
    "\n",
    "$$\\frac{\\partial u}{\\partial t} = 2\\frac{\\partial^{2} u}{\\partial x^{2}}$$\n",
    "\n",
    "podemos recorrer à mudança de variável \n",
    "$$u = XY, \\ \\ \\frac{\\partial u}{\\partial t} = T'X \\ \\ \\text{e} \\ \\ \\frac{\\partial^{2} u}{\\partial x^{2}} = 2X''T$$\n",
    "\n",
    "Nesse caso,\n",
    "\n",
    "$$\\frac{\\partial u}{\\partial t} = 2\\frac{\\partial^{2} u}{\\partial x^{2}} \\Rightarrow XT' = 2X''T \\Rightarrow 2\\frac{X''}{X} = \\frac{T'}{T} =  \\lambda^{[1]}$$\n",
    "\n",
    "Pois bem, devemos resolver as equações diferenciais: $2\\frac{X''}{X} = \\lambda$ e $\\frac{T'}{T} = \\lambda$:\n",
    "\n",
    "Vejamos $2\\frac{X''}{X} = \\lambda$:\n",
    "\n",
    "$$2\\frac{X''}{X} = \\lambda \\Rightarrow 2X'' = \\lambda X \\Rightarrow 2X'' - \\lambda X = 0 \\equiv am^{2} + bm + c = 0, \\ a = 2, b = 0 \\ \\text{e} \\ c = -\\lambda \\Rightarrow$$\n",
    "\n",
    "$$\\Rightarrow \\Delta = b^{2} - 4ac = 0^{2} - 4\\cdot2\\cdot(-\\lambda) = 8\\lambda \\Rightarrow m = \\frac{-b \\pm \\sqrt{\\Delta}}{2a} = \\frac{-0 \\pm \\sqrt{8\\lambda}}{2\\cdot2} \\Rightarrow$$\n",
    "\n",
    "$$\\Rightarrow m_{1} = -\\frac{\\sqrt{2\\lambda}}{2}\\ \\text{e} \\ m_{2} = \\frac{\\sqrt{2\\lambda}}{2} \\Rightarrow X(x) = K_{1}e^{-\\frac{\\sqrt{2\\lambda}}{2}x} + K_{2}e^{\\frac{\\sqrt{2\\lambda}}{2}x}$$\n",
    "\n",
    "Agora vejamos $\\frac{T'}{T} =  \\lambda$:\n",
    "\n",
    "$$\\frac{T'}{T} =  \\lambda \\Rightarrow ln|T| = \\lambda t + k_{1} \\Rightarrow T = e^{\\lambda t + k_{1}} \\Rightarrow T =  e^{k_{1}}e^{\\lambda t} = K_{3}e^{\\lambda t}$$\n",
    "\n",
    "A solução é dada por:\n",
    "\n",
    "$$u(x,t) = X(x)T(t) = \\left(K_{1}e^{-\\frac{\\sqrt{2\\lambda}}{2}x} + K_{2}e^{\\frac{\\sqrt{2\\lambda}}{2}x}\\right)K_{3}e^{\\lambda t} = K_{1}K_{3}e^{-\\frac{\\sqrt{2\\lambda}}{2}x}e^{\\lambda t} + K_{2}K_{3}e^{\\frac{\\sqrt{2\\lambda}}{2}x}e^{\\lambda t} =$$\n",
    "$$ = \\boxed{C_{1}e^{-\\frac{\\sqrt{2\\lambda}}{2}x + \\lambda t} + C_{2}e^{\\frac{\\sqrt{2\\lambda}}{2}x + \\lambda t}}^{[2]}$$\n",
    "\n",
    "\n",
    "*Observações:*\n",
    "\n",
    "*$^{[1]}$ A fim de retirar as raízes pode-se usar $-\\lambda^{2}$ no lugar de $\\lambda$;*\n",
    "\n",
    "*$^{[2]}$ A resposta via Python será dada por: $u(x,t) = C_{3}\\left(C_{1} + C_{2}e^{\\sqrt{2}\\sqrt{x}}\\right)e^{-\\frac{\\sqrt{2}\\sqrt{x}}{2} + \\lambda t}$ que é equivalente à solução obtida. De fato,*\n",
    "\n",
    "$$C_{3}\\left(C_{1} + C_{2}e^{\\sqrt{2}\\sqrt{\\lambda}}x\\right)e^{-\\frac{\\sqrt{2}\\sqrt{\\lambda}}{2}x + \\lambda t} = C_{3}C_{1}e^{-\\frac{\\sqrt{2}\\sqrt{\\lambda}}{2}x + \\lambda t} + C_{3}C_{2}e^{\\sqrt{2}\\sqrt{\\lambda}x}e^{-\\frac{\\sqrt{2}\\sqrt{\\lambda}}{2}x + \\lambda t} =$$\n",
    "\n",
    "$$ = C_{3}C_{1}e^{-\\frac{\\sqrt{2}\\sqrt{\\lambda}}{2}x + \\lambda t} + C_{3}C_{2}e^{\\sqrt{2}\\sqrt{\\lambda}x-\\frac{\\sqrt{2}\\sqrt{\\lambda}}{2}x +\\lambda t} = C_{3}C_{1}e^{-\\frac{\\sqrt{2}\\sqrt{\\lambda}}{2}x + \\lambda t} + C_{3}C_{2}e^{\\frac{\\sqrt{2}\\sqrt{\\lambda}}{2}x +\\lambda t} = $$\n",
    "\n",
    "$$ = \\boxed{C_{1}'e^{-\\frac{\\sqrt{2\\lambda}}{2}x + \\lambda t} + C_{2}'e^{\\frac{\\sqrt{2\\lambda}}{2}x +\\lambda t}}$$"
   ]
  },
  {
   "cell_type": "markdown",
   "id": "f5c26d5c",
   "metadata": {},
   "source": [
    "##### Solução Computacional"
   ]
  },
  {
   "cell_type": "markdown",
   "id": "95fb44d1",
   "metadata": {},
   "source": [
    "a) Partiremos do ponto:\n",
    "\n",
    "$$3\\frac{X'}{X} = -2\\frac{Y'}{Y} = \\lambda$$"
   ]
  },
  {
   "cell_type": "code",
   "execution_count": 7,
   "id": "6845cacb",
   "metadata": {
    "ExecuteTime": {
     "end_time": "2025-01-16T14:35:07.224958Z",
     "start_time": "2025-01-16T14:35:06.964763Z"
    }
   },
   "outputs": [
    {
     "data": {
      "text/latex": [
       "$\\displaystyle C_{1} C_{2} e^{\\frac{\\lambda \\left(2 x - 3 y\\right)}{6}}$"
      ],
      "text/plain": [
       "C1*C2*exp(lambda*(2*x - 3*y)/6)"
      ]
     },
     "execution_count": 7,
     "metadata": {},
     "output_type": "execute_result"
    }
   ],
   "source": [
    "import sympy as sp\n",
    "\n",
    "# Definição das variáveis\n",
    "x, y, lambda_ = sp.symbols('x y lambda')\n",
    "X = sp.Function('X')(x)\n",
    "Y = sp.Function('Y')(y)\n",
    "\n",
    "# Equações diferenciais\n",
    "eq_X = sp.Eq(3*X.diff(x) / X, lambda_)\n",
    "eq_Y = sp.Eq(-2*Y.diff(y) / Y, lambda_)\n",
    "\n",
    "# Solução das EDOs\n",
    "X_sol = sp.dsolve(eq_X).rhs  # Solução de X(x)\n",
    "Y_sol = sp.dsolve(eq_Y).rhs  # Solução de Y(y)\n",
    "\n",
    "# Renomear constantes de integração (evita usar C1 para os dois casos)\n",
    "C1, C2 = sp.symbols('C1 C2')\n",
    "X_sol = X_sol.subs(sp.Symbol('C1'), C1)  # Renomeia a constante de X(x)\n",
    "Y_sol = Y_sol.subs(sp.Symbol('C1'), C2)  # Renomeia a constante de Y(y)\n",
    "\n",
    "# Solução produto geral\n",
    "u_geral = sp.simplify(X_sol * Y_sol)\n",
    "\n",
    "# Solução na forma produto X(x)Y(y)\n",
    "u_geral"
   ]
  },
  {
   "cell_type": "markdown",
   "id": "7a3d77a0",
   "metadata": {},
   "source": [
    "b) Analogamente ao item \"a\" partiremos do ponto:\n",
    "\n",
    "$$3\\frac{X'}{X} = -2\\frac{Y'}{Y} = \\lambda$$"
   ]
  },
  {
   "cell_type": "code",
   "execution_count": 6,
   "id": "f220f957",
   "metadata": {
    "ExecuteTime": {
     "end_time": "2025-01-16T14:35:01.671883Z",
     "start_time": "2025-01-16T14:35:01.421087Z"
    }
   },
   "outputs": [
    {
     "data": {
      "text/latex": [
       "$\\displaystyle C_{1} C_{2} e^{\\lambda x + y \\left(\\lambda + 2\\right)}$"
      ],
      "text/plain": [
       "C1*C2*exp(lambda*x + y*(lambda + 2))"
      ]
     },
     "execution_count": 6,
     "metadata": {},
     "output_type": "execute_result"
    }
   ],
   "source": [
    "import sympy as sp\n",
    "\n",
    "# Definição das variáveis\n",
    "x, y, lambda_ = sp.symbols('x y lambda')\n",
    "X = sp.Function('X')(x)\n",
    "Y = sp.Function('Y')(y)\n",
    "\n",
    "# Equações diferenciais\n",
    "eq_X = sp.Eq((X.diff(x)) / X, lambda_)\n",
    "eq_Y = sp.Eq((Y.diff(y)-2*Y) / Y, lambda_)\n",
    "\n",
    "# Solução das EDOs\n",
    "X_sol = sp.dsolve(eq_X).rhs  # Solução de X(x)\n",
    "Y_sol = sp.dsolve(eq_Y).rhs  # Solução de Y(y)\n",
    "\n",
    "# Renomear constantes de integração (evita usar C1 para os dois casos)\n",
    "C1, C2 = sp.symbols('C1 C2')\n",
    "X_sol = X_sol.subs(sp.Symbol('C1'), C1)  # Renomeia a constante de X(x)\n",
    "Y_sol = Y_sol.subs(sp.Symbol('C1'), C2)  # Renomeia a constante de Y(y)\n",
    "\n",
    "# Solução produto geral\n",
    "u_geral = sp.simplify(X_sol * Y_sol)\n",
    "\n",
    "# Solução na forma produto X(x)Y(y)\n",
    "u_geral"
   ]
  },
  {
   "cell_type": "markdown",
   "id": "a3c88e6c",
   "metadata": {},
   "source": [
    "c) Analogamente aos itens anteriores partiremos do ponto:\n",
    "\n",
    "$$2\\frac{X''}{X} = \\frac{T'}{T} =  \\lambda$$"
   ]
  },
  {
   "cell_type": "code",
   "execution_count": 5,
   "id": "6f37ba6e",
   "metadata": {
    "ExecuteTime": {
     "end_time": "2025-01-16T14:34:56.386153Z",
     "start_time": "2025-01-16T14:34:56.220379Z"
    }
   },
   "outputs": [
    {
     "data": {
      "text/latex": [
       "$\\displaystyle C_{3} \\left(C_{1} + C_{2} e^{\\sqrt{2} \\sqrt{\\lambda} x}\\right) e^{- \\frac{\\sqrt{2} \\sqrt{\\lambda} x}{2} + \\lambda t}$"
      ],
      "text/plain": [
       "C3*(C1 + C2*exp(sqrt(2)*sqrt(lambda)*x))*exp(-sqrt(2)*sqrt(lambda)*x/2 + lambda*t)"
      ]
     },
     "execution_count": 5,
     "metadata": {},
     "output_type": "execute_result"
    }
   ],
   "source": [
    "import sympy as sp\n",
    "\n",
    "# Definir as variáveis e funções\n",
    "x, t, lambda_ = sp.symbols('x t lambda')\n",
    "X = sp.Function('X')(x)\n",
    "T = sp.Function('T')(t)\n",
    "\n",
    "# Agora, para separar as variáveis, dividimos ambos os lados da equação por X(x) * Y(y)\n",
    "lhs = sp.diff(T, t) / T\n",
    "rhs = 2*sp.diff(X, x, 2) / X\n",
    "\n",
    "# A equação separada se torna:\n",
    "eq_T = sp.Eq(lhs, lambda_)\n",
    "eq_X = sp.Eq(rhs, lambda_)\n",
    "\n",
    "# Resolver as EDOs separadas\n",
    "sol_T = sp.dsolve(eq_T)  # Solução de Y(y)\n",
    "sol_X = sp.dsolve(eq_X)  # Solução de X(x)\n",
    "\n",
    "# Renomear as constantes de integração\n",
    "C1, C2, C3 = sp.symbols('C1 C2 C3')\n",
    "sol_X = sol_X.rhs.subs(sp.Symbol('C1'), C1)  # Renomeia a constante de Y(y)\n",
    "sol_T = sol_T.rhs.subs(sp.Symbol('C1'), C3)  # Renomeia a constante de X(x)\n",
    "\n",
    "# Solução geral do produto X(x)Y(y)\n",
    "u_geral = sp.simplify(sol_X * sol_T)\n",
    "\n",
    "# Solução na forma produto X(x)Y(y)\n",
    "u_geral"
   ]
  }
 ],
 "metadata": {
  "kernelspec": {
   "display_name": "Python 3 (ipykernel)",
   "language": "python",
   "name": "python3"
  },
  "language_info": {
   "codemirror_mode": {
    "name": "ipython",
    "version": 3
   },
   "file_extension": ".py",
   "mimetype": "text/x-python",
   "name": "python",
   "nbconvert_exporter": "python",
   "pygments_lexer": "ipython3",
   "version": "3.11.5"
  }
 },
 "nbformat": 4,
 "nbformat_minor": 5
}

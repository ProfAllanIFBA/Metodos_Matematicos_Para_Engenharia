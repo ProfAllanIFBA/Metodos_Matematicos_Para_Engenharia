{
 "cells": [
  {
   "cell_type": "markdown",
   "id": "ebb6276c",
   "metadata": {},
   "source": [
    "<center> <img src=\"logo_ifba.jpg\" alt=\"jpg_python\" width=\"100\" height=\"200\"> </center>\n",
    "<br><br>\n",
    "<div align=\"center\"><span style=\"font-size: 26px;\"><strong>Métodos Matemáticos Para Engenharia <br></strong></span></div> <br>\n",
    "<center> <img src=\"python_gif.gif\" alt=\"gif_python\" width=\"80\"> </center>"
   ]
  },
  {
   "cell_type": "markdown",
   "id": "0a544720",
   "metadata": {},
   "source": [
    "# Lista da Unidade II"
   ]
  },
  {
   "cell_type": "markdown",
   "id": "f7ef017a",
   "metadata": {},
   "source": [
    "Seguem as soluções escritas e computacionais da Lista da Unidade II."
   ]
  },
  {
   "cell_type": "markdown",
   "id": "40b913b4",
   "metadata": {},
   "source": [
    "#### Questão 1"
   ]
  },
  {
   "cell_type": "markdown",
   "id": "d25a8cc8",
   "metadata": {},
   "source": [
    "Considere a função periódica:\n",
    "\n",
    "$$f(x) = \\left\\{ \\begin{array}{}\n",
    "1 &  -1 \\leq x < 0 \\\\\n",
    "x & \\ \\ \\ 0 \\leq x < 1 \\end{array}\\right. \\ \\ \\ \\text{Período} = 2$$\n",
    "\n",
    "Determine a expansão de $f$ em série de Fourier.\n",
    "\n",
    "*Dica: Determine os $3$ primeiros termos $a_{n}$ e $b_{n}$ separadamente para melhor visualizar a equivalência com a resposta computacional.*"
   ]
  },
  {
   "cell_type": "markdown",
   "id": "49b89adb",
   "metadata": {},
   "source": [
    "##### Solução Escrita"
   ]
  },
  {
   "cell_type": "markdown",
   "id": "c21728b9",
   "metadata": {},
   "source": [
    "Temos que\n",
    "\n",
    "$$a_{0} = \\frac{1}{L}\\int_{-1}^{1}f(x) dx = \\frac{1}{1}\\int_{-1}^{0}1dx + \\frac{1}{1}\\int_{0}^{1}xdx = (x)|_{-1}^{0} + \\left.\\left(\\frac{x^{2}}{2}\\right)\\right|_{0}^{1} = $$\n",
    "\n",
    "$$= (0-(-1)) + \\left(\\frac{1^{2}}{2} - \\frac{0^{2}}{2} \\right) = 1 + \\frac{1}{2} = \\frac{3}{2}$$\n",
    "\n",
    "$$a_{n} = \\frac{1}{L}\\int_{-1}^{1}f(x)cos\\left(\\frac{n\\pi x}{L}\\right)dx = \\frac{1}{1}\\int_{-1}^{0}1\\cdot cos\\left(\\frac{n\\pi x}{1}\\right)dx + \\frac{1}{1}\\int_{0}^{1}xcos\\left(\\frac{n\\pi x}{1}\\right)dx =^{[pp]} $$\n",
    "\n",
    "$$ = \\underset{nul}{\\underbrace{\\left.\\left(\\frac{sen(n\\pi x)}{n\\pi}\\right)\\right|_{-1}^{0}}} + \\left.\\left( \\underset{nul}{\\underbrace{\\frac{xsen(n\\pi x)}{n\\pi}}} - \\int \\frac{sen(n\\pi x)}{n\\pi}dx\\right)\\right|_{0}^{1} = \\left.\\left( -\\frac{1}{n\\pi} \\int sen(n\\pi x) dx\\right)\\right|_{0}^{1} = \\left.\\left(\\frac{cos(n\\pi x)}{(n\\pi)^{2}} \\right)\\right|_{0}^{1} = $$\n",
    "\n",
    "$$ = \\frac{1}{(n\\pi)^{2}}(cos(n\\pi \\cdot 1) - cos(n\\pi \\cdot 0)) = \\frac{1}{\\pi^{2}}\\left(-\\frac{2}{1^{2}}, \\frac{0}{2^{2}}, -\\frac{2}{3^{2}}, \\frac{0}{1^{2}}, -\\frac{2}{5^{2}}, \\ldots \\right)$$\n",
    "\n",
    "$$b_{n} = \\frac{1}{L}\\int_{-1}^{1}f(x)sen\\left(\\frac{n \\pi x}{L}\\right) dx = \\frac{1}{1}\\int_{-1}^{0}1sen\\left(\\frac{n \\pi x}{1}\\right) dx + \\frac{1}{1}\\int_{0}^{1}xsen\\left(\\frac{n \\pi x}{L}\\right) dx =^{[pp]}$$\n",
    "\n",
    "$$ = \\left.\\left(\\frac{-cos(n\\pi x)}{n\\pi}\\right)\\right|_{-1}^{0} + \\left.\\left( \\frac{-xcos(n\\pi x)}{n\\pi} - \\int \\frac{-cos(n\\pi x)}{n\\pi}dx\\right)\\right|_{0}^{1} = $$\n",
    "\n",
    "$$ = \\left.\\left(\\frac{-cos(n\\pi x)}{n\\pi}\\right)\\right|_{-1}^{0} + \\left.\\left( \\frac{-xcos(n\\pi x)}{n\\pi} + \\frac{1}{n\\pi}\\int cos(n\\pi x)dx\\right)\\right|_{0}^{1} =$$\n",
    "\n",
    "$$ = \\left.\\left(\\frac{-cos(n\\pi x)}{n\\pi}\\right)\\right|_{-1}^{0} + \\left.\\left( \\frac{-xcos(n\\pi x)}{n\\pi} + \\underset{nul}{\\underbrace{\\frac{1}{(n\\pi)^{2}}sen(n\\pi x)}}\\right)\\right|_{0}^{1} =$$\n",
    "\n",
    "$$ = \\left(-\\frac{cos(n\\pi\\cdot0)}{n\\pi} - \\left(-\\frac{cos(n\\pi\\cdot(-1))}{n\\pi} \\right) \\right) + \\left(-\\frac{1\\cdot cos(n\\pi\\cdot1)}{n\\pi} - \\left(\\frac{0\\cdot cos(n\\pi\\cdot0)}{n\\pi} \\right) \\right) =$$\n",
    "\n",
    "$$ = -\\frac{1}{n\\pi} + \\frac{cos(n\\pi)}{n\\pi} - \\frac{cos(n\\pi)}{n\\pi} - 0 = -\\frac{1}{n\\pi} = \\frac{1}{\\pi}\\left(-\\frac{1}{1},-\\frac{1}{2}, -\\frac{1}{3}, -\\frac{1}{4}, - \\frac{1}{5}, \\ldots \\right)$$\n",
    "\n",
    "Portanto, a série de Fourier correspondente a $f$ é:\n",
    "\n",
    "$$f(x) = \\frac{a_{0}}{2} + \\sum_{n=1}^{\\infty}\\left(a_{n}cos\\left(\\frac{n\\pi x}{L}\\right) + b_{n}sen\\left(\\frac{n\\pi x}{L}\\right)\\right) =$$\n",
    "$$ = \\boxed{\\frac{3/2}{2} + \\sum_{n=1}^{\\infty}\\left(\\left(\\frac{cos(n\\pi)-1}{(n\\pi)^{2}}\\right)cos\\left(\\frac{n\\pi x}{L}\\right) - \\frac{1}{n\\pi}sen\\left(\\frac{n\\pi x}{L}\\right)\\right)}$$\n",
    "\n",
    "Ou, mais explicitamente,\n",
    "\n",
    "$ = 0.75 +$<br>\n",
    "$+ \\left(-\\frac{2}{\\pi^{2}}\\frac{1}{1^{2}}cos(\\pi x) + 0\\frac{1}{2^{2}}cos(2\\pi x) - \\frac{2}{\\pi^{2}}\\frac{1}{3^{2}}cos(3\\pi x) + 0\\frac{1}{4^{2}}cos(4\\pi x) - \\ldots\\right) +$<br>\n",
    "$+ \\left(-\\frac{1}{\\pi}\\frac{1}{1}sen(\\pi x) -\\frac{1}{\\pi}\\frac{1}{2}sen(2\\pi x) - \\frac{1}{\\pi}\\frac{1}{3}sen(3\\pi x) -\\frac{1}{\\pi}\\frac{1}{4}cos(4\\pi x) - \\ldots\\right) = $\n",
    "\n",
    "$ = 0.75 + \\left(-\\frac{2cos(\\pi x)}{\\pi^{2}} - \\frac{(2/9)cos(3\\pi x)}{\\pi}  - \\ldots\\right) + \\left(-\\frac{sen(\\pi x)}{\\pi} -\\frac{(1/2)sen(2\\pi x)}{\\pi} - \\frac{(1/3)sen(3\\pi x)}{\\pi} -\\frac{(1/4)cos(4\\pi x)}{\\pi} - \\ldots\\right)$"
   ]
  },
  {
   "cell_type": "markdown",
   "id": "b45bbc7f",
   "metadata": {},
   "source": [
    "##### Solução Computacional"
   ]
  },
  {
   "cell_type": "code",
   "execution_count": 1,
   "id": "f7594453",
   "metadata": {
    "ExecuteTime": {
     "end_time": "2024-10-30T23:52:09.628263Z",
     "start_time": "2024-10-30T23:52:08.008301Z"
    }
   },
   "outputs": [
    {
     "data": {
      "text/latex": [
       "$\\displaystyle - \\frac{1.0 \\sin{\\left(\\pi x \\right)}}{\\pi} - \\frac{0.5 \\sin{\\left(2 \\pi x \\right)}}{\\pi} - \\frac{0.333333333333333 \\sin{\\left(3 \\pi x \\right)}}{\\pi} - \\frac{0.25 \\sin{\\left(4 \\pi x \\right)}}{\\pi} - \\frac{0.2 \\sin{\\left(5 \\pi x \\right)}}{\\pi} - \\frac{2.0 \\cos{\\left(\\pi x \\right)}}{\\pi^{2}} - \\frac{0.222222222222222 \\cos{\\left(3 \\pi x \\right)}}{\\pi^{2}} - \\frac{0.08 \\cos{\\left(5 \\pi x \\right)}}{\\pi^{2}} + 0.75$"
      ],
      "text/plain": [
       "-1.0*sin(pi*x)/pi - 0.5*sin(2*pi*x)/pi - 0.333333333333333*sin(3*pi*x)/pi - 0.25*sin(4*pi*x)/pi - 0.2*sin(5*pi*x)/pi - 2.0*cos(pi*x)/pi**2 - 0.222222222222222*cos(3*pi*x)/pi**2 - 0.08*cos(5*pi*x)/pi**2 + 0.75"
      ]
     },
     "execution_count": 1,
     "metadata": {},
     "output_type": "execute_result"
    }
   ],
   "source": [
    "from sympy import fourier_series, pi, symbols, Piecewise\n",
    "\n",
    "# Definição dos símbolos\n",
    "x = symbols('x')\n",
    "\n",
    "# Definindo a função piecewise\n",
    "f = Piecewise((1, (x > -1) & (x < 0)), (x, (x >= 0) & (x < 1)), (0, True))\n",
    "\n",
    "# Calculando a série de Fourier da função com período T=10\n",
    "T = 2\n",
    "n = 6\n",
    "s = fourier_series(f, (x, -T/2, T/2)).truncate(n)\n",
    "s"
   ]
  },
  {
   "cell_type": "markdown",
   "id": "eb0ccb4b",
   "metadata": {},
   "source": [
    "#### Questão 2"
   ]
  },
  {
   "cell_type": "markdown",
   "id": "64ef8e72",
   "metadata": {},
   "source": [
    "Use o desenvolvimento em série de Fourier de \n",
    "\n",
    "$$f(x) = \\left\\{ \\begin{array}{}\n",
    "-1 &  -1 \\leq x < 0 \\\\\n",
    "1 & \\ \\ \\ 0 \\leq x < 1 \\end{array}\\right. \\ \\ \\ \\text{Período} = 2$$\n",
    "\n",
    "para mostrar que \n",
    "\n",
    "$$\\frac{\\pi}{4} = 1 - \\frac{1}{3} - \\frac{1}{5} + \\ldots$$"
   ]
  },
  {
   "cell_type": "markdown",
   "id": "5c6d28d6",
   "metadata": {},
   "source": [
    "##### Solução Escrita"
   ]
  },
  {
   "cell_type": "markdown",
   "id": "3cb0b3ac",
   "metadata": {},
   "source": [
    "Note que $f(x)$ é uma função ímpar. Dessa forma $a_{0} = 0$ e $a_{n} = 0$. Assim, precisamos calcular somente $b_{n}$. Pois bem,\n",
    "\n",
    "$$b_{n} = \\frac{2}{L}\\int_{0}^{L} f(x) sen\\left(\\frac{n\\pi x}{L} \\right) dx = \\frac{2}{1}\\int_{0}^{1} 1 sen\\left(\\frac{n\\pi x}{1} \\right) dx  = 2\\int_{0}^{1} sen(n\\pi x) dx =$$\n",
    "$$ = 2\\left.\\left(-\\frac{cos(n\\pi x)}{n\\pi} \\right)\\right|_{0}^{1} = 2 \\left(-\\frac{cos(n\\pi \\cdot1)}{n\\pi} - \\left(-\\frac{cos(n\\pi \\cdot 0)}{n\\pi} \\right) \\right) = -\\frac{2(cos(n\\pi)-1)}{n\\pi} =$$\n",
    "$$ = -\\frac{2}{\\pi}\\frac{cos(n\\pi)-1}{n} = -\\frac{2}{\\pi}\\left(-\\frac{2}{1},\\frac{0}{2},-\\frac{2}{3},\\frac{0}{4}, -\\frac{2}{5}, \\ldots \\right) = \\left(\\frac{4}{\\pi},0,\\frac{4}{3\\pi},0,\\frac{4}{5\\pi}, 0, \\ldots \\right)$$\n",
    "\n",
    "Assim,\n",
    "\n",
    "$$f(x) = \\sum_{n=1}^{\\infty} b_{n}sen\\left(\\frac{n\\pi x}{L}\\right) = \\sum_{n=1}^{\\infty} -\\frac{2}{\\pi}\\frac{cos(n\\pi)-1}{n}sen\\left(\\frac{n\\pi x}{1}\\right) = $$\n",
    "\n",
    "$$ = \\frac{4}{\\pi}sen(\\pi x) + 0sen(2\\pi x) + \\frac{4}{3\\pi}sen(3\\pi x) + 0sen(4\\pi x) + \\frac{4}{5\\pi}sen(5\\pi x) + \\ldots = $$\n",
    "\n",
    "$$ = \\frac{4}{\\pi}sen(\\pi x) + \\frac{4}{3\\pi}sen(3\\pi x) + \\frac{4}{5\\pi}sen(5\\pi x) + \\ldots$$\n",
    "\n",
    "Note que, para $x = \\frac{1}{2}$, temos:\n",
    "\n",
    "$$f\\left(\\frac{1}{2}\\right) = \\frac{4}{\\pi}sen\\left(\\pi \\cdot \\frac{1}{2}\\right) + \\frac{4}{3\\pi}sen\\left(3\\pi \\cdot \\frac{1}{2}\\right) + \\frac{4}{5\\pi}sen\\left(5\\pi \\cdot \\frac{1}{2}\\right) + \\ldots \\Leftrightarrow$$\n",
    "\n",
    "$$\\Leftrightarrow 1 = \\frac{4}{\\pi}\\left( sen\\left(\\frac{\\pi}{2}\\right) + \\frac{1}{3}sen\\left(\\frac{3\\pi}{2}\\right) + \\frac{1}{5}sen\\left(\\frac{5\\pi}{2}\\right) + \\ldots \\right) \\Leftrightarrow \\boxed{ \\frac{\\pi}{4} = 1 - \\frac{1}{3} - \\frac{1}{5} + \\ldots}$$"
   ]
  },
  {
   "cell_type": "markdown",
   "id": "b2de2fca",
   "metadata": {},
   "source": [
    "##### Solução Computacional"
   ]
  },
  {
   "cell_type": "code",
   "execution_count": 2,
   "id": "0a4605da",
   "metadata": {
    "ExecuteTime": {
     "end_time": "2024-10-30T23:52:09.944812Z",
     "start_time": "2024-10-30T23:52:09.628263Z"
    }
   },
   "outputs": [
    {
     "data": {
      "text/latex": [
       "$\\displaystyle \\frac{4.0 \\sin{\\left(\\pi x \\right)}}{\\pi} + \\frac{1.33333333333333 \\sin{\\left(3 \\pi x \\right)}}{\\pi} + \\frac{0.8 \\sin{\\left(5 \\pi x \\right)}}{\\pi} + \\frac{0.571428571428571 \\sin{\\left(7 \\pi x \\right)}}{\\pi} + \\frac{0.444444444444444 \\sin{\\left(9 \\pi x \\right)}}{\\pi} + \\frac{0.363636363636364 \\sin{\\left(11 \\pi x \\right)}}{\\pi}$"
      ],
      "text/plain": [
       "4.0*sin(pi*x)/pi + 1.33333333333333*sin(3*pi*x)/pi + 0.8*sin(5*pi*x)/pi + 0.571428571428571*sin(7*pi*x)/pi + 0.444444444444444*sin(9*pi*x)/pi + 0.363636363636364*sin(11*pi*x)/pi"
      ]
     },
     "execution_count": 2,
     "metadata": {},
     "output_type": "execute_result"
    }
   ],
   "source": [
    "from sympy import fourier_series, pi, symbols, Piecewise\n",
    "\n",
    "# Definição dos símbolos\n",
    "x = symbols('x')\n",
    "\n",
    "# Definindo a função piecewise\n",
    "f = Piecewise((-1, (x > -1) & (x < 0)), (1, (x >= 0) & (x < 1)), (0, True))\n",
    "\n",
    "# Calculando a série de Fourier da função com período T=10\n",
    "T = 2\n",
    "n = 6\n",
    "s = fourier_series(f, (x, -T/2, T/2)).truncate(n)\n",
    "s"
   ]
  },
  {
   "cell_type": "code",
   "execution_count": 3,
   "id": "d134dd22",
   "metadata": {
    "ExecuteTime": {
     "end_time": "2024-10-30T23:52:10.363955Z",
     "start_time": "2024-10-30T23:52:09.945813Z"
    }
   },
   "outputs": [],
   "source": [
    "import sympy as sp\n",
    "\n",
    "# Definir a variável simbólica n\n",
    "n = sp.symbols('n')\n",
    "\n",
    "# Definir a série\n",
    "serie = sp.Sum((-1)**(n+1)/((2*n-1)), (n, 1, sp.oo))\n",
    "\n",
    "# Avaliar a soma\n",
    "soma = serie.doit()"
   ]
  },
  {
   "cell_type": "code",
   "execution_count": 4,
   "id": "4f5bdacd",
   "metadata": {
    "ExecuteTime": {
     "end_time": "2024-10-30T23:52:10.373258Z",
     "start_time": "2024-10-30T23:52:10.365954Z"
    }
   },
   "outputs": [
    {
     "data": {
      "text/latex": [
       "$\\displaystyle \\sum_{n=1}^{\\infty} \\frac{\\left(-1\\right)^{n + 1}}{2 n - 1}$"
      ],
      "text/plain": [
       "Sum((-1)**(n + 1)/(2*n - 1), (n, 1, oo))"
      ]
     },
     "execution_count": 4,
     "metadata": {},
     "output_type": "execute_result"
    }
   ],
   "source": [
    "# Conferindo a série digitada\n",
    "serie"
   ]
  },
  {
   "cell_type": "code",
   "execution_count": 5,
   "id": "a6bed0df",
   "metadata": {
    "ExecuteTime": {
     "end_time": "2024-10-30T23:52:10.389045Z",
     "start_time": "2024-10-30T23:52:10.375079Z"
    }
   },
   "outputs": [
    {
     "data": {
      "text/latex": [
       "$\\displaystyle \\frac{\\pi}{4}$"
      ],
      "text/plain": [
       "pi/4"
      ]
     },
     "execution_count": 5,
     "metadata": {},
     "output_type": "execute_result"
    }
   ],
   "source": [
    "# Soma da série\n",
    "soma"
   ]
  },
  {
   "cell_type": "markdown",
   "id": "910e5784",
   "metadata": {},
   "source": [
    "#### Questão 3"
   ]
  },
  {
   "cell_type": "markdown",
   "id": "ef529d66",
   "metadata": {},
   "source": [
    "Sabe-se que o desenvolvimento em série de Fourier de $f(x) = x^{2}$, $0 < x < 2\\pi$ ($T = 2\\pi$) é dado por:\n",
    "\n",
    "$$f(x) = \\frac{4\\pi^{2}}{3} + \\sum_{n=1}^{\\infty}\\left(\\frac{4}{n^{2}}cos(nx) - \\frac{4\\pi}{n}sen(nx) \\right)$$\n",
    "\n",
    "\n",
    "\n",
    "a) Obtenha a soma da série\n",
    "\n",
    "$$\\frac{1}{1^{2}} - \\frac{1}{2^{2}} + \\frac{1}{3^{2}} - \\frac{1}{4^{2}} + \\frac{1}{5^{2}} - \\ldots$$\n",
    "\n",
    "b) Use o item \"a\" e o fato de $\\sum_{n=1}^{\\infty} \\frac{1}{n^{2}} = \\frac{\\pi^{2}}{6}$ (**Exemplo 1, Capítulo 3**) para obter a soma da série:\n",
    "\n",
    "$$\\frac{1}{1^{2}} + \\frac{1}{3^{2}} + \\frac{1}{5^{2}} + \\frac{1}{7^{2}} +  \\ldots$$"
   ]
  },
  {
   "cell_type": "markdown",
   "id": "a0e061b0",
   "metadata": {},
   "source": [
    "##### Solução Escrita"
   ]
  },
  {
   "cell_type": "markdown",
   "id": "a3389ea0",
   "metadata": {},
   "source": [
    "a) Substituindo $x = \\pi$ nos dois membros de $(1)$\n",
    "\n",
    "$$x^{2} = \\frac{4\\pi^{2}}{3} + \\sum_{n=1}^{\\infty}\\left(\\frac{4}{n^{2}}cos(nx) - \\frac{4\\pi}{n}sen(nx) \\right) \\tag{1}$$\n",
    "\n",
    "temos:\n",
    "\n",
    "$$\\pi^{2} = \\frac{4\\pi^{2}}{3} + \\sum_{n=1}^{\\infty}\\left(\\frac{4}{n^{2}}cos(n\\pi) - \\frac{4\\pi}{n}sen(n\\pi) \\right) \\Leftrightarrow \\pi^{2} - \\frac{4\\pi^{2}}{3} =  4\\sum_{n=1}^{\\infty}\\left(\\frac{1}{n^{2}}cos(n\\pi)\\right) \\Leftrightarrow $$\n",
    "\n",
    "$$\\Leftrightarrow -\\frac{\\pi^{2}}{3} = 4 \\left(\\frac{cos(\\pi)}{1^{2}} + \\frac{cos(2\\pi)}{2^{2}} + \\frac{cos(3\\pi)}{3^{2}} + \\frac{cos(4\\pi)}{4^{2}} + \\frac{cos(5\\pi)}{5^{2}}\\right) \\Leftrightarrow$$\n",
    "\n",
    "$$\\Leftrightarrow -\\frac{\\pi^{2}}{12} = -\\frac{1}{1^{2}} + \\frac{1}{2^{2}} - \\frac{1}{3^{2}} + \\frac{1}{4^{2}} - \\frac{1}{5^{2}} + \\ldots \\Leftrightarrow \\boxed{\\frac{\\pi^{2}}{12} =  \\frac{1}{1^{2}} - \\frac{1}{2^{2}} + \\frac{1}{3^{2}} - \\frac{1}{4^{2}} + \\frac{1}{5^{2}} - \\ldots}$$\n",
    "\n",
    "b) Note que (**Exemplo 1, Capítulo 3**)\n",
    "\n",
    "$$\\frac{1}{1^{2}} + \\frac{1}{2^{2}} + \\frac{1}{3^{2}} + \\frac{1}{4^{2}} + \\frac{1}{5^{2}} + \\ldots = \\frac{\\pi^{2}}{6} \\tag{2}$$\n",
    "\n",
    "Por outro lado, (**Item a**), temos que:\n",
    "\n",
    "$$\\frac{1}{1^{2}} - \\frac{1}{2^{2}} + \\frac{1}{3^{2}} - \\frac{1}{4^{2}} + \\frac{1}{5^{2}} - \\ldots = \\frac{\\pi^{2}}{12} \\tag{3}$$\n",
    "\n",
    "Somando $(2)$ e $(3)$ membro a membro, temos:\n",
    "\n",
    "$$2\\left(\\frac{1}{1^{2}} + \\frac{1}{3^{2}} + \\frac{1}{5^{2}} + \\ldots \\right) = \\frac{\\pi^{2}}{6} + \\frac{\\pi^{2}}{12} \\Leftrightarrow 2\\left(\\frac{1}{1^{2}} + \\frac{1}{3^{2}} + \\frac{1}{5^{2}} + \\ldots \\right) = \\frac{\\pi^{2}}{4} \\Leftrightarrow$$\n",
    "\n",
    "$$\\Leftrightarrow \\boxed{\\frac{1}{1^{2}} + \\frac{1}{3^{2}} + \\frac{1}{5^{2}} + \\ldots = \\frac{\\pi^{2}}{8}}$$"
   ]
  },
  {
   "cell_type": "markdown",
   "id": "8cc4b3d1",
   "metadata": {},
   "source": [
    "##### Solução Computacional"
   ]
  },
  {
   "cell_type": "markdown",
   "id": "75f9908e",
   "metadata": {},
   "source": [
    "**Item \"a\"**:"
   ]
  },
  {
   "cell_type": "code",
   "execution_count": 6,
   "id": "579adf42",
   "metadata": {
    "ExecuteTime": {
     "end_time": "2024-10-30T23:52:10.613111Z",
     "start_time": "2024-10-30T23:52:10.390107Z"
    }
   },
   "outputs": [],
   "source": [
    "import sympy as sp\n",
    "\n",
    "# Definir a variável simbólica n\n",
    "n = sp.symbols('n')\n",
    "\n",
    "# Definir a série\n",
    "serie = sp.Sum((-1)**(n+1)/(n**2), (n, 1, sp.oo))\n",
    "\n",
    "# Avaliar a soma\n",
    "soma = serie.doit()"
   ]
  },
  {
   "cell_type": "code",
   "execution_count": 7,
   "id": "d555b14b",
   "metadata": {
    "ExecuteTime": {
     "end_time": "2024-10-30T23:52:10.620396Z",
     "start_time": "2024-10-30T23:52:10.614111Z"
    }
   },
   "outputs": [
    {
     "data": {
      "text/latex": [
       "$\\displaystyle \\sum_{n=1}^{\\infty} \\frac{\\left(-1\\right)^{n + 1}}{n^{2}}$"
      ],
      "text/plain": [
       "Sum((-1)**(n + 1)/n**2, (n, 1, oo))"
      ]
     },
     "execution_count": 7,
     "metadata": {},
     "output_type": "execute_result"
    }
   ],
   "source": [
    "# Conferindo a série digitada\n",
    "serie"
   ]
  },
  {
   "cell_type": "code",
   "execution_count": 8,
   "id": "a551f80a",
   "metadata": {
    "ExecuteTime": {
     "end_time": "2024-10-30T23:52:10.631806Z",
     "start_time": "2024-10-30T23:52:10.622394Z"
    }
   },
   "outputs": [
    {
     "data": {
      "text/latex": [
       "$\\displaystyle \\frac{\\pi^{2}}{12}$"
      ],
      "text/plain": [
       "pi**2/12"
      ]
     },
     "execution_count": 8,
     "metadata": {},
     "output_type": "execute_result"
    }
   ],
   "source": [
    "# Soma da série\n",
    "soma"
   ]
  },
  {
   "cell_type": "markdown",
   "id": "dc8bb817",
   "metadata": {
    "ExecuteTime": {
     "end_time": "2024-10-30T12:52:56.673052Z",
     "start_time": "2024-10-30T12:52:56.667298Z"
    }
   },
   "source": [
    "**Item \"b\"**:"
   ]
  },
  {
   "cell_type": "code",
   "execution_count": 9,
   "id": "df26ef9b",
   "metadata": {
    "ExecuteTime": {
     "end_time": "2024-10-30T23:52:11.146686Z",
     "start_time": "2024-10-30T23:52:10.633803Z"
    }
   },
   "outputs": [],
   "source": [
    "import sympy as sp\n",
    "\n",
    "# Definir a variável simbólica n\n",
    "n = sp.symbols('n')\n",
    "\n",
    "# Definir a série\n",
    "serie = sp.Sum(1/((2*n-1)**2), (n, 1, sp.oo))\n",
    "\n",
    "# Avaliar a soma\n",
    "soma = serie.doit()"
   ]
  },
  {
   "cell_type": "code",
   "execution_count": 10,
   "id": "3106136b",
   "metadata": {
    "ExecuteTime": {
     "end_time": "2024-10-30T23:52:11.156111Z",
     "start_time": "2024-10-30T23:52:11.149740Z"
    }
   },
   "outputs": [
    {
     "data": {
      "text/latex": [
       "$\\displaystyle \\sum_{n=1}^{\\infty} \\frac{1}{\\left(2 n - 1\\right)^{2}}$"
      ],
      "text/plain": [
       "Sum((2*n - 1)**(-2), (n, 1, oo))"
      ]
     },
     "execution_count": 10,
     "metadata": {},
     "output_type": "execute_result"
    }
   ],
   "source": [
    "# Conferindo a série digitada\n",
    "serie"
   ]
  },
  {
   "cell_type": "code",
   "execution_count": 11,
   "id": "23d50323",
   "metadata": {
    "ExecuteTime": {
     "end_time": "2024-10-30T23:52:11.166096Z",
     "start_time": "2024-10-30T23:52:11.156111Z"
    }
   },
   "outputs": [
    {
     "data": {
      "text/latex": [
       "$\\displaystyle \\frac{\\pi^{2}}{8}$"
      ],
      "text/plain": [
       "pi**2/8"
      ]
     },
     "execution_count": 11,
     "metadata": {},
     "output_type": "execute_result"
    }
   ],
   "source": [
    "# Soma da série\n",
    "soma"
   ]
  },
  {
   "cell_type": "markdown",
   "id": "a4f230d8",
   "metadata": {},
   "source": [
    "#### Questão 4"
   ]
  },
  {
   "cell_type": "markdown",
   "id": "04096e4d",
   "metadata": {},
   "source": [
    "Sabe-se que o desenvolvimento em série de Fourier de\n",
    "\n",
    "$$f(x) = \\left\\{ \\begin{array}{}\n",
    "-1 &  -1 \\leq x < 0 \\\\\n",
    "1 & \\ \\ \\ 0 \\leq x < 1 \\end{array}\\right. \\ \\ \\ \\text{Período} = 2$$\n",
    "\n",
    "é dado por (**Questão 2**)\n",
    "\n",
    "$$\\sum_{n=1}^{\\infty} \\frac{2}{\\pi}\\frac{1-cos(n\\pi)}{n}sen\\left(\\frac{n\\pi x}{1}\\right)$$\n",
    "\n",
    "Use o Teorema de Parseval para calcular a soma da série"
   ]
  },
  {
   "cell_type": "markdown",
   "id": "b7a578b4",
   "metadata": {},
   "source": [
    "##### Solução Escrita"
   ]
  },
  {
   "cell_type": "markdown",
   "id": "8405546e",
   "metadata": {},
   "source": [
    "O Teorema de Parseval afirma que\n",
    "\n",
    "$$\\frac{1}{L}\\int_{-L}^{L} (f(x))^{2} dx = \\frac{a_{0}^{2}}{2} + \\sum_{n=1}^{\\infty} (a_{n}^{2} + b_{n}^{2})$$\n",
    "\n",
    "Assim,\n",
    "\n",
    "$$\\frac{1}{1}\\int_{-1}^{1} (1)^{2} dx = \\frac{{0}^{2}}{2} + \\sum_{n=1}^{\\infty} \\left( \\frac{2}{\\pi}\\frac{1-cos(n\\pi)}{n}\\right)^{2} \\Leftrightarrow $$\n",
    "\n",
    "$$ \\Leftrightarrow x|_{-1}^{1} = \\sum_{n=1}^{\\infty} \\left(\\frac{4}{\\pi^{2}}\\frac{(1-cos(n\\pi))^{2}}{n^{2}}\\right) \\Leftrightarrow$$\n",
    "\n",
    "$$\\Leftrightarrow 2 = \\frac{4}{\\pi^{2}}\\sum_{n=1}^{\\infty} \\left(\\frac{(1-cos(n\\pi))^{2}}{n^{2}}\\right) \\Leftrightarrow$$\n",
    "\n",
    "$$\\Leftrightarrow \\frac{\\pi^{2}}{2} =  \\sum_{n=1}^{\\infty} \\left(\\frac{(1-cos(n\\pi))^{2}}{n^{2}}\\right) \\Leftrightarrow$$\n",
    "\n",
    "$$\\Leftrightarrow \\frac{\\pi^{2}}{2}  = \\frac{(1-cos(\\pi))^{2}}{1^{2}} + \\frac{(1-cos(2\\pi))^{2}}{2^{2}} + \\frac{(1-cos(3\\pi))^{2}}{3^{2}} + \\frac{(1-cos(4\\pi))^{2}}{4^{2}} + \\frac{(1-cos(5\\pi))^{2}}{5^{2}} + \\ldots \\Leftrightarrow$$\n",
    "\n",
    "$$\\Leftrightarrow \\frac{\\pi^{2}}{2} = \\frac{(1-(-1))^{2}}{1^{2}} + \\frac{(1-1)^{2}}{2^{2}} + \\frac{(1-(-1))^{2}}{3^{2}} + \\frac{(1-1)^{2}}{4^{2}} + \\frac{(1-(-1))^{2}}{5^{2}} + \\ldots\\Leftrightarrow$$\n",
    "\n",
    "$$\\Leftrightarrow \\frac{\\pi^{2}}{2} = \\frac{4}{1^{2}} + \\frac{0^{2}}{2^{2}} + \\frac{4}{3^{2}} + \\frac{0^{2}}{4^{2}} + \\frac{4}{5^{2}} + \\ldots \\Leftrightarrow$$\n",
    "\n",
    "$$\\Leftrightarrow \\frac{\\pi^{2}}{2} = 4\\left(\\frac{1}{1^{2}}  + \\frac{1}{3^{2}} + \\frac{1}{5^{2}} + \\ldots\\right) \\Leftrightarrow$$\n",
    "\n",
    "$$\\Leftrightarrow \\boxed{\\frac{\\pi^{2}}{8} = \\frac{1}{1^{2}}  + \\frac{1}{3^{2}} + \\frac{1}{5^{2}} + \\ldots} $$"
   ]
  },
  {
   "cell_type": "markdown",
   "id": "12e127db",
   "metadata": {},
   "source": [
    "##### Solução Computacional (idêntica ao item b da Questão 3)"
   ]
  },
  {
   "cell_type": "code",
   "execution_count": 12,
   "id": "216f6775",
   "metadata": {
    "ExecuteTime": {
     "end_time": "2024-10-30T23:52:11.560214Z",
     "start_time": "2024-10-30T23:52:11.167097Z"
    }
   },
   "outputs": [],
   "source": [
    "import sympy as sp\n",
    "\n",
    "# Definir a variável simbólica n\n",
    "n = sp.symbols('n')\n",
    "\n",
    "# Definir a série\n",
    "serie = sp.Sum(1/((2*n-1)**2), (n, 1, sp.oo))\n",
    "\n",
    "# Avaliar a soma\n",
    "soma = serie.doit()"
   ]
  },
  {
   "cell_type": "code",
   "execution_count": 13,
   "id": "fc883c03",
   "metadata": {
    "ExecuteTime": {
     "end_time": "2024-10-30T23:52:11.567799Z",
     "start_time": "2024-10-30T23:52:11.561214Z"
    }
   },
   "outputs": [
    {
     "data": {
      "text/latex": [
       "$\\displaystyle \\frac{\\pi^{2}}{8}$"
      ],
      "text/plain": [
       "pi**2/8"
      ]
     },
     "execution_count": 13,
     "metadata": {},
     "output_type": "execute_result"
    }
   ],
   "source": [
    "soma"
   ]
  },
  {
   "cell_type": "code",
   "execution_count": 14,
   "id": "46cce760",
   "metadata": {
    "ExecuteTime": {
     "end_time": "2024-10-30T23:52:11.578411Z",
     "start_time": "2024-10-30T23:52:11.569797Z"
    }
   },
   "outputs": [
    {
     "data": {
      "text/latex": [
       "$\\displaystyle \\sum_{n=1}^{\\infty} \\frac{1}{\\left(2 n - 1\\right)^{2}}$"
      ],
      "text/plain": [
       "Sum((2*n - 1)**(-2), (n, 1, oo))"
      ]
     },
     "execution_count": 14,
     "metadata": {},
     "output_type": "execute_result"
    }
   ],
   "source": [
    "serie"
   ]
  },
  {
   "cell_type": "markdown",
   "id": "cf894e62",
   "metadata": {},
   "source": [
    "#### Questão 5"
   ]
  },
  {
   "cell_type": "markdown",
   "id": "379e09aa",
   "metadata": {},
   "source": [
    "Calcule as transformadas usando a definição:\n",
    "\n",
    "a) $$f(x) = \\left\\{ \\begin{array}{}\n",
    "-1 &  -1 \\leq x < 0 \\\\\n",
    "1 & \\ \\ \\ 0 \\leq x < 1 \\end{array}\\right.$$\n",
    "\n",
    "b) $$f(x) = \\left\\{ \\begin{array}{}\n",
    "x &  -1 \\leq x < 1 \\\\\n",
    "0 & \\text{do cont.} \\end{array}\\right.$$"
   ]
  },
  {
   "cell_type": "markdown",
   "id": "05928b8d",
   "metadata": {},
   "source": [
    "##### Solução Escrita"
   ]
  },
  {
   "cell_type": "markdown",
   "id": "ae580781",
   "metadata": {},
   "source": [
    "a) Temos que\n",
    "\n",
    "$$\\mathscr{F}(f)(\\omega) = \\frac{1}{\\sqrt{2\\pi}} \\int_{-\\infty}^{\\infty}f(x)e^{-i\\omega x}dx = \\frac{1}{\\sqrt{2\\pi}} \\int_{-1}^{0}-1e^{-i\\omega x}dx + \\frac{1}{\\sqrt{2\\pi}} \\int_{0}^{1}1e^{-i\\omega x}dx = $$\n",
    "\n",
    "$$ = \\frac{1}{\\sqrt{2\\pi}}\\left(\\frac{1}{i\\omega}\\left.e^{-i\\omega x}\\right|_{-1}^{0} -\\frac{1}{i\\omega}\\left.e^{-i\\omega x}\\right|_{0}^{1} \\right) = \\frac{1}{\\sqrt{2\\pi}}\\frac{1}{i}\\left(\\frac{\\left(e^{-i\\omega\\cdot0} - e^{-i\\omega(-1)}\\right) - \\left(e^{-i\\omega\\cdot1} - e^{-i\\omega\\cdot0}\\right)}{\\omega} \\right) =$$\n",
    "\n",
    "$$= -\\frac{i}{\\sqrt{2\\pi}}\\left(\\frac{1-e^{i\\omega}-e^{-i\\omega} + 1}{\\omega} \\right) = -\\frac{i}{\\sqrt{2\\pi}}\\left(\\frac{2-e^{i\\omega}-e^{-i\\omega}}{\\omega} \\right) = \\boxed{\\frac{i}{\\sqrt{2\\pi}}\\left(\\frac{e^{i\\omega}+e^{-i\\omega}-2}{\\omega} \\right)} = $$\n",
    "\n",
    "$$=\\frac{i}{\\sqrt{2\\pi}}\\left(\\frac{e^{2i\\omega}+1-2e^{i\\omega}}{\\omega} \\right)e^{-i\\omega} =  \\boxed{\\frac{\\sqrt{2}i}{2\\sqrt{\\pi}\\omega}\\left((e^{i\\omega}-2)e^{i\\omega}+1\\right)e^{-i\\omega}}_{\\text{sol comp.}}$$\n",
    "\n",
    "Considerando $\\omega = 0$, temos:\n",
    "\n",
    "$$F(0) = lim_{\\omega \\to 0} \\frac{i}{\\sqrt{2\\pi}}\\left(\\frac{e^{i\\omega}+e^{-i\\omega}-2}{\\omega} \\right) = lim_{\\omega \\to 0} \\frac{i}{\\sqrt{2\\pi}} \\frac{\\left(e^{i\\omega}+e^{-i\\omega}-2\\right)'}{(\\omega)'} =$$\n",
    "$$ = lim_{\\omega \\to 0} \\frac{i}{\\sqrt{2\\pi}} \\frac{ie^{i\\omega}-ie^{-i\\omega}}{1} = lim_{\\omega \\to 0} \\frac{i}{\\sqrt{2\\pi}}(ie^{i\\cdot0}-ie^{-i\\cdot0}) = lim_{\\omega \\to 0} \\frac{i}{\\sqrt{2\\pi}}(i-i) = \\boxed{0}$$\n",
    "\n",
    "b) Temos que \n",
    "\n",
    "$$\\mathscr{F}(f)(\\omega) = \\frac{1}{\\sqrt{2\\pi}} \\int_{-\\infty}^{\\infty}f(x)e^{-i\\omega x}dx = \\frac{1}{\\sqrt{2\\pi}} \\int_{-1}^{1}xe^{-i\\omega x}dx  =^{[pp]} \\frac{1}{\\sqrt{2\\pi}}\\left.\\left(-\\frac{xe^{-i\\omega x}}{i\\omega} - \\int -\\frac{1}{i\\omega}e^{-i\\omega x}dx\\right)\\right|_{-1}^{1} = $$\n",
    "\n",
    "$$ = \\frac{1}{\\sqrt{2\\pi}}\\left.\\left(-\\frac{xe^{-i\\omega x}}{i\\omega} + \\frac{1}{i\\omega}\\int e^{-i\\omega x}dx\\right)\\right|_{-1}^{1} = \\frac{1}{\\sqrt{2\\pi}}\\left.\\left(-\\frac{xe^{-i\\omega x}}{i\\omega} + \\frac{1}{(i\\omega)^{2}}e^{-i\\omega x}\\right)\\right|_{-1}^{1} =$$\n",
    "\n",
    "$$ = \\frac{1}{\\sqrt{2\\pi}}\\left.\\left( \\left(-\\frac{x}{i\\omega} + \\frac{1}{\\omega^{2}}\\right)e^{-i\\omega x}\\right)\\right|_{-1}^{1} = \\frac{1}{\\sqrt{2\\pi}}\\left(\\left(-\\frac{1}{i\\omega} + \\frac{1}{\\omega^{2}}\\right)e^{-i\\omega \\cdot1} - \\left(-\\frac{(-1)}{i\\omega} + \\frac{1}{\\omega^{2}}\\right)e^{-i\\omega (-1)}\\right) = $$\n",
    "\n",
    "$$ = \\boxed{\\frac{1}{\\sqrt{2\\pi}}\\left(\\left(\\frac{i}{\\omega} + \\frac{1}{\\omega^{2}}\\right)e^{-i\\omega} - \\left(-\\frac{i}{\\omega} + \\frac{1}{\\omega^{2}}\\right)e^{i\\omega}\\right)} =$$\n",
    "\n",
    "$$ = \\frac{1}{\\sqrt{2\\pi}}\\left(\\frac{i}{\\omega} + \\frac{1}{\\omega^{2}} - \\left(-\\frac{i}{\\omega} + \\frac{1}{\\omega^{2}}\\right)e^{2i\\omega}\\right)e^{-i\\omega} = \\frac{1}{\\sqrt{2\\pi}}\\left(\\frac{i\\omega + 1 + (i\\omega-1)e^{2i\\omega}}{\\omega^{2}}\\right)e^{-i\\omega} = $$\n",
    "\n",
    "$$= \\boxed{\\frac{\\sqrt{2}\\left(i\\omega + (i\\omega-1)e^{2i\\omega}+ 1\\right)e^{-i\\omega}}{2\\sqrt{\\pi}\\omega^{2}}}$$\n",
    "\n",
    "Considerando $\\omega = 0$, temos:\n",
    "\n",
    "$$F(0) = lim_{\\omega \\to 0} \\frac{1}{\\sqrt{2\\pi}}\\left(\\frac{i\\omega + 1 + (i\\omega-1)e^{2i\\omega}}{\\omega^{2}}\\right)e^{-i\\omega} = \\frac{1}{\\sqrt{2\\pi}}lim_{\\omega \\to 0} \\left(\\frac{(i\\omega + 1)e^{-i\\omega} + (i\\omega-1)e^{i\\omega}}{\\omega^{2}}\\right) =$$\n",
    "\n",
    "$$ = lim_{\\omega \\to 0} \\frac{\\left((i\\omega + 1)e^{-i\\omega} + (i\\omega-1)e^{i\\omega}\\right)'}{(\\omega^{2})'} = lim_{\\omega \\to 0} \\frac{(i\\omega + 1)(-ie^{-i\\omega}) + ie^{-i\\omega} + (i\\omega - 1)ie^{i\\omega} + ie^{i\\omega}}{2\\omega} = $$\n",
    "\n",
    "$$ = lim_{\\omega \\to 0} \\frac{\\omega e^{-i\\omega} - ie^{-i\\omega} + ie^{-i\\omega}-\\omega e^{i\\omega}-ie^{i\\omega} + ie^{i\\omega}}{2\\omega} = lim_{\\omega \\to 0} \\frac{\\omega e^{-i\\omega} -\\omega e^{i\\omega}}{2\\omega} = $$\n",
    "\n",
    "$$ = lim_{\\omega \\to 0} \\frac{\\omega\\left( e^{-i\\omega} -e^{i\\omega}\\right)}{2\\omega} = lim_{\\omega \\to 0} \\frac{e^{-i\\omega} -e^{i\\omega}}{2} = \\frac{e^{-i\\cdot0}-e^{i\\cdot0}}{2} = \\frac{1-1}{2} = \\boxed{0}$$"
   ]
  },
  {
   "cell_type": "markdown",
   "id": "272e5dd6",
   "metadata": {},
   "source": [
    "##### Solução Computacional"
   ]
  },
  {
   "cell_type": "markdown",
   "id": "e91657bd",
   "metadata": {},
   "source": [
    "**Item \"a\"**:"
   ]
  },
  {
   "cell_type": "code",
   "execution_count": 15,
   "id": "a72cf734",
   "metadata": {
    "ExecuteTime": {
     "end_time": "2024-10-30T23:52:12.086606Z",
     "start_time": "2024-10-30T23:52:11.578411Z"
    }
   },
   "outputs": [
    {
     "data": {
      "text/latex": [
       "$\\displaystyle \\begin{cases} \\frac{\\sqrt{2} i \\left(\\left(e^{i \\omega} - 2\\right) e^{i \\omega} + 1\\right) e^{- i \\omega}}{2 \\sqrt{\\pi} \\omega} & \\text{for}\\: \\left(\\omega > -\\infty \\vee \\omega > 0\\right) \\wedge \\left(\\omega > -\\infty \\vee \\omega < \\infty\\right) \\wedge \\left(\\omega > 0 \\vee \\omega < 0\\right) \\wedge \\left(\\omega < 0 \\vee \\omega < \\infty\\right) \\\\0 & \\text{otherwise} \\end{cases}$"
      ],
      "text/plain": [
       "Piecewise((sqrt(2)*I*((exp(I*omega) - 2)*exp(I*omega) + 1)*exp(-I*omega)/(2*sqrt(pi)*omega), ((omega > -oo) | (omega > 0)) & ((omega > -oo) | (omega < oo)) & ((omega > 0) | (omega < 0)) & ((omega < 0) | (omega < oo))), (0, True))"
      ]
     },
     "execution_count": 15,
     "metadata": {},
     "output_type": "execute_result"
    }
   ],
   "source": [
    "import sympy as sp\n",
    "\n",
    "# Definindo as variáveis\n",
    "x, omega = sp.symbols('x omega')\n",
    "\n",
    "# Definindo a função f(x) com uma representação simétrica clara\n",
    "f = Piecewise((-1, (x > -1) & (x < 0)), (1, (x >= 0) & (x < 1)), (0, True))\n",
    "\n",
    "# Fator de normalização\n",
    "norm = 2*sp.pi\n",
    "\n",
    "# Calculando a Transformada de Fourier\n",
    "F_omega = sp.fourier_transform(sp.sqrt(1/norm)*f, x, omega/(norm))\n",
    "\n",
    "F_omega"
   ]
  },
  {
   "cell_type": "markdown",
   "id": "b126dbd9",
   "metadata": {},
   "source": [
    "**Item \"b\"**:"
   ]
  },
  {
   "cell_type": "code",
   "execution_count": 16,
   "id": "681eb7d9",
   "metadata": {
    "ExecuteTime": {
     "end_time": "2024-10-30T23:52:12.541789Z",
     "start_time": "2024-10-30T23:52:12.088155Z"
    }
   },
   "outputs": [
    {
     "data": {
      "text/latex": [
       "$\\displaystyle \\begin{cases} \\frac{\\sqrt{2} \\left(i \\omega + \\left(i \\omega - 1\\right) e^{2 i \\omega} + 1\\right) e^{- i \\omega}}{2 \\sqrt{\\pi} \\omega^{2}} & \\text{for}\\: \\left(\\omega > -\\infty \\vee \\omega > 0\\right) \\wedge \\left(\\omega > -\\infty \\vee \\omega < \\infty\\right) \\wedge \\left(\\omega > 0 \\vee \\omega < 0\\right) \\wedge \\left(\\omega < 0 \\vee \\omega < \\infty\\right) \\\\0 & \\text{otherwise} \\end{cases}$"
      ],
      "text/plain": [
       "Piecewise((sqrt(2)*(I*omega + (I*omega - 1)*exp(2*I*omega) + 1)*exp(-I*omega)/(2*sqrt(pi)*omega**2), ((omega > -oo) | (omega > 0)) & ((omega > -oo) | (omega < oo)) & ((omega > 0) | (omega < 0)) & ((omega < 0) | (omega < oo))), (0, True))"
      ]
     },
     "execution_count": 16,
     "metadata": {},
     "output_type": "execute_result"
    }
   ],
   "source": [
    "import sympy as sp\n",
    "\n",
    "# Definindo as variáveis\n",
    "x, omega = sp.symbols('x omega')\n",
    "\n",
    "# Definindo a função f(x) com uma representação simétrica clara\n",
    "f = sp.Piecewise((x, (x > -1) & (x < 1)), (0, True))\n",
    "\n",
    "# Fator de normalização\n",
    "norm = 2*sp.pi\n",
    "\n",
    "# Calculando a Transformada de Fourier\n",
    "F_omega = sp.fourier_transform(sp.sqrt(1/norm)*f, x, omega/(norm))\n",
    "\n",
    "F_omega"
   ]
  },
  {
   "cell_type": "markdown",
   "id": "3a22253d",
   "metadata": {},
   "source": [
    "#### Questão 6"
   ]
  },
  {
   "cell_type": "markdown",
   "id": "d015d933",
   "metadata": {},
   "source": [
    "Determine as transformadas inversas das funções:\n",
    "\n",
    "a) $F(\\omega) = \\frac{3}{2 + 5i\\omega}$\n",
    "\n",
    "b) $G(\\omega) = \\frac{e^{|\\omega|}+2}{2e^{2|\\omega|}}$"
   ]
  },
  {
   "cell_type": "markdown",
   "id": "31faa510",
   "metadata": {},
   "source": [
    "##### Solução Escrita"
   ]
  },
  {
   "cell_type": "markdown",
   "id": "320ef8aa",
   "metadata": {},
   "source": [
    "a) Temos que\n",
    "\n",
    "$$\\mathscr{F}^{-1}[F(\\omega)] = \\mathscr{F}^{-1}\\left[\\frac{3}{2 + 5i\\omega} \\right] = \\mathscr{F}^{-1}\\left[\\frac{3}{5\\left(\\frac{2}{5} + i\\omega\\right)} \\right] = \\frac{3}{5}\\mathscr{F}^{-1}\\left[\\frac{1}{\\frac{2}{5} + i\\omega} \\right] =  $$\n",
    "\n",
    "$$ = \\frac{3}{5}\\mathscr{F}^{-1}\\left[\\frac{\\sqrt{2\\pi}}{\\sqrt{2\\pi}}\\frac{1}{\\frac{2}{5} + i\\omega} \\right] =  \\frac{3\\sqrt{2\\pi}}{5}\\mathscr{F}^{-1}\\left[\\frac{1}{\\sqrt{2\\pi}}\\frac{1}{\\frac{2}{5} + i\\omega} \\right] = \\left\\{\\begin{array}{cc}\n",
    "\t\\frac{3\\sqrt{2\\pi}}{5}e^{-\\frac{2}{5}x}, & x \\geq 0\\\\\n",
    "\t0, & x < 0\\\\ \\end{array}\\right.$$\n",
    "    \n",
    "b) Temos que\n",
    "\n",
    "$$\\mathscr{F}^{-1}[F(\\omega)] = \\mathscr{F}^{-1}\\left[\\frac{e^{|\\omega|}+2}{2e^{2|\\omega|}} \\right] =  \\mathscr{F}^{-1}\\left[\\frac{e^{|\\omega|}}{2e^{2|\\omega|}} + \\frac{2}{2e^{2|\\omega|}} \\right] = \\mathscr{F}^{-1}\\left[\\frac{1}{2e^{|\\omega|}} + \\frac{}{e^{2|\\omega|}} \\right] = $$\n",
    "\n",
    "$$= \\mathscr{F}^{-1}\\left[\\frac{e^{-|\\omega|}}{2} + e^{-2|\\omega|} \\right] = \\mathscr{F}^{-1}\\left[\\frac{e^{-|\\omega|}}{2}\\right] + \\mathscr{F}^{-1}\\left[ e^{-2|\\omega|} \\right]  = $$\n",
    "\n",
    "$$ = \\mathscr{F}^{-1}\\left[\\frac{1}{\\sqrt{2\\pi}}\\left(\\frac{\\sqrt{2\\pi}}{2\\cdot1}e^{-|\\omega|}\\right)\\right] + \\mathscr{F}^{-1}\\left[\\frac{2\\cdot2}{\\sqrt{2\\pi}}\\left(\\frac{\\sqrt{2\\pi}}{2\\cdot2}e^{-2|\\omega|}\\right) \\right] = $$\n",
    "\n",
    "$$ = \\frac{1}{\\sqrt{2\\pi}}\\mathscr{F}^{-1}\\left[\\frac{\\sqrt{2\\pi}}{2\\cdot1}e^{-|\\omega|}\\right] + \\frac{4}{\\sqrt{2\\pi}}\\mathscr{F}^{-1}\\left[\\frac{\\sqrt{2\\pi}}{2\\cdot2}e^{-2|\\omega|}\\right] = $$\n",
    "\n",
    "$$ = \\frac{1}{\\sqrt{2\\pi}}\\frac{1}{x^{2}+1^{2}} + \\frac{4}{\\sqrt{2\\pi}}\\frac{1}{x^{2}+4^{2}} = \\boxed{\\frac{1}{\\sqrt{2\\pi}}\\left(\\frac{1}{x^{2}+1} + \\frac{4}{x^{2}+4}\\right)}$$"
   ]
  },
  {
   "cell_type": "markdown",
   "id": "9da961ca",
   "metadata": {},
   "source": [
    "##### Solução Computacional"
   ]
  },
  {
   "cell_type": "markdown",
   "id": "43eb7322",
   "metadata": {},
   "source": [
    "*Devido à dificulades de calcularmos a transformada inversa vejamos o cálculo reverso, isto é, das transformada de*\n",
    "\n",
    "$$f(x) = \\left\\{\\begin{array}{cc}\n",
    "\t\\frac{3\\sqrt{2\\pi}}{5}e^{-\\frac{2}{5}x}, & x \\geq 0\\\\\n",
    "\t0, & x < 0\\\\ \\end{array}\\right.$$\n",
    "    \n",
    "*e*\n",
    "\n",
    "$$g(x) = \\frac{e^{|\\omega|} + 2}{2e^{2|\\omega|}}$$"
   ]
  },
  {
   "cell_type": "markdown",
   "id": "165ee8c5",
   "metadata": {},
   "source": [
    "**Item \"a\":**"
   ]
  },
  {
   "cell_type": "code",
   "execution_count": 17,
   "id": "24d22959",
   "metadata": {
    "ExecuteTime": {
     "end_time": "2024-10-30T23:52:13.072740Z",
     "start_time": "2024-10-30T23:52:12.543787Z"
    }
   },
   "outputs": [
    {
     "data": {
      "text/latex": [
       "$\\displaystyle \\frac{3.0}{5 i \\omega + 2}$"
      ],
      "text/plain": [
       "3.0/(5*I*omega + 2)"
      ]
     },
     "execution_count": 17,
     "metadata": {},
     "output_type": "execute_result"
    }
   ],
   "source": [
    "import sympy as sp\n",
    "\n",
    "# Definir as variáveis simbólicas\n",
    "x, w = sp.symbols('x w', real=True)\n",
    "\n",
    "# Definindo f\n",
    "f= ((3/5)*sp.sqrt(2*sp.pi))*(sp.exp(-2*x/5))* sp.Heaviside(x)\n",
    "\n",
    "# Fator de normalização\n",
    "norm = 2*sp.pi\n",
    "\n",
    "# Calculando a Transformada de Fourier\n",
    "F_omega = sp.fourier_transform(sp.sqrt(1/norm)*f, x, omega/(norm))\n",
    "\n",
    "F_omega"
   ]
  },
  {
   "cell_type": "markdown",
   "id": "eeee1fc4",
   "metadata": {},
   "source": [
    "**Item \"b\":**"
   ]
  },
  {
   "cell_type": "code",
   "execution_count": 18,
   "id": "ed076c2a",
   "metadata": {
    "ExecuteTime": {
     "end_time": "2024-10-30T23:52:14.390057Z",
     "start_time": "2024-10-30T23:52:13.074560Z"
    }
   },
   "outputs": [
    {
     "data": {
      "text/latex": [
       "$\\displaystyle \\frac{e^{- \\omega}}{2} + e^{- 2 \\omega}$"
      ],
      "text/plain": [
       "exp(-omega)/2 + exp(-2*omega)"
      ]
     },
     "execution_count": 18,
     "metadata": {},
     "output_type": "execute_result"
    }
   ],
   "source": [
    "import sympy as sp\n",
    "\n",
    "# Definir as variáveis simbólicas\n",
    "x, w = sp.symbols('x w', real=True)\n",
    "\n",
    "# Definindo f\n",
    "g1 = (1/sp.sqrt(2*sp.pi))/(x**2+1)\n",
    "g2 = (4/sp.sqrt(2*sp.pi))/(x**2+4)\n",
    "\n",
    "# Fator de normalização\n",
    "norm = 2*sp.pi\n",
    "\n",
    "# Calculando a Transformada de Fourier\n",
    "G1_omega = sp.fourier_transform(sp.sqrt(1/norm)*g1, x, omega/(norm))\n",
    "G2_omega = sp.fourier_transform(sp.sqrt(1/norm)*g2, x, omega/(norm))\n",
    "\n",
    "G_omega = G1_omega + G2_omega\n",
    "\n",
    "G_omega"
   ]
  },
  {
   "cell_type": "markdown",
   "id": "6d1d8a73",
   "metadata": {},
   "source": [
    "*Note que temos $-\\omega$ ao invés de $-|\\omega|$. Muito provavélmente só está se considerando $\\omega > 0$.*"
   ]
  },
  {
   "cell_type": "markdown",
   "id": "cf12e0a3",
   "metadata": {},
   "source": [
    "#### Questão 7"
   ]
  },
  {
   "cell_type": "markdown",
   "id": "8b89d3ce",
   "metadata": {},
   "source": [
    "Calcule a convolução $(f*g)(x)$ das funções\n",
    "\n",
    "a) $$f(x) = \\left\\{\\begin{array}{cc}\n",
    "\t\tx, & 0 < x < 1 \\\\\n",
    "\t\t0, & \\text{caso contrário}\\\\\n",
    "\t\\end{array}\\right. \\ \\ \\ \\text{e} \\ \\ \\ g(x) = \\left\\{\\begin{array}{cc}\n",
    "\t\t1-x, & 0 < x < 1\\\\\n",
    "\t\t0, & \\text{caso contrário}\\\\\n",
    "\t\\end{array}\\right.$$\n",
    "    \n",
    "b) $$f(x) = \\left\\{\\begin{array}{cc}\n",
    "\t\tx, & 0 < x < 1 \\\\\n",
    "\t\t0, & \\text{caso contrário}\\\\\n",
    "\t\\end{array}\\right. \\ \\ \\ \\text{e} \\ \\ \\ g(x) = \\left\\{\\begin{array}{cc}\n",
    "\t\te^{-x}, & x \\geq 0\\\\\n",
    "\t\t0, & x<0\\\\\n",
    "\t\\end{array}\\right.$$"
   ]
  },
  {
   "cell_type": "markdown",
   "id": "d44adecb",
   "metadata": {},
   "source": [
    "##### Solução Escrita"
   ]
  },
  {
   "cell_type": "markdown",
   "id": "3cc315bb",
   "metadata": {},
   "source": [
    "a) Primeiro precisamos escolher os limites de integração. Temos que:\n",
    "\n",
    " i) $f(x) = x$ se $0 \\leq x \\leq 1$\n",
    " \n",
    " ii) $g(x-u) = 1- (x-u) = 1- x+u$ se $0 \\leq x - u \\leq 1$\n",
    " \n",
    " Neste último caso, temos:\n",
    " \n",
    " $$0 \\leq x - u \\leq 1\\Rightarrow -1 \\leq u - x \\leq 0 \\Rightarrow x-1 \\leq u \\leq x $$\n",
    " \n",
    " Para que $f(u)g(x-u)$ seja $u\\cdot(1-x+u)$ temos que $u$ deve pertencer a $[0,1]$. Assim, os limites efetivos são:\n",
    " \n",
    " $$Max(0,x-1) \\leq u \\leq Min(1,x)$$\n",
    " \n",
    " Pois bem, vejamos cada intervalo:\n",
    " \n",
    " $\\bullet$ Quando $x \\leq 0$ temos que $(f*g)(x) = 0$.\n",
    " \n",
    " $\\bullet$ Quando $0 \\leq x \\leq 1$, o intervalo de $u$ que satisfaz ambas condições é de $0$ a $x$. Portanto,\n",
    " \n",
    " $$(f*g)(x) = \\int_{0}^{x} u\\cdot(1-x+u) du = \\int_{0}^{x} u-xu+u^{2} du =$$\n",
    " \n",
    " $$ = \\left.\\left(\\frac{u^{2}}{2}-x\\frac{u^{2}}{2}+\\frac{u^{3}}{3}\\right)\\right|_{0}^{x} = \\frac{x^{2}}{2} - \\frac{x^{3}}{6};$$\n",
    " \n",
    " $\\bullet$ Quando $1 < x \\leq 2$, o intervalo de $u$ que satisfaz ambas condições é de $x-1$ a $1$. Portanto,\n",
    " \n",
    " $$(f*g)(x) = \\int_{x-1}^{1} u\\cdot(1-x+u) du = \\int_{x-1}^{1} u-xu+u^{2} du =$$\n",
    " \n",
    " $$ = \\left(\\frac{1^{2}}{2} - x\\frac{1^{2}}{2} + \\frac{1^{3}}{3}\\right) - \\left(\\frac{(x-1)^{2}}{2}-x\\frac{(x-1)^{2}}{2} + \\frac{(x-1)^{3}}{3} \\right) = $$\n",
    " \n",
    " $$ = \\frac{5}{6} - \\frac{x}{2} - \\frac{(x-1)^{2}}{6}(3-3x+2(x-1)) = \\frac{5-3x}{6} - \\frac{(x-1)^{2}}{6}(3 - 3x + 2x -2) = $$\n",
    " \n",
    " $$ = \\frac{5-3x}{6} - \\frac{(x-1)^{2}}{6}(1-x) = \\frac{5-3x}{6} + \\frac{(x-1)^{3}}{6} = \\frac{5-3x + (x-1)^{3}}{6}$$\n",
    " \n",
    " \n",
    " Temos, em fim,\n",
    " \n",
    " $$\\boxed{(f*g)(x) = \\left\\{\\begin{array}{}\n",
    " 0, & x < 0 \\\\\n",
    " \\frac{x^{2}}{2} - \\frac{x^{3}}{6}, & 0 \\leq x \\leq 1  \\\\\n",
    " \\frac{5-3x + (x-1)^{3}}{6}, & 1<x\\leq 2 \\\\\n",
    " 0, & x >2 \\\\\n",
    " \\end{array}\\right.}$$"
   ]
  },
  {
   "cell_type": "markdown",
   "id": "0c56e1bd",
   "metadata": {},
   "source": [
    "b) Primeiro precisamos escolher os limites de integração. Temos que:\n",
    "\n",
    " i) $f(x) = x$ se $0 \\leq x \\leq 1$\n",
    " \n",
    " ii) $g(x-u) = e^{-(x-u)}$ se $0 \\leq x - u < \\infty$\n",
    " \n",
    " Neste último caso, temos:\n",
    " \n",
    " $$0 \\leq x - u < \\infty\\Rightarrow u \\leq x \\Rightarrow -\\infty \\leq u \\leq x$$\n",
    " \n",
    " Para que $f(u)g(x-u)$ seja $1\\cdot e^{-(x-u)}$ temos que $u$ deve pertencer a $[0,1] \\cap [0,\\infty)$. Assim, os limites efetivos são:\n",
    " \n",
    " $$Max(-\\infty,0) \\leq u \\leq Min(1,x)$$\n",
    " \n",
    " Pois bem, vejamos cada intervalo:\n",
    " \n",
    " $\\bullet$ Quando $x \\leq 0$ temos que $(f*g)(x) = 0$.\n",
    " \n",
    " $\\bullet$ Quando $0 \\leq x \\leq 1$, o intervalo de $u$ que satisfaz ambas condições é de $0$ a $x$. Portanto,\n",
    " \n",
    " $$(f*g)(x) = \\int_{0}^{x} ue^{-(x-u)} du =^{[pp]} \\left.\\left(ue^{-(x-u)} - \\int e^{-(x-u)}\\right)\\right|_{0}^{x} = \\left.\\left(ue^{-(x-u)} - \\int e^{-(x-u)}\\right)\\right|_{0}^{x} = $$\n",
    " \n",
    " $$ = \\left.\\left(ue^{-(x-u)} -e^{-(x-u)}\\right)\\right|_{0}^{x} = \\left(xe^{-(x-x)} -e^{-(x-x)} \\right) - \\left(0e^{-(x-0)} -e^{-(x-0)} \\right) = x - 1 + e^{-x}$$\n",
    " \n",
    " $\\bullet$ Quando $x > 1$, o intervalo de $u$ que satisfaz ambas condições é de $0$ a $1$. Portanto,\n",
    " \n",
    " $$(f*g)(x) = \\int_{0}^{1} ue^{-(x-u)} du = \\left.\\left(ue^{-(x-u)} -e^{-(x-u)}\\right)\\right|_{0}^{1} =$$\n",
    " \n",
    " $$ = \\left(1e^{-(x-1)} - e^{-(x-1)}\\right) - \\left(0e^{-(x-0)} - e^{-(x-0)}\\right) = e^{-x}$$\n",
    "\n",
    "Temos, em fim,\n",
    " \n",
    " $$(f*g)(x) = \\left\\{\\begin{array}{}\n",
    " 0, & x < 0 \\\\\n",
    " x - 1 + e^{-x}, & 0 \\leq x \\leq 1  \\\\\n",
    " e^{-x}, & x > 1 \\\\\n",
    " \\end{array}\\right.$$"
   ]
  },
  {
   "cell_type": "markdown",
   "id": "95380751",
   "metadata": {},
   "source": [
    "##### Solução Computacional"
   ]
  },
  {
   "cell_type": "markdown",
   "id": "880fae0e",
   "metadata": {},
   "source": [
    "**Item \"a\":**"
   ]
  },
  {
   "cell_type": "markdown",
   "id": "c4cab402",
   "metadata": {},
   "source": [
    "Embora não tenhamos a implementação da resposta algébrica podemos comparar os gráficos obtidos via GeoGebra (da função obtida) e o gráfico da convolução conforme o material [link](https://www.geogebra.org/graphing/kvvpvaa4):"
   ]
  },
  {
   "cell_type": "markdown",
   "id": "3e3b33f5",
   "metadata": {},
   "source": [
    "**GeoGebra**:"
   ]
  },
  {
   "cell_type": "markdown",
   "id": "fc025b88",
   "metadata": {},
   "source": [
    "<center> <img src=\"fig1.jpg\" alt=\"jpg_python\" width=\"800\" height=\"\"> </center>"
   ]
  },
  {
   "cell_type": "markdown",
   "id": "21fdc758",
   "metadata": {},
   "source": [
    "**Python**:"
   ]
  },
  {
   "cell_type": "code",
   "execution_count": 19,
   "id": "e1126e15",
   "metadata": {
    "ExecuteTime": {
     "end_time": "2024-10-30T23:52:15.349688Z",
     "start_time": "2024-10-30T23:52:14.392704Z"
    }
   },
   "outputs": [
    {
     "data": {
      "image/png": "[encoded data removed]",
      "text/plain": [
       "<Figure size 1000x300 with 1 Axes>"
      ]
     },
     "metadata": {},
     "output_type": "display_data"
    }
   ],
   "source": [
    "import numpy as np\n",
    "import matplotlib.pyplot as plt\n",
    "\n",
    "# Define os intervalos e a discretização\n",
    "x = np.linspace(-1, 3, 1000)  # Cobrindo todo o intervalo de interesse de ambas as funções\n",
    "dx = x[1] - x[0]  # Espaçamento entre os pontos\n",
    "\n",
    "# Definindo as funções\n",
    "f = np.where((x >= 0) & (x <= 1), x, 0)\n",
    "g = np.where((x >= 0) & (x <= 1), 1-x, 0)\n",
    "\n",
    "# Calculando a convolução usando numpy.convolve\n",
    "convolution = np.convolve(f, g, mode='full') * dx  # O produto dx é necessário para escalar corretamente a convolução\n",
    "\n",
    "# Ajustando o array de tempo para o resultado da convolução\n",
    "t = np.linspace(2*x[0], 2*x[-1], len(convolution))\n",
    "\n",
    "# Plotando os resultados\n",
    "plt.figure(figsize=(10, 3))\n",
    "plt.plot(t, convolution, 'b', label='Convolução f*g')\n",
    "plt.title('Convolução f e g')\n",
    "plt.xlabel('t')\n",
    "plt.plot(1.2,0.234666666667,'o',color='r',label='$P_{teste}$') # Ponto de teste\n",
    "plt.ylabel('(f * g)(x)')\n",
    "plt.legend()\n",
    "plt.grid(True)\n",
    "plt.show()\n"
   ]
  },
  {
   "cell_type": "markdown",
   "id": "893d1cfc",
   "metadata": {},
   "source": [
    "**Item \"b\":**"
   ]
  },
  {
   "cell_type": "markdown",
   "id": "3dd860ef",
   "metadata": {},
   "source": [
    "**GeoGebra**:"
   ]
  },
  {
   "cell_type": "markdown",
   "id": "10c2ad29",
   "metadata": {},
   "source": [
    "Analogamente ao item \"a\" podemos comparar os gráficos obtidos via GeoGebra (da função obtida) e o gráfico da convolução conforme o material [link](https://www.geogebra.org/graphing/hdqfumff):"
   ]
  },
  {
   "cell_type": "markdown",
   "id": "3d968e46",
   "metadata": {},
   "source": [
    "<center> <img src=\"fig2.jpg\" alt=\"jpg_python\" width=\"800\" height=\"\"> </center>"
   ]
  },
  {
   "cell_type": "markdown",
   "id": "d432c389",
   "metadata": {},
   "source": [
    "**Python**:"
   ]
  },
  {
   "cell_type": "code",
   "execution_count": 20,
   "id": "dc05f5c0",
   "metadata": {
    "ExecuteTime": {
     "end_time": "2024-10-30T23:52:15.534406Z",
     "start_time": "2024-10-30T23:52:15.352470Z"
    }
   },
   "outputs": [
    {
     "data": {
      "image/png": "[encoded data removed]",
      "text/plain": [
       "<Figure size 1000x300 with 1 Axes>"
      ]
     },
     "metadata": {},
     "output_type": "display_data"
    }
   ],
   "source": [
    "import numpy as np\n",
    "import matplotlib.pyplot as plt\n",
    "\n",
    "# Define os intervalos e a discretização\n",
    "x = np.linspace(-1, 5, 1000)  # Cobrindo todo o intervalo de interesse de ambas as funções\n",
    "dx = x[1] - x[0]  # Espaçamento entre os pontos\n",
    "\n",
    "# Definindo as funções\n",
    "f = np.where((x >= 0) & (x <= 1), x, 0)\n",
    "g = np.where(x >= 0, np.exp(-x), 0)\n",
    "\n",
    "# Calculando a convolução usando numpy.convolve\n",
    "convolution = np.convolve(f, g, mode='full') * dx  # O produto dx é necessário para escalar corretamente a convolução\n",
    "\n",
    "# Ajustando o array de tempo para o resultado da convolução\n",
    "t = np.linspace(2*x[0], 2*x[-1], len(convolution))\n",
    "\n",
    "# Plotando os resultados\n",
    "plt.figure(figsize=(10, 3))\n",
    "plt.plot(t, convolution, 'b', label='Convolução f*g')\n",
    "plt.title('Convolução f e g')\n",
    "plt.xlabel('t')\n",
    "plt.plot(1.4,0.246597,'o',color='r',label='$P_{teste}$') # Ponto de teste\n",
    "plt.ylabel('(f * g)(x)')\n",
    "plt.legend()\n",
    "plt.grid(True)\n",
    "plt.show()\n"
   ]
  }
 ],
 "metadata": {
  "kernelspec": {
   "display_name": "Python 3 (ipykernel)",
   "language": "python",
   "name": "python3"
  },
  "language_info": {
   "codemirror_mode": {
    "name": "ipython",
    "version": 3
   },
   "file_extension": ".py",
   "mimetype": "text/x-python",
   "name": "python",
   "nbconvert_exporter": "python",
   "pygments_lexer": "ipython3",
   "version": "3.11.5"
  }
 },
 "nbformat": 4,
 "nbformat_minor": 5
}
